{
 "cells": [
  {
   "cell_type": "markdown",
   "metadata": {},
   "source": [
    "# 원더우먼 리뷰 감성 분석"
   ]
  },
  {
   "cell_type": "code",
   "execution_count": 109,
   "metadata": {},
   "outputs": [],
   "source": [
    "import pandas as pd\n",
    "\n",
    "df = pd.read_excel('./py_data/crawling/원더우먼_리뷰.xlsx', engine='openpyxl')"
   ]
  },
  {
   "cell_type": "code",
   "execution_count": 110,
   "metadata": {},
   "outputs": [],
   "source": [
    "def return_pn(number):\n",
    "    if number >= 5:\n",
    "        result = '긍정'\n",
    "    else:\n",
    "        result = '부정'\n",
    "    return result"
   ]
  },
  {
   "cell_type": "code",
   "execution_count": 111,
   "metadata": {},
   "outputs": [],
   "source": [
    "ls_pos_neg = []\n",
    "for point in df['점수']:\n",
    "    ls_pos_neg.append(return_pn(point))"
   ]
  },
  {
   "cell_type": "code",
   "execution_count": 112,
   "metadata": {},
   "outputs": [],
   "source": [
    "df['pos_neg'] = ls_pos_neg"
   ]
  },
  {
   "cell_type": "code",
   "execution_count": 113,
   "metadata": {},
   "outputs": [
    {
     "data": {
      "text/plain": [
       "4173"
      ]
     },
     "execution_count": 113,
     "metadata": {},
     "output_type": "execute_result"
    }
   ],
   "source": [
    "len(df)"
   ]
  },
  {
   "cell_type": "code",
   "execution_count": 114,
   "metadata": {},
   "outputs": [],
   "source": [
    "df = df[:4000]"
   ]
  },
  {
   "cell_type": "code",
   "execution_count": 115,
   "metadata": {},
   "outputs": [
    {
     "data": {
      "text/html": [
       "<div>\n",
       "<style scoped>\n",
       "    .dataframe tbody tr th:only-of-type {\n",
       "        vertical-align: middle;\n",
       "    }\n",
       "\n",
       "    .dataframe tbody tr th {\n",
       "        vertical-align: top;\n",
       "    }\n",
       "\n",
       "    .dataframe thead th {\n",
       "        text-align: right;\n",
       "    }\n",
       "</style>\n",
       "<table border=\"1\" class=\"dataframe\">\n",
       "  <thead>\n",
       "    <tr style=\"text-align: right;\">\n",
       "      <th></th>\n",
       "      <th>댓글</th>\n",
       "      <th>pos_neg</th>\n",
       "    </tr>\n",
       "  </thead>\n",
       "  <tbody>\n",
       "    <tr>\n",
       "      <th>0</th>\n",
       "      <td>탁당이 More More하면서 원더우먼과 대치할때 수어사이드 스쿼드의 엉덩이 춤의 ...</td>\n",
       "      <td>부정</td>\n",
       "    </tr>\n",
       "    <tr>\n",
       "      <th>1</th>\n",
       "      <td>DC가 DC했다.</td>\n",
       "      <td>부정</td>\n",
       "    </tr>\n",
       "    <tr>\n",
       "      <th>2</th>\n",
       "      <td>원더 우먼이라는 캐릭터 자체가 별다른 매력없이 소비되고, 흥미롭게 시작하는 첫부분은...</td>\n",
       "      <td>부정</td>\n",
       "    </tr>\n",
       "    <tr>\n",
       "      <th>3</th>\n",
       "      <td>오락영화가 이정도면 괜찮을듯한데... 스토리도 괜찮았음.  갤가돗은 예뻤고.. 마블...</td>\n",
       "      <td>긍정</td>\n",
       "    </tr>\n",
       "    <tr>\n",
       "      <th>4</th>\n",
       "      <td>진짜 보다가 잤음 노젬 돈 아까움</td>\n",
       "      <td>부정</td>\n",
       "    </tr>\n",
       "  </tbody>\n",
       "</table>\n",
       "</div>"
      ],
      "text/plain": [
       "                                                  댓글 pos_neg\n",
       "0  탁당이 More More하면서 원더우먼과 대치할때 수어사이드 스쿼드의 엉덩이 춤의 ...      부정\n",
       "1                                         DC가 DC했다.       부정\n",
       "2  원더 우먼이라는 캐릭터 자체가 별다른 매력없이 소비되고, 흥미롭게 시작하는 첫부분은...      부정\n",
       "3  오락영화가 이정도면 괜찮을듯한데... 스토리도 괜찮았음.  갤가돗은 예뻤고.. 마블...      긍정\n",
       "4                                진짜 보다가 잤음 노젬 돈 아까움       부정"
      ]
     },
     "execution_count": 115,
     "metadata": {},
     "output_type": "execute_result"
    }
   ],
   "source": [
    "df = df[['댓글', 'pos_neg']]\n",
    "df.head()"
   ]
  },
  {
   "cell_type": "code",
   "execution_count": 116,
   "metadata": {},
   "outputs": [],
   "source": [
    "df = df.astype('str')"
   ]
  },
  {
   "cell_type": "code",
   "execution_count": 118,
   "metadata": {},
   "outputs": [],
   "source": [
    "df_train = df[:3600]\n",
    "df_test = df[3600:]"
   ]
  },
  {
   "cell_type": "code",
   "execution_count": 119,
   "metadata": {},
   "outputs": [
    {
     "name": "stdout",
     "output_type": "stream",
     "text": [
      "3600\n",
      "400\n",
      "0.1\n"
     ]
    }
   ],
   "source": [
    "print(len(df_train))\n",
    "print(len(df_test))\n",
    "print(len(df_test)/(len(df_train)+len(df_test)))"
   ]
  },
  {
   "cell_type": "code",
   "execution_count": 120,
   "metadata": {},
   "outputs": [],
   "source": [
    "train = []\n",
    "for t in df_train.iterrows():\n",
    "    train.append((t[1][0], t[1][1]))\n",
    "\n",
    "test = []\n",
    "for t in df_test.iterrows():\n",
    "    test.append((t[1][0], t[1][1]))"
   ]
  },
  {
   "cell_type": "markdown",
   "metadata": {},
   "source": [
    "- 긍/부정 비율"
   ]
  },
  {
   "cell_type": "code",
   "execution_count": 176,
   "metadata": {},
   "outputs": [
    {
     "name": "stdout",
     "output_type": "stream",
     "text": [
      "학습 데이터 >>> pos: 1756, neg: 1844, 비율: 0.49 / 0.51\n",
      "평가 데이터 >>> pos: 290, neg: 110, 비율: 0.49 / 0.51\n"
     ]
    }
   ],
   "source": [
    "train_pos , train_neg, test_pos , test_neg = 0, 0, 0, 0\n",
    "\n",
    "for t in train:\n",
    "    if t[1] == '긍정':\n",
    "        train_pos += 1\n",
    "    elif t[1] == '부정':\n",
    "        train_neg += 1\n",
    "        \n",
    "for t in test:\n",
    "    if t[1] == '긍정':\n",
    "        test_pos += 1\n",
    "    elif t[1] == '부정':\n",
    "        test_neg += 1\n",
    "        \n",
    "print(f'학습 데이터 >>> pos: {train_pos}, neg: {train_neg}, 비율: {train_pos/(train_pos+train_neg):.2f} / {train_neg/(train_pos+train_neg):.2f}')\n",
    "print(f'평가 데이터 >>> pos: {test_pos}, neg: {test_neg}, 비율: {train_pos/(train_pos+train_neg):.2f} / {train_neg/(train_pos+train_neg):.2f}')"
   ]
  },
  {
   "cell_type": "code",
   "execution_count": 125,
   "metadata": {},
   "outputs": [
    {
     "name": "stdout",
     "output_type": "stream",
     "text": [
      "training time: 1.1191531658172607 min\n",
      "test time: 1.502736254533132 min\n",
      "Accuracy:  0.745\n"
     ]
    }
   ],
   "source": [
    "from textblob.classifiers import NaiveBayesClassifier\n",
    "from tqdm import tqdm\n",
    "import time\n",
    "\n",
    "# train\n",
    "start = time.time()\n",
    "pos_neg = NaiveBayesClassifier(train)\n",
    "print('training time: {} min'.format((time.time()-start)/60))\n",
    "\n",
    "# test\n",
    "start = time.time()\n",
    "accuracy = pos_neg.accuracy(test)\n",
    "print('test time: {} min'.format((time.time()-start)/60))\n",
    "print('Accuracy: ', accuracy)"
   ]
  },
  {
   "cell_type": "code",
   "execution_count": 127,
   "metadata": {},
   "outputs": [
    {
     "name": "stdout",
     "output_type": "stream",
     "text": [
      "Most Informative Features\n",
      "           contains(최악의) = True               부정 : 긍정     =     20.0 : 1.0\n",
      "         contains(좋았습니다) = True               긍정 : 부정     =     15.8 : 1.0\n",
      "           contains(아깝다) = True               부정 : 긍정     =     15.6 : 1.0\n",
      "          contains(재밌어요) = True               긍정 : 부정     =     15.1 : 1.0\n",
      "           contains(쓰레기) = True               부정 : 긍정     =     14.3 : 1.0\n",
      "          contains(재미없음) = True               부정 : 긍정     =     11.1 : 1.0\n",
      "           contains(영화라) = True               긍정 : 부정     =     10.9 : 1.0\n",
      "            contains(이걸) = True               부정 : 긍정     =     10.5 : 1.0\n",
      "           contains(봤어요) = True               긍정 : 부정     =     10.4 : 1.0\n",
      "           contains(여전히) = True               긍정 : 부정     =     10.2 : 1.0\n"
     ]
    }
   ],
   "source": [
    "pos_neg.show_informative_features()"
   ]
  },
  {
   "cell_type": "markdown",
   "metadata": {},
   "source": [
    "# 원더우먼 리뷰 감성분석 - 형태소 분석"
   ]
  },
  {
   "cell_type": "code",
   "execution_count": 153,
   "metadata": {},
   "outputs": [],
   "source": [
    "from konlpy.tag import Okt\n",
    "\n",
    "okt = Okt()\n",
    "\n",
    "train_data = [(['/'.join(token) for token in okt.pos(sentence)], result) for sentence, result in train]\n",
    "test_data = [(['/'.join(token) for token in okt.pos(sentence)], result) for sentence, result in test]"
   ]
  },
  {
   "cell_type": "code",
   "execution_count": 154,
   "metadata": {},
   "outputs": [
    {
     "name": "stdout",
     "output_type": "stream",
     "text": [
      "(['탁/Noun', '당/Suffix', '이/Josa', 'More/Alpha', 'More/Alpha', '하면서/Verb', '원더우먼/Noun', '과/Josa', '대치/Noun', '할/Verb', '때/Noun', '수어/Noun', '사이드/Noun', '스쿼드/Noun', '의/Josa', '엉덩이/Noun', '춤/Noun', '의/Josa', '악몽/Noun', '이/Josa', '떠오르더군요/Verb', './Punctuation', 'DC/Alpha', '는/Verb', '대본/Noun', '과/Josa', '연출/Noun', '이/Josa', '마블/Noun', '대비/Noun', '고루/Noun', '한/Josa', '것/Noun', '같아요/Adjective', './Punctuation', '보통/Noun', '미드/Noun', '의/Josa', '작가진은/Adjective', '탄탄하던데/Adjective', 'DC/Alpha', '영화/Noun', '작가진은/Adjective', '어설픈것/Adjective', '같아/Adjective', '안타깝습니다/Adjective', './Punctuation', '수어/Noun', '사이드/Noun', '스쿼드/Noun', ',/Punctuation', '샤잠/Noun', '.../Punctuation', '저스티스리그/Noun', '는/Josa', '조금/Noun', '낫긴/Verb', '했는데/Verb', '.../Punctuation', '아쉽게도/Adjective', '마블/Noun', '과/Josa', '너무/Adverb', '대비/Noun', '되네요/Verb', './Punctuation', '재미있는/Adjective', 'DC/Alpha', '영화/Noun', '가/Josa', '나오길/Verb', '아직/Adverb', '기다려/Verb', '봅니다/Verb', './Punctuation'], '부정')\n"
     ]
    }
   ],
   "source": [
    "print(train_data[0])"
   ]
  },
  {
   "cell_type": "code",
   "execution_count": 155,
   "metadata": {},
   "outputs": [
    {
     "name": "stdout",
     "output_type": "stream",
     "text": [
      "(['잘생긴/Adjective', '남주/Verb', '여주/Noun', '얼굴/Noun', '말고/Josa', '볼거/Verb', '없음/Adjective'], '부정')\n"
     ]
    }
   ],
   "source": [
    "print(test_data[0])"
   ]
  },
  {
   "cell_type": "code",
   "execution_count": 156,
   "metadata": {},
   "outputs": [
    {
     "name": "stdout",
     "output_type": "stream",
     "text": [
      "training time: 0.7658995588620504 min\n",
      "test time: 0.9329940954844157 min\n",
      "Accuracy:  0.7725\n"
     ]
    }
   ],
   "source": [
    "from textblob.classifiers import NaiveBayesClassifier\n",
    "from tqdm import tqdm\n",
    "import time\n",
    "\n",
    "# train\n",
    "start = time.time()\n",
    "pos_neg = NaiveBayesClassifier(train_data)\n",
    "print('training time: {} min'.format((time.time()-start)/60))\n",
    "\n",
    "# test\n",
    "start = time.time()\n",
    "accuracy = pos_neg.accuracy(test_data)\n",
    "print('test time: {} min'.format((time.time()-start)/60))\n",
    "print('Accuracy: ', accuracy)"
   ]
  },
  {
   "cell_type": "code",
   "execution_count": 157,
   "metadata": {},
   "outputs": [
    {
     "name": "stdout",
     "output_type": "stream",
     "text": [
      "Most Informative Features\n",
      "       contains(최악/Noun) = True               부정 : 긍정     =     37.1 : 1.0\n",
      "contains(재밌어요/Adjective) = True               긍정 : 부정     =     22.8 : 1.0\n",
      " contains(아깝다/Adjective) = True               부정 : 긍정     =     21.9 : 1.0\n",
      "      contains(쓰레기/Noun) = True               부정 : 긍정     =     20.8 : 1.0\n",
      "      contains(봤어요/Verb) = True               긍정 : 부정     =     17.3 : 1.0\n",
      "contains(좋았습니다/Adjective) = True               긍정 : 부정     =     17.2 : 1.0\n",
      "       contains(역대/Noun) = True               부정 : 긍정     =     16.8 : 1.0\n",
      "      contains(0/Number) = True               부정 : 긍정     =     14.3 : 1.0\n",
      "contains(ㅡㅡ/KoreanParticle) = True               부정 : 긍정     =     14.3 : 1.0\n",
      "contains(재미없음/Adjective) = True               부정 : 긍정     =     14.3 : 1.0\n"
     ]
    }
   ],
   "source": [
    "pos_neg.show_informative_features()"
   ]
  },
  {
   "cell_type": "markdown",
   "metadata": {},
   "source": [
    "# 원더우먼 리뷰 감성분석 - 형태소 분석 / 조사 제거"
   ]
  },
  {
   "cell_type": "code",
   "execution_count": 159,
   "metadata": {},
   "outputs": [],
   "source": [
    "from konlpy.tag import Okt\n",
    "\n",
    "okt = Okt()\n",
    "\n",
    "train_data = [(['/'.join(token) for token in okt.pos(sentence) if token[1] != 'Josa'], result) for sentence, result in train]\n",
    "test_data = [(['/'.join(token) for token in okt.pos(sentence) if token[1] != 'Josa'], result) for sentence, result in test]"
   ]
  },
  {
   "cell_type": "code",
   "execution_count": 160,
   "metadata": {},
   "outputs": [
    {
     "name": "stdout",
     "output_type": "stream",
     "text": [
      "(['탁/Noun', '당/Suffix', 'More/Alpha', 'More/Alpha', '하면서/Verb', '원더우먼/Noun', '대치/Noun', '할/Verb', '때/Noun', '수어/Noun', '사이드/Noun', '스쿼드/Noun', '엉덩이/Noun', '춤/Noun', '악몽/Noun', '떠오르더군요/Verb', './Punctuation', 'DC/Alpha', '는/Verb', '대본/Noun', '연출/Noun', '마블/Noun', '대비/Noun', '고루/Noun', '것/Noun', '같아요/Adjective', './Punctuation', '보통/Noun', '미드/Noun', '작가진은/Adjective', '탄탄하던데/Adjective', 'DC/Alpha', '영화/Noun', '작가진은/Adjective', '어설픈것/Adjective', '같아/Adjective', '안타깝습니다/Adjective', './Punctuation', '수어/Noun', '사이드/Noun', '스쿼드/Noun', ',/Punctuation', '샤잠/Noun', '.../Punctuation', '저스티스리그/Noun', '조금/Noun', '낫긴/Verb', '했는데/Verb', '.../Punctuation', '아쉽게도/Adjective', '마블/Noun', '너무/Adverb', '대비/Noun', '되네요/Verb', './Punctuation', '재미있는/Adjective', 'DC/Alpha', '영화/Noun', '나오길/Verb', '아직/Adverb', '기다려/Verb', '봅니다/Verb', './Punctuation'], '부정')\n"
     ]
    }
   ],
   "source": [
    "print(train_data[0])"
   ]
  },
  {
   "cell_type": "code",
   "execution_count": 161,
   "metadata": {},
   "outputs": [
    {
     "name": "stdout",
     "output_type": "stream",
     "text": [
      "(['잘생긴/Adjective', '남주/Verb', '여주/Noun', '얼굴/Noun', '볼거/Verb', '없음/Adjective'], '부정')\n"
     ]
    }
   ],
   "source": [
    "print(test_data[0])"
   ]
  },
  {
   "cell_type": "code",
   "execution_count": 162,
   "metadata": {},
   "outputs": [
    {
     "name": "stdout",
     "output_type": "stream",
     "text": [
      "training time: 0.5741668740908304 min\n",
      "test time: 0.8835611740748087 min\n",
      "Accuracy:  0.7725\n"
     ]
    }
   ],
   "source": [
    "from textblob.classifiers import NaiveBayesClassifier\n",
    "from tqdm import tqdm\n",
    "import time\n",
    "\n",
    "# train\n",
    "start = time.time()\n",
    "pos_neg = NaiveBayesClassifier(train_data)\n",
    "print('training time: {} min'.format((time.time()-start)/60))\n",
    "\n",
    "# test\n",
    "start = time.time()\n",
    "accuracy = pos_neg.accuracy(test_data)\n",
    "print('test time: {} min'.format((time.time()-start)/60))\n",
    "print('Accuracy: ', accuracy)"
   ]
  },
  {
   "cell_type": "code",
   "execution_count": 163,
   "metadata": {},
   "outputs": [
    {
     "name": "stdout",
     "output_type": "stream",
     "text": [
      "Most Informative Features\n",
      "       contains(최악/Noun) = True               부정 : 긍정     =     37.1 : 1.0\n",
      "contains(재밌어요/Adjective) = True               긍정 : 부정     =     22.8 : 1.0\n",
      " contains(아깝다/Adjective) = True               부정 : 긍정     =     21.9 : 1.0\n",
      "      contains(쓰레기/Noun) = True               부정 : 긍정     =     20.8 : 1.0\n",
      "      contains(봤어요/Verb) = True               긍정 : 부정     =     17.3 : 1.0\n",
      "contains(좋았습니다/Adjective) = True               긍정 : 부정     =     17.2 : 1.0\n",
      "       contains(역대/Noun) = True               부정 : 긍정     =     16.8 : 1.0\n",
      "      contains(0/Number) = True               부정 : 긍정     =     14.3 : 1.0\n",
      "contains(ㅡㅡ/KoreanParticle) = True               부정 : 긍정     =     14.3 : 1.0\n",
      "contains(재미없음/Adjective) = True               부정 : 긍정     =     14.3 : 1.0\n"
     ]
    }
   ],
   "source": [
    "pos_neg.show_informative_features()"
   ]
  }
 ],
 "metadata": {
  "kernelspec": {
   "display_name": "Python 3",
   "language": "python",
   "name": "python3"
  },
  "language_info": {
   "codemirror_mode": {
    "name": "ipython",
    "version": 3
   },
   "file_extension": ".py",
   "mimetype": "text/x-python",
   "name": "python",
   "nbconvert_exporter": "python",
   "pygments_lexer": "ipython3",
   "version": "3.8.5"
  }
 },
 "nbformat": 4,
 "nbformat_minor": 4
}
