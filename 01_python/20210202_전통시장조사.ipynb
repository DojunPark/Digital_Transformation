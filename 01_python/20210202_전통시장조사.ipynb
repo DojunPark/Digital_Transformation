{
 "cells": [
  {
   "cell_type": "markdown",
   "metadata": {},
   "source": [
    "# 전통시장 문제점 크롤링"
   ]
  },
  {
   "cell_type": "markdown",
   "metadata": {},
   "source": [
    "# 네이버 블로그 "
   ]
  },
  {
   "cell_type": "code",
   "execution_count": 1,
   "metadata": {},
   "outputs": [],
   "source": [
    "with open('C:/Users/dojun\\Documents/api_keys/naver_api.txt') as f:\n",
    "    client_id = f.readline().replace('\\n', '')\n",
    "    client_secret = f.readline()"
   ]
  },
  {
   "cell_type": "code",
   "execution_count": 24,
   "metadata": {},
   "outputs": [],
   "source": [
    "import requests\n",
    "import pandas as pd\n",
    "import urllib.request\n",
    "from urllib.request import quote\n",
    "from urllib.parse import urlparse\n",
    "from bs4 import BeautifulSoup as bs\n",
    "\n",
    "keyword = '전통시장 문제점'\n",
    "url = 'https://openapi.naver.com/v1/search/blog.json?query=' + keyword + '&display=100&start=401'\n",
    "html = requests.get(url,headers = {\"X-Naver-Client-Id\" : client_id,\n",
    "                                   \"X-Naver-Client-Secret\" : client_secret})"
   ]
  },
  {
   "cell_type": "code",
   "execution_count": 25,
   "metadata": {},
   "outputs": [],
   "source": [
    "json1 = html.json()"
   ]
  },
  {
   "cell_type": "code",
   "execution_count": 26,
   "metadata": {},
   "outputs": [
    {
     "data": {
      "text/plain": [
       "100"
      ]
     },
     "execution_count": 26,
     "metadata": {},
     "output_type": "execute_result"
    }
   ],
   "source": [
    "len(json1['items'])"
   ]
  },
  {
   "cell_type": "code",
   "execution_count": 27,
   "metadata": {},
   "outputs": [],
   "source": [
    "df1 = pd.DataFrame(json1['items'])"
   ]
  },
  {
   "cell_type": "code",
   "execution_count": 28,
   "metadata": {},
   "outputs": [],
   "source": [
    "df = pd.concat([df, df1])"
   ]
  },
  {
   "cell_type": "code",
   "execution_count": 29,
   "metadata": {},
   "outputs": [
    {
     "data": {
      "text/plain": [
       "500"
      ]
     },
     "execution_count": 29,
     "metadata": {},
     "output_type": "execute_result"
    }
   ],
   "source": [
    "len(df)"
   ]
  },
  {
   "cell_type": "code",
   "execution_count": 30,
   "metadata": {},
   "outputs": [
    {
     "data": {
      "text/html": [
       "<div>\n",
       "<style scoped>\n",
       "    .dataframe tbody tr th:only-of-type {\n",
       "        vertical-align: middle;\n",
       "    }\n",
       "\n",
       "    .dataframe tbody tr th {\n",
       "        vertical-align: top;\n",
       "    }\n",
       "\n",
       "    .dataframe thead th {\n",
       "        text-align: right;\n",
       "    }\n",
       "</style>\n",
       "<table border=\"1\" class=\"dataframe\">\n",
       "  <thead>\n",
       "    <tr style=\"text-align: right;\">\n",
       "      <th></th>\n",
       "      <th>title</th>\n",
       "      <th>link</th>\n",
       "      <th>description</th>\n",
       "      <th>bloggername</th>\n",
       "      <th>bloggerlink</th>\n",
       "      <th>postdate</th>\n",
       "    </tr>\n",
       "  </thead>\n",
       "  <tbody>\n",
       "    <tr>\n",
       "      <th>0</th>\n",
       "      <td>[대전북부센터] &lt;b&gt;전통시장&lt;/b&gt;의 협동조합 &lt;b&gt;문제점&lt;/b&gt;과 상인간 갈등...</td>\n",
       "      <td>https://blog.naver.com/marketagency?Redirect=L...</td>\n",
       "      <td>현황 및 &lt;b&gt;문제점&lt;/b&gt; 송강&lt;b&gt;전통시장&lt;/b&gt;은 2015년 골목형&lt;b&gt;시장&lt;...</td>\n",
       "      <td>소담소담 l 소상공인시장진흥공단</td>\n",
       "      <td>https://blog.naver.com/marketagency</td>\n",
       "      <td>20201102</td>\n",
       "    </tr>\n",
       "    <tr>\n",
       "      <th>1</th>\n",
       "      <td>안석뽕 X &lt;b&gt;전통시장&lt;/b&gt; 활성화 PBL#&lt;b&gt;문제점&lt;/b&gt; 깊이있게 이해하기...</td>\n",
       "      <td>https://blog.naver.com/angelcat606?Redirect=Lo...</td>\n",
       "      <td>오늘은 &lt;b&gt;전통시장&lt;/b&gt;의 &lt;b&gt;문제점&lt;/b&gt;을 5Why 토의토론 기법을 활용해...</td>\n",
       "      <td>함께 성장하는 행복한 새싹들</td>\n",
       "      <td>https://blog.naver.com/angelcat606</td>\n",
       "      <td>20191126</td>\n",
       "    </tr>\n",
       "    <tr>\n",
       "      <th>2</th>\n",
       "      <td>(김용한 컬럼)&lt;b&gt;전통시장&lt;/b&gt; 야&lt;b&gt;시장&lt;/b&gt;지원사업의 명과 암, &lt;b&gt;문...</td>\n",
       "      <td>https://blog.naver.com/misiceo?Redirect=Log&amp;lo...</td>\n",
       "      <td>위 &lt;b&gt;전통시장&lt;/b&gt; 야&lt;b&gt;시장&lt;/b&gt; 지원사업에 대한 &lt;b&gt;문제점&lt;/b&gt;을 ...</td>\n",
       "      <td>김용한의 전략 인사이트</td>\n",
       "      <td>https://blog.naver.com/misiceo</td>\n",
       "      <td>20190409</td>\n",
       "    </tr>\n",
       "    <tr>\n",
       "      <th>3</th>\n",
       "      <td>&lt;b&gt;전통시장&lt;/b&gt; 화재알림시설 설치사업 &lt;b&gt;문제점&lt;/b&gt; 지적 기사</td>\n",
       "      <td>https://blog.naver.com/sobangbul?Redirect=Log&amp;...</td>\n",
       "      <td>[집중취재] 수백억 혈세 들인 ‘&lt;b&gt;전통시장&lt;/b&gt; 화재알림시설 설치사업’ 이대로...</td>\n",
       "      <td>리더썬</td>\n",
       "      <td>https://blog.naver.com/sobangbul</td>\n",
       "      <td>20200910</td>\n",
       "    </tr>\n",
       "    <tr>\n",
       "      <th>4</th>\n",
       "      <td>(공유) 지역화폐 발행 &lt;b&gt;문제점&lt;/b&gt;, &lt;b&gt;전통시장&lt;/b&gt;도 비대면산업...</td>\n",
       "      <td>https://blog.naver.com/pure082?Redirect=Log&amp;lo...</td>\n",
       "      <td>공공배달앱에만 &lt;b&gt;전통시장&lt;/b&gt;을 연결해주면 경제 활성화는 자연히 이루어져. 요...</td>\n",
       "      <td>Healing Story</td>\n",
       "      <td>https://blog.naver.com/pure082</td>\n",
       "      <td>20200915</td>\n",
       "    </tr>\n",
       "  </tbody>\n",
       "</table>\n",
       "</div>"
      ],
      "text/plain": [
       "                                               title  \\\n",
       "0  [대전북부센터] <b>전통시장</b>의 협동조합 <b>문제점</b>과 상인간 갈등...    \n",
       "1  안석뽕 X <b>전통시장</b> 활성화 PBL#<b>문제점</b> 깊이있게 이해하기...   \n",
       "2  (김용한 컬럼)<b>전통시장</b> 야<b>시장</b>지원사업의 명과 암, <b>문...   \n",
       "3           <b>전통시장</b> 화재알림시설 설치사업 <b>문제점</b> 지적 기사   \n",
       "4    (공유) 지역화폐 발행 <b>문제점</b>, <b>전통시장</b>도 비대면산업...    \n",
       "\n",
       "                                                link  \\\n",
       "0  https://blog.naver.com/marketagency?Redirect=L...   \n",
       "1  https://blog.naver.com/angelcat606?Redirect=Lo...   \n",
       "2  https://blog.naver.com/misiceo?Redirect=Log&lo...   \n",
       "3  https://blog.naver.com/sobangbul?Redirect=Log&...   \n",
       "4  https://blog.naver.com/pure082?Redirect=Log&lo...   \n",
       "\n",
       "                                         description        bloggername  \\\n",
       "0  현황 및 <b>문제점</b> 송강<b>전통시장</b>은 2015년 골목형<b>시장<...  소담소담 l 소상공인시장진흥공단   \n",
       "1  오늘은 <b>전통시장</b>의 <b>문제점</b>을 5Why 토의토론 기법을 활용해...    함께 성장하는 행복한 새싹들   \n",
       "2  위 <b>전통시장</b> 야<b>시장</b> 지원사업에 대한 <b>문제점</b>을 ...       김용한의 전략 인사이트   \n",
       "3  [집중취재] 수백억 혈세 들인 ‘<b>전통시장</b> 화재알림시설 설치사업’ 이대로...                리더썬   \n",
       "4  공공배달앱에만 <b>전통시장</b>을 연결해주면 경제 활성화는 자연히 이루어져. 요...      Healing Story   \n",
       "\n",
       "                           bloggerlink  postdate  \n",
       "0  https://blog.naver.com/marketagency  20201102  \n",
       "1   https://blog.naver.com/angelcat606  20191126  \n",
       "2       https://blog.naver.com/misiceo  20190409  \n",
       "3     https://blog.naver.com/sobangbul  20200910  \n",
       "4       https://blog.naver.com/pure082  20200915  "
      ]
     },
     "execution_count": 30,
     "metadata": {},
     "output_type": "execute_result"
    }
   ],
   "source": [
    "df.head()"
   ]
  },
  {
   "cell_type": "code",
   "execution_count": 31,
   "metadata": {},
   "outputs": [],
   "source": [
    "df = df.sort_values('postdate', ascending=False)"
   ]
  },
  {
   "cell_type": "code",
   "execution_count": 32,
   "metadata": {},
   "outputs": [],
   "source": [
    "df.to_excel('./py_data/crawling/전통시장/전통시장문제점_블로그(전체).xlsx')"
   ]
  },
  {
   "cell_type": "code",
   "execution_count": 45,
   "metadata": {},
   "outputs": [
    {
     "data": {
      "text/html": [
       "<div>\n",
       "<style scoped>\n",
       "    .dataframe tbody tr th:only-of-type {\n",
       "        vertical-align: middle;\n",
       "    }\n",
       "\n",
       "    .dataframe tbody tr th {\n",
       "        vertical-align: top;\n",
       "    }\n",
       "\n",
       "    .dataframe thead th {\n",
       "        text-align: right;\n",
       "    }\n",
       "</style>\n",
       "<table border=\"1\" class=\"dataframe\">\n",
       "  <thead>\n",
       "    <tr style=\"text-align: right;\">\n",
       "      <th></th>\n",
       "      <th>title</th>\n",
       "      <th>link</th>\n",
       "      <th>description</th>\n",
       "      <th>bloggername</th>\n",
       "      <th>bloggerlink</th>\n",
       "      <th>postdate</th>\n",
       "    </tr>\n",
       "  </thead>\n",
       "  <tbody>\n",
       "    <tr>\n",
       "      <th>34</th>\n",
       "      <td>2학기 현지조사를 다녀와서 - &lt;b&gt;전통 시장&lt;/b&gt; 활성화 방안</td>\n",
       "      <td>https://blog.naver.com/namga1020?Redirect=Log&amp;...</td>\n",
       "      <td>2) &lt;b&gt;전통시장&lt;/b&gt;의 활성화 방안 (1) &lt;b&gt;전통시장&lt;/b&gt;의 &lt;b&gt;문제점...</td>\n",
       "      <td>Burnt ORENGE</td>\n",
       "      <td>https://blog.naver.com/namga1020</td>\n",
       "      <td>20210130</td>\n",
       "    </tr>\n",
       "    <tr>\n",
       "      <th>77</th>\n",
       "      <td>본방사수!! 백종원의 골목식당 &amp;lt;모란역 뒷골목 식당&amp;gt; 제1화...</td>\n",
       "      <td>https://blog.naver.com/smrf2012?Redirect=Log&amp;l...</td>\n",
       "      <td>매월 4월과 9일이면 전국 최대의 &lt;b&gt;전통시장&lt;/b&gt;인 모란5일장이 모란에서 열립...</td>\n",
       "      <td>성남시 상권활성화재단</td>\n",
       "      <td>https://blog.naver.com/smrf2012</td>\n",
       "      <td>20210128</td>\n",
       "    </tr>\n",
       "    <tr>\n",
       "      <th>50</th>\n",
       "      <td>[대외활동] 20201102-20201222 세종시 조치원역 도시재생...</td>\n",
       "      <td>https://blog.naver.com/jenny10298?Redirect=Log...</td>\n",
       "      <td>세종&lt;b&gt;전통시장&lt;/b&gt; 활성화 방안 탐구 주민공동체: 사업권역 내 필요한 공동체 ...</td>\n",
       "      <td>나나's 일기</td>\n",
       "      <td>https://blog.naver.com/jenny10298</td>\n",
       "      <td>20210127</td>\n",
       "    </tr>\n",
       "    <tr>\n",
       "      <th>23</th>\n",
       "      <td>경기도의회 이은주 경제노동위원장, 신규사업 및 전년도...</td>\n",
       "      <td>https://blog.naver.com/kbc5995?Redirect=Log&amp;lo...</td>\n",
       "      <td>운영상 &lt;b&gt;문제점&lt;/b&gt; 등에 대한 중간 체크 ▷9월에는 추진결과와 예산 집행실적...</td>\n",
       "      <td>서울일보/스트레이뉴스/시사통신/수도일보/뉴스타운</td>\n",
       "      <td>https://blog.naver.com/kbc5995</td>\n",
       "      <td>20210124</td>\n",
       "    </tr>\n",
       "    <tr>\n",
       "      <th>35</th>\n",
       "      <td>#경영#코로나시대자영업의미래</td>\n",
       "      <td>https://blog.naver.com/qlqk21?Redirect=Log&amp;log...</td>\n",
       "      <td>임대차보호법의 &lt;b&gt;문제점&lt;/b&gt;을 지적하고 있다.또 코로나 시대의 외식업 콘셉팅 ...</td>\n",
       "      <td>THE GREEN OCEAN</td>\n",
       "      <td>https://blog.naver.com/qlqk21</td>\n",
       "      <td>20210121</td>\n",
       "    </tr>\n",
       "    <tr>\n",
       "      <th>...</th>\n",
       "      <td>...</td>\n",
       "      <td>...</td>\n",
       "      <td>...</td>\n",
       "      <td>...</td>\n",
       "      <td>...</td>\n",
       "      <td>...</td>\n",
       "    </tr>\n",
       "    <tr>\n",
       "      <th>44</th>\n",
       "      <td>서문솔의 &lt;b&gt;전통시장&lt;/b&gt;, 재래&lt;b&gt;시장&lt;/b&gt; 큰&lt;b&gt;문제점&lt;/b&gt; 이러다 ...</td>\n",
       "      <td>https://blog.naver.com/www_kjeoh?Redirect=Log&amp;...</td>\n",
       "      <td>전통 시장의 실태 촌스러움 포장불량 주차미비 현금박치기 사고파는 장터의 역할. 이웃...</td>\n",
       "      <td>문화콘텐츠제작자, 1인창조기업가, 시장매니저</td>\n",
       "      <td>https://blog.naver.com/www_kjeoh</td>\n",
       "      <td>20180125</td>\n",
       "    </tr>\n",
       "    <tr>\n",
       "      <th>43</th>\n",
       "      <td>&lt;b&gt;전통시장&lt;/b&gt; 활성화 방안을 찾기 위해 실패 사례 속 &lt;b&gt;문제점&lt;/b&gt;을...</td>\n",
       "      <td>https://blog.naver.com/tw_corp?Redirect=Log&amp;lo...</td>\n",
       "      <td>&lt;b&gt;전통시장&lt;/b&gt;의 사례 중에는 논산이나 전주 남부&lt;b&gt;시장&lt;/b&gt;처럼 &lt;b&gt;전...</td>\n",
       "      <td>Tw_corporation</td>\n",
       "      <td>https://blog.naver.com/tw_corp</td>\n",
       "      <td>20180118</td>\n",
       "    </tr>\n",
       "    <tr>\n",
       "      <th>1</th>\n",
       "      <td>전국 &lt;b&gt;전통시장&lt;/b&gt;내 야&lt;b&gt;시장&lt;/b&gt; 청춘몰 &lt;b&gt;문제점&lt;/b&gt; 알아보자</td>\n",
       "      <td>https://blog.naver.com/www_kjeoh?Redirect=Log&amp;...</td>\n",
       "      <td>국내야&lt;b&gt;시장&lt;/b&gt;의 &lt;b&gt;문제점&lt;/b&gt; 국내의 여러 야&lt;b&gt;시장&lt;/b&gt;을 둘러...</td>\n",
       "      <td>문화콘텐츠제작자, 1인창조기업가, 시장매니저</td>\n",
       "      <td>https://blog.naver.com/www_kjeoh</td>\n",
       "      <td>20180118</td>\n",
       "    </tr>\n",
       "    <tr>\n",
       "      <th>1</th>\n",
       "      <td>&lt;b&gt;전통시장&lt;/b&gt; 활성화 실패, 무엇이 문제인가?</td>\n",
       "      <td>https://blog.naver.com/tw_consult?Redirect=Log...</td>\n",
       "      <td>[전주 남부&lt;b&gt;시장&lt;/b&gt; 청년몰]' &amp;amp; 지난 포스팅에서도 말씀드렸지만 논...</td>\n",
       "      <td>TW Consult &amp; Franchise</td>\n",
       "      <td>https://blog.naver.com/tw_consult</td>\n",
       "      <td>20180117</td>\n",
       "    </tr>\n",
       "    <tr>\n",
       "      <th>76</th>\n",
       "      <td>옛 &lt;b&gt;전통시장&lt;/b&gt;부지 활용방안 찾았다</td>\n",
       "      <td>https://blog.naver.com/jcpp15?Redirect=Log&amp;log...</td>\n",
       "      <td>옛 &lt;b&gt;전통시장&lt;/b&gt; 부지 투자유치 공모사업은 절차상의 &lt;b&gt;문제점&lt;/b&gt;이 드...</td>\n",
       "      <td>진천사람들</td>\n",
       "      <td>https://blog.naver.com/jcpp15</td>\n",
       "      <td>20180108</td>\n",
       "    </tr>\n",
       "  </tbody>\n",
       "</table>\n",
       "<p>255 rows × 6 columns</p>\n",
       "</div>"
      ],
      "text/plain": [
       "                                                title  \\\n",
       "34               2학기 현지조사를 다녀와서 - <b>전통 시장</b> 활성화 방안   \n",
       "77        본방사수!! 백종원의 골목식당 &lt;모란역 뒷골목 식당&gt; 제1화...    \n",
       "50         [대외활동] 20201102-20201222 세종시 조치원역 도시재생...    \n",
       "23                  경기도의회 이은주 경제노동위원장, 신규사업 및 전년도...    \n",
       "35                                    #경영#코로나시대자영업의미래   \n",
       "..                                                ...   \n",
       "44  서문솔의 <b>전통시장</b>, 재래<b>시장</b> 큰<b>문제점</b> 이러다 ...   \n",
       "43  <b>전통시장</b> 활성화 방안을 찾기 위해 실패 사례 속 <b>문제점</b>을...    \n",
       "1      전국 <b>전통시장</b>내 야<b>시장</b> 청춘몰 <b>문제점</b> 알아보자   \n",
       "1                       <b>전통시장</b> 활성화 실패, 무엇이 문제인가?   \n",
       "76                           옛 <b>전통시장</b>부지 활용방안 찾았다   \n",
       "\n",
       "                                                 link  \\\n",
       "34  https://blog.naver.com/namga1020?Redirect=Log&...   \n",
       "77  https://blog.naver.com/smrf2012?Redirect=Log&l...   \n",
       "50  https://blog.naver.com/jenny10298?Redirect=Log...   \n",
       "23  https://blog.naver.com/kbc5995?Redirect=Log&lo...   \n",
       "35  https://blog.naver.com/qlqk21?Redirect=Log&log...   \n",
       "..                                                ...   \n",
       "44  https://blog.naver.com/www_kjeoh?Redirect=Log&...   \n",
       "43  https://blog.naver.com/tw_corp?Redirect=Log&lo...   \n",
       "1   https://blog.naver.com/www_kjeoh?Redirect=Log&...   \n",
       "1   https://blog.naver.com/tw_consult?Redirect=Log...   \n",
       "76  https://blog.naver.com/jcpp15?Redirect=Log&log...   \n",
       "\n",
       "                                          description  \\\n",
       "34  2) <b>전통시장</b>의 활성화 방안 (1) <b>전통시장</b>의 <b>문제점...   \n",
       "77  매월 4월과 9일이면 전국 최대의 <b>전통시장</b>인 모란5일장이 모란에서 열립...   \n",
       "50  세종<b>전통시장</b> 활성화 방안 탐구 주민공동체: 사업권역 내 필요한 공동체 ...   \n",
       "23  운영상 <b>문제점</b> 등에 대한 중간 체크 ▷9월에는 추진결과와 예산 집행실적...   \n",
       "35  임대차보호법의 <b>문제점</b>을 지적하고 있다.또 코로나 시대의 외식업 콘셉팅 ...   \n",
       "..                                                ...   \n",
       "44  전통 시장의 실태 촌스러움 포장불량 주차미비 현금박치기 사고파는 장터의 역할. 이웃...   \n",
       "43  <b>전통시장</b>의 사례 중에는 논산이나 전주 남부<b>시장</b>처럼 <b>전...   \n",
       "1   국내야<b>시장</b>의 <b>문제점</b> 국내의 여러 야<b>시장</b>을 둘러...   \n",
       "1   [전주 남부<b>시장</b> 청년몰]' &amp; 지난 포스팅에서도 말씀드렸지만 논...   \n",
       "76  옛 <b>전통시장</b> 부지 투자유치 공모사업은 절차상의 <b>문제점</b>이 드...   \n",
       "\n",
       "                   bloggername                        bloggerlink  postdate  \n",
       "34                Burnt ORENGE   https://blog.naver.com/namga1020  20210130  \n",
       "77                 성남시 상권활성화재단    https://blog.naver.com/smrf2012  20210128  \n",
       "50                     나나's 일기  https://blog.naver.com/jenny10298  20210127  \n",
       "23  서울일보/스트레이뉴스/시사통신/수도일보/뉴스타운     https://blog.naver.com/kbc5995  20210124  \n",
       "35             THE GREEN OCEAN      https://blog.naver.com/qlqk21  20210121  \n",
       "..                         ...                                ...       ...  \n",
       "44    문화콘텐츠제작자, 1인창조기업가, 시장매니저   https://blog.naver.com/www_kjeoh  20180125  \n",
       "43              Tw_corporation     https://blog.naver.com/tw_corp  20180118  \n",
       "1     문화콘텐츠제작자, 1인창조기업가, 시장매니저   https://blog.naver.com/www_kjeoh  20180118  \n",
       "1       TW Consult & Franchise  https://blog.naver.com/tw_consult  20180117  \n",
       "76                       진천사람들      https://blog.naver.com/jcpp15  20180108  \n",
       "\n",
       "[255 rows x 6 columns]"
      ]
     },
     "execution_count": 45,
     "metadata": {},
     "output_type": "execute_result"
    }
   ],
   "source": [
    "df.iloc[:255]"
   ]
  },
  {
   "cell_type": "code",
   "execution_count": 46,
   "metadata": {},
   "outputs": [],
   "source": [
    "df_2018 = df.iloc[:255]"
   ]
  },
  {
   "cell_type": "code",
   "execution_count": 47,
   "metadata": {},
   "outputs": [
    {
     "data": {
      "text/plain": [
       "255"
      ]
     },
     "execution_count": 47,
     "metadata": {},
     "output_type": "execute_result"
    }
   ],
   "source": [
    "len(df_2018)"
   ]
  },
  {
   "cell_type": "code",
   "execution_count": 51,
   "metadata": {},
   "outputs": [],
   "source": [
    "df_2018.to_excel('./py_data/crawling/전통시장/전통시장문제점_블로그(2018~2021).xlsx', index=False)"
   ]
  },
  {
   "cell_type": "markdown",
   "metadata": {},
   "source": [
    "# 링크 저장"
   ]
  },
  {
   "cell_type": "code",
   "execution_count": 54,
   "metadata": {},
   "outputs": [],
   "source": [
    "df = pd.read_excel('./py_data/crawling/전통시장/전통시장문제점_블로그(2018~2021).xlsx', engine='openpyxl')"
   ]
  },
  {
   "cell_type": "code",
   "execution_count": 55,
   "metadata": {},
   "outputs": [
    {
     "data": {
      "text/html": [
       "<div>\n",
       "<style scoped>\n",
       "    .dataframe tbody tr th:only-of-type {\n",
       "        vertical-align: middle;\n",
       "    }\n",
       "\n",
       "    .dataframe tbody tr th {\n",
       "        vertical-align: top;\n",
       "    }\n",
       "\n",
       "    .dataframe thead th {\n",
       "        text-align: right;\n",
       "    }\n",
       "</style>\n",
       "<table border=\"1\" class=\"dataframe\">\n",
       "  <thead>\n",
       "    <tr style=\"text-align: right;\">\n",
       "      <th></th>\n",
       "      <th>title</th>\n",
       "      <th>link</th>\n",
       "      <th>description</th>\n",
       "      <th>bloggername</th>\n",
       "      <th>bloggerlink</th>\n",
       "      <th>postdate</th>\n",
       "    </tr>\n",
       "  </thead>\n",
       "  <tbody>\n",
       "    <tr>\n",
       "      <th>0</th>\n",
       "      <td>2학기 현지조사를 다녀와서 - &lt;b&gt;전통 시장&lt;/b&gt; 활성화 방안</td>\n",
       "      <td>https://blog.naver.com/namga1020?Redirect=Log&amp;...</td>\n",
       "      <td>2) &lt;b&gt;전통시장&lt;/b&gt;의 활성화 방안 (1) &lt;b&gt;전통시장&lt;/b&gt;의 &lt;b&gt;문제점...</td>\n",
       "      <td>Burnt ORENGE</td>\n",
       "      <td>https://blog.naver.com/namga1020</td>\n",
       "      <td>20210130</td>\n",
       "    </tr>\n",
       "    <tr>\n",
       "      <th>1</th>\n",
       "      <td>본방사수!! 백종원의 골목식당 &amp;lt;모란역 뒷골목 식당&amp;gt; 제1화...</td>\n",
       "      <td>https://blog.naver.com/smrf2012?Redirect=Log&amp;l...</td>\n",
       "      <td>매월 4월과 9일이면 전국 최대의 &lt;b&gt;전통시장&lt;/b&gt;인 모란5일장이 모란에서 열립...</td>\n",
       "      <td>성남시 상권활성화재단</td>\n",
       "      <td>https://blog.naver.com/smrf2012</td>\n",
       "      <td>20210128</td>\n",
       "    </tr>\n",
       "    <tr>\n",
       "      <th>2</th>\n",
       "      <td>[대외활동] 20201102-20201222 세종시 조치원역 도시재생...</td>\n",
       "      <td>https://blog.naver.com/jenny10298?Redirect=Log...</td>\n",
       "      <td>세종&lt;b&gt;전통시장&lt;/b&gt; 활성화 방안 탐구 주민공동체: 사업권역 내 필요한 공동체 ...</td>\n",
       "      <td>나나's 일기</td>\n",
       "      <td>https://blog.naver.com/jenny10298</td>\n",
       "      <td>20210127</td>\n",
       "    </tr>\n",
       "    <tr>\n",
       "      <th>3</th>\n",
       "      <td>경기도의회 이은주 경제노동위원장, 신규사업 및 전년도...</td>\n",
       "      <td>https://blog.naver.com/kbc5995?Redirect=Log&amp;lo...</td>\n",
       "      <td>운영상 &lt;b&gt;문제점&lt;/b&gt; 등에 대한 중간 체크 ▷9월에는 추진결과와 예산 집행실적...</td>\n",
       "      <td>서울일보/스트레이뉴스/시사통신/수도일보/뉴스타운</td>\n",
       "      <td>https://blog.naver.com/kbc5995</td>\n",
       "      <td>20210124</td>\n",
       "    </tr>\n",
       "    <tr>\n",
       "      <th>4</th>\n",
       "      <td>#경영#코로나시대자영업의미래</td>\n",
       "      <td>https://blog.naver.com/qlqk21?Redirect=Log&amp;log...</td>\n",
       "      <td>임대차보호법의 &lt;b&gt;문제점&lt;/b&gt;을 지적하고 있다.또 코로나 시대의 외식업 콘셉팅 ...</td>\n",
       "      <td>THE GREEN OCEAN</td>\n",
       "      <td>https://blog.naver.com/qlqk21</td>\n",
       "      <td>20210121</td>\n",
       "    </tr>\n",
       "  </tbody>\n",
       "</table>\n",
       "</div>"
      ],
      "text/plain": [
       "                                         title  \\\n",
       "0         2학기 현지조사를 다녀와서 - <b>전통 시장</b> 활성화 방안   \n",
       "1  본방사수!! 백종원의 골목식당 &lt;모란역 뒷골목 식당&gt; 제1화...    \n",
       "2   [대외활동] 20201102-20201222 세종시 조치원역 도시재생...    \n",
       "3            경기도의회 이은주 경제노동위원장, 신규사업 및 전년도...    \n",
       "4                              #경영#코로나시대자영업의미래   \n",
       "\n",
       "                                                link  \\\n",
       "0  https://blog.naver.com/namga1020?Redirect=Log&...   \n",
       "1  https://blog.naver.com/smrf2012?Redirect=Log&l...   \n",
       "2  https://blog.naver.com/jenny10298?Redirect=Log...   \n",
       "3  https://blog.naver.com/kbc5995?Redirect=Log&lo...   \n",
       "4  https://blog.naver.com/qlqk21?Redirect=Log&log...   \n",
       "\n",
       "                                         description  \\\n",
       "0  2) <b>전통시장</b>의 활성화 방안 (1) <b>전통시장</b>의 <b>문제점...   \n",
       "1  매월 4월과 9일이면 전국 최대의 <b>전통시장</b>인 모란5일장이 모란에서 열립...   \n",
       "2  세종<b>전통시장</b> 활성화 방안 탐구 주민공동체: 사업권역 내 필요한 공동체 ...   \n",
       "3  운영상 <b>문제점</b> 등에 대한 중간 체크 ▷9월에는 추진결과와 예산 집행실적...   \n",
       "4  임대차보호법의 <b>문제점</b>을 지적하고 있다.또 코로나 시대의 외식업 콘셉팅 ...   \n",
       "\n",
       "                  bloggername                        bloggerlink  postdate  \n",
       "0                Burnt ORENGE   https://blog.naver.com/namga1020  20210130  \n",
       "1                 성남시 상권활성화재단    https://blog.naver.com/smrf2012  20210128  \n",
       "2                     나나's 일기  https://blog.naver.com/jenny10298  20210127  \n",
       "3  서울일보/스트레이뉴스/시사통신/수도일보/뉴스타운     https://blog.naver.com/kbc5995  20210124  \n",
       "4             THE GREEN OCEAN      https://blog.naver.com/qlqk21  20210121  "
      ]
     },
     "execution_count": 55,
     "metadata": {},
     "output_type": "execute_result"
    }
   ],
   "source": [
    "df.head()"
   ]
  },
  {
   "cell_type": "code",
   "execution_count": 56,
   "metadata": {},
   "outputs": [],
   "source": [
    "links = []\n",
    "for link in df['link']:\n",
    "    links.append(link)"
   ]
  },
  {
   "cell_type": "code",
   "execution_count": 57,
   "metadata": {},
   "outputs": [
    {
     "data": {
      "text/plain": [
       "255"
      ]
     },
     "execution_count": 57,
     "metadata": {},
     "output_type": "execute_result"
    }
   ],
   "source": [
    "len(links)"
   ]
  },
  {
   "cell_type": "code",
   "execution_count": 58,
   "metadata": {},
   "outputs": [
    {
     "name": "stderr",
     "output_type": "stream",
     "text": [
      "crawling...: 100%|███████████████████████████████████████████████████████████████████| 255/255 [13:32<00:00,  3.19s/it]\n"
     ]
    }
   ],
   "source": [
    "import requests\n",
    "from bs4 import BeautifulSoup as bs\n",
    "from selenium import webdriver\n",
    "import time\n",
    "from tqdm import tqdm\n",
    "import re\n",
    "\n",
    "regex = re.compile('.*postViewArea.*')\n",
    "\n",
    "driver = webdriver.Chrome('./py_data/crawling/chromedriver.exe')\n",
    "\n",
    "txt = ''\n",
    "for link in tqdm(links, 'crawling...'):\n",
    "    \n",
    "    driver.get(link)\n",
    "    driver.implicitly_wait(5)\n",
    "    time.sleep(1)\n",
    "\n",
    "    try:\n",
    "        driver.switch_to.frame('mainFrame')\n",
    "        html = driver.page_source\n",
    "        soup = bs(html, 'html.parser')\n",
    "        text = soup.find('div', class_=regex).text\n",
    "        text = text.replace('\\n\\n', '') + '\\n'\n",
    "        txt += text\n",
    "    except:\n",
    "        continue"
   ]
  },
  {
   "cell_type": "code",
   "execution_count": 59,
   "metadata": {},
   "outputs": [],
   "source": [
    "tmp = re.sub('[^ㄱ-힣 ]', '', txt)"
   ]
  },
  {
   "cell_type": "code",
   "execution_count": 60,
   "metadata": {},
   "outputs": [],
   "source": [
    "with open('./py_data/crawling/전통시장/전통시장문제점_블로그(2018~2021).txt', 'w', encoding='utf-8') as f:\n",
    "    f.write(tmp)"
   ]
  },
  {
   "cell_type": "code",
   "execution_count": null,
   "metadata": {},
   "outputs": [],
   "source": []
  },
  {
   "cell_type": "code",
   "execution_count": null,
   "metadata": {},
   "outputs": [],
   "source": []
  },
  {
   "cell_type": "code",
   "execution_count": null,
   "metadata": {},
   "outputs": [],
   "source": []
  }
 ],
 "metadata": {
  "kernelspec": {
   "display_name": "Python 3",
   "language": "python",
   "name": "python3"
  },
  "language_info": {
   "codemirror_mode": {
    "name": "ipython",
    "version": 3
   },
   "file_extension": ".py",
   "mimetype": "text/x-python",
   "name": "python",
   "nbconvert_exporter": "python",
   "pygments_lexer": "ipython3",
   "version": "3.8.5"
  }
 },
 "nbformat": 4,
 "nbformat_minor": 4
}
