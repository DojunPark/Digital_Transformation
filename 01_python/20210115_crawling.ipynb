{
 "cells": [
  {
   "cell_type": "markdown",
   "metadata": {},
   "source": [
    "# Selenium Google"
   ]
  },
  {
   "cell_type": "code",
   "execution_count": null,
   "metadata": {},
   "outputs": [],
   "source": [
    "from tqdm import tqdm\n",
    "import requests\n",
    "from bs4 import BeautifulSoup as bs\n",
    "from selenium import webdriver\n",
    "from selenium.webdriver.common.keys import Keys\n",
    "import urllib\n",
    "import time\n",
    "import shutil\n",
    "import os\n",
    "\n",
    "# 검색어 입력\n",
    "keyword = input('검색어를 입력하세요: ')\n",
    "page = int(input('더보기 클릭 횟수를 입력하세요(최대 8): '))\n",
    "\n",
    "# 브라우저 열기\n",
    "url = 'https://www.google.com/search?q='+keyword+'&sxsrf=ALeKk02Lu3eOXbbUqUlS_jilJg5hZvbZUQ:1610612649568&source=lnms&tbm=isch&sa=X&ved=2ahUKEwj6ieTW_5ruAhUQZt4KHQtFBAQQ_AUoAXoECBMQAw&biw=1536&bih=754'\n",
    "\n",
    "driver = webdriver.Chrome('c:\\edu\\py_data\\crawling\\chromedriver.exe')\n",
    "driver.get(url)\n",
    "driver.implicitly_wait(3)\n",
    "\n",
    "# 이미지 링크 추출\n",
    "for _ in range(page):\n",
    "    driver.execute_script(\"window.scrollTo(0, document.body.scrollHeight);\")\n",
    "    driver.implicitly_wait(3)\n",
    "    time.sleep(1)\n",
    "\n",
    "html = driver.page_source\n",
    "soup = bs(html, 'html.parser')\n",
    "\n",
    "div = soup.find_all('div', class_='bRMDJf islir')\n",
    "\n",
    "ls_img = []\n",
    "for d in div:\n",
    "    img = d.find('img', class_='rg_i Q4LuWd')\n",
    "    try:\n",
    "        img_url = img['src']\n",
    "    except KeyError:\n",
    "        img_url = img['data-src']\n",
    "    ls_img.append(img_url)\n",
    "    \n",
    "# 중복 이미지 제거\n",
    "ls_img = set(ls_img)\n",
    "    \n",
    "# 폴더 생성\n",
    "path = './py_data/crawling/image/'\n",
    "dir_name = keyword\n",
    "\n",
    "while True:\n",
    "    ls_dir = os.listdir(path)\n",
    "    if dir_name in ls_dir:\n",
    "        answer = input(\"동일한 이름의 폴더가 존재합니다, 삭제하시겠습니까? [y/n]: \" )\n",
    "        if answer == 'y':\n",
    "            shutil.rmtree(path+dir_name)\n",
    "        elif answer == 'n':\n",
    "            dir_name = input(\"새로운 폴더명을 입력하세요: \")\n",
    "        else:\n",
    "            continue\n",
    "    if dir_name not in ls_dir:\n",
    "        break\n",
    "        \n",
    "os.makedirs(path + dir_name)\n",
    "\n",
    "# 이미지 저장\n",
    "cnt = 0\n",
    "for url in tqdm(ls_img, desc='images saving...'):\n",
    "    cnt += 1\n",
    "    sfdir = path + dir_name + '/' + keyword + str(cnt) +'.jpg'\n",
    "    urllib.request.urlretrieve(url, sfdir)\n",
    "    \n",
    "driver.close()\n",
    "print('-------- 파일 저장 완료 ---------')"
   ]
  },
  {
   "cell_type": "markdown",
   "metadata": {},
   "source": [
    "# Selenium Naver"
   ]
  },
  {
   "cell_type": "code",
   "execution_count": 28,
   "metadata": {},
   "outputs": [
    {
     "name": "stdout",
     "output_type": "stream",
     "text": [
      "검색어를 입력하세요: 고양이\n",
      "더보기 클릭 횟수를 입력하세요(최대 8): 3\n",
      "동일한 이름의 폴더가 존재합니다, 삭제하시겠습니까? [y/n]: 고양이-2\n",
      "동일한 이름의 폴더가 존재합니다, 삭제하시겠습니까? [y/n]: 고양이-3\n",
      "동일한 이름의 폴더가 존재합니다, 삭제하시겠습니까? [y/n]: 고양이_3\n",
      "동일한 이름의 폴더가 존재합니다, 삭제하시겠습니까? [y/n]: 고야이_5\n",
      "동일한 이름의 폴더가 존재합니다, 삭제하시겠습니까? [y/n]: 고양이\n",
      "동일한 이름의 폴더가 존재합니다, 삭제하시겠습니까? [y/n]: 고야이\n",
      "동일한 이름의 폴더가 존재합니다, 삭제하시겠습니까? [y/n]: 양ㅇㄹㄴㄹㅇ\n",
      "동일한 이름의 폴더가 존재합니다, 삭제하시겠습니까? [y/n]: sgag\n",
      "동일한 이름의 폴더가 존재합니다, 삭제하시겠습니까? [y/n]: n\n",
      "새로운 폴더명을 입력하세요: 고양이_2\n"
     ]
    },
    {
     "name": "stderr",
     "output_type": "stream",
     "text": [
      "images saving...: 100%|████████████████████████████████████████████████████████████████| 62/62 [00:05<00:00, 10.98it/s]"
     ]
    },
    {
     "name": "stdout",
     "output_type": "stream",
     "text": [
      "-------- 파일 저장 완료 ---------\n"
     ]
    },
    {
     "name": "stderr",
     "output_type": "stream",
     "text": [
      "\n"
     ]
    }
   ],
   "source": [
    "from tqdm import tqdm\n",
    "import requests\n",
    "from bs4 import BeautifulSoup as bs\n",
    "from selenium import webdriver\n",
    "from selenium.webdriver.common.keys import Keys\n",
    "import urllib\n",
    "import time\n",
    "import shutil\n",
    "import os\n",
    "\n",
    "# 검색어 입력\n",
    "keyword = input('검색어를 입력하세요: ')\n",
    "page = int(input('더보기 클릭 횟수를 입력하세요(최대 8): '))\n",
    "\n",
    "# 브라우저 열기\n",
    "url = 'https://search.naver.com/search.naver?where=image&sm=tab_jum&query='+keyword\n",
    "\n",
    "driver = webdriver.Chrome('c:\\edu\\py_data\\crawling\\chromedriver.exe')\n",
    "driver.get(url)\n",
    "driver.implicitly_wait(3)\n",
    "\n",
    "# 이미지 링크 추출\n",
    "for _ in range(page):\n",
    "    driver.execute_script(\"window.scrollTo(0, document.body.scrollHeight);\")\n",
    "    driver.implicitly_wait(3)\n",
    "    time.sleep(10)\n",
    "\n",
    "html = driver.page_source\n",
    "soup = bs(html, 'html.parser')\n",
    "\n",
    "div = soup.find_all('div', class_='photo_bx api_ani_send _photoBox')\n",
    "\n",
    "ls_img = []\n",
    "for d in div:\n",
    "    img = d.find('img', class_='_image _listImage')\n",
    "    img_url = img['src']\n",
    "    ls_img.append(img_url)\n",
    "    time.sleep(1)\n",
    "    \n",
    "# 중복 이미지 제거\n",
    "ls_img = set(ls_img)\n",
    "    \n",
    "# 폴더 생성\n",
    "path = './py_data/crawling/image/'\n",
    "dir_name = keyword\n",
    "\n",
    "while True:\n",
    "    ls_dir = os.listdir(path)\n",
    "    if dir_name in ls_dir:\n",
    "        answer = input(\"동일한 이름의 폴더가 존재합니다, 삭제하시겠습니까? [y/n]: \" )\n",
    "        if answer == 'y':\n",
    "            shutil.rmtree(path+dir_name)\n",
    "        elif answer == 'n':\n",
    "            dir_name = input(\"새로운 폴더명을 입력하세요: \")\n",
    "        else:\n",
    "            continue\n",
    "    if dir_name not in ls_dir:\n",
    "        break\n",
    "        \n",
    "os.makedirs(path + dir_name)\n",
    "\n",
    "# 이미지 저장\n",
    "cnt = 0\n",
    "for url in tqdm(ls_img, desc='images saving...'):\n",
    "    cnt += 1\n",
    "    sfdir = path + dir_name + '/' + keyword + str(cnt) +'.jpg'\n",
    "    urllib.request.urlretrieve(url, sfdir)\n",
    "    \n",
    "driver.close()\n",
    "print('-------- 파일 저장 완료 ---------')"
   ]
  },
  {
   "cell_type": "code",
   "execution_count": 29,
   "metadata": {},
   "outputs": [],
   "source": [
    "ls_img = []\n",
    "for d in div:\n",
    "    img = d.find('img', class_='_image _listImage')\n",
    "    img_url = img['src']\n",
    "    ls_img.append(img_url)"
   ]
  },
  {
   "cell_type": "code",
   "execution_count": 36,
   "metadata": {},
   "outputs": [
    {
     "name": "stdout",
     "output_type": "stream",
     "text": [
      "240\n"
     ]
    }
   ],
   "source": [
    "print(len(ls_img))"
   ]
  },
  {
   "cell_type": "code",
   "execution_count": 31,
   "metadata": {},
   "outputs": [
    {
     "name": "stdout",
     "output_type": "stream",
     "text": [
      "62\n"
     ]
    }
   ],
   "source": [
    "set_img = set(ls_img)\n",
    "print(len(set_img))"
   ]
  },
  {
   "cell_type": "code",
   "execution_count": 32,
   "metadata": {},
   "outputs": [],
   "source": [
    "idx = []\n",
    "for i, img in enumerate(ls_img):\n",
    "    cnt = ls_img.count(img)\n",
    "    if cnt > 1:\n",
    "        idx.append([i, cnt])"
   ]
  },
  {
   "cell_type": "code",
   "execution_count": 33,
   "metadata": {},
   "outputs": [
    {
     "name": "stdout",
     "output_type": "stream",
     "text": [
      "179\n",
      "[[21, 179], [22, 179], [23, 179], [24, 179], [25, 179], [26, 179], [27, 179], [28, 179], [29, 179], [30, 179], [31, 179], [32, 179], [33, 179], [34, 179], [35, 179], [37, 179], [38, 179], [39, 179], [59, 179], [60, 179], [61, 179], [62, 179], [63, 179], [64, 179], [65, 179], [66, 179], [67, 179], [68, 179], [69, 179], [70, 179], [71, 179], [72, 179], [73, 179], [74, 179], [75, 179], [76, 179], [77, 179], [78, 179], [79, 179], [80, 179], [81, 179], [82, 179], [83, 179], [84, 179], [85, 179], [86, 179], [87, 179], [88, 179], [89, 179], [90, 179], [91, 179], [92, 179], [93, 179], [94, 179], [95, 179], [96, 179], [97, 179], [98, 179], [99, 179], [100, 179], [101, 179], [102, 179], [103, 179], [104, 179], [105, 179], [106, 179], [107, 179], [108, 179], [109, 179], [110, 179], [111, 179], [112, 179], [113, 179], [114, 179], [115, 179], [116, 179], [117, 179], [118, 179], [119, 179], [120, 179], [121, 179], [122, 179], [123, 179], [124, 179], [125, 179], [126, 179], [127, 179], [128, 179], [129, 179], [130, 179], [131, 179], [133, 179], [134, 179], [154, 179], [155, 179], [156, 179], [157, 179], [158, 179], [159, 179], [160, 179], [161, 179], [162, 179], [163, 179], [164, 179], [165, 179], [166, 179], [167, 179], [168, 179], [169, 179], [170, 179], [171, 179], [172, 179], [173, 179], [174, 179], [175, 179], [176, 179], [177, 179], [178, 179], [179, 179], [180, 179], [181, 179], [182, 179], [183, 179], [184, 179], [185, 179], [186, 179], [187, 179], [188, 179], [189, 179], [190, 179], [191, 179], [192, 179], [193, 179], [194, 179], [195, 179], [196, 179], [197, 179], [198, 179], [199, 179], [200, 179], [201, 179], [202, 179], [203, 179], [204, 179], [205, 179], [206, 179], [207, 179], [208, 179], [209, 179], [210, 179], [211, 179], [212, 179], [213, 179], [214, 179], [215, 179], [216, 179], [217, 179], [218, 179], [219, 179], [220, 179], [221, 179], [222, 179], [223, 179], [224, 179], [225, 179], [226, 179], [227, 179], [228, 179], [229, 179], [230, 179], [231, 179], [232, 179], [233, 179], [234, 179], [235, 179], [236, 179], [237, 179], [238, 179], [239, 179]]\n"
     ]
    }
   ],
   "source": [
    "print(len(idx))\n",
    "print(idx)"
   ]
  },
  {
   "cell_type": "code",
   "execution_count": 34,
   "metadata": {},
   "outputs": [
    {
     "data": {
      "text/plain": [
       "179"
      ]
     },
     "execution_count": 34,
     "metadata": {},
     "output_type": "execute_result"
    }
   ],
   "source": [
    "ls_img.count(ls_img[100])"
   ]
  },
  {
   "cell_type": "code",
   "execution_count": 35,
   "metadata": {},
   "outputs": [
    {
     "data": {
      "text/plain": [
       "'data:image/gif;base64,R0lGODlhAQABAIAAAAAAAP///yH5BAEAAAAALAAAAAABAAEAAAIBRAA7'"
      ]
     },
     "execution_count": 35,
     "metadata": {},
     "output_type": "execute_result"
    }
   ],
   "source": [
    "ls_img[35]"
   ]
  },
  {
   "cell_type": "markdown",
   "metadata": {},
   "source": [
    "# Naver Cafe\n",
    "- `driver.switch_to.window(driver.window_handles[0])`: 탭 전환"
   ]
  },
  {
   "cell_type": "code",
   "execution_count": 86,
   "metadata": {},
   "outputs": [],
   "source": [
    "from tqdm import tqdm\n",
    "import requests\n",
    "from bs4 import BeautifulSoup as bs\n",
    "from selenium import webdriver\n",
    "from selenium.webdriver.common.keys import Keys\n",
    "import urllib\n",
    "import time\n",
    "import shutil\n",
    "import os\n",
    "\n",
    "# 브라우저 띄우기\n",
    "keyword = '안마기'\n",
    "end_page = 3\n",
    "url = 'https://section.cafe.naver.com/cafe-home/my-cafe/join'\n",
    "driver = webdriver.Chrome('./py_data/crawling/chromedriver.exe')\n",
    "driver.get(url)\n",
    "\n",
    "# 검색어 입력\n",
    "search = driver.find_element_by_xpath('//*[@id=\"header\"]/div[1]/div/form/fieldset/div/div/input')\n",
    "search.click()\n",
    "search.send_keys(keyword)\n",
    "search.send_keys(Keys.ENTER)\n",
    "time.sleep(1)\n",
    "\n",
    "# 전체글 클릭\n",
    "driver.find_element_by_xpath('//*[@id=\"app\"]/div/div[2]/div/div[1]/div[2]/a[3]').click()\n",
    "time.sleep(1)\n",
    "\n",
    "# 더보기 클릭\n",
    "driver.find_element_by_xpath('//*[@id=\"app\"]/div/div[2]/div/div[1]/div[3]/div/div[2]/div/a').click()\n",
    "time.sleep(1)\n",
    "\n",
    "# html 수집\n",
    "html = driver.page_source\n",
    "soup = bs(html, 'html.parser')\n",
    "div = soup.find_all('li', class_='article_item')\n",
    "\n",
    "# 링크 수집\n",
    "ls_url = []\n",
    "for d in div:\n",
    "    href = d.find('a', {'target':'_blank'})['href']\n",
    "    ls_url.append(href)\n",
    "\n",
    "# 각 페이지 html 수집\n",
    "for url in ls_url:\n",
    "    driver.get(url)\n",
    "    time.sleep(1)\n",
    "    \n",
    "    # iframe 전환\n",
    "    driver.switch_to.frame('cafe_main')\n",
    "    time.sleep(1)\n",
    "    \n",
    "    html = driver.page_source\n",
    "    soup = bs(html, 'html.parser')\n",
    "    break"
   ]
  },
  {
   "cell_type": "markdown",
   "metadata": {},
   "source": [
    "- 본문 텍스트"
   ]
  },
  {
   "cell_type": "code",
   "execution_count": 123,
   "metadata": {},
   "outputs": [
    {
     "data": {
      "text/plain": [
       "'안녕하세요겨울내내 몸을 자주 움츠려서 그런지 몰라도뒷목부터 허리까지 찌뿌둥한 느낌 때문에밤잠을 자주 설치곤 했었는데요 ㅠ좀 완화시킬 방법을 찾아보다가결국 꾸준한 관리가 답이다 싶어목 어깨 안마기를 알아보았어요 처음엔 앉기만 하면 알아서 해주는 스타일이편할 것 같아 안마의자로 알아보았지만놓을 공간도 마땅치 않고 가격도 너무 부담스러워서절망하고 있었어요직접 들고 해야하는 제품은 불편해서몇 번 쓰다가 구석에 처박아 놀 것 같고요.. 귀찮게 손이 많이 안가면서 비싸지 않고 보관이 쉬운 목 어깨 안마기 제품은 없을까 다방면으로 찾아보다가제 눈에 들어온 제품은바로 목 어깨 안마기가유난히 좋은 풀리지오예요 목 어깨 안마기 용도는 물론신체를 지탱해주는 등허리 엉덩이까지전체적으로 받아볼 수 있는전신 안마기라는 점이 더욱 마음에 들었어요 목 안마봉 높이 조절이 돼서누구나 앉은 키에 맞게 목 어깨 안마기를 받아볼 수 있어요뒷목과 승모근 쇄골 위쪽까지 깊숙이안마 되니까 시중의 웬만한 전용 목 어깨 안마기보다 더 나은 것 같아요  Loading... player_likesound_mutesound_mutesound_volume2sound_volume3 [x]Player Size:0 x 0Current Resolution:0PMax Abr Resolution:0PProtocol:hlsCurrent Bandwidth:Average Bandwidth:Buffer Health:Frame Drop Rate:0/0 도움말라이센스Video Statistic Version 4.19.10 (HLS)Build Date (2020/6/3)NAVER Corp.     동영상 인코딩 중입니다.5분 이상 소요될 수 있으며, 영상의 길이에 따라 소요 시간은 달라집니다.    목 어깨 안마기 내 몸에 딱 맞춤    재생 수3    topleft rightbottom마우스를 드래그 하세요360° Video도움말 MULTI TRACK멀티트랙의 트랙별 영상은 우측 관련영상에서 볼 수 있습니다.선거광고 안내       음소거00:00 | 00:09 화질 선택 옵션자동     자동       270p       480p       720p  HD      1080p  HD  화질  전체화면    00:01  00:03  00:05  00:07 광고정보 더보기초 후 SKIP초 후 재생SKIP광고 후 계속됩니다.SNS 공유소스 코드Band Twitter Facebook Blog CafeURL 주소복사HTML 소스544 x 306740 x 416936 x 5261280 x 720복사Flash 미지원으로 Object 코드 퍼가기 기능은 더 이상 지원되지않습니다.도움말 플레이어 URL 복사 레이어 닫기접기/펴기목 어깨 안마기 내 몸에 딱 맞춤목 어깨 안마기 내 몸에 딱 맞춤#어깨안마기 두가지 형태의 목 어깨 안마기 안마봉이부드러우면서 강력하게 목 어깨를 주물러 주는데요이는 대형 안마의자 원리와 같다고 하네요 등허리는 지압과 두드림이 같이 들어가서더 퀄리티 높은 안마를 받아볼 수 있어요두드림까지 되는 건 이 가격대에찾아볼 수 없던데 말이에요 엉덩이 부위에는 진동이 올라와서경직되어있던 몸을 확실히 더 이완시켜 주는 것 같아요마사지 효과가 좋아지는 기분이 확~ 이 정도 가격에 이런 효과라니홈페이지를 상세하게 읽어보니풀리지오는 특허 낸 여러가지 안마 기술을 따로 보유하고 있다고 하네요어쩐지~ 차에서도 쓸 수 있고가볍게 접어서 보관할 수 있는참 이점 많은 제품차량용 시거잭도 받았어요~ 1년 무상 A/S까지 된다고 하니걱정 없이 매일 사용할 수 있을 것 같아요목 어깨 뭉침, 등허리 통증, 차량용 안마기로도요 제품 강추합니다~  '"
      ]
     },
     "execution_count": 123,
     "metadata": {},
     "output_type": "execute_result"
    }
   ],
   "source": [
    "soup.find('div', class_='se-viewer se-theme-default').text.replace('\\n', '').replace('\\u200b', '')"
   ]
  },
  {
   "cell_type": "markdown",
   "metadata": {},
   "source": [
    "- 댓글 텍스트"
   ]
  },
  {
   "cell_type": "code",
   "execution_count": 120,
   "metadata": {},
   "outputs": [],
   "source": [
    "div = soup.find('ul', class_='comment_list').find_all('span', class_='text_comment')\n",
    "\n",
    "ls_comments = []\n",
    "for d in div:\n",
    "    cmt = d.text\n",
    "    ls_comments.append(cmt)"
   ]
  },
  {
   "cell_type": "code",
   "execution_count": 122,
   "metadata": {},
   "outputs": [
    {
     "data": {
      "text/plain": [
       "['엄청 시원할꺼 같아요~',\n",
       " '네~ 저보다 남편이 훨씬 좋아해요. 시원하다고',\n",
       " '목어깨안마기 알아보고 있었는데 이것도 괜찮겠네요~ 풀리지오 맞나요?',\n",
       " '네~ 풀리지오 맞아요~ 구경하실꺼면 한번 보세요~https://smartstore.naver.com/bskorea2008/products/486643805',\n",
       " '지뿌둥할 땐 안마가 최고죠 ^^',\n",
       " '한번써보니깐 매일 하게되더라고요',\n",
       " '저 핸디형 있는데 뒷목 하다가 손목 꺾여요 ㅠㅠ',\n",
       " '마사지건 할까 하다가 이거한거에요~ 생각보다 무겁다 하더라고요',\n",
       " '와 목높이 조절도 되네요 좋아보인다',\n",
       " '높이 조절도 되고 승모근까지 딱 걸려서 더 좋은 것 같아요',\n",
       " '어른 선물용으로도 좋겠어요!',\n",
       " '아마 저보다 어른들이 더 좋아하실걸요 ㅎ',\n",
       " '내구성 좋아보이는데 이동도 쉽다니 끌리네요',\n",
       " '안쓸때 접어서 보관하기 좋더라고요',\n",
       " '안마기가 차량 시트같은 느낌이라 고급스러워보이네요',\n",
       " '그쵸~ 뭔가 고급지 시트 느낌나죠?']"
      ]
     },
     "execution_count": 122,
     "metadata": {},
     "output_type": "execute_result"
    }
   ],
   "source": [
    "ls_comments"
   ]
  },
  {
   "cell_type": "markdown",
   "metadata": {},
   "source": [
    "# 네이버 크롤링 - 페이지 설정"
   ]
  },
  {
   "cell_type": "code",
   "execution_count": 145,
   "metadata": {},
   "outputs": [
    {
     "name": "stderr",
     "output_type": "stream",
     "text": [
      "data crawing...: 100%|█████████████████████████████████████████████████████████████████| 30/30 [01:22<00:00,  2.76s/it]"
     ]
    },
    {
     "name": "stdout",
     "output_type": "stream",
     "text": [
      "-------- 수집 완료 ----------\n"
     ]
    },
    {
     "name": "stderr",
     "output_type": "stream",
     "text": [
      "\n"
     ]
    }
   ],
   "source": [
    "from tqdm import tqdm\n",
    "import requests\n",
    "from bs4 import BeautifulSoup as bs\n",
    "from selenium import webdriver\n",
    "from selenium.webdriver.common.keys import Keys\n",
    "import urllib\n",
    "import time\n",
    "import shutil\n",
    "import os\n",
    "import re\n",
    "\n",
    "# 브라우저 띄우기\n",
    "keyword = '안마기'\n",
    "page = 3\n",
    "driver = webdriver.Chrome('./py_data/crawling/chromedriver.exe')\n",
    "\n",
    "# 페이지 반복하며 url 추출\n",
    "ls_url = []\n",
    "for p in range(1, page+1):\n",
    "    url = 'https://cafe.naver.com/ca-fe/home/search/articles?q='+keyword+'&p='+ str(p)\n",
    "    driver.get(url)\n",
    "    time.sleep(1)\n",
    "\n",
    "    # html 수집\n",
    "    html = driver.page_source\n",
    "    soup = bs(html, 'html.parser')\n",
    "    div = soup.find_all('li', class_='article_item')\n",
    "\n",
    "    # 링크 수집\n",
    "    for d in div:\n",
    "        href = d.find('a', {'target':'_blank'})['href']\n",
    "        ls_url.append(href)\n",
    "\n",
    "# 각 페이지 html 수집\n",
    "ls_info = []\n",
    "for url in tqdm(ls_url, desc='data crawing...'):\n",
    "    driver.get(url)\n",
    "    time.sleep(1)\n",
    "    \n",
    "    # iframe 전환\n",
    "    driver.switch_to.frame('cafe_main')\n",
    "    time.sleep(1)\n",
    "    \n",
    "    # 텍스트 수집\n",
    "    html = driver.page_source\n",
    "    soup = bs(html, 'html.parser')\n",
    "    \n",
    "    post = soup.find('div', class_='se-main-container').text\n",
    "    post = re.sub('[^a-zA-Zㄱ-힣 0-9.,:;\\'\"/!@#$%^&*()-_]', '', post)\n",
    "    \n",
    "    div = soup.find('ul', class_='comment_list')\n",
    "    comments = div.find_all('span', class_='text_comment')\n",
    "    \n",
    "    ls_comments = []\n",
    "    for c in comments:\n",
    "        cmt = c.text\n",
    "        cmt = re.sub('[^a-zA-Zㄱ-힣 0-9.,:;\\'\"/!@#$%^&*()-_]', '', cmt)\n",
    "        ls_comments.append(cmt)\n",
    "    \n",
    "    ls_info.append([post, ls_comments])\n",
    "    \n",
    "print('-------- 수집 완료 ----------')"
   ]
  },
  {
   "cell_type": "code",
   "execution_count": 146,
   "metadata": {},
   "outputs": [
    {
     "name": "stdout",
     "output_type": "stream",
     "text": [
      "30\n"
     ]
    }
   ],
   "source": [
    "print(len(ls_url))"
   ]
  },
  {
   "cell_type": "code",
   "execution_count": 150,
   "metadata": {},
   "outputs": [
    {
     "data": {
      "text/plain": [
       "'안녕하세요겨울내내 몸을 자주 움츠려서 그런지 몰라도뒷목부터 허리까지 찌뿌둥한 느낌 때문에밤잠을 자주 설치곤 했었는데요 ㅠ좀 완화시킬 방법을 찾아보다가결국 꾸준한 관리가 답이다 싶어목 어깨 안마기를 알아보았어요 처음엔 앉기만 하면 알아서 해주는 스타일이편할 것 같아 안마의자로 알아보았지만놓을 공간도 마땅치 않고 가격도 너무 부담스러워서절망하고 있었어요직접 들고 해야하는 제품은 불편해서몇 번 쓰다가 구석에 처박아 놀 것 같고요.. 귀찮게 손이 많이 안가면서 비싸지 않고 보관이 쉬운 목 어깨 안마기 제품은 없을까 다방면으로 찾아보다가제 눈에 들어온 제품은바로 목 어깨 안마기가유난히 좋은 풀리지오예요 목 어깨 안마기 용도는 물론신체를 지탱해주는 등허리 엉덩이까지전체적으로 받아볼 수 있는전신 안마기라는 점이 더욱 마음에 들었어요 목 안마봉 높이 조절이 돼서누구나 앉은 키에 맞게 목 어깨 안마기를 받아볼 수 있어요뒷목과 승모근 쇄골 위쪽까지 깊숙이안마 되니까 시중의 웬만한 전용 목 어깨 안마기보다 더 나은 것 같아요  Loading... player_likesound_mutesound_mutesound_volume2sound_volume3 [x]Player Size:0 x 0Current Resolution:0PMax Abr Resolution:0PProtocol:hlsCurrent Bandwidth:Average Bandwidth:Buffer Health:Frame Drop Rate:0/0 도움말라이센스Video Statistic Version 4.19.10 (HLS)Build Date (2020/6/3)NAVER Corp.     동영상 인코딩 중입니다.5분 이상 소요될 수 있으며, 영상의 길이에 따라 소요 시간은 달라집니다.    목 어깨 안마기 내 몸에 딱 맞춤    재생 수3    topleft rightbottom마우스를 드래그 하세요360 Video도움말 MULTI TRACK멀티트랙의 트랙별 영상은 우측 관련영상에서 볼 수 있습니다.선거광고 안내       음소거00:00  00:09 화질 선택 옵션자동     자동       270p       480p       720p  HD      1080p  HD  화질  전체화면    00:01  00:03  00:05  00:07 광고정보 더보기초 후 SKIP초 후 재생SKIP광고 후 계속됩니다.SNS 공유소스 코드Band Twitter Facebook Blog CafeURL 주소복사HTML 소스544 x 306740 x 416936 x 5261280 x 720복사Flash 미지원으로 Object 코드 퍼가기 기능은 더 이상 지원되지않습니다.도움말 플레이어 URL 복사 레이어 닫기접기/펴기목 어깨 안마기 내 몸에 딱 맞춤목 어깨 안마기 내 몸에 딱 맞춤#어깨안마기 두가지 형태의 목 어깨 안마기 안마봉이부드러우면서 강력하게 목 어깨를 주물러 주는데요이는 대형 안마의자 원리와 같다고 하네요 등허리는 지압과 두드림이 같이 들어가서더 퀄리티 높은 안마를 받아볼 수 있어요두드림까지 되는 건 이 가격대에찾아볼 수 없던데 말이에요 엉덩이 부위에는 진동이 올라와서경직되어있던 몸을 확실히 더 이완시켜 주는 것 같아요마사지 효과가 좋아지는 기분이 확 이 정도 가격에 이런 효과라니홈페이지를 상세하게 읽어보니풀리지오는 특허 낸 여러가지 안마 기술을 따로 보유하고 있다고 하네요어쩐지 차에서도 쓸 수 있고가볍게 접어서 보관할 수 있는참 이점 많은 제품차량용 시거잭도 받았어요 1년 무상 A/S까지 된다고 하니걱정 없이 매일 사용할 수 있을 것 같아요목 어깨 뭉침, 등허리 통증, 차량용 안마기로도요 제품 강추합니다  '"
      ]
     },
     "execution_count": 150,
     "metadata": {},
     "output_type": "execute_result"
    }
   ],
   "source": [
    "ls_info[0][0]"
   ]
  },
  {
   "cell_type": "code",
   "execution_count": 151,
   "metadata": {},
   "outputs": [
    {
     "data": {
      "text/plain": [
       "['엄청 시원할꺼 같아요',\n",
       " '네 저보다 남편이 훨씬 좋아해요. 시원하다고',\n",
       " '목어깨안마기 알아보고 있었는데 이것도 괜찮겠네요 풀리지오 맞나요?',\n",
       " '네 풀리지오 맞아요 구경하실꺼면 한번 보세요https://smartstore.naver.com/bskorea2008/products/486643805',\n",
       " '지뿌둥할 땐 안마가 최고죠 ^^',\n",
       " '한번써보니깐 매일 하게되더라고요',\n",
       " '저 핸디형 있는데 뒷목 하다가 손목 꺾여요 ㅠㅠ',\n",
       " '마사지건 할까 하다가 이거한거에요 생각보다 무겁다 하더라고요',\n",
       " '와 목높이 조절도 되네요 좋아보인다',\n",
       " '높이 조절도 되고 승모근까지 딱 걸려서 더 좋은 것 같아요',\n",
       " '어른 선물용으로도 좋겠어요!',\n",
       " '아마 저보다 어른들이 더 좋아하실걸요 ㅎ',\n",
       " '내구성 좋아보이는데 이동도 쉽다니 끌리네요',\n",
       " '안쓸때 접어서 보관하기 좋더라고요',\n",
       " '안마기가 차량 시트같은 느낌이라 고급스러워보이네요',\n",
       " '그쵸 뭔가 고급지 시트 느낌나죠?']"
      ]
     },
     "execution_count": 151,
     "metadata": {},
     "output_type": "execute_result"
    }
   ],
   "source": [
    "ls_info[0][1]"
   ]
  },
  {
   "cell_type": "code",
   "execution_count": null,
   "metadata": {},
   "outputs": [],
   "source": []
  }
 ],
 "metadata": {
  "kernelspec": {
   "display_name": "Python 3",
   "language": "python",
   "name": "python3"
  },
  "language_info": {
   "codemirror_mode": {
    "name": "ipython",
    "version": 3
   },
   "file_extension": ".py",
   "mimetype": "text/x-python",
   "name": "python",
   "nbconvert_exporter": "python",
   "pygments_lexer": "ipython3",
   "version": "3.8.5"
  }
 },
 "nbformat": 4,
 "nbformat_minor": 4
}
