{
 "cells": [
  {
   "cell_type": "markdown",
   "metadata": {},
   "source": [
    "# 전통시장 문제점 크롤링"
   ]
  },
  {
   "cell_type": "markdown",
   "metadata": {},
   "source": [
    "# 네이버 API"
   ]
  },
  {
   "cell_type": "code",
   "execution_count": 1,
   "metadata": {},
   "outputs": [],
   "source": [
    "with open('C:/Users/dojun\\Documents/api_keys/naver_api.txt') as f:\n",
    "    client_id = f.readline().replace('\\n', '')\n",
    "    client_secret = f.readline()"
   ]
  },
  {
   "cell_type": "code",
   "execution_count": 119,
   "metadata": {},
   "outputs": [],
   "source": [
    "import requests\n",
    "import pandas as pd\n",
    "import urllib.request\n",
    "from urllib.request import quote\n",
    "from urllib.parse import urlparse\n",
    "from bs4 import BeautifulSoup as bs\n",
    "\n",
    "keyword = '전통시장 좋은'\n",
    "url = 'https://openapi.naver.com/v1/search/blog.json?query=' + keyword + '&display=100&start=501'\n",
    "html = requests.get(url,headers = {\"X-Naver-Client-Id\" : client_id,\n",
    "                                   \"X-Naver-Client-Secret\" : client_secret})"
   ]
  },
  {
   "cell_type": "code",
   "execution_count": 120,
   "metadata": {},
   "outputs": [],
   "source": [
    "json1 = html.json()"
   ]
  },
  {
   "cell_type": "code",
   "execution_count": 121,
   "metadata": {},
   "outputs": [
    {
     "data": {
      "text/plain": [
       "100"
      ]
     },
     "execution_count": 121,
     "metadata": {},
     "output_type": "execute_result"
    }
   ],
   "source": [
    "len(json1['items'])"
   ]
  },
  {
   "cell_type": "code",
   "execution_count": 122,
   "metadata": {},
   "outputs": [],
   "source": [
    "df1 = pd.DataFrame(json1['items'])"
   ]
  },
  {
   "cell_type": "code",
   "execution_count": 123,
   "metadata": {},
   "outputs": [],
   "source": [
    "df = pd.concat([df, df1])"
   ]
  },
  {
   "cell_type": "code",
   "execution_count": 124,
   "metadata": {},
   "outputs": [
    {
     "data": {
      "text/plain": [
       "600"
      ]
     },
     "execution_count": 124,
     "metadata": {},
     "output_type": "execute_result"
    }
   ],
   "source": [
    "len(df)"
   ]
  },
  {
   "cell_type": "code",
   "execution_count": 125,
   "metadata": {},
   "outputs": [
    {
     "data": {
      "text/html": [
       "<div>\n",
       "<style scoped>\n",
       "    .dataframe tbody tr th:only-of-type {\n",
       "        vertical-align: middle;\n",
       "    }\n",
       "\n",
       "    .dataframe tbody tr th {\n",
       "        vertical-align: top;\n",
       "    }\n",
       "\n",
       "    .dataframe thead th {\n",
       "        text-align: right;\n",
       "    }\n",
       "</style>\n",
       "<table border=\"1\" class=\"dataframe\">\n",
       "  <thead>\n",
       "    <tr style=\"text-align: right;\">\n",
       "      <th></th>\n",
       "      <th>title</th>\n",
       "      <th>link</th>\n",
       "      <th>description</th>\n",
       "      <th>bloggername</th>\n",
       "      <th>bloggerlink</th>\n",
       "      <th>postdate</th>\n",
       "    </tr>\n",
       "  </thead>\n",
       "  <tbody>\n",
       "    <tr>\n",
       "      <th>0</th>\n",
       "      <td>홍성&lt;b&gt;전통시장&lt;/b&gt; 소머리국밥집, 식객 허영만의 백반기행 홍성편에...</td>\n",
       "      <td>https://blog.naver.com/hsgstory?Redirect=Log&amp;l...</td>\n",
       "      <td>말고 &lt;b&gt;시장&lt;/b&gt; 건물에 주차하셔야 주차비가 무료입니다. ● 위치 : 충남 홍...</td>\n",
       "      <td>함께하는 홍성이야기</td>\n",
       "      <td>https://blog.naver.com/hsgstory</td>\n",
       "      <td>20210128</td>\n",
       "    </tr>\n",
       "    <tr>\n",
       "      <th>1</th>\n",
       "      <td>설 차례상 준비는 &lt;b&gt;전통시장&lt;/b&gt;에서</td>\n",
       "      <td>https://blog.naver.com/sinjong3?Redirect=Log&amp;l...</td>\n",
       "      <td>창평 &lt;b&gt;전통시장&lt;/b&gt;, 담양&lt;b&gt;시장&lt;/b&gt;, 말바우&lt;b&gt;시장&lt;/b&gt;, 전북 ...</td>\n",
       "      <td>담양매화나무집한옥민박 &amp; 매화담농촌교육농장</td>\n",
       "      <td>https://blog.naver.com/sinjong3</td>\n",
       "      <td>20210202</td>\n",
       "    </tr>\n",
       "    <tr>\n",
       "      <th>2</th>\n",
       "      <td>밀양5일장 볼거리 가득한 삼랑진송지&lt;b&gt;전통시장&lt;/b&gt;  4일 9일 열려요.</td>\n",
       "      <td>https://blog.naver.com/miryangsi?Redirect=Log&amp;...</td>\n",
       "      <td>삼랑진&lt;b&gt;전통시장&lt;/b&gt;의 주소를 네비게이션에 찍고 달려가면 &lt;b&gt;시장&lt;/b&gt; 인...</td>\n",
       "      <td>밀양시 블로그, 날 좀 보소! 밀양</td>\n",
       "      <td>https://blog.naver.com/miryangsi</td>\n",
       "      <td>20210120</td>\n",
       "    </tr>\n",
       "    <tr>\n",
       "      <th>3</th>\n",
       "      <td>성주 가볼만한공 &lt;b&gt;전통시장&lt;/b&gt; 성주 오일장!</td>\n",
       "      <td>https://blog.naver.com/govlekgml8?Redirect=Log...</td>\n",
       "      <td>생강 홍시 그리고 진짜 요즘 너무 &lt;b&gt;좋은&lt;/b&gt; 달달구리 홍시 너무너무너무 예쁜...</td>\n",
       "      <td>clara</td>\n",
       "      <td>https://blog.naver.com/govlekgml8</td>\n",
       "      <td>20201108</td>\n",
       "    </tr>\n",
       "    <tr>\n",
       "      <th>4</th>\n",
       "      <td>&lt;b&gt;전통시장&lt;/b&gt;에서 즉석식품제조가공 시작</td>\n",
       "      <td>https://blog.naver.com/yun_ga_ne?Redirect=Log&amp;...</td>\n",
       "      <td>청송군 진보면 &lt;b&gt;전통시장&lt;/b&gt; 점포에 입점한 지 어언 2년이 넘었습니다. 활성...</td>\n",
       "      <td>송이골</td>\n",
       "      <td>https://blog.naver.com/yun_ga_ne</td>\n",
       "      <td>20210131</td>\n",
       "    </tr>\n",
       "  </tbody>\n",
       "</table>\n",
       "</div>"
      ],
      "text/plain": [
       "                                         title  \\\n",
       "0  홍성<b>전통시장</b> 소머리국밥집, 식객 허영만의 백반기행 홍성편에...    \n",
       "1                      설 차례상 준비는 <b>전통시장</b>에서   \n",
       "2   밀양5일장 볼거리 가득한 삼랑진송지<b>전통시장</b>  4일 9일 열려요.   \n",
       "3                 성주 가볼만한공 <b>전통시장</b> 성주 오일장!   \n",
       "4                    <b>전통시장</b>에서 즉석식품제조가공 시작   \n",
       "\n",
       "                                                link  \\\n",
       "0  https://blog.naver.com/hsgstory?Redirect=Log&l...   \n",
       "1  https://blog.naver.com/sinjong3?Redirect=Log&l...   \n",
       "2  https://blog.naver.com/miryangsi?Redirect=Log&...   \n",
       "3  https://blog.naver.com/govlekgml8?Redirect=Log...   \n",
       "4  https://blog.naver.com/yun_ga_ne?Redirect=Log&...   \n",
       "\n",
       "                                         description              bloggername  \\\n",
       "0  말고 <b>시장</b> 건물에 주차하셔야 주차비가 무료입니다. ● 위치 : 충남 홍...               함께하는 홍성이야기   \n",
       "1  창평 <b>전통시장</b>, 담양<b>시장</b>, 말바우<b>시장</b>, 전북 ...  담양매화나무집한옥민박 & 매화담농촌교육농장   \n",
       "2  삼랑진<b>전통시장</b>의 주소를 네비게이션에 찍고 달려가면 <b>시장</b> 인...      밀양시 블로그, 날 좀 보소! 밀양   \n",
       "3  생강 홍시 그리고 진짜 요즘 너무 <b>좋은</b> 달달구리 홍시 너무너무너무 예쁜...                    clara   \n",
       "4  청송군 진보면 <b>전통시장</b> 점포에 입점한 지 어언 2년이 넘었습니다. 활성...                      송이골   \n",
       "\n",
       "                         bloggerlink  postdate  \n",
       "0    https://blog.naver.com/hsgstory  20210128  \n",
       "1    https://blog.naver.com/sinjong3  20210202  \n",
       "2   https://blog.naver.com/miryangsi  20210120  \n",
       "3  https://blog.naver.com/govlekgml8  20201108  \n",
       "4   https://blog.naver.com/yun_ga_ne  20210131  "
      ]
     },
     "execution_count": 125,
     "metadata": {},
     "output_type": "execute_result"
    }
   ],
   "source": [
    "df.head()"
   ]
  },
  {
   "cell_type": "code",
   "execution_count": 126,
   "metadata": {},
   "outputs": [],
   "source": [
    "df = df.sort_values('postdate', ascending=False)"
   ]
  },
  {
   "cell_type": "code",
   "execution_count": 127,
   "metadata": {},
   "outputs": [],
   "source": [
    "df.to_excel('./py_data/crawling/전통시장/전통시장_좋은_블로그(전체).xlsx')"
   ]
  },
  {
   "cell_type": "code",
   "execution_count": 128,
   "metadata": {},
   "outputs": [
    {
     "data": {
      "text/html": [
       "<div>\n",
       "<style scoped>\n",
       "    .dataframe tbody tr th:only-of-type {\n",
       "        vertical-align: middle;\n",
       "    }\n",
       "\n",
       "    .dataframe tbody tr th {\n",
       "        vertical-align: top;\n",
       "    }\n",
       "\n",
       "    .dataframe thead th {\n",
       "        text-align: right;\n",
       "    }\n",
       "</style>\n",
       "<table border=\"1\" class=\"dataframe\">\n",
       "  <thead>\n",
       "    <tr style=\"text-align: right;\">\n",
       "      <th></th>\n",
       "      <th>title</th>\n",
       "      <th>link</th>\n",
       "      <th>description</th>\n",
       "      <th>bloggername</th>\n",
       "      <th>bloggerlink</th>\n",
       "      <th>postdate</th>\n",
       "    </tr>\n",
       "  </thead>\n",
       "  <tbody>\n",
       "    <tr>\n",
       "      <th>75</th>\n",
       "      <td>다 같이 돌자 &lt;b&gt;시장&lt;/b&gt; 한 바퀴 시즌2 #71 평창 봉평&lt;b&gt;전통시장&lt;/b&gt;</td>\n",
       "      <td>https://blog.naver.com/yestv_blog?Redirect=Log...</td>\n",
       "      <td>메밀껍질들이 베개 속으로 ~ 쏘옥 ~ ❗ 에이~ 에스~ 엠~ 알rrr 사그락~ 기분...</td>\n",
       "      <td>소상공인방송</td>\n",
       "      <td>https://blog.naver.com/yestv_blog</td>\n",
       "      <td>20210203</td>\n",
       "    </tr>\n",
       "    <tr>\n",
       "      <th>72</th>\n",
       "      <td>온양온천 &lt;b&gt;전통시장&lt;/b&gt; 방문기</td>\n",
       "      <td>https://blog.naver.com/mildfatty?Redirect=Log&amp;...</td>\n",
       "      <td>할룽 주말에 온양 &lt;b&gt;전통시장&lt;/b&gt;에 방문해봤어요 ^^ &lt;b&gt;시장&lt;/b&gt; 들어가...</td>\n",
       "      <td>먹짱의 먹부림 일상</td>\n",
       "      <td>https://blog.naver.com/mildfatty</td>\n",
       "      <td>20210203</td>\n",
       "    </tr>\n",
       "    <tr>\n",
       "      <th>37</th>\n",
       "      <td>해운대와 해운대 &lt;b&gt;전통시장&lt;/b&gt; 랜선 타고 떠나자</td>\n",
       "      <td>https://blog.naver.com/kkyycc27?Redirect=Log&amp;l...</td>\n",
       "      <td>&amp;quot; 을 꼽을 만큼 &lt;b&gt;좋은&lt;/b&gt; 기억이 남았던 모양입니다. 코로나가 물...</td>\n",
       "      <td>내 프레임 속에 담긴 세상</td>\n",
       "      <td>https://blog.naver.com/kkyycc27</td>\n",
       "      <td>20210203</td>\n",
       "    </tr>\n",
       "    <tr>\n",
       "      <th>85</th>\n",
       "      <td>둔촌역 &lt;b&gt;전통시장&lt;/b&gt; - 사거리 청과 (내돈내산)</td>\n",
       "      <td>https://blog.naver.com/kjinc7777?Redirect=Log&amp;...</td>\n",
       "      <td>안녕하세요 오늘은 #둔촌역&lt;b&gt;전통시장&lt;/b&gt; #사거리청과 포스팅을 해볼거예요 #둔...</td>\n",
       "      <td>♡ 빈손장보기 ♡</td>\n",
       "      <td>https://blog.naver.com/kjinc7777</td>\n",
       "      <td>20210203</td>\n",
       "    </tr>\n",
       "    <tr>\n",
       "      <th>45</th>\n",
       "      <td>부산 초량&lt;b&gt;시장&lt;/b&gt; 탐방, 부산역 근처 &lt;b&gt;전통시장&lt;/b&gt;</td>\n",
       "      <td>https://blog.naver.com/hyoyeol?Redirect=Log&amp;lo...</td>\n",
       "      <td>초량&lt;b&gt;시장&lt;/b&gt;도 대책이 필요해 보입니다. 초량&lt;b&gt;시장&lt;/b&gt;에서는 주로 해...</td>\n",
       "      <td>늑대털쓴양의 버킷 스토리</td>\n",
       "      <td>https://blog.naver.com/hyoyeol</td>\n",
       "      <td>20210202</td>\n",
       "    </tr>\n",
       "    <tr>\n",
       "      <th>...</th>\n",
       "      <td>...</td>\n",
       "      <td>...</td>\n",
       "      <td>...</td>\n",
       "      <td>...</td>\n",
       "      <td>...</td>\n",
       "      <td>...</td>\n",
       "    </tr>\n",
       "    <tr>\n",
       "      <th>74</th>\n",
       "      <td>[밀양&lt;b&gt;전통시장&lt;/b&gt;]1,6일은 밀양 무안 &lt;b&gt;전통시장&lt;/b&gt;의 장날!!</td>\n",
       "      <td>https://blog.naver.com/miryangsi?Redirect=Log&amp;...</td>\n",
       "      <td>코코넛을 닮은 듯도 하고 수세미를 닮은 듯한 화초는 공기 정화에 &lt;b&gt;좋은&lt;/b&gt; ...</td>\n",
       "      <td>밀양시 블로그, 날 좀 보소! 밀양</td>\n",
       "      <td>https://blog.naver.com/miryangsi</td>\n",
       "      <td>20180710</td>\n",
       "    </tr>\n",
       "    <tr>\n",
       "      <th>22</th>\n",
       "      <td>과일먹방투어~ 광명&lt;b&gt;전통시장&lt;/b&gt;을 습격하다</td>\n",
       "      <td>https://blog.naver.com/gmcityhall?Redirect=Log...</td>\n",
       "      <td>제철에 나는 과일은 그 시기에 먹어야 가장 &lt;b&gt;좋은&lt;/b&gt; 맛과 영양소를 섭취할 ...</td>\n",
       "      <td>광명시 공식블로그</td>\n",
       "      <td>https://blog.naver.com/gmcityhall</td>\n",
       "      <td>20180702</td>\n",
       "    </tr>\n",
       "    <tr>\n",
       "      <th>23</th>\n",
       "      <td>둘레길 바다 향기로 /강릉&lt;b&gt;전통시장&lt;/b&gt; 주말나들이 하기 &lt;b&gt;좋은&lt;/b&gt;곳</td>\n",
       "      <td>https://blog.naver.com/ash0534a?Redirect=Log&amp;l...</td>\n",
       "      <td>(외옹치)외옹치항 둘레길 바다 향기로/강릉&lt;b&gt;전통시장&lt;/b&gt; 주말나들이 하기 &lt;b...</td>\n",
       "      <td>또자하우스</td>\n",
       "      <td>https://blog.naver.com/ash0534a</td>\n",
       "      <td>20180615</td>\n",
       "    </tr>\n",
       "    <tr>\n",
       "      <th>83</th>\n",
       "      <td>양양 &lt;b&gt;전통시장&lt;/b&gt;에 핑거푸드  맛보러 오세요</td>\n",
       "      <td>https://blog.naver.com/likeyyang?Redirect=Log&amp;...</td>\n",
       "      <td>양양 &lt;b&gt;전통시장&lt;/b&gt;에 핑거푸드 맛보러 오세요 오늘은 양양 &lt;b&gt;전통시장&lt;/b...</td>\n",
       "      <td>양양군청 공식블로그</td>\n",
       "      <td>https://blog.naver.com/likeyyang</td>\n",
       "      <td>20180611</td>\n",
       "    </tr>\n",
       "    <tr>\n",
       "      <th>24</th>\n",
       "      <td>[홍성여행]홍성&lt;b&gt;전통시장&lt;/b&gt;으로 놀러오세요!</td>\n",
       "      <td>https://blog.naver.com/hsgstory?Redirect=Log&amp;l...</td>\n",
       "      <td>오래된 역사와 &lt;b&gt;전통&lt;/b&gt;이 가득한 &lt;b&gt;시장&lt;/b&gt;이라니..홍성에 자주 놀러...</td>\n",
       "      <td>함께하는 홍성이야기</td>\n",
       "      <td>https://blog.naver.com/hsgstory</td>\n",
       "      <td>20180313</td>\n",
       "    </tr>\n",
       "  </tbody>\n",
       "</table>\n",
       "<p>577 rows × 6 columns</p>\n",
       "</div>"
      ],
      "text/plain": [
       "                                              title  \\\n",
       "75  다 같이 돌자 <b>시장</b> 한 바퀴 시즌2 #71 평창 봉평<b>전통시장</b>   \n",
       "72                             온양온천 <b>전통시장</b> 방문기   \n",
       "37                   해운대와 해운대 <b>전통시장</b> 랜선 타고 떠나자   \n",
       "85                  둔촌역 <b>전통시장</b> - 사거리 청과 (내돈내산)   \n",
       "45            부산 초량<b>시장</b> 탐방, 부산역 근처 <b>전통시장</b>   \n",
       "..                                              ...   \n",
       "74     [밀양<b>전통시장</b>]1,6일은 밀양 무안 <b>전통시장</b>의 장날!!   \n",
       "22                      과일먹방투어~ 광명<b>전통시장</b>을 습격하다   \n",
       "23    둘레길 바다 향기로 /강릉<b>전통시장</b> 주말나들이 하기 <b>좋은</b>곳   \n",
       "83                    양양 <b>전통시장</b>에 핑거푸드  맛보러 오세요   \n",
       "24                     [홍성여행]홍성<b>전통시장</b>으로 놀러오세요!   \n",
       "\n",
       "                                                 link  \\\n",
       "75  https://blog.naver.com/yestv_blog?Redirect=Log...   \n",
       "72  https://blog.naver.com/mildfatty?Redirect=Log&...   \n",
       "37  https://blog.naver.com/kkyycc27?Redirect=Log&l...   \n",
       "85  https://blog.naver.com/kjinc7777?Redirect=Log&...   \n",
       "45  https://blog.naver.com/hyoyeol?Redirect=Log&lo...   \n",
       "..                                                ...   \n",
       "74  https://blog.naver.com/miryangsi?Redirect=Log&...   \n",
       "22  https://blog.naver.com/gmcityhall?Redirect=Log...   \n",
       "23  https://blog.naver.com/ash0534a?Redirect=Log&l...   \n",
       "83  https://blog.naver.com/likeyyang?Redirect=Log&...   \n",
       "24  https://blog.naver.com/hsgstory?Redirect=Log&l...   \n",
       "\n",
       "                                          description          bloggername  \\\n",
       "75  메밀껍질들이 베개 속으로 ~ 쏘옥 ~ ❗ 에이~ 에스~ 엠~ 알rrr 사그락~ 기분...               소상공인방송   \n",
       "72  할룽 주말에 온양 <b>전통시장</b>에 방문해봤어요 ^^ <b>시장</b> 들어가...           먹짱의 먹부림 일상   \n",
       "37  &quot; 을 꼽을 만큼 <b>좋은</b> 기억이 남았던 모양입니다. 코로나가 물...       내 프레임 속에 담긴 세상   \n",
       "85  안녕하세요 오늘은 #둔촌역<b>전통시장</b> #사거리청과 포스팅을 해볼거예요 #둔...            ♡ 빈손장보기 ♡   \n",
       "45  초량<b>시장</b>도 대책이 필요해 보입니다. 초량<b>시장</b>에서는 주로 해...        늑대털쓴양의 버킷 스토리   \n",
       "..                                                ...                  ...   \n",
       "74  코코넛을 닮은 듯도 하고 수세미를 닮은 듯한 화초는 공기 정화에 <b>좋은</b> ...  밀양시 블로그, 날 좀 보소! 밀양   \n",
       "22  제철에 나는 과일은 그 시기에 먹어야 가장 <b>좋은</b> 맛과 영양소를 섭취할 ...            광명시 공식블로그   \n",
       "23  (외옹치)외옹치항 둘레길 바다 향기로/강릉<b>전통시장</b> 주말나들이 하기 <b...                또자하우스   \n",
       "83  양양 <b>전통시장</b>에 핑거푸드 맛보러 오세요 오늘은 양양 <b>전통시장</b...           양양군청 공식블로그   \n",
       "24  오래된 역사와 <b>전통</b>이 가득한 <b>시장</b>이라니..홍성에 자주 놀러...           함께하는 홍성이야기   \n",
       "\n",
       "                          bloggerlink  postdate  \n",
       "75  https://blog.naver.com/yestv_blog  20210203  \n",
       "72   https://blog.naver.com/mildfatty  20210203  \n",
       "37    https://blog.naver.com/kkyycc27  20210203  \n",
       "85   https://blog.naver.com/kjinc7777  20210203  \n",
       "45     https://blog.naver.com/hyoyeol  20210202  \n",
       "..                                ...       ...  \n",
       "74   https://blog.naver.com/miryangsi  20180710  \n",
       "22  https://blog.naver.com/gmcityhall  20180702  \n",
       "23    https://blog.naver.com/ash0534a  20180615  \n",
       "83   https://blog.naver.com/likeyyang  20180611  \n",
       "24    https://blog.naver.com/hsgstory  20180313  \n",
       "\n",
       "[577 rows x 6 columns]"
      ]
     },
     "execution_count": 128,
     "metadata": {},
     "output_type": "execute_result"
    }
   ],
   "source": [
    "df.iloc[:577]"
   ]
  },
  {
   "cell_type": "code",
   "execution_count": 129,
   "metadata": {},
   "outputs": [],
   "source": [
    "df_2018 = df.iloc[:577]"
   ]
  },
  {
   "cell_type": "code",
   "execution_count": 130,
   "metadata": {},
   "outputs": [
    {
     "data": {
      "text/plain": [
       "577"
      ]
     },
     "execution_count": 130,
     "metadata": {},
     "output_type": "execute_result"
    }
   ],
   "source": [
    "len(df_2018)"
   ]
  },
  {
   "cell_type": "code",
   "execution_count": 131,
   "metadata": {},
   "outputs": [],
   "source": [
    "df_2018.to_excel('./py_data/crawling/전통시장/전통시장_좋은_블로그(2018~2021).xlsx', index=False)"
   ]
  },
  {
   "cell_type": "markdown",
   "metadata": {},
   "source": [
    "# 링크 저장"
   ]
  },
  {
   "cell_type": "code",
   "execution_count": 132,
   "metadata": {},
   "outputs": [],
   "source": [
    "df = pd.read_excel('./py_data/crawling/전통시장/전통시장_좋은_블로그(2018~2021).xlsx', engine='openpyxl')"
   ]
  },
  {
   "cell_type": "code",
   "execution_count": 133,
   "metadata": {},
   "outputs": [
    {
     "data": {
      "text/html": [
       "<div>\n",
       "<style scoped>\n",
       "    .dataframe tbody tr th:only-of-type {\n",
       "        vertical-align: middle;\n",
       "    }\n",
       "\n",
       "    .dataframe tbody tr th {\n",
       "        vertical-align: top;\n",
       "    }\n",
       "\n",
       "    .dataframe thead th {\n",
       "        text-align: right;\n",
       "    }\n",
       "</style>\n",
       "<table border=\"1\" class=\"dataframe\">\n",
       "  <thead>\n",
       "    <tr style=\"text-align: right;\">\n",
       "      <th></th>\n",
       "      <th>title</th>\n",
       "      <th>link</th>\n",
       "      <th>description</th>\n",
       "      <th>bloggername</th>\n",
       "      <th>bloggerlink</th>\n",
       "      <th>postdate</th>\n",
       "    </tr>\n",
       "  </thead>\n",
       "  <tbody>\n",
       "    <tr>\n",
       "      <th>0</th>\n",
       "      <td>다 같이 돌자 &lt;b&gt;시장&lt;/b&gt; 한 바퀴 시즌2 #71 평창 봉평&lt;b&gt;전통시장&lt;/b&gt;</td>\n",
       "      <td>https://blog.naver.com/yestv_blog?Redirect=Log...</td>\n",
       "      <td>메밀껍질들이 베개 속으로 ~ 쏘옥 ~ ❗ 에이~ 에스~ 엠~ 알rrr 사그락~ 기분...</td>\n",
       "      <td>소상공인방송</td>\n",
       "      <td>https://blog.naver.com/yestv_blog</td>\n",
       "      <td>20210203</td>\n",
       "    </tr>\n",
       "    <tr>\n",
       "      <th>1</th>\n",
       "      <td>온양온천 &lt;b&gt;전통시장&lt;/b&gt; 방문기</td>\n",
       "      <td>https://blog.naver.com/mildfatty?Redirect=Log&amp;...</td>\n",
       "      <td>할룽 주말에 온양 &lt;b&gt;전통시장&lt;/b&gt;에 방문해봤어요 ^^ &lt;b&gt;시장&lt;/b&gt; 들어가...</td>\n",
       "      <td>먹짱의 먹부림 일상</td>\n",
       "      <td>https://blog.naver.com/mildfatty</td>\n",
       "      <td>20210203</td>\n",
       "    </tr>\n",
       "    <tr>\n",
       "      <th>2</th>\n",
       "      <td>해운대와 해운대 &lt;b&gt;전통시장&lt;/b&gt; 랜선 타고 떠나자</td>\n",
       "      <td>https://blog.naver.com/kkyycc27?Redirect=Log&amp;l...</td>\n",
       "      <td>&amp;quot; 을 꼽을 만큼 &lt;b&gt;좋은&lt;/b&gt; 기억이 남았던 모양입니다. 코로나가 물...</td>\n",
       "      <td>내 프레임 속에 담긴 세상</td>\n",
       "      <td>https://blog.naver.com/kkyycc27</td>\n",
       "      <td>20210203</td>\n",
       "    </tr>\n",
       "    <tr>\n",
       "      <th>3</th>\n",
       "      <td>둔촌역 &lt;b&gt;전통시장&lt;/b&gt; - 사거리 청과 (내돈내산)</td>\n",
       "      <td>https://blog.naver.com/kjinc7777?Redirect=Log&amp;...</td>\n",
       "      <td>안녕하세요 오늘은 #둔촌역&lt;b&gt;전통시장&lt;/b&gt; #사거리청과 포스팅을 해볼거예요 #둔...</td>\n",
       "      <td>♡ 빈손장보기 ♡</td>\n",
       "      <td>https://blog.naver.com/kjinc7777</td>\n",
       "      <td>20210203</td>\n",
       "    </tr>\n",
       "    <tr>\n",
       "      <th>4</th>\n",
       "      <td>부산 초량&lt;b&gt;시장&lt;/b&gt; 탐방, 부산역 근처 &lt;b&gt;전통시장&lt;/b&gt;</td>\n",
       "      <td>https://blog.naver.com/hyoyeol?Redirect=Log&amp;lo...</td>\n",
       "      <td>초량&lt;b&gt;시장&lt;/b&gt;도 대책이 필요해 보입니다. 초량&lt;b&gt;시장&lt;/b&gt;에서는 주로 해...</td>\n",
       "      <td>늑대털쓴양의 버킷 스토리</td>\n",
       "      <td>https://blog.naver.com/hyoyeol</td>\n",
       "      <td>20210202</td>\n",
       "    </tr>\n",
       "  </tbody>\n",
       "</table>\n",
       "</div>"
      ],
      "text/plain": [
       "                                             title  \\\n",
       "0  다 같이 돌자 <b>시장</b> 한 바퀴 시즌2 #71 평창 봉평<b>전통시장</b>   \n",
       "1                             온양온천 <b>전통시장</b> 방문기   \n",
       "2                   해운대와 해운대 <b>전통시장</b> 랜선 타고 떠나자   \n",
       "3                  둔촌역 <b>전통시장</b> - 사거리 청과 (내돈내산)   \n",
       "4            부산 초량<b>시장</b> 탐방, 부산역 근처 <b>전통시장</b>   \n",
       "\n",
       "                                                link  \\\n",
       "0  https://blog.naver.com/yestv_blog?Redirect=Log...   \n",
       "1  https://blog.naver.com/mildfatty?Redirect=Log&...   \n",
       "2  https://blog.naver.com/kkyycc27?Redirect=Log&l...   \n",
       "3  https://blog.naver.com/kjinc7777?Redirect=Log&...   \n",
       "4  https://blog.naver.com/hyoyeol?Redirect=Log&lo...   \n",
       "\n",
       "                                         description     bloggername  \\\n",
       "0  메밀껍질들이 베개 속으로 ~ 쏘옥 ~ ❗ 에이~ 에스~ 엠~ 알rrr 사그락~ 기분...          소상공인방송   \n",
       "1  할룽 주말에 온양 <b>전통시장</b>에 방문해봤어요 ^^ <b>시장</b> 들어가...      먹짱의 먹부림 일상   \n",
       "2  &quot; 을 꼽을 만큼 <b>좋은</b> 기억이 남았던 모양입니다. 코로나가 물...  내 프레임 속에 담긴 세상   \n",
       "3  안녕하세요 오늘은 #둔촌역<b>전통시장</b> #사거리청과 포스팅을 해볼거예요 #둔...       ♡ 빈손장보기 ♡   \n",
       "4  초량<b>시장</b>도 대책이 필요해 보입니다. 초량<b>시장</b>에서는 주로 해...   늑대털쓴양의 버킷 스토리   \n",
       "\n",
       "                         bloggerlink  postdate  \n",
       "0  https://blog.naver.com/yestv_blog  20210203  \n",
       "1   https://blog.naver.com/mildfatty  20210203  \n",
       "2    https://blog.naver.com/kkyycc27  20210203  \n",
       "3   https://blog.naver.com/kjinc7777  20210203  \n",
       "4     https://blog.naver.com/hyoyeol  20210202  "
      ]
     },
     "execution_count": 133,
     "metadata": {},
     "output_type": "execute_result"
    }
   ],
   "source": [
    "df.head()"
   ]
  },
  {
   "cell_type": "code",
   "execution_count": 134,
   "metadata": {},
   "outputs": [],
   "source": [
    "links = []\n",
    "for link in df['link']:\n",
    "    links.append(link)"
   ]
  },
  {
   "cell_type": "code",
   "execution_count": 135,
   "metadata": {},
   "outputs": [
    {
     "data": {
      "text/plain": [
       "577"
      ]
     },
     "execution_count": 135,
     "metadata": {},
     "output_type": "execute_result"
    }
   ],
   "source": [
    "len(links)"
   ]
  },
  {
   "cell_type": "code",
   "execution_count": 136,
   "metadata": {},
   "outputs": [
    {
     "name": "stderr",
     "output_type": "stream",
     "text": [
      "crawling...: 100%|███████████████████████████████████████████████████████████████████| 577/577 [40:20<00:00,  4.19s/it]\n"
     ]
    }
   ],
   "source": [
    "import requests\n",
    "from bs4 import BeautifulSoup as bs\n",
    "from selenium import webdriver\n",
    "import time\n",
    "from tqdm import tqdm\n",
    "import re\n",
    "\n",
    "regex = re.compile('.*postViewArea.*')\n",
    "\n",
    "driver = webdriver.Chrome('./py_data/crawling/chromedriver.exe')\n",
    "\n",
    "txt = ''\n",
    "for link in tqdm(links, 'crawling...'):\n",
    "    \n",
    "    driver.get(link)\n",
    "    driver.implicitly_wait(5)\n",
    "    time.sleep(1)\n",
    "\n",
    "    try:\n",
    "        driver.switch_to.frame('mainFrame')\n",
    "        html = driver.page_source\n",
    "        soup = bs(html, 'html.parser')\n",
    "        text = soup.find('div', class_=regex).text\n",
    "        text = text.replace('\\n\\n', '') + '\\n'\n",
    "        txt += text\n",
    "    except:\n",
    "        continue"
   ]
  },
  {
   "cell_type": "code",
   "execution_count": 137,
   "metadata": {},
   "outputs": [],
   "source": [
    "tmp = re.sub('[^ㄱ-힣 ]', '', txt)"
   ]
  },
  {
   "cell_type": "code",
   "execution_count": 138,
   "metadata": {},
   "outputs": [],
   "source": [
    "with open('./py_data/crawling/전통시장/전통시장_좋은_블로그(2018~2021).txt', 'w', encoding='utf-8') as f:\n",
    "    f.write(tmp)"
   ]
  },
  {
   "cell_type": "code",
   "execution_count": null,
   "metadata": {},
   "outputs": [],
   "source": []
  },
  {
   "cell_type": "code",
   "execution_count": null,
   "metadata": {},
   "outputs": [],
   "source": []
  },
  {
   "cell_type": "code",
   "execution_count": null,
   "metadata": {},
   "outputs": [],
   "source": []
  }
 ],
 "metadata": {
  "kernelspec": {
   "display_name": "Python 3",
   "language": "python",
   "name": "python3"
  },
  "language_info": {
   "codemirror_mode": {
    "name": "ipython",
    "version": 3
   },
   "file_extension": ".py",
   "mimetype": "text/x-python",
   "name": "python",
   "nbconvert_exporter": "python",
   "pygments_lexer": "ipython3",
   "version": "3.8.5"
  }
 },
 "nbformat": 4,
 "nbformat_minor": 4
}
