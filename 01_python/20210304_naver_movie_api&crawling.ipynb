{
 "cells": [
  {
   "cell_type": "markdown",
   "metadata": {},
   "source": [
    "# 네이버 API로 영화 정보 가져오기\n",
    "- 김한호: hanho5120@naver.com\n"
   ]
  },
  {
   "cell_type": "code",
   "execution_count": 16,
   "metadata": {},
   "outputs": [],
   "source": [
    "import requests\n",
    "import pandas as pd\n",
    "import json\n",
    "\n",
    "def get_idpw():\n",
    "    with open('C:/Users/dojun/Documents/api_keys/naver_api.txt') as f:\n",
    "        client_id = f.readline().replace('\\n', '')\n",
    "        client_secret = f.readline()\n",
    "    return client_id, client_secret\n",
    "\n",
    "def search_title(keyword, nid, npw):\n",
    "    url = 'https://openapi.naver.com/v1/search/book.json?query=' + keyword + '&display=30&start=1'\n",
    "    html = requests.get(url, headers={\"X-Naver-Client-Id\": nid,\n",
    "                                      \"X-Naver-Client-Secret\": npw})\n",
    "    json1 = html.json()\n",
    "    return json1['items']\n",
    "\n",
    "def naver_movie(keyword, nid, npw):\n",
    "    url = 'https://openapi.naver.com/v1/search/movie.json?query=' + keyword + '&display=30&start=1'\n",
    "    html = requests.get(url, headers={\"X-Naver-Client-Id\": nid,\n",
    "                                      \"X-Naver-Client-Secret\": npw})\n",
    "    json1 = html.json()\n",
    "    return json1['items']"
   ]
  },
  {
   "cell_type": "code",
   "execution_count": 17,
   "metadata": {},
   "outputs": [],
   "source": [
    "nid, npw = get_idpw()"
   ]
  },
  {
   "cell_type": "code",
   "execution_count": 17,
   "metadata": {},
   "outputs": [
    {
     "data": {
      "text/plain": [
       "[{'title': '<b>아바타</b> 5',\n",
       "  'link': 'https://movie.naver.com/movie/bi/mi/basic.nhn?code=164121',\n",
       "  'image': '',\n",
       "  'subtitle': 'Avatar 5',\n",
       "  'pubDate': '2027',\n",
       "  'director': '제임스 카메론|',\n",
       "  'actor': '시고니 위버|조 샐다나|샘 워싱턴|우나 채플린|스티븐 랭|지오바니 리비시|',\n",
       "  'userRating': '9.65'},\n",
       " {'title': '<b>아바타</b> 4',\n",
       "  'link': 'https://movie.naver.com/movie/bi/mi/basic.nhn?code=113331',\n",
       "  'image': '',\n",
       "  'subtitle': 'Avatar 4',\n",
       "  'pubDate': '2025',\n",
       "  'director': '제임스 카메론|',\n",
       "  'actor': '조 샐다나|샘 워싱턴|스티븐 랭|시고니 위버|우나 채플린|지오바니 리비시|',\n",
       "  'userRating': '8.49'},\n",
       " {'title': '<b>아바타</b> 3',\n",
       "  'link': 'https://movie.naver.com/movie/bi/mi/basic.nhn?code=79567',\n",
       "  'image': '',\n",
       "  'subtitle': 'Avatar 3',\n",
       "  'pubDate': '2023',\n",
       "  'director': '제임스 카메론|',\n",
       "  'actor': '스티븐 랭|조 샐다나|샘 워싱턴|시고니 위버|우나 채플린|지오바니 리비시|',\n",
       "  'userRating': '8.97'},\n",
       " {'title': '<b>아바타</b> 2',\n",
       "  'link': 'https://movie.naver.com/movie/bi/mi/basic.nhn?code=74977',\n",
       "  'image': 'https://ssl.pstatic.net/imgmovie/mdi/mit110/0749/74977_P01_190419.jpg',\n",
       "  'subtitle': 'Avatar 2',\n",
       "  'pubDate': '2021',\n",
       "  'director': '제임스 카메론|',\n",
       "  'actor': '시고니 위버|스티븐 랭|조 샐다나|샘 워싱턴|우나 채플린|케이트 윈슬렛|지오바니 리비시|',\n",
       "  'userRating': '9.22'},\n",
       " {'title': '<b>아바타</b> 정글의 비밀',\n",
       "  'link': 'https://movie.naver.com/movie/bi/mi/basic.nhn?code=122101',\n",
       "  'image': 'https://ssl.pstatic.net/imgmovie/mdi/mit110/1221/122101_P00_110037.jpg',\n",
       "  'subtitle': 'Jungle Master',\n",
       "  'pubDate': '2013',\n",
       "  'director': '슈커|',\n",
       "  'actor': '장안치|리정샹|',\n",
       "  'userRating': '4.66'},\n",
       " {'title': '마이 <b>아바타</b> 호스',\n",
       "  'link': 'https://movie.naver.com/movie/bi/mi/basic.nhn?code=117597',\n",
       "  'image': 'https://ssl.pstatic.net/imgmovie/mdi/mit110/1175/117597_P00_152058.jpg',\n",
       "  'subtitle': 'My Avatar Horse',\n",
       "  'pubDate': '2012',\n",
       "  'director': '호우 케밍|리우 셴|',\n",
       "  'actor': '',\n",
       "  'userRating': '0.00'},\n",
       " {'title': '<b>아바타</b>',\n",
       "  'link': 'https://movie.naver.com/movie/bi/mi/basic.nhn?code=84024',\n",
       "  'image': 'https://ssl.pstatic.net/imgmovie/mdi/mit110/0840/84024_P01_163324.jpg',\n",
       "  'subtitle': 'Avatar',\n",
       "  'pubDate': '2011',\n",
       "  'director': '와다 아츠시|',\n",
       "  'actor': '사노 카즈마|미즈사와 나코|하시모토 아이|사카타 리카코|하네유리|',\n",
       "  'userRating': '7.86'},\n",
       " {'title': '걸 <b>아바타</b>',\n",
       "  'link': 'https://movie.naver.com/movie/bi/mi/basic.nhn?code=129705',\n",
       "  'image': 'https://ssl.pstatic.net/imgmovie/mdi/mit110/1297/129705_P08_103424.jpg',\n",
       "  'subtitle': 'GAL AVATAR',\n",
       "  'pubDate': '2011',\n",
       "  'director': '노토 히데미|',\n",
       "  'actor': '하네다 아이|',\n",
       "  'userRating': '0.00'},\n",
       " {'title': '<b>아바타</b>와 나 ',\n",
       "  'link': 'https://movie.naver.com/movie/bi/mi/basic.nhn?code=87142',\n",
       "  'image': 'https://ssl.pstatic.net/imgmovie/mdi/mit110/0871/87142_P01_143905.jpg',\n",
       "  'subtitle': 'My Avatar and Me',\n",
       "  'pubDate': '2010',\n",
       "  'director': '벤테 밀톤|미켈 스톨트|',\n",
       "  'actor': '',\n",
       "  'userRating': '6.20'},\n",
       " {'title': '디스 에인트 <b>아바타</b> XXX',\n",
       "  'link': 'https://movie.naver.com/movie/bi/mi/basic.nhn?code=79636',\n",
       "  'image': 'https://ssl.pstatic.net/imgmovie/mdi/mit110/0796/79636_P01_211231.jpg',\n",
       "  'subtitle': \"This Ain't Avatar XXX\",\n",
       "  'pubDate': '2010',\n",
       "  'director': '엑셀 브라운|',\n",
       "  'actor': '데일 다본|다니카 딜란|',\n",
       "  'userRating': '4.27'},\n",
       " {'title': '<b>아바타</b>',\n",
       "  'link': 'https://movie.naver.com/movie/bi/mi/basic.nhn?code=62266',\n",
       "  'image': 'https://ssl.pstatic.net/imgmovie/mdi/mit110/0622/62266_P115_110943.jpg',\n",
       "  'subtitle': 'Avatar',\n",
       "  'pubDate': '2009',\n",
       "  'director': '제임스 카메론|',\n",
       "  'actor': '샘 워싱턴|조 샐다나|시고니 위버|스티븐 랭|',\n",
       "  'userRating': '9.07'},\n",
       " {'title': '<b>아바타</b>-아앙의 전설 시즌3',\n",
       "  'link': 'https://movie.naver.com/movie/bi/mi/basic.nhn?code=139222',\n",
       "  'image': 'https://ssl.pstatic.net/imgmovie/mdi/mit110/1392/139222_P01_143749.jpg',\n",
       "  'subtitle': 'Avatar: The Last Airbender',\n",
       "  'pubDate': '2007',\n",
       "  'director': '',\n",
       "  'actor': '',\n",
       "  'userRating': '10.00'},\n",
       " {'title': '<b>아바타</b>-아앙의 전설 시즌2',\n",
       "  'link': 'https://movie.naver.com/movie/bi/mi/basic.nhn?code=138340',\n",
       "  'image': 'https://ssl.pstatic.net/imgmovie/mdi/mit110/1383/138340_P01_151821.jpg',\n",
       "  'subtitle': 'Avatar: The Last Airbender',\n",
       "  'pubDate': '2006',\n",
       "  'director': '',\n",
       "  'actor': '',\n",
       "  'userRating': '10.00'},\n",
       " {'title': '<b>아바타</b>',\n",
       "  'link': 'https://movie.naver.com/movie/bi/mi/basic.nhn?code=63564',\n",
       "  'image': 'https://ssl.pstatic.net/imgmovie/mdi/mit110/0635/F3564-01.jpg',\n",
       "  'subtitle': 'Avatar: The Last Airbender',\n",
       "  'pubDate': '2005',\n",
       "  'director': '데이브 필로니|',\n",
       "  'actor': '디 브래들리 베이커|잭 드 세나|',\n",
       "  'userRating': '7.73'},\n",
       " {'title': '<b>아바타</b>-아앙의 전설 시즌1',\n",
       "  'link': 'https://movie.naver.com/movie/bi/mi/basic.nhn?code=136666',\n",
       "  'image': 'https://ssl.pstatic.net/imgmovie/mdi/mit110/1366/136666_P00_115202.jpg',\n",
       "  'subtitle': 'Avatar: The Last Airbender',\n",
       "  'pubDate': '2005',\n",
       "  'director': '',\n",
       "  'actor': '',\n",
       "  'userRating': '10.00'},\n",
       " {'title': '<b>아바타</b>',\n",
       "  'link': 'https://movie.naver.com/movie/bi/mi/basic.nhn?code=43078',\n",
       "  'image': 'https://ssl.pstatic.net/imgmovie/mdi/mit110/0430/D3078-01.jpg',\n",
       "  'subtitle': 'Avatar',\n",
       "  'pubDate': '2004',\n",
       "  'director': '지안 홍 쿠오|',\n",
       "  'actor': '제네비에브 오렐리|왕낙용|데이비드 워너|조안 첸|헨리 오|윌리엄 샌더슨|',\n",
       "  'userRating': '7.08'}]"
      ]
     },
     "execution_count": 17,
     "metadata": {},
     "output_type": "execute_result"
    }
   ],
   "source": [
    "naver_movie('아바타', nid, npw)"
   ]
  },
  {
   "cell_type": "code",
   "execution_count": 27,
   "metadata": {},
   "outputs": [
    {
     "data": {
      "text/plain": [
       "['극장판 귀멸의 칼날: 무한열차편',\n",
       " '미션 파서블',\n",
       " '톰과 제리',\n",
       " '미나리',\n",
       " '소울',\n",
       " '카오스 워킹',\n",
       " '퍼펙트 케어',\n",
       " '라야와 마지막 드래곤',\n",
       " '워 위드 그랜파',\n",
       " '더 레이서',\n",
       " '라스트 레터',\n",
       " '극장판 페이트/그랜드 오더 신성원탁영역 카멜롯 완더링; 아가트람',\n",
       " '새해전야',\n",
       " '세자매',\n",
       " '몬스터 헌터',\n",
       " '인투 더 미러',\n",
       " '고질라 VS. 콩',\n",
       " '드림빌더',\n",
       " '송가인 더 드라마',\n",
       " '중경삼림',\n",
       " '아홉수 로맨스',\n",
       " '리스타트',\n",
       " '람보-특별판',\n",
       " '승리호',\n",
       " '간이역',\n",
       " '고백',\n",
       " '허트 로커',\n",
       " '라이트 오브 라이프',\n",
       " '더블패티',\n",
       " '인싸',\n",
       " '유공자',\n",
       " '더 터널',\n",
       " '모리타니안',\n",
       " '빛과 철',\n",
       " '2046',\n",
       " '헬렌: 내 영혼의 자화상',\n",
       " '원더',\n",
       " '어니스트 씨프',\n",
       " '블러드 머신',\n",
       " '해피 투게더',\n",
       " '그린 북',\n",
       " '나를 기억해',\n",
       " '먼 훗날 우리',\n",
       " '블러드서킹 바스터즈',\n",
       " '엽기적인 그녀',\n",
       " '다만 악에서 구하소서',\n",
       " '자산어보',\n",
       " '나는 나를 해고하지 않는다',\n",
       " '멀리가지마라',\n",
       " '낙원의 밤']"
      ]
     },
     "execution_count": 27,
     "metadata": {},
     "output_type": "execute_result"
    }
   ],
   "source": [
    "import requests\n",
    "from bs4 import BeautifulSoup as bs\n",
    "\n",
    "def naver_movie_rank():\n",
    "    url = 'https://movie.naver.com/movie/sdb/rank/rmovie.nhn'\n",
    "    html = requests.get(url)\n",
    "    soup = bs(html.content, 'html.parser')\n",
    "    titles = soup.find_all('td', class_='title')\n",
    "    ls_title = [title.text.replace('\\n', '') for title in titles]\n",
    "    return ls_title\n",
    "\n",
    "naver_movie_rank()"
   ]
  },
  {
   "cell_type": "code",
   "execution_count": 10,
   "metadata": {},
   "outputs": [],
   "source": [
    "import requests\n",
    "from bs4 import BeautifulSoup as bs\n",
    "import re\n",
    "\n",
    "def naver_movie_rank():\n",
    "    url = 'https://movie.naver.com/movie/running/current.nhn#'\n",
    "    html = requests.get(url)\n",
    "    soup = bs(html.content, 'html.parser')\n",
    "    \n",
    "    panel = soup.find('ul', class_='lst_detail_t1')\n",
    "    movies = panel.find_all('li')\n",
    "    \n",
    "    infos = []\n",
    "    for movie in movies:\n",
    "        img = movie.find('img')\n",
    "        title = movie.find('dt', class_='tit').find('a').text\n",
    "        point = movie.find('dl', class_='info_star').find('span', class_='num').text\n",
    "        box = movie.find('dl', class_='info_txt1').find_all('span', class_='link_txt')\n",
    "        director = re.sub('\\n|\\t|\\r', '', box[-2].text)\n",
    "        actor = re.sub('\\n|\\t|\\r', '', box[-1].text)\n",
    "        \n",
    "        infos.append((img, title, point, director, actor))\n",
    "    \n",
    "    return infos\n",
    "\n",
    "tmp = naver_movie_rank()"
   ]
  },
  {
   "cell_type": "code",
   "execution_count": 83,
   "metadata": {},
   "outputs": [
    {
     "data": {
      "text/plain": [
       "(<img alt=\"아홉수 로맨스\" onerror=\"this.src='https://ssl.pstatic.net/static/movie/2012/09/dft_img99x141.png'\" src=\"https://movie-phinf.pstatic.net/20210128_225/1611812834746NJo02_JPEG/movie_image.jpg?type=m99_141_2\"/>,\n",
       " '아홉수 로맨스',\n",
       " '8.78',\n",
       " '이새별, 신효진',\n",
       " '조한나, 이다해, 강나리, 이새별, 양지원, 지찬, 구윤상, 서인권')"
      ]
     },
     "execution_count": 83,
     "metadata": {},
     "output_type": "execute_result"
    }
   ],
   "source": [
    "tmp[10]"
   ]
  },
  {
   "cell_type": "code",
   "execution_count": 11,
   "metadata": {},
   "outputs": [
    {
     "data": {
      "text/plain": [
       "'박도준, 김학식, '"
      ]
     },
     "execution_count": 11,
     "metadata": {},
     "output_type": "execute_result"
    }
   ],
   "source": [
    "def barhide(value):\n",
    "    tmp = value.replace('|', ', ')\n",
    "    try:\n",
    "        if tmp[-3:-1] == ', ':\n",
    "            tmp = tmp[:-2]\n",
    "    except:\n",
    "        pass\n",
    "    return tmp\n",
    "\n",
    "barhide('박도준|김학식|')"
   ]
  },
  {
   "cell_type": "code",
   "execution_count": 12,
   "metadata": {},
   "outputs": [
    {
     "data": {
      "text/plain": [
       "','"
      ]
     },
     "execution_count": 12,
     "metadata": {},
     "output_type": "execute_result"
    }
   ],
   "source": [
    "tmp = '박도준|김학식|'.replace('|', ', ')\n",
    "tmp[-2:-1]"
   ]
  },
  {
   "cell_type": "code",
   "execution_count": 13,
   "metadata": {},
   "outputs": [
    {
     "data": {
      "text/plain": [
       "'박도준, 김학식'"
      ]
     },
     "execution_count": 13,
     "metadata": {},
     "output_type": "execute_result"
    }
   ],
   "source": [
    "tmp[:-2]"
   ]
  },
  {
   "cell_type": "code",
   "execution_count": 15,
   "metadata": {},
   "outputs": [],
   "source": [
    "def naver_movie(keyword, nid, npw):\n",
    "    url = 'https://openapi.naver.com/v1/search/movie.json?query=' + keyword + '&display=30&start=1'\n",
    "    html = requests.get(url, headers={\"X-Naver-Client-Id\": nid,\n",
    "                                      \"X-Naver-Client-Secret\": npw})\n",
    "    json1 = html.json()\n",
    "    return json1['items']"
   ]
  },
  {
   "cell_type": "code",
   "execution_count": 18,
   "metadata": {},
   "outputs": [],
   "source": [
    "tmp = naver_movie('어벤저스', nid, npw)"
   ]
  },
  {
   "cell_type": "code",
   "execution_count": 19,
   "metadata": {},
   "outputs": [
    {
     "data": {
      "text/plain": [
       "[{'title': '어벤져스: 엔드게임',\n",
       "  'link': 'https://movie.naver.com/movie/bi/mi/basic.nhn?code=136900',\n",
       "  'image': 'https://ssl.pstatic.net/imgmovie/mdi/mit110/1369/136900_P57_104126.jpg',\n",
       "  'subtitle': 'Avengers: Endgame',\n",
       "  'pubDate': '2019',\n",
       "  'director': '안소니 루소|조 루소|',\n",
       "  'actor': '로버트 다우니 주니어|크리스 에반스|크리스 헴스워스|마크 러팔로|스칼릿 조핸슨|제레미 레너|돈 치들|폴 러드|브리 라슨|카렌 길런|브래들리 쿠퍼|조슈 브롤린|',\n",
       "  'userRating': '9.38'},\n",
       " {'title': '어벤져스',\n",
       "  'link': 'https://movie.naver.com/movie/bi/mi/basic.nhn?code=72363',\n",
       "  'image': 'https://ssl.pstatic.net/imgmovie/mdi/mit110/0723/72363_P05_171517.jpg',\n",
       "  'subtitle': 'The Avengers',\n",
       "  'pubDate': '2012',\n",
       "  'director': '조스 웨던|',\n",
       "  'actor': '로버트 다우니 주니어|스칼릿 조핸슨|크리스 헴스워스|크리스 에반스|마크 러팔로|제레미 레너|사무엘 L. 잭슨|톰 히들스턴|',\n",
       "  'userRating': '8.80'},\n",
       " {'title': '<b>어벤저스</b>: 어스 마이티스트 히어로즈 2',\n",
       "  'link': 'https://movie.naver.com/movie/bi/mi/basic.nhn?code=110744',\n",
       "  'image': 'https://ssl.pstatic.net/imgmovie/mdi/mit110/1107/110744_P01_152935.jpg',\n",
       "  'subtitle': \"The Avengers: Earth's Mightiest Heroes\",\n",
       "  'pubDate': '2012',\n",
       "  'director': '프랭크 포어|보이드 커클랜드|로이 버딘|스티븐 E. 고든|개리 하틀|',\n",
       "  'actor': '콜린 오슐그네시|릭 D. 웨저맨|프레드 타타시오르|웰리 잉거트|',\n",
       "  'userRating': '0.00'},\n",
       " {'title': '<b>어벤저스</b>: 어스 마이티스트 히어로즈',\n",
       "  'link': 'https://movie.naver.com/movie/bi/mi/basic.nhn?code=89335',\n",
       "  'image': 'https://ssl.pstatic.net/imgmovie/mdi/mit110/0893/89335_P01_151857.jpg',\n",
       "  'subtitle': \"The Avengers: Earth's Mightiest Heroes\",\n",
       "  'pubDate': '2010',\n",
       "  'director': '빈턴 혁|프랭크 포어|세바스찬 몬테스|',\n",
       "  'actor': '콜린 오슐그네시|릭 D. 웨저맨|프레드 타타시오르|웰리 잉거트|',\n",
       "  'userRating': '8.50'},\n",
       " {'title': '얼티메이트 <b>어벤저스</b> 2',\n",
       "  'link': 'https://movie.naver.com/movie/bi/mi/basic.nhn?code=89334',\n",
       "  'image': 'https://ssl.pstatic.net/imgmovie/mdi/mit110/0893/89334_P02_104056.jpg',\n",
       "  'subtitle': 'Ultimate Avengers II',\n",
       "  'pubDate': '2006',\n",
       "  'director': '윌 뮤그니옷|딕 세바스트|밥 리처드슨|',\n",
       "  'actor': '저스틴 그로스|그레이 딜라일|마이클 마시|',\n",
       "  'userRating': '7.00'},\n",
       " {'title': '얼티메이트 <b>어벤저스</b>',\n",
       "  'link': 'https://movie.naver.com/movie/bi/mi/basic.nhn?code=89330',\n",
       "  'image': 'https://ssl.pstatic.net/imgmovie/mdi/mit110/0893/89330_P01_170034.jpg',\n",
       "  'subtitle': 'Ultimate Avengers',\n",
       "  'pubDate': '2006',\n",
       "  'director': '밥 리처드슨|커트 게다|스티븐 E. 고든|',\n",
       "  'actor': '저스틴 그로스|그레이 딜라일|마이클 마시|',\n",
       "  'userRating': '6.00'},\n",
       " {'title': '더 다크 <b>어벤저스</b>',\n",
       "  'link': 'https://movie.naver.com/movie/bi/mi/basic.nhn?code=89333',\n",
       "  'image': '',\n",
       "  'subtitle': 'The Dark Avengers',\n",
       "  'pubDate': '2005',\n",
       "  'director': '브랜던 슬래글|레미 St. 폴|',\n",
       "  'actor': '레미 St. 폴|브랜던 슬래글|',\n",
       "  'userRating': '5.50'},\n",
       " {'title': '<b>어벤저스</b>',\n",
       "  'link': 'https://movie.naver.com/movie/bi/mi/basic.nhn?code=89329',\n",
       "  'image': '',\n",
       "  'subtitle': 'The Avengers',\n",
       "  'pubDate': '1950',\n",
       "  'director': '존 H. 오어|',\n",
       "  'actor': '아델 마라|모나 마리스|페르난도 라마스|존 캐럴|',\n",
       "  'userRating': '7.58'}]"
      ]
     },
     "execution_count": 19,
     "metadata": {},
     "output_type": "execute_result"
    }
   ],
   "source": [
    "tmp"
   ]
  },
  {
   "cell_type": "markdown",
   "metadata": {},
   "source": [
    "# 2021-03-05 네이버 쇼핑"
   ]
  },
  {
   "cell_type": "code",
   "execution_count": 1,
   "metadata": {},
   "outputs": [],
   "source": [
    "import requests\n",
    "import pandas as pd\n",
    "import json\n",
    "\n",
    "def get_idpw():\n",
    "    with open('C:/Users/dojun/Documents/api_keys/naver_api.txt') as f:\n",
    "        client_id = f.readline().replace('\\n', '')\n",
    "        client_secret = f.readline()\n",
    "    return client_id, client_secret\n",
    "\n",
    "def shopping_search(keyword, nid, npw):\n",
    "    url = 'https://openapi.naver.com/v1/search/shop.json?query=' + keyword + '&display=30&start=1'\n",
    "    html = requests.get(url, headers={\"X-Naver-Client-Id\": nid,\n",
    "                                      \"X-Naver-Client-Secret\": npw})\n",
    "    json1 = html.json()\n",
    "    return json1['items']"
   ]
  },
  {
   "cell_type": "code",
   "execution_count": 2,
   "metadata": {},
   "outputs": [],
   "source": [
    "nid, npw = get_idpw()"
   ]
  },
  {
   "cell_type": "code",
   "execution_count": 3,
   "metadata": {},
   "outputs": [],
   "source": [
    "tmp = shopping_search('냉장고', nid, npw)"
   ]
  },
  {
   "cell_type": "code",
   "execution_count": 7,
   "metadata": {},
   "outputs": [
    {
     "data": {
      "text/plain": [
       "'1672440'"
      ]
     },
     "execution_count": 7,
     "metadata": {},
     "output_type": "execute_result"
    }
   ],
   "source": [
    "tmp[0]['lprice']"
   ]
  },
  {
   "cell_type": "code",
   "execution_count": 15,
   "metadata": {},
   "outputs": [],
   "source": [
    "def price_comma(p):\n",
    "    if len(p) > 9:\n",
    "        return p[:-9]+','+p[-9:-6]+','+p[-6:-3]+','+p[-3:]\n",
    "    elif len(p) > 6:\n",
    "        return p[:-6]+','+p[-6:-3]+','+p[-3:]\n",
    "    elif len(p) > 3:\n",
    "        return p[:-3]+','+p[-3:]\n",
    "    else:\n",
    "        return p"
   ]
  },
  {
   "cell_type": "code",
   "execution_count": null,
   "metadata": {},
   "outputs": [],
   "source": [
    "100,000,000,000\n",
    "100,000,000\n",
    "100,000\n",
    "1000"
   ]
  },
  {
   "cell_type": "code",
   "execution_count": 28,
   "metadata": {},
   "outputs": [
    {
     "data": {
      "text/plain": [
       "''"
      ]
     },
     "execution_count": 28,
     "metadata": {},
     "output_type": "execute_result"
    }
   ],
   "source": [
    "price_comma('')"
   ]
  },
  {
   "cell_type": "code",
   "execution_count": null,
   "metadata": {},
   "outputs": [],
   "source": []
  },
  {
   "cell_type": "code",
   "execution_count": null,
   "metadata": {},
   "outputs": [],
   "source": []
  },
  {
   "cell_type": "code",
   "execution_count": null,
   "metadata": {},
   "outputs": [],
   "source": []
  },
  {
   "cell_type": "code",
   "execution_count": null,
   "metadata": {},
   "outputs": [],
   "source": []
  },
  {
   "cell_type": "code",
   "execution_count": null,
   "metadata": {},
   "outputs": [],
   "source": []
  },
  {
   "cell_type": "code",
   "execution_count": null,
   "metadata": {},
   "outputs": [],
   "source": []
  },
  {
   "cell_type": "code",
   "execution_count": null,
   "metadata": {},
   "outputs": [],
   "source": []
  },
  {
   "cell_type": "code",
   "execution_count": null,
   "metadata": {},
   "outputs": [],
   "source": []
  },
  {
   "cell_type": "code",
   "execution_count": null,
   "metadata": {},
   "outputs": [],
   "source": []
  },
  {
   "cell_type": "code",
   "execution_count": null,
   "metadata": {},
   "outputs": [],
   "source": []
  }
 ],
 "metadata": {
  "kernelspec": {
   "display_name": "Python 3",
   "language": "python",
   "name": "python3"
  },
  "language_info": {
   "codemirror_mode": {
    "name": "ipython",
    "version": 3
   },
   "file_extension": ".py",
   "mimetype": "text/x-python",
   "name": "python",
   "nbconvert_exporter": "python",
   "pygments_lexer": "ipython3",
   "version": "3.8.5"
  }
 },
 "nbformat": 4,
 "nbformat_minor": 4
}
