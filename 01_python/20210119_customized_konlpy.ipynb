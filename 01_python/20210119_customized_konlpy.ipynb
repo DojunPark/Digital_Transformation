{
 "cells": [
  {
   "cell_type": "markdown",
   "metadata": {},
   "source": [
    "# konlpy"
   ]
  },
  {
   "cell_type": "code",
   "execution_count": null,
   "metadata": {},
   "outputs": [],
   "source": [
    "from konlpy.tag import Okt\n",
    "\n",
    "okt = Okt()\n",
    "text = '우리아이오아이는 정말 이뻐요'\n",
    "\n",
    "okt.pos(text)"
   ]
  },
  {
   "cell_type": "code",
   "execution_count": 2,
   "metadata": {},
   "outputs": [
    {
     "name": "stderr",
     "output_type": "stream",
     "text": [
      "C:\\Users\\dojun\\anaconda3\\envs\\python38\\lib\\site-packages\\konlpy\\tag\\_okt.py:16: UserWarning: \"Twitter\" has changed to \"Okt\" since KoNLPy v0.4.5.\n",
      "  warn('\"Twitter\" has changed to \"Okt\" since KoNLPy v0.4.5.')\n"
     ]
    },
    {
     "data": {
      "text/plain": [
       "[('우리', 'Noun'),\n",
       " ('아이오', 'Noun'),\n",
       " ('아이', 'Noun'),\n",
       " ('는', 'Josa'),\n",
       " ('정말', 'Noun'),\n",
       " ('이뻐요', 'Adjective')]"
      ]
     },
     "execution_count": 2,
     "metadata": {},
     "output_type": "execute_result"
    }
   ],
   "source": [
    "from konlpy.tag import Twitter\n",
    "\n",
    "twitter = Twitter()\n",
    "twitter.pos(text)"
   ]
  },
  {
   "cell_type": "markdown",
   "metadata": {},
   "source": [
    "# customized_konlpy\n",
    "- `pip install customized_konlpy`\n",
    "- `add_dictionary` 메소드를 사용함으로 사용자 단어 사전을 만들 수 있음"
   ]
  },
  {
   "cell_type": "code",
   "execution_count": 6,
   "metadata": {},
   "outputs": [
    {
     "data": {
      "text/plain": [
       "[('우리', 'Noun'),\n",
       " ('아이오아이', 'Noun'),\n",
       " ('는', 'Josa'),\n",
       " ('정말', 'Noun'),\n",
       " ('이뻐요', 'Adjective')]"
      ]
     },
     "execution_count": 6,
     "metadata": {},
     "output_type": "execute_result"
    }
   ],
   "source": [
    "from ckonlpy.tag import Twitter\n",
    "\n",
    "twitter = Twitter()\n",
    "twitter.add_dictionary('아이오아이', 'Noun')  # 사용자사전 추가\n",
    "\n",
    "twitter.pos(text)"
   ]
  },
  {
   "cell_type": "code",
   "execution_count": 7,
   "metadata": {},
   "outputs": [
    {
     "data": {
      "text/plain": [
       "[('트와이스', 'Noun'), ('tt', 'Alpha'), ('는', 'Verb'), ('좋아요', 'Adjective')]"
      ]
     },
     "execution_count": 7,
     "metadata": {},
     "output_type": "execute_result"
    }
   ],
   "source": [
    "text2 = '트와이스tt는 좋아요'\n",
    "twitter.pos(text2)"
   ]
  },
  {
   "cell_type": "code",
   "execution_count": 8,
   "metadata": {},
   "outputs": [
    {
     "data": {
      "text/plain": [
       "[('트와이스', 'Noun'), ('tt', 'Noun'), ('는', 'Josa'), ('좋아요', 'Adjective')]"
      ]
     },
     "execution_count": 8,
     "metadata": {},
     "output_type": "execute_result"
    }
   ],
   "source": [
    "twitter.add_dictionary(['트와이스', 'tt'], 'Noun')\n",
    "twitter.pos(text2)"
   ]
  },
  {
   "cell_type": "markdown",
   "metadata": {},
   "source": [
    "- `postprocesser(twitter, passwords = passwords)`: 특정 단어 혹은 (특정 단어, 품사)만 출력\n",
    "- `postprocesser(twitter, stopwords = stopwords)`: 불용어를 제외하고 출력\n",
    "- `Postprocessor(twitter, passtags = passtags)`: 특정 품사만 출력\n",
    "- `Postprocessor(twitter, replace = replace)`: 특정 단어 치환"
   ]
  },
  {
   "cell_type": "code",
   "execution_count": 9,
   "metadata": {},
   "outputs": [
    {
     "data": {
      "text/plain": [
       "[('아이오아이', 'Noun'), ('정말', 'Noun')]"
      ]
     },
     "execution_count": 9,
     "metadata": {},
     "output_type": "execute_result"
    }
   ],
   "source": [
    "from ckonlpy.tag import Postprocessor\n",
    "\n",
    "passwords = {'아이오아이', ('정말', 'Noun')}\n",
    "postprocessor = Postprocessor(twitter, passwords = passwords)\n",
    "postprocessor.pos(text)"
   ]
  },
  {
   "cell_type": "code",
   "execution_count": 10,
   "metadata": {},
   "outputs": [
    {
     "data": {
      "text/plain": [
       "[('우리', 'Noun'), ('아이오아이', 'Noun'), ('정말', 'Noun'), ('이뻐요', 'Adjective')]"
      ]
     },
     "execution_count": 10,
     "metadata": {},
     "output_type": "execute_result"
    }
   ],
   "source": [
    "stopwords = {'는'}\n",
    "postprocessor = Postprocessor(twitter, stopwords = stopwords)\n",
    "postprocessor.pos(text)"
   ]
  },
  {
   "cell_type": "code",
   "execution_count": 11,
   "metadata": {},
   "outputs": [
    {
     "data": {
      "text/plain": [
       "[('우리', 'Noun'), ('아이오아이', 'Noun'), ('정말', 'Noun')]"
      ]
     },
     "execution_count": 11,
     "metadata": {},
     "output_type": "execute_result"
    }
   ],
   "source": [
    "passtags = {'Noun'}\n",
    "postprocessor = Postprocessor(twitter, passtags = passtags)\n",
    "postprocessor.pos(text)"
   ]
  },
  {
   "cell_type": "code",
   "execution_count": 12,
   "metadata": {},
   "outputs": [
    {
     "data": {
      "text/plain": [
       "[('우리', 'Noun'),\n",
       " ('아이돌', 'Noun'),\n",
       " ('는', 'Josa'),\n",
       " ('정말', 'Noun'),\n",
       " ('예쁘다', 'Adjective')]"
      ]
     },
     "execution_count": 12,
     "metadata": {},
     "output_type": "execute_result"
    }
   ],
   "source": [
    "replace = {'아이오아이' : '아이돌', ('이뻐요', 'Adjective') : '예쁘다'}\n",
    "postprocessor = Postprocessor(twitter, replace = replace)\n",
    "postprocessor.pos(text)"
   ]
  }
 ],
 "metadata": {
  "kernelspec": {
   "display_name": "Python 3",
   "language": "python",
   "name": "python3"
  },
  "language_info": {
   "codemirror_mode": {
    "name": "ipython",
    "version": 3
   },
   "file_extension": ".py",
   "mimetype": "text/x-python",
   "name": "python",
   "nbconvert_exporter": "python",
   "pygments_lexer": "ipython3",
   "version": "3.8.5"
  }
 },
 "nbformat": 4,
 "nbformat_minor": 4
}
