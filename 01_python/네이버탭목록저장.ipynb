{
 "cells": [
  {
   "cell_type": "markdown",
   "metadata": {},
   "source": [
    "# Step1: 함수 선언"
   ]
  },
  {
   "cell_type": "code",
   "execution_count": 25,
   "metadata": {},
   "outputs": [],
   "source": [
    "import requests\n",
    "from bs4 import BeautifulSoup as bs\n",
    "import pandas as pd\n",
    "import datetime\n",
    "import time\n",
    "from tqdm import tqdm\n",
    "\n",
    "def get_order(keywords):\n",
    "    today = str(datetime.datetime.today())[:10]\n",
    "\n",
    "    ls_tabs = []\n",
    "    for keyword in tqdm(keywords, '크롤링 진행 중...'):\n",
    "        url = 'https://search.naver.com/search.naver?where=nexearch&sm=top_sly.hst&fbm=1&acr=2&ie=utf8&query=' + keyword\n",
    "\n",
    "        html = requests.get(url)\n",
    "        time.sleep(1)\n",
    "        soup = bs(html.content, 'html.parser')\n",
    "\n",
    "        ul = soup.find('ul', {'role':'tablist'})\n",
    "        tab = ul.find_all('a', {'role':'tab'})\n",
    "\n",
    "        tabs = [keyword]\n",
    "        for t in tab:\n",
    "            text = t.text\n",
    "            tabs.append(text)\n",
    "\n",
    "        ls_tabs.append(tabs)\n",
    "\n",
    "    df = pd.DataFrame(ls_tabs, columns=['키워드', '탭1', '탭2', '탭3', '탭4', '탭5', '탭6', '탭7', '탭8', '탭9'])\n",
    "    df.to_excel('./py_data/'+today+'_키워드탭목록.xlsx')\n",
    "    \n",
    "    print('-------- 저장 완료 ---------')"
   ]
  },
  {
   "cell_type": "markdown",
   "metadata": {},
   "source": [
    "# Step2: 키워드 설정"
   ]
  },
  {
   "cell_type": "code",
   "execution_count": 26,
   "metadata": {},
   "outputs": [],
   "source": [
    "keywords = ['짬뽕다시', '다시다', '짬뽕', '핫소스']"
   ]
  },
  {
   "cell_type": "markdown",
   "metadata": {},
   "source": [
    "# Step3: 파일 저장"
   ]
  },
  {
   "cell_type": "code",
   "execution_count": 27,
   "metadata": {},
   "outputs": [
    {
     "name": "stderr",
     "output_type": "stream",
     "text": [
      "크롤링 진행 중...: 100%|█████████████████████████████████████████████████████████████████| 4/4 [00:05<00:00,  1.48s/it]"
     ]
    },
    {
     "name": "stdout",
     "output_type": "stream",
     "text": [
      "-------- 저장 완료 ---------\n"
     ]
    },
    {
     "name": "stderr",
     "output_type": "stream",
     "text": [
      "\n"
     ]
    }
   ],
   "source": [
    "get_order(keywords)"
   ]
  },
  {
   "cell_type": "code",
   "execution_count": null,
   "metadata": {},
   "outputs": [],
   "source": []
  }
 ],
 "metadata": {
  "kernelspec": {
   "display_name": "Python 3",
   "language": "python",
   "name": "python3"
  },
  "language_info": {
   "codemirror_mode": {
    "name": "ipython",
    "version": 3
   },
   "file_extension": ".py",
   "mimetype": "text/x-python",
   "name": "python",
   "nbconvert_exporter": "python",
   "pygments_lexer": "ipython3",
   "version": "3.8.5"
  }
 },
 "nbformat": 4,
 "nbformat_minor": 4
}
