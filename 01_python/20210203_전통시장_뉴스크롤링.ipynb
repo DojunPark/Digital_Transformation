{
 "cells": [
  {
   "cell_type": "markdown",
   "metadata": {},
   "source": [
    "# 링크 수집"
   ]
  },
  {
   "cell_type": "code",
   "execution_count": 2,
   "metadata": {},
   "outputs": [],
   "source": [
    "with open('C:/Users/dojun\\Documents/api_keys/naver_api.txt') as f:\n",
    "    client_id = f.readline().replace('\\n', '')\n",
    "    client_secret = f.readline()"
   ]
  },
  {
   "cell_type": "code",
   "execution_count": 27,
   "metadata": {},
   "outputs": [
    {
     "data": {
      "text/plain": [
       "100"
      ]
     },
     "execution_count": 27,
     "metadata": {},
     "output_type": "execute_result"
    }
   ],
   "source": [
    "import requests\n",
    "import pandas as pd\n",
    "import urllib.request\n",
    "from urllib.request import quote\n",
    "from urllib.parse import urlparse\n",
    "from bs4 import BeautifulSoup as bs\n",
    "\n",
    "keyword = '서울 전통시장'\n",
    "url = 'https://openapi.naver.com/v1/search/news.json?query=' + keyword + '&display=100&start=901'\n",
    "html = requests.get(url,headers = {\"X-Naver-Client-Id\" : client_id,\n",
    "                                   \"X-Naver-Client-Secret\" : client_secret})\n",
    "\n",
    "json1 = html.json()\n",
    "len(json1['items'])"
   ]
  },
  {
   "cell_type": "code",
   "execution_count": 28,
   "metadata": {},
   "outputs": [
    {
     "data": {
      "text/plain": [
       "1000"
      ]
     },
     "execution_count": 28,
     "metadata": {},
     "output_type": "execute_result"
    }
   ],
   "source": [
    "df1 = pd.DataFrame(json1['items'])\n",
    "df = pd.concat([df, df1])\n",
    "len(df)"
   ]
  },
  {
   "cell_type": "code",
   "execution_count": 29,
   "metadata": {},
   "outputs": [
    {
     "data": {
      "text/html": [
       "<div>\n",
       "<style scoped>\n",
       "    .dataframe tbody tr th:only-of-type {\n",
       "        vertical-align: middle;\n",
       "    }\n",
       "\n",
       "    .dataframe tbody tr th {\n",
       "        vertical-align: top;\n",
       "    }\n",
       "\n",
       "    .dataframe thead th {\n",
       "        text-align: right;\n",
       "    }\n",
       "</style>\n",
       "<table border=\"1\" class=\"dataframe\">\n",
       "  <thead>\n",
       "    <tr style=\"text-align: right;\">\n",
       "      <th></th>\n",
       "      <th>title</th>\n",
       "      <th>originallink</th>\n",
       "      <th>link</th>\n",
       "      <th>description</th>\n",
       "      <th>pubDate</th>\n",
       "    </tr>\n",
       "  </thead>\n",
       "  <tbody>\n",
       "    <tr>\n",
       "      <th>0</th>\n",
       "      <td>중랑구, 설 연휴 &lt;b&gt;전통시장&lt;/b&gt; 찾는 주민들에 다양한 혜택 제공</td>\n",
       "      <td>http://www.munhwa.com/news/view.html?no=202102...</td>\n",
       "      <td>https://news.naver.com/main/read.nhn?mode=LSD&amp;...</td>\n",
       "      <td>&lt;b&gt;서울&lt;/b&gt; 중랑구는 설 연휴(이달 11~14일)를 맞아 오는 10일까지 &lt;b...</td>\n",
       "      <td>Wed, 03 Feb 2021 10:10:00 +0900</td>\n",
       "    </tr>\n",
       "    <tr>\n",
       "      <th>1</th>\n",
       "      <td>쿠팡-공정위, 중소납품업체에 3270억원 규모 지원 나서</td>\n",
       "      <td>http://www.smartfn.co.kr/view.php?ud=202102030...</td>\n",
       "      <td>http://www.smartfn.co.kr/view.php?ud=202102030...</td>\n",
       "      <td>또 배송 규모가 작은 영세 판매자를 지원하기 위해 ‘파트너 캐리어 프로그램’, 쿠팡...</td>\n",
       "      <td>Wed, 03 Feb 2021 09:46:00 +0900</td>\n",
       "    </tr>\n",
       "    <tr>\n",
       "      <th>2</th>\n",
       "      <td>집 콕 소비는 늘어나고 수입산 줄어 쇠고기값 '껑충'</td>\n",
       "      <td>http://www.mbn.co.kr/pages/news/newsView.php?n...</td>\n",
       "      <td>https://news.naver.com/main/read.nhn?mode=LSD&amp;...</td>\n",
       "      <td>【 기자 】 한우 판매점이 밀집한 &lt;b&gt;서울&lt;/b&gt; 마장동의 &lt;b&gt;전통시장&lt;/b&gt;입...</td>\n",
       "      <td>Wed, 03 Feb 2021 09:38:00 +0900</td>\n",
       "    </tr>\n",
       "    <tr>\n",
       "      <th>3</th>\n",
       "      <td>쿠팡의 '상생' 프로젝트... 영세 소상공인 위해선 아낌없이 푼다</td>\n",
       "      <td>https://www.techm.kr/news/articleView.html?idx...</td>\n",
       "      <td>https://www.techm.kr/news/articleView.html?idx...</td>\n",
       "      <td>&lt;b&gt;전통 시장&lt;/b&gt; 살리기 프로젝트부터 &lt;b&gt;서울&lt;/b&gt;시와 협업을 통한 &lt;b&gt;...</td>\n",
       "      <td>Wed, 03 Feb 2021 09:31:00 +0900</td>\n",
       "    </tr>\n",
       "    <tr>\n",
       "      <th>4</th>\n",
       "      <td>쿠팡, 공정위와 손잡고 영세 소상공인 살린다</td>\n",
       "      <td>https://www.news2day.co.kr/article/20210203500020</td>\n",
       "      <td>https://www.news2day.co.kr/article/20210203500020</td>\n",
       "      <td>또 배송 규모가 작은 영세 판매자를 지원하기 위해 ‘파트너 캐리어 프로그램’, 쿠팡...</td>\n",
       "      <td>Wed, 03 Feb 2021 09:29:00 +0900</td>\n",
       "    </tr>\n",
       "  </tbody>\n",
       "</table>\n",
       "</div>"
      ],
      "text/plain": [
       "                                     title  \\\n",
       "0  중랑구, 설 연휴 <b>전통시장</b> 찾는 주민들에 다양한 혜택 제공   \n",
       "1          쿠팡-공정위, 중소납품업체에 3270억원 규모 지원 나서   \n",
       "2            집 콕 소비는 늘어나고 수입산 줄어 쇠고기값 '껑충'   \n",
       "3     쿠팡의 '상생' 프로젝트... 영세 소상공인 위해선 아낌없이 푼다   \n",
       "4                 쿠팡, 공정위와 손잡고 영세 소상공인 살린다   \n",
       "\n",
       "                                        originallink  \\\n",
       "0  http://www.munhwa.com/news/view.html?no=202102...   \n",
       "1  http://www.smartfn.co.kr/view.php?ud=202102030...   \n",
       "2  http://www.mbn.co.kr/pages/news/newsView.php?n...   \n",
       "3  https://www.techm.kr/news/articleView.html?idx...   \n",
       "4  https://www.news2day.co.kr/article/20210203500020   \n",
       "\n",
       "                                                link  \\\n",
       "0  https://news.naver.com/main/read.nhn?mode=LSD&...   \n",
       "1  http://www.smartfn.co.kr/view.php?ud=202102030...   \n",
       "2  https://news.naver.com/main/read.nhn?mode=LSD&...   \n",
       "3  https://www.techm.kr/news/articleView.html?idx...   \n",
       "4  https://www.news2day.co.kr/article/20210203500020   \n",
       "\n",
       "                                         description  \\\n",
       "0  <b>서울</b> 중랑구는 설 연휴(이달 11~14일)를 맞아 오는 10일까지 <b...   \n",
       "1  또 배송 규모가 작은 영세 판매자를 지원하기 위해 ‘파트너 캐리어 프로그램’, 쿠팡...   \n",
       "2  【 기자 】 한우 판매점이 밀집한 <b>서울</b> 마장동의 <b>전통시장</b>입...   \n",
       "3  <b>전통 시장</b> 살리기 프로젝트부터 <b>서울</b>시와 협업을 통한 <b>...   \n",
       "4  또 배송 규모가 작은 영세 판매자를 지원하기 위해 ‘파트너 캐리어 프로그램’, 쿠팡...   \n",
       "\n",
       "                           pubDate  \n",
       "0  Wed, 03 Feb 2021 10:10:00 +0900  \n",
       "1  Wed, 03 Feb 2021 09:46:00 +0900  \n",
       "2  Wed, 03 Feb 2021 09:38:00 +0900  \n",
       "3  Wed, 03 Feb 2021 09:31:00 +0900  \n",
       "4  Wed, 03 Feb 2021 09:29:00 +0900  "
      ]
     },
     "execution_count": 29,
     "metadata": {},
     "output_type": "execute_result"
    }
   ],
   "source": [
    "df.head()"
   ]
  },
  {
   "cell_type": "code",
   "execution_count": 41,
   "metadata": {},
   "outputs": [],
   "source": [
    "df.to_excel('./py_data/crawling/전통시장/서울전통시장_뉴스_정보.xlsx', engine='openpyxl')"
   ]
  },
  {
   "cell_type": "code",
   "execution_count": 30,
   "metadata": {},
   "outputs": [],
   "source": [
    "link2021 = []\n",
    "link2020 = []\n",
    "link2019 = []\n",
    "link2018 = []\n",
    "\n",
    "for i, r in df.iterrows():\n",
    "    if '2021' in r[4]:\n",
    "        link2021.append(r[2])\n",
    "    elif '2020' in r[4]:\n",
    "        link2020.append(r[2])\n",
    "    elif '2019' in r[4]:\n",
    "        link2019.append(r[2])\n",
    "    elif '2018' in r[4]:\n",
    "        link2018.append(r[2])"
   ]
  },
  {
   "cell_type": "code",
   "execution_count": 31,
   "metadata": {},
   "outputs": [
    {
     "name": "stdout",
     "output_type": "stream",
     "text": [
      "1000\n",
      "0\n",
      "0\n",
      "0\n"
     ]
    }
   ],
   "source": [
    "print(len(link2021))\n",
    "print(len(link2020))\n",
    "print(len(link2019))\n",
    "print(len(link2018))"
   ]
  },
  {
   "cell_type": "code",
   "execution_count": 33,
   "metadata": {},
   "outputs": [],
   "source": [
    "ls_links = list(set(link2021))"
   ]
  },
  {
   "cell_type": "code",
   "execution_count": 34,
   "metadata": {},
   "outputs": [
    {
     "data": {
      "text/plain": [
       "1000"
      ]
     },
     "execution_count": 34,
     "metadata": {},
     "output_type": "execute_result"
    }
   ],
   "source": [
    "len(ls_links)"
   ]
  },
  {
   "cell_type": "code",
   "execution_count": 35,
   "metadata": {},
   "outputs": [],
   "source": [
    "links = []\n",
    "for link in ls_links:\n",
    "    if 'news.naver.com' in link:\n",
    "        links.append(link)"
   ]
  },
  {
   "cell_type": "code",
   "execution_count": 37,
   "metadata": {},
   "outputs": [
    {
     "data": {
      "text/plain": [
       "474"
      ]
     },
     "execution_count": 37,
     "metadata": {},
     "output_type": "execute_result"
    }
   ],
   "source": [
    "len(links)"
   ]
  },
  {
   "cell_type": "markdown",
   "metadata": {},
   "source": [
    "# 텍스트 수집"
   ]
  },
  {
   "cell_type": "code",
   "execution_count": 42,
   "metadata": {},
   "outputs": [
    {
     "data": {
      "text/plain": [
       "['https://news.naver.com/main/read.nhn?mode=LSD&mid=sec&sid1=105&oid=014&aid=0004577331',\n",
       " 'https://news.naver.com/main/read.nhn?mode=LSD&mid=sec&sid1=100&oid=421&aid=0005124205',\n",
       " 'https://news.naver.com/main/read.nhn?mode=LSD&mid=sec&sid1=100&oid=014&aid=0004570756',\n",
       " 'https://news.naver.com/main/read.nhn?mode=LSD&mid=sec&sid1=100&oid=025&aid=0003072070',\n",
       " 'https://news.naver.com/main/read.nhn?mode=LSD&mid=sec&sid1=100&oid=003&aid=0010309874',\n",
       " 'https://news.naver.com/main/read.nhn?mode=LSD&mid=sec&sid1=101&oid=437&aid=0000257926',\n",
       " 'https://news.naver.com/main/read.nhn?mode=LSD&mid=sec&sid1=100&oid=421&aid=0005143745',\n",
       " 'https://news.naver.com/main/read.nhn?mode=LSD&mid=sec&sid1=101&oid=421&aid=0005136371',\n",
       " 'https://news.naver.com/main/read.nhn?mode=LSD&mid=sec&sid1=102&oid=032&aid=0003055920',\n",
       " 'https://news.naver.com/main/read.nhn?mode=LSD&mid=sec&sid1=101&oid=277&aid=0004834116']"
      ]
     },
     "execution_count": 42,
     "metadata": {},
     "output_type": "execute_result"
    }
   ],
   "source": [
    "links[:10]"
   ]
  },
  {
   "cell_type": "code",
   "execution_count": 53,
   "metadata": {},
   "outputs": [
    {
     "name": "stderr",
     "output_type": "stream",
     "text": [
      "crawling...: 100%|███████████████████████████████████████████████████████████████████| 474/474 [11:54<00:00,  1.51s/it]"
     ]
    },
    {
     "name": "stdout",
     "output_type": "stream",
     "text": [
      "------- done --------\n"
     ]
    },
    {
     "name": "stderr",
     "output_type": "stream",
     "text": [
      "\n"
     ]
    }
   ],
   "source": [
    "import requests\n",
    "from bs4 import BeautifulSoup as bs\n",
    "from selenium import webdriver\n",
    "import time\n",
    "from tqdm import tqdm\n",
    "import re\n",
    "\n",
    "regex = re.compile('.*postViewArea.*')\n",
    "\n",
    "driver = webdriver.Chrome('./py_data/crawling/chromedriver.exe')\n",
    "\n",
    "news = ''\n",
    "for link in tqdm(links, 'crawling...'):\n",
    "    \n",
    "    driver.get(link)\n",
    "    driver.implicitly_wait(5)\n",
    "    time.sleep(1)\n",
    "\n",
    "    try:\n",
    "        html = driver.page_source\n",
    "        soup = bs(html, 'html.parser')\n",
    "        title = soup.find('h3', class_='tts_head').text\n",
    "        text = soup.find('div', class_='_article_body_contents').text\n",
    "        text1 = title + '\\n' + text + '\\n'\n",
    "        text1 = re.sub('[^ㄱ-힣0-9., ]', '', text1)\n",
    "        news += text1\n",
    "    except:\n",
    "        continue\n",
    "\n",
    "print('------- done --------')"
   ]
  },
  {
   "cell_type": "code",
   "execution_count": 57,
   "metadata": {},
   "outputs": [
    {
     "data": {
      "text/plain": [
       "'전통시장전봇대 주변 거미줄 전선 사라진다  오류를 우회하기 위한 함수 추가  과기부, 5년간 2조8500억 투입공중케이블 지상정비지중화 추진 공중선케이블 지상 정비 전왼쪽과 후 사진. 과학기술정보통신부는 공중케이블 지상 정비 사업에 향후 5년간 2조8500억원 규모를 투자한다. 과기정통부 제공 과학기술정보통신부는 제30차 공중케이블 정비협의회를 개최해 관계부처 합동으로 마련한 제2차 공중케이블 정비 중장기 종합계획을 확정했다고 2일 밝혔다.   2차 공중케이블 정비 종합계획에서는 국가 및 지방자치단체와 한전방송통신사업자가 향후 5년간 공중케이블 지상 정비 사업에 1조4000억원, 땅속 지중화 사업에 1조4500억원 등 총 2조8500억원 규모로 투자할 계획이다. 특히 시민안전 위험지역과 전통시장 및 주택상가 지역에 대해서는 우선적으로 투자해 정비할 예정이다.   과기정통부는 과거 단순 인구비례 물량 배분방식에서 주택가구수와 노후 주택수 기준으로 조정한 후 당초 인구 50만 이상 21개 지자체에서 27개 지자체로 확대 개편 하는 등 정비사업의 실효성을 확보한다. 지자체의 기반인프라 정비지원, 지중화 확대계획, 홍보방안 등 정비계획과 이행실적을 평가한 후 지자체별 상중하로 나눠 하로 평가된 지역의 정비금액 30를 상으로 평가된 지역으로 정비물량을 재배분 한다.   과기정통부는 그린뉴딜과 연계한 예산 1조원 매칭투자로 신기술 적용을 통해 지중화 사업을 가속화 하는 등 기반시설을 고도화 한다. 아울러 적극행정으로 정부지자체한전방송통신사업자와 협업해 학생 안전을 위한 스쿨존 지중화를 우선 추진할 계획이다.   과기정통부는 지하매설 미니트렌칭공법 적용으로 지중화 공사비용을 절감하고 현재 서울 부산 2개 시범지역 외에 대전대구광주 3대광역시에 시범사업을 추가 실시해 신공법에 대한 안전성 검증 작업을 할 계획이다. 유무선 연구개발 성과도 적용해 건물과 건물사이 건물과 전주사이 중계구간에 유선케이블을 제거하고 무선 송수신 방식으로 데이터를 주고받는 네트워크 기반고도화 시범사업'"
      ]
     },
     "execution_count": 57,
     "metadata": {},
     "output_type": "execute_result"
    }
   ],
   "source": [
    "news[:1000]"
   ]
  },
  {
   "cell_type": "code",
   "execution_count": 56,
   "metadata": {},
   "outputs": [],
   "source": [
    "with open('./py_data/crawling/전통시장/서울전통시장_뉴스_텍스트.txt', 'w', encoding='utf-8') as f:\n",
    "    f.write(news)"
   ]
  },
  {
   "cell_type": "code",
   "execution_count": null,
   "metadata": {},
   "outputs": [],
   "source": []
  },
  {
   "cell_type": "code",
   "execution_count": null,
   "metadata": {},
   "outputs": [],
   "source": []
  },
  {
   "cell_type": "code",
   "execution_count": null,
   "metadata": {},
   "outputs": [],
   "source": []
  }
 ],
 "metadata": {
  "kernelspec": {
   "display_name": "Python 3",
   "language": "python",
   "name": "python3"
  },
  "language_info": {
   "codemirror_mode": {
    "name": "ipython",
    "version": 3
   },
   "file_extension": ".py",
   "mimetype": "text/x-python",
   "name": "python",
   "nbconvert_exporter": "python",
   "pygments_lexer": "ipython3",
   "version": "3.8.5"
  }
 },
 "nbformat": 4,
 "nbformat_minor": 4
}
