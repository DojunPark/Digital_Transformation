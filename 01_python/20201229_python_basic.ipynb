{
 "cells": [
  {
   "cell_type": "markdown",
   "metadata": {},
   "source": [
    "# 출력하기\n",
    "> print()\n",
    "- 파이썬은 인터프리터 언어\n",
    "- 입력 순서대로 실행됨"
   ]
  },
  {
   "cell_type": "code",
   "execution_count": 2,
   "metadata": {},
   "outputs": [
    {
     "name": "stdout",
     "output_type": "stream",
     "text": [
      "파이썬\n"
     ]
    }
   ],
   "source": [
    "# 주석문\n",
    "print('파이썬')  # print(): 사용자에게 메시지를 전달하는 함수"
   ]
  },
  {
   "cell_type": "markdown",
   "metadata": {},
   "source": [
    "- 계산 메모리: CPU\n",
    "- 저장 메모리: RAM"
   ]
  },
  {
   "cell_type": "code",
   "execution_count": 3,
   "metadata": {},
   "outputs": [
    {
     "data": {
      "text/plain": [
       "7"
      ]
     },
     "execution_count": 3,
     "metadata": {},
     "output_type": "execute_result"
    }
   ],
   "source": [
    "a = 3   # ram 메모리 주소에 저장되어 있음\n",
    "b = 4   # ram 메모리 주소에 저장되어 있음\n",
    "a + b   # cpu가 ram 메모리 주소의 a와 b를 가져다가 출력함 (ram의 a와 b의 값은 변하지 않음)"
   ]
  },
  {
   "cell_type": "code",
   "execution_count": 8,
   "metadata": {},
   "outputs": [
    {
     "ename": "TypeError",
     "evalue": "can only concatenate str (not \"float\") to str",
     "output_type": "error",
     "traceback": [
      "\u001b[0;31m---------------------------------------------------------------------------\u001b[0m",
      "\u001b[0;31mTypeError\u001b[0m                                 Traceback (most recent call last)",
      "\u001b[0;32m<ipython-input-8-ffcb2b7de0b1>\u001b[0m in \u001b[0;36m<module>\u001b[0;34m\u001b[0m\n\u001b[1;32m      1\u001b[0m \u001b[0ma\u001b[0m \u001b[0;34m=\u001b[0m \u001b[0;34m'파이썬'\u001b[0m\u001b[0;34m\u001b[0m\u001b[0;34m\u001b[0m\u001b[0m\n\u001b[1;32m      2\u001b[0m \u001b[0mb\u001b[0m \u001b[0;34m=\u001b[0m \u001b[0;36m3.8\u001b[0m\u001b[0;34m\u001b[0m\u001b[0;34m\u001b[0m\u001b[0m\n\u001b[0;32m----> 3\u001b[0;31m \u001b[0mprint\u001b[0m\u001b[0;34m(\u001b[0m\u001b[0ma\u001b[0m \u001b[0;34m+\u001b[0m \u001b[0mb\u001b[0m\u001b[0;34m)\u001b[0m  \u001b[0;31m# 숫자와 문자는 연산 불가능\u001b[0m\u001b[0;34m\u001b[0m\u001b[0;34m\u001b[0m\u001b[0m\n\u001b[0m",
      "\u001b[0;31mTypeError\u001b[0m: can only concatenate str (not \"float\") to str"
     ]
    }
   ],
   "source": [
    "a = '파이썬'\n",
    "b = 3.8\n",
    "\n",
    "print(a + b)  # 숫자와 문자는 연산 불가능"
   ]
  },
  {
   "cell_type": "code",
   "execution_count": 11,
   "metadata": {},
   "outputs": [
    {
     "name": "stdout",
     "output_type": "stream",
     "text": [
      "파이썬3.8\n"
     ]
    }
   ],
   "source": [
    "print(a + str(b))  # 숫자를 문자형으로 바꿔주면 연산이 가능"
   ]
  },
  {
   "cell_type": "markdown",
   "metadata": {},
   "source": [
    "### 산술 연산"
   ]
  },
  {
   "cell_type": "code",
   "execution_count": 13,
   "metadata": {},
   "outputs": [
    {
     "ename": "TypeError",
     "evalue": "unsupported operand type(s) for +: 'int' and 'str'",
     "output_type": "error",
     "traceback": [
      "\u001b[0;31m---------------------------------------------------------------------------\u001b[0m",
      "\u001b[0;31mTypeError\u001b[0m                                 Traceback (most recent call last)",
      "\u001b[0;32m<ipython-input-13-927610690a3b>\u001b[0m in \u001b[0;36m<module>\u001b[0;34m\u001b[0m\n\u001b[1;32m      2\u001b[0m \u001b[0mb\u001b[0m \u001b[0;34m=\u001b[0m \u001b[0;34m'4'\u001b[0m\u001b[0;34m\u001b[0m\u001b[0;34m\u001b[0m\u001b[0m\n\u001b[1;32m      3\u001b[0m \u001b[0;34m\u001b[0m\u001b[0m\n\u001b[0;32m----> 4\u001b[0;31m \u001b[0mprint\u001b[0m\u001b[0;34m(\u001b[0m\u001b[0ma\u001b[0m \u001b[0;34m+\u001b[0m \u001b[0mb\u001b[0m\u001b[0;34m)\u001b[0m  \u001b[0;31m# int와 str인 불가\u001b[0m\u001b[0;34m\u001b[0m\u001b[0;34m\u001b[0m\u001b[0m\n\u001b[0m",
      "\u001b[0;31mTypeError\u001b[0m: unsupported operand type(s) for +: 'int' and 'str'"
     ]
    }
   ],
   "source": [
    "a = 3\n",
    "b = '4'\n",
    "\n",
    "print(a + b)  # int와 str인 불가"
   ]
  },
  {
   "cell_type": "code",
   "execution_count": 15,
   "metadata": {},
   "outputs": [
    {
     "name": "stdout",
     "output_type": "stream",
     "text": [
      "7\n"
     ]
    }
   ],
   "source": [
    "print(a + int(b))  # int형으로서 연산"
   ]
  },
  {
   "cell_type": "code",
   "execution_count": 17,
   "metadata": {},
   "outputs": [
    {
     "name": "stdout",
     "output_type": "stream",
     "text": [
      "7.0\n"
     ]
    }
   ],
   "source": [
    "print(a + float(b))  # float형으로서 연산 -> 자동으로 float 연산"
   ]
  },
  {
   "cell_type": "markdown",
   "metadata": {},
   "source": [
    "# for문"
   ]
  },
  {
   "cell_type": "code",
   "execution_count": 21,
   "metadata": {},
   "outputs": [
    {
     "name": "stdout",
     "output_type": "stream",
     "text": [
      "0\n",
      "1\n",
      "2\n",
      "3\n",
      "4\n",
      "5\n",
      "6\n",
      "7\n",
      "8\n",
      "9\n",
      "10\n"
     ]
    }
   ],
   "source": [
    "for i in range(10):\n",
    "    print(i)\n",
    "print(i+1)  # 들여쓰기 주의하기"
   ]
  },
  {
   "cell_type": "markdown",
   "metadata": {},
   "source": [
    "# 연산자"
   ]
  },
  {
   "cell_type": "code",
   "execution_count": 24,
   "metadata": {},
   "outputs": [
    {
     "name": "stdout",
     "output_type": "stream",
     "text": [
      "4.3\n",
      "<class 'float'>\n"
     ]
    }
   ],
   "source": [
    "a = 1\n",
    "b = 3.3\n",
    "print(a + b)\n",
    "print(type(a + b))"
   ]
  },
  {
   "cell_type": "code",
   "execution_count": 26,
   "metadata": {},
   "outputs": [
    {
     "data": {
      "text/plain": [
       "1"
      ]
     },
     "execution_count": 26,
     "metadata": {},
     "output_type": "execute_result"
    }
   ],
   "source": [
    "10 % 3  # 나머지 출력"
   ]
  },
  {
   "cell_type": "code",
   "execution_count": 27,
   "metadata": {},
   "outputs": [
    {
     "data": {
      "text/plain": [
       "3"
      ]
     },
     "execution_count": 27,
     "metadata": {},
     "output_type": "execute_result"
    }
   ],
   "source": [
    "10 // 3 # 몫 출력"
   ]
  },
  {
   "cell_type": "code",
   "execution_count": 29,
   "metadata": {},
   "outputs": [
    {
     "ename": "SyntaxError",
     "evalue": "invalid syntax (<ipython-input-29-560c3cdc49ef>, line 1)",
     "output_type": "error",
     "traceback": [
      "\u001b[0;36m  File \u001b[0;32m\"<ipython-input-29-560c3cdc49ef>\"\u001b[0;36m, line \u001b[0;32m1\u001b[0m\n\u001b[0;31m    10 * 20%  # 퍼센트 사용 불가\u001b[0m\n\u001b[0m              ^\u001b[0m\n\u001b[0;31mSyntaxError\u001b[0m\u001b[0;31m:\u001b[0m invalid syntax\n"
     ]
    }
   ],
   "source": [
    "10 * 20%  # 퍼센트 사용 불가"
   ]
  },
  {
   "cell_type": "code",
   "execution_count": 35,
   "metadata": {},
   "outputs": [
    {
     "name": "stdout",
     "output_type": "stream",
     "text": [
      "2\n"
     ]
    }
   ],
   "source": [
    "print(int(10 * 0.21))"
   ]
  },
  {
   "cell_type": "code",
   "execution_count": 38,
   "metadata": {},
   "outputs": [
    {
     "name": "stdout",
     "output_type": "stream",
     "text": [
      "10\n"
     ]
    }
   ],
   "source": [
    "print(int(10 + 0.9))  # 소수점 뒷자리 제거"
   ]
  },
  {
   "cell_type": "code",
   "execution_count": 40,
   "metadata": {},
   "outputs": [
    {
     "data": {
      "text/plain": [
       "5.0"
      ]
     },
     "execution_count": 40,
     "metadata": {},
     "output_type": "execute_result"
    }
   ],
   "source": [
    "3 + 2.   # 실수형으로 출력"
   ]
  },
  {
   "cell_type": "code",
   "execution_count": 44,
   "metadata": {},
   "outputs": [
    {
     "data": {
      "text/plain": [
       "2"
      ]
     },
     "execution_count": 44,
     "metadata": {},
     "output_type": "execute_result"
    }
   ],
   "source": [
    "round(2.3)  # 반올림 - 내림"
   ]
  },
  {
   "cell_type": "code",
   "execution_count": 45,
   "metadata": {},
   "outputs": [
    {
     "data": {
      "text/plain": [
       "3"
      ]
     },
     "execution_count": 45,
     "metadata": {},
     "output_type": "execute_result"
    }
   ],
   "source": [
    "round(2.6)  # 반올림 - 올림"
   ]
  },
  {
   "cell_type": "markdown",
   "metadata": {},
   "source": [
    "# 숫자형: 정수형, 실수형\n",
    "- time.time()으로 실행 시간 측정하기"
   ]
  },
  {
   "cell_type": "code",
   "execution_count": 61,
   "metadata": {},
   "outputs": [
    {
     "name": "stdout",
     "output_type": "stream",
     "text": [
      "5\n",
      "0.00010800361633300781\n",
      "5.0\n",
      "0.00015544891357421875\n",
      "5.0\n",
      "0.00011014938354492188\n"
     ]
    }
   ],
   "source": [
    "## import time\n",
    "\n",
    "# 정수형\n",
    "start = time.time() \n",
    "print(3 + 2)\n",
    "end = time.time() - start\n",
    "print(end)\n",
    "\n",
    "# 실수형\n",
    "start = time.time() \n",
    "print(3 + 2.)\n",
    "end = time.time() - start\n",
    "print(end)\n",
    "\n",
    "# 둘다 실수형\n",
    "start = time.time() \n",
    "print(3. + 2.)\n",
    "end = time.time() - start\n",
    "print(end)"
   ]
  },
  {
   "cell_type": "code",
   "execution_count": 62,
   "metadata": {},
   "outputs": [
    {
     "name": "stdout",
     "output_type": "stream",
     "text": [
      "<class 'int'>\n",
      "<class 'float'>\n"
     ]
    }
   ],
   "source": [
    "a = 123\n",
    "b = 1.23\n",
    "\n",
    "print(type(a))\n",
    "print(type(b))"
   ]
  },
  {
   "cell_type": "markdown",
   "metadata": {},
   "source": [
    "# 다양한 변수 + 문자열 출력 방법"
   ]
  },
  {
   "cell_type": "code",
   "execution_count": 73,
   "metadata": {},
   "outputs": [
    {
     "name": "stdout",
     "output_type": "stream",
     "text": [
      "정수 =  123 실수 =  b\n",
      "정수 = 123, 실수 = 1.230000\n",
      "정수 = 123, 실수 = 1.2300\n",
      "정수 = 123, 실수 = 1.23\n",
      "정수 = 123, 실수 = 1.23\n"
     ]
    }
   ],
   "source": [
    "print('정수 = ', a, '실수 = ', 'b')\n",
    "print('정수 = %d, 실수 = %f'%(a, b))  # d는 정수, f는 실수\n",
    "print('정수 = %d, 실수 = %.4f'%(a, b))  # 소수점 네자리까지 출력\n",
    "print('정수 = {}, 실수 = {}'.format(a, b))\n",
    "print(f'정수 = {a}, 실수 = {b}')"
   ]
  },
  {
   "cell_type": "code",
   "execution_count": 79,
   "metadata": {},
   "outputs": [
    {
     "name": "stdout",
     "output_type": "stream",
     "text": [
      "정수: 123, 실수: 123.000000, 문자열: 123\n",
      "정수: 1, 실수: 1.230000, 문자열: 1.23\n",
      "정수: 123, 실수: 1.230000, 문자열: 123\n"
     ]
    }
   ],
   "source": [
    "a = 123\n",
    "b = 1.23\n",
    "c = '123'\n",
    "\n",
    "print('정수: %d, 실수: %f, 문자열: %s'%(a, a, a))\n",
    "print('정수: %d, 실수: %f, 문자열: %s'%(b, b, b))\n",
    "# print('정수: %d, 실수: %f, 문자열: %s'%(c, c, c))  # 문자열을 정수나 실수로 바꾸어 출력할 수는 없음\n",
    "print('정수: %d, 실수: %f, 문자열: %s'%(a, b, c))"
   ]
  },
  {
   "cell_type": "code",
   "execution_count": 84,
   "metadata": {},
   "outputs": [
    {
     "name": "stdout",
     "output_type": "stream",
     "text": [
      "12\"3\"'4'\n",
      "a+b\n",
      "<class 'str'>\n"
     ]
    }
   ],
   "source": [
    "a = '1'\n",
    "b = \"2\"\n",
    "c = '\"3\"'\n",
    "d = \"'4'\"\n",
    "\n",
    "print(a+b+c+d)\n",
    "print('a+b')  # 수식이 아닌 문자열로 인식\n",
    "print(type('a+b'))"
   ]
  },
  {
   "cell_type": "code",
   "execution_count": 88,
   "metadata": {},
   "outputs": [
    {
     "name": "stdout",
     "output_type": "stream",
     "text": [
      "pythonverypower\n",
      "python very power\n",
      "python very power\n"
     ]
    }
   ],
   "source": [
    "VarPos1='python'\n",
    "VarPos2='very'\n",
    "VarPos3='power'\n",
    "\n",
    "print(VarPos1+VarPos2+VarPos3)\n",
    "print(VarPos1+' '+VarPos2+' '+VarPos3)\n",
    "\n",
    "s = ' '\n",
    "print(VarPos1+s+VarPos2+s+VarPos3)"
   ]
  },
  {
   "cell_type": "code",
   "execution_count": 89,
   "metadata": {},
   "outputs": [
    {
     "name": "stdout",
     "output_type": "stream",
     "text": [
      "python very powerful\n"
     ]
    }
   ],
   "source": [
    "tmp = VarPos1+s+VarPos2+s+VarPos3+'ful'\n",
    "print(tmp)"
   ]
  },
  {
   "cell_type": "code",
   "execution_count": 91,
   "metadata": {},
   "outputs": [
    {
     "data": {
      "text/plain": [
       "20"
      ]
     },
     "execution_count": 91,
     "metadata": {},
     "output_type": "execute_result"
    }
   ],
   "source": [
    "len(tmp)  # 스페이스를 포함한 데이터의 길이"
   ]
  },
  {
   "cell_type": "code",
   "execution_count": 93,
   "metadata": {},
   "outputs": [
    {
     "name": "stdout",
     "output_type": "stream",
     "text": [
      "p\n"
     ]
    }
   ],
   "source": [
    "print(tmp[0])"
   ]
  },
  {
   "cell_type": "code",
   "execution_count": 96,
   "metadata": {},
   "outputs": [
    {
     "name": "stdout",
     "output_type": "stream",
     "text": [
      "p y t h o n   v e r y   p o w e r f u l "
     ]
    }
   ],
   "source": [
    "for s in tmp:\n",
    "    print(s, end=' ')"
   ]
  },
  {
   "cell_type": "code",
   "execution_count": 97,
   "metadata": {},
   "outputs": [
    {
     "name": "stdout",
     "output_type": "stream",
     "text": [
      "python\n"
     ]
    }
   ],
   "source": [
    "print(tmp[:6])"
   ]
  },
  {
   "cell_type": "code",
   "execution_count": 107,
   "metadata": {},
   "outputs": [
    {
     "name": "stdout",
     "output_type": "stream",
     "text": [
      "lufrewop\n"
     ]
    }
   ],
   "source": [
    "print(tmp[-1:-9:-1])  # 끝에 -1을 붙여주면 역으로 출력"
   ]
  },
  {
   "cell_type": "code",
   "execution_count": 116,
   "metadata": {},
   "outputs": [
    {
     "name": "stdout",
     "output_type": "stream",
     "text": [
      "python very powerful\n",
      "pto eypwru\n"
     ]
    }
   ],
   "source": [
    "print(tmp[::1])   # 1칸씩 출력\n",
    "print(tmp[::2])   # 2칸씩 출력"
   ]
  },
  {
   "cell_type": "code",
   "execution_count": 117,
   "metadata": {},
   "outputs": [
    {
     "name": "stdout",
     "output_type": "stream",
     "text": [
      "python very powerful\n"
     ]
    }
   ],
   "source": [
    "print(tmp[:len(tmp)])"
   ]
  },
  {
   "cell_type": "code",
   "execution_count": 119,
   "metadata": {},
   "outputs": [
    {
     "data": {
      "text/plain": [
       "20"
      ]
     },
     "execution_count": 119,
     "metadata": {},
     "output_type": "execute_result"
    }
   ],
   "source": [
    "len(tmp)"
   ]
  },
  {
   "cell_type": "code",
   "execution_count": 120,
   "metadata": {},
   "outputs": [
    {
     "name": "stdout",
     "output_type": "stream",
     "text": [
      "python very powerful\n"
     ]
    }
   ],
   "source": [
    "print(tmp[:20])"
   ]
  },
  {
   "cell_type": "markdown",
   "metadata": {},
   "source": [
    "# for문 실습"
   ]
  },
  {
   "cell_type": "code",
   "execution_count": 126,
   "metadata": {},
   "outputs": [
    {
     "name": "stdout",
     "output_type": "stream",
     "text": [
      "★ ★ ★ ★ ★ ★ ★ ★ ★ ★ ★ ★ ★ ★ ★ ★ ★ ★ ★ ★ ★ ★ ★ ★ ★ ★ ★ ★ ★ ★ ★ ★ ★ ★ ★ ★ ★ ★ ★ ★ ★ ★ ★ ★ ★ ★ ★ ★ ★ ★ \n"
     ]
    }
   ],
   "source": [
    "var = '★'\n",
    "tmp2 = ''\n",
    "cnt = 50\n",
    "\n",
    "for i in range(cnt):\n",
    "    tmp2 = tmp2 + var + ' '\n",
    "\n",
    "print(tmp2)"
   ]
  },
  {
   "cell_type": "code",
   "execution_count": 144,
   "metadata": {},
   "outputs": [
    {
     "name": "stdout",
     "output_type": "stream",
     "text": [
      "★ ★ ★ ★ ★ ★ ★ ★ ★ ★ ★ ★ ★ ★ ★ ★ ★ ★ ★ ★ ★ ★ ★ ★ ★ ★ ★ ★ ★ ★ ★ ★ ★ ★ ★ ★ ★ ★ ★ ★ ★ ★ ★ ★ ★ ★ ★ ★ ★ ★\n"
     ]
    }
   ],
   "source": [
    "var = '★'\n",
    "tmp2 = ''\n",
    "cnt = 50\n",
    "\n",
    "for i in range(cnt):\n",
    "    if i != 49:\n",
    "        tmp2 = tmp2 + var + ' '\n",
    "    else:\n",
    "        tmp2 = tmp2 + var\n",
    "\n",
    "print(tmp2)"
   ]
  },
  {
   "cell_type": "code",
   "execution_count": 145,
   "metadata": {},
   "outputs": [
    {
     "name": "stdout",
     "output_type": "stream",
     "text": [
      "with space\n",
      "with space\n",
      "with space\n",
      "with space\n",
      "with space\n",
      "with space\n",
      "with space\n",
      "with space\n",
      "with space\n",
      "without space\n"
     ]
    }
   ],
   "source": [
    "cnt = 10\n",
    "\n",
    "for i in range(cnt):\n",
    "    if i != 9:\n",
    "        print('with space')\n",
    "    else:\n",
    "        print('without space')"
   ]
  },
  {
   "cell_type": "code",
   "execution_count": 133,
   "metadata": {},
   "outputs": [
    {
     "data": {
      "text/plain": [
       "0"
      ]
     },
     "execution_count": 133,
     "metadata": {},
     "output_type": "execute_result"
    }
   ],
   "source": [
    "tmp.index('p')  # 첫번째 p 위치"
   ]
  },
  {
   "cell_type": "code",
   "execution_count": 134,
   "metadata": {},
   "outputs": [
    {
     "data": {
      "text/plain": [
       "12"
      ]
     },
     "execution_count": 134,
     "metadata": {},
     "output_type": "execute_result"
    }
   ],
   "source": [
    "tmp.index('p',1)  # 두번째 p 위치"
   ]
  },
  {
   "cell_type": "code",
   "execution_count": 138,
   "metadata": {},
   "outputs": [
    {
     "data": {
      "text/plain": [
       "12"
      ]
     },
     "execution_count": 138,
     "metadata": {},
     "output_type": "execute_result"
    }
   ],
   "source": [
    "tmp.index('p',2)  # 세번째 p 위치 (두번째와 동일하다는 것은 p만 존재한다는 것)"
   ]
  },
  {
   "cell_type": "markdown",
   "metadata": {},
   "source": [
    "# 리스트 구조\n",
    "- 변수명 = [요소, 요소, ...]\n",
    "- 복합 데이터 유형으로 다양한 자료형의 데이터가 들어갈 수 있음"
   ]
  },
  {
   "cell_type": "code",
   "execution_count": 148,
   "metadata": {},
   "outputs": [
    {
     "name": "stdout",
     "output_type": "stream",
     "text": [
      "<class 'list'>\n",
      "<class 'list'>\n"
     ]
    }
   ],
   "source": [
    "lst = []\n",
    "lst2 = list()\n",
    "\n",
    "print(type(lst))\n",
    "print(type(lst2))"
   ]
  },
  {
   "cell_type": "code",
   "execution_count": 183,
   "metadata": {},
   "outputs": [
    {
     "name": "stdout",
     "output_type": "stream",
     "text": [
      "<class 'list'>\n",
      "5\n",
      "<class 'list'>\n",
      "3\n"
     ]
    }
   ],
   "source": [
    "lst1 = [10, 20, '파이썬', '한경닫컴', [100, 200, 300]]\n",
    "lst2 = [150, 250, 300]\n",
    "\n",
    "print(type(lst1))\n",
    "print(len(lst1))\n",
    "print(type(lst2))\n",
    "print(len(lst2))"
   ]
  },
  {
   "cell_type": "code",
   "execution_count": 159,
   "metadata": {},
   "outputs": [
    {
     "name": "stdout",
     "output_type": "stream",
     "text": [
      "[10, 20, '파이썬', '한경닫컴', [100, 200, 300]]\n"
     ]
    }
   ],
   "source": [
    "print(lst1)   # 대괄호는 리스트 데이터"
   ]
  },
  {
   "cell_type": "code",
   "execution_count": 157,
   "metadata": {},
   "outputs": [
    {
     "name": "stdout",
     "output_type": "stream",
     "text": [
      "10\n",
      "[100, 200, 300]\n"
     ]
    }
   ],
   "source": [
    "print(lst1[0])\n",
    "print(lst1[-1])"
   ]
  },
  {
   "cell_type": "code",
   "execution_count": 174,
   "metadata": {},
   "outputs": [
    {
     "name": "stdout",
     "output_type": "stream",
     "text": [
      "10\n",
      "파이썬\n",
      "['파이썬', '한경닫컴']\n",
      "[100, 200, 300]\n",
      "['한경닫컴', [100, 200, 300]]\n",
      "[100, 200]\n",
      "300\n",
      "한경\n"
     ]
    }
   ],
   "source": [
    "print(lst1[0])\n",
    "print(lst1[2])\n",
    "print(lst1[2:4])\n",
    "print(lst1[-1])\n",
    "print(lst1[3:5])\n",
    "print(lst1[4][:2])\n",
    "print(lst1[-1][-1])\n",
    "print(lst1[3][:2])"
   ]
  },
  {
   "cell_type": "markdown",
   "metadata": {},
   "source": [
    "# 요소값 편집"
   ]
  },
  {
   "cell_type": "code",
   "execution_count": 186,
   "metadata": {},
   "outputs": [
    {
     "name": "stdout",
     "output_type": "stream",
     "text": [
      "[10, 20, '파이썬', '한경닫컴', [100, 200, 300]]\n"
     ]
    }
   ],
   "source": [
    "print(lst1)"
   ]
  },
  {
   "cell_type": "code",
   "execution_count": 187,
   "metadata": {},
   "outputs": [
    {
     "name": "stdout",
     "output_type": "stream",
     "text": [
      "[10, 20, '파이썬', '한경닫컴', [100, 200, 400]]\n"
     ]
    }
   ],
   "source": [
    "lst1[-1][-1] = 400\n",
    "print(lst1)"
   ]
  },
  {
   "cell_type": "code",
   "execution_count": 188,
   "metadata": {},
   "outputs": [
    {
     "name": "stdout",
     "output_type": "stream",
     "text": [
      "[10, 30, '파이썬', '한경닫컴', [100, 200, 400]]\n"
     ]
    }
   ],
   "source": [
    "lst1[1] = 30\n",
    "print(lst1)"
   ]
  },
  {
   "cell_type": "markdown",
   "metadata": {},
   "source": [
    "- 문자열의 일부만 리스트의 요소처럼 변경하는 것은 불가능함"
   ]
  },
  {
   "cell_type": "code",
   "execution_count": 195,
   "metadata": {},
   "outputs": [
    {
     "ename": "TypeError",
     "evalue": "'str' object does not support item assignment",
     "output_type": "error",
     "traceback": [
      "\u001b[0;31m---------------------------------------------------------------------------\u001b[0m",
      "\u001b[0;31mTypeError\u001b[0m                                 Traceback (most recent call last)",
      "\u001b[0;32m<ipython-input-195-9c2160672801>\u001b[0m in \u001b[0;36m<module>\u001b[0;34m\u001b[0m\n\u001b[0;32m----> 1\u001b[0;31m \u001b[0mlst1\u001b[0m\u001b[0;34m[\u001b[0m\u001b[0;36m3\u001b[0m\u001b[0;34m]\u001b[0m\u001b[0;34m[\u001b[0m\u001b[0;36m2\u001b[0m\u001b[0;34m]\u001b[0m \u001b[0;34m=\u001b[0m \u001b[0;34m'닷'\u001b[0m\u001b[0;34m\u001b[0m\u001b[0;34m\u001b[0m\u001b[0m\n\u001b[0m\u001b[1;32m      2\u001b[0m \u001b[0mlst1\u001b[0m\u001b[0;34m\u001b[0m\u001b[0;34m\u001b[0m\u001b[0m\n",
      "\u001b[0;31mTypeError\u001b[0m: 'str' object does not support item assignment"
     ]
    }
   ],
   "source": [
    "lst1[3][2] = '닷'\n",
    "lst1"
   ]
  },
  {
   "cell_type": "code",
   "execution_count": 198,
   "metadata": {},
   "outputs": [
    {
     "data": {
      "text/plain": [
       "[10, 30, '파이썬', '한경닷컴', [100, 200, 400]]"
      ]
     },
     "execution_count": 198,
     "metadata": {},
     "output_type": "execute_result"
    }
   ],
   "source": [
    "lst1[3] = '한경닷컴'\n",
    "lst1"
   ]
  },
  {
   "cell_type": "code",
   "execution_count": 206,
   "metadata": {},
   "outputs": [
    {
     "name": "stdout",
     "output_type": "stream",
     "text": [
      "한경닷컴\n",
      "한경닷컴\n"
     ]
    }
   ],
   "source": [
    "tmp = '한경닫컴'\n",
    "print(tmp.replace('닫', '닷'))\n",
    "\n",
    "tmp = tmp.replace('닫', '닷')\n",
    "print(tmp)"
   ]
  },
  {
   "cell_type": "code",
   "execution_count": 209,
   "metadata": {},
   "outputs": [
    {
     "name": "stdout",
     "output_type": "stream",
     "text": [
      "[10, 30, '파이썬', '한경닷컴', [100, 200, 400]]\n",
      "[150, 250, 300]\n",
      "[10, 30, '파이썬', '한경닷컴', [100, 200, 400], 150, 250, 300]\n",
      "[10, 30, '파이썬', '한경닷컴', [100, 200, 400]]\n",
      "[150, 250, 300]\n"
     ]
    }
   ],
   "source": [
    "print(lst1)\n",
    "print(lst2)\n",
    "print(lst1 + lst2)\n",
    "\n",
    "print(lst1)\n",
    "print(lst2)"
   ]
  },
  {
   "cell_type": "code",
   "execution_count": 211,
   "metadata": {},
   "outputs": [
    {
     "ename": "ValueError",
     "evalue": "200 is not in list",
     "output_type": "error",
     "traceback": [
      "\u001b[0;31m---------------------------------------------------------------------------\u001b[0m",
      "\u001b[0;31mValueError\u001b[0m                                Traceback (most recent call last)",
      "\u001b[0;32m<ipython-input-211-d1d158326065>\u001b[0m in \u001b[0;36m<module>\u001b[0;34m\u001b[0m\n\u001b[0;32m----> 1\u001b[0;31m \u001b[0mlst1\u001b[0m\u001b[0;34m.\u001b[0m\u001b[0mindex\u001b[0m\u001b[0;34m(\u001b[0m\u001b[0;36m200\u001b[0m\u001b[0;34m)\u001b[0m\u001b[0;34m\u001b[0m\u001b[0;34m\u001b[0m\u001b[0m\n\u001b[0m",
      "\u001b[0;31mValueError\u001b[0m: 200 is not in list"
     ]
    }
   ],
   "source": [
    "lst1.index(200)"
   ]
  },
  {
   "cell_type": "code",
   "execution_count": 214,
   "metadata": {},
   "outputs": [
    {
     "name": "stdout",
     "output_type": "stream",
     "text": [
      "False\n"
     ]
    }
   ],
   "source": [
    "print(200 in lst1)"
   ]
  },
  {
   "cell_type": "code",
   "execution_count": 217,
   "metadata": {},
   "outputs": [
    {
     "name": "stdout",
     "output_type": "stream",
     "text": [
      "False\n",
      "True\n",
      "True\n"
     ]
    }
   ],
   "source": [
    "print('150' in lst2)   # a in b:  a값이 b에 있으며 True, 없으면 False\n",
    "print(150 in lst2)\n",
    "print(int('150') in lst2)"
   ]
  },
  {
   "cell_type": "code",
   "execution_count": 219,
   "metadata": {},
   "outputs": [],
   "source": [
    "lst1.append('박도준')"
   ]
  },
  {
   "cell_type": "code",
   "execution_count": 220,
   "metadata": {},
   "outputs": [
    {
     "data": {
      "text/plain": [
       "[10, 30, '파이썬', '한경닷컴', [100, 200, 400], '박도준']"
      ]
     },
     "execution_count": 220,
     "metadata": {},
     "output_type": "execute_result"
    }
   ],
   "source": [
    "lst1"
   ]
  },
  {
   "cell_type": "code",
   "execution_count": 221,
   "metadata": {},
   "outputs": [
    {
     "data": {
      "text/plain": [
       "[10, 30, '파이썬', 150, '한경닷컴', [100, 200, 400], '박도준']"
      ]
     },
     "execution_count": 221,
     "metadata": {},
     "output_type": "execute_result"
    }
   ],
   "source": [
    "lst1.insert(3, 150)\n",
    "lst1"
   ]
  },
  {
   "cell_type": "code",
   "execution_count": 222,
   "metadata": {},
   "outputs": [
    {
     "data": {
      "text/plain": [
       "[10, 30, '파이썬', 150, '한경닷컴', [100, 200, 400], '박도준', [11, 22, 33]]"
      ]
     },
     "execution_count": 222,
     "metadata": {},
     "output_type": "execute_result"
    }
   ],
   "source": [
    "lst1.append([11, 22, 33])\n",
    "lst1"
   ]
  },
  {
   "cell_type": "code",
   "execution_count": 223,
   "metadata": {},
   "outputs": [
    {
     "name": "stdout",
     "output_type": "stream",
     "text": [
      "[10, 30, '파이썬', 150, '한경닷컴', [100, 200, 400], '박도준', [11, 22, 33], 11, 22, 33]\n"
     ]
    }
   ],
   "source": [
    "tmp = [11, 22, 33]\n",
    "for t in tmp:\n",
    "    lst1.append(t)\n",
    "print(lst1)    "
   ]
  },
  {
   "cell_type": "code",
   "execution_count": 229,
   "metadata": {},
   "outputs": [
    {
     "data": {
      "text/plain": [
       "[150, 250, 300]"
      ]
     },
     "execution_count": 229,
     "metadata": {},
     "output_type": "execute_result"
    }
   ],
   "source": [
    "lst2 = [150, 250, 300]\n",
    "lst2"
   ]
  },
  {
   "cell_type": "code",
   "execution_count": 230,
   "metadata": {},
   "outputs": [
    {
     "ename": "NameError",
     "evalue": "name 'lst2' is not defined",
     "output_type": "error",
     "traceback": [
      "\u001b[0;31m---------------------------------------------------------------------------\u001b[0m",
      "\u001b[0;31mNameError\u001b[0m                                 Traceback (most recent call last)",
      "\u001b[0;32m<ipython-input-230-95e83ecd90c2>\u001b[0m in \u001b[0;36m<module>\u001b[0;34m\u001b[0m\n\u001b[1;32m      1\u001b[0m \u001b[0;32mdel\u001b[0m \u001b[0mlst2\u001b[0m    \u001b[0;31m# 저장 메모리에서 해당 변수(객체)를 삭제\u001b[0m\u001b[0;34m\u001b[0m\u001b[0;34m\u001b[0m\u001b[0m\n\u001b[0;32m----> 2\u001b[0;31m \u001b[0mprint\u001b[0m\u001b[0;34m(\u001b[0m\u001b[0mlst2\u001b[0m\u001b[0;34m)\u001b[0m\u001b[0;34m\u001b[0m\u001b[0;34m\u001b[0m\u001b[0m\n\u001b[0m",
      "\u001b[0;31mNameError\u001b[0m: name 'lst2' is not defined"
     ]
    }
   ],
   "source": [
    "del lst2    # 저장 메모리에서 해당 변수(객체)를 삭제\n",
    "print(lst2)"
   ]
  },
  {
   "cell_type": "code",
   "execution_count": 231,
   "metadata": {},
   "outputs": [
    {
     "name": "stdout",
     "output_type": "stream",
     "text": [
      "[10, 30, '파이썬', 150, '한경닷컴', [100, 200, 400], '박도준', [11, 22, 33], 11, 22, 33]\n",
      "[10, 30, '파이썬', '한경닷컴', [100, 200, 400], '박도준', [11, 22, 33], 11, 22, 33]\n"
     ]
    }
   ],
   "source": [
    "print(lst1)\n",
    "lst1.pop(3)\n",
    "\n",
    "print(lst1)"
   ]
  },
  {
   "cell_type": "code",
   "execution_count": 232,
   "metadata": {},
   "outputs": [
    {
     "data": {
      "text/plain": [
       "[10, '파이썬', '한경닷컴', [100, 200, 400], '박도준', [11, 22, 33], 11, 22, 33]"
      ]
     },
     "execution_count": 232,
     "metadata": {},
     "output_type": "execute_result"
    }
   ],
   "source": [
    "lst1.remove(30)\n",
    "lst1"
   ]
  },
  {
   "cell_type": "code",
   "execution_count": 234,
   "metadata": {},
   "outputs": [
    {
     "data": {
      "text/plain": [
       "[10, '파이썬', '한경닷컴', [100, 200, 400], '박도준', [11, 22, 33], 11, 22, 33, 11, 11]"
      ]
     },
     "execution_count": 234,
     "metadata": {},
     "output_type": "execute_result"
    }
   ],
   "source": [
    "lst1.append(11)\n",
    "lst1"
   ]
  },
  {
   "cell_type": "code",
   "execution_count": 235,
   "metadata": {},
   "outputs": [
    {
     "data": {
      "text/plain": [
       "[10, '파이썬', '한경닷컴', [100, 200, 400], '박도준', [11, 22, 33], 22, 33, 11, 11]"
      ]
     },
     "execution_count": 235,
     "metadata": {},
     "output_type": "execute_result"
    }
   ],
   "source": [
    "lst1.remove(11)   # 첫번째 요소만 찾아서 삭제\n",
    "lst1"
   ]
  },
  {
   "cell_type": "code",
   "execution_count": 236,
   "metadata": {},
   "outputs": [
    {
     "data": {
      "text/plain": [
       "[10, '파이썬', '한경닷컴', [100, 400], '박도준', [11, 22, 33], 22, 33, 11, 11]"
      ]
     },
     "execution_count": 236,
     "metadata": {},
     "output_type": "execute_result"
    }
   ],
   "source": [
    "lst1[3].remove(200)\n",
    "lst1"
   ]
  },
  {
   "cell_type": "code",
   "execution_count": 237,
   "metadata": {},
   "outputs": [
    {
     "data": {
      "text/plain": [
       "[10, '파이썬', '한경닷컴', '박도준', [11, 22, 33], 22, 33, 11, 11]"
      ]
     },
     "execution_count": 237,
     "metadata": {},
     "output_type": "execute_result"
    }
   ],
   "source": [
    "del lst1[3]    # lst1.pop(3)과 동일\n",
    "lst1"
   ]
  },
  {
   "cell_type": "markdown",
   "metadata": {},
   "source": [
    "# 리스트 정렬"
   ]
  },
  {
   "cell_type": "code",
   "execution_count": 238,
   "metadata": {},
   "outputs": [
    {
     "data": {
      "text/plain": [
       "[1, 3, 10, 5, 7, 6]"
      ]
     },
     "execution_count": 238,
     "metadata": {},
     "output_type": "execute_result"
    }
   ],
   "source": [
    "lst1 = [1, 3, 10, 5, 7, 6]\n",
    "lst1"
   ]
  },
  {
   "cell_type": "code",
   "execution_count": 239,
   "metadata": {},
   "outputs": [
    {
     "data": {
      "text/plain": [
       "[6, 7, 5, 10, 3, 1]"
      ]
     },
     "execution_count": 239,
     "metadata": {},
     "output_type": "execute_result"
    }
   ],
   "source": [
    "lst1.reverse()   # 리스트의 요소를 거꾸로 뒤집음\n",
    "lst1"
   ]
  },
  {
   "cell_type": "code",
   "execution_count": 240,
   "metadata": {},
   "outputs": [
    {
     "data": {
      "text/plain": [
       "[1, 3, 5, 6, 7, 10]"
      ]
     },
     "execution_count": 240,
     "metadata": {},
     "output_type": "execute_result"
    }
   ],
   "source": [
    "lst1.sort()   # 리스트 데이터를 오름차순 정렬\n",
    "lst1"
   ]
  },
  {
   "cell_type": "code",
   "execution_count": 241,
   "metadata": {},
   "outputs": [
    {
     "data": {
      "text/plain": [
       "[10, 7, 6, 5, 3, 1]"
      ]
     },
     "execution_count": 241,
     "metadata": {},
     "output_type": "execute_result"
    }
   ],
   "source": [
    "lst1.sort(reverse=True)   # 리스트 내림차순 정렬\n",
    "lst1"
   ]
  },
  {
   "cell_type": "markdown",
   "metadata": {},
   "source": [
    "# 리스트 데이터 추가 및 출력"
   ]
  },
  {
   "cell_type": "code",
   "execution_count": 251,
   "metadata": {},
   "outputs": [],
   "source": [
    "favoriteFoods = []"
   ]
  },
  {
   "cell_type": "code",
   "execution_count": 257,
   "metadata": {},
   "outputs": [
    {
     "name": "stdout",
     "output_type": "stream",
     "text": [
      "좋아하는 음식? :1\n",
      "좋아하는 음식? :2\n",
      "좋아하는 음식? :3\n",
      "좋아하는 음식? :4\n",
      "좋아하는 음식? :5\n",
      "좋아하는 음식? :6\n",
      "좋아하는 음식? :\n",
      "좋아하는 음식? :8\n",
      "좋아하는 음식? :9\n",
      "좋아하는 음식? :10\n",
      "['치킨', '짜장면', '콜라', '떡볶이', '스시', '회', '쌀국수', '보쌈', '칼국수', '국밥', '1', '2', '3', '4', '5', '6', '', '8', '9', '10']\n"
     ]
    }
   ],
   "source": [
    "for i in range(10):\n",
    "    food = input('좋아하는 음식? :')  # 사용자로부터 데이터를 입력받을 때 사용하는 함수 (입력 데이터는 모두 문자형 데이터)\n",
    "    favoriteFoods.append(food)\n",
    "\n",
    "print(favoriteFoods)"
   ]
  },
  {
   "cell_type": "code",
   "execution_count": 264,
   "metadata": {},
   "outputs": [
    {
     "data": {
      "text/plain": [
       "15"
      ]
     },
     "execution_count": 264,
     "metadata": {},
     "output_type": "execute_result"
    }
   ],
   "source": [
    "len(favoriteFoods)"
   ]
  },
  {
   "cell_type": "code",
   "execution_count": 274,
   "metadata": {},
   "outputs": [
    {
     "data": {
      "text/plain": [
       "['치킨', '짜장면', '콜라', '떡볶이', '스시', '회', '쌀국수', '보쌈', '칼국수', '국밥']"
      ]
     },
     "execution_count": 274,
     "metadata": {},
     "output_type": "execute_result"
    }
   ],
   "source": [
    "favoriteFoods"
   ]
  },
  {
   "cell_type": "code",
   "execution_count": 272,
   "metadata": {},
   "outputs": [
    {
     "data": {
      "text/plain": [
       "'10'"
      ]
     },
     "execution_count": 272,
     "metadata": {},
     "output_type": "execute_result"
    }
   ],
   "source": [
    "favoriteFoods.pop(10)"
   ]
  },
  {
   "cell_type": "code",
   "execution_count": 273,
   "metadata": {},
   "outputs": [
    {
     "data": {
      "text/plain": [
       "['치킨', '짜장면', '콜라', '떡볶이', '스시', '회', '쌀국수', '보쌈', '칼국수', '국밥']"
      ]
     },
     "execution_count": 273,
     "metadata": {},
     "output_type": "execute_result"
    }
   ],
   "source": [
    "favoriteFoods"
   ]
  },
  {
   "cell_type": "code",
   "execution_count": 276,
   "metadata": {},
   "outputs": [
    {
     "name": "stdout",
     "output_type": "stream",
     "text": [
      "좋아하는 동물은? 강아지\n",
      "좋아하는 동물은? 고양이\n",
      "좋아하는 동물은? 호랑이\n",
      "좋아하는 동물은? 곰\n",
      "좋아하는 동물은? 늑대\n",
      "좋아하는 동물은? 사자\n",
      "좋아하는 동물은? 백조\n",
      "좋아하는 동물은? 거북이\n",
      "좋아하는 동물은? 참새\n",
      "좋아하는 동물은? 붕어\n"
     ]
    },
    {
     "data": {
      "text/plain": [
       "['강아지', '고양이', '호랑이', '곰', '늑대', '사자', '백조', '거북이', '참새', '붕어']"
      ]
     },
     "execution_count": 276,
     "metadata": {},
     "output_type": "execute_result"
    }
   ],
   "source": [
    "foods = []\n",
    "\n",
    "for i in range(10):\n",
    "    food = input('좋아하는 동물은? ')\n",
    "    foods.append(food)\n",
    "\n",
    "foods"
   ]
  },
  {
   "cell_type": "code",
   "execution_count": 280,
   "metadata": {},
   "outputs": [
    {
     "name": "stdout",
     "output_type": "stream",
     "text": [
      "좋아하는 동물은?강아지\n",
      "동물의 크기는?5\n",
      "좋아하는 동물은?고양이\n",
      "동물의 크기는?3\n",
      "좋아하는 동물은?거북이\n",
      "동물의 크기는?1\n"
     ]
    },
    {
     "data": {
      "text/plain": [
       "[['강아지', '5'], ['고양이', '3'], ['거북이', '1']]"
      ]
     },
     "execution_count": 280,
     "metadata": {},
     "output_type": "execute_result"
    }
   ],
   "source": [
    "# 좋아하는 동물의 종류와 크기를 입력받아서 나열하기\n",
    "\n",
    "animals = list()\n",
    "for i in range(3):\n",
    "    a = input('좋아하는 동물은?')\n",
    "    b = input('동물의 크기는?')\n",
    "    animals.append([a, b])\n",
    "\n",
    "animals"
   ]
  },
  {
   "cell_type": "code",
   "execution_count": 283,
   "metadata": {},
   "outputs": [
    {
     "data": {
      "text/plain": [
       "'5'"
      ]
     },
     "execution_count": 283,
     "metadata": {},
     "output_type": "execute_result"
    }
   ],
   "source": [
    "animals[0][1]"
   ]
  },
  {
   "cell_type": "code",
   "execution_count": 295,
   "metadata": {},
   "outputs": [
    {
     "name": "stdout",
     "output_type": "stream",
     "text": [
      "좋아하는 동물은?강아지\n",
      "동물의 크기는?5\n",
      "좋아하는 동물은?고양이\n",
      "동물의 크기는?3\n",
      "좋아하는 동물은?거북이\n",
      "동물의 크기는?1\n",
      "[('강아지', '5'), ('고양이', '3'), ('거북이', '1')]\n",
      "{'강아지': 5, '고양이': 3, '거북이': 1}\n"
     ]
    }
   ],
   "source": [
    "tmp = []\n",
    "\n",
    "for i in range(3):\n",
    "    a = input('좋아하는 동물은?')\n",
    "    b = input('동물의 크기는?')\n",
    "    tmp.append((a, b))\n",
    "\n",
    "animals = {k: int(v) for k, v in tmp}\n",
    "\n",
    "print(tmp)\n",
    "print(animals)"
   ]
  },
  {
   "cell_type": "code",
   "execution_count": 297,
   "metadata": {},
   "outputs": [
    {
     "data": {
      "text/plain": [
       "[('강아지', '5'), ('고양이', '3'), ('거북이', '1')]"
      ]
     },
     "metadata": {},
     "output_type": "display_data"
    },
    {
     "name": "stdout",
     "output_type": "stream",
     "text": [
      "[('강아지', '5'), ('고양이', '3'), ('거북이', '1')]\n"
     ]
    }
   ],
   "source": [
    "display(tmp)\n",
    "print(tmp)"
   ]
  },
  {
   "cell_type": "markdown",
   "metadata": {},
   "source": [
    "# 딕셔너리"
   ]
  },
  {
   "cell_type": "code",
   "execution_count": 301,
   "metadata": {},
   "outputs": [],
   "source": [
    "dic2 = {'이름' : ['홍길동', '이순신', '박도준'],\n",
    "        '나이' : [33, 55, 48],\n",
    "        '성별' : ['남', '여', '남']}"
   ]
  },
  {
   "cell_type": "code",
   "execution_count": 302,
   "metadata": {},
   "outputs": [
    {
     "data": {
      "text/plain": [
       "{'이름': ['홍길동', '이순신', '박도준'], '나이': [33, 55, 48], '성별': ['남', '여', '남']}"
      ]
     },
     "execution_count": 302,
     "metadata": {},
     "output_type": "execute_result"
    }
   ],
   "source": [
    "dic2"
   ]
  },
  {
   "cell_type": "code",
   "execution_count": 303,
   "metadata": {},
   "outputs": [
    {
     "name": "stdout",
     "output_type": "stream",
     "text": [
      "dict_keys(['이름', '나이', '성별'])\n",
      "dict_values([['홍길동', '이순신', '박도준'], [33, 55, 48], ['남', '여', '남']])\n"
     ]
    }
   ],
   "source": [
    "print(dic2.keys())\n",
    "print(dic2.values())"
   ]
  },
  {
   "cell_type": "code",
   "execution_count": 311,
   "metadata": {},
   "outputs": [
    {
     "name": "stdout",
     "output_type": "stream",
     "text": [
      "좋아하는 동물은?강아지\n",
      "동물의 크기는?5\n",
      "좋아하는 동물은?고양이\n",
      "동물의 크기는?3\n",
      "좋아하는 동물은?거북이\n",
      "동물의 크기는?1\n",
      "['강아지', '고양이', '거북이']\n",
      "['5', '3', '1']\n",
      "{'동물명': ['강아지', '고양이', '거북이'], '크기': ['5', '3', '1']}\n"
     ]
    }
   ],
   "source": [
    "# 좋아하는 동물의 종류와 크기를 입력받아서 나열하기\n",
    "\n",
    "animals = []\n",
    "size = []\n",
    "for i in range(3):\n",
    "    a = input('좋아하는 동물은?')\n",
    "    b = input('동물의 크기는?')\n",
    "    animals.append(a)\n",
    "    size.append(b)\n",
    "\n",
    "print(animals)\n",
    "print(size)\n",
    "\n",
    "# 딕셔너리 구조로 변경하기\n",
    "dic1 = {'동물명': animals, '크기': size}\n",
    "print(dic1)"
   ]
  },
  {
   "cell_type": "code",
   "execution_count": 312,
   "metadata": {},
   "outputs": [
    {
     "name": "stdout",
     "output_type": "stream",
     "text": [
      "dict_keys(['동물명', '크기'])\n",
      "dict_values([['강아지', '고양이', '거북이'], ['5', '3', '1']])\n"
     ]
    }
   ],
   "source": [
    "print(dic1.keys())\n",
    "print(dic1.values())"
   ]
  },
  {
   "cell_type": "code",
   "execution_count": 313,
   "metadata": {},
   "outputs": [
    {
     "name": "stdout",
     "output_type": "stream",
     "text": [
      "['강아지', '고양이', '거북이']\n",
      "['5', '3', '1']\n"
     ]
    }
   ],
   "source": [
    "print(dic1['동물명'])\n",
    "print(dic1['크기'])"
   ]
  },
  {
   "cell_type": "code",
   "execution_count": 310,
   "metadata": {},
   "outputs": [
    {
     "name": "stdout",
     "output_type": "stream",
     "text": [
      "dict_keys(['강아지', '고양이', '거북이'])\n",
      "dict_values(['5', '3', '1'])\n"
     ]
    }
   ],
   "source": [
    "print(dic1.keys())\n",
    "print(dic1.values())"
   ]
  },
  {
   "cell_type": "code",
   "execution_count": 327,
   "metadata": {},
   "outputs": [
    {
     "name": "stdout",
     "output_type": "stream",
     "text": [
      "{'동물명': ['강아지', '고양이', '거북이'], '크기': ['5', '3', '1']}\n",
      "['강아지', '고양이', '거북이']\n",
      "3\n"
     ]
    }
   ],
   "source": [
    "print(dic1)\n",
    "print(dic1['동물명'])\n",
    "print(len(dic1['동물명']))"
   ]
  },
  {
   "cell_type": "code",
   "execution_count": 328,
   "metadata": {},
   "outputs": [
    {
     "name": "stdout",
     "output_type": "stream",
     "text": [
      "강아지\n",
      "5\n",
      "고양이\n",
      "3\n",
      "거북이\n",
      "1\n"
     ]
    }
   ],
   "source": [
    "for i in range(len(dic1['동물명'])):\n",
    "    print(dic1['동물명'][i])\n",
    "    print(dic1['크기'][i])"
   ]
  },
  {
   "cell_type": "code",
   "execution_count": 332,
   "metadata": {},
   "outputs": [
    {
     "name": "stdout",
     "output_type": "stream",
     "text": [
      "동물명 강아지, 크기 5kg\n",
      "동물명 고양이, 크기 3kg\n",
      "동물명 거북이, 크기 1kg\n",
      "END\n"
     ]
    }
   ],
   "source": [
    "num = 0\n",
    "\n",
    "for i in range(3):\n",
    "    print('동물명 %s, 크기 %skg'%(dic1['동물명'][num], dic1['크기'][num]))\n",
    "    num += 1\n",
    "    \n",
    "print('END')"
   ]
  },
  {
   "cell_type": "code",
   "execution_count": 334,
   "metadata": {},
   "outputs": [
    {
     "name": "stdout",
     "output_type": "stream",
     "text": [
      "동물명 강아지, 크기 5\n",
      "동물명 고양이, 크기 3\n",
      "동물명 거북이, 크기 1\n",
      "END\n"
     ]
    }
   ],
   "source": [
    "num = 0\n",
    "\n",
    "for i in range(3):\n",
    "    print(f\"동물명 {dic1['동물명'][num]}, 크기 {dic1['크기'][num]}\")\n",
    "    num += 1\n",
    "    \n",
    "print('END')"
   ]
  },
  {
   "cell_type": "markdown",
   "metadata": {},
   "source": [
    "# pandas"
   ]
  },
  {
   "cell_type": "code",
   "execution_count": 338,
   "metadata": {},
   "outputs": [],
   "source": [
    "# 모듈 연결\n",
    "\n",
    "import pandas as pd"
   ]
  },
  {
   "cell_type": "code",
   "execution_count": 339,
   "metadata": {},
   "outputs": [
    {
     "data": {
      "text/html": [
       "<div>\n",
       "<style scoped>\n",
       "    .dataframe tbody tr th:only-of-type {\n",
       "        vertical-align: middle;\n",
       "    }\n",
       "\n",
       "    .dataframe tbody tr th {\n",
       "        vertical-align: top;\n",
       "    }\n",
       "\n",
       "    .dataframe thead th {\n",
       "        text-align: right;\n",
       "    }\n",
       "</style>\n",
       "<table border=\"1\" class=\"dataframe\">\n",
       "  <thead>\n",
       "    <tr style=\"text-align: right;\">\n",
       "      <th></th>\n",
       "      <th>동물명</th>\n",
       "      <th>크기</th>\n",
       "    </tr>\n",
       "  </thead>\n",
       "  <tbody>\n",
       "    <tr>\n",
       "      <th>0</th>\n",
       "      <td>강아지</td>\n",
       "      <td>5</td>\n",
       "    </tr>\n",
       "    <tr>\n",
       "      <th>1</th>\n",
       "      <td>고양이</td>\n",
       "      <td>3</td>\n",
       "    </tr>\n",
       "    <tr>\n",
       "      <th>2</th>\n",
       "      <td>거북이</td>\n",
       "      <td>1</td>\n",
       "    </tr>\n",
       "  </tbody>\n",
       "</table>\n",
       "</div>"
      ],
      "text/plain": [
       "   동물명 크기\n",
       "0  강아지  5\n",
       "1  고양이  3\n",
       "2  거북이  1"
      ]
     },
     "execution_count": 339,
     "metadata": {},
     "output_type": "execute_result"
    }
   ],
   "source": [
    "# dictionary to dataframe\n",
    "df1 = pd.DataFrame(dic1)\n",
    "df1"
   ]
  },
  {
   "cell_type": "code",
   "execution_count": 346,
   "metadata": {},
   "outputs": [
    {
     "name": "stdout",
     "output_type": "stream",
     "text": [
      "0    강아지\n",
      "1    고양이\n",
      "2    거북이\n",
      "Name: 동물명, dtype: object\n",
      "\n",
      "동물명    강아지\n",
      "크기       5\n",
      "Name: 0, dtype: object\n"
     ]
    }
   ],
   "source": [
    "print(df1['동물명'], end='\\n\\n')\n",
    "print(df1.iloc[0])"
   ]
  },
  {
   "cell_type": "code",
   "execution_count": 347,
   "metadata": {},
   "outputs": [
    {
     "name": "stdout",
     "output_type": "stream",
     "text": [
      "좋아하는 동물?강아지\n",
      "크기?5\n",
      "좋아하는 동물?고양이\n",
      "크기?3\n",
      "좋아하는 동물?거북이\n",
      "크기?1\n",
      "[['강아지', '5'], ['고양이', '3'], ['거북이', '1']]\n"
     ]
    }
   ],
   "source": [
    "animals = []\n",
    "for i in range(3):\n",
    "    a = input('좋아하는 동물?')\n",
    "    b = input('크기?')\n",
    "    animals.append([a, b])\n",
    "    \n",
    "print(animals)"
   ]
  },
  {
   "cell_type": "code",
   "execution_count": 349,
   "metadata": {},
   "outputs": [
    {
     "data": {
      "text/html": [
       "<div>\n",
       "<style scoped>\n",
       "    .dataframe tbody tr th:only-of-type {\n",
       "        vertical-align: middle;\n",
       "    }\n",
       "\n",
       "    .dataframe tbody tr th {\n",
       "        vertical-align: top;\n",
       "    }\n",
       "\n",
       "    .dataframe thead th {\n",
       "        text-align: right;\n",
       "    }\n",
       "</style>\n",
       "<table border=\"1\" class=\"dataframe\">\n",
       "  <thead>\n",
       "    <tr style=\"text-align: right;\">\n",
       "      <th></th>\n",
       "      <th>동물명</th>\n",
       "      <th>크기</th>\n",
       "    </tr>\n",
       "  </thead>\n",
       "  <tbody>\n",
       "    <tr>\n",
       "      <th>0</th>\n",
       "      <td>강아지</td>\n",
       "      <td>5</td>\n",
       "    </tr>\n",
       "    <tr>\n",
       "      <th>1</th>\n",
       "      <td>고양이</td>\n",
       "      <td>3</td>\n",
       "    </tr>\n",
       "    <tr>\n",
       "      <th>2</th>\n",
       "      <td>거북이</td>\n",
       "      <td>1</td>\n",
       "    </tr>\n",
       "  </tbody>\n",
       "</table>\n",
       "</div>"
      ],
      "text/plain": [
       "   동물명 크기\n",
       "0  강아지  5\n",
       "1  고양이  3\n",
       "2  거북이  1"
      ]
     },
     "execution_count": 349,
     "metadata": {},
     "output_type": "execute_result"
    }
   ],
   "source": [
    "# list to dataframe\n",
    "\n",
    "df2 = pd.DataFrame(animals, columns=['동물명', '크기'])\n",
    "df2"
   ]
  },
  {
   "cell_type": "code",
   "execution_count": 367,
   "metadata": {},
   "outputs": [],
   "source": [
    "# save dataframe as csv\n",
    "\n",
    "df2.to_csv('favorite_animals1.csv', index=False, encoding='euc-kr')\n",
    "df2.to_csv('favorite_animals2.csv', index=False, encoding='utf-8')  # 엑셀에서 열때 한글이 깨짐"
   ]
  },
  {
   "cell_type": "code",
   "execution_count": 368,
   "metadata": {},
   "outputs": [
    {
     "data": {
      "text/html": [
       "<div>\n",
       "<style scoped>\n",
       "    .dataframe tbody tr th:only-of-type {\n",
       "        vertical-align: middle;\n",
       "    }\n",
       "\n",
       "    .dataframe tbody tr th {\n",
       "        vertical-align: top;\n",
       "    }\n",
       "\n",
       "    .dataframe thead th {\n",
       "        text-align: right;\n",
       "    }\n",
       "</style>\n",
       "<table border=\"1\" class=\"dataframe\">\n",
       "  <thead>\n",
       "    <tr style=\"text-align: right;\">\n",
       "      <th></th>\n",
       "      <th>동물명</th>\n",
       "      <th>크기</th>\n",
       "    </tr>\n",
       "  </thead>\n",
       "  <tbody>\n",
       "    <tr>\n",
       "      <th>0</th>\n",
       "      <td>강아지</td>\n",
       "      <td>5</td>\n",
       "    </tr>\n",
       "    <tr>\n",
       "      <th>1</th>\n",
       "      <td>고양이</td>\n",
       "      <td>3</td>\n",
       "    </tr>\n",
       "    <tr>\n",
       "      <th>2</th>\n",
       "      <td>거북이</td>\n",
       "      <td>1</td>\n",
       "    </tr>\n",
       "  </tbody>\n",
       "</table>\n",
       "</div>"
      ],
      "text/plain": [
       "   동물명  크기\n",
       "0  강아지   5\n",
       "1  고양이   3\n",
       "2  거북이   1"
      ]
     },
     "execution_count": 368,
     "metadata": {},
     "output_type": "execute_result"
    }
   ],
   "source": [
    "df3 = pd.read_csv('favorite_animals1.csv', encoding='euc-kr')\n",
    "df3"
   ]
  },
  {
   "cell_type": "code",
   "execution_count": 369,
   "metadata": {},
   "outputs": [
    {
     "data": {
      "text/html": [
       "<div>\n",
       "<style scoped>\n",
       "    .dataframe tbody tr th:only-of-type {\n",
       "        vertical-align: middle;\n",
       "    }\n",
       "\n",
       "    .dataframe tbody tr th {\n",
       "        vertical-align: top;\n",
       "    }\n",
       "\n",
       "    .dataframe thead th {\n",
       "        text-align: right;\n",
       "    }\n",
       "</style>\n",
       "<table border=\"1\" class=\"dataframe\">\n",
       "  <thead>\n",
       "    <tr style=\"text-align: right;\">\n",
       "      <th></th>\n",
       "      <th>동물명</th>\n",
       "      <th>크기</th>\n",
       "    </tr>\n",
       "  </thead>\n",
       "  <tbody>\n",
       "    <tr>\n",
       "      <th>0</th>\n",
       "      <td>강아지</td>\n",
       "      <td>5</td>\n",
       "    </tr>\n",
       "    <tr>\n",
       "      <th>1</th>\n",
       "      <td>고양이</td>\n",
       "      <td>3</td>\n",
       "    </tr>\n",
       "    <tr>\n",
       "      <th>2</th>\n",
       "      <td>거북이</td>\n",
       "      <td>1</td>\n",
       "    </tr>\n",
       "  </tbody>\n",
       "</table>\n",
       "</div>"
      ],
      "text/plain": [
       "   동물명  크기\n",
       "0  강아지   5\n",
       "1  고양이   3\n",
       "2  거북이   1"
      ]
     },
     "execution_count": 369,
     "metadata": {},
     "output_type": "execute_result"
    }
   ],
   "source": [
    "df4 = pd.read_csv('favorite_animals2.csv', encoding='utf-8')  # 실제 파이썬에서 열때는 깨지지 않음\n",
    "df4"
   ]
  }
 ],
 "metadata": {
  "kernelspec": {
   "display_name": "Python 3",
   "language": "python",
   "name": "python3"
  },
  "language_info": {
   "codemirror_mode": {
    "name": "ipython",
    "version": 3
   },
   "file_extension": ".py",
   "mimetype": "text/x-python",
   "name": "python",
   "nbconvert_exporter": "python",
   "pygments_lexer": "ipython3",
   "version": "3.8.5"
  }
 },
 "nbformat": 4,
 "nbformat_minor": 4
}
