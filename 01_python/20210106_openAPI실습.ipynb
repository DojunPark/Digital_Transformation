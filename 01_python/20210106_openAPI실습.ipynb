{
 "cells": [
  {
   "cell_type": "markdown",
   "metadata": {},
   "source": [
    "# 서울시 지하철 호선별 역별 시간대별 승하차 인원 정보\n",
    "- OpenAPI 연결\n",
    "- 2019년 01월 ~ 2020년 12월\n",
    "- pd.DataFrame 형식으로 저장\n",
    "- 년, 월 분리하여 저장"
   ]
  },
  {
   "cell_type": "code",
   "execution_count": 7,
   "metadata": {},
   "outputs": [],
   "source": [
    "import requests\n",
    "from bs4 import BeautifulSoup as bs\n",
    "import pandas as pd"
   ]
  },
  {
   "cell_type": "code",
   "execution_count": 1,
   "metadata": {},
   "outputs": [
    {
     "data": {
      "text/plain": [
       "'/mnt/c/edu'"
      ]
     },
     "execution_count": 1,
     "metadata": {},
     "output_type": "execute_result"
    }
   ],
   "source": [
    "pwd"
   ]
  },
  {
   "cell_type": "code",
   "execution_count": 52,
   "metadata": {},
   "outputs": [],
   "source": [
    "years = range(2019, 2021)\n",
    "months = range(1, 13)"
   ]
  },
  {
   "cell_type": "code",
   "execution_count": 53,
   "metadata": {},
   "outputs": [
    {
     "name": "stdout",
     "output_type": "stream",
     "text": [
      "['201901', '201902', '201903', '201904', '201905', '201906', '201907', '201908', '201909', '201910', '201911', '201912', '202001', '202002', '202003', '202004', '202005', '202006', '202007', '202008', '202009', '202010', '202011', '202012']\n"
     ]
    }
   ],
   "source": [
    "ls_date = []\n",
    "for y in years:\n",
    "    for m in months:\n",
    "        if m < 10:\n",
    "            ls_date.append(str(y) + '0' + str(m))\n",
    "        else:\n",
    "            ls_date.append(str(y) + str(m))\n",
    "print(ls_date)"
   ]
  },
  {
   "cell_type": "code",
   "execution_count": 78,
   "metadata": {},
   "outputs": [],
   "source": [
    "def get_count(date):\n",
    "    \n",
    "    import pandas as pd\n",
    "    import requests\n",
    "    from bs4 import BeautifulSoup as bs\n",
    "    \n",
    "    fdir = '/mnt/c/edu/py_data/openapi/'\n",
    "\n",
    "    with open(fdir + 'subway_time_key.txt') as f:\n",
    "        key = f.read()\n",
    "        \n",
    "    url1 = 'http://openapi.seoul.go.kr:8088/'\n",
    "    url2 = '/xml/CardSubwayTime/1/1000/' + date + '/'\n",
    "    url = url1 + key + url2\n",
    "    \n",
    "    xml = requests.get(url)\n",
    "    soup = bs(xml.content, 'html.parser')\n",
    "    ls_data = soup.find_all('row')\n",
    "    \n",
    "    info = []\n",
    "    for data in ls_data:\n",
    "        line = data.find('line_num').text\n",
    "        sta = data.find('sub_sta_nm').text\n",
    "        four_on = data.find('four_ride_num').text\n",
    "        four_off = data.find('four_alight_num').text\n",
    "        five_on = data.find('five_ride_num').text\n",
    "        five_off = data.find('five_alight_num').text\n",
    "        six_on = data.find('six_ride_num').text\n",
    "        six_off = data.find('six_alight_num').text\n",
    "        seven_on = data.find('seven_ride_num').text\n",
    "        seven_off = data.find('seven_alight_num').text\n",
    "        eight_on = data.find('eight_ride_num').text\n",
    "        eight_off = data.find('eight_alight_num').text\n",
    "        nine_on = data.find('nine_ride_num').text\n",
    "        nine_off = data.find('nine_alight_num').text\n",
    "        ten_on = data.find('ten_ride_num').text\n",
    "        ten_off = data.find('ten_alight_num').text\n",
    "        eleven_on = data.find('eleven_ride_num').text\n",
    "        eleven_off = data.find('eleven_alight_num').text\n",
    "        twelve_on = data.find('twelve_ride_num').text\n",
    "        twelve_off = data.find('twelve_alight_num').text\n",
    "        thirteen_on = data.find('thirteen_ride_num').text\n",
    "        thirteen_off = data.find('thirteen_alight_num').text\n",
    "        fourteen_on = data.find('fourteen_ride_num').text\n",
    "        fourteen_off = data.find('fourteen_alight_num').text\n",
    "        fifteen_on = data.find('fifteen_ride_num').text\n",
    "        fifteen_off = data.find('fifteen_alight_num').text\n",
    "        sixteen_on = data.find('sixteen_ride_num').text\n",
    "        sixteen_off = data.find('sixteen_alight_num').text\n",
    "        seventeen_on = data.find('seventeen_ride_num').text\n",
    "        seventeen_off = data.find('seventeen_alight_num').text\n",
    "        eighteen_on = data.find('eighteen_ride_num').text\n",
    "        eighteen_off = data.find('eighteen_alight_num').text\n",
    "        nineteen_on = data.find('nineteen_ride_num').text\n",
    "        nineteen_off = data.find('nineteen_alight_num').text\n",
    "        twenty_on = data.find('twenty_ride_num').text\n",
    "        twenty_off = data.find('twenty_alight_num').text\n",
    "        twenty_one_on = data.find('twenty_one_ride_num').text\n",
    "        twenty_one_off = data.find('twenty_one_alight_num').text\n",
    "        twenty_two_on = data.find('twenty_two_ride_num').text\n",
    "        twenty_two_off = data.find('twenty_two_alight_num').text\n",
    "        twenty_three_on = data.find('twenty_three_ride_num').text\n",
    "        twenty_three_off = data.find('twenty_three_alight_num').text\n",
    "        midnight_on = data.find('midnight_ride_num').text\n",
    "        midnight_off = data.find('midnight_alight_num').text\n",
    "        one_on = data.find('one_ride_num').text\n",
    "        one_off = data.find('one_alight_num').text\n",
    "        two_on = data.find('two_ride_num').text\n",
    "        two_off = data.find('two_alight_num').text\n",
    "        three_on = data.find('three_ride_num').text\n",
    "        three_off = data.find('three_alight_num').text\n",
    "        info.append([line, sta, four_on, four_off, five_on, five_off, six_on, six_off, seven_on, seven_off, eight_on, \n",
    "                     eight_off, nine_on, nine_off, ten_on, ten_off, eleven_on, eleven_off, twelve_on, twelve_off, \n",
    "                     thirteen_on, thirteen_off, fourteen_on, fourteen_off, fifteen_on, fifteen_off, sixteen_on, \n",
    "                     sixteen_off, seventeen_on, seventeen_off, eighteen_on, eighteen_off, nineteen_on, nineteen_off, twenty_on, twenty_off, \n",
    "                     twenty_one_on, twenty_one_off, twenty_two_on, twenty_two_off, twenty_three_on, twenty_three_off, \n",
    "                     midnight_on, midnight_off, one_on, one_off, two_on, two_off, three_on, three_off])\n",
    "\n",
    "    df_info = pd.DataFrame(info, columns=['호선명', '역명', '4시승차', '4시하차', '5시승차', '5시하차', '6시승차', '6시하차', \n",
    "                                         '7시승차', '7시하차', '8시승차', '8시하차', '9시승차', '9시하차', '10시승차', '10시하차', \n",
    "                                         '11시승차', '11시하차', '12시승차', '12시하차', '13시승차', '13시하차', \n",
    "                                         '14시승차', '14시하차', '15시승차', '15시하차', '16시승차', '16시하차', \n",
    "                                         '17시승차', '17시하차', '18시승차', '18시하차', '19시승차', '19시하차', \n",
    "                                         '20시승차', '20시하차', '21시승차', '21시하차', '22시승차', '22시하차', \n",
    "                                         '23시승차', '23시하차', '0시승차', '0시하차', '1시승차', '1시하차', \n",
    "                                         '2시승차', '2시하차', '3시승차', '3시하차'])\n",
    "    return df_info"
   ]
  },
  {
   "cell_type": "code",
   "execution_count": 79,
   "metadata": {},
   "outputs": [
    {
     "data": {
      "text/plain": [
       "'/mnt/c/edu'"
      ]
     },
     "execution_count": 79,
     "metadata": {},
     "output_type": "execute_result"
    }
   ],
   "source": [
    "pwd"
   ]
  },
  {
   "cell_type": "code",
   "execution_count": 83,
   "metadata": {},
   "outputs": [],
   "source": [
    "for date in ls_date:\n",
    "    df = get_count(date)\n",
    "    if '2019' in date:\n",
    "        fdir = '/mnt/c/edu/py_data/openapi/2019/'\n",
    "    else:\n",
    "        fdir = '/mnt/c/edu/py_data/openapi/2020/'\n",
    "    df.to_csv(fdir + date + '.csv', index=False, encoding='euc-kr')"
   ]
  },
  {
   "cell_type": "code",
   "execution_count": 85,
   "metadata": {},
   "outputs": [
    {
     "data": {
      "text/plain": [
       "<bound method DataFrame.info of      호선명   역명 4시승차 4시하차  5시승차  5시하차  6시승차   6시하차   7시승차   7시하차  ... 23시승차  \\\n",
       "0    3호선  충무로    0    0     0     0     0      0      0      0  ...     0   \n",
       "1    1호선  서울역  581   11  8010  5042  9302  25859  27028  67086  ...  5312   \n",
       "2    1호선  동묘앞  102    2  2777   773  3002   3546   4659   6246  ...   525   \n",
       "3    1호선   시청   24    0  1636  3392  2466  16596   5216  47974  ...  2126   \n",
       "4    1호선   종각  103    1  2003  3585  2704  19378   4553  76367  ...  2502   \n",
       "..   ...  ...  ...  ...   ...   ...   ...    ...    ...    ...  ...   ...   \n",
       "598  중앙선   오빈    0    0    99     1   356    230    690    180  ...     1   \n",
       "599  중앙선   양평   10    0   900    29  2116   1262   4918   1943  ...    84   \n",
       "600  중앙선   원덕   12    0   276     2   305     58    483    187  ...     1   \n",
       "601  중앙선   용문  215    1   553    10  1347    254   2058   1023  ...     0   \n",
       "602  중앙선   지평    0    0     0     0     0      0    225     30  ...     0   \n",
       "\n",
       "    23시하차 0시승차 0시하차 1시승차 1시하차 2시승차 2시하차 3시승차 3시하차  \n",
       "0       0    0    0    0    0    0    0    0    0  \n",
       "1    3737   15  326    4    4    0    1    0    0  \n",
       "2    1364    1  539    0    0    0    0    0    0  \n",
       "3     649    3   31    0    0    0    0    0    0  \n",
       "4     777    8   82    0    0    0    0    0    0  \n",
       "..    ...  ...  ...  ...  ...  ...  ...  ...  ...  \n",
       "598    65    0    9    0    0    0    0    0    0  \n",
       "599  1093   14  179    0    0    0    0    0    0  \n",
       "600    93    3   46    0    0    0    0    0    0  \n",
       "601   640    0  130    0    0    0    0    0    0  \n",
       "602     0    0    0    0    0    0    0    0    0  \n",
       "\n",
       "[603 rows x 50 columns]>"
      ]
     },
     "execution_count": 85,
     "metadata": {},
     "output_type": "execute_result"
    }
   ],
   "source": [
    "df.info"
   ]
  },
  {
   "cell_type": "markdown",
   "metadata": {},
   "source": [
    "# 코로나 현황 OpenAPI"
   ]
  },
  {
   "cell_type": "code",
   "execution_count": 1,
   "metadata": {},
   "outputs": [],
   "source": [
    "import requests\n",
    "from bs4 import BeautifulSoup as bs\n",
    "import pandas as pd\n",
    "import matplotlib.pyplot as plt\n",
    "import matplotlib.font_manager as fm"
   ]
  },
  {
   "cell_type": "code",
   "execution_count": 2,
   "metadata": {},
   "outputs": [
    {
     "data": {
      "text/plain": [
       "'/mnt/c/edu'"
      ]
     },
     "execution_count": 2,
     "metadata": {},
     "output_type": "execute_result"
    }
   ],
   "source": [
    "pwd"
   ]
  },
  {
   "cell_type": "code",
   "execution_count": 6,
   "metadata": {},
   "outputs": [],
   "source": [
    "def concat_url(num, s_date, e_date):\n",
    "    with open('./py_data/openapi/corona_key.txt') as f:\n",
    "        key = f.read()\n",
    "    \n",
    "    url1 = 'http://openapi.data.go.kr/openapi/service/rest/Covid19/getCovid19InfStateJson?serviceKey=' + key\n",
    "    url2 = '&pageNo=1&numOfRows=' + str(num)\n",
    "    url3 = '&startCreateDt=' + str(s_date) + '&endCreateDt=' + str(e_date)\n",
    "    url = url1 + url2 + url3\n",
    "    \n",
    "    return url"
   ]
  },
  {
   "cell_type": "code",
   "execution_count": 14,
   "metadata": {},
   "outputs": [
    {
     "name": "stdout",
     "output_type": "stream",
     "text": [
      "http://openapi.data.go.kr/openapi/service/rest/Covid19/getCovid19InfStateJson?serviceKey=zrwN1EZPDresnEODmQCFdkJiD52oniVUvH4XlfJ%2FwVs3dJVo%2F%2FaoSabrmXOXFNz6VDcI2dQHcIvMMlxPJMPMyQ%3D%3D&pageNo=1&numOfRows=10&startCreateDt=20201001&endCreateDt=20201031\n"
     ]
    }
   ],
   "source": [
    "print(concat_url(10, 20201001,20201031))"
   ]
  },
  {
   "cell_type": "code",
   "execution_count": null,
   "metadata": {},
   "outputs": [],
   "source": [
    "accDefRate\n",
    "accExamCnt\n",
    "accExamCompCnt\n",
    "careCnt\n",
    "clearCnt\n",
    "createDt\n",
    "deathCnt\n",
    "decideCnt\n",
    "examCnt\n",
    "resutlNegCnt\n",
    "seq\n",
    "stateDt\n",
    "stateTime\n",
    "updateDt"
   ]
  },
  {
   "cell_type": "code",
   "execution_count": 19,
   "metadata": {},
   "outputs": [
    {
     "ename": "NameError",
     "evalue": "name 'date' is not defined",
     "output_type": "error",
     "traceback": [
      "\u001b[0;31m---------------------------------------------------------------------------\u001b[0m",
      "\u001b[0;31mNameError\u001b[0m                                 Traceback (most recent call last)",
      "\u001b[0;32m<ipython-input-19-9b4b19092778>\u001b[0m in \u001b[0;36m<module>\u001b[0;34m\u001b[0m\n\u001b[1;32m     14\u001b[0m         \u001b[0;32mpass\u001b[0m\u001b[0;34m\u001b[0m\u001b[0;34m\u001b[0m\u001b[0m\n\u001b[1;32m     15\u001b[0m \u001b[0;34m\u001b[0m\u001b[0m\n\u001b[0;32m---> 16\u001b[0;31m     \u001b[0minfo\u001b[0m\u001b[0;34m.\u001b[0m\u001b[0mappend\u001b[0m\u001b[0;34m(\u001b[0m\u001b[0mdate\u001b[0m\u001b[0;34m,\u001b[0m \u001b[0mexam\u001b[0m\u001b[0;34m,\u001b[0m \u001b[0mdecide\u001b[0m\u001b[0;34m,\u001b[0m \u001b[0mdeath\u001b[0m\u001b[0;34m,\u001b[0m \u001b[0mclear\u001b[0m\u001b[0;34m)\u001b[0m\u001b[0;34m\u001b[0m\u001b[0;34m\u001b[0m\u001b[0m\n\u001b[0m\u001b[1;32m     17\u001b[0m \u001b[0;34m\u001b[0m\u001b[0m\n\u001b[1;32m     18\u001b[0m     \u001b[0mprint\u001b[0m\u001b[0;34m(\u001b[0m\u001b[0minfo\u001b[0m\u001b[0;34m)\u001b[0m\u001b[0;34m\u001b[0m\u001b[0;34m\u001b[0m\u001b[0m\n",
      "\u001b[0;31mNameError\u001b[0m: name 'date' is not defined"
     ]
    }
   ],
   "source": [
    "xml = requests.get(concat_url(100, 20201001,20201031))\n",
    "soup = bs(xml.content, 'html.parser')\n",
    "ls_data = soup.find_all('item')\n",
    "\n",
    "info = []\n",
    "for data in ls_data:\n",
    "    \n",
    "    \n",
    "    for \n",
    "    try:\n",
    "        date = data.find('stateDt').text\n",
    "        decide = data.find('decideCnt').text\n",
    "        death = data.find('deathCnt').text\n",
    "        clear = data.find('clearCnt').text\n",
    "        exam = data.find('examCnt').text\n",
    "    except:\n",
    "        pass\n",
    "    \n",
    "    info.append(date, exam, decide, death, clear)\n",
    "    \n",
    "    print(info)\n",
    "    break\n",
    "    "
   ]
  },
  {
   "cell_type": "code",
   "execution_count": null,
   "metadata": {},
   "outputs": [],
   "source": []
  },
  {
   "cell_type": "code",
   "execution_count": null,
   "metadata": {},
   "outputs": [],
   "source": []
  },
  {
   "cell_type": "code",
   "execution_count": null,
   "metadata": {},
   "outputs": [],
   "source": []
  },
  {
   "cell_type": "code",
   "execution_count": null,
   "metadata": {},
   "outputs": [],
   "source": []
  }
 ],
 "metadata": {
  "kernelspec": {
   "display_name": "Python 3",
   "language": "python",
   "name": "python3"
  },
  "language_info": {
   "codemirror_mode": {
    "name": "ipython",
    "version": 3
   },
   "file_extension": ".py",
   "mimetype": "text/x-python",
   "name": "python",
   "nbconvert_exporter": "python",
   "pygments_lexer": "ipython3",
   "version": "3.8.5"
  }
 },
 "nbformat": 4,
 "nbformat_minor": 4
}
