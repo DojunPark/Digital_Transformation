{
 "cells": [
  {
   "cell_type": "markdown",
   "metadata": {},
   "source": [
    "# AND gate\n",
    "```python\n",
    "import numpy as np\n",
    "```\n",
    "\n",
    " x1 | x2 | y \n",
    ":---:|:---:|:---:\n",
    "0|0|**0**\n",
    "0|1|**0**\n",
    "1|0|**0**\n",
    "1|1|**1**"
   ]
  },
  {
   "cell_type": "code",
   "execution_count": 1,
   "metadata": {},
   "outputs": [],
   "source": [
    "import numpy as np\n",
    "\n",
    "def and_gate(x1, x2):\n",
    "    x = np.array([x1, x2])\n",
    "    w = np.array([0.5, 0.5])\n",
    "    b = -0.7\n",
    "    \n",
    "    tmp = np.sum(x * w) + b\n",
    "    \n",
    "    if tmp > 0:\n",
    "        return 1\n",
    "    else:\n",
    "        return 0"
   ]
  },
  {
   "cell_type": "code",
   "execution_count": 2,
   "metadata": {},
   "outputs": [
    {
     "name": "stdout",
     "output_type": "stream",
     "text": [
      "0\n",
      "0\n",
      "0\n",
      "1\n"
     ]
    }
   ],
   "source": [
    "print(and_gate(0, 0))\n",
    "print(and_gate(0, 1))\n",
    "print(and_gate(1, 0))\n",
    "print(and_gate(1, 1))"
   ]
  },
  {
   "cell_type": "markdown",
   "metadata": {},
   "source": [
    "# OR gate\n",
    "\n",
    "x1|x2|y\n",
    "--|--|--\n",
    "0|0|**0**\n",
    "0|1|**1**\n",
    "1|0|**1**\n",
    "1|1|**1**"
   ]
  },
  {
   "cell_type": "code",
   "execution_count": 5,
   "metadata": {},
   "outputs": [],
   "source": [
    "def or_gate(x1, x2):\n",
    "    x = np.array([x1, x2])\n",
    "    w = np.array([0.5, 0.5])\n",
    "    b = -0.3\n",
    "    \n",
    "    tmp = sum(x * w) + b\n",
    "    \n",
    "    if tmp > 0:\n",
    "        return 1\n",
    "    else:\n",
    "        return 0"
   ]
  },
  {
   "cell_type": "code",
   "execution_count": 6,
   "metadata": {},
   "outputs": [
    {
     "name": "stdout",
     "output_type": "stream",
     "text": [
      "0\n",
      "1\n",
      "1\n",
      "1\n"
     ]
    }
   ],
   "source": [
    "print(or_gate(0, 0))\n",
    "print(or_gate(0, 1))\n",
    "print(or_gate(1, 0))\n",
    "print(or_gate(1, 1))"
   ]
  },
  {
   "cell_type": "markdown",
   "metadata": {},
   "source": [
    "# NAND gate\n",
    "\n",
    "x1|x2|y\n",
    "--|--|--\n",
    "0|0|**1**\n",
    "0|1|**1**\n",
    "1|1|**1**\n",
    "1|1|**0**"
   ]
  },
  {
   "cell_type": "code",
   "execution_count": 10,
   "metadata": {},
   "outputs": [],
   "source": [
    "def nand_gate(x1, x2):\n",
    "    x = np.array([x1, x2])\n",
    "    w = np.array([-0.5, -0.5])\n",
    "    b = 0.7\n",
    "    \n",
    "    tmp = sum(x * w) + b\n",
    "    \n",
    "    if tmp > 0:\n",
    "        return 1\n",
    "    else:\n",
    "        return 0"
   ]
  },
  {
   "cell_type": "code",
   "execution_count": 11,
   "metadata": {},
   "outputs": [
    {
     "name": "stdout",
     "output_type": "stream",
     "text": [
      "1\n",
      "1\n",
      "1\n",
      "0\n"
     ]
    }
   ],
   "source": [
    "print(nand_gate(0, 0))\n",
    "print(nand_gate(0, 1))\n",
    "print(nand_gate(1, 0))\n",
    "print(nand_gate(1, 1))"
   ]
  },
  {
   "cell_type": "markdown",
   "metadata": {},
   "source": [
    "# NOR gate\n",
    "\n",
    "x1|x2|y\n",
    "--|--|--\n",
    "0|0|**1**\n",
    "0|1|**0**\n",
    "1|1|**0**\n",
    "1|1|**0**"
   ]
  },
  {
   "cell_type": "code",
   "execution_count": 12,
   "metadata": {},
   "outputs": [],
   "source": [
    "def nor_gate(x1, x2):\n",
    "    x = np.array([x1, x2])\n",
    "    w = np.array([-0.5, -0.5])\n",
    "    b = 0.3\n",
    "    \n",
    "    tmp = np.sum(x * w) + b\n",
    "    \n",
    "    if tmp > 0:\n",
    "        return 1\n",
    "    else:\n",
    "        return 0"
   ]
  },
  {
   "cell_type": "code",
   "execution_count": 13,
   "metadata": {},
   "outputs": [
    {
     "name": "stdout",
     "output_type": "stream",
     "text": [
      "1\n",
      "0\n",
      "0\n",
      "0\n"
     ]
    }
   ],
   "source": [
    "print(nor_gate(0, 0))\n",
    "print(nor_gate(0, 1))\n",
    "print(nor_gate(1, 0))\n",
    "print(nor_gate(1, 1))"
   ]
  },
  {
   "cell_type": "markdown",
   "metadata": {},
   "source": [
    "# XOR gate\n",
    "\n",
    "x1|x2|y\n",
    "--|--|--\n",
    "0|0|**0**\n",
    "0|1|**1**\n",
    "1|0|**1**\n",
    "1|1|**0**"
   ]
  },
  {
   "cell_type": "code",
   "execution_count": 18,
   "metadata": {},
   "outputs": [],
   "source": [
    "def xor_gate(x1, x2):\n",
    "    tmp1 = nand_gate(x1, x2)\n",
    "    tmp2 = or_gate(x1, x2)\n",
    "    y = and_gate(tmp1, tmp2)\n",
    "    \n",
    "    return y"
   ]
  },
  {
   "cell_type": "code",
   "execution_count": 19,
   "metadata": {},
   "outputs": [
    {
     "name": "stdout",
     "output_type": "stream",
     "text": [
      "0\n",
      "1\n",
      "1\n",
      "0\n"
     ]
    }
   ],
   "source": [
    "print(xor_gate(0, 0))\n",
    "print(xor_gate(0, 1))\n",
    "print(xor_gate(1, 0))\n",
    "print(xor_gate(1, 1))"
   ]
  }
 ],
 "metadata": {
  "kernelspec": {
   "display_name": "Python 3",
   "language": "python",
   "name": "python3"
  },
  "language_info": {
   "codemirror_mode": {
    "name": "ipython",
    "version": 3
   },
   "file_extension": ".py",
   "mimetype": "text/x-python",
   "name": "python",
   "nbconvert_exporter": "python",
   "pygments_lexer": "ipython3",
   "version": "3.8.5"
  }
 },
 "nbformat": 4,
 "nbformat_minor": 4
}
