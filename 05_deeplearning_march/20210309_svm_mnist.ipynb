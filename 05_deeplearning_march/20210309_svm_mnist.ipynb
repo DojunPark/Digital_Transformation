{
 "cells": [
  {
   "cell_type": "code",
   "execution_count": 1,
   "metadata": {
    "colab": {
     "base_uri": "https://localhost:8080/",
     "height": 35
    },
    "executionInfo": {
     "elapsed": 779,
     "status": "ok",
     "timestamp": 1615277874327,
     "user": {
      "displayName": "박도준",
      "photoUrl": "",
      "userId": "14496627616213037898"
     },
     "user_tz": -540
    },
    "id": "Q8rpqpUTBRkX",
    "outputId": "eab975bf-3b77-4def-d544-f4c9cff32567"
   },
   "outputs": [
    {
     "data": {
      "application/vnd.google.colaboratory.intrinsic+json": {
       "type": "string"
      },
      "text/plain": [
       "'/content'"
      ]
     },
     "execution_count": 1,
     "metadata": {
      "tags": []
     },
     "output_type": "execute_result"
    }
   ],
   "source": [
    "pwd"
   ]
  },
  {
   "cell_type": "code",
   "execution_count": 3,
   "metadata": {
    "colab": {
     "base_uri": "https://localhost:8080/"
    },
    "executionInfo": {
     "elapsed": 1023,
     "status": "ok",
     "timestamp": 1615278341371,
     "user": {
      "displayName": "박도준",
      "photoUrl": "",
      "userId": "14496627616213037898"
     },
     "user_tz": -540
    },
    "id": "G9GS-LouBWmv",
    "outputId": "f75d2945-0f48-4e80-b8ff-d23b6ee07fb4"
   },
   "outputs": [
    {
     "name": "stdout",
     "output_type": "stream",
     "text": [
      "/content/drive/MyDrive/edu/Flask\n"
     ]
    }
   ],
   "source": [
    "cd /content/drive/MyDrive/edu/Flask"
   ]
  },
  {
   "cell_type": "code",
   "execution_count": 37,
   "metadata": {
    "colab": {
     "base_uri": "https://localhost:8080/"
    },
    "executionInfo": {
     "elapsed": 4839,
     "status": "ok",
     "timestamp": 1615278476157,
     "user": {
      "displayName": "박도준",
      "photoUrl": "",
      "userId": "14496627616213037898"
     },
     "user_tz": -540
    },
    "id": "1FszABTnF009",
    "outputId": "38c9e41c-8d69-4013-f96d-2406f22c1f31"
   },
   "outputs": [
    {
     "name": "stdout",
     "output_type": "stream",
     "text": [
      "[[0 0 0 ... 0 0 0]\n",
      " [0 0 0 ... 0 0 0]\n",
      " [0 0 0 ... 0 0 0]\n",
      " ...\n",
      " [0 0 0 ... 0 0 0]\n",
      " [0 0 0 ... 0 0 0]\n",
      " [0 0 0 ... 0 0 0]]\n",
      "[1 0 1 ... 7 6 9]\n"
     ]
    }
   ],
   "source": [
    "# import modules\n",
    "import matplotlib.pyplot as plt\n",
    "import numpy as np\n",
    "import pandas as pd\n",
    "from sklearn import datasets, svm, metrics\n",
    "\n",
    "# The digits dataset\n",
    "train=pd.read_csv('C:/Users/dojun/Documents/data/mnist/train.csv')\n",
    "data_test=pd.read_csv('C:/Users/dojun/Documents/data/mnist/test.csv')\n",
    "\n",
    "data_train = train.iloc[:,1:].values\n",
    "label_train = train.iloc[:,0].values\n",
    "\n",
    "data_test = data_test.values\n",
    "\t\n",
    "data_train[data_train>0] = 1\n",
    "data_test[data_test>0] = 1\n",
    "\n",
    "print(data_train)\n",
    "print(label_train)"
   ]
  },
  {
   "cell_type": "code",
   "execution_count": 6,
   "metadata": {
    "executionInfo": {
     "elapsed": 764,
     "status": "ok",
     "timestamp": 1615278573776,
     "user": {
      "displayName": "박도준",
      "photoUrl": "",
      "userId": "14496627616213037898"
     },
     "user_tz": -540
    },
    "id": "YjdIpTtQBWpR"
   },
   "outputs": [],
   "source": [
    "# Create a classifier: a support vector classifier\n",
    "classifier = svm.SVC(C=200,kernel='rbf',gamma=0.01,cache_size=8000,probability=False)\n",
    "#classifier = svm.SVC()"
   ]
  },
  {
   "cell_type": "code",
   "execution_count": 7,
   "metadata": {
    "colab": {
     "base_uri": "https://localhost:8080/"
    },
    "executionInfo": {
     "elapsed": 326626,
     "status": "ok",
     "timestamp": 1615278900207,
     "user": {
      "displayName": "박도준",
      "photoUrl": "",
      "userId": "14496627616213037898"
     },
     "user_tz": -540
    },
    "id": "tUdOEWvxGvau",
    "outputId": "a553d9d2-5487-4f82-c9af-02f915655c73"
   },
   "outputs": [
    {
     "data": {
      "text/plain": [
       "SVC(C=200, break_ties=False, cache_size=8000, class_weight=None, coef0=0.0,\n",
       "    decision_function_shape='ovr', degree=3, gamma=0.01, kernel='rbf',\n",
       "    max_iter=-1, probability=False, random_state=None, shrinking=True,\n",
       "    tol=0.001, verbose=False)"
      ]
     },
     "execution_count": 7,
     "metadata": {
      "tags": []
     },
     "output_type": "execute_result"
    }
   ],
   "source": [
    "# training\n",
    "classifier.fit(data_train, label_train)"
   ]
  },
  {
   "cell_type": "code",
   "execution_count": 8,
   "metadata": {
    "colab": {
     "base_uri": "https://localhost:8080/"
    },
    "executionInfo": {
     "elapsed": 390881,
     "status": "ok",
     "timestamp": 1615279291100,
     "user": {
      "displayName": "박도준",
      "photoUrl": "",
      "userId": "14496627616213037898"
     },
     "user_tz": -540
    },
    "id": "VJjPsqjcBWsN",
    "outputId": "04092f7d-8836-4a7a-8f12-5e95df522e28"
   },
   "outputs": [
    {
     "name": "stdout",
     "output_type": "stream",
     "text": [
      "[2 0 9 ... 3 9 2]\n"
     ]
    }
   ],
   "source": [
    "# Now predict the value of the digit on the second half:\n",
    "predicted = classifier.predict(data_test)\n",
    "\n",
    "df=pd.DataFrame(predicted)\n",
    "df.index+=1\n",
    "df.index.name='ImageId'\n",
    "df.columns=['Label']\n",
    "df.to_csv('./mnist/results.csv',header=True)\n",
    "\n",
    "print(predicted)"
   ]
  },
  {
   "cell_type": "code",
   "execution_count": 9,
   "metadata": {
    "colab": {
     "base_uri": "https://localhost:8080/"
    },
    "executionInfo": {
     "elapsed": 740,
     "status": "ok",
     "timestamp": 1615279470865,
     "user": {
      "displayName": "박도준",
      "photoUrl": "",
      "userId": "14496627616213037898"
     },
     "user_tz": -540
    },
    "id": "weEF5kCwBWwt",
    "outputId": "fa287452-5c95-490f-9dcd-e3555a18480d"
   },
   "outputs": [
    {
     "data": {
      "text/plain": [
       "['./models/mnist_svm.pkl']"
      ]
     },
     "execution_count": 9,
     "metadata": {
      "tags": []
     },
     "output_type": "execute_result"
    }
   ],
   "source": [
    "# 모델 저장\n",
    "import joblib\n",
    "\n",
    "joblib.dump(classifier, './models/mnist_svm.pkl')"
   ]
  },
  {
   "cell_type": "markdown",
   "metadata": {},
   "source": [
    "# 사용자 데이터 예측"
   ]
  },
  {
   "cell_type": "code",
   "execution_count": 1,
   "metadata": {
    "executionInfo": {
     "elapsed": 735,
     "status": "ok",
     "timestamp": 1615279497966,
     "user": {
      "displayName": "박도준",
      "photoUrl": "",
      "userId": "14496627616213037898"
     },
     "user_tz": -540
    },
    "id": "GhM1UERUBWzR"
   },
   "outputs": [
    {
     "name": "stderr",
     "output_type": "stream",
     "text": [
      "C:\\Users\\dojun\\anaconda3\\envs\\python38\\lib\\site-packages\\sklearn\\base.py:313: UserWarning: Trying to unpickle estimator SVC from version 0.22.2.post1 when using version 0.22.2. This might lead to breaking code or invalid results. Use at your own risk.\n",
      "  warnings.warn(\n"
     ]
    }
   ],
   "source": [
    "# 모델 불러오기\n",
    "import joblib\n",
    "\n",
    "model = joblib.load('./models/mnist_svm.pkl')"
   ]
  },
  {
   "cell_type": "code",
   "execution_count": 38,
   "metadata": {},
   "outputs": [
    {
     "data": {
      "text/plain": [
       "1.0"
      ]
     },
     "execution_count": 38,
     "metadata": {},
     "output_type": "execute_result"
    }
   ],
   "source": [
    "model.score(data_train, label_train)"
   ]
  },
  {
   "cell_type": "code",
   "execution_count": 32,
   "metadata": {},
   "outputs": [
    {
     "data": {
      "text/plain": [
       "(10, 784)"
      ]
     },
     "execution_count": 32,
     "metadata": {},
     "output_type": "execute_result"
    }
   ],
   "source": [
    "import os\n",
    "from PIL import Image\n",
    "import numpy as np\n",
    "\n",
    "loc = '../py_data/my_mnist/'\n",
    "ls_data = os.listdir(loc)\n",
    "\n",
    "#0~9까지 숫자 데이터 (10개)\n",
    "ls_num = []\n",
    "for data in ls_data:\n",
    "    num = Image.open(loc+data).convert('L')\n",
    "    num = np.array(num).reshape(-1)\n",
    "    ls_num.append(num)\n",
    "    \n",
    "np_num = np.array(ls_num)\n",
    "np_num.shape"
   ]
  },
  {
   "cell_type": "code",
   "execution_count": 36,
   "metadata": {},
   "outputs": [
    {
     "data": {
      "text/plain": [
       "array([2, 2, 2, 2, 2, 2, 2, 2, 2, 2], dtype=int64)"
      ]
     },
     "execution_count": 36,
     "metadata": {},
     "output_type": "execute_result"
    }
   ],
   "source": [
    "# 모든 데이터에 대하여 2를 예측\n",
    "model.predict(np_num)"
   ]
  },
  {
   "cell_type": "code",
   "execution_count": null,
   "metadata": {},
   "outputs": [],
   "source": []
  },
  {
   "cell_type": "code",
   "execution_count": null,
   "metadata": {
    "id": "ZGfpEx0IBXAV"
   },
   "outputs": [],
   "source": []
  },
  {
   "cell_type": "code",
   "execution_count": null,
   "metadata": {
    "id": "tw_UdpiZBXCY"
   },
   "outputs": [],
   "source": []
  },
  {
   "cell_type": "code",
   "execution_count": null,
   "metadata": {
    "id": "Ner0XDEfBXEN"
   },
   "outputs": [],
   "source": []
  }
 ],
 "metadata": {
  "colab": {
   "authorship_tag": "ABX9TyN24wgJ7TiLwzfMUBOqaUG+",
   "collapsed_sections": [],
   "mount_file_id": "1Y6ceyXM3hFX-DKhg5hOE_aCX_cb8lhG2",
   "name": "20210309_svm_mnist.ipynb",
   "provenance": []
  },
  "kernelspec": {
   "display_name": "Python 3",
   "language": "python",
   "name": "python3"
  },
  "language_info": {
   "codemirror_mode": {
    "name": "ipython",
    "version": 3
   },
   "file_extension": ".py",
   "mimetype": "text/x-python",
   "name": "python",
   "nbconvert_exporter": "python",
   "pygments_lexer": "ipython3",
   "version": "3.8.5"
  }
 },
 "nbformat": 4,
 "nbformat_minor": 1
}
