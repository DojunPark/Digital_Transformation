{
 "cells": [
  {
   "cell_type": "code",
   "execution_count": 9,
   "metadata": {
    "colab": {
     "base_uri": "https://localhost:8080/"
    },
    "executionInfo": {
     "elapsed": 1203,
     "status": "ok",
     "timestamp": 1615267351883,
     "user": {
      "displayName": "박도준",
      "photoUrl": "",
      "userId": "14496627616213037898"
     },
     "user_tz": -540
    },
    "id": "X2q5DfXUWSO8",
    "outputId": "f406c11e-b9f6-4497-b713-1a410f2a2c86"
   },
   "outputs": [
    {
     "name": "stdout",
     "output_type": "stream",
     "text": [
      "/content/drive/MyDrive/edu/Flask\n"
     ]
    }
   ],
   "source": [
    "cd /content/drive/MyDrive/edu/Flask"
   ]
  },
  {
   "cell_type": "code",
   "execution_count": 10,
   "metadata": {
    "colab": {
     "base_uri": "https://localhost:8080/"
    },
    "executionInfo": {
     "elapsed": 4461,
     "status": "ok",
     "timestamp": 1615267356375,
     "user": {
      "displayName": "박도준",
      "photoUrl": "",
      "userId": "14496627616213037898"
     },
     "user_tz": -540
    },
    "id": "d7WMHN-uXln_",
    "outputId": "37a691cb-a38a-4efc-fd1e-a20b0b0a9076"
   },
   "outputs": [
    {
     "name": "stdout",
     "output_type": "stream",
     "text": [
      "Requirement already satisfied: flask_ngrok in /usr/local/lib/python3.7/dist-packages (0.0.25)\n",
      "Requirement already satisfied: requests in /usr/local/lib/python3.7/dist-packages (from flask_ngrok) (2.23.0)\n",
      "Requirement already satisfied: Flask>=0.8 in /usr/local/lib/python3.7/dist-packages (from flask_ngrok) (1.1.2)\n",
      "Requirement already satisfied: certifi>=2017.4.17 in /usr/local/lib/python3.7/dist-packages (from requests->flask_ngrok) (2020.12.5)\n",
      "Requirement already satisfied: chardet<4,>=3.0.2 in /usr/local/lib/python3.7/dist-packages (from requests->flask_ngrok) (3.0.4)\n",
      "Requirement already satisfied: urllib3!=1.25.0,!=1.25.1,<1.26,>=1.21.1 in /usr/local/lib/python3.7/dist-packages (from requests->flask_ngrok) (1.24.3)\n",
      "Requirement already satisfied: idna<3,>=2.5 in /usr/local/lib/python3.7/dist-packages (from requests->flask_ngrok) (2.10)\n",
      "Requirement already satisfied: Jinja2>=2.10.1 in /usr/local/lib/python3.7/dist-packages (from Flask>=0.8->flask_ngrok) (2.11.3)\n",
      "Requirement already satisfied: click>=5.1 in /usr/local/lib/python3.7/dist-packages (from Flask>=0.8->flask_ngrok) (7.1.2)\n",
      "Requirement already satisfied: itsdangerous>=0.24 in /usr/local/lib/python3.7/dist-packages (from Flask>=0.8->flask_ngrok) (1.1.0)\n",
      "Requirement already satisfied: Werkzeug>=0.15 in /usr/local/lib/python3.7/dist-packages (from Flask>=0.8->flask_ngrok) (1.0.1)\n",
      "Requirement already satisfied: MarkupSafe>=0.23 in /usr/local/lib/python3.7/dist-packages (from Jinja2>=2.10.1->Flask>=0.8->flask_ngrok) (1.1.1)\n"
     ]
    }
   ],
   "source": [
    "!pip install flask_ngrok "
   ]
  },
  {
   "cell_type": "code",
   "execution_count": 11,
   "metadata": {
    "colab": {
     "base_uri": "https://localhost:8080/"
    },
    "executionInfo": {
     "elapsed": 814,
     "status": "ok",
     "timestamp": 1615267357195,
     "user": {
      "displayName": "박도준",
      "photoUrl": "",
      "userId": "14496627616213037898"
     },
     "user_tz": -540
    },
    "id": "aPcG92wBXlqM",
    "outputId": "1a45fb12-0a57-4aa4-9928-89105d54f9a7"
   },
   "outputs": [
    {
     "name": "stdout",
     "output_type": "stream",
     "text": [
      "Overwriting templates/iris.html\n"
     ]
    }
   ],
   "source": [
    "%%writefile templates/iris.html\n",
    "\n",
    "<h1> [붓꽃 예측에 필요한 값 입력] </h1>\n",
    "\n",
    "<form action=\"/\" method=\"post\">\n",
    "  <label >꽃받침 길이</label>\n",
    "  <input type=\"text\" name=\"sepal_len\"\"></br>\n",
    "    \n",
    "  <label >꽃받침 너비</label>\n",
    "  <input type=\"text\" name=\"sepal_wid\"></br>\n",
    "  \n",
    "  <label >꽃잎 길이</label>\n",
    "  <input type=\"text\" name=\"petal_len\"></br>\n",
    "\n",
    "  <label >꽃잎 너비</label>\n",
    "  <input type=\"text\" name=\"petal_wid\"></br>\n",
    "  \n",
    "  <p> <button style=\"font-family: 'Nanum Barun Gothic' !important;\" type=\"submit\" >예측하기</button> </p> \n",
    "</form>\n",
    "  \n",
    "  \n",
    "<h2> [예측 결과]</h2>\n",
    "  {% if prediction %}\n",
    "  <h3>입력하신 붓꽃의 유형은 {{ prediction }}입니다.</h3>\n",
    "    {% endif %}"
   ]
  },
  {
   "cell_type": "code",
   "execution_count": 13,
   "metadata": {
    "executionInfo": {
     "elapsed": 875,
     "status": "ok",
     "timestamp": 1615267394078,
     "user": {
      "displayName": "박도준",
      "photoUrl": "",
      "userId": "14496627616213037898"
     },
     "user_tz": -540
    },
    "id": "XLj021MZXlwg"
   },
   "outputs": [],
   "source": [
    "# 모델 학습\n",
    "from sklearn.datasets import load_iris\n",
    "from sklearn.linear_model import LogisticRegression\n",
    "import joblib\n",
    "\n",
    "X, y = load_iris(return_X_y=True)\n",
    "clf = LogisticRegression(solver='liblinear', random_state=0).fit(X, y)"
   ]
  },
  {
   "cell_type": "code",
   "execution_count": 15,
   "metadata": {
    "colab": {
     "base_uri": "https://localhost:8080/"
    },
    "executionInfo": {
     "elapsed": 865,
     "status": "ok",
     "timestamp": 1615267414939,
     "user": {
      "displayName": "박도준",
      "photoUrl": "",
      "userId": "14496627616213037898"
     },
     "user_tz": -540
    },
    "id": "Vwpm85hVXly1",
    "outputId": "75305fec-6908-4c7f-a729-e5c0709fc60a"
   },
   "outputs": [
    {
     "data": {
      "text/plain": [
       "['./models/iris.pkl']"
      ]
     },
     "execution_count": 15,
     "metadata": {
      "tags": []
     },
     "output_type": "execute_result"
    }
   ],
   "source": [
    "# 모델 저장\n",
    "joblib.dump(clf, './models/iris.pkl')"
   ]
  },
  {
   "cell_type": "code",
   "execution_count": 16,
   "metadata": {
    "executionInfo": {
     "elapsed": 908,
     "status": "ok",
     "timestamp": 1615267474095,
     "user": {
      "displayName": "박도준",
      "photoUrl": "",
      "userId": "14496627616213037898"
     },
     "user_tz": -540
    },
    "id": "CR6SbQ8kXl3U"
   },
   "outputs": [],
   "source": [
    "# 모델 불러오기\n",
    "model = joblib.load('./models/iris.pkl')"
   ]
  },
  {
   "cell_type": "code",
   "execution_count": 17,
   "metadata": {
    "colab": {
     "base_uri": "https://localhost:8080/"
    },
    "executionInfo": {
     "elapsed": 27095,
     "status": "ok",
     "timestamp": 1615267562283,
     "user": {
      "displayName": "박도준",
      "photoUrl": "",
      "userId": "14496627616213037898"
     },
     "user_tz": -540
    },
    "id": "_vMxyR0OXluT",
    "outputId": "17cf32fd-ea16-4b2e-eb6d-43bdfc3b66d0"
   },
   "outputs": [
    {
     "name": "stdout",
     "output_type": "stream",
     "text": [
      " * Serving Flask app \"__main__\" (lazy loading)\n",
      " * Environment: production\n",
      "\u001b[31m   WARNING: This is a development server. Do not use it in a production deployment.\u001b[0m\n",
      "\u001b[2m   Use a production WSGI server instead.\u001b[0m\n",
      " * Debug mode: off\n"
     ]
    },
    {
     "name": "stderr",
     "output_type": "stream",
     "text": [
      " * Running on http://127.0.0.1:5000/ (Press CTRL+C to quit)\n"
     ]
    },
    {
     "name": "stdout",
     "output_type": "stream",
     "text": [
      " * Running on http://634fb8333570.ngrok.io\n",
      " * Traffic stats available on http://127.0.0.1:4040\n"
     ]
    },
    {
     "name": "stderr",
     "output_type": "stream",
     "text": [
      "127.0.0.1 - - [09/Mar/2021 05:25:41] \"\u001b[37mGET / HTTP/1.1\u001b[0m\" 200 -\n",
      "127.0.0.1 - - [09/Mar/2021 05:25:41] \"\u001b[33mGET /favicon.ico HTTP/1.1\u001b[0m\" 404 -\n",
      "127.0.0.1 - - [09/Mar/2021 05:25:44] \"\u001b[37mPOST / HTTP/1.1\u001b[0m\" 200 -\n"
     ]
    }
   ],
   "source": [
    "# 코렙에서 돌리는 플라스크\n",
    "from flask import Flask, render_template, url_for, request\n",
    "from flask_ngrok import run_with_ngrok\n",
    "\n",
    "app = Flask(__name__)  \n",
    "run_with_ngrok(app)\n",
    "\n",
    "\n",
    "@app.route(\"/\", methods=['GET','POST'])   \n",
    "\n",
    "def index():\n",
    "    if request.method=='GET':\n",
    "        return render_template('iris.html')                          \n",
    "    if request.method=='POST':\n",
    "        clf = joblib.load('./models/iris.pkl')\n",
    "\n",
    "        sepal_len = float(request.form['sepal_len'])\n",
    "        sepal_wid = float(request.form['sepal_wid'])\n",
    "        petal_len = float(request.form['petal_len'])\n",
    "        petal_wid = float(request.form['petal_wid'])\n",
    "\n",
    "        data = ((sepal_len, sepal_wid, petal_len, petal_wid),)\n",
    "        data = clf.predict(data)[0]\n",
    "        \n",
    "        c_list = ['setosa', 'versicolor', 'virginica']\n",
    "        prediction = c_list[data]\n",
    "\n",
    "        return render_template('iris.html', prediction=prediction)  \n",
    "\n",
    "app.run()"
   ]
  },
  {
   "cell_type": "code",
   "execution_count": null,
   "metadata": {
    "id": "jn4xZHGFXl5-"
   },
   "outputs": [],
   "source": []
  },
  {
   "cell_type": "code",
   "execution_count": null,
   "metadata": {
    "id": "LFfb4qWWXl8O"
   },
   "outputs": [],
   "source": []
  }
 ],
 "metadata": {
  "colab": {
   "authorship_tag": "ABX9TyMnYYNwDL+hM+kBxLSHdw2z",
   "collapsed_sections": [],
   "mount_file_id": "1lmAZrF5KxZC1emYeAmXvV89ZFX86Jiwh",
   "name": "20210309_붓꽃예측.ipynb",
   "provenance": []
  },
  "kernelspec": {
   "display_name": "Python 3",
   "language": "python",
   "name": "python3"
  },
  "language_info": {
   "codemirror_mode": {
    "name": "ipython",
    "version": 3
   },
   "file_extension": ".py",
   "mimetype": "text/x-python",
   "name": "python",
   "nbconvert_exporter": "python",
   "pygments_lexer": "ipython3",
   "version": "3.8.5"
  }
 },
 "nbformat": 4,
 "nbformat_minor": 1
}
