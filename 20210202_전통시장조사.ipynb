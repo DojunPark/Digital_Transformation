{
 "cells": [
  {
   "cell_type": "markdown",
   "metadata": {},
   "source": [
    "# 과제: 서울시 전통시장 만족도 조사"
   ]
  },
  {
   "cell_type": "markdown",
   "metadata": {},
   "source": [
    "# 네이버 블로그 크롤링"
   ]
  },
  {
   "cell_type": "code",
   "execution_count": 1,
   "metadata": {},
   "outputs": [],
   "source": [
    "with open('C:/Users/dojun\\Documents/api_keys/naver_api.txt') as f:\n",
    "    client_id = f.readline().replace('\\n', '')\n",
    "    client_secret = f.readline()"
   ]
  },
  {
   "cell_type": "code",
   "execution_count": 90,
   "metadata": {},
   "outputs": [],
   "source": [
    "import requests\n",
    "import pandas as pd\n",
    "import urllib.request\n",
    "from urllib.request import quote\n",
    "from urllib.parse import urlparse\n",
    "from bs4 import BeautifulSoup as bs\n",
    "\n",
    "keyword = '서울 전통시장'\n",
    "url = 'https://openapi.naver.com/v1/search/blog.json?query=' + keyword + '&display=100&start=901'\n",
    "html = requests.get(url,headers = {\"X-Naver-Client-Id\" : client_id,\n",
    "                                   \"X-Naver-Client-Secret\" : client_secret})"
   ]
  },
  {
   "cell_type": "code",
   "execution_count": 91,
   "metadata": {},
   "outputs": [],
   "source": [
    "json1 = html.json()"
   ]
  },
  {
   "cell_type": "code",
   "execution_count": 92,
   "metadata": {},
   "outputs": [
    {
     "data": {
      "text/plain": [
       "100"
      ]
     },
     "execution_count": 92,
     "metadata": {},
     "output_type": "execute_result"
    }
   ],
   "source": [
    "len(json1['items'])"
   ]
  },
  {
   "cell_type": "code",
   "execution_count": 93,
   "metadata": {},
   "outputs": [],
   "source": [
    "df1 = pd.DataFrame(json1['items'])"
   ]
  },
  {
   "cell_type": "code",
   "execution_count": 94,
   "metadata": {},
   "outputs": [],
   "source": [
    "df = pd.concat([df, df1])"
   ]
  },
  {
   "cell_type": "code",
   "execution_count": 95,
   "metadata": {},
   "outputs": [
    {
     "data": {
      "text/plain": [
       "1000"
      ]
     },
     "execution_count": 95,
     "metadata": {},
     "output_type": "execute_result"
    }
   ],
   "source": [
    "len(df)"
   ]
  },
  {
   "cell_type": "code",
   "execution_count": 97,
   "metadata": {},
   "outputs": [
    {
     "data": {
      "text/html": [
       "<div>\n",
       "<style scoped>\n",
       "    .dataframe tbody tr th:only-of-type {\n",
       "        vertical-align: middle;\n",
       "    }\n",
       "\n",
       "    .dataframe tbody tr th {\n",
       "        vertical-align: top;\n",
       "    }\n",
       "\n",
       "    .dataframe thead th {\n",
       "        text-align: right;\n",
       "    }\n",
       "</style>\n",
       "<table border=\"1\" class=\"dataframe\">\n",
       "  <thead>\n",
       "    <tr style=\"text-align: right;\">\n",
       "      <th></th>\n",
       "      <th>title</th>\n",
       "      <th>link</th>\n",
       "      <th>description</th>\n",
       "      <th>bloggername</th>\n",
       "      <th>bloggerlink</th>\n",
       "      <th>postdate</th>\n",
       "    </tr>\n",
       "  </thead>\n",
       "  <tbody>\n",
       "    <tr>\n",
       "      <th>0</th>\n",
       "      <td>뚝도&lt;b&gt;시장&lt;/b&gt; &lt;b&gt;서울&lt;/b&gt;맛집 양도 푸짐. 가격은 넘나 착한 &lt;b&gt;전통...</td>\n",
       "      <td>https://blog.naver.com/wearesjy?Redirect=Log&amp;l...</td>\n",
       "      <td>저도 결국 &lt;b&gt;시장&lt;/b&gt;보다는 마트를 더 자주 가게 되었던 것 같아요.. &lt;b&gt;...</td>\n",
       "      <td>꼬마부부의 신나는 하루하루~*</td>\n",
       "      <td>https://blog.naver.com/wearesjy</td>\n",
       "      <td>20210201</td>\n",
       "    </tr>\n",
       "    <tr>\n",
       "      <th>1</th>\n",
       "      <td>모바일 &lt;b&gt;서울&lt;/b&gt;사랑상품권 받자 &amp;quot;서대문 산 따라 &lt;b&gt;전통시장&lt;/...</td>\n",
       "      <td>https://blog.naver.com/sdmstory?Redirect=Log&amp;l...</td>\n",
       "      <td>모바일 &lt;b&gt;서울&lt;/b&gt;사랑상품권 추첨권을 받습니다. 단, 코스의 80% 이상 걸어...</td>\n",
       "      <td>서대문구청 공식 블로그</td>\n",
       "      <td>https://blog.naver.com/sdmstory</td>\n",
       "      <td>20210201</td>\n",
       "    </tr>\n",
       "    <tr>\n",
       "      <th>2</th>\n",
       "      <td>&lt;b&gt;서울 전통시장&lt;/b&gt; :: 남대문 시장 칼국수골목 먹방. 갈치골목은 실패 !</td>\n",
       "      <td>https://blog.naver.com/ehrxmr13?Redirect=Log&amp;l...</td>\n",
       "      <td>빈이에요 ;) 이번 포스팅은 #남대문&lt;b&gt;시장&lt;/b&gt; #남대문&lt;b&gt;시장&lt;/b&gt;먹거리...</td>\n",
       "      <td>솔직한매력, 빈이의 먹'log</td>\n",
       "      <td>https://blog.naver.com/ehrxmr13</td>\n",
       "      <td>20191111</td>\n",
       "    </tr>\n",
       "    <tr>\n",
       "      <th>3</th>\n",
       "      <td>&lt;b&gt;서울&lt;/b&gt; 성인태권도·청춘태권도 횐님 대표로 '가을맞이 &lt;b&gt;전통시장&lt;/b&gt;...</td>\n",
       "      <td>https://blog.naver.com/tm9696?Redirect=Log&amp;log...</td>\n",
       "      <td>AM 5: 30 포방터&lt;b&gt;시장&lt;/b&gt; &lt;b&gt;서울&lt;/b&gt;홍성교회 앞에서 코로나 19...</td>\n",
       "      <td>아리랑태권도장ArirangTKD(성인/외국인/다이어트/힐링</td>\n",
       "      <td>https://blog.naver.com/tm9696</td>\n",
       "      <td>20201020</td>\n",
       "    </tr>\n",
       "    <tr>\n",
       "      <th>4</th>\n",
       "      <td>[&lt;b&gt;서울&lt;/b&gt; | 강동구] 암사&lt;b&gt;시장&lt;/b&gt; (&lt;b&gt;전통시장&lt;/b&gt;)</td>\n",
       "      <td>https://blog.naver.com/orfeo21?Redirect=Log&amp;lo...</td>\n",
       "      <td>이에, &lt;b&gt;서울&lt;/b&gt; 대각선에 위치하고 있음에도 불구하고 1년에 한번 정도는 방...</td>\n",
       "      <td>데미안의 와인 노트</td>\n",
       "      <td>https://blog.naver.com/orfeo21</td>\n",
       "      <td>20190716</td>\n",
       "    </tr>\n",
       "  </tbody>\n",
       "</table>\n",
       "</div>"
      ],
      "text/plain": [
       "                                               title  \\\n",
       "0  뚝도<b>시장</b> <b>서울</b>맛집 양도 푸짐. 가격은 넘나 착한 <b>전통...   \n",
       "1  모바일 <b>서울</b>사랑상품권 받자 &quot;서대문 산 따라 <b>전통시장</...   \n",
       "2      <b>서울 전통시장</b> :: 남대문 시장 칼국수골목 먹방. 갈치골목은 실패 !   \n",
       "3  <b>서울</b> 성인태권도·청춘태권도 횐님 대표로 '가을맞이 <b>전통시장</b>...   \n",
       "4        [<b>서울</b> | 강동구] 암사<b>시장</b> (<b>전통시장</b>)   \n",
       "\n",
       "                                                link  \\\n",
       "0  https://blog.naver.com/wearesjy?Redirect=Log&l...   \n",
       "1  https://blog.naver.com/sdmstory?Redirect=Log&l...   \n",
       "2  https://blog.naver.com/ehrxmr13?Redirect=Log&l...   \n",
       "3  https://blog.naver.com/tm9696?Redirect=Log&log...   \n",
       "4  https://blog.naver.com/orfeo21?Redirect=Log&lo...   \n",
       "\n",
       "                                         description  \\\n",
       "0  저도 결국 <b>시장</b>보다는 마트를 더 자주 가게 되었던 것 같아요.. <b>...   \n",
       "1  모바일 <b>서울</b>사랑상품권 추첨권을 받습니다. 단, 코스의 80% 이상 걸어...   \n",
       "2  빈이에요 ;) 이번 포스팅은 #남대문<b>시장</b> #남대문<b>시장</b>먹거리...   \n",
       "3  AM 5: 30 포방터<b>시장</b> <b>서울</b>홍성교회 앞에서 코로나 19...   \n",
       "4  이에, <b>서울</b> 대각선에 위치하고 있음에도 불구하고 1년에 한번 정도는 방...   \n",
       "\n",
       "                        bloggername                      bloggerlink  postdate  \n",
       "0                  꼬마부부의 신나는 하루하루~*  https://blog.naver.com/wearesjy  20210201  \n",
       "1                      서대문구청 공식 블로그  https://blog.naver.com/sdmstory  20210201  \n",
       "2                  솔직한매력, 빈이의 먹'log  https://blog.naver.com/ehrxmr13  20191111  \n",
       "3  아리랑태권도장ArirangTKD(성인/외국인/다이어트/힐링    https://blog.naver.com/tm9696  20201020  \n",
       "4                        데미안의 와인 노트   https://blog.naver.com/orfeo21  20190716  "
      ]
     },
     "execution_count": 97,
     "metadata": {},
     "output_type": "execute_result"
    }
   ],
   "source": [
    "df.head()"
   ]
  },
  {
   "cell_type": "code",
   "execution_count": 99,
   "metadata": {},
   "outputs": [],
   "source": [
    "df = df.sort_values('postdate', ascending=False)"
   ]
  },
  {
   "cell_type": "code",
   "execution_count": 104,
   "metadata": {},
   "outputs": [],
   "source": [
    "df.to_excel('./py_data/crawling/전통시장/서울전통시장_블로그(전체).xlsx')"
   ]
  },
  {
   "cell_type": "code",
   "execution_count": 124,
   "metadata": {},
   "outputs": [],
   "source": [
    "df_2018 = df.iloc[:602]"
   ]
  },
  {
   "cell_type": "code",
   "execution_count": 125,
   "metadata": {},
   "outputs": [
    {
     "data": {
      "text/plain": [
       "602"
      ]
     },
     "execution_count": 125,
     "metadata": {},
     "output_type": "execute_result"
    }
   ],
   "source": [
    "len(df_2018)"
   ]
  },
  {
   "cell_type": "code",
   "execution_count": 126,
   "metadata": {},
   "outputs": [],
   "source": [
    "df_2018.to_excel('./py_data/crawling/전통시장/서울전통시장_블로그(2018~2021).xlsx')"
   ]
  },
  {
   "cell_type": "markdown",
   "metadata": {},
   "source": [
    "# 링크 저장"
   ]
  },
  {
   "cell_type": "code",
   "execution_count": 162,
   "metadata": {},
   "outputs": [],
   "source": [
    "df = pd.read_excel('./py_data/crawling/전통시장/서울전통시장_블로그(2021).xlsx', engine='openpyxl')"
   ]
  },
  {
   "cell_type": "code",
   "execution_count": 163,
   "metadata": {},
   "outputs": [
    {
     "data": {
      "text/html": [
       "<div>\n",
       "<style scoped>\n",
       "    .dataframe tbody tr th:only-of-type {\n",
       "        vertical-align: middle;\n",
       "    }\n",
       "\n",
       "    .dataframe tbody tr th {\n",
       "        vertical-align: top;\n",
       "    }\n",
       "\n",
       "    .dataframe thead th {\n",
       "        text-align: right;\n",
       "    }\n",
       "</style>\n",
       "<table border=\"1\" class=\"dataframe\">\n",
       "  <thead>\n",
       "    <tr style=\"text-align: right;\">\n",
       "      <th></th>\n",
       "      <th>Unnamed: 0</th>\n",
       "      <th>title</th>\n",
       "      <th>link</th>\n",
       "      <th>description</th>\n",
       "      <th>bloggername</th>\n",
       "      <th>bloggerlink</th>\n",
       "      <th>postdate</th>\n",
       "    </tr>\n",
       "  </thead>\n",
       "  <tbody>\n",
       "    <tr>\n",
       "      <th>0</th>\n",
       "      <td>60</td>\n",
       "      <td>[소진공] 소진공 조봉환 이사장, 신축년 설 명절맞이 &lt;b&gt;전통시장&lt;/b&gt;...</td>\n",
       "      <td>https://blog.naver.com/akdlf7369?Redirect=Log&amp;...</td>\n",
       "      <td>맞아 &lt;b&gt;전통시장&lt;/b&gt; 장보기 및 경기점검에 나섰다. 2일(화) 오전 &lt;b&gt;서울...</td>\n",
       "      <td>작품과 현실</td>\n",
       "      <td>https://blog.naver.com/akdlf7369</td>\n",
       "      <td>20210202</td>\n",
       "    </tr>\n",
       "    <tr>\n",
       "      <th>1</th>\n",
       "      <td>0</td>\n",
       "      <td>뚝도&lt;b&gt;시장&lt;/b&gt; &lt;b&gt;서울&lt;/b&gt;맛집 양도 푸짐. 가격은 넘나 착한 &lt;b&gt;전통...</td>\n",
       "      <td>https://blog.naver.com/wearesjy?Redirect=Log&amp;l...</td>\n",
       "      <td>저도 결국 &lt;b&gt;시장&lt;/b&gt;보다는 마트를 더 자주 가게 되었던 것 같아요.. &lt;b&gt;...</td>\n",
       "      <td>꼬마부부의 신나는 하루하루~*</td>\n",
       "      <td>https://blog.naver.com/wearesjy</td>\n",
       "      <td>20210201</td>\n",
       "    </tr>\n",
       "    <tr>\n",
       "      <th>2</th>\n",
       "      <td>18</td>\n",
       "      <td>&lt;b&gt;서울&lt;/b&gt;시 명절 장보기 혜택제공, &lt;b&gt;전통시장&lt;/b&gt; 특별 이벤트! 설 ...</td>\n",
       "      <td>https://blog.naver.com/ocublog?Redirect=Log&amp;lo...</td>\n",
       "      <td>광장&lt;b&gt;시장&lt;/b&gt;, 숭례문 수입 상가, 후암&lt;b&gt;시장&lt;/b&gt;, 금남&lt;b&gt;시장&lt;/...</td>\n",
       "      <td>200만이 선택한 한국열린사이버대학교</td>\n",
       "      <td>https://blog.naver.com/ocublog</td>\n",
       "      <td>20210201</td>\n",
       "    </tr>\n",
       "    <tr>\n",
       "      <th>3</th>\n",
       "      <td>1</td>\n",
       "      <td>모바일 &lt;b&gt;서울&lt;/b&gt;사랑상품권 받자 &amp;quot;서대문 산 따라 &lt;b&gt;전통시장&lt;/...</td>\n",
       "      <td>https://blog.naver.com/sdmstory?Redirect=Log&amp;l...</td>\n",
       "      <td>모바일 &lt;b&gt;서울&lt;/b&gt;사랑상품권 추첨권을 받습니다. 단, 코스의 80% 이상 걸어...</td>\n",
       "      <td>서대문구청 공식 블로그</td>\n",
       "      <td>https://blog.naver.com/sdmstory</td>\n",
       "      <td>20210201</td>\n",
       "    </tr>\n",
       "    <tr>\n",
       "      <th>4</th>\n",
       "      <td>50</td>\n",
       "      <td>백화점·대형마트 ‘바글바글’ &lt;b&gt;전통시장&lt;/b&gt; ‘썰렁’...</td>\n",
       "      <td>https://blog.naver.com/ironman236?Redirect=Log...</td>\n",
       "      <td>© 경향신문 31일 &lt;b&gt;서울&lt;/b&gt; 광진구 자양골목&lt;b&gt;시장&lt;/b&gt; 한 청과마트는...</td>\n",
       "      <td>아이언맨블러그</td>\n",
       "      <td>https://blog.naver.com/ironman236</td>\n",
       "      <td>20210201</td>\n",
       "    </tr>\n",
       "  </tbody>\n",
       "</table>\n",
       "</div>"
      ],
      "text/plain": [
       "   Unnamed: 0                                              title  \\\n",
       "0          60      [소진공] 소진공 조봉환 이사장, 신축년 설 명절맞이 <b>전통시장</b>...    \n",
       "1           0  뚝도<b>시장</b> <b>서울</b>맛집 양도 푸짐. 가격은 넘나 착한 <b>전통...   \n",
       "2          18  <b>서울</b>시 명절 장보기 혜택제공, <b>전통시장</b> 특별 이벤트! 설 ...   \n",
       "3           1  모바일 <b>서울</b>사랑상품권 받자 &quot;서대문 산 따라 <b>전통시장</...   \n",
       "4          50               백화점·대형마트 ‘바글바글’ <b>전통시장</b> ‘썰렁’...    \n",
       "\n",
       "                                                link  \\\n",
       "0  https://blog.naver.com/akdlf7369?Redirect=Log&...   \n",
       "1  https://blog.naver.com/wearesjy?Redirect=Log&l...   \n",
       "2  https://blog.naver.com/ocublog?Redirect=Log&lo...   \n",
       "3  https://blog.naver.com/sdmstory?Redirect=Log&l...   \n",
       "4  https://blog.naver.com/ironman236?Redirect=Log...   \n",
       "\n",
       "                                         description           bloggername  \\\n",
       "0  맞아 <b>전통시장</b> 장보기 및 경기점검에 나섰다. 2일(화) 오전 <b>서울...                작품과 현실   \n",
       "1  저도 결국 <b>시장</b>보다는 마트를 더 자주 가게 되었던 것 같아요.. <b>...      꼬마부부의 신나는 하루하루~*   \n",
       "2  광장<b>시장</b>, 숭례문 수입 상가, 후암<b>시장</b>, 금남<b>시장</...  200만이 선택한 한국열린사이버대학교   \n",
       "3  모바일 <b>서울</b>사랑상품권 추첨권을 받습니다. 단, 코스의 80% 이상 걸어...          서대문구청 공식 블로그   \n",
       "4  © 경향신문 31일 <b>서울</b> 광진구 자양골목<b>시장</b> 한 청과마트는...               아이언맨블러그   \n",
       "\n",
       "                         bloggerlink  postdate  \n",
       "0   https://blog.naver.com/akdlf7369  20210202  \n",
       "1    https://blog.naver.com/wearesjy  20210201  \n",
       "2     https://blog.naver.com/ocublog  20210201  \n",
       "3    https://blog.naver.com/sdmstory  20210201  \n",
       "4  https://blog.naver.com/ironman236  20210201  "
      ]
     },
     "execution_count": 163,
     "metadata": {},
     "output_type": "execute_result"
    }
   ],
   "source": [
    "df.head()"
   ]
  },
  {
   "cell_type": "code",
   "execution_count": 164,
   "metadata": {},
   "outputs": [],
   "source": [
    "links = []\n",
    "for link in df['link']:\n",
    "    links.append(link)"
   ]
  },
  {
   "cell_type": "code",
   "execution_count": 165,
   "metadata": {},
   "outputs": [
    {
     "data": {
      "text/plain": [
       "73"
      ]
     },
     "execution_count": 165,
     "metadata": {},
     "output_type": "execute_result"
    }
   ],
   "source": [
    "len(links)"
   ]
  },
  {
   "cell_type": "code",
   "execution_count": 166,
   "metadata": {},
   "outputs": [
    {
     "name": "stderr",
     "output_type": "stream",
     "text": [
      "crawling...: 100%|█████████████████████████████████████████████████████████████████████| 73/73 [05:46<00:00,  4.75s/it]\n"
     ]
    }
   ],
   "source": [
    "import requests\n",
    "from bs4 import BeautifulSoup as bs\n",
    "from selenium import webdriver\n",
    "import time\n",
    "from tqdm import tqdm\n",
    "import re\n",
    "\n",
    "regex = re.compile('.*postViewArea.*')\n",
    "\n",
    "driver = webdriver.Chrome('./py_data/crawling/chromedriver.exe')\n",
    "\n",
    "txt = ''\n",
    "for link in tqdm(links, 'crawling...'):\n",
    "    \n",
    "    driver.get(link)\n",
    "    driver.implicitly_wait(5)\n",
    "    time.sleep(1)\n",
    "\n",
    "    try:\n",
    "        driver.switch_to.frame('mainFrame')\n",
    "        html = driver.page_source\n",
    "        soup = bs(html, 'html.parser')\n",
    "        text = soup.find('div', class_=regex).text\n",
    "        text = text.replace('\\n\\n', '') + '\\n'\n",
    "        txt += text\n",
    "    except:\n",
    "        continue"
   ]
  },
  {
   "cell_type": "code",
   "execution_count": 167,
   "metadata": {},
   "outputs": [],
   "source": [
    "tmp = re.sub('[^ㄱ-힣 ]', '', txt)"
   ]
  },
  {
   "cell_type": "code",
   "execution_count": 168,
   "metadata": {},
   "outputs": [],
   "source": [
    "with open('./py_data/crawling/전통시장/서울전통시장_블로그(2021).txt', 'w', encoding='utf-8') as f:\n",
    "    f.write(tmp)"
   ]
  },
  {
   "cell_type": "code",
   "execution_count": null,
   "metadata": {},
   "outputs": [],
   "source": []
  },
  {
   "cell_type": "code",
   "execution_count": null,
   "metadata": {},
   "outputs": [],
   "source": []
  },
  {
   "cell_type": "code",
   "execution_count": null,
   "metadata": {},
   "outputs": [],
   "source": []
  }
 ],
 "metadata": {
  "kernelspec": {
   "display_name": "Python 3",
   "language": "python",
   "name": "python3"
  },
  "language_info": {
   "codemirror_mode": {
    "name": "ipython",
    "version": 3
   },
   "file_extension": ".py",
   "mimetype": "text/x-python",
   "name": "python",
   "nbconvert_exporter": "python",
   "pygments_lexer": "ipython3",
   "version": "3.8.5"
  }
 },
 "nbformat": 4,
 "nbformat_minor": 4
}
