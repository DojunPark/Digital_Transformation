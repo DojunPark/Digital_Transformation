{
 "cells": [
  {
   "cell_type": "markdown",
   "metadata": {},
   "source": [
    "# naver blog\n",
    "- 마찬가지로 막혀서 안됨"
   ]
  },
  {
   "cell_type": "code",
   "execution_count": 10,
   "metadata": {},
   "outputs": [
    {
     "ename": "TypeError",
     "evalue": "'NoneType' object is not subscriptable",
     "output_type": "error",
     "traceback": [
      "\u001b[0;31m---------------------------------------------------------------------------\u001b[0m",
      "\u001b[0;31mTypeError\u001b[0m                                 Traceback (most recent call last)",
      "\u001b[0;32m<ipython-input-10-5f6b23b10877>\u001b[0m in \u001b[0;36m<module>\u001b[0;34m\u001b[0m\n\u001b[1;32m      9\u001b[0m     \u001b[0mhtml\u001b[0m \u001b[0;34m=\u001b[0m \u001b[0mrequests\u001b[0m\u001b[0;34m.\u001b[0m\u001b[0mget\u001b[0m\u001b[0;34m(\u001b[0m\u001b[0murl\u001b[0m\u001b[0;34m)\u001b[0m\u001b[0;34m\u001b[0m\u001b[0;34m\u001b[0m\u001b[0m\n\u001b[1;32m     10\u001b[0m     \u001b[0msoup\u001b[0m \u001b[0;34m=\u001b[0m \u001b[0mbs\u001b[0m\u001b[0;34m(\u001b[0m\u001b[0mhtml\u001b[0m\u001b[0;34m.\u001b[0m\u001b[0mcontent\u001b[0m\u001b[0;34m,\u001b[0m \u001b[0;34m'html.parser'\u001b[0m\u001b[0;34m)\u001b[0m\u001b[0;34m\u001b[0m\u001b[0;34m\u001b[0m\u001b[0m\n\u001b[0;32m---> 11\u001b[0;31m     \u001b[0mhref\u001b[0m \u001b[0;34m=\u001b[0m \u001b[0msoup\u001b[0m\u001b[0;34m.\u001b[0m\u001b[0mfind\u001b[0m\u001b[0;34m(\u001b[0m\u001b[0;34m'a'\u001b[0m\u001b[0;34m,\u001b[0m \u001b[0mclass_\u001b[0m\u001b[0;34m=\u001b[0m\u001b[0;34m'desc_inner'\u001b[0m\u001b[0;34m)\u001b[0m\u001b[0;34m[\u001b[0m\u001b[0;34m'href'\u001b[0m\u001b[0;34m]\u001b[0m\u001b[0;34m\u001b[0m\u001b[0;34m\u001b[0m\u001b[0m\n\u001b[0m\u001b[1;32m     12\u001b[0m     \u001b[0mprint\u001b[0m\u001b[0;34m(\u001b[0m\u001b[0mhref\u001b[0m\u001b[0;34m)\u001b[0m\u001b[0;34m\u001b[0m\u001b[0;34m\u001b[0m\u001b[0m\n\u001b[1;32m     13\u001b[0m     \u001b[0;32mbreak\u001b[0m\u001b[0;34m\u001b[0m\u001b[0;34m\u001b[0m\u001b[0m\n",
      "\u001b[0;31mTypeError\u001b[0m: 'NoneType' object is not subscriptable"
     ]
    }
   ],
   "source": [
    "import requests\n",
    "from bs4 import BeautifulSoup as bs\n",
    "\n",
    "query = '코로나'\n",
    "pages = 3\n",
    "\n",
    "for page in range(1, pages+1):\n",
    "    url = 'https://section.blog.naver.com/Search/Post.nhn?pageNo='+str(page)+'&rangeType=ALL&orderBy=sim&keyword='+query\n",
    "    html = requests.get(url)\n",
    "    soup = bs(html.content, 'html.parser')\n",
    "    href = soup.find('a', class_='desc_inner')['href']\n",
    "    print(href)\n",
    "    break"
   ]
  },
  {
   "cell_type": "markdown",
   "metadata": {},
   "source": [
    "# 중앙일보 크롤링"
   ]
  },
  {
   "cell_type": "code",
   "execution_count": 30,
   "metadata": {},
   "outputs": [
    {
     "name": "stdout",
     "output_type": "stream",
     "text": [
      "0 번째 출력 >>>  1\n",
      "10\n",
      "1 번째 출력 >>>  2\n",
      "20\n",
      "2 번째 출력 >>>  3\n",
      "30\n",
      "['https://news.joins.com/article/23968749', 'https://news.joins.com/article/23968742', 'https://news.joins.com/article/23968695', 'https://news.joins.com/article/23968676', 'https://news.joins.com/article/23968628', 'https://news.joins.com/article/23968589', 'https://news.joins.com/article/23968581', 'https://news.joins.com/article/23968575', 'https://news.joins.com/article/23968566', 'https://news.joins.com/article/23968557', 'https://news.joins.com/article/23968556', 'https://news.joins.com/article/23968541', 'https://news.joins.com/article/23968528', 'https://news.joins.com/article/23968472', 'https://news.joins.com/article/23968461', 'https://news.joins.com/article/23968299', 'https://news.joins.com/article/23968289', 'https://news.joins.com/article/23968279', 'https://news.joins.com/article/23968278', 'https://news.joins.com/article/23968277', 'https://news.joins.com/article/23968276', 'https://news.joins.com/article/23968270', 'https://news.joins.com/article/23968265', 'https://news.joins.com/article/23968252', 'https://news.joins.com/article/23968258', 'https://news.joins.com/article/23968267', 'https://news.joins.com/article/23968223', 'https://news.joins.com/article/23968222', 'https://news.joins.com/article/23968226', 'https://news.joins.com/article/23968238']\n"
     ]
    }
   ],
   "source": [
    "import requests\n",
    "from bs4 import BeautifulSoup as bs\n",
    "\n",
    "query = '경제'\n",
    "pages = 3\n",
    "\n",
    "ls_href = []\n",
    "for i, p in enumerate(range(1, pages+1)):\n",
    "    print(i, '번째 출력 >>> ', p)\n",
    "    url = 'https://news.joins.com/Search/JoongangNews?page='+str(p)+'&Keyword='+query+'&SortType=New&SearchCategoryType=JoongangNews'\n",
    "    html = requests.get(url)\n",
    "    soup = bs(html.content, 'html.parser')\n",
    "    divs = soup.find_all('div', class_='text')\n",
    "    \n",
    "    for d in divs:\n",
    "        href = d.find('a', {'target':'_blank'})['href']\n",
    "        ls_href.append(href)\n",
    "    \n",
    "    print(len(ls_href))\n",
    "    \n",
    "print(ls_href)"
   ]
  },
  {
   "cell_type": "markdown",
   "metadata": {},
   "source": [
    "# 정규표현식"
   ]
  },
  {
   "cell_type": "code",
   "execution_count": 60,
   "metadata": {},
   "outputs": [],
   "source": [
    "import re\n",
    "\n",
    "ls_tit = []\n",
    "ls_artc = []\n",
    "\n",
    "for h in ls_href:\n",
    "    html = requests.get(h)\n",
    "    soup = bs(html.content, 'html.parser')\n",
    "    title = re.sub('[^0-9a-zA-Zㄱ-ㅣ가-힇 @,.]', '', soup.find('h1', class_='headline mg').text).strip().replace('  ', '')\n",
    "    article = re.sub('[^0-9a-zA-Zㄱ-ㅣ가-힇 @,.]', '', soup.find('div', {'id':'article_body'}).text).strip().replace('  ', '')\n",
    "    \n",
    "    ls_tit.append(title)\n",
    "    ls_artc.append(article)"
   ]
  },
  {
   "cell_type": "code",
   "execution_count": 61,
   "metadata": {},
   "outputs": [
    {
     "data": {
      "text/plain": [
       "['코에 걸면 코로나 퇴치 마스크 업체 코골이 완화 제품 인정',\n",
       " '단독주정차 민원 들다 30대 공무원 투신 CCTV에 찍혀',\n",
       " '본인 모르게 출판된 여군 탈북기...남은 가족 잡아가란 격',\n",
       " '상하위 순자산 격차, 3년새 100배167배 급격 악화',\n",
       " '22조 호주 장갑차 수주 결승한화 레드백 완전체 첫공개 영상',\n",
       " '재료연, 비대면 원격 지원 플랫폼 구축으로 원스톱 기업지원 서비스',\n",
       " '소복 입고 999배 집단시위 나선 필라테스연맹',\n",
       " '나랏빚 폭주 11월에만 13조 늘어 826조원',\n",
       " '중대법 적용땐 문 닫았을 것 사고 뒤 산재 0 바뀐비결',\n",
       " '국토안보부 수장도 사임의회 폭동 여파 트럼프 사람들 줄사표',\n",
       " '연초 신용대출 급증 우려에금융위 작년과 비교해 안정적',\n",
       " '코로나가 가져온 지각 변동 1인당 국민소득,앞선 듯',\n",
       " '코로나 직격탄 외인투자 6년 만 최저200억 달러는 지켰다',\n",
       " '해경선 우리 해역이다 제주 동남쪽 해상서 측량선과 대치',\n",
       " '2030년 어촌소득 7000만원으로 올린다 도시소득의 90',\n",
       " '중국 노인들의 반란실버 경제가 떠오른다',\n",
       " '주역 대가 김석진 옹 올 하반기 일터 돌아가나 곤궁하다',\n",
       " '예영준의 시시각각 진보보수보다 더 중요한 것',\n",
       " '윤가는 나서는 성격 아니다대망론에 갈린 파평 윤씨',\n",
       " '성태윤의 이코노믹스 정부 지출 효율적으로 못 쓰면 세금 내는 국민 허리만 휜다',\n",
       " '강찬수의 에코 사이언스 문재인 정부의 녹색 희망 고문500일 더 겪어야 하나',\n",
       " '글로벌 아이 지지자를 속인 대통령의 최후',\n",
       " '라이프 트렌드 코로나19 팬데믹 속 한 해를 빛낸 79개 우수브랜드 선정',\n",
       " '하루 44조 사고 팔았다, 사상 최대 공방전삼천피 170P 요동',\n",
       " '현대백화점 판교점 폭풍 성장5년 만에 매출 1조, 국내 빅5로',\n",
       " '사설 민심 제대로 읽지 못한 대통령의 신년사',\n",
       " '경제 브리핑 bhc치킨 지난해 매출 4000억원 돌파',\n",
       " '경제 브리핑 손태승 우리금융 회장 ESG 경영 원년',\n",
       " '서명수의 노후준비 5년 설계 저금리일수록 연금이 일시금보다 인기인 이유',\n",
       " '해리스가 백인 보그, 피부색 보정 논란']"
      ]
     },
     "execution_count": 61,
     "metadata": {},
     "output_type": "execute_result"
    }
   ],
   "source": [
    "ls_tit"
   ]
  },
  {
   "cell_type": "code",
   "execution_count": 63,
   "metadata": {},
   "outputs": [
    {
     "data": {
      "text/plain": [
       "'사진 코고리 마스크 판매 홈페이지 코에 걸기만 해도 각종 병원균과 바이러스를 막아준다는 일명 코고리 마스크에 대해 경찰이 수사에 나섰다. 판매 업체는 12일 홈페이지를 통해 마스크가 아닌 코골이 완화 제품임을 인정하면서도 코고리를 열심 착용해 생명을 구해 달라고 공지했다.12일 전라북도경찰청에 따르면 식품의약품안전처로부터 도내 의료기기 제조업체에 대한 고발장을 접수한 정읍경찰서가 최근 수사에 착수했다. 의료기기법 위반 혐의다.판매 업체는 그동안 코고리 마스크가 신종 코로나바이러스 감염증코로나19 차단 효과가 있다고 광고해 왔다. 제품에서 원적외선과 음이온 등 보호막을 발산해 신진대사를 촉진하고 노폐물 배설을 돕는 효과가 있다는 설명도 덧붙였다. 정가는 10만원이지만 50 할인된 5만원에 판매했다. 업체 측은 한번 구매하면 반영구적으로 사용할 수 있으니 비용 대비 효과가 우수하다고 주장했다.제품의 효용성에 관해 논란이 일자 식약처는 지난 8일 업체를 점검했고, 광고 문구는 수정됐다. 업체 측은 코고리 안심 마스크는 공산품으로서 99.8 항균 탈취하는 공기정화기로 수정됐다며 의료기기 비강 확장기로서 호흡량을 증가시켜 코골이를 완화하는 제품이라고 밝혔다. 코골이 방지 용도로 만들어진 제품으로, 감염병 예방과는 거리가 멀다는 점을 인정한 셈이다.그러면서도 업체 측은 코로나19 종식을 위해 열심 보급하겠다며 국민 여러분도 코고리를 열심 착용해 생명을 구하고 경제를 살려 달라고 밝혔다.경찰은 고발장 내용을 살핀 뒤 조만간 업체 관계자를 불러 조사할 방침이다.이가영 기자 lee.gayoung1@joongang.co.kr'"
      ]
     },
     "execution_count": 63,
     "metadata": {},
     "output_type": "execute_result"
    }
   ],
   "source": [
    "ls_artc[0]"
   ]
  }
 ],
 "metadata": {
  "kernelspec": {
   "display_name": "Python 3",
   "language": "python",
   "name": "python3"
  },
  "language_info": {
   "codemirror_mode": {
    "name": "ipython",
    "version": 3
   },
   "file_extension": ".py",
   "mimetype": "text/x-python",
   "name": "python",
   "nbconvert_exporter": "python",
   "pygments_lexer": "ipython3",
   "version": "3.8.5"
  }
 },
 "nbformat": 4,
 "nbformat_minor": 4
}
