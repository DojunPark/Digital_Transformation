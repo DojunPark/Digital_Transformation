{
 "cells": [
  {
   "cell_type": "markdown",
   "metadata": {},
   "source": [
    "# TextBlob을 이용한 자연어처리 - 긍,부정 문장\n",
    "- Textblob는 텍스트 정보를 처리하는 파이썬 라이브러리\n",
    "- 품사 태깅, 명사구 추출, 감정 분석 및 분류, 번역 등과 같은 일반적인 자연 언어 처리(Natural Language Processing, NLP)를 위한 API를 제공\n"
   ]
  },
  {
   "cell_type": "markdown",
   "metadata": {},
   "source": [
    "# Language Detection"
   ]
  },
  {
   "cell_type": "code",
   "execution_count": 2,
   "metadata": {},
   "outputs": [],
   "source": [
    "from textblob import TextBlob as tb\n",
    "import nltk\n",
    "import pandas as pd"
   ]
  },
  {
   "cell_type": "code",
   "execution_count": 3,
   "metadata": {},
   "outputs": [
    {
     "name": "stdout",
     "output_type": "stream",
     "text": [
      "txt1 :  ko\n",
      "txt2 :  en\n"
     ]
    }
   ],
   "source": [
    "txt1=tb('맥주가 좋았습니다.')\n",
    "txt2=tb('Beer was good.')\n",
    "print('txt1 : ', txt1.detect_language())\n",
    "print('txt2 : ', txt2.detect_language())"
   ]
  },
  {
   "cell_type": "markdown",
   "metadata": {},
   "source": [
    "# Translation"
   ]
  },
  {
   "cell_type": "code",
   "execution_count": 5,
   "metadata": {},
   "outputs": [
    {
     "data": {
      "text/plain": [
       "TextBlob(\"Beer was good.\")"
      ]
     },
     "execution_count": 5,
     "metadata": {},
     "output_type": "execute_result"
    }
   ],
   "source": [
    "txt=tb('맥주가 좋았습니다.')\n",
    "txt.translate(to='en')"
   ]
  },
  {
   "cell_type": "code",
   "execution_count": 6,
   "metadata": {},
   "outputs": [
    {
     "data": {
      "text/plain": [
       "TextBlob(\"맥주는 좋았습니다.\")"
      ]
     },
     "execution_count": 6,
     "metadata": {},
     "output_type": "execute_result"
    }
   ],
   "source": [
    "txt=tb('Beer was good.')\n",
    "txt.translate(to='ko')"
   ]
  },
  {
   "cell_type": "markdown",
   "metadata": {},
   "source": [
    "# 영문 텍스트 감정 분석\n",
    "- 간단한 문장을 학습하여 긍정(pos)과 부정(neg)을 분류하는 단순한 분석기를 구현\n",
    "- NaiveBayesClassifier 참조: https://excelsior-cjh.tistory.com/45 / https://wikidocs.net/22892"
   ]
  },
  {
   "cell_type": "code",
   "execution_count": 7,
   "metadata": {},
   "outputs": [],
   "source": [
    "from textblob.classifiers import NaiveBayesClassifier\n",
    "\n",
    "train = [('I love this sandwich.', 'pos'),\n",
    "         ('This is an amazing place!', 'pos'),\n",
    "         ('I feel very good about these beers.', 'pos'),\n",
    "         ('This is my best work.', 'pos'),\n",
    "         (\"What an awesome view\", 'pos'),\n",
    "         ('I do not like this restaurant', 'neg'),\n",
    "         ('I am tired of this stuff.', 'neg'),\n",
    "         (\"I can't deal with this\", 'neg'),\n",
    "         ('He is my sworn enemy!', 'neg'),\n",
    "         ('My boss is horrible.', 'neg')\n",
    "        ]\n",
    "\n",
    "test = [('The beer was good.', 'pos'),\n",
    "        ('I do not enjoy my job', 'neg'),\n",
    "        (\"I ain't feeling dandy today.\", 'neg'),\n",
    "        (\"I feel amazing!\", 'pos'),\n",
    "        ('Gary is a friend of mine.', 'pos'),\n",
    "        (\"I can't believe I'm doing this.\", 'neg')\n",
    "       ]"
   ]
  },
  {
   "cell_type": "code",
   "execution_count": 13,
   "metadata": {},
   "outputs": [
    {
     "name": "stdout",
     "output_type": "stream",
     "text": [
      "10 ('I love this sandwich.', 'pos')\n",
      "6 ('The beer was good.', 'pos')\n"
     ]
    }
   ],
   "source": [
    "print(len(train), train[0])\n",
    "print(len(test), test[0])"
   ]
  },
  {
   "cell_type": "markdown",
   "metadata": {},
   "source": [
    "- train"
   ]
  },
  {
   "cell_type": "code",
   "execution_count": 14,
   "metadata": {},
   "outputs": [],
   "source": [
    "pos_neg = NaiveBayesClassifier(train)"
   ]
  },
  {
   "cell_type": "markdown",
   "metadata": {},
   "source": [
    "- test"
   ]
  },
  {
   "cell_type": "code",
   "execution_count": 15,
   "metadata": {},
   "outputs": [
    {
     "name": "stdout",
     "output_type": "stream",
     "text": [
      "pos\n",
      "neg\n"
     ]
    }
   ],
   "source": [
    "print(pos_neg.classify(\"Their burgers are amazing\"))  # \"pos\"\n",
    "print(pos_neg.classify(\"I don't like their pizza.\"))  # \"neg\""
   ]
  },
  {
   "cell_type": "code",
   "execution_count": 20,
   "metadata": {},
   "outputs": [
    {
     "name": "stdout",
     "output_type": "stream",
     "text": [
      "1번 문장: 정답 >>> pos, 예측 >>> pos\n",
      "2번 문장: 정답 >>> neg, 예측 >>> neg\n",
      "3번 문장: 정답 >>> neg, 예측 >>> neg\n",
      "4번 문장: 정답 >>> pos, 예측 >>> pos\n",
      "5번 문장: 정답 >>> pos, 예측 >>> neg\n",
      "6번 문장: 정답 >>> neg, 예측 >>> neg\n"
     ]
    }
   ],
   "source": [
    "for i, t in enumerate(test):\n",
    "    print(f'{i+1}번 문장: 정답 >>> {t[1]}, 예측 >>> {pos_neg.classify(t[0])}')"
   ]
  },
  {
   "cell_type": "code",
   "execution_count": 19,
   "metadata": {},
   "outputs": [
    {
     "data": {
      "text/plain": [
       "'neg'"
      ]
     },
     "execution_count": 19,
     "metadata": {},
     "output_type": "execute_result"
    }
   ],
   "source": [
    "# TextBlob 객체를 사용하여 여러 문장으로 구성된 텍스트도 분류\n",
    "\n",
    "tag2 = tb(\"The beer was amazing. \"\n",
    "         \"But the hangover was horrible. My boss was not happy.\",\n",
    "         classifier=pos_neg)\n",
    "tag2.classify()  # 전체 문장을 한 문장으로 예측한 결과"
   ]
  },
  {
   "cell_type": "code",
   "execution_count": 25,
   "metadata": {},
   "outputs": [
    {
     "name": "stdout",
     "output_type": "stream",
     "text": [
      "The beer was amazing.\n",
      "pos\n",
      "-----------------\n",
      "But the hangover was horrible.\n",
      "neg\n",
      "-----------------\n",
      "My boss was not happy.\n",
      "neg\n",
      "-----------------\n"
     ]
    }
   ],
   "source": [
    "for sentence in tag2.sentences:\n",
    "    print(sentence)\n",
    "    print(sentence.classify())\n",
    "    print('-----------------')"
   ]
  },
  {
   "cell_type": "code",
   "execution_count": 27,
   "metadata": {},
   "outputs": [
    {
     "data": {
      "text/plain": [
       "0.8333333333333334"
      ]
     },
     "execution_count": 27,
     "metadata": {},
     "output_type": "execute_result"
    }
   ],
   "source": [
    "# test 문장을 통해 정확도 확인\n",
    "\n",
    "pos_neg.accuracy(test)"
   ]
  },
  {
   "cell_type": "code",
   "execution_count": 31,
   "metadata": {},
   "outputs": [
    {
     "name": "stdout",
     "output_type": "stream",
     "text": [
      "Most Informative Features\n",
      "          contains(this) = True              neg : pos    =      2.3 : 1.0\n",
      "          contains(this) = False             pos : neg    =      1.8 : 1.0\n",
      "          contains(This) = False             neg : pos    =      1.6 : 1.0\n",
      "            contains(an) = False             neg : pos    =      1.6 : 1.0\n",
      "             contains(I) = False             pos : neg    =      1.4 : 1.0\n"
     ]
    }
   ],
   "source": [
    "# 분류기준\n",
    "\n",
    "pos_neg.show_informative_features(5)"
   ]
  },
  {
   "cell_type": "markdown",
   "metadata": {},
   "source": [
    "# 한글 텍스트 감정 분석"
   ]
  },
  {
   "cell_type": "code",
   "execution_count": 32,
   "metadata": {},
   "outputs": [],
   "source": [
    "train = [('나는 이 샌드위치를 정말 좋아해.', '긍정'),\n",
    "         ('정말 멋진 곳이에요!', '긍정'),\n",
    "         ('나는 이 맥주들이 아주 좋다고 생각해요.', '긍정'),\n",
    "         ('이것은 나의 최고의 작품입니다.', '긍정'),\n",
    "         (\"정말 멋진 광경이다\", \"긍정\"),\n",
    "         ('난 이 식당 싫어', '부정'),\n",
    "         ('난 이게 지겨워.', '부정'),\n",
    "         (\"이 문제는 처리할 수 없습니다.\", \"부정\"),\n",
    "         ('그는 나의 불구대천의 원수이다.', '부정'),\n",
    "         ('내 상사는 끔찍해.', '부정'),\n",
    "         ('나는 내 꿈을 믿는다', '긍정'),\n",
    "         ('나는 매일 최선을 다하고 있다', '긍정'),\n",
    "         ('나는 있는 그대로의 나를 사랑한다', '긍정'),\n",
    "         ('나는 내 삶을 100% 책임진다', '긍정'),\n",
    "         ('가장 좋은 일은 아직 생기지 않았다', '긍정'),\n",
    "         ('나는 매일 나의 삶에 감사한다', '긍정'),\n",
    "         ('새로나온 휴대폰은 배터리 교체가 되지 않아 불편하다', '부정'),\n",
    "         ('이번에 나온 영화 너무 재밌다. 주말에 또 보고 싶다.', '긍정'),\n",
    "         ('나의 아버지는 이해가 안된다', '부정'),\n",
    "         ('나는 어머니와 있을 때 퉁명해진다', '부정'),\n",
    "         ('나는 어머니와 있을 때 불편할 때가 있다.', '부정'),\n",
    "         ('치킨집에 선결제로 주문했는데 돈은 결제가 되었는데 치킨집에선 주문이 안들어왔다고합니다.','부정'),\n",
    "         ('지금 현재 네이버 실시간 검색어에 떴고, 여전히 고객센터는 전화연결이 되지않습니다. ','부정'),\n",
    "         ('이럴거면 요기요처럼 아예 접속도 안되게하던가 결제를 막았어야하는데','부정'),\n",
    "         ('결제해서 가게에 돈 준 것도 아니고 본인들이 가져가놓고 전화도 안받으면 돈은 어떻게 돌려받습니까?','부정'),\n",
    "         ('너무 유용하고 편리하네요.. ','긍정'),\n",
    "         ('처음 구입한다고 쿠폰 받고 이용하니깐 저렴하게 먹을 수 있었고 배달시간도 만족스러워서 좋았습니다.','긍정'),\n",
    "         ('배달의 민족 강추 합니다. ','긍정'),\n",
    "         ('자주 이용할께요ㅡㅡㅡ강추 강추!!!','긍정')\n",
    "    \n",
    "        ]\n",
    "\n",
    "test = [('맥주가 좋았습니다.', '긍정'),\n",
    "        ('난 내 일을 즐기지 않는다', '부정'),\n",
    "        ('오늘은 기분이 안 좋아요.', '부정'),\n",
    "        ('놀라워요!', '긍정'),\n",
    "        ('네드는 나의 친구입니다.', '긍정'),\n",
    "        ('제가 이렇게 하고 있다니 믿을 수가 없어요.', '부정')\n",
    "       ]"
   ]
  },
  {
   "cell_type": "code",
   "execution_count": 33,
   "metadata": {},
   "outputs": [
    {
     "name": "stdout",
     "output_type": "stream",
     "text": [
      "29 ('나는 이 샌드위치를 정말 좋아해.', '긍정')\n",
      "6 ('맥주가 좋았습니다.', '긍정')\n"
     ]
    }
   ],
   "source": [
    "print(len(train), train[0])\n",
    "print(len(test), test[0])"
   ]
  },
  {
   "cell_type": "markdown",
   "metadata": {},
   "source": [
    "# 형태소 분석 없이 학습"
   ]
  },
  {
   "cell_type": "code",
   "execution_count": 34,
   "metadata": {},
   "outputs": [
    {
     "name": "stdout",
     "output_type": "stream",
     "text": [
      "Most Informative Features\n",
      "            contains(나는) = True               긍정 : 부정     =      2.5 : 1.0\n",
      "            contains(나는) = False              부정 : 긍정     =      1.5 : 1.0\n",
      "             contains(내) = True               긍정 : 부정     =      1.4 : 1.0\n",
      "            contains(나의) = True               부정 : 긍정     =      1.2 : 1.0\n",
      "             contains(이) = True               부정 : 긍정     =      1.2 : 1.0\n",
      "            contains(정말) = False              부정 : 긍정     =      1.2 : 1.0\n",
      "             contains(수) = True               부정 : 긍정     =      1.2 : 1.0\n",
      "            contains(있다) = True               부정 : 긍정     =      1.2 : 1.0\n",
      "             contains(난) = False              긍정 : 부정     =      1.2 : 1.0\n",
      "            contains(돈은) = False              긍정 : 부정     =      1.2 : 1.0\n"
     ]
    }
   ],
   "source": [
    "pos_neg = NaiveBayesClassifier(train)  # 데이터 학습\n",
    "pos_neg.show_informative_features()    # 분류기준 확인"
   ]
  },
  {
   "cell_type": "code",
   "execution_count": 36,
   "metadata": {},
   "outputs": [
    {
     "data": {
      "text/plain": [
       "0.5"
      ]
     },
     "execution_count": 36,
     "metadata": {},
     "output_type": "execute_result"
    }
   ],
   "source": [
    "pos_neg.accuracy(test)"
   ]
  },
  {
   "cell_type": "code",
   "execution_count": 38,
   "metadata": {},
   "outputs": [
    {
     "name": "stdout",
     "output_type": "stream",
     "text": [
      "1번 문장: 정답: 긍정, 예측: 긍정\n",
      "2번 문장: 정답: 부정, 예측: 긍정\n",
      "3번 문장: 정답: 부정, 예측: 긍정\n",
      "4번 문장: 정답: 긍정, 예측: 긍정\n",
      "5번 문장: 정답: 긍정, 예측: 긍정\n",
      "6번 문장: 정답: 부정, 예측: 긍정\n"
     ]
    }
   ],
   "source": [
    "for i, t in enumerate(test):\n",
    "    print(f'{i+1}번 문장: 정답: {t[1]}, 예측: {pos_neg.classify(t[0])}')"
   ]
  },
  {
   "cell_type": "markdown",
   "metadata": {},
   "source": [
    "# 형태소 분석 후 데이터 학습"
   ]
  },
  {
   "cell_type": "code",
   "execution_count": 42,
   "metadata": {},
   "outputs": [
    {
     "name": "stdout",
     "output_type": "stream",
     "text": [
      "[(['나/Noun', '는/Josa', '이/Noun', '샌드위치/Noun', '를/Josa', '정말/Noun', '좋아해/Adjective', './Punctuation'], '긍정'), (['정말/Noun', '멋진/Adjective', '곳/Noun', '이에요/Josa', '!/Punctuation'], '긍정'), (['나/Noun', '는/Josa', '이/Noun', '맥주/Noun', '들/Suffix', '이/Josa', '아주/Noun', '좋다고/Adjective', '생각/Noun', '해요/Verb', './Punctuation'], '긍정'), (['이/Determiner', '것/Noun', '은/Josa', '나/Noun', '의/Josa', '최고/Noun', '의/Josa', '작품/Noun', '입니다/Adjective', './Punctuation'], '긍정'), (['정말/Noun', '멋진/Adjective', '광경/Noun', '이다/Josa'], '긍정')]\n"
     ]
    }
   ],
   "source": [
    "# train 데이터의 텍스트를 형태소 분석하여 train_data를 생성\n",
    "from konlpy.tag import Okt\n",
    "okt=Okt()\n",
    "\n",
    "# 한글 단어 뒤에 태그를 붙여줘야 분류기가 정확하게 분류할 수 있음\n",
    "train_data = [(['/'.join(token) for token in okt.pos(sentence)], result) for [sentence, result] in train]\n",
    "\n",
    "print(train_data[:5])"
   ]
  },
  {
   "cell_type": "code",
   "execution_count": 49,
   "metadata": {},
   "outputs": [],
   "source": [
    "pos_neg = NaiveBayesClassifier(train_data)  # 데이터 학습"
   ]
  },
  {
   "cell_type": "code",
   "execution_count": 50,
   "metadata": {},
   "outputs": [
    {
     "data": {
      "text/plain": [
       "0.5"
      ]
     },
     "execution_count": 50,
     "metadata": {},
     "output_type": "execute_result"
    }
   ],
   "source": [
    "test_data = [(['/'.join(token) for token in okt.pos(sentence)], result) for [sentence, result] in test]\n",
    "\n",
    "pos_neg.accuracy(test_data)"
   ]
  },
  {
   "cell_type": "code",
   "execution_count": 75,
   "metadata": {},
   "outputs": [
    {
     "name": "stdout",
     "output_type": "stream",
     "text": [
      "1번 문장: 정답: 긍정, 예측: 긍정\n",
      "2번 문장: 정답: 부정, 예측: 긍정\n",
      "3번 문장: 정답: 부정, 예측: 긍정\n",
      "4번 문장: 정답: 긍정, 예측: 긍정\n",
      "5번 문장: 정답: 긍정, 예측: 긍정\n",
      "6번 문장: 정답: 부정, 예측: 긍정\n"
     ]
    }
   ],
   "source": [
    "for i, t in enumerate(test_data):\n",
    "    print(f'{i+1}번 문장: 정답: {t[1]}, 예측: {pos_neg.classify(t[0])}')"
   ]
  },
  {
   "cell_type": "code",
   "execution_count": 51,
   "metadata": {},
   "outputs": [
    {
     "name": "stdout",
     "output_type": "stream",
     "text": [
      "Most Informative Features\n",
      "        contains(이/Josa) = True               부정 : 긍정     =      2.8 : 1.0\n",
      "        contains(도/Josa) = True               부정 : 긍정     =      2.0 : 1.0\n",
      "        contains(에/Josa) = True               부정 : 긍정     =      1.7 : 1.0\n",
      "        contains(은/Josa) = True               부정 : 긍정     =      1.7 : 1.0\n",
      "        contains(이/Noun) = True               부정 : 긍정     =      1.7 : 1.0\n",
      "        contains(나/Noun) = True               긍정 : 부정     =      1.6 : 1.0\n",
      "        contains(의/Josa) = True               긍정 : 부정     =      1.5 : 1.0\n",
      "        contains(가/Josa) = False              긍정 : 부정     =      1.4 : 1.0\n",
      "        contains(내/Noun) = True               긍정 : 부정     =      1.4 : 1.0\n",
      "        contains(나/Noun) = False              부정 : 긍정     =      1.4 : 1.0\n"
     ]
    }
   ],
   "source": [
    "pos_neg.show_informative_features()"
   ]
  },
  {
   "cell_type": "markdown",
   "metadata": {},
   "source": [
    "# 배민 어플 후기 감성 분석"
   ]
  },
  {
   "cell_type": "code",
   "execution_count": 95,
   "metadata": {},
   "outputs": [
    {
     "name": "stderr",
     "output_type": "stream",
     "text": [
      "C:\\Users\\dojun\\anaconda3\\envs\\python38\\lib\\site-packages\\IPython\\core\\interactiveshell.py:3146: DtypeWarning: Columns (1,2,3,4,5,6,7,8,9,10,11,12,13,14,15,16,17,18,19,20,21,22,23,24,25,26,27,28,29,30,31,32,33,34,35,36,37,38,39,40,41,42,43,44,45,46,47,48,49,50,51,52,53,54,55,56,57,58,59,60,61,62,63,64,65,66,67,68,69,70,71,72,73,74,75,76,77,78,79,80,81,82,83,84,85,86,87,88,89,90,91,92,93,94,95,96,97,98,99,100,101,102,103,104,105,106,107,108,109,110,111,112,113,114,115,116,117,118,119,120,121,122,123,124,125,126,127,128,129,130,131,132,133,134,135,136,137,138,139,140,141,142,143,144,145,146,147,148,149,150,151,153,154,155,156,157) have mixed types.Specify dtype option on import or set low_memory=False.\n",
      "  has_raised = await self.run_ast_nodes(code_ast.body, cell_name,\n"
     ]
    }
   ],
   "source": [
    "import pandas as pd\n",
    "\n",
    "df = pd.read_csv('./py_data/sentimental/배민어플후기.csv', encoding='euc-kr')"
   ]
  },
  {
   "cell_type": "code",
   "execution_count": 96,
   "metadata": {},
   "outputs": [
    {
     "data": {
      "text/html": [
       "<div>\n",
       "<style scoped>\n",
       "    .dataframe tbody tr th:only-of-type {\n",
       "        vertical-align: middle;\n",
       "    }\n",
       "\n",
       "    .dataframe tbody tr th {\n",
       "        vertical-align: top;\n",
       "    }\n",
       "\n",
       "    .dataframe thead th {\n",
       "        text-align: right;\n",
       "    }\n",
       "</style>\n",
       "<table border=\"1\" class=\"dataframe\">\n",
       "  <thead>\n",
       "    <tr style=\"text-align: right;\">\n",
       "      <th></th>\n",
       "      <th>Reviews</th>\n",
       "      <th>pos_neg</th>\n",
       "    </tr>\n",
       "  </thead>\n",
       "  <tbody>\n",
       "    <tr>\n",
       "      <th>45</th>\n",
       "      <td>쿠폰사논게 있어서 쓰려고 주문하기 하니 계속 오류네요ㅜㅜ 주문하기로 넘어가질 않아요ㅜㅜ</td>\n",
       "      <td>부정</td>\n",
       "    </tr>\n",
       "    <tr>\n",
       "      <th>46</th>\n",
       "      <td>편하고 좋아요 근데 쿠폰이벤때 업체에서 주문취소하고 전화안받고 개떡같은 업주들 몇있음</td>\n",
       "      <td>부정</td>\n",
       "    </tr>\n",
       "    <tr>\n",
       "      <th>47</th>\n",
       "      <td>배민 쿠폰 너무 좋아요~덕분에 자주 시켜 먹어서 지출도 늘었지만 편하고 좋아요</td>\n",
       "      <td>긍정</td>\n",
       "    </tr>\n",
       "    <tr>\n",
       "      <th>48</th>\n",
       "      <td>쓰리치킨 구성도좋고 한번에 세가지를 즐길수있어 넘 좋아요~~ 배달임에도 불구하고 갓...</td>\n",
       "      <td>긍정</td>\n",
       "    </tr>\n",
       "    <tr>\n",
       "      <th>49</th>\n",
       "      <td>배민 카테고리별 정리도 잘되있고 맛집선정해서 따로 나뉘서있어서 이용이 편하고 좋아요</td>\n",
       "      <td>긍정</td>\n",
       "    </tr>\n",
       "  </tbody>\n",
       "</table>\n",
       "</div>"
      ],
      "text/plain": [
       "                                              Reviews pos_neg\n",
       "45   쿠폰사논게 있어서 쓰려고 주문하기 하니 계속 오류네요ㅜㅜ 주문하기로 넘어가질 않아요ㅜㅜ      부정\n",
       "46    편하고 좋아요 근데 쿠폰이벤때 업체에서 주문취소하고 전화안받고 개떡같은 업주들 몇있음      부정\n",
       "47        배민 쿠폰 너무 좋아요~덕분에 자주 시켜 먹어서 지출도 늘었지만 편하고 좋아요      긍정\n",
       "48  쓰리치킨 구성도좋고 한번에 세가지를 즐길수있어 넘 좋아요~~ 배달임에도 불구하고 갓...      긍정\n",
       "49     배민 카테고리별 정리도 잘되있고 맛집선정해서 따로 나뉘서있어서 이용이 편하고 좋아요      긍정"
      ]
     },
     "execution_count": 96,
     "metadata": {},
     "output_type": "execute_result"
    }
   ],
   "source": [
    "df = df[['Reviews', 'pos_neg']][:50]\n",
    "df.tail()"
   ]
  },
  {
   "cell_type": "code",
   "execution_count": 102,
   "metadata": {},
   "outputs": [],
   "source": [
    "tmp_train = df[:40]\n",
    "tmp_test = df[40:]"
   ]
  },
  {
   "cell_type": "code",
   "execution_count": 103,
   "metadata": {},
   "outputs": [
    {
     "name": "stdout",
     "output_type": "stream",
     "text": [
      "40\n",
      "10\n"
     ]
    }
   ],
   "source": [
    "print(len(tmp_train))\n",
    "print(len(tmp_test))"
   ]
  },
  {
   "cell_type": "code",
   "execution_count": 116,
   "metadata": {},
   "outputs": [],
   "source": [
    "train = []\n",
    "for t in tmp_train.iterrows():\n",
    "    train.append((t[1][0], t[1][1]))"
   ]
  },
  {
   "cell_type": "code",
   "execution_count": 117,
   "metadata": {},
   "outputs": [],
   "source": [
    "test = []\n",
    "for t in tmp_test.iterrows():\n",
    "    test.append((t[1][0], t[1][1]))"
   ]
  },
  {
   "cell_type": "code",
   "execution_count": 118,
   "metadata": {},
   "outputs": [
    {
     "name": "stdout",
     "output_type": "stream",
     "text": [
      "Most Informative Features\n",
      "           contains(앞으로) = True               부정 : 긍정     =      4.7 : 1.0\n",
      "            contains(많이) = True               부정 : 긍정     =      3.3 : 1.0\n",
      "           contains(배달이) = True               부정 : 긍정     =      3.3 : 1.0\n",
      "           contains(그런데) = True               부정 : 긍정     =      2.0 : 1.0\n",
      "             contains(다) = True               부정 : 긍정     =      2.0 : 1.0\n",
      "            contains(믿고) = True               부정 : 긍정     =      2.0 : 1.0\n",
      "            contains(배민) = True               부정 : 긍정     =      2.0 : 1.0\n",
      "             contains(앱) = True               부정 : 긍정     =      2.0 : 1.0\n",
      "            contains(와서) = True               부정 : 긍정     =      2.0 : 1.0\n",
      "           contains(있어서) = True               부정 : 긍정     =      2.0 : 1.0\n"
     ]
    }
   ],
   "source": [
    "pos_neg = NaiveBayesClassifier(train)  # 데이터 학습\n",
    "pos_neg.show_informative_features()    # 분류기준 확인"
   ]
  },
  {
   "cell_type": "code",
   "execution_count": 119,
   "metadata": {},
   "outputs": [
    {
     "data": {
      "text/plain": [
       "0.6"
      ]
     },
     "execution_count": 119,
     "metadata": {},
     "output_type": "execute_result"
    }
   ],
   "source": [
    "pos_neg.accuracy(test)"
   ]
  },
  {
   "cell_type": "markdown",
   "metadata": {},
   "source": [
    "## 배민 리뷰 감정 분석 - 형태소 분석"
   ]
  },
  {
   "cell_type": "code",
   "execution_count": 121,
   "metadata": {},
   "outputs": [
    {
     "name": "stdout",
     "output_type": "stream",
     "text": [
      "[(['어이/Noun', '가/Josa', '없어서/Adjective', '말/Noun', '도안/Noun', '나오네요/Verb', '받지도/Verb', '않은/Verb', '음식/Noun', '을/Josa', '결제/Noun', '하/Suffix', '라는/Josa', '게말/Noun', '이/Josa', '되는건/Verb', '가요/Noun', '?/Punctuation', '출근/Noun', '도/Josa', '해야하는데/Verb', '이/Determiner', '늦/Noun', '은/Josa', '시간/Noun', '에/Josa', '전화/Noun', '오는것도/Verb', '이해/Noun', '를/Josa', '못/Noun', '하겠네요/Verb', '덕분/Noun', '에/Josa', '자다가/Verb', '깼네요/Verb', 'ㅡㅡ/KoreanParticle', '이/Determiner', '제이/Noun', '어플/Noun', '안/VerbPrefix', '씁니다/Verb', 'ㅡㅡ/KoreanParticle', '이따위/Modifier', '로/Noun', '하는거아니라고/Verb', '봅니다/Verb', 'ㅡㅡ/KoreanParticle', '와/Verb', '타부/Noun', '타/Modifier', '말/Noun', '도/Josa', '없이/Adverb', '결제/Noun', '라니/Josa', '../Punctuation', '어이/Noun', '가/Josa', '없네요/Adjective', '../Punctuation', 'ㅡㅡ/KoreanParticle'], '부정'), (['제/Noun', '동생/Noun', '추천/Noun', '으로/Josa', '주문/Noun', '해본건데/Verb', '동생/Noun', '말/Noun', '이/Josa', '틀리지/Verb', '않았어요/Verb', './Punctuation', '브랜드/Noun', '친/Noun', '키보/Noun', '다/Josa', '제/Noun', '입맛/Noun', '엔/Josa', '딱이더라구요/Adjective', './Punctuation', '양도/Noun', '푸/Verb', '짐/Noun', '하고/Josa', '무엇/Noun', '보다/Josa', '닭다리/Noun', '3/Number', '닭/Noun', '날개/Noun', '3/Number', '씩/Adverb', '와서/Verb', '너무/Adverb', '좋았어요/Adjective', '~~~^-^/Punctuation', '기분/Noun', '좋은/Adjective', '맛집/Noun', '이네/Josa', '요/Noun', '~~~/Punctuation', '사장/Noun', '님/Suffix', '번창/Noun', '하시구요/Verb', './Punctuation', '감사합니다/Verb', '앞/Noun', '으로/Josa', '계속/Noun', '당/Modifier', '골/Noun', '할게요/Verb', '~~~/Punctuation'], '긍정')]\n"
     ]
    }
   ],
   "source": [
    "# train 데이터의 텍스트를 형태소 분석하여 train_data를 생성\n",
    "from konlpy.tag import Okt\n",
    "okt=Okt()\n",
    "\n",
    "# 한글 단어 뒤에 태그를 붙여줘야 분류기가 정확하게 분류할 수 있음\n",
    "train_data = [(['/'.join(token) for token in okt.pos(sentence)], result) for [sentence, result] in train]\n",
    "\n",
    "print(train_data[:2])"
   ]
  },
  {
   "cell_type": "code",
   "execution_count": 122,
   "metadata": {},
   "outputs": [],
   "source": [
    "pos_neg = NaiveBayesClassifier(train_data)  # 데이터 학습"
   ]
  },
  {
   "cell_type": "code",
   "execution_count": 123,
   "metadata": {},
   "outputs": [
    {
     "data": {
      "text/plain": [
       "0.6"
      ]
     },
     "execution_count": 123,
     "metadata": {},
     "output_type": "execute_result"
    }
   ],
   "source": [
    "test_data = [(['/'.join(token) for token in okt.pos(sentence)], result) for [sentence, result] in test]\n",
    "\n",
    "pos_neg.accuracy(test_data)"
   ]
  },
  {
   "cell_type": "code",
   "execution_count": 124,
   "metadata": {},
   "outputs": [
    {
     "name": "stdout",
     "output_type": "stream",
     "text": [
      "Most Informative Features\n",
      "        contains(가/Josa) = True               부정 : 긍정     =      6.0 : 1.0\n",
      "     contains(많이/Adverb) = True               부정 : 긍정     =      4.7 : 1.0\n",
      "       contains(배민/Noun) = True               부정 : 긍정     =      4.7 : 1.0\n",
      "        contains(앱/Noun) = True               부정 : 긍정     =      4.7 : 1.0\n",
      "      contains(합니다/Verb) = True               부정 : 긍정     =      4.7 : 1.0\n",
      "       contains(혜택/Noun) = True               부정 : 긍정     =      4.7 : 1.0\n",
      "        contains(은/Josa) = True               부정 : 긍정     =      4.4 : 1.0\n",
      "        contains(가/Josa) = False              긍정 : 부정     =      3.5 : 1.0\n",
      "        contains(곳/Noun) = True               부정 : 긍정     =      3.3 : 1.0\n",
      "       contains(리뷰/Noun) = True               부정 : 긍정     =      3.3 : 1.0\n"
     ]
    }
   ],
   "source": [
    "pos_neg.show_informative_features()"
   ]
  },
  {
   "cell_type": "markdown",
   "metadata": {},
   "source": [
    "## 배민 리뷰 감정 분석 - 형태소 분석 / 조사 제거"
   ]
  },
  {
   "cell_type": "code",
   "execution_count": 131,
   "metadata": {},
   "outputs": [],
   "source": [
    "train_data = [(['/'.join(token) for token in okt.pos(sentence) if (token[1] != 'Josa')], result) for [sentence, result] in train]\n",
    "test_data = [(['/'.join(token) for token in okt.pos(sentence) if (token[1] != 'Josa')], result) for [sentence, result] in test]"
   ]
  },
  {
   "cell_type": "code",
   "execution_count": 132,
   "metadata": {},
   "outputs": [],
   "source": [
    "pos_neg = NaiveBayesClassifier(train_data)  # 데이터 학습"
   ]
  },
  {
   "cell_type": "code",
   "execution_count": 133,
   "metadata": {},
   "outputs": [
    {
     "data": {
      "text/plain": [
       "0.6"
      ]
     },
     "execution_count": 133,
     "metadata": {},
     "output_type": "execute_result"
    }
   ],
   "source": [
    "pos_neg.accuracy(test_data)"
   ]
  },
  {
   "cell_type": "code",
   "execution_count": 134,
   "metadata": {},
   "outputs": [
    {
     "name": "stdout",
     "output_type": "stream",
     "text": [
      "Most Informative Features\n",
      "     contains(많이/Adverb) = True               부정 : 긍정     =      4.7 : 1.0\n",
      "       contains(배민/Noun) = True               부정 : 긍정     =      4.7 : 1.0\n",
      "        contains(앱/Noun) = True               부정 : 긍정     =      4.7 : 1.0\n",
      "      contains(합니다/Verb) = True               부정 : 긍정     =      4.7 : 1.0\n",
      "       contains(혜택/Noun) = True               부정 : 긍정     =      4.7 : 1.0\n",
      "        contains(곳/Noun) = True               부정 : 긍정     =      3.3 : 1.0\n",
      "       contains(리뷰/Noun) = True               부정 : 긍정     =      3.3 : 1.0\n",
      "  contains(못/VerbPrefix) = True               부정 : 긍정     =      3.3 : 1.0\n",
      "       contains(사람/Noun) = True               부정 : 긍정     =      3.3 : 1.0\n",
      "      contains(서비스/Noun) = True               부정 : 긍정     =      3.3 : 1.0\n"
     ]
    }
   ],
   "source": [
    "pos_neg.show_informative_features()"
   ]
  },
  {
   "cell_type": "markdown",
   "metadata": {},
   "source": [
    "## 배민 리뷰 감정 분석 - 형태소 분석 / 명사"
   ]
  },
  {
   "cell_type": "code",
   "execution_count": 136,
   "metadata": {},
   "outputs": [
    {
     "name": "stdout",
     "output_type": "stream",
     "text": [
      "accuracy:  0.6\n",
      "Most Informative Features\n",
      "       contains(배민/Noun) = True               부정 : 긍정     =      4.7 : 1.0\n",
      "        contains(앱/Noun) = True               부정 : 긍정     =      4.7 : 1.0\n",
      "       contains(혜택/Noun) = True               부정 : 긍정     =      4.7 : 1.0\n",
      "        contains(곳/Noun) = True               부정 : 긍정     =      3.3 : 1.0\n",
      "       contains(리뷰/Noun) = True               부정 : 긍정     =      3.3 : 1.0\n",
      "       contains(사람/Noun) = True               부정 : 긍정     =      3.3 : 1.0\n",
      "      contains(서비스/Noun) = True               부정 : 긍정     =      3.3 : 1.0\n",
      "        contains(앞/Noun) = True               부정 : 긍정     =      2.8 : 1.0\n",
      "        contains(더/Noun) = True               부정 : 긍정     =      2.0 : 1.0\n",
      "        contains(말/Noun) = True               부정 : 긍정     =      2.0 : 1.0\n"
     ]
    }
   ],
   "source": [
    "train_data = [(['/'.join(token) for token in okt.pos(sentence) if (token[1] == 'Noun')], result) for [sentence, result] in train]\n",
    "test_data = [(['/'.join(token) for token in okt.pos(sentence) if (token[1] == 'Noun')], result) for [sentence, result] in test]\n",
    "\n",
    "pos_neg = NaiveBayesClassifier(train_data)  # 데이터 학습\n",
    "\n",
    "print('accuracy: ', pos_neg.accuracy(test_data))\n",
    "pos_neg.show_informative_features()"
   ]
  },
  {
   "cell_type": "markdown",
   "metadata": {},
   "source": [
    "## 배민 리뷰 감정 분석 - 형태소 분석 / 형용사"
   ]
  },
  {
   "cell_type": "code",
   "execution_count": 137,
   "metadata": {},
   "outputs": [
    {
     "name": "stdout",
     "output_type": "stream",
     "text": [
      "accuracy:  0.6\n",
      "Most Informative Features\n",
      " contains(좋은데/Adjective) = True               부정 : 긍정     =      3.3 : 1.0\n",
      "contains(없었는데/Adjective) = True               부정 : 긍정     =      2.0 : 1.0\n",
      " contains(있어서/Adjective) = True               부정 : 긍정     =      2.0 : 1.0\n",
      " contains(편하고/Adjective) = True               부정 : 긍정     =      2.0 : 1.0\n",
      " contains(맛있는/Adjective) = True               긍정 : 부정     =      1.5 : 1.0\n",
      " contains(입니다/Adjective) = False              부정 : 긍정     =      1.3 : 1.0\n",
      " contains(좋아요/Adjective) = False              부정 : 긍정     =      1.3 : 1.0\n",
      " contains(맛있게/Adjective) = False              부정 : 긍정     =      1.2 : 1.0\n",
      "contains(맛있어요/Adjective) = False              부정 : 긍정     =      1.2 : 1.0\n",
      "  contains(좋은/Adjective) = True               부정 : 긍정     =      1.2 : 1.0\n"
     ]
    }
   ],
   "source": [
    "train_data = [(['/'.join(token) for token in okt.pos(sentence) if (token[1] == 'Adjective')], result) for [sentence, result] in train]\n",
    "test_data = [(['/'.join(token) for token in okt.pos(sentence) if (token[1] == 'Adjective')], result) for [sentence, result] in test]\n",
    "\n",
    "pos_neg = NaiveBayesClassifier(train_data)  # 데이터 학습\n",
    "\n",
    "print('accuracy: ', pos_neg.accuracy(test_data))\n",
    "pos_neg.show_informative_features()"
   ]
  },
  {
   "cell_type": "markdown",
   "metadata": {},
   "source": [
    "## 배민 리뷰 감정 분석 - 형태소 분석 / 부사"
   ]
  },
  {
   "cell_type": "code",
   "execution_count": 138,
   "metadata": {},
   "outputs": [
    {
     "name": "stdout",
     "output_type": "stream",
     "text": [
      "accuracy:  0.5\n",
      "Most Informative Features\n",
      "     contains(많이/Adverb) = True               부정 : 긍정     =      4.7 : 1.0\n",
      "     contains(없이/Adverb) = True               부정 : 긍정     =      2.0 : 1.0\n",
      "      contains(다/Adverb) = True               부정 : 긍정     =      1.4 : 1.0\n",
      "     contains(많이/Adverb) = False              긍정 : 부정     =      1.3 : 1.0\n",
      "   contains(관계없이/Adverb) = False              긍정 : 부정     =      1.1 : 1.0\n",
      "     contains(너무/Adverb) = True               긍정 : 부정     =      1.1 : 1.0\n",
      "      contains(다/Adverb) = False              긍정 : 부정     =      1.1 : 1.0\n",
      "     contains(없이/Adverb) = False              긍정 : 부정     =      1.1 : 1.0\n",
      "      contains(딱/Adverb) = False              부정 : 긍정     =      1.1 : 1.0\n",
      "     contains(너무/Adverb) = False              부정 : 긍정     =      1.0 : 1.0\n"
     ]
    }
   ],
   "source": [
    "train_data = [(['/'.join(token) for token in okt.pos(sentence) if (token[1] == 'Adverb')], result) for [sentence, result] in train]\n",
    "test_data = [(['/'.join(token) for token in okt.pos(sentence) if (token[1] == 'Adverb')], result) for [sentence, result] in test]\n",
    "\n",
    "pos_neg = NaiveBayesClassifier(train_data)  # 데이터 학습\n",
    "\n",
    "print('accuracy: ', pos_neg.accuracy(test_data))\n",
    "pos_neg.show_informative_features()"
   ]
  },
  {
   "cell_type": "markdown",
   "metadata": {},
   "source": [
    "## 배민 리뷰 감정 분석 - 형태소 분석 / 형용사, KoreanParticle"
   ]
  },
  {
   "cell_type": "code",
   "execution_count": 139,
   "metadata": {},
   "outputs": [
    {
     "name": "stdout",
     "output_type": "stream",
     "text": [
      "accuracy:  0.6\n",
      "Most Informative Features\n",
      " contains(좋은데/Adjective) = True               부정 : 긍정     =      3.3 : 1.0\n",
      "contains(ㅋ/KoreanParticle) = True               부정 : 긍정     =      2.0 : 1.0\n",
      "contains(없었는데/Adjective) = True               부정 : 긍정     =      2.0 : 1.0\n",
      " contains(있어서/Adjective) = True               부정 : 긍정     =      2.0 : 1.0\n",
      " contains(편하고/Adjective) = True               부정 : 긍정     =      2.0 : 1.0\n",
      " contains(맛있는/Adjective) = True               긍정 : 부정     =      1.5 : 1.0\n",
      " contains(입니다/Adjective) = False              부정 : 긍정     =      1.3 : 1.0\n",
      " contains(좋아요/Adjective) = False              부정 : 긍정     =      1.3 : 1.0\n",
      " contains(맛있게/Adjective) = False              부정 : 긍정     =      1.2 : 1.0\n",
      "contains(맛있어요/Adjective) = False              부정 : 긍정     =      1.2 : 1.0\n"
     ]
    }
   ],
   "source": [
    "train_data = [(['/'.join(token) for token in okt.pos(sentence) if (token[1] == 'Adjective')|(token[1] == 'KoreanParticle')], result) for [sentence, result] in train]\n",
    "test_data = [(['/'.join(token) for token in okt.pos(sentence) if (token[1] == 'Adjective')|(token[1] == 'KoreanParticle')], result) for [sentence, result] in test]\n",
    "\n",
    "pos_neg = NaiveBayesClassifier(train_data)  # 데이터 학습\n",
    "\n",
    "print('accuracy: ', pos_neg.accuracy(test_data))\n",
    "pos_neg.show_informative_features()"
   ]
  },
  {
   "cell_type": "markdown",
   "metadata": {},
   "source": [
    "## 배민 리뷰 감정 분석 - 형태소 분석 / 명사, 형용사, KoreanParticle"
   ]
  },
  {
   "cell_type": "code",
   "execution_count": 140,
   "metadata": {},
   "outputs": [
    {
     "name": "stdout",
     "output_type": "stream",
     "text": [
      "accuracy:  0.6\n",
      "Most Informative Features\n",
      "       contains(배민/Noun) = True               부정 : 긍정     =      4.7 : 1.0\n",
      "        contains(앱/Noun) = True               부정 : 긍정     =      4.7 : 1.0\n",
      "       contains(혜택/Noun) = True               부정 : 긍정     =      4.7 : 1.0\n",
      "        contains(곳/Noun) = True               부정 : 긍정     =      3.3 : 1.0\n",
      "       contains(리뷰/Noun) = True               부정 : 긍정     =      3.3 : 1.0\n",
      "       contains(사람/Noun) = True               부정 : 긍정     =      3.3 : 1.0\n",
      "      contains(서비스/Noun) = True               부정 : 긍정     =      3.3 : 1.0\n",
      " contains(좋은데/Adjective) = True               부정 : 긍정     =      3.3 : 1.0\n",
      "        contains(앞/Noun) = True               부정 : 긍정     =      2.8 : 1.0\n",
      "contains(ㅋ/KoreanParticle) = True               부정 : 긍정     =      2.0 : 1.0\n"
     ]
    }
   ],
   "source": [
    "train_data = [(['/'.join(token) for token in okt.pos(sentence) if (token[1] == 'Adjective')|(token[1] == 'KoreanParticle')|(token[1] == 'Noun')], result) for [sentence, result] in train]\n",
    "test_data = [(['/'.join(token) for token in okt.pos(sentence) if (token[1] == 'Adjective')|(token[1] == 'KoreanParticle')|(token[1] == 'Noun')], result) for [sentence, result] in test]\n",
    "\n",
    "pos_neg = NaiveBayesClassifier(train_data)  # 데이터 학습\n",
    "\n",
    "print('accuracy: ', pos_neg.accuracy(test_data))\n",
    "pos_neg.show_informative_features()"
   ]
  },
  {
   "cell_type": "markdown",
   "metadata": {},
   "source": [
    "## 배민 리뷰 감정 분석 - 형태소 분석 / 명사, 형용사, 부사, KoreanParticle"
   ]
  },
  {
   "cell_type": "code",
   "execution_count": 142,
   "metadata": {},
   "outputs": [
    {
     "name": "stdout",
     "output_type": "stream",
     "text": [
      "accuracy:  0.6\n",
      "Most Informative Features\n",
      "     contains(많이/Adverb) = True               부정 : 긍정     =      4.7 : 1.0\n",
      "       contains(배민/Noun) = True               부정 : 긍정     =      4.7 : 1.0\n",
      "        contains(앱/Noun) = True               부정 : 긍정     =      4.7 : 1.0\n",
      "       contains(혜택/Noun) = True               부정 : 긍정     =      4.7 : 1.0\n",
      "        contains(곳/Noun) = True               부정 : 긍정     =      3.3 : 1.0\n",
      "       contains(리뷰/Noun) = True               부정 : 긍정     =      3.3 : 1.0\n",
      "       contains(사람/Noun) = True               부정 : 긍정     =      3.3 : 1.0\n",
      "      contains(서비스/Noun) = True               부정 : 긍정     =      3.3 : 1.0\n",
      " contains(좋은데/Adjective) = True               부정 : 긍정     =      3.3 : 1.0\n",
      "        contains(앞/Noun) = True               부정 : 긍정     =      2.8 : 1.0\n"
     ]
    }
   ],
   "source": [
    "train_data = [(['/'.join(token) for token in okt.pos(sentence) if (token[1] == 'Adjective')|(token[1] == 'KoreanParticle')|(token[1] == 'Noun')|(token[1] == 'Adverb')], result) for [sentence, result] in train]\n",
    "test_data = [(['/'.join(token) for token in okt.pos(sentence) if (token[1] == 'Adjective')|(token[1] == 'KoreanParticle')|(token[1] == 'Noun')|(token[1] == 'Adverb')], result) for [sentence, result] in test]\n",
    "\n",
    "pos_neg = NaiveBayesClassifier(train_data)  # 데이터 학습\n",
    "\n",
    "print('accuracy: ', pos_neg.accuracy(test_data))\n",
    "pos_neg.show_informative_features()"
   ]
  },
  {
   "cell_type": "code",
   "execution_count": 145,
   "metadata": {},
   "outputs": [
    {
     "name": "stdout",
     "output_type": "stream",
     "text": [
      "1번 문장 >>> 정답: 긍정, 예측: 긍정\n",
      "2번 문장 >>> 정답: 부정, 예측: 긍정\n",
      "3번 문장 >>> 정답: 부정, 예측: 긍정\n",
      "4번 문장 >>> 정답: 긍정, 예측: 긍정\n",
      "5번 문장 >>> 정답: 긍정, 예측: 긍정\n",
      "6번 문장 >>> 정답: 부정, 예측: 긍정\n",
      "7번 문장 >>> 정답: 부정, 예측: 긍정\n",
      "8번 문장 >>> 정답: 긍정, 예측: 긍정\n",
      "9번 문장 >>> 정답: 긍정, 예측: 긍정\n",
      "10번 문장 >>> 정답: 긍정, 예측: 긍정\n"
     ]
    }
   ],
   "source": [
    "for i, data in enumerate(test_data):\n",
    "    print(f'{i+1}번 문장 >>> 정답: {data[1]}, 예측: {pos_neg.classify(data[0])}')"
   ]
  },
  {
   "cell_type": "code",
   "execution_count": 146,
   "metadata": {},
   "outputs": [
    {
     "name": "stdout",
     "output_type": "stream",
     "text": [
      "1번 문장 >>> 정답: 부정, 예측: 부정\n",
      "2번 문장 >>> 정답: 긍정, 예측: 긍정\n",
      "3번 문장 >>> 정답: 부정, 예측: 부정\n",
      "4번 문장 >>> 정답: 부정, 예측: 부정\n",
      "5번 문장 >>> 정답: 긍정, 예측: 긍정\n",
      "6번 문장 >>> 정답: 긍정, 예측: 긍정\n",
      "7번 문장 >>> 정답: 긍정, 예측: 긍정\n",
      "8번 문장 >>> 정답: 부정, 예측: 부정\n",
      "9번 문장 >>> 정답: 긍정, 예측: 긍정\n",
      "10번 문장 >>> 정답: 부정, 예측: 부정\n",
      "11번 문장 >>> 정답: 긍정, 예측: 긍정\n",
      "12번 문장 >>> 정답: 긍정, 예측: 긍정\n",
      "13번 문장 >>> 정답: 긍정, 예측: 긍정\n",
      "14번 문장 >>> 정답: 긍정, 예측: 긍정\n",
      "15번 문장 >>> 정답: 긍정, 예측: 긍정\n",
      "16번 문장 >>> 정답: 긍정, 예측: 긍정\n",
      "17번 문장 >>> 정답: 긍정, 예측: 긍정\n",
      "18번 문장 >>> 정답: 긍정, 예측: 긍정\n",
      "19번 문장 >>> 정답: 긍정, 예측: 긍정\n",
      "20번 문장 >>> 정답: 긍정, 예측: 긍정\n",
      "21번 문장 >>> 정답: 부정, 예측: 부정\n",
      "22번 문장 >>> 정답: 긍정, 예측: 긍정\n",
      "23번 문장 >>> 정답: 긍정, 예측: 긍정\n",
      "24번 문장 >>> 정답: 긍정, 예측: 긍정\n",
      "25번 문장 >>> 정답: 부정, 예측: 부정\n",
      "26번 문장 >>> 정답: 긍정, 예측: 긍정\n",
      "27번 문장 >>> 정답: 긍정, 예측: 긍정\n",
      "28번 문장 >>> 정답: 부정, 예측: 부정\n",
      "29번 문장 >>> 정답: 긍정, 예측: 긍정\n",
      "30번 문장 >>> 정답: 긍정, 예측: 긍정\n",
      "31번 문장 >>> 정답: 긍정, 예측: 긍정\n",
      "32번 문장 >>> 정답: 긍정, 예측: 긍정\n",
      "33번 문장 >>> 정답: 부정, 예측: 부정\n",
      "34번 문장 >>> 정답: 부정, 예측: 부정\n",
      "35번 문장 >>> 정답: 부정, 예측: 부정\n",
      "36번 문장 >>> 정답: 긍정, 예측: 긍정\n",
      "37번 문장 >>> 정답: 부정, 예측: 부정\n",
      "38번 문장 >>> 정답: 부정, 예측: 부정\n",
      "39번 문장 >>> 정답: 긍정, 예측: 긍정\n",
      "40번 문장 >>> 정답: 긍정, 예측: 긍정\n"
     ]
    }
   ],
   "source": [
    "for i, data in enumerate(train_data):\n",
    "    print(f'{i+1}번 문장 >>> 정답: {data[1]}, 예측: {pos_neg.classify(data[0])}')"
   ]
  }
 ],
 "metadata": {
  "kernelspec": {
   "display_name": "Python 3",
   "language": "python",
   "name": "python3"
  },
  "language_info": {
   "codemirror_mode": {
    "name": "ipython",
    "version": 3
   },
   "file_extension": ".py",
   "mimetype": "text/x-python",
   "name": "python",
   "nbconvert_exporter": "python",
   "pygments_lexer": "ipython3",
   "version": "3.8.5"
  }
 },
 "nbformat": 4,
 "nbformat_minor": 4
}
