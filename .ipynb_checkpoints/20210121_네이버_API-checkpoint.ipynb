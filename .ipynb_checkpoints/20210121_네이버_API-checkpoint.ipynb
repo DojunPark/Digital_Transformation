{
 "cells": [
  {
   "cell_type": "markdown",
   "metadata": {},
   "source": [
    "# NAVER API\n",
    "- https://developers.naver.com/main/\n",
    "- 사용 api: 검색, 검색 트렌드\n",
    "- 해당 어플리케이션의 id, password 확인"
   ]
  },
  {
   "cell_type": "code",
   "execution_count": 38,
   "metadata": {},
   "outputs": [],
   "source": [
    "with open('C:/Users/dojun\\Documents/api_keys/naver_api.txt') as f:\n",
    "    client_id = f.readline().replace('\\n', '')\n",
    "    client_secret = f.readline()"
   ]
  },
  {
   "cell_type": "code",
   "execution_count": 110,
   "metadata": {},
   "outputs": [],
   "source": [
    "import requests\n",
    "import pandas as pd\n",
    "import urllib.request\n",
    "from urllib.request import quote\n",
    "from urllib.parse import urlparse\n",
    "from bs4 import BeautifulSoup as bs\n",
    "\n",
    "keyword = '코로나'\n",
    "url = 'https://openapi.naver.com/v1/search/news.xml?query=' + keyword + '&display=15&start=1'\n",
    "html = requests.get(url,headers = {\"X-Naver-Client-Id\" : client_id,\n",
    "                                   \"X-Naver-Client-Secret\" : client_secret})\n",
    "\n",
    "soup = bs(html.content, 'html.parser')"
   ]
  },
  {
   "cell_type": "code",
   "execution_count": 111,
   "metadata": {},
   "outputs": [
    {
     "name": "stdout",
     "output_type": "stream",
     "text": [
      "15\n"
     ]
    }
   ],
   "source": [
    "print(len(soup.find_all('item')))"
   ]
  },
  {
   "cell_type": "code",
   "execution_count": 112,
   "metadata": {},
   "outputs": [
    {
     "name": "stdout",
     "output_type": "stream",
     "text": [
      "<?xml version=\"1.0\" encoding=\"UTF-8\"?>\n",
      "<rss version=\"2.0\">\n",
      " <channel>\n",
      "  <title>\n",
      "   Naver Open API - news ::'코로나'\n",
      "  </title>\n",
      "  <link/>\n",
      "  https://search.naver.com\n",
      "  <description>\n",
      "   Naver Search Result\n",
      "  </description>\n",
      "  <lastbuilddate>\n",
      "   Thu, 21 Jan 2021 11:28:22 +0900\n",
      "  </lastbuilddate>\n",
      "  <total>\n",
      "   6217312\n",
      "  </total>\n",
      "  <start>\n",
      "   1\n",
      "  </start>\n",
      "  <display>\n",
      "   15\n",
      "  </display>\n",
      "  <item>\n",
      "   <title>\n",
      "    안성 공도 &amp;apos;쌍용 더 플래티넘 프리미어&amp;apos; 25일 무순위 청약 실시\n",
      "   </title>\n",
      "   <originallink>\n",
      "    https://biz.chosun.com/site/data/html_dir/2021/01/21/2021012101484.html?utm_source=naver&amp;utm_medium=original&amp;utm_campaign=biz\n",
      "   </originallink>\n",
      "   <link/>\n",
      "   https://news.naver.com/main/read.nhn?mode=LSD&amp;mid=sec&amp;sid1=004&amp;oid=366&amp;aid=0000656514\n",
      "   <description>\n",
      "    언택트 출입을 통해 접촉에 의해 쉽게 전파되는 &lt;b&gt;코로나&lt;/b&gt;바이러스 감염을 예방할 수 있다. 한편, 오는 25일(월) 사후 무순위 청약 진행하는 안성 공도 ‘쌍용 더 플래티넘 프리미어’의 견본주택은 경기도 평택시 소사동 107...\n",
      "   </description>\n",
      "   <pubdate>\n",
      "    Thu, 21 Jan 2021 11:27:00 +0900\n",
      "   </pubdate>\n",
      "  </item>\n",
      "  <item>\n",
      "   <title>\n",
      "    뮤지컬업계 &amp;quot;공연장 감염전파 &amp;apos;0%&amp;apos;…동반자만 같이 앉게 해달라&amp;quot;\n",
      "   </title>\n",
      "   <originallink>\n",
      "    https://www.hankyung.com/life/article/2021012119057\n",
      "   </originallink>\n",
      "   <link/>\n",
      "   https://news.naver.com/main/read.nhn?mode=LSD&amp;mid=sec&amp;sid1=103&amp;oid=015&amp;aid=0004487234\n",
      "   <description>\n",
      "    현재 공연장은 신종 &lt;b&gt;코로나&lt;/b&gt;바이러스 감염증(&lt;b&gt;코로나&lt;/b&gt;19) 방역 조치에 따라 두 자리 띄어 앉기가 실시되면서 사실상 &amp;apos;셧다운 상태&amp;apos;에 들어갔다. 공연예술통합전산망(KOPIS)에 따르면 거리두기 2.5단계 시행 이후인 작년 12월...\n",
      "   </description>\n",
      "   <pubdate>\n",
      "    Thu, 21 Jan 2021 11:27:00 +0900\n",
      "   </pubdate>\n",
      "  </item>\n",
      "  <item>\n",
      "   <title>\n",
      "    중견련, 해외 출입국 애로 해소 지원 서비스 내놔\n",
      "   </title>\n",
      "   <originallink>\n",
      "    https://www.hankyung.com/economy/article/202101219972i\n",
      "   </originallink>\n",
      "   <link/>\n",
      "   https://news.naver.com/main/read.nhn?mode=LSD&amp;mid=sec&amp;sid1=101&amp;oid=015&amp;aid=0004487235\n",
      "   <description>\n",
      "    출국 관련 특별 컨설팅에서부터 귀국 이후 감염 안전 확보에 이르기까지 단계별로 세분화된 서비스를 통해 2만 건 넘는 해외 출장을 신종 &lt;b&gt;코로나&lt;/b&gt;바이러스 감염증(&lt;b&gt;코로나&lt;/b&gt;19) 감염 없이 진행했다는 게 회사 측 설명이다....\n",
      "   </description>\n",
      "   <pubdate>\n",
      "    Thu, 21 Jan 2021 11:27:00 +0900\n",
      "   </pubdate>\n",
      "  </item>\n",
      "  <item>\n",
      "   <title>\n",
      "    경기도, &lt;b&gt;코로나&lt;/b&gt;19 극복위해 취약계층 공공일자리 4,300여개 만든다\n",
      "   </title>\n",
      "   <originallink>\n",
      "    http://www.thebigdata.co.kr/view.php?ud=202101211123379473d0a8833aad_23\n",
      "   </originallink>\n",
      "   <link/>\n",
      "   http://www.thebigdata.co.kr/view.php?ud=202101211123379473d0a8833aad_23\n",
      "   <description>\n",
      "    경기도(도지사 이재명)가 올해 31개 시군과 함께 &lt;b&gt;코로나&lt;/b&gt;19발 고용난 타계를 위한 ‘지역공동체 일자리... ‘지역방역 일자리 사업’은 올해 신규사업으로 &lt;b&gt;코로나&lt;/b&gt;19 등 감염병 확산 방지를 위한 공공일자리를 운영해...\n",
      "   </description>\n",
      "   <pubdate>\n",
      "    Thu, 21 Jan 2021 11:27:00 +0900\n",
      "   </pubdate>\n",
      "  </item>\n",
      "  <item>\n",
      "   <title>\n",
      "    ‘청년쉼표, 프로젝트’로 미취업 청년 돕는다!\n",
      "   </title>\n",
      "   <originallink>\n",
      "    https://www.wikitree.co.kr/articles/612294\n",
      "   </originallink>\n",
      "   <link/>\n",
      "   https://www.wikitree.co.kr/articles/612294\n",
      "   <description>\n",
      "    시는 올해 &lt;b&gt;코로나&lt;/b&gt;19 장기화로 어려움을 겪고 있는 청년들을 최대한 많이 돕기 위해 최종학력 졸업·중퇴 후... 제외되며, &lt;b&gt;코로나&lt;/b&gt;19로 인해 일자리, 아르바이트 등에서 비자발적으로 퇴직하거나 해고된 청년의 경우...\n",
      "   </description>\n",
      "   <pubdate>\n",
      "    Thu, 21 Jan 2021 11:27:00 +0900\n",
      "   </pubdate>\n",
      "  </item>\n",
      "  <item>\n",
      "   <title>\n",
      "    롯데건설, 실버주택 단위평면 개발…마곡 MICE 복합단지에 첫 적용\n",
      "   </title>\n",
      "   <originallink>\n",
      "    http://www.datanews.co.kr/news/article.html?no=110586\n",
      "   </originallink>\n",
      "   <link/>\n",
      "   http://www.datanews.co.kr/news/article.html?no=110586\n",
      "   <description>\n",
      "    특히 미세먼지, &lt;b&gt;코로나&lt;/b&gt; 등의 영향으로 외부활동이 줄어든 고령층이 집안에서도 가드닝, 반려 동물 케어, 홈트레이닝 등 다양한 외부 여가활동을 경험할 수 있도록 계획한 것이 특징이다. 이번 실버주택 단위평면은 국내...\n",
      "   </description>\n",
      "   <pubdate>\n",
      "    Thu, 21 Jan 2021 11:27:00 +0900\n",
      "   </pubdate>\n",
      "  </item>\n",
      "  <item>\n",
      "   <title>\n",
      "    보성군, 산림 미래 이끌 2021년 근로자 선발\n",
      "   </title>\n",
      "   <originallink>\n",
      "    https://www.wikitree.co.kr/articles/612290\n",
      "   </originallink>\n",
      "   <link/>\n",
      "   https://www.wikitree.co.kr/articles/612290\n",
      "   <description>\n",
      "    면접심사는 &lt;b&gt;코로나&lt;/b&gt;19 예방 차원에서 19일부터 20까지 이틀간에 걸쳐 여자와 남자로 구분하여 시간차를 두고 3~4명씩 도착순으로 진행됐다.또한, 개인별 손소독과 체온 기록, &lt;b&gt;코로나&lt;/b&gt;19 예방 준수 사항 서약서를 작성하고...\n",
      "   </description>\n",
      "   <pubdate>\n",
      "    Thu, 21 Jan 2021 11:27:00 +0900\n",
      "   </pubdate>\n",
      "  </item>\n",
      "  <item>\n",
      "   <title>\n",
      "    매년 쑥쑥 쌀가공식품 시장…가공밥, 떡, 죽류 순 매출 높아\n",
      "   </title>\n",
      "   <originallink>\n",
      "    http://www.foodnews.co.kr/news/articleView.html?idxno=76610\n",
      "   </originallink>\n",
      "   <link/>\n",
      "   http://www.foodnews.co.kr/news/articleView.html?idxno=76610\n",
      "   <description>\n",
      "    또, &lt;b&gt;코로나&lt;/b&gt;19 확산에 따른 외식 자제와 내식 증가로 가공밥 등 쌀가공식품 소비는 2020년에 더욱 확대된 것으로 나타났다. 농림축산식품부와 한국농수산식품유통공사(사장 이병호)21일 &amp;apos;2020 가공식품 세분시장...\n",
      "   </description>\n",
      "   <pubdate>\n",
      "    Thu, 21 Jan 2021 11:27:00 +0900\n",
      "   </pubdate>\n",
      "  </item>\n",
      "  <item>\n",
      "   <title>\n",
      "    &amp;apos;선순환 경제·도시재생 강화&amp;apos;…전주시, 8대 추진전략 제시\n",
      "   </title>\n",
      "   <originallink>\n",
      "    http://yna.kr/AKR20210121080000055?did=1195m\n",
      "   </originallink>\n",
      "   <link/>\n",
      "   https://news.naver.com/main/read.nhn?mode=LSD&amp;mid=sec&amp;sid1=102&amp;oid=001&amp;aid=0012154072\n",
      "   <description>\n",
      "    신종 &lt;b&gt;코로나&lt;/b&gt;바이러스 감염증(&lt;b&gt;코로나&lt;/b&gt;19) 확산으로 어려움을 겪는 자영업자와 소상공인을 위해 상품권 이용 활성화를 꾀하는 등 선순환 경제를 추진하겠다는 취지다. 또 사회적 경제 기업이 생산한 제품의 동네 마트 입점을...\n",
      "   </description>\n",
      "   <pubdate>\n",
      "    Thu, 21 Jan 2021 11:26:00 +0900\n",
      "   </pubdate>\n",
      "  </item>\n",
      "  <item>\n",
      "   <title>\n",
      "    기침·얼굴통증·후각상실…비염 방치하다 ‘큰코’ 다칩니다\n",
      "   </title>\n",
      "   <originallink>\n",
      "    http://news.heraldcorp.com/view.php?ud=20210121000495\n",
      "   </originallink>\n",
      "   <link/>\n",
      "   https://news.naver.com/main/read.nhn?mode=LSD&amp;mid=sec&amp;sid1=103&amp;oid=016&amp;aid=0001782509\n",
      "   <description>\n",
      "    ▶증상만으론 &lt;b&gt;코로나&lt;/b&gt;19와 구별 어려워, 최대한 빨리 병원 찾아야=콧물, 코막힘, 후각 상실 등 축농증 증상은 &lt;b&gt;코로나&lt;/b&gt;19 증상과도 유사하다. 특히 후각 상실은 &lt;b&gt;코로나&lt;/b&gt;19 초기 증상 중 하나로 알려져 있다. 이러한 증상이...\n",
      "   </description>\n",
      "   <pubdate>\n",
      "    Thu, 21 Jan 2021 11:26:00 +0900\n",
      "   </pubdate>\n",
      "  </item>\n",
      "  <item>\n",
      "   <title>\n",
      "    &amp;apos;언택트 시대&amp;apos; 대형마트 업계, 온라인 서비스 강화 &amp;apos;박차&amp;apos;\n",
      "   </title>\n",
      "   <originallink>\n",
      "    http://www.sisaweek.com/news/articleView.html?idxno=141124\n",
      "   </originallink>\n",
      "   <link/>\n",
      "   http://www.sisaweek.com/news/articleView.html?idxno=141124\n",
      "   <description>\n",
      "    신종 &lt;b&gt;코로나&lt;/b&gt;바이러스 감염증(&lt;b&gt;코로나&lt;/b&gt;19)으로 &amp;apos;언택트(Untact, 비대면)&amp;apos; 문화가 정착되면서 대형마트가 온라인 서비스를 강화하고 있다. /홈플러스 시사위크=남빛하늘 기자  신종 &lt;b&gt;코로나&lt;/b&gt;바이러스 감염증(&lt;b&gt;코로나&lt;/b&gt;19)으로...\n",
      "   </description>\n",
      "   <pubdate>\n",
      "    Thu, 21 Jan 2021 11:26:00 +0900\n",
      "   </pubdate>\n",
      "  </item>\n",
      "  <item>\n",
      "   <title>\n",
      "    전북 순창요양병원 환자 2명 확진…전북 누적 1002명\n",
      "   </title>\n",
      "   <originallink>\n",
      "    http://www.fnnews.com/news/202101211122500292\n",
      "   </originallink>\n",
      "   <link/>\n",
      "   https://news.naver.com/main/read.nhn?mode=LSD&amp;mid=sec&amp;sid1=102&amp;oid=014&amp;aid=0004569617\n",
      "   <description>\n",
      "    전북 순창에서 신종 &lt;b&gt;코로나&lt;/b&gt;바이러스 감염증(&lt;b&gt;코로나&lt;/b&gt;19) 확진자 2명이 추가로 발생했다. 전북 1001~1002번째 확진자다. 21일 전북도 보건당국에 따르면 전날 밤 양성 판정을 받은 이들은 순창요양병원 관련 확진자다....\n",
      "   </description>\n",
      "   <pubdate>\n",
      "    Thu, 21 Jan 2021 11:26:00 +0900\n",
      "   </pubdate>\n",
      "  </item>\n",
      "  <item>\n",
      "   <title>\n",
      "    국표원, &amp;apos;무역기술장벽 종합지원센터&amp;apos; 개소…기업 전담 지원\n",
      "   </title>\n",
      "   <originallink>\n",
      "    http://news.heraldcorp.com/view.php?ud=20210121000503\n",
      "   </originallink>\n",
      "   <link/>\n",
      "   https://news.naver.com/main/read.nhn?mode=LSD&amp;mid=sec&amp;sid1=101&amp;oid=016&amp;aid=0001782513\n",
      "   <description>\n",
      "    이승우 국표원장은 &amp;quot;&lt;b&gt;코로나&lt;/b&gt;19 위기를 극복하고 수출을 회복하려면 기업이 무역기술장벽을 극복할 수 있는 여건을 마련하는 것이 중요하다&amp;quot;며 &amp;quot;종합지원센터를 중심으로 기업의 해외규제 애로를 적기에 해소하도록...\n",
      "   </description>\n",
      "   <pubdate>\n",
      "    Thu, 21 Jan 2021 11:26:00 +0900\n",
      "   </pubdate>\n",
      "  </item>\n",
      "  <item>\n",
      "   <title>\n",
      "    감염병 시대, &amp;apos;공적 감정&amp;apos;을 담은 정치가 필요하다\n",
      "   </title>\n",
      "   <originallink>\n",
      "    https://www.pressian.com/pages/articles/2021012110424203383?utm_source=naver&amp;utm_medium=search\n",
      "   </originallink>\n",
      "   <link/>\n",
      "   https://news.naver.com/main/read.nhn?mode=LSD&amp;mid=sec&amp;sid1=100&amp;oid=002&amp;aid=0002169462\n",
      "   <description>\n",
      "    &lt;b&gt;코로나&lt;/b&gt;19로 인해 사회 전반의 불평등이 심해졌다는 기사들이 쏟아져 나온다. 여당대표는 &lt;b&gt;코로나&lt;/b&gt; 시기에 많은 이득을 얻은 계층이나 업종이 이익의 일부를 자발적으로 사회에 기여하는 &amp;apos;이익공유제&amp;apos;를 제안했는데...\n",
      "   </description>\n",
      "   <pubdate>\n",
      "    Thu, 21 Jan 2021 11:26:00 +0900\n",
      "   </pubdate>\n",
      "  </item>\n",
      "  <item>\n",
      "   <title>\n",
      "    단국대, 비대면 해외봉사활동 펼쳐\n",
      "   </title>\n",
      "   <originallink>\n",
      "    http://www.nbnnews.co.kr/news/articleView.html?idxno=461057\n",
      "   </originallink>\n",
      "   <link/>\n",
      "   http://www.nbnnews.co.kr/news/articleView.html?idxno=461057\n",
      "   <description>\n",
      "    내외뉴스통신, NBNNEWS 강순규 기자 단국대학교(총장 김수복)가 매년 방학 동안 진행하던 해외봉사활동을 포스트&lt;b&gt;코로나&lt;/b&gt; 시대에 발맞춰 비대면으로 이웃 사랑 실천을 이어갔다. &lt;b&gt;코로나&lt;/b&gt; 19로 인해 해외봉사활동이 불가해진...\n",
      "   </description>\n",
      "   <pubdate>\n",
      "    Thu, 21 Jan 2021 11:26:00 +0900\n",
      "   </pubdate>\n",
      "  </item>\n",
      " </channel>\n"
     ]
    },
    {
     "name": "stdout",
     "output_type": "stream",
     "text": [
      "</rss>\n"
     ]
    }
   ],
   "source": [
    "print(soup.prettify())"
   ]
  },
  {
   "cell_type": "code",
   "execution_count": 113,
   "metadata": {},
   "outputs": [],
   "source": [
    "items = soup.find_all('item')\n",
    "ls_title = []\n",
    "for item in items:\n",
    "    ls_title.append(item.find('title').text)"
   ]
  },
  {
   "cell_type": "code",
   "execution_count": 115,
   "metadata": {},
   "outputs": [
    {
     "data": {
      "text/plain": [
       "['안성 공도 &apos;쌍용 더 플래티넘 프리미어&apos; 25일 무순위 청약 실시',\n",
       " '뮤지컬업계 &quot;공연장 감염전파 &apos;0%&apos;…동반자만 같이 앉게 해달라&quot;',\n",
       " '중견련, 해외 출입국 애로 해소 지원 서비스 내놔',\n",
       " '경기도, <b>코로나</b>19 극복위해 취약계층 공공일자리 4,300여개 만든다',\n",
       " '‘청년쉼표, 프로젝트’로 미취업 청년 돕는다!',\n",
       " '롯데건설, 실버주택 단위평면 개발…마곡 MICE 복합단지에 첫 적용',\n",
       " '보성군, 산림 미래 이끌 2021년 근로자 선발',\n",
       " '매년 쑥쑥 쌀가공식품 시장…가공밥, 떡, 죽류 순 매출 높아',\n",
       " '&apos;선순환 경제·도시재생 강화&apos;…전주시, 8대 추진전략 제시',\n",
       " '기침·얼굴통증·후각상실…비염 방치하다 ‘큰코’ 다칩니다',\n",
       " '&apos;언택트 시대&apos; 대형마트 업계, 온라인 서비스 강화 &apos;박차&apos;',\n",
       " '전북 순창요양병원 환자 2명 확진…전북 누적 1002명',\n",
       " '국표원, &apos;무역기술장벽 종합지원센터&apos; 개소…기업 전담 지원',\n",
       " '감염병 시대, &apos;공적 감정&apos;을 담은 정치가 필요하다',\n",
       " '단국대, 비대면 해외봉사활동 펼쳐']"
      ]
     },
     "execution_count": 115,
     "metadata": {},
     "output_type": "execute_result"
    }
   ],
   "source": [
    "ls_title"
   ]
  },
  {
   "cell_type": "code",
   "execution_count": 116,
   "metadata": {},
   "outputs": [
    {
     "data": {
      "text/plain": [
       "'언택트 출입을 통해 접촉에 의해 쉽게 전파되는 <b>코로나</b>바이러스 감염을 예방할 수 있다. 한편, 오는 25일(월) 사후 무순위 청약 진행하는 안성 공도 ‘쌍용 더 플래티넘 프리미어’의 견본주택은 경기도 평택시 소사동 107... '"
      ]
     },
     "execution_count": 116,
     "metadata": {},
     "output_type": "execute_result"
    }
   ],
   "source": [
    "soup.find_all('item')[0].find('description').text"
   ]
  },
  {
   "cell_type": "markdown",
   "metadata": {},
   "source": [
    "# json"
   ]
  },
  {
   "cell_type": "code",
   "execution_count": 121,
   "metadata": {},
   "outputs": [],
   "source": [
    "import requests\n",
    "import pandas as pd\n",
    "import urllib.request\n",
    "from urllib.request import quote\n",
    "from urllib.parse import urlparse\n",
    "from bs4 import BeautifulSoup as bs\n",
    "\n",
    "keyword = '파이썬'\n",
    "url = 'https://openapi.naver.com/v1/search/book.json?query=' + keyword + '&display=15'\n",
    "html = requests.get(url,headers = {\"X-Naver-Client-Id\" : client_id,\n",
    "                                   \"X-Naver-Client-Secret\" : client_secret})"
   ]
  },
  {
   "cell_type": "code",
   "execution_count": 122,
   "metadata": {},
   "outputs": [
    {
     "data": {
      "text/plain": [
       "200"
      ]
     },
     "execution_count": 122,
     "metadata": {},
     "output_type": "execute_result"
    }
   ],
   "source": [
    "html.status_code"
   ]
  },
  {
   "cell_type": "code",
   "execution_count": 123,
   "metadata": {},
   "outputs": [
    {
     "name": "stdout",
     "output_type": "stream",
     "text": [
      "{'display': 15,\n",
      " 'items': [{'author': '나동빈',\n",
      "            'description': '8가지 핵심 알고리즘 이론을 쉽게 설명하고, 관련 실전 문제를 풀이했다. 출제 유형 분석, '\n",
      "                           '이론 설명, 기출문제 풀이까지! 어떤 코딩 테스트도 이 책 한 권으로 대비할 수 있을 '\n",
      "                           '것이다. 코딩 테스트에서 주로 선택하는 <b>파이썬</b>을 기반으로 설명되어 있으며, '\n",
      "                           '<b>파이썬</b> 코드 외에도 C/C++, 자바 코드를 추가로 제공한다.',\n",
      "            'discount': '30600',\n",
      "            'image': 'https://bookthumb-phinf.pstatic.net/cover/164/391/16439154.jpg?type=m1&udate=20200928',\n",
      "            'isbn': '1162243074 9791162243077',\n",
      "            'link': 'http://book.naver.com/bookdb/book_detail.php?bid=16439154',\n",
      "            'price': '34000',\n",
      "            'pubdate': '20200805',\n",
      "            'publisher': '한빛미디어',\n",
      "            'title': '이것이 취업을 위한 코딩 테스트다 with <b>파이썬</b> (취업과 이직을 결정하는 알고리즘 '\n",
      "                     '인터뷰 완벽 가이드, C/C++, 자바 코드 제공)'},\n",
      "           {'author': '김황후',\n",
      "            'description': '투자 기법과 프로그래밍 기술로 &#x0D;자신만의 퀀트 투자 시스템을 '\n",
      "                           '완성하라&#x0D;&#x0D;『<b>파이썬</b> 증권 데이터 분석』은 웹 스크레이핑으로 '\n",
      "                           '증권 데이터를 주기적으로 자동 수집, 분석, 자동 매매, 예측하는 전 과정을 '\n",
      "                           '<b>파이썬</b>으로 직접 구현한다. 그 과정에서 금융 데이터 처리 기본 '\n",
      "                           '라이브러리(팬더스)부터 주가... ',\n",
      "            'discount': '28800',\n",
      "            'image': 'https://bookthumb-phinf.pstatic.net/cover/163/819/16381920.jpg?type=m1&udate=20201117',\n",
      "            'isbn': '1162243201 9791162243206',\n",
      "            'link': 'http://book.naver.com/bookdb/book_detail.php?bid=16381920',\n",
      "            'price': '32000',\n",
      "            'pubdate': '20200701',\n",
      "            'publisher': '한빛미디어',\n",
      "            'title': '<b>파이썬</b> 증권 데이터 분석 (<b>파이썬</b> 입문, 웹 스크레이핑, 트레이딩 전략, '\n",
      "                     '자동 매매)'},\n",
      "           {'author': '박상길',\n",
      "            'description': '물론, <b>파이썬</b>으로 구현하는 코드 풀이를 통해 성능 최적화 기법, '\n",
      "                           '<b>파이썬</b>의 핵심 문법과 다양한 실용 테크닉까지 배울 수 있는, 초보 개발자와 '\n",
      "                           '숙련 개발자... 이 책은 현업과 실무에 유용한 주요 알고리즘 이론을 깊숙이 이해하고, '\n",
      "                           '<b>파이썬</b>의 핵심 기능과 문법까지 상세하게 이해할 수 있는 취업용 코딩 '\n",
      "                           '테스트를... ',\n",
      "            'discount': '34200',\n",
      "            'image': 'https://bookthumb-phinf.pstatic.net/cover/164/062/16406247.jpg?type=m1&udate=20201028',\n",
      "            'isbn': '1189909170 9791189909178',\n",
      "            'link': 'http://book.naver.com/bookdb/book_detail.php?bid=16406247',\n",
      "            'price': '38000',\n",
      "            'pubdate': '20200715',\n",
      "            'publisher': '책만',\n",
      "            'title': '<b>파이썬</b> 알고리즘 인터뷰 (95가지 알고리즘 문제 풀이로 완성하는 코딩 테스트)'},\n",
      "           {'author': '윤인성',\n",
      "            'description': '1:1 과외하듯 배우는 <b>파이썬</b> 프로그래밍 자습서(<b>파이썬</b> 최신 버전 '\n",
      "                           '반영)\\n'\n",
      "                           '이 책은 독학으로 프로그래밍 언어를 처음 배우려는 입문자가, 혹은 <b>파이썬</b>을 '\n",
      "                           '배우려는 입문자가 ‘꼭 필요한 내용을 제대로’ 학습할 수 있도록 구성했다. ‘무엇을’, '\n",
      "                           '‘어떻게’ 학습해야 할지조차 모르는 입문자의 막연한 마음을 살펴... ',\n",
      "            'discount': '16200',\n",
      "            'image': 'https://bookthumb-phinf.pstatic.net/cover/150/286/15028688.jpg?type=m1&udate=20200915',\n",
      "            'isbn': '1162241888 9791162241882',\n",
      "            'link': 'http://book.naver.com/bookdb/book_detail.php?bid=15028688',\n",
      "            'price': '18000',\n",
      "            'pubdate': '20190610',\n",
      "            'publisher': '한빛미디어',\n",
      "            'title': '혼자 공부하는 <b>파이썬</b> (<b>파이썬</b> 최신 버전 반영)'},\n",
      "           {'author': '박응용',\n",
      "            'description': '<b>파이썬</b> 4년 연속 베스트셀러 1위!\\n'\n",
      "                           '《DO IT! 점프 투 <b>파이썬</b>》 전면 개정판 출시!문과생도 중고등학생도 '\n",
      "                           '직장인도 프로그래밍에 눈뜨게 만든 바로 그 책이... 점프 투 <b>파이썬</b>》으로 '\n",
      "                           '출간되었던 이 책은 약 4년 동안의 피드백을 반영하여 초보자가 더 빠르게 입문하고, 더 '\n",
      "                           '깊이 있게 공부할 수 있도록 개정되었다.... ',\n",
      "            'discount': '16920',\n",
      "            'image': 'https://bookthumb-phinf.pstatic.net/cover/150/529/15052904.jpg?type=m1&udate=20200910',\n",
      "            'isbn': '1163030910 9791163030911',\n",
      "            'link': 'http://book.naver.com/bookdb/book_detail.php?bid=15052904',\n",
      "            'price': '18800',\n",
      "            'pubdate': '20190620',\n",
      "            'publisher': '이지스퍼블리싱',\n",
      "            'title': 'Do it! 점프 투 <b>파이썬</b>'},\n",
      "           {'author': '김창현',\n",
      "            'description': '집필한 <b>파이썬</b> 생활 프로그래밍 책!\\n'\n",
      "                           '웹 크롤링부터 데이터 분석까지, 11가지 프로그램을 내 손으로 직접 만든다!\\n'\n",
      "                           '이 책은 생활 프로그래머 김창현 박사가 일상과 업무에서 <b>파이썬</b> 프로그래밍을 '\n",
      "                           '활용한 경험을... 이 프로그램들은 <b>파이썬</b> 문법을 한 번이라도 배운 적이 있는 '\n",
      "                           '사람이라면 누구나 따라 할 수 있는... ',\n",
      "            'discount': '18000',\n",
      "            'image': 'https://bookthumb-phinf.pstatic.net/cover/164/370/16437083.jpg?type=m1&udate=20200902',\n",
      "            'isbn': '1163031739 9791163031734',\n",
      "            'link': 'http://book.naver.com/bookdb/book_detail.php?bid=16437083',\n",
      "            'price': '20000',\n",
      "            'pubdate': '20200727',\n",
      "            'publisher': '이지스퍼블리싱',\n",
      "            'title': 'Do it! <b>파이썬</b> 생활 프로그래밍 (웹 크롤링부터 데이터 분석까지 내 손으로 직접 '\n",
      "                     '만든다!)'},\n",
      "           {'author': '권철민',\n",
      "            'description': '자세한 이론 설명과 <b>파이썬</b> 실습을 통해 머신러닝을 완벽하게 배울 수 '\n",
      "                           '있습니다!《<b>파이썬</b> 머신러닝 완벽 가이드》는 이론 위주의 머신러닝 책에서 탈피해 '\n",
      "                           '다양한 실전 예제를 직접 구현해 보면서 머신러닝을 체득할 수 있도록 만들었습니다.  캐글과 '\n",
      "                           'UCI 머신러닝 리포지토리에서 난이도가 있는 실습... ',\n",
      "            'discount': '34200',\n",
      "            'image': 'https://bookthumb-phinf.pstatic.net/cover/162/383/16238302.jpg?type=m1&udate=20200423',\n",
      "            'isbn': '1158391927 9791158391928',\n",
      "            'link': 'http://book.naver.com/bookdb/book_detail.php?bid=16238302',\n",
      "            'price': '38000',\n",
      "            'pubdate': '20200207',\n",
      "            'publisher': '위키북스',\n",
      "            'title': '<b>파이썬</b> 머신러닝 완벽 가이드 (다양한 캐글 예제와 함께 기초 알고리즘부터 최신 기법까지 '\n",
      "                     '배우는)'},\n",
      "           {'author': '문현일',\n",
      "            'description': '비전공자도 ‘혼공’ 할 수 있다!\\n'\n",
      "                           '1:1 과외하듯 배우는 왕초보 코딩 입문서\\n'\n",
      "                           '유튜브 강의! 그림으로 보여주는 ‘눈코딩’ 예제! 프로그램 설치 없이 온라인 실습! 부록 '\n",
      "                           '용어 노트! 이 모든 것을 제공하기에 비전공자도 프로그래밍을 독학할 수 있습니다. 이 책은 '\n",
      "                           '비전공자가 시중에 나온 프로그래밍 책을 이해할 수... ',\n",
      "            'discount': '15300',\n",
      "            'image': 'https://bookthumb-phinf.pstatic.net/cover/163/852/16385280.jpg?type=m1&udate=20200928',\n",
      "            'isbn': '1162243031 9791162243039',\n",
      "            'link': 'http://book.naver.com/bookdb/book_detail.php?bid=16385280',\n",
      "            'price': '17000',\n",
      "            'pubdate': '20200630',\n",
      "            'publisher': '한빛미디어',\n",
      "            'title': '혼자 공부하는 첫 프로그래밍 with <b>파이썬</b> (1:1 과외하듯 배우는 왕초보 코딩 '\n",
      "                     '입문서)'},\n",
      "           {'author': '이경택|방성수|안상준',\n",
      "            'description': '<b>파이썬</b>은 선택이 아닌 필수! 파이토치로 딥러닝 입문하기!이 책은 딥러닝 기술에 '\n",
      "                           '초점을 두고 딥러닝을 구현하기 위해 <b>파이썬</b>을 이용하는데, 머신러닝 라이브러리인 '\n",
      "                           '파이토치를 활용하여 다양한 텐서를 지원하는 방법을 알아본다. 파이토치는 <b>파이썬</b> '\n",
      "                           '코딩과 비슷하기 때문에 언어가 어렵지 않다.... ',\n",
      "            'discount': '22500',\n",
      "            'image': 'https://bookthumb-phinf.pstatic.net/cover/167/783/16778336.jpg?type=m1&udate=20201014',\n",
      "            'isbn': '8956748578 9788956748573',\n",
      "            'link': 'http://book.naver.com/bookdb/book_detail.php?bid=16778336',\n",
      "            'price': '25000',\n",
      "            'pubdate': '20201008',\n",
      "            'publisher': '정보문화사',\n",
      "            'title': '<b>파이썬</b> 딥러닝 파이토치(Python Deep Learning PyTorch)'},\n",
      "           {'author': '엘리스 코딩',\n",
      "            'description': '왕초보 맞춤 <b>파이썬</b> 입문서초등 고학년부터 필수인 코딩, 주인공 ‘엘리스 '\n",
      "                           '토끼’와 함께 게임하듯 배우세요. 176가지 그림과 45가지 코딩 문제를 풀다... 마지막 '\n",
      "                           '과제인 ‘점심 메뉴 추첨기’ 프로그램까지 만들면 ‘<b>파이썬</b> 이수증’도 드립니다. '\n",
      "                           '제대로 설계된 코딩 교육 콘텐츠를 찾는 학생·학부모·선생님은... ',\n",
      "            'discount': '12600',\n",
      "            'image': 'https://bookthumb-phinf.pstatic.net/cover/163/241/16324192.jpg?type=m1&udate=20210106',\n",
      "            'isbn': '1163031569 9791163031567',\n",
      "            'link': 'http://book.naver.com/bookdb/book_detail.php?bid=16324192',\n",
      "            'price': '14000',\n",
      "            'pubdate': '20200410',\n",
      "            'publisher': '이지스퍼블리싱',\n",
      "            'title': 'Do it! 첫 <b>파이썬</b> (게임하듯 배우는 나의 첫 프로그래밍 책)'},\n",
      "           {'author': '정동균',\n",
      "            'description': '첫 코딩》 <b>파이썬</b> 버전 출간!\\n'\n",
      "                           '국내 최초 ‘문과식’ 코딩 입문서!\\n'\n",
      "                           '147가지 비유와 그림, 무료 온라인... 첫 코딩》이 <b>파이썬</b> 버전으로 출간 '\n",
      "                           '되었습니다.\\n'\n",
      "                           '‘공대생도 놀란 책’에 걸맞은 147가지 비유와... 첫 코딩》 자바 버전보다 80쪽 '\n",
      "                           '늘어난 이 책에서는 특별히 <b>파이썬</b>으로 코딩하면 만나게 될 ‘데이터... ',\n",
      "            'discount': '16200',\n",
      "            'image': 'https://bookthumb-phinf.pstatic.net/cover/177/277/17727701.jpg?type=m1&udate=20210113',\n",
      "            'isbn': '1163032158 9791163032151',\n",
      "            'link': 'http://book.naver.com/bookdb/book_detail.php?bid=17727701',\n",
      "            'price': '18000',\n",
      "            'pubdate': '20210115',\n",
      "            'publisher': '이지스퍼블리싱',\n",
      "            'title': 'Do it! 첫 코딩 with <b>파이썬</b> (보통 사람이 알아야 할 프로그래밍 기초)'},\n",
      "           {'author': '이승찬',\n",
      "            'description': '<b>파이썬</b> 분야 & 어린이 코딩 교육 분야\\n'\n",
      "                           '2년 연속 베스트셀러! 개정판 출간!\\n'\n",
      "                           '\\n'\n",
      "                           '즐겁게 시작하는 나의 첫 프로그래밍!\\n'\n",
      "                           '프로그래밍을 한 번도 해본 적이 없어도 괜찮다. <b>파이썬</b>이 무엇인지 몰라도 상관 '\n",
      "                           '없다.... 어느새 <b>파이썬</b> 프로그램으로 멋진 그림을 그리고, 계산을 하고, '\n",
      "                           '간단한 게임을 만들고, 수학 문제를... ',\n",
      "            'discount': '10800',\n",
      "            'image': 'https://bookthumb-phinf.pstatic.net/cover/141/261/14126163.jpg?type=m1&udate=20181105',\n",
      "            'isbn': '1160505853 9791160505856',\n",
      "            'link': 'http://book.naver.com/bookdb/book_detail.php?bid=14126163',\n",
      "            'price': '12000',\n",
      "            'pubdate': '20181009',\n",
      "            'publisher': '길벗',\n",
      "            'title': '모두의 <b>파이썬</b> (20일 만에 배우는 프로그래밍 기초)'},\n",
      "           {'author': '이지영',\n",
      "            'description': '핵심 <b>파이썬</b> 문법을 배울 수 있습니다.\\n'\n",
      "                           '4차 산업혁명, 데이터 과학, 빅데이터의 관계를 이해하고 빅데이터 분석에 적용할 데이터 '\n",
      "                           '과학 방법론을 배웁니다. 빅데이터 분석에 필요한 핵심 <b>파이썬</b> 문법을 살펴보고 '\n",
      "                           '빅데이터 수집 방법으로 유용한 <b>파이썬</b> 크롤링 방법도 실습과 함께 살펴봅니다.\\n'\n",
      "                           '\\n'\n",
      "                           '■ 기본 분석부터... ',\n",
      "            'discount': '25200',\n",
      "            'image': 'https://bookthumb-phinf.pstatic.net/cover/177/624/17762418.jpg?type=m1&udate=20210112',\n",
      "            'isbn': '1156645077 9791156645078',\n",
      "            'link': 'http://book.naver.com/bookdb/book_detail.php?bid=17762418',\n",
      "            'price': '28000',\n",
      "            'pubdate': '20201230',\n",
      "            'publisher': '한빛아카데미',\n",
      "            'title': '데이터 과학 기반의 <b>파이썬</b> 빅데이터 분석 (IT@COOKBOOK)'},\n",
      "           {'author': '브렛 슬라킨 지음|오현석',\n",
      "            'description': '아마존 <b>파이썬</b> 프로그래밍 분야 베스트셀러, 〈Effective Python〉 '\n",
      "                           '전면 개정 증보판! \\n'\n",
      "                           '<b>파이썬</b>의 매력과 강점을 이용해 강력하고 우수한 성능의 코드를 작성하는 90가지 '\n",
      "                           '방법!\\n'\n",
      "                           '<b>파이썬</b>다운 방식으로 프로그램을 작성하는 방법, <b>파이썬</b>을 사용하는 '\n",
      "                           '가장 좋은 방법에 대한 통찰을 담았다! 2판에서는 <b>파이썬</b> 3.... ',\n",
      "            'discount': '28800',\n",
      "            'image': 'https://bookthumb-phinf.pstatic.net/cover/168/769/16876960.jpg?type=m1&udate=20201222',\n",
      "            'isbn': '1165213192 9791165213190',\n",
      "            'link': 'http://book.naver.com/bookdb/book_detail.php?bid=16876960',\n",
      "            'price': '32000',\n",
      "            'pubdate': '20201030',\n",
      "            'publisher': '길벗',\n",
      "            'title': 'Effective Python 2nd 이펙티브 <b>파이썬</b> : <b>파이썬</b> 코딩의 기술 '\n",
      "                     '(똑똑하게 코딩하는 법, 개정판)'},\n",
      "           {'author': '최은석',\n",
      "            'description': '<b>파이썬</b>을 활용해 엑셀 파일과 데이터를 자유자재로 다루자!엑셀은 기능이 풍부하고 '\n",
      "                           '사용하기가 쉬워서 오랫동안 사랑받아온 프로그램이지만 대량의... 이 책은 '\n",
      "                           '<b>파이썬</b>을 이용해 엑셀 업무를 자동화하는 방법을 다룹니다. 기본적인 '\n",
      "                           '<b>파이썬</b> 문법부터 데이터 분석과 엑셀 자동화까지 상세히 설명하고 있어 '\n",
      "                           '<b>파이썬</b>을... ',\n",
      "            'discount': '27000',\n",
      "            'image': 'https://bookthumb-phinf.pstatic.net/cover/168/941/16894128.jpg?type=m1&udate=20201112',\n",
      "            'isbn': '1158392265 9791158392260',\n",
      "            'link': 'http://book.naver.com/bookdb/book_detail.php?bid=16894128',\n",
      "            'price': '30000',\n",
      "            'pubdate': '20201110',\n",
      "            'publisher': '위키북스',\n",
      "            'title': '엑셀 자동화 with <b>파이썬</b>(일 잘하는 직장인을 위한)(위키북스 프로그래밍 & 프랙티스 '\n",
      "                     '시리즈 27) (복잡하고 지루한 반복 업무를 쉽고 빠르게 해치우는 방법)'}],\n",
      " 'lastBuildDate': 'Thu, 21 Jan 2021 11:30:03 +0900',\n",
      " 'start': 1,\n",
      " 'total': 1206}\n"
     ]
    }
   ],
   "source": [
    "from pprint import pprint\n",
    "\n",
    "json1 = html.json()\n",
    "\n",
    "pprint(json1)"
   ]
  },
  {
   "cell_type": "code",
   "execution_count": 125,
   "metadata": {},
   "outputs": [
    {
     "data": {
      "text/plain": [
       "dict_keys(['lastBuildDate', 'total', 'start', 'display', 'items'])"
      ]
     },
     "execution_count": 125,
     "metadata": {},
     "output_type": "execute_result"
    }
   ],
   "source": [
    "json1.keys()"
   ]
  },
  {
   "cell_type": "code",
   "execution_count": 131,
   "metadata": {},
   "outputs": [
    {
     "data": {
      "text/plain": [
       "15"
      ]
     },
     "execution_count": 131,
     "metadata": {},
     "output_type": "execute_result"
    }
   ],
   "source": [
    "len(json1['items'])"
   ]
  },
  {
   "cell_type": "code",
   "execution_count": 132,
   "metadata": {},
   "outputs": [
    {
     "name": "stdout",
     "output_type": "stream",
     "text": [
      "{'author': '나동빈',\n",
      " 'description': '8가지 핵심 알고리즘 이론을 쉽게 설명하고, 관련 실전 문제를 풀이했다. 출제 유형 분석, 이론 설명, '\n",
      "                '기출문제 풀이까지! 어떤 코딩 테스트도 이 책 한 권으로 대비할 수 있을 것이다. 코딩 테스트에서 주로 '\n",
      "                '선택하는 <b>파이썬</b>을 기반으로 설명되어 있으며, <b>파이썬</b> 코드 외에도 C/C++, 자바 '\n",
      "                '코드를 추가로 제공한다.',\n",
      " 'discount': '30600',\n",
      " 'image': 'https://bookthumb-phinf.pstatic.net/cover/164/391/16439154.jpg?type=m1&udate=20200928',\n",
      " 'isbn': '1162243074 9791162243077',\n",
      " 'link': 'http://book.naver.com/bookdb/book_detail.php?bid=16439154',\n",
      " 'price': '34000',\n",
      " 'pubdate': '20200805',\n",
      " 'publisher': '한빛미디어',\n",
      " 'title': '이것이 취업을 위한 코딩 테스트다 with <b>파이썬</b> (취업과 이직을 결정하는 알고리즘 인터뷰 완벽 가이드, '\n",
      "          'C/C++, 자바 코드 제공)'}\n"
     ]
    }
   ],
   "source": [
    "pprint(json1['items'][0])"
   ]
  },
  {
   "cell_type": "code",
   "execution_count": 133,
   "metadata": {},
   "outputs": [
    {
     "data": {
      "text/plain": [
       "dict_keys(['title', 'link', 'image', 'author', 'price', 'discount', 'publisher', 'pubdate', 'isbn', 'description'])"
      ]
     },
     "execution_count": 133,
     "metadata": {},
     "output_type": "execute_result"
    }
   ],
   "source": [
    "json1['items'][0].keys()"
   ]
  },
  {
   "cell_type": "code",
   "execution_count": 134,
   "metadata": {},
   "outputs": [
    {
     "data": {
      "text/plain": [
       "'이것이 취업을 위한 코딩 테스트다 with <b>파이썬</b> (취업과 이직을 결정하는 알고리즘 인터뷰 완벽 가이드, C/C++, 자바 코드 제공)'"
      ]
     },
     "execution_count": 134,
     "metadata": {},
     "output_type": "execute_result"
    }
   ],
   "source": [
    "json1['items'][0]['title']"
   ]
  },
  {
   "cell_type": "code",
   "execution_count": 137,
   "metadata": {},
   "outputs": [
    {
     "data": {
      "text/plain": [
       "dict"
      ]
     },
     "execution_count": 137,
     "metadata": {},
     "output_type": "execute_result"
    }
   ],
   "source": [
    "type(json1)"
   ]
  },
  {
   "cell_type": "code",
   "execution_count": 138,
   "metadata": {},
   "outputs": [
    {
     "data": {
      "text/plain": [
       "requests.models.Response"
      ]
     },
     "execution_count": 138,
     "metadata": {},
     "output_type": "execute_result"
    }
   ],
   "source": [
    "type(html)"
   ]
  }
 ],
 "metadata": {
  "kernelspec": {
   "display_name": "Python 3",
   "language": "python",
   "name": "python3"
  },
  "language_info": {
   "codemirror_mode": {
    "name": "ipython",
    "version": 3
   },
   "file_extension": ".py",
   "mimetype": "text/x-python",
   "name": "python",
   "nbconvert_exporter": "python",
   "pygments_lexer": "ipython3",
   "version": "3.8.5"
  }
 },
 "nbformat": 4,
 "nbformat_minor": 4
}
