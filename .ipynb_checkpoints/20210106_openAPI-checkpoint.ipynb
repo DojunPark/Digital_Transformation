{
 "cells": [
  {
   "cell_type": "markdown",
   "metadata": {},
   "source": [
    "# Reviews"
   ]
  },
  {
   "cell_type": "code",
   "execution_count": 1,
   "metadata": {},
   "outputs": [
    {
     "data": {
      "text/plain": [
       "'/mnt/c/edu'"
      ]
     },
     "execution_count": 1,
     "metadata": {},
     "output_type": "execute_result"
    }
   ],
   "source": [
    "pwd"
   ]
  },
  {
   "cell_type": "code",
   "execution_count": 3,
   "metadata": {},
   "outputs": [
    {
     "data": {
      "text/html": [
       "<div>\n",
       "<style scoped>\n",
       "    .dataframe tbody tr th:only-of-type {\n",
       "        vertical-align: middle;\n",
       "    }\n",
       "\n",
       "    .dataframe tbody tr th {\n",
       "        vertical-align: top;\n",
       "    }\n",
       "\n",
       "    .dataframe thead th {\n",
       "        text-align: right;\n",
       "    }\n",
       "</style>\n",
       "<table border=\"1\" class=\"dataframe\">\n",
       "  <thead>\n",
       "    <tr style=\"text-align: right;\">\n",
       "      <th></th>\n",
       "      <th>축제명</th>\n",
       "      <th>주소</th>\n",
       "      <th>연락처</th>\n",
       "      <th>시작일</th>\n",
       "      <th>종료일</th>\n",
       "      <th>위도</th>\n",
       "      <th>경도</th>\n",
       "    </tr>\n",
       "  </thead>\n",
       "  <tbody>\n",
       "    <tr>\n",
       "      <th>0</th>\n",
       "      <td>가락몰 페스티벌 2019</td>\n",
       "      <td>서울특별시 송파구 양재대로 932</td>\n",
       "      <td>02-3435-1000</td>\n",
       "      <td>2019-10-11</td>\n",
       "      <td>2019-10-12</td>\n",
       "      <td>37.496093</td>\n",
       "      <td>127.110983</td>\n",
       "    </tr>\n",
       "    <tr>\n",
       "      <th>1</th>\n",
       "      <td>가리왕산 MUSIC FESTIVAL 2020</td>\n",
       "      <td>강원도 정선군 북평면 중봉길 41-35</td>\n",
       "      <td>033-560-3016</td>\n",
       "      <td>2020-08-21</td>\n",
       "      <td>2020-08-22</td>\n",
       "      <td>37.474254</td>\n",
       "      <td>128.609754</td>\n",
       "    </tr>\n",
       "    <tr>\n",
       "      <th>2</th>\n",
       "      <td>가야문화축제 2020</td>\n",
       "      <td>경상남도 김해시 가야의길 126</td>\n",
       "      <td>055-330-3958</td>\n",
       "      <td>2020-10-29</td>\n",
       "      <td>2020-11-01</td>\n",
       "      <td>35.236069</td>\n",
       "      <td>128.873100</td>\n",
       "    </tr>\n",
       "    <tr>\n",
       "      <th>3</th>\n",
       "      <td>가을 밀양강 오딧세이 \"아리랑 환타지! 밀양!\" 2019</td>\n",
       "      <td>경상남도 밀양시 중앙로 324 영남루 및 밀양강 야외 공연장 일대</td>\n",
       "      <td>055-359-4527</td>\n",
       "      <td>2019-10-18</td>\n",
       "      <td>2019-10-19</td>\n",
       "      <td>35.492135</td>\n",
       "      <td>128.755259</td>\n",
       "    </tr>\n",
       "    <tr>\n",
       "      <th>4</th>\n",
       "      <td>가을 화담숲 단풍 축제 2019</td>\n",
       "      <td>경기도 광주시 도척면 도척윗로 278</td>\n",
       "      <td>031-8026-6666</td>\n",
       "      <td>2019-10-12</td>\n",
       "      <td>2019-11-10</td>\n",
       "      <td>37.337484</td>\n",
       "      <td>127.292224</td>\n",
       "    </tr>\n",
       "  </tbody>\n",
       "</table>\n",
       "</div>"
      ],
      "text/plain": [
       "                               축제명                                    주소  \\\n",
       "0                    가락몰 페스티벌 2019                    서울특별시 송파구 양재대로 932   \n",
       "1         가리왕산 MUSIC FESTIVAL 2020                 강원도 정선군 북평면 중봉길 41-35   \n",
       "2                      가야문화축제 2020                     경상남도 김해시 가야의길 126   \n",
       "3  가을 밀양강 오딧세이 \"아리랑 환타지! 밀양!\" 2019  경상남도 밀양시 중앙로 324 영남루 및 밀양강 야외 공연장 일대   \n",
       "4                가을 화담숲 단풍 축제 2019                  경기도 광주시 도척면 도척윗로 278   \n",
       "\n",
       "             연락처         시작일         종료일         위도          경도  \n",
       "0   02-3435-1000  2019-10-11  2019-10-12  37.496093  127.110983  \n",
       "1   033-560-3016  2020-08-21  2020-08-22  37.474254  128.609754  \n",
       "2   055-330-3958  2020-10-29  2020-11-01  35.236069  128.873100  \n",
       "3   055-359-4527  2019-10-18  2019-10-19  35.492135  128.755259  \n",
       "4  031-8026-6666  2019-10-12  2019-11-10  37.337484  127.292224  "
      ]
     },
     "execution_count": 3,
     "metadata": {},
     "output_type": "execute_result"
    }
   ],
   "source": [
    "import pandas as pd\n",
    "\n",
    "fdir = '/mnt/c/edu/py_data/'\n",
    "df1 = pd.read_csv(fdir + '관광정보.csv', index_col=0)\n",
    "df1.head()"
   ]
  },
  {
   "cell_type": "code",
   "execution_count": 14,
   "metadata": {},
   "outputs": [
    {
     "name": "stdout",
     "output_type": "stream",
     "text": [
      "시작일 입력(예: 2020-01-01): 2020-01-01\n",
      "종료일 입력(예: 2020-01-01): 2020-03-01\n",
      "지역명 입력(예: 서울, 송파, 강원도 등): 서울\n",
      "-------- done ---------\n"
     ]
    }
   ],
   "source": [
    "import folium\n",
    "\n",
    "center = [36.51268355312979, 127.89514172930014]\n",
    "m = folium.Map(location=center, zoom_start=7)\n",
    "\n",
    "start = input('시작일 입력(예: 2020-01-01): ')\n",
    "end = input('종료일 입력(예: 2020-01-01): ')\n",
    "loc = input('지역명 입력(예: 서울, 송파, 강원도 등): ')\n",
    "\n",
    "df2 = df1[(df1['시작일']>=start) & (df1['종료일']<=end)]\n",
    "df2 = df2[df2['주소'].str.contains(loc)]\n",
    "\n",
    "for i, r in df2.iterrows():\n",
    "    folium.Marker(location=[r[5], r[6]],\n",
    "                 popup=r[0],\n",
    "                 icon=folium.Icon(color='blue')).add_to(m)\n",
    "\n",
    "m.save(fdir + start + '~' + end + '_' + loc + '.html')\n",
    "print('-------- done ---------')"
   ]
  },
  {
   "cell_type": "markdown",
   "metadata": {},
   "source": [
    "# Open API 연결\n",
    "1. 공공데이터 포털에 회원가입\n",
    "2. 원하는 정보에 대한 키 생성 (키: 1인당 1개)\n",
    "3. 정보에 대한 사용 승인 요청"
   ]
  },
  {
   "cell_type": "markdown",
   "metadata": {},
   "source": [
    "- `pip install bs4`"
   ]
  },
  {
   "cell_type": "code",
   "execution_count": 17,
   "metadata": {},
   "outputs": [],
   "source": [
    "import requests\n",
    "from bs4 import BeautifulSoup as bs"
   ]
  },
  {
   "cell_type": "code",
   "execution_count": 28,
   "metadata": {},
   "outputs": [
    {
     "name": "stdout",
     "output_type": "stream",
     "text": [
      "zrwN1EZPDr\n"
     ]
    }
   ],
   "source": [
    "with open(fdir + 'openapi/key.txt') as f:\n",
    "    key = f.read()\n",
    "print(key[:10])"
   ]
  },
  {
   "cell_type": "code",
   "execution_count": 29,
   "metadata": {},
   "outputs": [
    {
     "name": "stdout",
     "output_type": "stream",
     "text": [
      "http://api.visitkorea.or.kr/openapi/service/rest/KorService/searchFestival?serviceKey=zrwN1EZPDresnEODmQCFdkJiD52oniVUvH4XlfJ%2FwVs3dJVo%2F%2FaoSabrmXOXFNz6VDcI2dQHcIvMMlxPJMPMyQ%3D%3D&numOfRows=10&pageNo=1&MobileOS=ETC&MobileApp=AppTest&arrange=A&listYN=Y&eventStartDate=20210101&eventEndDate=20211231\n"
     ]
    }
   ],
   "source": [
    "# key = 'OiT%2FeDvfciQhc3K40GC1Z8IdVE5IVzdf5qqpl52xiV5%2F%2FyeDPIfj5WRLrl8UoCEXc4Ro0xz1qaypj5Ai4xmsbQ%3D%3D'\n",
    "\n",
    "num_rows = '10'\n",
    "# start_day = input('시작일(예: 20200101) :')\n",
    "# end_day = input('종료일(예: 20200101) :')\n",
    "start_day = '20210101'\n",
    "end_day = '20211231'\n",
    "\n",
    "url1 = 'http://api.visitkorea.or.kr/openapi/service/rest/KorService/searchFestival?serviceKey=' + key \n",
    "url2 = '&numOfRows=' + num_rows + '&pageNo=1&MobileOS=ETC&MobileApp=AppTest&arrange=A&listYN=Y' + '&eventStartDate=' + start_day + '&eventEndDate=' + end_day\n",
    "url = url1 + url2\n",
    "\n",
    "print(url)"
   ]
  },
  {
   "cell_type": "code",
   "execution_count": 31,
   "metadata": {},
   "outputs": [
    {
     "data": {
      "text/plain": [
       "<Response [200]>"
      ]
     },
     "execution_count": 31,
     "metadata": {},
     "output_type": "execute_result"
    }
   ],
   "source": [
    "xml = requests.get(url)\n",
    "xml"
   ]
  },
  {
   "cell_type": "code",
   "execution_count": 37,
   "metadata": {},
   "outputs": [
    {
     "data": {
      "text/plain": [
       "b'<?xml version=\"1.0\" encoding=\"UTF-8\" standalone=\"yes\"?><response><header><resultCode>0000</resultCode><resultMsg>OK</resultMsg></header><body><items><item><addr1>\\xea\\xb2\\xbd\\xec\\x83\\x81\\xeb\\x82\\xa8\\xeb\\x8f\\x84 \\xea\\xb1\\xb0\\xec\\xb0\\xbd\\xea\\xb5\\xb0 \\xea\\xb1\\xb0\\xec\\xb0\\xbd\\xec\\x9d\\x8d \\xec\\xa4\\x91\\xec\\x95\\x99\\xeb\\xa1\\x9c 103</addr1><areacode>36</areacode><cat1>A02</cat1><cat2>A0207</cat2><cat3>A02070200</cat3><contentid>1866255</contentid><contenttypeid>15</contenttypeid><createdtime>20131203110702</createdtime><eventenddate>20210214</eventenddate><eventstartdate>20201213</eventstartdate><firstimage>http://tong.visitkorea.or.kr/cms/resource/31/2694131_image2_1.jpg</firstimage><firstimage2>http://tong.visitkorea.or.kr/cms/resource/31/2694131_image2_1.jpg</firstimage2><mapx>127.9095393091</mapx><mapy>35.6866949586</mapy><mlevel>6</mlevel><modifiedtime>20201208153115</modifiedtime><readcount>22057</readcount><sigungucode>2</sigungucode><tel>070-8809-9182</tel><title>\\xea\\xb1\\xb0\\xec\\xb0\\xbd \\xed\\x81\\xac\\xeb\\xa6\\xac\\xec\\x8a\\xa4\\xeb\\xa7\\x88\\xec\\x8a\\xa4\\xed\\x8a\\xb8\\xeb\\xa6\\xac\\xeb\\xac\\xb8\\xed\\x99\\x94\\xec\\xb6\\x95\\xec\\xa0\\x9c 2021</title></item><item><addr1>\\xec\\xb6\\xa9\\xec\\xb2\\xad\\xeb\\x82\\xa8\\xeb\\x8f\\x84 \\xea\\xb3\\xb5\\xec\\xa3\\xbc\\xec\\x8b\\x9c \\xea\\xb3\\xa0\\xeb\\xa7\\x88\\xeb\\x82\\x98\\xeb\\xa3\\xa8\\xea\\xb8\\xb8 90</addr1><addr2>(\\xec\\x9b\\x85\\xec\\xa7\\x84\\xeb\\x8f\\x99)'"
      ]
     },
     "execution_count": 37,
     "metadata": {},
     "output_type": "execute_result"
    }
   ],
   "source": [
    "xml.content[:1000]  # 글자가 깨져서 출력"
   ]
  },
  {
   "cell_type": "code",
   "execution_count": 43,
   "metadata": {},
   "outputs": [
    {
     "data": {
      "text/plain": [
       "<?xml version=\"1.0\" encoding=\"UTF-8\" standalone=\"yes\"?><response><header><resultcode>0000</resultcode><resultmsg>OK</resultmsg></header><body><items><item><addr1>경상남도 거창군 거창읍 중앙로 103</addr1><areacode>36</areacode><cat1>A02</cat1><cat2>A0207</cat2><cat3>A02070200</cat3><contentid>1866255</contentid><contenttypeid>15</contenttypeid><createdtime>20131203110702</createdtime><eventenddate>20210214</eventenddate><eventstartdate>20201213</eventstartdate><firstimage>http://tong.visitkorea.or.kr/cms/resource/31/2694131_image2_1.jpg</firstimage><firstimage2>http://tong.visitkorea.or.kr/cms/resource/31/2694131_image2_1.jpg</firstimage2><mapx>127.9095393091</mapx><mapy>35.6866949586</mapy><mlevel>6</mlevel><modifiedtime>20201208153115</modifiedtime><readcount>22057</readcount><sigungucode>2</sigungucode><tel>070-8809-9182</tel><title>거창 크리스마스트리문화축제 2021</title></item><item><addr1>충청남도 공주시 고마나루길 90</addr1><addr2>(웅진동)</addr2><areacode>34</areacode><cat1>A02</cat1><cat2>A0207</cat2><cat3>A02070200</cat3><contentid>2531702</contentid><contenttypeid>15</contenttypeid><createdtime>20180117143143</createdtime><eventenddate>20210131</eventenddate><eventstartdate>20210129</eventstartdate><firstimage>http://tong.visitkorea.or.kr/cms/resource/42/2702142_image2_1.jpg</firstimage><firstimage2>http://tong.visitkorea.or.kr/cms/resource/42/2702142_image2_1.jpg</firstimage2><mapx>127.1075869625</mapx><mapy>36.4666363013</mapy><mlevel>6</mlevel><modifiedtime>20201229111625</modifiedtime><readcount>3567</readcount><sigungucode>1</sigungucode><tel>1899-0088</tel><title>겨울공주 군밤축제 2021</title></item><item><addr1>경상남도 고성군 회화면 당항만로 1116</addr1><areacode>36</areacode><cat1>A02</cat1><cat2>A0207</cat2><cat3>A02070200</cat3><contentid>141105</contentid><contenttypeid>15</contenttypeid><createdtime>20060414000000</createdtime><eventenddate>20211107</eventenddate><eventstartdate>20210917</eventstartdate><firstimage>http://tong.visitkorea.or.kr/cms/resource/12/2648012_image2_1.JPG</firstimage><firstimage2>http://tong.visitkorea.or.kr/cms/resource/12/2648012_image2_1.JPG</firstimage2><mapx>128.4007962584</mapx><mapy>35.0581190364</mapy><mlevel>6</mlevel><modifiedtime>20200722150629</modifiedtime><readcount>178564</readcount><sigungucode>3</sigungucode><tel>055)670-3816</tel><title>경남고성공룡세계엑스포 2021</title></item><item><addr1>충청남도 계룡시 신도안면 정장리 16</addr1><areacode>34</areacode><cat1>A02</cat1><cat2>A0207</cat2><cat3>A02070200</cat3><contentid>1362833</contentid><contenttypeid>15</contenttypeid><createdtime>20110812145419</createdtime><eventenddate>20211017</eventenddate><eventstartdate>20211001</eventstartdate><firstimage>http://tong.visitkorea.or.kr/cms/resource/07/2549807_image2_1.jpg</firstimage><firstimage2>http://tong.visitkorea.or.kr/cms/resource/07/2549807_image2_1.jpg</firstimage2><mapx>127.2371213251</mapx><mapy>36.3068152207</mapy><mlevel>6</mlevel><modifiedtime>20200722150418</modifiedtime><readcount>76676</readcount><sigungucode>16</sigungucode><tel>042-840-3907</tel><title>계룡세계군문화엑스포 2021</title></item><item><addr1>강원도 원주시 호저면 호저로 1277-43</addr1><areacode>32</areacode><cat1>A02</cat1><cat2>A0207</cat2><cat3>A02070200</cat3><contentid>2517217</contentid><contenttypeid>15</contenttypeid><createdtime>20171123133259</createdtime><eventenddate>20210214</eventenddate><eventstartdate>20201120</eventstartdate><firstimage>http://tong.visitkorea.or.kr/cms/resource/58/2680058_image2_1.jpg</firstimage><firstimage2>http://tong.visitkorea.or.kr/cms/resource/58/2680058_image2_1.jpg</firstimage2><mapx>127.9154662381</mapx><mapy>37.4800230785</mapy><mlevel>6</mlevel><modifiedtime>20201102172800</modifiedtime><readcount>4922</readcount><sigungucode>9</sigungucode><tel>033-732-9586</tel><title>고니골빛축제 2020</title></item><item><addr1>경기도 고양시 일산동구 호수로 595</addr1><areacode>31</areacode><cat1>A02</cat1><cat2>A0207</cat2><cat3>A02070200</cat3><contentid>1725993</contentid><contenttypeid>15</contenttypeid><createdtime>20120926191535</createdtime><eventenddate>20211003</eventenddate><eventstartdate>20210918</eventstartdate><firstimage>http://tong.visitkorea.or.kr/cms/resource/62/2614562_image2_1.jpg</firstimage><firstimage2>http://tong.visitkorea.or.kr/cms/resource/62/2614562_image2_1.jpg</firstimage2><mapx>126.7686654803</mapx><mapy>37.6538792239</mapy><mlevel>6</mlevel><modifiedtime>20200902135835</modifiedtime><readcount>99757</readcount><sigungucode>2</sigungucode><tel>031-908-7750~2</tel><title>고양가을꽃축제 2021</title></item><item><addr1>경기도 고양시 일산동구 호수로 595</addr1><areacode>31</areacode><cat1>A02</cat1><cat2>A0207</cat2><cat3>A02070200</cat3><contentid>141799</contentid><contenttypeid>15</contenttypeid><createdtime>20070424000000</createdtime><eventenddate>20210516</eventenddate><eventstartdate>20210430</eventstartdate><firstimage>http://tong.visitkorea.or.kr/cms/resource/80/2601280_image2_1.jpg</firstimage><firstimage2>http://tong.visitkorea.or.kr/cms/resource/80/2601280_image2_1.jpg</firstimage2><mapx>126.7686849202</mapx><mapy>37.6539736577</mapy><mlevel>6</mlevel><modifiedtime>20200722144251</modifiedtime><readcount>572045</readcount><sigungucode>2</sigungucode><tel>031-908-7750~2</tel><title>고양국제꽃박람회 2021</title></item><item><addr1>광주광역시 북구 비엔날레로 111</addr1><areacode>5</areacode><cat1>A02</cat1><cat2>A0208</cat2><cat3>A02081300</cat3><contentid>2561750</contentid><contenttypeid>15</contenttypeid><createdtime>20181001144556</createdtime><eventenddate>20210509</eventenddate><eventstartdate>20210226</eventstartdate><firstimage>http://tong.visitkorea.or.kr/cms/resource/48/2561748_image2_1.JPG</firstimage><firstimage2>http://tong.visitkorea.or.kr/cms/resource/48/2561748_image2_1.JPG</firstimage2><mapx>126.8902647155</mapx><mapy>35.1825648257</mapy><mlevel>6</mlevel><modifiedtime>20200623151024</modifiedtime><readcount>663</readcount><sigungucode>4</sigungucode><tel>062-608-4114</tel><title>광주비엔날레 2021</title></item><item><addr1>강원도 춘천시 남산면 남이섬길 1</addr1><areacode>32</areacode><cat1>A02</cat1><cat2>A0208</cat2><cat3>A02081300</cat3><contentid>2653072</contentid><contenttypeid>15</contenttypeid><createdtime>20200417174004</createdtime><eventenddate>20210314</eventenddate><eventstartdate>20200415</eventstartdate><firstimage>http://tong.visitkorea.or.kr/cms/resource/68/2653068_image2_1.jpg</firstimage><firstimage2>http://tong.visitkorea.or.kr/cms/resource/68/2653068_image2_1.jpg</firstimage2><mapx>127.5261480243</mapx><mapy>37.7901798790</mapy><mlevel>6</mlevel><modifiedtime>20200723174132</modifiedtime><readcount>0</readcount><sigungucode>13</sigungucode><tel>031-580-8193~5</tel><title>남이섬 '사물 채집'展 2020</title></item><item><addr1>강원도 춘천시 남산면 남이섬길 1</addr1><areacode>32</areacode><cat1>A02</cat1><cat2>A0208</cat2><cat3>A02080500</cat3><contentid>2639667</contentid><contenttypeid>15</contenttypeid><createdtime>20191204173341</createdtime><eventenddate>20211231</eventenddate><eventstartdate>20201009</eventstartdate><firstimage>http://tong.visitkorea.or.kr/cms/resource/51/2677051_image2_1.jpg</firstimage><firstimage2>http://tong.visitkorea.or.kr/cms/resource/51/2677051_image2_1.jpg</firstimage2><mapx>127.5261480243</mapx><mapy>37.7901798790</mapy><mlevel>6</mlevel><modifiedtime>20201217173810</modifiedtime><readcount>0</readcount><sigungucode>13</sigungucode><tel>남이섬교육문화그룹 031-580-8193</tel><title>남이섬 '한스 크리스티안 안데르센상 도서전 : 책과 어린이를 하나로' 2021</title></item></items><numofrows>10</numofrows><pageno>1</pageno><totalcount>55</totalcount></body></response>"
      ]
     },
     "execution_count": 43,
     "metadata": {},
     "output_type": "execute_result"
    }
   ],
   "source": [
    "soup = bs(xml.content, features = 'html.parser')\n",
    "soup"
   ]
  },
  {
   "cell_type": "code",
   "execution_count": 46,
   "metadata": {},
   "outputs": [
    {
     "data": {
      "text/plain": [
       "<totalcount>55</totalcount>"
      ]
     },
     "execution_count": 46,
     "metadata": {},
     "output_type": "execute_result"
    }
   ],
   "source": [
    "soup.find('totalcount')   # 태그 선택"
   ]
  },
  {
   "cell_type": "code",
   "execution_count": 50,
   "metadata": {},
   "outputs": [
    {
     "data": {
      "text/plain": [
       "'55'"
      ]
     },
     "execution_count": 50,
     "metadata": {},
     "output_type": "execute_result"
    }
   ],
   "source": [
    "num_rows2 = soup.find('totalcount').text  # 텍스트만 출력\n",
    "num_rows2"
   ]
  },
  {
   "cell_type": "code",
   "execution_count": 51,
   "metadata": {},
   "outputs": [
    {
     "name": "stdout",
     "output_type": "stream",
     "text": [
      "http://api.visitkorea.or.kr/openapi/service/rest/KorService/searchFestival?serviceKey=zrwN1EZPDresnEODmQCFdkJiD52oniVUvH4XlfJ%2FwVs3dJVo%2F%2FaoSabrmXOXFNz6VDcI2dQHcIvMMlxPJMPMyQ%3D%3D&numOfRows=55&pageNo=1&MobileOS=ETC&MobileApp=AppTest&arrange=A&listYN=Y&eventStartDate=20210101&eventEndDate=20211231\n"
     ]
    }
   ],
   "source": [
    "#전체 데이터 개수로 재설정하여 실행\n",
    "\n",
    "start_day = '20210101'\n",
    "end_day = '20211231'\n",
    "\n",
    "url1 = 'http://api.visitkorea.or.kr/openapi/service/rest/KorService/searchFestival?serviceKey=' + key \n",
    "url2 = '&numOfRows=' + num_rows2 + '&pageNo=1&MobileOS=ETC&MobileApp=AppTest&arrange=A&listYN=Y' + '&eventStartDate=' + start_day + '&eventEndDate=' + end_day\n",
    "url = url1 + url2\n",
    "\n",
    "print(url)"
   ]
  },
  {
   "cell_type": "code",
   "execution_count": 55,
   "metadata": {},
   "outputs": [
    {
     "name": "stdout",
     "output_type": "stream",
     "text": [
      "55\n",
      "<item><addr1>경상남도 거창군 거창읍 중앙로 103</addr1><areacode>36</areacode><cat1>A02</cat1><cat2>A0207</cat2><cat3>A02070200</cat3><contentid>1866255</contentid><contenttypeid>15</contenttypeid><createdtime>20131203110702</createdtime><eventenddate>20210214</eventenddate><eventstartdate>20201213</eventstartdate><firstimage>http://tong.visitkorea.or.kr/cms/resource/31/2694131_image2_1.jpg</firstimage><firstimage2>http://tong.visitkorea.or.kr/cms/resource/31/2694131_image2_1.jpg</firstimage2><mapx>127.9095393091</mapx><mapy>35.6866949586</mapy><mlevel>6</mlevel><modifiedtime>20201208153115</modifiedtime><readcount>22057</readcount><sigungucode>2</sigungucode><tel>070-8809-9182</tel><title>거창 크리스마스트리문화축제 2021</title></item>\n"
     ]
    }
   ],
   "source": [
    "xml = requests.get(url)\n",
    "soup = bs(xml.content, 'html.parser')\n",
    "ls_data = soup.find_all('item')\n",
    "\n",
    "print(len(ls_data))\n",
    "print(ls_data[0])"
   ]
  },
  {
   "cell_type": "code",
   "execution_count": 61,
   "metadata": {},
   "outputs": [
    {
     "name": "stdout",
     "output_type": "stream",
     "text": [
      "[<addr1>경상남도 거창군 거창읍 중앙로 103</addr1>]\n",
      "<addr1>경상남도 거창군 거창읍 중앙로 103</addr1>\n",
      "경상남도 거창군 거창읍 중앙로 103\n",
      "경상남도 거창군 거창읍 중앙로 103\n"
     ]
    }
   ],
   "source": [
    "print(ls_data[0].find_all('addr1'))         # 모든 값이 리스트로 들어감\n",
    "print(ls_data[0].find('addr1'))             # 첫번째 검색 값을 반환\n",
    "print(ls_data[0].find('addr1').text)        # 텍스트만 출력\n",
    "print(ls_data[0].find('addr1').get_text())  # 텍스트만 출력"
   ]
  },
  {
   "cell_type": "markdown",
   "metadata": {},
   "source": [
    "- 특정 태그를 리스트에 저장"
   ]
  },
  {
   "cell_type": "code",
   "execution_count": 64,
   "metadata": {},
   "outputs": [
    {
     "data": {
      "text/plain": [
       "['거창 크리스마스트리문화축제 2021',\n",
       " '겨울공주 군밤축제 2021',\n",
       " '경남고성공룡세계엑스포 2021',\n",
       " '계룡세계군문화엑스포 2021',\n",
       " '고니골빛축제 2020',\n",
       " '고양가을꽃축제 2021',\n",
       " '고양국제꽃박람회 2021',\n",
       " '광주비엔날레 2021',\n",
       " \"남이섬 '사물 채집'展 2020\",\n",
       " \"남이섬 '한스 크리스티안 안데르센상 도서전 : 책과 어린이를 하나로' 2021\"]"
      ]
     },
     "execution_count": 64,
     "metadata": {},
     "output_type": "execute_result"
    }
   ],
   "source": [
    "ls_title = []\n",
    "for data in ls_data:\n",
    "    ls_title.append(data.find('title').text)\n",
    "    \n",
    "ls_title[:10]"
   ]
  },
  {
   "cell_type": "code",
   "execution_count": 65,
   "metadata": {},
   "outputs": [
    {
     "data": {
      "text/plain": [
       "['거창 크리스마스트리문화축제 2021',\n",
       " '겨울공주 군밤축제 2021',\n",
       " '경남고성공룡세계엑스포 2021',\n",
       " '계룡세계군문화엑스포 2021',\n",
       " '고니골빛축제 2020',\n",
       " '고양가을꽃축제 2021',\n",
       " '고양국제꽃박람회 2021',\n",
       " '광주비엔날레 2021',\n",
       " \"남이섬 '사물 채집'展 2020\",\n",
       " \"남이섬 '한스 크리스티안 안데르센상 도서전 : 책과 어린이를 하나로' 2021\"]"
      ]
     },
     "execution_count": 65,
     "metadata": {},
     "output_type": "execute_result"
    }
   ],
   "source": [
    "title = [data.find('title').text for data in ls_data]\n",
    "\n",
    "title[:10]"
   ]
  },
  {
   "cell_type": "code",
   "execution_count": 71,
   "metadata": {},
   "outputs": [
    {
     "data": {
      "text/plain": [
       "<item><addr1>경상남도 거창군 거창읍 중앙로 103</addr1><areacode>36</areacode><cat1>A02</cat1><cat2>A0207</cat2><cat3>A02070200</cat3><contentid>1866255</contentid><contenttypeid>15</contenttypeid><createdtime>20131203110702</createdtime><eventenddate>20210214</eventenddate><eventstartdate>20201213</eventstartdate><firstimage>http://tong.visitkorea.or.kr/cms/resource/31/2694131_image2_1.jpg</firstimage><firstimage2>http://tong.visitkorea.or.kr/cms/resource/31/2694131_image2_1.jpg</firstimage2><mapx>127.9095393091</mapx><mapy>35.6866949586</mapy><mlevel>6</mlevel><modifiedtime>20201208153115</modifiedtime><readcount>22057</readcount><sigungucode>2</sigungucode><tel>070-8809-9182</tel><title>거창 크리스마스트리문화축제 2021</title></item>"
      ]
     },
     "execution_count": 71,
     "metadata": {},
     "output_type": "execute_result"
    }
   ],
   "source": [
    "ls_data[0]"
   ]
  },
  {
   "cell_type": "code",
   "execution_count": 86,
   "metadata": {},
   "outputs": [
    {
     "data": {
      "text/plain": [
       "[{'축제명': '거창 크리스마스트리문화축제 2021',\n",
       "  '시작일': '20201213',\n",
       "  '종료일': '20210214',\n",
       "  '주소': '경상남도 거창군 거창읍 중앙로 103',\n",
       "  '위도': '127.9095393091',\n",
       "  '경도': '35.6866949586'},\n",
       " {'축제명': '겨울공주 군밤축제 2021',\n",
       "  '시작일': '20210129',\n",
       "  '종료일': '20210131',\n",
       "  '주소': '충청남도 공주시 고마나루길 90',\n",
       "  '위도': '127.1075869625',\n",
       "  '경도': '36.4666363013'},\n",
       " {'축제명': '경남고성공룡세계엑스포 2021',\n",
       "  '시작일': '20210917',\n",
       "  '종료일': '20211107',\n",
       "  '주소': '경상남도 고성군 회화면 당항만로 1116',\n",
       "  '위도': '128.4007962584',\n",
       "  '경도': '35.0581190364'}]"
      ]
     },
     "metadata": {},
     "output_type": "display_data"
    }
   ],
   "source": [
    "ls_item = []\n",
    "\n",
    "for data in ls_data:\n",
    "    try:\n",
    "        title = data.find('title').text\n",
    "        s_date = data.find('eventstartdate').text\n",
    "        e_date = data.find('eventenddate').text\n",
    "        addr = data.find('addr1').text\n",
    "        map_x = data.find('mapx').text\n",
    "        map_y = data.find('mapy').text\n",
    "    except:\n",
    "        map_x = '0'\n",
    "        map_y = '0'\n",
    "        continue\n",
    "    \n",
    "    ls_item.append({'축제명' : title,\n",
    "                   '시작일' : s_date,\n",
    "                   '종료일' : e_date,\n",
    "                   '주소' : addr,\n",
    "                   '위도' : map_x,\n",
    "                   '경도' : map_y})\n",
    "    \n",
    "display(ls_item[:3])"
   ]
  },
  {
   "cell_type": "code",
   "execution_count": 88,
   "metadata": {},
   "outputs": [
    {
     "data": {
      "text/html": [
       "<div>\n",
       "<style scoped>\n",
       "    .dataframe tbody tr th:only-of-type {\n",
       "        vertical-align: middle;\n",
       "    }\n",
       "\n",
       "    .dataframe tbody tr th {\n",
       "        vertical-align: top;\n",
       "    }\n",
       "\n",
       "    .dataframe thead th {\n",
       "        text-align: right;\n",
       "    }\n",
       "</style>\n",
       "<table border=\"1\" class=\"dataframe\">\n",
       "  <thead>\n",
       "    <tr style=\"text-align: right;\">\n",
       "      <th></th>\n",
       "      <th>축제명</th>\n",
       "      <th>시작일</th>\n",
       "      <th>종료일</th>\n",
       "      <th>주소</th>\n",
       "      <th>위도</th>\n",
       "      <th>경도</th>\n",
       "    </tr>\n",
       "  </thead>\n",
       "  <tbody>\n",
       "    <tr>\n",
       "      <th>0</th>\n",
       "      <td>거창 크리스마스트리문화축제 2021</td>\n",
       "      <td>20201213</td>\n",
       "      <td>20210214</td>\n",
       "      <td>경상남도 거창군 거창읍 중앙로 103</td>\n",
       "      <td>127.9095393091</td>\n",
       "      <td>35.6866949586</td>\n",
       "    </tr>\n",
       "    <tr>\n",
       "      <th>1</th>\n",
       "      <td>겨울공주 군밤축제 2021</td>\n",
       "      <td>20210129</td>\n",
       "      <td>20210131</td>\n",
       "      <td>충청남도 공주시 고마나루길 90</td>\n",
       "      <td>127.1075869625</td>\n",
       "      <td>36.4666363013</td>\n",
       "    </tr>\n",
       "    <tr>\n",
       "      <th>2</th>\n",
       "      <td>경남고성공룡세계엑스포 2021</td>\n",
       "      <td>20210917</td>\n",
       "      <td>20211107</td>\n",
       "      <td>경상남도 고성군 회화면 당항만로 1116</td>\n",
       "      <td>128.4007962584</td>\n",
       "      <td>35.0581190364</td>\n",
       "    </tr>\n",
       "    <tr>\n",
       "      <th>3</th>\n",
       "      <td>계룡세계군문화엑스포 2021</td>\n",
       "      <td>20211001</td>\n",
       "      <td>20211017</td>\n",
       "      <td>충청남도 계룡시 신도안면 정장리 16</td>\n",
       "      <td>127.2371213251</td>\n",
       "      <td>36.3068152207</td>\n",
       "    </tr>\n",
       "    <tr>\n",
       "      <th>4</th>\n",
       "      <td>고니골빛축제 2020</td>\n",
       "      <td>20201120</td>\n",
       "      <td>20210214</td>\n",
       "      <td>강원도 원주시 호저면 호저로 1277-43</td>\n",
       "      <td>127.9154662381</td>\n",
       "      <td>37.4800230785</td>\n",
       "    </tr>\n",
       "  </tbody>\n",
       "</table>\n",
       "</div>"
      ],
      "text/plain": [
       "                   축제명       시작일       종료일                       주소  \\\n",
       "0  거창 크리스마스트리문화축제 2021  20201213  20210214     경상남도 거창군 거창읍 중앙로 103   \n",
       "1       겨울공주 군밤축제 2021  20210129  20210131        충청남도 공주시 고마나루길 90   \n",
       "2     경남고성공룡세계엑스포 2021  20210917  20211107   경상남도 고성군 회화면 당항만로 1116   \n",
       "3      계룡세계군문화엑스포 2021  20211001  20211017     충청남도 계룡시 신도안면 정장리 16   \n",
       "4          고니골빛축제 2020  20201120  20210214  강원도 원주시 호저면 호저로 1277-43   \n",
       "\n",
       "               위도             경도  \n",
       "0  127.9095393091  35.6866949586  \n",
       "1  127.1075869625  36.4666363013  \n",
       "2  128.4007962584  35.0581190364  \n",
       "3  127.2371213251  36.3068152207  \n",
       "4  127.9154662381  37.4800230785  "
      ]
     },
     "execution_count": 88,
     "metadata": {},
     "output_type": "execute_result"
    }
   ],
   "source": [
    "import pandas as pd\n",
    "\n",
    "df = pd.DataFrame(ls_item)\n",
    "df.head()"
   ]
  },
  {
   "cell_type": "markdown",
   "metadata": {},
   "source": [
    "# 서울시 지하철 이용객 OpenAPI"
   ]
  },
  {
   "cell_type": "code",
   "execution_count": 109,
   "metadata": {},
   "outputs": [
    {
     "name": "stdout",
     "output_type": "stream",
     "text": [
      "(597, 5)\n"
     ]
    },
    {
     "data": {
      "text/html": [
       "<div>\n",
       "<style scoped>\n",
       "    .dataframe tbody tr th:only-of-type {\n",
       "        vertical-align: middle;\n",
       "    }\n",
       "\n",
       "    .dataframe tbody tr th {\n",
       "        vertical-align: top;\n",
       "    }\n",
       "\n",
       "    .dataframe thead th {\n",
       "        text-align: right;\n",
       "    }\n",
       "</style>\n",
       "<table border=\"1\" class=\"dataframe\">\n",
       "  <thead>\n",
       "    <tr style=\"text-align: right;\">\n",
       "      <th></th>\n",
       "      <th>날짜</th>\n",
       "      <th>호선</th>\n",
       "      <th>역명</th>\n",
       "      <th>승차</th>\n",
       "      <th>하차</th>\n",
       "    </tr>\n",
       "  </thead>\n",
       "  <tbody>\n",
       "    <tr>\n",
       "      <th>0</th>\n",
       "      <td>20210103</td>\n",
       "      <td>1호선</td>\n",
       "      <td>서울역</td>\n",
       "      <td>28417</td>\n",
       "      <td>28710</td>\n",
       "    </tr>\n",
       "    <tr>\n",
       "      <th>1</th>\n",
       "      <td>20210103</td>\n",
       "      <td>1호선</td>\n",
       "      <td>동묘앞</td>\n",
       "      <td>5611</td>\n",
       "      <td>5743</td>\n",
       "    </tr>\n",
       "    <tr>\n",
       "      <th>2</th>\n",
       "      <td>20210103</td>\n",
       "      <td>1호선</td>\n",
       "      <td>시청</td>\n",
       "      <td>14889</td>\n",
       "      <td>14539</td>\n",
       "    </tr>\n",
       "    <tr>\n",
       "      <th>3</th>\n",
       "      <td>20210103</td>\n",
       "      <td>1호선</td>\n",
       "      <td>종각</td>\n",
       "      <td>22516</td>\n",
       "      <td>21119</td>\n",
       "    </tr>\n",
       "    <tr>\n",
       "      <th>4</th>\n",
       "      <td>20210103</td>\n",
       "      <td>1호선</td>\n",
       "      <td>종로3가</td>\n",
       "      <td>16680</td>\n",
       "      <td>15408</td>\n",
       "    </tr>\n",
       "  </tbody>\n",
       "</table>\n",
       "</div>"
      ],
      "text/plain": [
       "         날짜   호선    역명     승차     하차\n",
       "0  20210103  1호선   서울역  28417  28710\n",
       "1  20210103  1호선   동묘앞   5611   5743\n",
       "2  20210103  1호선    시청  14889  14539\n",
       "3  20210103  1호선    종각  22516  21119\n",
       "4  20210103  1호선  종로3가  16680  15408"
      ]
     },
     "metadata": {},
     "output_type": "display_data"
    }
   ],
   "source": [
    "import requests\n",
    "from bs4 import BeautifulSoup as bs\n",
    "\n",
    "fdir = '/mnt/c/edu/py_data/openapi/'\n",
    "\n",
    "with open(fdir + 'subway_count_key.txt') as f:\n",
    "    key = f.read()\n",
    "    \n",
    "url = 'http://openapi.seoul.go.kr:8088/' + key + '/xml/CardSubwayStatsNew/1/1000/20201231'\n",
    "xml = requests.get(url)\n",
    "soup = bs(xml.content, features = 'html.parser')\n",
    "\n",
    "\n",
    "info = soup.find_all('row')\n",
    "ls_count = []\n",
    "\n",
    "for i in info:\n",
    "    line = i.find('line_num').text\n",
    "    stat = i.find('sub_sta_nm').text\n",
    "    on = i.find('ride_pasgr_num').text\n",
    "    off = i.find('alight_pasgr_num').text\n",
    "    date = i.find('work_dt').text\n",
    "    \n",
    "    ls_count.append({'날짜' : date,\n",
    "                    '호선' : line,\n",
    "                    '역명' : stat,\n",
    "                    '승차' : on,\n",
    "                    '하차' : off})\n",
    "    \n",
    "df = pd.DataFrame(ls_count)\n",
    "print(df.shape)\n",
    "display(df.head())"
   ]
  },
  {
   "cell_type": "code",
   "execution_count": 175,
   "metadata": {},
   "outputs": [],
   "source": [
    "def station_count(date):\n",
    "    url = 'http://openapi.seoul.go.kr:8088/' + str(key) + '/xml/CardSubwayStatsNew/1/1000/' + str(date)\n",
    "    xml = requests.get(url)\n",
    "    soup = bs(xml.content, features = 'html.parser')\n",
    "    info = soup.find_all('row')\n",
    "    \n",
    "    ls_count = []\n",
    "    for i in info:\n",
    "        line = i.find('line_num').text\n",
    "        stat = i.find('sub_sta_nm').text\n",
    "        on = i.find('ride_pasgr_num').text\n",
    "        off = i.find('alight_pasgr_num').text\n",
    "        date = date\n",
    "\n",
    "        ls_count.append({'날짜' : date,\n",
    "                        '호선' : line,\n",
    "                        '역명' : stat,\n",
    "                        '승차' : on,\n",
    "                        '하차' : off})\n",
    "\n",
    "    df = pd.DataFrame(ls_count)\n",
    "    return df"
   ]
  },
  {
   "cell_type": "code",
   "execution_count": 176,
   "metadata": {},
   "outputs": [
    {
     "data": {
      "text/html": [
       "<div>\n",
       "<style scoped>\n",
       "    .dataframe tbody tr th:only-of-type {\n",
       "        vertical-align: middle;\n",
       "    }\n",
       "\n",
       "    .dataframe tbody tr th {\n",
       "        vertical-align: top;\n",
       "    }\n",
       "\n",
       "    .dataframe thead th {\n",
       "        text-align: right;\n",
       "    }\n",
       "</style>\n",
       "<table border=\"1\" class=\"dataframe\">\n",
       "  <thead>\n",
       "    <tr style=\"text-align: right;\">\n",
       "      <th></th>\n",
       "      <th>날짜</th>\n",
       "      <th>호선</th>\n",
       "      <th>역명</th>\n",
       "      <th>승차</th>\n",
       "      <th>하차</th>\n",
       "    </tr>\n",
       "  </thead>\n",
       "  <tbody>\n",
       "    <tr>\n",
       "      <th>471</th>\n",
       "      <td>20191231</td>\n",
       "      <td>공항철도 1호선</td>\n",
       "      <td>인천공항1터미널</td>\n",
       "      <td>17320</td>\n",
       "      <td>17683</td>\n",
       "    </tr>\n",
       "    <tr>\n",
       "      <th>472</th>\n",
       "      <td>20191231</td>\n",
       "      <td>공항철도 1호선</td>\n",
       "      <td>인천공항2터미널</td>\n",
       "      <td>5874</td>\n",
       "      <td>5356</td>\n",
       "    </tr>\n",
       "  </tbody>\n",
       "</table>\n",
       "</div>"
      ],
      "text/plain": [
       "           날짜        호선        역명     승차     하차\n",
       "471  20191231  공항철도 1호선  인천공항1터미널  17320  17683\n",
       "472  20191231  공항철도 1호선  인천공항2터미널   5874   5356"
      ]
     },
     "execution_count": 176,
     "metadata": {},
     "output_type": "execute_result"
    }
   ],
   "source": [
    "c_20201231 = station_count(20191231)\n",
    "c_20201231[c_20201231['역명'].str.contains('인천공항')]"
   ]
  },
  {
   "cell_type": "code",
   "execution_count": 177,
   "metadata": {},
   "outputs": [
    {
     "data": {
      "text/html": [
       "<div>\n",
       "<style scoped>\n",
       "    .dataframe tbody tr th:only-of-type {\n",
       "        vertical-align: middle;\n",
       "    }\n",
       "\n",
       "    .dataframe tbody tr th {\n",
       "        vertical-align: top;\n",
       "    }\n",
       "\n",
       "    .dataframe thead th {\n",
       "        text-align: right;\n",
       "    }\n",
       "</style>\n",
       "<table border=\"1\" class=\"dataframe\">\n",
       "  <thead>\n",
       "    <tr style=\"text-align: right;\">\n",
       "      <th></th>\n",
       "      <th>날짜</th>\n",
       "      <th>호선</th>\n",
       "      <th>역명</th>\n",
       "      <th>승차</th>\n",
       "      <th>하차</th>\n",
       "    </tr>\n",
       "  </thead>\n",
       "  <tbody>\n",
       "    <tr>\n",
       "      <th>471</th>\n",
       "      <td>20201231</td>\n",
       "      <td>공항철도 1호선</td>\n",
       "      <td>인천공항1터미널</td>\n",
       "      <td>2964</td>\n",
       "      <td>3398</td>\n",
       "    </tr>\n",
       "    <tr>\n",
       "      <th>472</th>\n",
       "      <td>20201231</td>\n",
       "      <td>공항철도 1호선</td>\n",
       "      <td>인천공항2터미널</td>\n",
       "      <td>1700</td>\n",
       "      <td>1723</td>\n",
       "    </tr>\n",
       "  </tbody>\n",
       "</table>\n",
       "</div>"
      ],
      "text/plain": [
       "           날짜        호선        역명    승차    하차\n",
       "471  20201231  공항철도 1호선  인천공항1터미널  2964  3398\n",
       "472  20201231  공항철도 1호선  인천공항2터미널  1700  1723"
      ]
     },
     "execution_count": 177,
     "metadata": {},
     "output_type": "execute_result"
    }
   ],
   "source": [
    "c_20201231 = station_count(20201231)\n",
    "c_20201231[c_20201231['역명'].str.contains('인천공항')]"
   ]
  },
  {
   "cell_type": "code",
   "execution_count": 178,
   "metadata": {},
   "outputs": [
    {
     "data": {
      "text/html": [
       "<div>\n",
       "<style scoped>\n",
       "    .dataframe tbody tr th:only-of-type {\n",
       "        vertical-align: middle;\n",
       "    }\n",
       "\n",
       "    .dataframe tbody tr th {\n",
       "        vertical-align: top;\n",
       "    }\n",
       "\n",
       "    .dataframe thead th {\n",
       "        text-align: right;\n",
       "    }\n",
       "</style>\n",
       "<table border=\"1\" class=\"dataframe\">\n",
       "  <thead>\n",
       "    <tr style=\"text-align: right;\">\n",
       "      <th></th>\n",
       "      <th>날짜</th>\n",
       "      <th>호선</th>\n",
       "      <th>역명</th>\n",
       "      <th>승차</th>\n",
       "      <th>하차</th>\n",
       "    </tr>\n",
       "  </thead>\n",
       "  <tbody>\n",
       "    <tr>\n",
       "      <th>0</th>\n",
       "      <td>20201231</td>\n",
       "      <td>1호선</td>\n",
       "      <td>서울역</td>\n",
       "      <td>28417</td>\n",
       "      <td>28710</td>\n",
       "    </tr>\n",
       "    <tr>\n",
       "      <th>1</th>\n",
       "      <td>20201231</td>\n",
       "      <td>1호선</td>\n",
       "      <td>동묘앞</td>\n",
       "      <td>5611</td>\n",
       "      <td>5743</td>\n",
       "    </tr>\n",
       "    <tr>\n",
       "      <th>2</th>\n",
       "      <td>20201231</td>\n",
       "      <td>1호선</td>\n",
       "      <td>시청</td>\n",
       "      <td>14889</td>\n",
       "      <td>14539</td>\n",
       "    </tr>\n",
       "    <tr>\n",
       "      <th>3</th>\n",
       "      <td>20201231</td>\n",
       "      <td>1호선</td>\n",
       "      <td>종각</td>\n",
       "      <td>22516</td>\n",
       "      <td>21119</td>\n",
       "    </tr>\n",
       "    <tr>\n",
       "      <th>4</th>\n",
       "      <td>20201231</td>\n",
       "      <td>1호선</td>\n",
       "      <td>종로3가</td>\n",
       "      <td>16680</td>\n",
       "      <td>15408</td>\n",
       "    </tr>\n",
       "    <tr>\n",
       "      <th>5</th>\n",
       "      <td>20201231</td>\n",
       "      <td>1호선</td>\n",
       "      <td>종로5가</td>\n",
       "      <td>16665</td>\n",
       "      <td>16299</td>\n",
       "    </tr>\n",
       "    <tr>\n",
       "      <th>6</th>\n",
       "      <td>20201231</td>\n",
       "      <td>1호선</td>\n",
       "      <td>동대문</td>\n",
       "      <td>8387</td>\n",
       "      <td>7452</td>\n",
       "    </tr>\n",
       "    <tr>\n",
       "      <th>7</th>\n",
       "      <td>20201231</td>\n",
       "      <td>1호선</td>\n",
       "      <td>신설동</td>\n",
       "      <td>10660</td>\n",
       "      <td>10116</td>\n",
       "    </tr>\n",
       "    <tr>\n",
       "      <th>8</th>\n",
       "      <td>20201231</td>\n",
       "      <td>1호선</td>\n",
       "      <td>제기동</td>\n",
       "      <td>12913</td>\n",
       "      <td>13165</td>\n",
       "    </tr>\n",
       "    <tr>\n",
       "      <th>9</th>\n",
       "      <td>20201231</td>\n",
       "      <td>1호선</td>\n",
       "      <td>청량리(서울시립대입구)</td>\n",
       "      <td>15635</td>\n",
       "      <td>15369</td>\n",
       "    </tr>\n",
       "  </tbody>\n",
       "</table>\n",
       "</div>"
      ],
      "text/plain": [
       "         날짜   호선            역명     승차     하차\n",
       "0  20201231  1호선           서울역  28417  28710\n",
       "1  20201231  1호선           동묘앞   5611   5743\n",
       "2  20201231  1호선            시청  14889  14539\n",
       "3  20201231  1호선            종각  22516  21119\n",
       "4  20201231  1호선          종로3가  16680  15408\n",
       "5  20201231  1호선          종로5가  16665  16299\n",
       "6  20201231  1호선           동대문   8387   7452\n",
       "7  20201231  1호선           신설동  10660  10116\n",
       "8  20201231  1호선           제기동  12913  13165\n",
       "9  20201231  1호선  청량리(서울시립대입구)  15635  15369"
      ]
     },
     "execution_count": 178,
     "metadata": {},
     "output_type": "execute_result"
    }
   ],
   "source": [
    "c_20201231[c_20201231['호선']=='1호선']"
   ]
  },
  {
   "cell_type": "code",
   "execution_count": 179,
   "metadata": {},
   "outputs": [
    {
     "data": {
      "text/plain": [
       "array(['1호선', '2호선', '3호선', '4호선', '5호선', '6호선', '7호선', '8호선', '9호선',\n",
       "       '9호선2~3단계', '경강선', '경부선', '경원선', '경의선', '경인선', '경춘선', '공항철도 1호선',\n",
       "       '과천선', '분당선', '수인선', '안산선', '우이신설선', '일산선', '장항선', '중앙선'],\n",
       "      dtype=object)"
      ]
     },
     "execution_count": 179,
     "metadata": {},
     "output_type": "execute_result"
    }
   ],
   "source": [
    "df = station_count(20201231)\n",
    "\n",
    "df['호선'].unique()  # 열에서 고유한 값을 출력"
   ]
  },
  {
   "cell_type": "code",
   "execution_count": 180,
   "metadata": {},
   "outputs": [
    {
     "name": "stdout",
     "output_type": "stream",
     "text": [
      "[호선] \n",
      " 호선 수:  25 \n",
      " ['1호선' '2호선' '3호선' '4호선' '5호선' '6호선' '7호선' '8호선' '9호선' '9호선2~3단계' '경강선'\n",
      " '경부선' '경원선' '경의선' '경인선' '경춘선' '공항철도 1호선' '과천선' '분당선' '수인선' '안산선' '우이신설선'\n",
      " '일산선' '장항선' '중앙선']\n",
      "[역명] \n",
      " 역명 수:  517 \n",
      " ['서울역' '동묘앞' '시청' '종각' '종로3가' '종로5가' '동대문' '신설동' '제기동' '청량리(서울시립대입구)'\n",
      " '을지로입구' '을지로3가' '을지로4가' '동대문역사문화공원(DDP)' '신당' '상왕십리' '왕십리(성동구청)' '한양대'\n",
      " '뚝섬' '성수' '건대입구' '구의(광진구청)' '강변(동서울터미널)' '잠실나루' '잠실(송파구청)' '잠실새내' '종합운동장'\n",
      " '삼성(무역센터)' '선릉' '역삼' '강남' '교대(법원.검찰청)' '서초' '방배' '사당' '낙성대(강감찬)'\n",
      " '서울대입구(관악구청)' '봉천' '신림' '신대방' '구로디지털단지' '대림(구로구청)' '신도림' '문래' '영등포구청'\n",
      " '당산' '합정' '홍대입구' '신촌' '이대' '아현' '충정로(경기대입구)' '용답' '신답' '도림천' '양천구청'\n",
      " '신정네거리' '용두(동대문구청)' '지축' '구파발' '연신내' '불광' '녹번' '홍제' '무악재' '독립문'\n",
      " '경복궁(정부서울청사)' '안국' '충무로' '동대입구' '약수' '금호' '옥수' '압구정' '신사' '잠원' '고속터미널'\n",
      " '남부터미널(예술의전당)' '양재(서초구청)' '매봉' '도곡' '대치' '학여울' '대청' '일원' '수서' '가락시장'\n",
      " '경찰병원' '오금' '수유(강북구청)' '미아(서울사이버대학)' '미아사거리' '길음' '성신여대입구(돈암)'\n",
      " '한성대입구(삼선교)' '혜화' '명동' '회현(남대문시장)' '숙대입구(갈월)' '삼각지' '신용산' '이촌(국립중앙박물관)'\n",
      " '동작(현충원)' '총신대입구(이수)' '남태령' '당고개' '상계' '노원' '창동' '쌍문' '방화' '개화산' '김포공항'\n",
      " '송정' '마곡' '발산' '우장산' '화곡' '까치산' '신정(은행정)' '목동' '오목교(목동운동장앞)' '양평' '영등포시장'\n",
      " '신길' '여의도' '여의나루' '마포' '공덕' '애오개' '서대문' '광화문(세종문화회관)' '청구' '신금호' '행당'\n",
      " '마장' '답십리' '장한평' '군자(능동)' '아차산(어린이대공원후문)' '광나루(장신대)' '천호(풍납토성)' '강동' '길동'\n",
      " '굽은다리(강동구민회관앞)' '명일' '고덕' '상일동' '둔촌동' '올림픽공원(한국체대)' '방이' '개롱' '거여' '마천'\n",
      " '미사' '하남풍산' '응암' '역촌' '독바위' '구산' '새절(신사)' '증산(명지대앞)' '디지털미디어시티'\n",
      " '월드컵경기장(성산)' '마포구청' '망원' '상수' '광흥창(서강)' '대흥(서강대앞)' '효창공원앞' '녹사평(용산구청)'\n",
      " '이태원' '한강진' '버티고개' '창신' '보문' '안암(고대병원앞)' '고려대(종암)' '월곡(동덕여대)'\n",
      " '상월곡(한국과학기술연구원)' '돌곶이' '석계' '태릉입구' '화랑대(서울여대입구)' '봉화산(서울의료원)' '장암' '도봉산'\n",
      " '수락산' '마들' '중계' '하계' '공릉(서울과학기술대)' '먹골' '중화' '상봉(시외버스터미널)' '면목' '사가정'\n",
      " '용마산(용마폭포공원)' '중곡' '어린이대공원(세종대)' '뚝섬유원지' '청담' '강남구청' '학동' '논현' '반포' '내방'\n",
      " '이수' '남성' '숭실대입구(살피재)' '상도' '장승배기' '신대방삼거리' '보라매' '신풍' '남구로' '가산디지털단지'\n",
      " '철산' '광명사거리' '천왕' '온수(성공회대입구)' '까치울' '부천종합운동장' '춘의' '신중동' '부천시청' '상동'\n",
      " '삼산체육관' '굴포천' '부평구청' '암사' '강동구청' '몽촌토성(평화의문)' '석촌' '송파' '문정' '장지' '복정'\n",
      " '산성' '남한산성입구(성남법원.검찰청)' '단대오거리' '신흥' '수진' '모란' '개화' '공항시장' '신방화'\n",
      " '마곡나루(서울식물원)' '양천향교' '가양' '증미' '등촌' '염창' '신목동' '선유도' '국회의사당' '샛강' '노량진'\n",
      " '노들' '흑석(중앙대입구)' '구반포' '신반포' '사평' '신논현' '언주' '선정릉' '삼성중앙' '봉은사' '삼전'\n",
      " '석촌고분' '송파나루' '한성백제' '둔촌오륜' '중앙보훈병원' '판교' '이매' '삼동' '경기광주' '초월' '곤지암'\n",
      " '신둔도예촌' '이천' '부발' '세종대왕릉' '여주' '남영' '용산' '대방' '영등포' '구로' '금천구청' '석수' '관악'\n",
      " '안양' '명학' '금정' '군포' '의왕' '성균관대' '화서' '수원' '독산' '세류' '병점' '세마' '오산대' '오산'\n",
      " '진위' '송탄' '서정리' '지제' '평택' '성환' '직산' '두정' '천안' '당정' '서동탄' '광명' '서빙고' '한남'\n",
      " '응봉' '외대앞' '신이문' '광운대' '월계' '녹천' '방학' '도봉' '망월사' '회룡' '의정부' '가능' '녹양'\n",
      " '양주' '덕계' '덕정' '지행' '동두천중앙' '보산' '동두천' '소요산' '서강대' '가좌' '수색' '화전' '강매'\n",
      " '행신' '능곡' '곡산' '백마' '풍산' '일산' '탄현' '야당' '운정' '금릉' '금촌' '월롱' '파주' '문산'\n",
      " '임진강' '개봉' '오류동' '역곡' '부천' '송내' '부평' '백운' '동암' '주안' '제물포' '동인천' '인천' '구일'\n",
      " '소사' '부개' '간석' '도원' '중동' '도화' '신내' '갈매' '별내' '퇴계원' '사릉' '금곡' '평내호평' '천마산'\n",
      " '마석' '대성리' '청평' '상천' '가평' '굴봉산' '백양리' '강촌' '김유정' '남춘천' '춘천' '계양' '검암'\n",
      " '청라국제도시' '운서' '공항화물청사' '인천공항1터미널' '인천공항2터미널' '영종' '선바위' '경마공원' '대공원' '과천'\n",
      " '정부과천청사' '인덕원' '평촌' '범계' '한티' '구룡' '개포동' '대모산입구' '서울숲' '압구정로데오' '가천대'\n",
      " '태평' '야탑' '서현' '수내' '정자' '미금' '오리' '보정' '죽전' '구성' '신갈' '기흥' '상갈' '청명'\n",
      " '영통' '망포' '매탄권선' '수원시청' '매교' '고색' '오목천' '어천' '야목' '사리' '달월' '월곶' '소래포구'\n",
      " '인천논현' '호구포' '남동인더스파크' '원인재' '연수' '송도' '인하대' '숭의' '신포' '산본' '대야미' '반월'\n",
      " '상록수' '한대앞' '중앙' '고잔' '초지' '안산' '신길온천' '정왕' '오이도' '수리산' '북한산우이' '솔밭공원'\n",
      " '4.19민주묘지' '가오리' '화계' '삼양' '삼양사거리' '솔샘' '북한산보국문' '정릉' '원흥' '삼송' '원당' '화정'\n",
      " '대곡' '백석' '마두' '정발산' '주엽' '대화' '봉명' '쌍용(나사렛대)' '아산' '배방' '온양온천'\n",
      " '신창(순천향대)' '회기' '중랑' '망우' '양원' '구리' '도농' '양정' '덕소' '도심' '팔당' '운길산' '양수'\n",
      " '신원' '국수' '아신' '오빈' '원덕' '용문' '지평']\n"
     ]
    }
   ],
   "source": [
    "print('[호선] \\n', '호선 수: ', len(df['호선'].unique()), '\\n', df['호선'].unique())\n",
    "print('[역명] \\n', '역명 수: ', len(df['역명'].unique()), '\\n', df['역명'].unique())\n"
   ]
  },
  {
   "cell_type": "markdown",
   "metadata": {},
   "source": [
    "# 미션\n",
    "- 1호선의 12월 1일부터 12월 31일까지 승하차 인원 계산하기"
   ]
  },
  {
   "cell_type": "code",
   "execution_count": 181,
   "metadata": {},
   "outputs": [
    {
     "data": {
      "text/html": [
       "<div>\n",
       "<style scoped>\n",
       "    .dataframe tbody tr th:only-of-type {\n",
       "        vertical-align: middle;\n",
       "    }\n",
       "\n",
       "    .dataframe tbody tr th {\n",
       "        vertical-align: top;\n",
       "    }\n",
       "\n",
       "    .dataframe thead th {\n",
       "        text-align: right;\n",
       "    }\n",
       "</style>\n",
       "<table border=\"1\" class=\"dataframe\">\n",
       "  <thead>\n",
       "    <tr style=\"text-align: right;\">\n",
       "      <th></th>\n",
       "      <th>날짜</th>\n",
       "      <th>호선</th>\n",
       "      <th>역명</th>\n",
       "      <th>승차</th>\n",
       "      <th>하차</th>\n",
       "    </tr>\n",
       "  </thead>\n",
       "  <tbody>\n",
       "    <tr>\n",
       "      <th>0</th>\n",
       "      <td>20201201</td>\n",
       "      <td>1호선</td>\n",
       "      <td>서울역</td>\n",
       "      <td>34223</td>\n",
       "      <td>32123</td>\n",
       "    </tr>\n",
       "    <tr>\n",
       "      <th>1</th>\n",
       "      <td>20201202</td>\n",
       "      <td>1호선</td>\n",
       "      <td>서울역</td>\n",
       "      <td>34819</td>\n",
       "      <td>32245</td>\n",
       "    </tr>\n",
       "    <tr>\n",
       "      <th>2</th>\n",
       "      <td>20201203</td>\n",
       "      <td>1호선</td>\n",
       "      <td>서울역</td>\n",
       "      <td>34581</td>\n",
       "      <td>32527</td>\n",
       "    </tr>\n",
       "    <tr>\n",
       "      <th>3</th>\n",
       "      <td>20201204</td>\n",
       "      <td>1호선</td>\n",
       "      <td>서울역</td>\n",
       "      <td>37601</td>\n",
       "      <td>36009</td>\n",
       "    </tr>\n",
       "    <tr>\n",
       "      <th>4</th>\n",
       "      <td>20201205</td>\n",
       "      <td>1호선</td>\n",
       "      <td>서울역</td>\n",
       "      <td>19947</td>\n",
       "      <td>19677</td>\n",
       "    </tr>\n",
       "  </tbody>\n",
       "</table>\n",
       "</div>"
      ],
      "text/plain": [
       "         날짜   호선   역명     승차     하차\n",
       "0  20201201  1호선  서울역  34223  32123\n",
       "1  20201202  1호선  서울역  34819  32245\n",
       "2  20201203  1호선  서울역  34581  32527\n",
       "3  20201204  1호선  서울역  37601  36009\n",
       "4  20201205  1호선  서울역  19947  19677"
      ]
     },
     "metadata": {},
     "output_type": "display_data"
    }
   ],
   "source": [
    "start = 20201201\n",
    "end = 20201231\n",
    "stat = '서울역'\n",
    "\n",
    "df = pd.DataFrame()\n",
    "\n",
    "for date in range(start, end+1):\n",
    "    tmp = station_count(date)\n",
    "    tmp = tmp[(tmp['호선']=='1호선') & (tmp['역명']==stat)]\n",
    "    df = pd.concat([df, tmp], ignore_index=True)\n",
    "    \n",
    "display(df.head())"
   ]
  },
  {
   "cell_type": "code",
   "execution_count": 184,
   "metadata": {},
   "outputs": [
    {
     "data": {
      "text/html": [
       "<div>\n",
       "<style scoped>\n",
       "    .dataframe tbody tr th:only-of-type {\n",
       "        vertical-align: middle;\n",
       "    }\n",
       "\n",
       "    .dataframe tbody tr th {\n",
       "        vertical-align: top;\n",
       "    }\n",
       "\n",
       "    .dataframe thead th {\n",
       "        text-align: right;\n",
       "    }\n",
       "</style>\n",
       "<table border=\"1\" class=\"dataframe\">\n",
       "  <thead>\n",
       "    <tr style=\"text-align: right;\">\n",
       "      <th></th>\n",
       "      <th>날짜</th>\n",
       "      <th>승차</th>\n",
       "      <th>하차</th>\n",
       "    </tr>\n",
       "  </thead>\n",
       "  <tbody>\n",
       "    <tr>\n",
       "      <th>0</th>\n",
       "      <td>20201201</td>\n",
       "      <td>34223</td>\n",
       "      <td>32123</td>\n",
       "    </tr>\n",
       "    <tr>\n",
       "      <th>1</th>\n",
       "      <td>20201202</td>\n",
       "      <td>34819</td>\n",
       "      <td>32245</td>\n",
       "    </tr>\n",
       "    <tr>\n",
       "      <th>2</th>\n",
       "      <td>20201203</td>\n",
       "      <td>34581</td>\n",
       "      <td>32527</td>\n",
       "    </tr>\n",
       "    <tr>\n",
       "      <th>3</th>\n",
       "      <td>20201204</td>\n",
       "      <td>37601</td>\n",
       "      <td>36009</td>\n",
       "    </tr>\n",
       "    <tr>\n",
       "      <th>4</th>\n",
       "      <td>20201205</td>\n",
       "      <td>19947</td>\n",
       "      <td>19677</td>\n",
       "    </tr>\n",
       "    <tr>\n",
       "      <th>5</th>\n",
       "      <td>20201206</td>\n",
       "      <td>16959</td>\n",
       "      <td>14823</td>\n",
       "    </tr>\n",
       "    <tr>\n",
       "      <th>6</th>\n",
       "      <td>20201207</td>\n",
       "      <td>34687</td>\n",
       "      <td>32904</td>\n",
       "    </tr>\n",
       "    <tr>\n",
       "      <th>7</th>\n",
       "      <td>20201208</td>\n",
       "      <td>32683</td>\n",
       "      <td>30758</td>\n",
       "    </tr>\n",
       "    <tr>\n",
       "      <th>8</th>\n",
       "      <td>20201209</td>\n",
       "      <td>32241</td>\n",
       "      <td>30033</td>\n",
       "    </tr>\n",
       "    <tr>\n",
       "      <th>9</th>\n",
       "      <td>20201210</td>\n",
       "      <td>32360</td>\n",
       "      <td>30336</td>\n",
       "    </tr>\n",
       "    <tr>\n",
       "      <th>10</th>\n",
       "      <td>20201211</td>\n",
       "      <td>34458</td>\n",
       "      <td>33307</td>\n",
       "    </tr>\n",
       "    <tr>\n",
       "      <th>11</th>\n",
       "      <td>20201212</td>\n",
       "      <td>17462</td>\n",
       "      <td>17665</td>\n",
       "    </tr>\n",
       "    <tr>\n",
       "      <th>12</th>\n",
       "      <td>20201213</td>\n",
       "      <td>14350</td>\n",
       "      <td>13162</td>\n",
       "    </tr>\n",
       "    <tr>\n",
       "      <th>13</th>\n",
       "      <td>20201214</td>\n",
       "      <td>30885</td>\n",
       "      <td>28604</td>\n",
       "    </tr>\n",
       "    <tr>\n",
       "      <th>14</th>\n",
       "      <td>20201215</td>\n",
       "      <td>29852</td>\n",
       "      <td>27710</td>\n",
       "    </tr>\n",
       "    <tr>\n",
       "      <th>15</th>\n",
       "      <td>20201216</td>\n",
       "      <td>30082</td>\n",
       "      <td>27967</td>\n",
       "    </tr>\n",
       "    <tr>\n",
       "      <th>16</th>\n",
       "      <td>20201217</td>\n",
       "      <td>30470</td>\n",
       "      <td>28653</td>\n",
       "    </tr>\n",
       "    <tr>\n",
       "      <th>17</th>\n",
       "      <td>20201218</td>\n",
       "      <td>32989</td>\n",
       "      <td>31277</td>\n",
       "    </tr>\n",
       "    <tr>\n",
       "      <th>18</th>\n",
       "      <td>20201219</td>\n",
       "      <td>15779</td>\n",
       "      <td>15689</td>\n",
       "    </tr>\n",
       "    <tr>\n",
       "      <th>19</th>\n",
       "      <td>20201220</td>\n",
       "      <td>13067</td>\n",
       "      <td>11845</td>\n",
       "    </tr>\n",
       "    <tr>\n",
       "      <th>20</th>\n",
       "      <td>20201221</td>\n",
       "      <td>30792</td>\n",
       "      <td>28858</td>\n",
       "    </tr>\n",
       "    <tr>\n",
       "      <th>21</th>\n",
       "      <td>20201222</td>\n",
       "      <td>30842</td>\n",
       "      <td>29141</td>\n",
       "    </tr>\n",
       "    <tr>\n",
       "      <th>22</th>\n",
       "      <td>20201223</td>\n",
       "      <td>31054</td>\n",
       "      <td>29320</td>\n",
       "    </tr>\n",
       "    <tr>\n",
       "      <th>23</th>\n",
       "      <td>20201224</td>\n",
       "      <td>31786</td>\n",
       "      <td>30815</td>\n",
       "    </tr>\n",
       "    <tr>\n",
       "      <th>24</th>\n",
       "      <td>20201225</td>\n",
       "      <td>12716</td>\n",
       "      <td>13466</td>\n",
       "    </tr>\n",
       "    <tr>\n",
       "      <th>25</th>\n",
       "      <td>20201226</td>\n",
       "      <td>13733</td>\n",
       "      <td>13264</td>\n",
       "    </tr>\n",
       "    <tr>\n",
       "      <th>26</th>\n",
       "      <td>20201227</td>\n",
       "      <td>13348</td>\n",
       "      <td>11318</td>\n",
       "    </tr>\n",
       "    <tr>\n",
       "      <th>27</th>\n",
       "      <td>20201228</td>\n",
       "      <td>30735</td>\n",
       "      <td>28256</td>\n",
       "    </tr>\n",
       "    <tr>\n",
       "      <th>28</th>\n",
       "      <td>20201229</td>\n",
       "      <td>30087</td>\n",
       "      <td>28255</td>\n",
       "    </tr>\n",
       "    <tr>\n",
       "      <th>29</th>\n",
       "      <td>20201230</td>\n",
       "      <td>29341</td>\n",
       "      <td>28829</td>\n",
       "    </tr>\n",
       "    <tr>\n",
       "      <th>30</th>\n",
       "      <td>20201231</td>\n",
       "      <td>28417</td>\n",
       "      <td>28710</td>\n",
       "    </tr>\n",
       "  </tbody>\n",
       "</table>\n",
       "</div>"
      ],
      "text/plain": [
       "          날짜     승차     하차\n",
       "0   20201201  34223  32123\n",
       "1   20201202  34819  32245\n",
       "2   20201203  34581  32527\n",
       "3   20201204  37601  36009\n",
       "4   20201205  19947  19677\n",
       "5   20201206  16959  14823\n",
       "6   20201207  34687  32904\n",
       "7   20201208  32683  30758\n",
       "8   20201209  32241  30033\n",
       "9   20201210  32360  30336\n",
       "10  20201211  34458  33307\n",
       "11  20201212  17462  17665\n",
       "12  20201213  14350  13162\n",
       "13  20201214  30885  28604\n",
       "14  20201215  29852  27710\n",
       "15  20201216  30082  27967\n",
       "16  20201217  30470  28653\n",
       "17  20201218  32989  31277\n",
       "18  20201219  15779  15689\n",
       "19  20201220  13067  11845\n",
       "20  20201221  30792  28858\n",
       "21  20201222  30842  29141\n",
       "22  20201223  31054  29320\n",
       "23  20201224  31786  30815\n",
       "24  20201225  12716  13466\n",
       "25  20201226  13733  13264\n",
       "26  20201227  13348  11318\n",
       "27  20201228  30735  28256\n",
       "28  20201229  30087  28255\n",
       "29  20201230  29341  28829\n",
       "30  20201231  28417  28710"
      ]
     },
     "execution_count": 184,
     "metadata": {},
     "output_type": "execute_result"
    }
   ],
   "source": [
    "df = df[['날짜', '승차', '하차']]\n",
    "df"
   ]
  },
  {
   "cell_type": "markdown",
   "metadata": {},
   "source": [
    "- 참고: 날짜 생성 "
   ]
  },
  {
   "cell_type": "code",
   "execution_count": 186,
   "metadata": {},
   "outputs": [
    {
     "name": "stdout",
     "output_type": "stream",
     "text": [
      "DatetimeIndex(['2020-12-25', '2020-12-26', '2020-12-27', '2020-12-28',\n",
      "               '2020-12-29', '2020-12-30', '2020-12-31', '2021-01-01',\n",
      "               '2021-01-02', '2021-01-03'],\n",
      "              dtype='datetime64[ns]', freq='D')\n"
     ]
    }
   ],
   "source": [
    "ls_date = pd.date_range(start='20201225', end='20210103', )\n",
    "print(ls_date)"
   ]
  },
  {
   "cell_type": "markdown",
   "metadata": {},
   "source": [
    "# 그래프로 출력하기"
   ]
  },
  {
   "cell_type": "code",
   "execution_count": 249,
   "metadata": {},
   "outputs": [],
   "source": [
    "def station_count(date):\n",
    "    url = 'http://openapi.seoul.go.kr:8088/' + str(key) + '/xml/CardSubwayStatsNew/1/1000/' + str(date)\n",
    "    xml = requests.get(url)\n",
    "    soup = bs(xml.content, features = 'html.parser')\n",
    "    info = soup.find_all('row')\n",
    "    \n",
    "    ls_count = []\n",
    "    for i in info:\n",
    "        line = i.find('line_num').text\n",
    "        stat = i.find('sub_sta_nm').text\n",
    "        on = int(i.find('ride_pasgr_num').text)\n",
    "        off = int(i.find('alight_pasgr_num').text)\n",
    "        date = date.replace('202012', '')\n",
    "\n",
    "        ls_count.append({'날짜' : date,\n",
    "                        '호선' : line,\n",
    "                        '역명' : stat,\n",
    "                        '승차' : on,\n",
    "                        '하차' : off})\n",
    "\n",
    "    df = pd.DataFrame(ls_count)\n",
    "    return df"
   ]
  },
  {
   "cell_type": "code",
   "execution_count": 250,
   "metadata": {},
   "outputs": [
    {
     "data": {
      "text/html": [
       "<div>\n",
       "<style scoped>\n",
       "    .dataframe tbody tr th:only-of-type {\n",
       "        vertical-align: middle;\n",
       "    }\n",
       "\n",
       "    .dataframe tbody tr th {\n",
       "        vertical-align: top;\n",
       "    }\n",
       "\n",
       "    .dataframe thead th {\n",
       "        text-align: right;\n",
       "    }\n",
       "</style>\n",
       "<table border=\"1\" class=\"dataframe\">\n",
       "  <thead>\n",
       "    <tr style=\"text-align: right;\">\n",
       "      <th></th>\n",
       "      <th>날짜</th>\n",
       "      <th>호선</th>\n",
       "      <th>역명</th>\n",
       "      <th>승차</th>\n",
       "      <th>하차</th>\n",
       "    </tr>\n",
       "  </thead>\n",
       "  <tbody>\n",
       "    <tr>\n",
       "      <th>0</th>\n",
       "      <td>01</td>\n",
       "      <td>1호선</td>\n",
       "      <td>서울역</td>\n",
       "      <td>34223</td>\n",
       "      <td>32123</td>\n",
       "    </tr>\n",
       "    <tr>\n",
       "      <th>1</th>\n",
       "      <td>02</td>\n",
       "      <td>1호선</td>\n",
       "      <td>서울역</td>\n",
       "      <td>34819</td>\n",
       "      <td>32245</td>\n",
       "    </tr>\n",
       "    <tr>\n",
       "      <th>2</th>\n",
       "      <td>03</td>\n",
       "      <td>1호선</td>\n",
       "      <td>서울역</td>\n",
       "      <td>34581</td>\n",
       "      <td>32527</td>\n",
       "    </tr>\n",
       "    <tr>\n",
       "      <th>3</th>\n",
       "      <td>04</td>\n",
       "      <td>1호선</td>\n",
       "      <td>서울역</td>\n",
       "      <td>37601</td>\n",
       "      <td>36009</td>\n",
       "    </tr>\n",
       "    <tr>\n",
       "      <th>4</th>\n",
       "      <td>05</td>\n",
       "      <td>1호선</td>\n",
       "      <td>서울역</td>\n",
       "      <td>19947</td>\n",
       "      <td>19677</td>\n",
       "    </tr>\n",
       "  </tbody>\n",
       "</table>\n",
       "</div>"
      ],
      "text/plain": [
       "   날짜   호선   역명     승차     하차\n",
       "0  01  1호선  서울역  34223  32123\n",
       "1  02  1호선  서울역  34819  32245\n",
       "2  03  1호선  서울역  34581  32527\n",
       "3  04  1호선  서울역  37601  36009\n",
       "4  05  1호선  서울역  19947  19677"
      ]
     },
     "metadata": {},
     "output_type": "display_data"
    }
   ],
   "source": [
    "start = 20201201\n",
    "end = 20201231\n",
    "stat = '서울역'\n",
    "\n",
    "df = pd.DataFrame()\n",
    "\n",
    "for date in range(start, end+1):\n",
    "    date = str(date)\n",
    "    tmp = station_count(date)\n",
    "    tmp = tmp[(tmp['호선']=='1호선') & (tmp['역명']==stat)]\n",
    "    df = pd.concat([df, tmp], ignore_index=True)\n",
    "    \n",
    "display(df.head())"
   ]
  },
  {
   "cell_type": "code",
   "execution_count": 251,
   "metadata": {},
   "outputs": [
    {
     "data": {
      "image/png": "[encoded data removed]",
      "text/plain": [
       "<Figure size 720x360 with 1 Axes>"
      ]
     },
     "metadata": {
      "needs_background": "light"
     },
     "output_type": "display_data"
    }
   ],
   "source": [
    "import matplotlib.pyplot as plt\n",
    "import matplotlib.font_manager as fm\n",
    "\n",
    "font = fm.FontProperties(fname='/mnt/c/Windows/Fonts/malgun.ttf').get_name()\n",
    "plt.rc('font', family=font)\n",
    "\n",
    "x = df['날짜']\n",
    "y1 = df['승차']\n",
    "y2 = df['하차']\n",
    "\n",
    "plt.figure(figsize = (10, 5))\n",
    "plt.plot(x, y1)\n",
    "plt.plot(x, y2)\n",
    "# plt.legend(['승차인원', '하차인원'])\n",
    "plt.show()"
   ]
  },
  {
   "cell_type": "markdown",
   "metadata": {},
   "source": [
    "# 호선별 승하차 인원"
   ]
  },
  {
   "cell_type": "code",
   "execution_count": 252,
   "metadata": {},
   "outputs": [
    {
     "data": {
      "text/html": [
       "<div>\n",
       "<style scoped>\n",
       "    .dataframe tbody tr th:only-of-type {\n",
       "        vertical-align: middle;\n",
       "    }\n",
       "\n",
       "    .dataframe tbody tr th {\n",
       "        vertical-align: top;\n",
       "    }\n",
       "\n",
       "    .dataframe thead th {\n",
       "        text-align: right;\n",
       "    }\n",
       "</style>\n",
       "<table border=\"1\" class=\"dataframe\">\n",
       "  <thead>\n",
       "    <tr style=\"text-align: right;\">\n",
       "      <th></th>\n",
       "      <th>날짜</th>\n",
       "      <th>호선</th>\n",
       "      <th>역명</th>\n",
       "      <th>승차</th>\n",
       "      <th>하차</th>\n",
       "    </tr>\n",
       "  </thead>\n",
       "  <tbody>\n",
       "    <tr>\n",
       "      <th>0</th>\n",
       "      <td>01</td>\n",
       "      <td>1호선</td>\n",
       "      <td>서울역</td>\n",
       "      <td>34223</td>\n",
       "      <td>32123</td>\n",
       "    </tr>\n",
       "    <tr>\n",
       "      <th>1</th>\n",
       "      <td>01</td>\n",
       "      <td>1호선</td>\n",
       "      <td>동묘앞</td>\n",
       "      <td>7174</td>\n",
       "      <td>7260</td>\n",
       "    </tr>\n",
       "    <tr>\n",
       "      <th>2</th>\n",
       "      <td>01</td>\n",
       "      <td>1호선</td>\n",
       "      <td>시청</td>\n",
       "      <td>19416</td>\n",
       "      <td>19293</td>\n",
       "    </tr>\n",
       "    <tr>\n",
       "      <th>3</th>\n",
       "      <td>01</td>\n",
       "      <td>1호선</td>\n",
       "      <td>종각</td>\n",
       "      <td>30900</td>\n",
       "      <td>30029</td>\n",
       "    </tr>\n",
       "    <tr>\n",
       "      <th>4</th>\n",
       "      <td>01</td>\n",
       "      <td>1호선</td>\n",
       "      <td>종로3가</td>\n",
       "      <td>21112</td>\n",
       "      <td>19187</td>\n",
       "    </tr>\n",
       "  </tbody>\n",
       "</table>\n",
       "</div>"
      ],
      "text/plain": [
       "   날짜   호선    역명     승차     하차\n",
       "0  01  1호선   서울역  34223  32123\n",
       "1  01  1호선   동묘앞   7174   7260\n",
       "2  01  1호선    시청  19416  19293\n",
       "3  01  1호선    종각  30900  30029\n",
       "4  01  1호선  종로3가  21112  19187"
      ]
     },
     "metadata": {},
     "output_type": "display_data"
    }
   ],
   "source": [
    "start = 20201201\n",
    "end = 20201231\n",
    "\n",
    "df = pd.DataFrame()\n",
    "\n",
    "for date in range(start, end+1):\n",
    "    date = str(date)\n",
    "    tmp = station_count(date)\n",
    "#     tmp = tmp[(tmp['호선']=='1호선') & (tmp['역명']==stat)]\n",
    "    df = pd.concat([df, tmp], ignore_index=True)\n",
    "    \n",
    "display(df.head())"
   ]
  },
  {
   "cell_type": "code",
   "execution_count": 254,
   "metadata": {},
   "outputs": [
    {
     "data": {
      "text/html": [
       "<div>\n",
       "<style scoped>\n",
       "    .dataframe tbody tr th:only-of-type {\n",
       "        vertical-align: middle;\n",
       "    }\n",
       "\n",
       "    .dataframe tbody tr th {\n",
       "        vertical-align: top;\n",
       "    }\n",
       "\n",
       "    .dataframe thead th {\n",
       "        text-align: right;\n",
       "    }\n",
       "</style>\n",
       "<table border=\"1\" class=\"dataframe\">\n",
       "  <thead>\n",
       "    <tr style=\"text-align: right;\">\n",
       "      <th></th>\n",
       "      <th>승차</th>\n",
       "      <th>하차</th>\n",
       "    </tr>\n",
       "    <tr>\n",
       "      <th>호선</th>\n",
       "      <th></th>\n",
       "      <th></th>\n",
       "    </tr>\n",
       "  </thead>\n",
       "  <tbody>\n",
       "    <tr>\n",
       "      <th>1호선</th>\n",
       "      <td>4524627</td>\n",
       "      <td>4401813</td>\n",
       "    </tr>\n",
       "    <tr>\n",
       "      <th>2호선</th>\n",
       "      <td>27349999</td>\n",
       "      <td>27525740</td>\n",
       "    </tr>\n",
       "    <tr>\n",
       "      <th>3호선</th>\n",
       "      <td>10370096</td>\n",
       "      <td>10342567</td>\n",
       "    </tr>\n",
       "    <tr>\n",
       "      <th>4호선</th>\n",
       "      <td>9996651</td>\n",
       "      <td>10027533</td>\n",
       "    </tr>\n",
       "    <tr>\n",
       "      <th>5호선</th>\n",
       "      <td>12666401</td>\n",
       "      <td>12607021</td>\n",
       "    </tr>\n",
       "    <tr>\n",
       "      <th>6호선</th>\n",
       "      <td>6689737</td>\n",
       "      <td>6586330</td>\n",
       "    </tr>\n",
       "    <tr>\n",
       "      <th>7호선</th>\n",
       "      <td>14754524</td>\n",
       "      <td>14582160</td>\n",
       "    </tr>\n",
       "    <tr>\n",
       "      <th>8호선</th>\n",
       "      <td>3993278</td>\n",
       "      <td>4021631</td>\n",
       "    </tr>\n",
       "    <tr>\n",
       "      <th>9호선</th>\n",
       "      <td>5374165</td>\n",
       "      <td>5426681</td>\n",
       "    </tr>\n",
       "    <tr>\n",
       "      <th>9호선2~3단계</th>\n",
       "      <td>1833448</td>\n",
       "      <td>1803908</td>\n",
       "    </tr>\n",
       "    <tr>\n",
       "      <th>경강선</th>\n",
       "      <td>572136</td>\n",
       "      <td>556526</td>\n",
       "    </tr>\n",
       "    <tr>\n",
       "      <th>경부선</th>\n",
       "      <td>8998356</td>\n",
       "      <td>9026228</td>\n",
       "    </tr>\n",
       "    <tr>\n",
       "      <th>경원선</th>\n",
       "      <td>4119546</td>\n",
       "      <td>4037935</td>\n",
       "    </tr>\n",
       "    <tr>\n",
       "      <th>경의선</th>\n",
       "      <td>2122044</td>\n",
       "      <td>2089180</td>\n",
       "    </tr>\n",
       "    <tr>\n",
       "      <th>경인선</th>\n",
       "      <td>6008389</td>\n",
       "      <td>5950367</td>\n",
       "    </tr>\n",
       "    <tr>\n",
       "      <th>경춘선</th>\n",
       "      <td>752504</td>\n",
       "      <td>729041</td>\n",
       "    </tr>\n",
       "    <tr>\n",
       "      <th>공항철도 1호선</th>\n",
       "      <td>1856345</td>\n",
       "      <td>1736573</td>\n",
       "    </tr>\n",
       "    <tr>\n",
       "      <th>과천선</th>\n",
       "      <td>1957503</td>\n",
       "      <td>1938777</td>\n",
       "    </tr>\n",
       "    <tr>\n",
       "      <th>분당선</th>\n",
       "      <td>7288211</td>\n",
       "      <td>7531342</td>\n",
       "    </tr>\n",
       "    <tr>\n",
       "      <th>수인선</th>\n",
       "      <td>1138653</td>\n",
       "      <td>1134076</td>\n",
       "    </tr>\n",
       "    <tr>\n",
       "      <th>안산선</th>\n",
       "      <td>2513191</td>\n",
       "      <td>2497189</td>\n",
       "    </tr>\n",
       "    <tr>\n",
       "      <th>우이신설선</th>\n",
       "      <td>932113</td>\n",
       "      <td>919091</td>\n",
       "    </tr>\n",
       "    <tr>\n",
       "      <th>일산선</th>\n",
       "      <td>2200642</td>\n",
       "      <td>2143446</td>\n",
       "    </tr>\n",
       "    <tr>\n",
       "      <th>장항선</th>\n",
       "      <td>258521</td>\n",
       "      <td>250358</td>\n",
       "    </tr>\n",
       "    <tr>\n",
       "      <th>중앙선</th>\n",
       "      <td>1850956</td>\n",
       "      <td>1801048</td>\n",
       "    </tr>\n",
       "  </tbody>\n",
       "</table>\n",
       "</div>"
      ],
      "text/plain": [
       "                승차        하차\n",
       "호선                          \n",
       "1호선        4524627   4401813\n",
       "2호선       27349999  27525740\n",
       "3호선       10370096  10342567\n",
       "4호선        9996651  10027533\n",
       "5호선       12666401  12607021\n",
       "6호선        6689737   6586330\n",
       "7호선       14754524  14582160\n",
       "8호선        3993278   4021631\n",
       "9호선        5374165   5426681\n",
       "9호선2~3단계   1833448   1803908\n",
       "경강선         572136    556526\n",
       "경부선        8998356   9026228\n",
       "경원선        4119546   4037935\n",
       "경의선        2122044   2089180\n",
       "경인선        6008389   5950367\n",
       "경춘선         752504    729041\n",
       "공항철도 1호선   1856345   1736573\n",
       "과천선        1957503   1938777\n",
       "분당선        7288211   7531342\n",
       "수인선        1138653   1134076\n",
       "안산선        2513191   2497189\n",
       "우이신설선       932113    919091\n",
       "일산선        2200642   2143446\n",
       "장항선         258521    250358\n",
       "중앙선        1850956   1801048"
      ]
     },
     "execution_count": 254,
     "metadata": {},
     "output_type": "execute_result"
    }
   ],
   "source": [
    "df.groupby('호선').sum()"
   ]
  },
  {
   "cell_type": "code",
   "execution_count": null,
   "metadata": {},
   "outputs": [],
   "source": []
  },
  {
   "cell_type": "code",
   "execution_count": null,
   "metadata": {},
   "outputs": [],
   "source": []
  },
  {
   "cell_type": "code",
   "execution_count": null,
   "metadata": {},
   "outputs": [],
   "source": []
  },
  {
   "cell_type": "code",
   "execution_count": null,
   "metadata": {},
   "outputs": [],
   "source": []
  }
 ],
 "metadata": {
  "kernelspec": {
   "display_name": "Python 3",
   "language": "python",
   "name": "python3"
  },
  "language_info": {
   "codemirror_mode": {
    "name": "ipython",
    "version": 3
   },
   "file_extension": ".py",
   "mimetype": "text/x-python",
   "name": "python",
   "nbconvert_exporter": "python",
   "pygments_lexer": "ipython3",
   "version": "3.8.5"
  }
 },
 "nbformat": 4,
 "nbformat_minor": 4
}
