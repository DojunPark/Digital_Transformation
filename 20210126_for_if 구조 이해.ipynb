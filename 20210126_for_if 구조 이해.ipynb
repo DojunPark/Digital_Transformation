{
 "cells": [
  {
   "cell_type": "code",
   "execution_count": 3,
   "metadata": {},
   "outputs": [
    {
     "name": "stdout",
     "output_type": "stream",
     "text": [
      "[0-9] 또는 [a-zA-Z] 등은 무척 자주 사용하는 정규 표현식이다.\n",
      " 123 + 15\n",
      " 이렇게 자주 사용하는 정규식은 별도의 표기법으로 표현 가능합니다.\n"
     ]
    }
   ],
   "source": [
    "txt='[0-9] 또는 [a-zA-Z] 등은 무척 자주 사용하는 정규 표현식이다.\\n 123 + 15\\n 이렇게 자주 사용하는 정규식은 별도의 표기법으로 표현 가능합니다.'\n",
    "print(txt)"
   ]
  },
  {
   "cell_type": "code",
   "execution_count": 8,
   "metadata": {},
   "outputs": [],
   "source": [
    "# 공백을 기준으로 데이터를 잘라서 가져와 리스트 형식의 변수에 저장\n",
    "def txt_s(txt, txts):\n",
    "    text_list=[]\n",
    "    texts=\"\"\n",
    "    for i in range(len(txt)):\n",
    "        if txt[i] != txts:\n",
    "            texts=texts+txt[i]\n",
    "        else:\n",
    "            text_list.append(texts)\n",
    "            texts=\"\"\n",
    "\n",
    "    text_list.append(texts)\n",
    "\n",
    "    print(text_list)"
   ]
  },
  {
   "cell_type": "code",
   "execution_count": 9,
   "metadata": {},
   "outputs": [
    {
     "name": "stdout",
     "output_type": "stream",
     "text": [
      "['[0-9] 또는 [a-zA-Z] 등은 무척 자주 사용하는 정규 표현식이다.', ' 123 + 15', ' 이렇게 자주 사용하는 정규식은 별도의 표기법으로 표현 가능합니다.']\n"
     ]
    }
   ],
   "source": [
    "txt_s(txt, '\\n')"
   ]
  },
  {
   "cell_type": "code",
   "execution_count": 15,
   "metadata": {},
   "outputs": [
    {
     "name": "stdout",
     "output_type": "stream",
     "text": [
      "\"표\" 글자는 총 3개 입니다.\n"
     ]
    }
   ],
   "source": [
    "찾는글자='표'\n",
    "cnt=0\n",
    "\n",
    "for i in range(len(txt)):\n",
    "    if txt[i] == 찾는글자:\n",
    "        cnt += 1\n",
    "\n",
    "print('\"%s\" 글자는 총 %d개 입니다.'%(찾는글자, cnt))"
   ]
  },
  {
   "cell_type": "code",
   "execution_count": 34,
   "metadata": {},
   "outputs": [
    {
     "name": "stdout",
     "output_type": "stream",
     "text": [
      "[0, 1, 2, 3, 4, 5, 6, 7, 8, 9, 10, 11, 12, 13, 14, 15, 16, 17, 18, 19, 20, 21, 22, 23, 24, 25, 26, 27, 28, 29, 30, 31, 32, 33, 34, 35, 36, 37, 38, 39, 40, 41, 42, 43, 44, 45, 46, 47, 48, 49, 50, 51, 52, 53, 54, 55, 56, 57, 58, 59, 60, 61, 62, 63, 64, 65, 66, 67, 68, 69, 70, 71, 72, 73, 74, 75, 76, 77, 78, 79, 80, 81, 82, 83, 84, 85, 86, 87, 88]\n",
      "[0, 1, 2, 3, 4, 5, 6, 7, 8, 9, 10, 11, 12, 13, 14, 15, 16, 17, 18, 19, 20, 21, 22, 23, 24, 25, 26, 27, 28, 29, 30, 31, 32, 33, 34, 35, 36, 37, 38, 39, 40, 41, 42, 43, 44, 45, 46, 47, 48, 49, 50, 51, 52, 53, 54, 55, 56, 57, 58, 59, 60, 61, 62, 63, 64, 65, 66, 67, 68, 69, 70, 71, 72, 73, 74, 75, 76, 77, 78, 79, 80, 81, 82, 83, 84, 85, 86]\n"
     ]
    }
   ],
   "source": [
    "print(list(range(89)))\n",
    "print(list(range(87)))"
   ]
  },
  {
   "cell_type": "code",
   "execution_count": 36,
   "metadata": {},
   "outputs": [
    {
     "name": "stdout",
     "output_type": "stream",
     "text": [
      "전체글자수:89, 찾는글자수:3, 확인용글자수:87\n",
      "\"표현식\" 글자는 총 1개 입니다.\n"
     ]
    }
   ],
   "source": [
    "# 두 글자 이상\n",
    "찾는글자='표현식'\n",
    "\n",
    "찾는글자수=len(찾는글자)\n",
    "전체글자수=len(txt)\n",
    "확인용글자수=전체글자수-찾는글자수+1\n",
    "\n",
    "cnt=0\n",
    "\n",
    "for i in range(확인용글자수):\n",
    "     if txt[i:i+찾는글자수] == 찾는글자:\n",
    "            cnt=cnt+1\n",
    "            \n",
    "print('전체글자수:{0}, 찾는글자수:{2}, 확인용글자수:{1}'.format(전체글자수, 확인용글자수, 찾는글자수))\n",
    "print('\"%s\" 글자는 총 %d개 입니다.'%(찾는글자, cnt))"
   ]
  },
  {
   "cell_type": "code",
   "execution_count": 38,
   "metadata": {},
   "outputs": [],
   "source": [
    "txt_lst=['[0-9] 또는 [a-zA-Z] 등은 무척 자주 사용하는 정규 표현식이다.',\n",
    "         ' 123 + 15 ',\n",
    "         '이렇게 자주 사용하는 정규식은 별도의 표기법으로 표현 가능합니다.']"
   ]
  },
  {
   "cell_type": "code",
   "execution_count": 39,
   "metadata": {},
   "outputs": [
    {
     "name": "stdout",
     "output_type": "stream",
     "text": [
      "\"표현\" 글자는 총 2개 입니다.\n"
     ]
    }
   ],
   "source": [
    "찾을값='표현'\n",
    "cnt=0\n",
    "\n",
    "for t in txt_lst:\n",
    "    계산글자수=len(t)-len(찾을값)+1\n",
    "    for j in range(계산글자수):\n",
    "        if t[j:j+len(찾을값)] == 찾을값:\n",
    "            cnt += 1\n",
    "            \n",
    "print('\"%s\" 글자는 총 %d개 입니다.'%(찾을값, cnt))"
   ]
  },
  {
   "cell_type": "code",
   "execution_count": null,
   "metadata": {},
   "outputs": [],
   "source": []
  },
  {
   "cell_type": "code",
   "execution_count": null,
   "metadata": {},
   "outputs": [],
   "source": [
    "# 사용자 정의 함수\n",
    "def 함수명1(매개변수1, 매개변수2):\n",
    "    실행코드1\n",
    "    실행코드2"
   ]
  },
  {
   "cell_type": "code",
   "execution_count": null,
   "metadata": {},
   "outputs": [],
   "source": [
    "def 함수명2(매개변수1, 매개변수2):\n",
    "    ''' 함수에 대한 설명문 입력 '''\n",
    "    계산코드1\n",
    "    계산코드2\n",
    "    \n",
    "    return 리턴값\n",
    "    "
   ]
  },
  {
   "cell_type": "code",
   "execution_count": null,
   "metadata": {},
   "outputs": [],
   "source": [
    "# def 함수 호출\n",
    "함수명1(변수1, 변수2)     # 함수명1을 실행 후 돌아옴\n",
    "x = 함수명2(변수1, 변수2) # 함수명2를 실행후 계산 결과값을 가져와 x 변수에 넣어줌"
   ]
  },
  {
   "cell_type": "code",
   "execution_count": 49,
   "metadata": {},
   "outputs": [],
   "source": [
    "# 텍스트 형식에서 글자수 찾기\n",
    "def text_type(schTxt, Texts):\n",
    "    \n",
    "    찾는글자수=len(schTxt)\n",
    "    전체글자수=len(Texts)\n",
    "    확인용글자수=전체글자수-찾는글자수+1\n",
    "\n",
    "    cnt=0\n",
    "\n",
    "    for i in range(확인용글자수):\n",
    "         if txt[i:i+찾는글자수] == 찾는글자:\n",
    "                cnt=cnt+1\n",
    "    \n",
    "    return cnt"
   ]
  },
  {
   "cell_type": "code",
   "execution_count": 50,
   "metadata": {},
   "outputs": [],
   "source": [
    "# 리스트 형식에서 글자수 찾가\n",
    "def list_type(schTxt, Texts):\n",
    "   \n",
    "    cnt=0\n",
    "\n",
    "    for t in txt_lst:\n",
    "        계산글자수=len(t)-len(schTxt)+1\n",
    "        for j in range(계산글자수):\n",
    "            if t[j:j+len(schTxt)] == schTxt:\n",
    "                cnt += 1\n",
    "                \n",
    "    return cnt"
   ]
  },
  {
   "cell_type": "code",
   "execution_count": 52,
   "metadata": {},
   "outputs": [
    {
     "name": "stdout",
     "output_type": "stream",
     "text": [
      "찾을 글자 입력: 자주\n",
      "\"자주\" 글자는 총 2개 입니다.\n"
     ]
    }
   ],
   "source": [
    "찾을대상=txt\n",
    "찾는글자=input('찾을 글자 입력: ')\n",
    "\n",
    "if str(type(찾을대상))==\"<class 'str'>\":\n",
    "    cnt_=text_type(찾는글자, 찾을대상)\n",
    "    print('\"%s\" 글자는 총 %d개 입니다.'%(찾는글자, cnt_))\n",
    "    \n",
    "elif str(type(찾을대상))==\"<class 'list'>\":\n",
    "    cnt_=list_type(찾는글자, 찾을대상)\n",
    "    print('\"%s\" 글자는 총 %d개 입니다.'%(찾는글자, cnt_))\n",
    "    \n",
    "else:\n",
    "    print('계산 대상 데이터 타입이 아닙니다.')"
   ]
  },
  {
   "cell_type": "code",
   "execution_count": 47,
   "metadata": {},
   "outputs": [
    {
     "name": "stdout",
     "output_type": "stream",
     "text": [
      "True\n",
      "<class 'list'>\n"
     ]
    }
   ],
   "source": [
    "print(str(type(txt))==\"<class 'str'>\")\n",
    "print(type(txt_lst))"
   ]
  },
  {
   "cell_type": "code",
   "execution_count": null,
   "metadata": {},
   "outputs": [],
   "source": []
  }
 ],
 "metadata": {
  "kernelspec": {
   "display_name": "Python 3",
   "language": "python",
   "name": "python3"
  },
  "language_info": {
   "codemirror_mode": {
    "name": "ipython",
    "version": 3
   },
   "file_extension": ".py",
   "mimetype": "text/x-python",
   "name": "python",
   "nbconvert_exporter": "python",
   "pygments_lexer": "ipython3",
   "version": "3.8.5"
  }
 },
 "nbformat": 4,
 "nbformat_minor": 4
}
