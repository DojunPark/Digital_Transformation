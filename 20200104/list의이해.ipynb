{
 "cells": [
  {
   "cell_type": "markdown",
   "metadata": {},
   "source": [
    "#### 리스트의 이해"
   ]
  },
  {
   "cell_type": "code",
   "execution_count": 101,
   "metadata": {},
   "outputs": [
    {
     "data": {
      "image/png": "[encoded data removed]",
      "text/plain": [
       "<IPython.core.display.Image object>"
      ]
     },
     "execution_count": 101,
     "metadata": {},
     "output_type": "execute_result"
    }
   ],
   "source": [
    "## 아래 명령은 주피터 노트북에 이미지 넣을때 하는 작업임\n",
    "from IPython.display import Image\n",
    "Image(\"./jupyter_image/list.png\") # code안에서 나오게 할 때"
   ]
  },
  {
   "cell_type": "code",
   "execution_count": 1,
   "metadata": {},
   "outputs": [
    {
     "name": "stdout",
     "output_type": "stream",
     "text": [
      "['서울', 977, '강남', '동대문', '강동']\n",
      "['제주', 63, '서귀포', '제주시']\n",
      "['강원', 156, '속초', '양양', '강릉', '철원']\n"
     ]
    }
   ],
   "source": [
    "sido=[\n",
    "    ['서울',977,'강남','동대문','강동'],\n",
    "    ['제주',63,'서귀포','제주시'],\n",
    "    ['강원',156,'속초','양양','강릉','철원']\n",
    "]\n",
    "\n",
    "print(sido[0])\n",
    "print(sido[1])\n",
    "print(sido[2])"
   ]
  },
  {
   "cell_type": "code",
   "execution_count": 2,
   "metadata": {},
   "outputs": [
    {
     "name": "stdout",
     "output_type": "stream",
     "text": [
      "서울\n",
      "제주\n",
      "강원\n"
     ]
    }
   ],
   "source": [
    "print(sido[0][0])\n",
    "print(sido[1][0])\n",
    "print(sido[2][0])"
   ]
  },
  {
   "cell_type": "code",
   "execution_count": 3,
   "metadata": {},
   "outputs": [
    {
     "name": "stdout",
     "output_type": "stream",
     "text": [
      "[977, '강남', '동대문', '강동']\n",
      "[63, '서귀포', '제주시']\n",
      "[156, '속초', '양양', '강릉', '철원']\n"
     ]
    }
   ],
   "source": [
    "print(sido[0][1:5])  #서울의 인구수및 지역출력\n",
    "\n",
    "# 제주의 인구수와 지역을 출력하시오\n",
    "print(sido[1][1:4])\n",
    "\n",
    "# 강원의 인구수와 지역을 출력하시오.\n",
    "print(sido[2][1:6])\n"
   ]
  },
  {
   "cell_type": "code",
   "execution_count": 4,
   "metadata": {},
   "outputs": [
    {
     "name": "stdout",
     "output_type": "stream",
     "text": [
      "[977, '강남', '동대문', '강동']\n",
      "[63, '서귀포', '제주시']\n",
      "[156, '속초', '양양', '강릉', '철원']\n"
     ]
    }
   ],
   "source": [
    "print(sido[0][1:len(sido[0])])\n",
    "print(sido[1][1:len(sido[1])])\n",
    "print(sido[2][1:len(sido[2])])"
   ]
  },
  {
   "cell_type": "code",
   "execution_count": 5,
   "metadata": {},
   "outputs": [
    {
     "name": "stdout",
     "output_type": "stream",
     "text": [
      "[977, '강남', '동대문', '강동']\n",
      "[63, '서귀포', '제주시']\n",
      "[156, '속초', '양양', '강릉', '철원']\n"
     ]
    }
   ],
   "source": [
    "for i in range(3):\n",
    "    print(sido[i][1:len(sido[i])])"
   ]
  },
  {
   "cell_type": "code",
   "execution_count": 6,
   "metadata": {},
   "outputs": [
    {
     "name": "stdout",
     "output_type": "stream",
     "text": [
      "[977, '강남', '동대문', '강동']\n",
      "[63, '서귀포', '제주시']\n",
      "[156, '속초', '양양', '강릉', '철원']\n"
     ]
    }
   ],
   "source": [
    "for i in range(len(sido)):\n",
    "        print(sido[i][1:len(sido[i])])"
   ]
  },
  {
   "cell_type": "code",
   "execution_count": 7,
   "metadata": {},
   "outputs": [
    {
     "name": "stdout",
     "output_type": "stream",
     "text": [
      "[156, '속초', '양양', '강릉', '철원']\n"
     ]
    }
   ],
   "source": [
    "serachJi='강원'\n",
    "for i in range(3):\n",
    "    cnt=len(sido[i])\n",
    "    if serachJi==sido[i][0]:\n",
    "         print(sido[i][1:cnt])\n",
    "    "
   ]
  },
  {
   "cell_type": "code",
   "execution_count": 8,
   "metadata": {},
   "outputs": [
    {
     "name": "stdout",
     "output_type": "stream",
     "text": [
      "검색지역은 ->강원\n",
      "인구수는 ->156\n",
      "지역은->['속초', '양양', '강릉', '철원']\n"
     ]
    }
   ],
   "source": [
    "serachJi='강원'\n",
    "for i in range(3):\n",
    "    cnt=len(sido[i])\n",
    "    if serachJi==sido[i][0]:\n",
    "        print('검색지역은 ->' + sido[i][0])\n",
    "        print('인구수는 ->' + str(sido[i][1]))\n",
    "        print('지역은->' + str(sido[i][2:cnt]))\n",
    "        \n",
    "    "
   ]
  },
  {
   "cell_type": "markdown",
   "metadata": {},
   "source": [
    "## 리스트 입력시 시도, 인구수, 지역에서 지역을 또 한개의 리스트로 만든다면"
   ]
  },
  {
   "cell_type": "code",
   "execution_count": 9,
   "metadata": {},
   "outputs": [
    {
     "name": "stdout",
     "output_type": "stream",
     "text": [
      "['강남', '동대문', '강동']\n",
      "['서귀포', '제주시']\n",
      "['속초', '양양', '강릉', '철원']\n"
     ]
    }
   ],
   "source": [
    "sido=[\n",
    "    ['서울',977,['강남','동대문','강동']],\n",
    "    ['제주',63,['서귀포','제주시']],\n",
    "    ['강원',156,['속초','양양','강릉','철원']]\n",
    "]\n",
    "\n",
    "print(sido[0][2])\n",
    "print(sido[1][2])\n",
    "print(sido[2][2])"
   ]
  },
  {
   "cell_type": "code",
   "execution_count": 10,
   "metadata": {},
   "outputs": [
    {
     "name": "stdout",
     "output_type": "stream",
     "text": [
      "검색지역은 ->강원\n",
      "인구수는 ->156\n",
      "지역은->['속초', '양양', '강릉', '철원']\n"
     ]
    }
   ],
   "source": [
    "serachJi='강원'\n",
    "for i in range(3):\n",
    "   \n",
    "    if serachJi==sido[i][0]:\n",
    "        print('검색지역은 ->' + sido[i][0])\n",
    "        print('인구수는 ->' + str(sido[i][1]))\n",
    "        print('지역은->' + str(sido[i][2]))\n",
    "        "
   ]
  },
  {
   "cell_type": "code",
   "execution_count": 11,
   "metadata": {},
   "outputs": [
    {
     "name": "stdout",
     "output_type": "stream",
     "text": [
      "검색지역은 ->강원\n",
      "인구수는->156\n",
      "지역은->['속초', '양양', '강릉', '철원']\n"
     ]
    }
   ],
   "source": [
    "serachJi='강원'\n",
    "title=['검색지역은 ->','인구수는->','지역은->']\n",
    "\n",
    "for i in range(3):\n",
    "    \n",
    "    if serachJi==sido[i][0]:\n",
    "        for j in range(3):\n",
    "            print(title[j] + str(sido[i][j]))"
   ]
  },
  {
   "cell_type": "markdown",
   "metadata": {},
   "source": [
    "#### csv자료를 리스트로 읽기"
   ]
  },
  {
   "cell_type": "code",
   "execution_count": 13,
   "metadata": {},
   "outputs": [
    {
     "name": "stdout",
     "output_type": "stream",
     "text": [
      " \u001b[0m\u001b[01;32mchart_basic.ipynb\u001b[0m*\r\n",
      "\u001b[01;32m'csv리스트로 불러와 차트작성.ipynb'\u001b[0m*\r\n",
      " \u001b[34;42mdata\u001b[0m/\r\n",
      " \u001b[01;32mlist의이해.ipynb\u001b[0m*\r\n",
      " \u001b[01;32m그래프.ipynb\u001b[0m*\r\n",
      "\u001b[01;32m'길벗출판사(모두의 파이썬 데이터분석).url'\u001b[0m*\r\n",
      "\u001b[01;32m'길벗출판사(파이썬 병아리반 무료PDF).url'\u001b[0m*\r\n",
      " \u001b[01;32m차트한글.ipynb\u001b[0m*\r\n"
     ]
    }
   ],
   "source": [
    "ls"
   ]
  },
  {
   "cell_type": "code",
   "execution_count": 16,
   "metadata": {},
   "outputs": [
    {
     "name": "stdout",
     "output_type": "stream",
     "text": [
      "['서울', '977', '강남', '동대문', '강동', '']\n",
      "['제주', '63', '서귀포', '제주시', '', '']\n",
      "['강원', '156', '속초', '양양', '강릉', '철원']\n"
     ]
    }
   ],
   "source": [
    "import csv  #별도의 pip install 없이 사용가능한 내장함수\n",
    "listData=[]  #csv로 되어있는 외부자료를 갖고와서 리스트로 만들자료 준비\n",
    "\n",
    "file=open('./data/지역.csv','r', encoding='cp949')   #지역.csv\n",
    "#file=open('지역.csv',encoding='cp949', 'r')   #맥용\n",
    "\n",
    "csvfile=csv.reader(file)\n",
    "\n",
    "for item in csvfile:\n",
    "    listData.append(item)\n",
    "\n",
    "listData\n",
    "print(listData[0])\n",
    "print(listData[1])\n",
    "print(listData[2])\n"
   ]
  },
  {
   "cell_type": "code",
   "execution_count": null,
   "metadata": {},
   "outputs": [],
   "source": []
  }
 ],
 "metadata": {
  "kernelspec": {
   "display_name": "Python 3",
   "language": "python",
   "name": "python3"
  },
  "language_info": {
   "codemirror_mode": {
    "name": "ipython",
    "version": 3
   },
   "file_extension": ".py",
   "mimetype": "text/x-python",
   "name": "python",
   "nbconvert_exporter": "python",
   "pygments_lexer": "ipython3",
   "version": "3.8.5"
  }
 },
 "nbformat": 4,
 "nbformat_minor": 4
}
