{
 "cells": [
  {
   "cell_type": "markdown",
   "metadata": {},
   "source": [
    "# 복습"
   ]
  },
  {
   "cell_type": "code",
   "execution_count": 6,
   "metadata": {},
   "outputs": [
    {
     "name": "stdout",
     "output_type": "stream",
     "text": [
      "0번째 파일 저장 완료 1번째 파일 저장 완료 2번째 파일 저장 완료 3번째 파일 저장 완료 4번째 파일 저장 완료 5번째 파일 저장 완료 6번째 파일 저장 완료 7번째 파일 저장 완료 8번째 파일 저장 완료 9번째 파일 저장 완료 10번째 파일 저장 완료 11번째 파일 저장 완료 12번째 파일 저장 완료 13번째 파일 저장 완료 14번째 파일 저장 완료 15번째 파일 저장 완료 16번째 파일 저장 완료 17번째 파일 저장 완료 18번째 파일 저장 완료 19번째 파일 저장 완료 20번째 파일 저장 완료 21번째 파일 저장 완료 22번째 파일 저장 완료 23번째 파일 저장 완료 24번째 파일 저장 완료 25번째 파일 저장 완료 26번째 파일 저장 완료 27번째 파일 저장 완료 28번째 파일 저장 완료 29번째 파일 저장 완료 30번째 파일 저장 완료 31번째 파일 저장 완료 32번째 파일 저장 완료 ----- done -----\n"
     ]
    }
   ],
   "source": [
    "from PIL import Image\n",
    "import os\n",
    "\n",
    "dir = './picture/'\n",
    "fNames = os.listdir(dir)\n",
    "logo = Image.open('logo.png')\n",
    "area = (0, 0, logo.width, logo.height)\n",
    "\n",
    "for i, f in enumerate(fNames):\n",
    "    if '.jpg' in f:\n",
    "        img = Image.open(dir + f)\n",
    "        img.paste(logo, area)\n",
    "        img.save('./img/logo/' + f)\n",
    "        print(f'{i}번째 파일 저장 완료' , end=' ')\n",
    "\n",
    "print('----- done -----')"
   ]
  },
  {
   "cell_type": "code",
   "execution_count": 9,
   "metadata": {},
   "outputs": [
    {
     "name": "stdout",
     "output_type": "stream",
     "text": [
      "\u001b[0m\u001b[01;32mcctv_in_seoul.csv\u001b[0m*  \u001b[01;32msample.csv\u001b[0m*  \u001b[34;42mskt_m_k\u001b[0m/       \u001b[01;32m코로나19_서울.csv\u001b[0m*\r\n",
      "\u001b[01;32mpop_in_seoul.xls\u001b[0m*   \u001b[34;42mskt_m\u001b[0m/       \u001b[01;32m관광정보.csv\u001b[0m*\r\n"
     ]
    }
   ],
   "source": [
    "ls ./py_data"
   ]
  },
  {
   "cell_type": "markdown",
   "metadata": {},
   "source": [
    "# 미션\n",
    "- py_data 디렉토리의 파일 및 하위 디텍토리 폴더명을 순차적으로 출력"
   ]
  },
  {
   "cell_type": "code",
   "execution_count": 12,
   "metadata": {},
   "outputs": [
    {
     "name": "stdout",
     "output_type": "stream",
     "text": [
      "['cctv_in_seoul.csv', 'pop_in_seoul.xls', 'sample.csv', 'skt_m', 'skt_m_k', '관광정보.csv', '코로나19_서울.csv']\n"
     ]
    }
   ],
   "source": [
    "import os\n",
    "import pandas as pd\n",
    "\n",
    "fList = os.listdir('./py_data')\n",
    "print(fList)"
   ]
  },
  {
   "cell_type": "code",
   "execution_count": 17,
   "metadata": {},
   "outputs": [
    {
     "name": "stdout",
     "output_type": "stream",
     "text": [
      "cctv_in_seoul.csv\n",
      "pop_in_seoul.xls\n",
      "sample.csv\n",
      "관광정보.csv\n",
      "코로나19_서울.csv\n"
     ]
    }
   ],
   "source": [
    "# 파일명을 순차적으로 출력\n",
    "\n",
    "for f in fList:\n",
    "    if '.' in f:\n",
    "        print(f)"
   ]
  },
  {
   "cell_type": "code",
   "execution_count": 19,
   "metadata": {},
   "outputs": [
    {
     "data": {
      "text/plain": [
       "['cctv_in_seoul.csv',\n",
       " 'pop_in_seoul.xls',\n",
       " 'sample.csv',\n",
       " '관광정보.csv',\n",
       " '코로나19_서울.csv']"
      ]
     },
     "execution_count": 19,
     "metadata": {},
     "output_type": "execute_result"
    }
   ],
   "source": [
    "editedList = [f for f in fList if '.' in f]\n",
    "editedList"
   ]
  },
  {
   "cell_type": "markdown",
   "metadata": {},
   "source": [
    "# if문\n",
    "- if\n",
    "- if, elif\n",
    "- if, elif, else"
   ]
  },
  {
   "cell_type": "code",
   "execution_count": 24,
   "metadata": {},
   "outputs": [
    {
     "name": "stdout",
     "output_type": "stream",
     "text": [
      "숫자를 입력하세요: 5\n",
      "입력 값은 5이고 0보다 큰 값입니다.\n",
      "END\n"
     ]
    }
   ],
   "source": [
    "data = int(input('숫자를 입력하세요: '))\n",
    "\n",
    "if data > 0:\n",
    "    print('입력 값은 %d이고 0보다 큰 값입니다.'%data)\n",
    "\n",
    "print('END')"
   ]
  },
  {
   "cell_type": "code",
   "execution_count": 25,
   "metadata": {},
   "outputs": [
    {
     "name": "stdout",
     "output_type": "stream",
     "text": [
      "숫자를 입력하세요: -5\n",
      "입력 값은 -5이고, 0보다 작은 값입니다.\n",
      "END\n"
     ]
    }
   ],
   "source": [
    "data = int(input('숫자를 입력하세요: '))\n",
    "\n",
    "if data > 0:\n",
    "    print('입력 값은 %d이고, 0보다 큰 값입니다.'%data)\n",
    "elif data < 0:\n",
    "    print('입력 값은 %d이고, 0보다 작은 값입니다.'%data)\n",
    "\n",
    "print('END')"
   ]
  },
  {
   "cell_type": "code",
   "execution_count": 26,
   "metadata": {},
   "outputs": [
    {
     "name": "stdout",
     "output_type": "stream",
     "text": [
      "숫자를 입력하세요: 0\n",
      "입력 값은 0이고, 0과 동일합 값입니다.\n",
      "END\n"
     ]
    }
   ],
   "source": [
    "data = int(input('숫자를 입력하세요: '))\n",
    "\n",
    "if data > 0:\n",
    "    print('입력 값은 %d이고, 0보다 큰 값입니다.'%data)\n",
    "elif data < 0:\n",
    "    print('입력 값은 %d이고, 0보다 작은 값입니다.'%data)\n",
    "else:\n",
    "    print('입력 값은 %d이고, 0과 동일합 값입니다.'%data)\n",
    "\n",
    "print('END')"
   ]
  },
  {
   "cell_type": "markdown",
   "metadata": {},
   "source": [
    "# 가위 바위 보"
   ]
  },
  {
   "cell_type": "code",
   "execution_count": 61,
   "metadata": {},
   "outputs": [
    {
     "name": "stdout",
     "output_type": "stream",
     "text": [
      "\"가위, 바위, 보\" 중 하나를 입력하세요: 가위\n",
      "컴퓨터:  보\n",
      "사용자:  가위\n",
      "당신이 이겼습니다.\n",
      "----- done -----\n"
     ]
    }
   ],
   "source": [
    "import random\n",
    "\n",
    "data = ['가위','바위','보','가위','바위','보','가위','바위','보','보','가위','보']\n",
    "num = random.randrange(0, 3)\n",
    "com = data[num]\n",
    "\n",
    "#가위 바위 보 맞추기\n",
    "my = input('\"가위, 바위, 보\" 중 하나를 입력하세요: ')\n",
    "print('컴퓨터: ', com)\n",
    "print('사용자: ', my)\n",
    "\n",
    "if com == my:\n",
    "    print('비겼습니다.')\n",
    "    \n",
    "elif my not in data:\n",
    "    print('잘못 입력하셨습니다.')\n",
    "    \n",
    "else:\n",
    "    if com == '가위':\n",
    "        if my == '바위':\n",
    "            print('당신이 이겼습니다.')\n",
    "        elif my == '보':\n",
    "            print('컴퓨터가 이겼습니다.')\n",
    "    elif com == '바위':\n",
    "        if my == '보':\n",
    "            print('당신이 이겼습니다.')\n",
    "        elif my == '가위':\n",
    "            print('컴퓨터가 이겼습니다.')\n",
    "    elif com == '보':\n",
    "        if my == '가위':\n",
    "            print('당신이 이겼습니다.')\n",
    "        elif my == '바위':\n",
    "            print('컴퓨터가 이겼습니다.')\n",
    "            \n",
    "print('----- done -----')"
   ]
  },
  {
   "cell_type": "markdown",
   "metadata": {},
   "source": [
    "- 잘못 입력했을 때 다시 입력 값을 받도록 반복문 만들기"
   ]
  },
  {
   "cell_type": "code",
   "execution_count": 66,
   "metadata": {},
   "outputs": [
    {
     "name": "stdout",
     "output_type": "stream",
     "text": [
      "가위, 바위, 보 중 하나를 입력하세요: df\n",
      "잘못 입력하셨습니다.\n",
      "\n",
      "가위, 바위, 보 중 하나를 입력하세요: sdf\n",
      "잘못 입력하셨습니다.\n",
      "\n",
      "가위, 바위, 보 중 하나를 입력하세요: \n",
      "잘못 입력하셨습니다.\n",
      "\n",
      "가위, 바위, 보 중 하나를 입력하세요: 가위\n",
      "컴퓨터:  보\n",
      "사용자:  가위\n",
      "당신이 이겼습니다.\n",
      "----- done -----\n"
     ]
    }
   ],
   "source": [
    "import random\n",
    "\n",
    "choices = ['가위', '바위', '보']\n",
    "num = random.randrange(0, len(choices))\n",
    "com = choices[num]\n",
    "\n",
    "while True:\n",
    "    me = input('가위, 바위, 보 중 하나를 입력하세요: ')\n",
    "    if me not in choices:\n",
    "        print('잘못 입력하셨습니다.', end='\\n\\n')\n",
    "    else:\n",
    "        break\n",
    "        \n",
    "print('컴퓨터: ', com)\n",
    "print('사용자: ', me)\n",
    "\n",
    "if com == my:\n",
    "    print('비겼습니다.')\n",
    "        \n",
    "else:\n",
    "    if com == '가위':\n",
    "        if my == '바위':\n",
    "            print('당신이 이겼습니다.')\n",
    "        elif my == '보':\n",
    "            print('컴퓨터가 이겼습니다.')\n",
    "    elif com == '바위':\n",
    "        if my == '보':\n",
    "            print('당신이 이겼습니다.')\n",
    "        elif my == '가위':\n",
    "            print('컴퓨터가 이겼습니다.')\n",
    "    elif com == '보':\n",
    "        if my == '가위':\n",
    "            print('당신이 이겼습니다.')\n",
    "        elif my == '바위':\n",
    "            print('컴퓨터가 이겼습니다.')\n",
    "            \n",
    "print('----- done -----')"
   ]
  },
  {
   "cell_type": "markdown",
   "metadata": {},
   "source": [
    "- 컴퓨터끼리 가위 바위 보"
   ]
  },
  {
   "cell_type": "code",
   "execution_count": 74,
   "metadata": {},
   "outputs": [
    {
     "name": "stdout",
     "output_type": "stream",
     "text": [
      "com1:  바위\n",
      "com2:  보\n",
      "com2가 이겼습니다.\n",
      "----- done -----\n"
     ]
    }
   ],
   "source": [
    "import random\n",
    "\n",
    "choices = ['가위', '바위', '보']\n",
    "\n",
    "num1 = random.randrange(0, len(choices))\n",
    "num2 = random.randrange(0, len(choices))\n",
    "\n",
    "com1 = choices[num1]\n",
    "com2 = choices[num2]\n",
    "\n",
    "print('com1: ', com1)\n",
    "print('com2: ', com2)\n",
    "\n",
    "if com1 == com2:\n",
    "    print('비겼습니다.')\n",
    "    \n",
    "elif com1 == '가위':\n",
    "    if com2 == '바위':\n",
    "        print('com2가 이겼습니다.')\n",
    "    else:\n",
    "        print('com1이 이겼습니다.')\n",
    "elif com1 == '바위':\n",
    "    if com2 == '보':\n",
    "        print('com2가 이겼습니다.')\n",
    "    else:\n",
    "        print('com1이 이겼습니다.')\n",
    "elif com1 == '보':\n",
    "    if com2 == '가위':\n",
    "        print('com2가 이겼습니다.')\n",
    "    else:\n",
    "        print('com1이 이겼습니다.')\n",
    "\n",
    "print('----- done -----')"
   ]
  },
  {
   "cell_type": "code",
   "execution_count": 79,
   "metadata": {},
   "outputs": [
    {
     "name": "stdout",
     "output_type": "stream",
     "text": [
      "\"가위\", \"바위\", \"보\" 중에 하나를 입력하세요: 12\n",
      "입력 오류입니다.\n",
      "\"가위\", \"바위\", \"보\" 중에 하나를 입력하세요: 23\n",
      "입력 오류입니다.\n",
      "\"가위\", \"바위\", \"보\" 중에 하나를 입력하세요: 가위\n",
      "컴퓨터:  바위\n",
      "사용자:  가위\n",
      "\n",
      "컴퓨터가 이겼습니다.\n",
      "----- done -----\n"
     ]
    }
   ],
   "source": [
    "# 사용자에게 입력을 받아서 컴퓨터와 가위 바위 보\n",
    "\n",
    "import random\n",
    "\n",
    "choices = ['가위', '바위', '보']\n",
    "num = random.randrange(len(choices))\n",
    "com = choices[num]\n",
    "\n",
    "while True:\n",
    "    user = input('\"가위\", \"바위\", \"보\" 중에 하나를 입력하세요: ')\n",
    "    if user in choices:\n",
    "        break\n",
    "    else:\n",
    "        print('입력 오류입니다.')\n",
    "\n",
    "print('컴퓨터: ', com)\n",
    "print('사용자: ', user, end='\\n\\n')\n",
    "\n",
    "if com == me:\n",
    "    print('비겼습니다.')\n",
    "    \n",
    "elif com == '가위':\n",
    "    if user == '바위':\n",
    "        print('사용자가 이겼습니다.')\n",
    "    else:\n",
    "        print('컴퓨터가 이겼습니다.')\n",
    "elif com == '바위':\n",
    "    if user == '보':\n",
    "        print('사용자가 이겼습니다.')\n",
    "    else:\n",
    "        print('컴퓨터가 이겼습니다.')\n",
    "elif com == '보':\n",
    "    if user == '가위':\n",
    "        print('사용자가 이겼습니다.')\n",
    "    else:\n",
    "        print('컴퓨터가 이겼습니다.')\n",
    "\n",
    "print('----- done -----')"
   ]
  },
  {
   "cell_type": "markdown",
   "metadata": {},
   "source": [
    "- 5회 진행하고 컴퓨터와 사용자의 승패 확인하기"
   ]
  },
  {
   "cell_type": "code",
   "execution_count": 91,
   "metadata": {},
   "outputs": [
    {
     "name": "stdout",
     "output_type": "stream",
     "text": [
      "----------------- 1회차 입니다 -----------------\n",
      "\"가위\", \"바위\", \"보\" 중에 하나를 입력하세요: d\n",
      "입력 오류입니다.\n",
      "\n",
      "\"가위\", \"바위\", \"보\" 중에 하나를 입력하세요: dk\n",
      "입력 오류입니다.\n",
      "\n",
      "\"가위\", \"바위\", \"보\" 중에 하나를 입력하세요: 가위\n",
      "컴퓨터: 바위, 사용자: 가위\n",
      "\n",
      "컴퓨터가 이겼습니다.\n",
      "\n",
      "----------------- 2회차 입니다 -----------------\n",
      "\"가위\", \"바위\", \"보\" 중에 하나를 입력하세요: 바위\n",
      "컴퓨터: 바위, 사용자: 바위\n",
      "\n",
      "비겼습니다.\n",
      "----------------- 3회차 입니다 -----------------\n",
      "\"가위\", \"바위\", \"보\" 중에 하나를 입력하세요: 바위\n",
      "컴퓨터: 보, 사용자: 바위\n",
      "\n",
      "컴퓨터가 이겼습니다.\n",
      "\n",
      "----------------- 4회차 입니다 -----------------\n",
      "\"가위\", \"바위\", \"보\" 중에 하나를 입력하세요: 보\n",
      "컴퓨터: 가위, 사용자: 보\n",
      "\n",
      "컴퓨터가 이겼습니다.\n",
      "\n",
      "----------------- 5회차 입니다 -----------------\n",
      "\"가위\", \"바위\", \"보\" 중에 하나를 입력하세요: 보\n",
      "컴퓨터: 보, 사용자: 보\n",
      "\n",
      "비겼습니다.\n",
      "컴퓨터 승: 3\n",
      "사용자 승: 0\n",
      "컴퓨터가 최종적으로 이겼습니다!\n",
      "----- done -----\n"
     ]
    }
   ],
   "source": [
    "import random\n",
    "\n",
    "choices = ['가위', '바위', '보']\n",
    "comWin = 0\n",
    "userWin = 0\n",
    "\n",
    "for i in range(5):\n",
    "    num = random.randrange(len(choices))\n",
    "    com = choices[num]\n",
    "    \n",
    "    print(f'----------------- {i+1}회차 입니다 -----------------')\n",
    "    \n",
    "    while True:\n",
    "        user = input('\"가위\", \"바위\", \"보\" 중에 하나를 입력하세요: ')\n",
    "        if user in choices:\n",
    "            break\n",
    "        else:\n",
    "            print('입력 오류입니다.', end='\\n\\n')\n",
    "\n",
    "    print(f'컴퓨터: {com}, 사용자: {user}', end='\\n\\n')\n",
    "\n",
    "    if com == user:\n",
    "        print('비겼습니다.')\n",
    "\n",
    "    elif com == '가위':\n",
    "        if user == '바위':\n",
    "            print('사용자가 이겼습니다.', end='\\n\\n')\n",
    "            userWin += 1\n",
    "        else:\n",
    "            print('컴퓨터가 이겼습니다.', end='\\n\\n')\n",
    "            comWin += 1\n",
    "    elif com == '바위':\n",
    "        if user == '보':\n",
    "            print('사용자가 이겼습니다.', end='\\n\\n')\n",
    "            userWin += 1\n",
    "        else:\n",
    "            print('컴퓨터가 이겼습니다.', end='\\n\\n')\n",
    "            comWin += 1\n",
    "    elif com == '보':\n",
    "        if user == '가위':\n",
    "            print('사용자가 이겼습니다.', end='\\n\\n')\n",
    "            userWin += 1\n",
    "        else:\n",
    "            print('컴퓨터가 이겼습니다.', end='\\n\\n')\n",
    "            comWin += 1\n",
    "\n",
    "\n",
    "print(f'컴퓨터 승: {comWin}')\n",
    "print(f'사용자 승: {userWin}')\n",
    "\n",
    "if comWin > userWin:\n",
    "    print('컴퓨터가 최종적으로 이겼습니다!')\n",
    "elif comWin < userWin:\n",
    "    print('사용자가 최종적으로 이겼습니다!')\n",
    "else:\n",
    "    print('무승부 입니다!')\n",
    "\n",
    "print('----- done -----')"
   ]
  },
  {
   "cell_type": "markdown",
   "metadata": {},
   "source": [
    "# 실습"
   ]
  },
  {
   "cell_type": "code",
   "execution_count": 118,
   "metadata": {},
   "outputs": [
    {
     "name": "stdout",
     "output_type": "stream",
     "text": [
      "금주 식단 :  ['시금치', '브로클리', '아보카도', '수박', '수박', '시금치', '키위']\n"
     ]
    }
   ],
   "source": [
    "import random\n",
    "\n",
    "menu = ('사과','토마토','바나나','브로클리','양배추','시금치','아보카도','수박','키위')\n",
    "weekmenu = []\n",
    "\n",
    "for week in range(7):\n",
    "    weekmenu = weekmenu + random.sample(menu, 1)\n",
    "#     weekmenu.append(random.sample(menu, 1)[0])\n",
    "        \n",
    "print('금주 식단 : ', weekmenu)"
   ]
  },
  {
   "cell_type": "code",
   "execution_count": 169,
   "metadata": {},
   "outputs": [
    {
     "name": "stdout",
     "output_type": "stream",
     "text": [
      "금주 식단 :  ['수박', '키위', '양배추', '아보카도', '사과', '토마토', '브로클리']\n"
     ]
    }
   ],
   "source": [
    "# 중복 제거 리스트\n",
    "\n",
    "import random\n",
    "\n",
    "menu = ('사과','토마토','바나나','브로클리','양배추','시금치','아보카도','수박','키위')\n",
    "weekmenu = []\n",
    "newmenu = None\n",
    "\n",
    "for week in range(7):\n",
    "    while True:\n",
    "        newmenu = random.sample(menu, 1)\n",
    "        if newmenu[0] not in weekmenu:\n",
    "            break\n",
    "    weekmenu += newmenu\n",
    "#     weekmenu.append(random.sample(menu, 1)[0])\n",
    "        \n",
    "print('금주 식단 : ', weekmenu)"
   ]
  },
  {
   "cell_type": "markdown",
   "metadata": {},
   "source": [
    "# 식단 구분하기"
   ]
  },
  {
   "cell_type": "code",
   "execution_count": 227,
   "metadata": {},
   "outputs": [
    {
     "name": "stdout",
     "output_type": "stream",
     "text": [
      "금주 식단 :  ['브로클리', '키위', '시금치', '바나나', '브로클리', '바나나', '아보카도']\n",
      "식단 구분 :  ['야채', '과일', '야채', '과일', '야채', '과일', '야채']\n",
      "0.00028443336486816406\n"
     ]
    }
   ],
   "source": [
    "import random\n",
    "import time\n",
    "start = time.time()\n",
    "\n",
    "group=[['사과','과일'],['토마토','야채'],['바나나','과일'],['브로클리','야채'],['양배추','야채'],\n",
    "       ['시금치','야채'],['아보카도','야채'],['수박','과일'],['키위','과일']]\n",
    "\n",
    "menu = ('사과','토마토','바나나','브로클리','양배추','시금치','아보카도','수박','키위')\n",
    "weekmenu = []\n",
    "\n",
    "for week in range(7):\n",
    "    weekmenu += random.sample(menu, 1)\n",
    "\n",
    "        \n",
    "print('금주 식단 : ', weekmenu)\n",
    "\n",
    "weekgroup = []\n",
    "for m in weekmenu:\n",
    "    for g in group:\n",
    "        if m == g[0]:\n",
    "            weekgroup.append(g[1])\n",
    "            break   # 처리 속도가 느려지는 것을 방지\n",
    "            \n",
    "end1 = time.time() - start\n",
    "print('식단 구분 : ', weekgroup)            \n",
    "print(end1)"
   ]
  },
  {
   "cell_type": "code",
   "execution_count": 228,
   "metadata": {},
   "outputs": [
    {
     "name": "stdout",
     "output_type": "stream",
     "text": [
      "0.0006372928619384766\n",
      "0.00028443336486816406\n",
      "단축시간:  0.0003528594970703125\n"
     ]
    }
   ],
   "source": [
    "print(end2)\n",
    "print(end1)\n",
    "print('단축시간: ', end2 - end1)"
   ]
  },
  {
   "cell_type": "markdown",
   "metadata": {},
   "source": [
    "- 식단 및 구분 빈도수 구하기"
   ]
  },
  {
   "cell_type": "code",
   "execution_count": 229,
   "metadata": {},
   "outputs": [
    {
     "name": "stdout",
     "output_type": "stream",
     "text": [
      "Counter({'브로클리': 2, '바나나': 2, '키위': 1, '시금치': 1, '아보카도': 1})\n",
      "Counter({'야채': 4, '과일': 3})\n"
     ]
    }
   ],
   "source": [
    "from collections import Counter\n",
    "\n",
    "mCnt = Counter(weekmenu)\n",
    "gCnt = Counter(weekgroup)\n",
    "\n",
    "print(mCnt)\n",
    "print(gCnt)"
   ]
  },
  {
   "cell_type": "code",
   "execution_count": 231,
   "metadata": {},
   "outputs": [
    {
     "name": "stdout",
     "output_type": "stream",
     "text": [
      "1\n",
      "3\n"
     ]
    }
   ],
   "source": [
    "print(mCnt['키위'])\n",
    "print(gCnt['과일'])"
   ]
  },
  {
   "cell_type": "code",
   "execution_count": 233,
   "metadata": {},
   "outputs": [
    {
     "name": "stdout",
     "output_type": "stream",
     "text": [
      "dict_keys(['브로클리', '키위', '시금치', '바나나', '아보카도'])\n",
      "dict_values([2, 1, 1, 2, 1])\n"
     ]
    }
   ],
   "source": [
    "print(mCnt.keys())\n",
    "print(mCnt.values())"
   ]
  },
  {
   "cell_type": "markdown",
   "metadata": {},
   "source": [
    "# 로또 번호 생성기"
   ]
  },
  {
   "cell_type": "code",
   "execution_count": 257,
   "metadata": {},
   "outputs": [
    {
     "data": {
      "text/plain": [
       "[38]"
      ]
     },
     "execution_count": 257,
     "metadata": {},
     "output_type": "execute_result"
    }
   ],
   "source": [
    "import random\n",
    "\n",
    "num = random.sample(range(45), 1)\n",
    "num"
   ]
  },
  {
   "cell_type": "code",
   "execution_count": 334,
   "metadata": {},
   "outputs": [
    {
     "data": {
      "text/plain": [
       "20"
      ]
     },
     "execution_count": 334,
     "metadata": {},
     "output_type": "execute_result"
    }
   ],
   "source": [
    "num = random.randint(1, 45)\n",
    "num"
   ]
  },
  {
   "cell_type": "code",
   "execution_count": 478,
   "metadata": {},
   "outputs": [
    {
     "name": "stdout",
     "output_type": "stream",
     "text": [
      "주번호:  [4, 12, 19, 24, 42, 44]\n",
      "보너스 번호:  14\n"
     ]
    }
   ],
   "source": [
    "keyNum = []\n",
    "\n",
    "while True:\n",
    "    num = random.randint(1, 45)   # 1~45 중에\n",
    "    if num not in keyNum:        # 리스트에 없는 단어를\n",
    "        keyNum.append(num)        # 추가\n",
    "    if len(keyNum) == 7:\n",
    "        break\n",
    "\n",
    "mainNum = keyNum[:-1]\n",
    "bonusNum = keyNum[-1]\n",
    "\n",
    "mainNum.sort()\n",
    "        \n",
    "print('주번호: ', mainNum)\n",
    "print('보너스 번호: ', bonusNum)"
   ]
  },
  {
   "cell_type": "code",
   "execution_count": 492,
   "metadata": {},
   "outputs": [
    {
     "name": "stdout",
     "output_type": "stream",
     "text": [
      "[1, 2, 3, 4, 5, 6, 7, 8, 9, 10, 11, 12, 13, 14, 15, 16, 17, 18, 19, 20, 21, 22, 23, 24, 25, 26, 27, 28, 29, 30, 31, 32, 33, 34, 35, 36, 37, 38, 39, 40, 41, 42, 43, 44, 45]\n"
     ]
    },
    {
     "data": {
      "text/plain": [
       "[29, 15, 44, 23, 36, 30, 2]"
      ]
     },
     "execution_count": 492,
     "metadata": {},
     "output_type": "execute_result"
    }
   ],
   "source": [
    "keyNum = []\n",
    "\n",
    "for num in range(1, 46):\n",
    "    keyNum.append(num)\n",
    "    \n",
    "print(keyNum)\n",
    "\n",
    "choiceNum = random.sample(keyNum, 7)\n",
    "choiceNum"
   ]
  },
  {
   "cell_type": "code",
   "execution_count": 511,
   "metadata": {},
   "outputs": [
    {
     "name": "stdout",
     "output_type": "stream",
     "text": [
      "메인 번호:  [4, 9, 15, 26, 29, 34]\n",
      "보너스 번호:  43\n"
     ]
    }
   ],
   "source": [
    "keyNum = list(range(1, 46))\n",
    "choiceNum = random.sample(keyNum, 7)\n",
    "\n",
    "mainNum = choiceNum[:-1]\n",
    "bonusNum = choiceNum[-1]\n",
    "mainNum.sort()\n",
    "\n",
    "print('메인 번호: ', mainNum)\n",
    "print('보너스 번호: ', bonusNum)"
   ]
  },
  {
   "cell_type": "markdown",
   "metadata": {},
   "source": [
    "# 숫자 맞추기 (while)"
   ]
  },
  {
   "cell_type": "code",
   "execution_count": 514,
   "metadata": {},
   "outputs": [
    {
     "name": "stdout",
     "output_type": "stream",
     "text": [
      "0~9 사이의 숫자를 입력하세요: 3\n",
      "2번째 숫자를 입력하세요: 4\n",
      "3번째 숫자를 입력하세요: 5\n",
      "4번째 숫자를 입력하세요: 6\n",
      "5번째 숫자를 입력하세요: 7\n",
      "6번째 숫자를 입력하세요: 8\n",
      "7번째 숫자를 입력하세요: 4\n",
      "8번째 숫자를 입력하세요: 2\n",
      "8회 만에 맞추셨습니다.\n"
     ]
    }
   ],
   "source": [
    "### num = random.randint(1, 10)\n",
    "cnt = 1\n",
    "userNum = int(input('0~9 사이의 숫자를 입력하세요: '))\n",
    "\n",
    "while userNum != num:\n",
    "    # 두 수가 다른 경우 실행\n",
    "    cnt += 1\n",
    "    userNum = int(input('%d번째 숫자를 입력하세요: '%cnt))\n",
    "    \n",
    "print('%d회 만에 맞추셨습니다.'%cnt)"
   ]
  },
  {
   "cell_type": "code",
   "execution_count": 517,
   "metadata": {},
   "outputs": [
    {
     "name": "stdout",
     "output_type": "stream",
     "text": [
      "0~9 사이의 숫자를 입력하세요: 4\n",
      "0~9 사이의 숫자를 입력하세요: 5\n",
      "0~9 사이의 숫자를 입력하세요: 2\n",
      "0~9 사이의 숫자를 입력하세요: 6\n",
      "0~9 사이의 숫자를 입력하세요: 7\n",
      "5회 만에 맞추셨습니다.\n"
     ]
    }
   ],
   "source": [
    "cnt = 0\n",
    "num = random.randint(1, 10)\n",
    "userNum = None\n",
    "while userNum != num:\n",
    "    userNum = int(input('0~9 사이의 숫자를 입력하세요: '))\n",
    "    cnt += 1\n",
    "print('%d회 만에 맞추셨습니다.'%cnt)"
   ]
  },
  {
   "cell_type": "code",
   "execution_count": 529,
   "metadata": {},
   "outputs": [
    {
     "name": "stdout",
     "output_type": "stream",
     "text": [
      "1번째 실행 >>> 1~100 사이의 숫자를 입력하세요: 50\n",
      "입력한 숫자보다 작은 수 입니다.\n",
      "2번째 실행 >>> 1~100 사이의 숫자를 입력하세요: 25\n",
      "입력한 숫자보다 큰 수 입니다.\n",
      "3번째 실행 >>> 1~100 사이의 숫자를 입력하세요: 35\n",
      "입력한 숫자보다 큰 수 입니다.\n",
      "4번째 실행 >>> 1~100 사이의 숫자를 입력하세요: 40\n",
      "입력한 숫자보다 큰 수 입니다.\n",
      "5번째 실행 >>> 1~100 사이의 숫자를 입력하세요: 45\n",
      "입력한 숫자보다 큰 수 입니다.\n",
      "6번째 실행 >>> 1~100 사이의 숫자를 입력하세요: 47\n",
      "입력한 숫자보다 큰 수 입니다.\n",
      "7번째 실행 >>> 1~100 사이의 숫자를 입력하세요: 48\n",
      "입력한 숫자보다 큰 수 입니다.\n",
      "8번째 실행 >>> 1~100 사이의 숫자를 입력하세요: 49\n",
      "8회 만에 맞추었습니다.\n"
     ]
    }
   ],
   "source": [
    "import random\n",
    "\n",
    "cnt = 0\n",
    "num = random.randint(1, 100)\n",
    "userNum = None\n",
    "\n",
    "while cnt < 10:\n",
    "    cnt += 1\n",
    "    userNum = int(input(f'{cnt}번째 실행 >>> 1~100 사이의 숫자를 입력하세요: '))\n",
    "    if userNum == num:\n",
    "        print('%d회 만에 맞추었습니다.'%cnt)\n",
    "        break\n",
    "    else:\n",
    "        if userNum > num:\n",
    "            print('입력한 숫자보다 작은 수 입니다.')\n",
    "        else:\n",
    "            print('입력한 숫자보다 큰 수 입니다.')\n",
    "        \n",
    "if num != userNum:\n",
    "    print('정답을 맞추지 못하였습니다.')"
   ]
  },
  {
   "cell_type": "markdown",
   "metadata": {},
   "source": [
    "# 가위바위보 while 문으로 만들기"
   ]
  },
  {
   "cell_type": "code",
   "execution_count": 558,
   "metadata": {
    "scrolled": true
   },
   "outputs": [
    {
     "name": "stdout",
     "output_type": "stream",
     "text": [
      "(30, 2)\n"
     ]
    },
    {
     "data": {
      "text/html": [
       "<div>\n",
       "<style scoped>\n",
       "    .dataframe tbody tr th:only-of-type {\n",
       "        vertical-align: middle;\n",
       "    }\n",
       "\n",
       "    .dataframe tbody tr th {\n",
       "        vertical-align: top;\n",
       "    }\n",
       "\n",
       "    .dataframe thead th {\n",
       "        text-align: right;\n",
       "    }\n",
       "</style>\n",
       "<table border=\"1\" class=\"dataframe\">\n",
       "  <thead>\n",
       "    <tr style=\"text-align: right;\">\n",
       "      <th></th>\n",
       "      <th>넘버</th>\n",
       "      <th>결과</th>\n",
       "    </tr>\n",
       "  </thead>\n",
       "  <tbody>\n",
       "    <tr>\n",
       "      <th>0</th>\n",
       "      <td>1</td>\n",
       "      <td>이겼당~~</td>\n",
       "    </tr>\n",
       "    <tr>\n",
       "      <th>1</th>\n",
       "      <td>2</td>\n",
       "      <td>비김</td>\n",
       "    </tr>\n",
       "    <tr>\n",
       "      <th>2</th>\n",
       "      <td>3</td>\n",
       "      <td>이겼당~~</td>\n",
       "    </tr>\n",
       "    <tr>\n",
       "      <th>3</th>\n",
       "      <td>4</td>\n",
       "      <td>졌어..</td>\n",
       "    </tr>\n",
       "    <tr>\n",
       "      <th>4</th>\n",
       "      <td>5</td>\n",
       "      <td>비김</td>\n",
       "    </tr>\n",
       "  </tbody>\n",
       "</table>\n",
       "</div>"
      ],
      "text/plain": [
       "   넘버     결과\n",
       "0   1  이겼당~~\n",
       "1   2     비김\n",
       "2   3  이겼당~~\n",
       "3   4  졌어.. \n",
       "4   5     비김"
      ]
     },
     "metadata": {},
     "output_type": "display_data"
    },
    {
     "data": {
      "text/html": [
       "<div>\n",
       "<style scoped>\n",
       "    .dataframe tbody tr th:only-of-type {\n",
       "        vertical-align: middle;\n",
       "    }\n",
       "\n",
       "    .dataframe tbody tr th {\n",
       "        vertical-align: top;\n",
       "    }\n",
       "\n",
       "    .dataframe thead th {\n",
       "        text-align: right;\n",
       "    }\n",
       "</style>\n",
       "<table border=\"1\" class=\"dataframe\">\n",
       "  <thead>\n",
       "    <tr style=\"text-align: right;\">\n",
       "      <th></th>\n",
       "      <th>넘버</th>\n",
       "      <th>결과</th>\n",
       "    </tr>\n",
       "  </thead>\n",
       "  <tbody>\n",
       "    <tr>\n",
       "      <th>25</th>\n",
       "      <td>26</td>\n",
       "      <td>비김</td>\n",
       "    </tr>\n",
       "    <tr>\n",
       "      <th>26</th>\n",
       "      <td>27</td>\n",
       "      <td>이겼당~~</td>\n",
       "    </tr>\n",
       "    <tr>\n",
       "      <th>27</th>\n",
       "      <td>28</td>\n",
       "      <td>졌어..</td>\n",
       "    </tr>\n",
       "    <tr>\n",
       "      <th>28</th>\n",
       "      <td>29</td>\n",
       "      <td>졌어..</td>\n",
       "    </tr>\n",
       "    <tr>\n",
       "      <th>29</th>\n",
       "      <td>30</td>\n",
       "      <td>이겼당~~</td>\n",
       "    </tr>\n",
       "  </tbody>\n",
       "</table>\n",
       "</div>"
      ],
      "text/plain": [
       "    넘버     결과\n",
       "25  26     비김\n",
       "26  27  이겼당~~\n",
       "27  28  졌어.. \n",
       "28  29  졌어.. \n",
       "29  30  이겼당~~"
      ]
     },
     "metadata": {},
     "output_type": "display_data"
    }
   ],
   "source": [
    "import random\n",
    "\n",
    "data = ['가위','바위','보']\n",
    "\n",
    "re = ''\n",
    "history = []\n",
    "\n",
    "for i in range(30):\n",
    "    num = random.randrange(0,3)\n",
    "    na = '바위'\n",
    "#     print(\"나: \" + na + \", 컴퓨터는:\" + data[num])\n",
    "    if na == data[num]:\n",
    "        re='비김'\n",
    "    elif na=='가위':\n",
    "        if data[num]=='바위':\n",
    "            re=\"졌어.. \"\n",
    "        elif data[num]=='보':\n",
    "            re=\"이겼당~~\"\n",
    "    elif na=='바위':\n",
    "        if data[num]=='보':\n",
    "            re=\"졌어.. \"\n",
    "        elif data[num]=='가위':\n",
    "            re=\"이겼당~~\"\n",
    "    elif na=='보':\n",
    "        if data[num]=='가위':\n",
    "            re=\"졌어.. \"\n",
    "        elif data[num]=='바위':\n",
    "            re=\"이겼당~~\"\n",
    "#     print(re)\n",
    "    history.append({'넘버':i+1,'결과':re})\n",
    "\n",
    "import pandas as pd\n",
    "\n",
    "df1 = pd.DataFrame(history)\n",
    "print(df1.shape)\n",
    "display(df1.head())\n",
    "display(df1.tail())"
   ]
  }
 ],
 "metadata": {
  "kernelspec": {
   "display_name": "Python 3",
   "language": "python",
   "name": "python3"
  },
  "language_info": {
   "codemirror_mode": {
    "name": "ipython",
    "version": 3
   },
   "file_extension": ".py",
   "mimetype": "text/x-python",
   "name": "python",
   "nbconvert_exporter": "python",
   "pygments_lexer": "ipython3",
   "version": "3.8.5"
  }
 },
 "nbformat": 4,
 "nbformat_minor": 4
}
