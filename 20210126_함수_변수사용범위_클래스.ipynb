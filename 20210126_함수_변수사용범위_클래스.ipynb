{
 "cells": [
  {
   "cell_type": "markdown",
   "metadata": {},
   "source": [
    "### 변수의 사용 범위"
   ]
  },
  {
   "cell_type": "code",
   "execution_count": 4,
   "metadata": {},
   "outputs": [],
   "source": [
    "def test_1():\n",
    "    print(x1)\n",
    "\n",
    "x1=10       # 전역변수, 현재 작업중인 파일 전체에서 사용 가능\n",
    "test_1()\n",
    "\n",
    "print(x1)"
   ]
  },
  {
   "cell_type": "code",
   "execution_count": 7,
   "metadata": {},
   "outputs": [
    {
     "name": "stdout",
     "output_type": "stream",
     "text": [
      "10\n"
     ]
    },
    {
     "ename": "NameError",
     "evalue": "name 'x2' is not defined",
     "output_type": "error",
     "traceback": [
      "\u001b[1;31m---------------------------------------------------------------------------\u001b[0m",
      "\u001b[1;31mNameError\u001b[0m                                 Traceback (most recent call last)",
      "\u001b[1;32m<ipython-input-7-66a3fd4fb1c6>\u001b[0m in \u001b[0;36m<module>\u001b[1;34m\u001b[0m\n\u001b[0;32m      6\u001b[0m \u001b[0mtest_2\u001b[0m\u001b[1;33m(\u001b[0m\u001b[1;33m)\u001b[0m\u001b[1;33m\u001b[0m\u001b[1;33m\u001b[0m\u001b[0m\n\u001b[0;32m      7\u001b[0m \u001b[1;33m\u001b[0m\u001b[0m\n\u001b[1;32m----> 8\u001b[1;33m \u001b[0mprint\u001b[0m\u001b[1;33m(\u001b[0m\u001b[0mx2\u001b[0m\u001b[1;33m)\u001b[0m\u001b[1;33m\u001b[0m\u001b[1;33m\u001b[0m\u001b[0m\n\u001b[0m",
      "\u001b[1;31mNameError\u001b[0m: name 'x2' is not defined"
     ]
    }
   ],
   "source": [
    "def test_2():\n",
    "    x2=10       # 지역변수, test_2 범위 내에서만 사용\n",
    "    print(x2)\n",
    "    \n",
    "    \n",
    "test_2()\n",
    "\n",
    "print(x2)"
   ]
  },
  {
   "cell_type": "code",
   "execution_count": 10,
   "metadata": {},
   "outputs": [
    {
     "name": "stdout",
     "output_type": "stream",
     "text": [
      "20\n",
      "10\n"
     ]
    }
   ],
   "source": [
    "def test_3():\n",
    "    x1=20     # 지역변수\n",
    "    print(x1)\n",
    "\n",
    "x1=10         # 전역변수\n",
    "test_3()\n",
    "\n",
    "print(x1)"
   ]
  },
  {
   "cell_type": "code",
   "execution_count": 11,
   "metadata": {},
   "outputs": [
    {
     "name": "stdout",
     "output_type": "stream",
     "text": [
      "20\n",
      "20\n"
     ]
    }
   ],
   "source": [
    "def test_4():\n",
    "    global x1 # 전역변수 x1을 사용하기 위한 설정\n",
    "    x1=20     # 전역변수\n",
    "    print(x1)\n",
    "\n",
    "x1=10         # 전역변수\n",
    "test_4()\n",
    "\n",
    "print(x1)"
   ]
  },
  {
   "cell_type": "code",
   "execution_count": null,
   "metadata": {},
   "outputs": [],
   "source": [
    "def 함수이름1():\n",
    "    코드1\n",
    "    def 함수이름2():\n",
    "        코드2"
   ]
  },
  {
   "cell_type": "code",
   "execution_count": 17,
   "metadata": {},
   "outputs": [
    {
     "name": "stdout",
     "output_type": "stream",
     "text": [
      "python 3.8\n"
     ]
    }
   ],
   "source": [
    "def prn_test1():\n",
    "    pyt='python 3.8'   # pyt: prn_test1 지역변수\n",
    "    def sub_test():\n",
    "        print(pyt)\n",
    "        \n",
    "    sub_test()\n",
    "    \n",
    "prn_test1()\n",
    "# print(pyt)"
   ]
  },
  {
   "cell_type": "code",
   "execution_count": 21,
   "metadata": {},
   "outputs": [
    {
     "name": "stdout",
     "output_type": "stream",
     "text": [
      "파이썬 3.8\n",
      "python 3.8\n"
     ]
    }
   ],
   "source": [
    "def prn_test():\n",
    "    pyt='python 3.8'   # pyt: prn_test1 지역변수\n",
    "    def sub_test():\n",
    "        pyt='파이썬 3.8' # sub_test 함수에서 사용하는 지역변수\n",
    "        print(pyt)\n",
    "        \n",
    "    sub_test()\n",
    "    print(pyt)\n",
    "\n",
    "prn_test()\n",
    "# print(pyt)"
   ]
  },
  {
   "cell_type": "code",
   "execution_count": 23,
   "metadata": {},
   "outputs": [
    {
     "name": "stdout",
     "output_type": "stream",
     "text": [
      "파이썬 3.8\n",
      "파이썬 3.8\n",
      "인공지능\n"
     ]
    }
   ],
   "source": [
    "def prn_test():\n",
    "    pyt='python 3.8'   # pyt: prn_test1 지역변수\n",
    "    def sub_test():\n",
    "        nonlocal pyt\n",
    "        pyt='파이썬 3.8' # prn_test1 함수에서 사용하는 지역변수\n",
    "        print(pyt)\n",
    "        \n",
    "    sub_test()\n",
    "    print(pyt)\n",
    "\n",
    "pyt=\"인공지능\"\n",
    "prn_test()\n",
    "print(pyt)"
   ]
  },
  {
   "cell_type": "code",
   "execution_count": 24,
   "metadata": {},
   "outputs": [
    {
     "name": "stdout",
     "output_type": "stream",
     "text": [
      "파이썬 3.8\n",
      "python 3.8\n",
      "파이썬 3.8\n"
     ]
    }
   ],
   "source": [
    "def prn_test():\n",
    "    pyt='python 3.8'   # pyt: prn_test1 지역변수\n",
    "    def sub_test():\n",
    "        global pyt\n",
    "        pyt='파이썬 3.8' # prn_test1 함수에서 사용하는 지역변수\n",
    "        print(pyt)\n",
    "        \n",
    "    sub_test()\n",
    "    print(pyt)\n",
    "\n",
    "pyt=\"인공지능\"\n",
    "prn_test()\n",
    "print(pyt)"
   ]
  },
  {
   "cell_type": "code",
   "execution_count": 34,
   "metadata": {},
   "outputs": [],
   "source": [
    "def aaa():\n",
    "    x=10    # aaa() 지역변수 \n",
    "    y=10\n",
    "    def bbb():\n",
    "        x=20   # bbb() 지역변수\n",
    "        def ccc():\n",
    "            nonlocal x  # bbb() x 와 연결\n",
    "            nonlocal y  # aaa() y 와 연결(bbb에 y 없음)\n",
    "            z=20         # ccc() 지역변수\n",
    "            x=x+100; y=y+100; z=z+100\n",
    "            print('ccc:', x, y, z)\n",
    "        ccc()\n",
    "        print('bbb:', x, y, z)\n",
    "    bbb()\n",
    "    print('aaa:',x, y, z)"
   ]
  },
  {
   "cell_type": "code",
   "execution_count": 35,
   "metadata": {},
   "outputs": [
    {
     "name": "stdout",
     "output_type": "stream",
     "text": [
      "ccc: 120 110 120\n",
      "bbb: 120 110 100\n",
      "aaa: 10 110 100\n",
      "최종: 100 100 100\n"
     ]
    }
   ],
   "source": [
    "x=100;y=100;z=100\n",
    "aaa()\n",
    "print('최종:',x, y, z)"
   ]
  },
  {
   "cell_type": "code",
   "execution_count": 36,
   "metadata": {},
   "outputs": [
    {
     "name": "stdout",
     "output_type": "stream",
     "text": [
      "10 18 108\n"
     ]
    }
   ],
   "source": [
    "def add_1():\n",
    "    a=3\n",
    "    b=5\n",
    "    def sum_1(x):\n",
    "        return a+b+x\n",
    "    \n",
    "    return sum_1\n",
    "\n",
    "sub=add_1()\n",
    "print(sub(2), sub(10), sub(100))"
   ]
  },
  {
   "cell_type": "code",
   "execution_count": 37,
   "metadata": {},
   "outputs": [
    {
     "name": "stdout",
     "output_type": "stream",
     "text": [
      "10 18 108\n"
     ]
    }
   ],
   "source": [
    "def add_1():\n",
    "    a=3\n",
    "    b=5\n",
    "    return lambda x : a+b+x\n",
    "\n",
    "sub=add_1()\n",
    "print(sub(2), sub(10), sub(100))"
   ]
  },
  {
   "cell_type": "code",
   "execution_count": 41,
   "metadata": {},
   "outputs": [
    {
     "name": "stdout",
     "output_type": "stream",
     "text": [
      "10\n",
      "18\n",
      "108\n",
      "13\n"
     ]
    }
   ],
   "source": [
    "def add_1():\n",
    "    a=3\n",
    "    b=5\n",
    "    tot=0\n",
    "    def sum_1(x=5):\n",
    "        nonlocal tot\n",
    "        tot=a+b+x\n",
    "        print(tot)\n",
    "       \n",
    "    return sum_1\n",
    "\n",
    "sub=add_1()\n",
    "\n",
    "sub(2)\n",
    "sub(10)\n",
    "sub(100)\n",
    "sub()"
   ]
  },
  {
   "cell_type": "code",
   "execution_count": 45,
   "metadata": {},
   "outputs": [
    {
     "name": "stdout",
     "output_type": "stream",
     "text": [
      "10\n",
      "15\n"
     ]
    }
   ],
   "source": [
    "def aaa(x, y=10):\n",
    "    print(x+y)\n",
    "    \n",
    "aaa(5, 5)\n",
    "aaa(5)"
   ]
  },
  {
   "cell_type": "code",
   "execution_count": 50,
   "metadata": {},
   "outputs": [
    {
     "name": "stdout",
     "output_type": "stream",
     "text": [
      "5\n",
      "11\n",
      "18\n",
      "26\n",
      "35\n",
      "45\n"
     ]
    }
   ],
   "source": [
    "def aaa(*x):\n",
    "    tot=0\n",
    "    for num in x:\n",
    "        tot=tot+num\n",
    "        print(tot)\n",
    "    \n",
    "aaa(5, 6, 7, 8 ,9 ,10) "
   ]
  },
  {
   "cell_type": "markdown",
   "metadata": {},
   "source": [
    "### 클래스 이해\n",
    "- 메서드\n",
    "- 속성"
   ]
  },
  {
   "cell_type": "code",
   "execution_count": 56,
   "metadata": {},
   "outputs": [],
   "source": [
    "# 메서드 만들기\n",
    "\n",
    "class parson:\n",
    "    \n",
    "    def prn_pyt(self):\n",
    "        print('Python 3.8')\n",
    "        \n",
    "    def prn_num(self):\n",
    "        print(123456)\n",
    "        \n",
    "    def prn_pyth(self):\n",
    "        self.prn_pyt()"
   ]
  },
  {
   "cell_type": "code",
   "execution_count": 54,
   "metadata": {},
   "outputs": [
    {
     "name": "stdout",
     "output_type": "stream",
     "text": [
      "Python 3.8\n",
      "123456\n"
     ]
    }
   ],
   "source": [
    "pars=parson()\n",
    "\n",
    "pars.prn_pyt()\n",
    "pars.prn_num()"
   ]
  },
  {
   "cell_type": "code",
   "execution_count": 55,
   "metadata": {},
   "outputs": [],
   "source": [
    "a=list(range(10))  # a 는 리스트 변수=리스트 객체\n",
    "                   # a 는 list 클래스의 인스턴스다."
   ]
  },
  {
   "cell_type": "code",
   "execution_count": null,
   "metadata": {},
   "outputs": [],
   "source": [
    "class parson:\n",
    "    pass"
   ]
  },
  {
   "cell_type": "code",
   "execution_count": 62,
   "metadata": {},
   "outputs": [
    {
     "name": "stdout",
     "output_type": "stream",
     "text": [
      "Python 3.8\n",
      "True\n",
      "True\n"
     ]
    }
   ],
   "source": [
    "pars=parson()\n",
    "pars.prn_pyth()\n",
    "\n",
    "print(isinstance(pars, parson))\n",
    "print(isinstance(1, int))"
   ]
  },
  {
   "cell_type": "code",
   "execution_count": 65,
   "metadata": {},
   "outputs": [
    {
     "name": "stdout",
     "output_type": "stream",
     "text": [
      "<class 'str'>\n"
     ]
    }
   ],
   "source": [
    "print(type('2'))"
   ]
  },
  {
   "cell_type": "code",
   "execution_count": 66,
   "metadata": {},
   "outputs": [
    {
     "name": "stdout",
     "output_type": "stream",
     "text": [
      "True\n"
     ]
    }
   ],
   "source": [
    "aa=[2,5,4,'5',4,'6']\n",
    "print(isinstance(aa[0], int))"
   ]
  },
  {
   "cell_type": "markdown",
   "metadata": {},
   "source": [
    "#### 클래스 속성 설정하기\n",
    "- __init__: initialize, "
   ]
  },
  {
   "cell_type": "code",
   "execution_count": null,
   "metadata": {},
   "outputs": [],
   "source": [
    "class 클래스이름:\n",
    "    def __init__(self):\n",
    "        self.속성 = 값\n",
    "        "
   ]
  },
  {
   "cell_type": "code",
   "execution_count": 67,
   "metadata": {},
   "outputs": [
    {
     "name": "stdout",
     "output_type": "stream",
     "text": [
      "parson\n"
     ]
    }
   ],
   "source": [
    "class parson():\n",
    "    def __init__(self):\n",
    "        self.name='parson'\n",
    "        self.color='빨강'\n",
    "        \n",
    "    def prn_test(self):\n",
    "        print(self.name)\n",
    "        \n",
    "prn=parson()\n",
    "prn.prn_test()\n",
    "        "
   ]
  },
  {
   "cell_type": "code",
   "execution_count": null,
   "metadata": {},
   "outputs": [],
   "source": [
    "class 클래스이름:\n",
    "    def __init__(self, 매개변수1, 매개변수2):\n",
    "        self.속성1='속성값'     # 클래스가 가지고 있는 고유 속성            \n",
    "        self.속성2 = 매개변수1  # 객체 생성시 속성 초기화 \n",
    "        self.속성3 = 매개변수2"
   ]
  },
  {
   "cell_type": "code",
   "execution_count": 72,
   "metadata": {},
   "outputs": [
    {
     "name": "stdout",
     "output_type": "stream",
     "text": [
      "안녕하세요. 저는 서정동입니다.\n",
      "안녕하세요. 서정동 서울 노원구 공릉동\n",
      "안녕하세요. 저는 김윤조입니다.\n",
      "안녕하세요. 김윤조 서울 동대문 신설동\n"
     ]
    }
   ],
   "source": [
    "class parson():\n",
    "    \n",
    "    def __init__(self, name, age, addr):\n",
    "        self.hello='안녕하세요.'\n",
    "        self.name=name\n",
    "        self.age=age\n",
    "        self.address=addr\n",
    "        \n",
    "    def prntest(self):\n",
    "        print('{0} 저는 {1}입니다.'.format(self.hello,self.name))\n",
    "        \n",
    "        \n",
    "seo=parson('서정동', '48', '서울 노원구 공릉동')\n",
    "kim=parson('김윤조', '38', '서울 동대문 신설동')\n",
    "\n",
    "seo.prntest()\n",
    "print(seo.hello, seo.name, seo.address)\n",
    "kim.prntest()\n",
    "print(kim.hello, kim.name, kim.address)"
   ]
  },
  {
   "cell_type": "code",
   "execution_count": 73,
   "metadata": {},
   "outputs": [
    {
     "name": "stdout",
     "output_type": "stream",
     "text": [
      "홍길동\n"
     ]
    }
   ],
   "source": [
    "kim.name='홍길동'\n",
    "print(kim.name)"
   ]
  },
  {
   "cell_type": "code",
   "execution_count": 74,
   "metadata": {},
   "outputs": [
    {
     "ename": "TypeError",
     "evalue": "__init__() missing 3 required positional arguments: 'name', 'age', and 'addr'",
     "output_type": "error",
     "traceback": [
      "\u001b[1;31m---------------------------------------------------------------------------\u001b[0m",
      "\u001b[1;31mTypeError\u001b[0m                                 Traceback (most recent call last)",
      "\u001b[1;32m<ipython-input-74-3404342cedec>\u001b[0m in \u001b[0;36m<module>\u001b[1;34m\u001b[0m\n\u001b[1;32m----> 1\u001b[1;33m \u001b[0mseo\u001b[0m\u001b[1;33m=\u001b[0m\u001b[0mparson\u001b[0m\u001b[1;33m(\u001b[0m\u001b[1;33m)\u001b[0m\u001b[1;33m\u001b[0m\u001b[1;33m\u001b[0m\u001b[0m\n\u001b[0m",
      "\u001b[1;31mTypeError\u001b[0m: __init__() missing 3 required positional arguments: 'name', 'age', and 'addr'"
     ]
    }
   ],
   "source": [
    "seo=parson()"
   ]
  },
  {
   "cell_type": "code",
   "execution_count": 76,
   "metadata": {},
   "outputs": [],
   "source": [
    "class parson():\n",
    "    \n",
    "    def __init__(self, *args):  # 위치 인수\n",
    "        self.hello='안녕하세요.'\n",
    "        self.name=args[0]\n",
    "        self.age=args[1]\n",
    "        self.address=args[2]\n",
    "        \n",
    "    def prntest(self):\n",
    "        print('{0} 저는 {1}입니다.'.format(self.hello,self.name))"
   ]
  },
  {
   "cell_type": "code",
   "execution_count": 79,
   "metadata": {},
   "outputs": [],
   "source": [
    "seo=parson(*['서정동', 48, '서울 노원구 공릉동'])\n",
    "kim=parson('김윤조', 38, '서울 동대문 신설동')"
   ]
  },
  {
   "cell_type": "code",
   "execution_count": 80,
   "metadata": {},
   "outputs": [
    {
     "data": {
      "text/plain": [
       "'서정동'"
      ]
     },
     "execution_count": 80,
     "metadata": {},
     "output_type": "execute_result"
    }
   ],
   "source": [
    "seo.name"
   ]
  },
  {
   "cell_type": "code",
   "execution_count": 83,
   "metadata": {},
   "outputs": [],
   "source": [
    "class parson():\n",
    "    \n",
    "    def __init__(self, **kwargs):  # 키워드 인수\n",
    "        self.hello='안녕하세요.'\n",
    "        self.name=kwargs['name']\n",
    "        self.age=kwargs['age']\n",
    "        self.address=kwargs['addr']\n",
    "        \n",
    "    def prntest(self):\n",
    "        print('{0} 저는 {1}입니다.'.format(self.hello,self.name))"
   ]
  },
  {
   "cell_type": "code",
   "execution_count": 84,
   "metadata": {},
   "outputs": [],
   "source": [
    "seo=parson(name='서정동', addr='서울 공릉동', age=49)\n",
    "kim=parson(**{'name':'김윤조', 'age':49, 'addr':'서울시 동대문구'})"
   ]
  },
  {
   "cell_type": "code",
   "execution_count": 86,
   "metadata": {},
   "outputs": [
    {
     "data": {
      "text/plain": [
       "'서울 공릉동'"
      ]
     },
     "execution_count": 86,
     "metadata": {},
     "output_type": "execute_result"
    }
   ],
   "source": [
    "seo.address"
   ]
  },
  {
   "cell_type": "code",
   "execution_count": 87,
   "metadata": {},
   "outputs": [
    {
     "data": {
      "text/plain": [
       "'서울시 동대문구'"
      ]
     },
     "execution_count": 87,
     "metadata": {},
     "output_type": "execute_result"
    }
   ],
   "source": [
    "kim.address"
   ]
  },
  {
   "cell_type": "code",
   "execution_count": 88,
   "metadata": {},
   "outputs": [
    {
     "ename": "AttributeError",
     "evalue": "'parson' object has no attribute 'addr'",
     "output_type": "error",
     "traceback": [
      "\u001b[1;31m---------------------------------------------------------------------------\u001b[0m",
      "\u001b[1;31mAttributeError\u001b[0m                            Traceback (most recent call last)",
      "\u001b[1;32m<ipython-input-88-2cddc1c385f0>\u001b[0m in \u001b[0;36m<module>\u001b[1;34m\u001b[0m\n\u001b[1;32m----> 1\u001b[1;33m \u001b[0mseo\u001b[0m\u001b[1;33m.\u001b[0m\u001b[0maddr\u001b[0m\u001b[1;33m\u001b[0m\u001b[1;33m\u001b[0m\u001b[0m\n\u001b[0m",
      "\u001b[1;31mAttributeError\u001b[0m: 'parson' object has no attribute 'addr'"
     ]
    }
   ],
   "source": [
    "seo.addr"
   ]
  },
  {
   "cell_type": "code",
   "execution_count": 107,
   "metadata": {},
   "outputs": [],
   "source": [
    "class parson():\n",
    "    \n",
    "    def __init__(self, name, age, addr, pay):\n",
    "        self.hello='안녕하세요.'\n",
    "        self.name=name\n",
    "        self.age=age\n",
    "        self.address=addr\n",
    "        self.__pay=pay\n",
    "        \n",
    "    def pay(self, pay_u):\n",
    "        self.__pay -= pay_u\n",
    "        print(self.__pay)\n",
    "    "
   ]
  },
  {
   "cell_type": "code",
   "execution_count": 108,
   "metadata": {},
   "outputs": [],
   "source": [
    "kim=parson('김윤조', 38, '서울 동대문 신설동', 1000000)"
   ]
  },
  {
   "cell_type": "code",
   "execution_count": 111,
   "metadata": {},
   "outputs": [
    {
     "ename": "AttributeError",
     "evalue": "'parson' object has no attribute '__tel'",
     "output_type": "error",
     "traceback": [
      "\u001b[1;31m---------------------------------------------------------------------------\u001b[0m",
      "\u001b[1;31mAttributeError\u001b[0m                            Traceback (most recent call last)",
      "\u001b[1;32m<ipython-input-111-621d4971a35a>\u001b[0m in \u001b[0;36m<module>\u001b[1;34m\u001b[0m\n\u001b[0;32m      1\u001b[0m \u001b[0mkim\u001b[0m\u001b[1;33m.\u001b[0m\u001b[0maddress\u001b[0m\u001b[1;33m\u001b[0m\u001b[1;33m\u001b[0m\u001b[0m\n\u001b[1;32m----> 2\u001b[1;33m \u001b[0mkim\u001b[0m\u001b[1;33m.\u001b[0m\u001b[0m__tel\u001b[0m\u001b[1;33m\u001b[0m\u001b[1;33m\u001b[0m\u001b[0m\n\u001b[0m",
      "\u001b[1;31mAttributeError\u001b[0m: 'parson' object has no attribute '__tel'"
     ]
    }
   ],
   "source": [
    "kim.address\n",
    "kim.__tel"
   ]
  },
  {
   "cell_type": "code",
   "execution_count": 110,
   "metadata": {},
   "outputs": [
    {
     "name": "stdout",
     "output_type": "stream",
     "text": [
      "600000\n"
     ]
    }
   ],
   "source": [
    "kim.pay(400000)"
   ]
  },
  {
   "cell_type": "markdown",
   "metadata": {},
   "source": [
    "### 클래스 상속"
   ]
  },
  {
   "cell_type": "code",
   "execution_count": null,
   "metadata": {},
   "outputs": [],
   "source": [
    "class 기반클래스이름:\n",
    "    코드\n",
    " \n",
    "class 파생클래스이름(기반클래스이름):\n",
    "    코드"
   ]
  },
  {
   "cell_type": "code",
   "execution_count": 116,
   "metadata": {},
   "outputs": [],
   "source": [
    "class parsou():\n",
    "    def prntest(self):\n",
    "        print('Python 3.0')\n",
    "        \n",
    "class subclass(parsou):\n",
    "    def study(self):\n",
    "        print('열심히 공부해요~')\n",
    "        \n",
    "class subclass_sub(subclass):\n",
    "    def prn(self):\n",
    "        print('공부는 힘들어 ㅠ.ㅠ')"
   ]
  },
  {
   "cell_type": "code",
   "execution_count": 113,
   "metadata": {},
   "outputs": [],
   "source": [
    "jame=subclass()"
   ]
  },
  {
   "cell_type": "code",
   "execution_count": 114,
   "metadata": {},
   "outputs": [
    {
     "name": "stdout",
     "output_type": "stream",
     "text": [
      "열심히 공부해요~\n"
     ]
    }
   ],
   "source": [
    "jame.study()"
   ]
  },
  {
   "cell_type": "code",
   "execution_count": 115,
   "metadata": {},
   "outputs": [
    {
     "name": "stdout",
     "output_type": "stream",
     "text": [
      "Python 3.0\n"
     ]
    }
   ],
   "source": [
    "jame.prntest()"
   ]
  },
  {
   "cell_type": "code",
   "execution_count": 117,
   "metadata": {},
   "outputs": [],
   "source": [
    "jame_sub=subclass_sub()"
   ]
  },
  {
   "cell_type": "code",
   "execution_count": 118,
   "metadata": {},
   "outputs": [
    {
     "name": "stdout",
     "output_type": "stream",
     "text": [
      "Python 3.0\n",
      "열심히 공부해요~\n",
      "공부는 힘들어 ㅠ.ㅠ\n"
     ]
    }
   ],
   "source": [
    "jame_sub.prntest()\n",
    "jame_sub.study()\n",
    "jame_sub.prn()"
   ]
  },
  {
   "cell_type": "code",
   "execution_count": null,
   "metadata": {},
   "outputs": [],
   "source": []
  },
  {
   "cell_type": "code",
   "execution_count": null,
   "metadata": {},
   "outputs": [],
   "source": []
  },
  {
   "cell_type": "code",
   "execution_count": null,
   "metadata": {},
   "outputs": [],
   "source": []
  },
  {
   "cell_type": "code",
   "execution_count": null,
   "metadata": {},
   "outputs": [],
   "source": []
  },
  {
   "cell_type": "code",
   "execution_count": null,
   "metadata": {},
   "outputs": [],
   "source": []
  }
 ],
 "metadata": {
  "kernelspec": {
   "display_name": "Python 3",
   "language": "python",
   "name": "python3"
  },
  "language_info": {
   "codemirror_mode": {
    "name": "ipython",
    "version": 3
   },
   "file_extension": ".py",
   "mimetype": "text/x-python",
   "name": "python",
   "nbconvert_exporter": "python",
   "pygments_lexer": "ipython3",
   "version": "3.8.5"
  }
 },
 "nbformat": 4,
 "nbformat_minor": 4
}
