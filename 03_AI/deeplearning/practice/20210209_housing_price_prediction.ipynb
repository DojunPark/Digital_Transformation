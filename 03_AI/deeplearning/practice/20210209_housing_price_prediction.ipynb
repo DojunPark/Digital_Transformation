{
 "cells": [
  {
   "cell_type": "code",
   "execution_count": 1,
   "metadata": {},
   "outputs": [
    {
     "data": {
      "text/plain": [
       "'c:\\\\edu\\\\03_AI\\\\deeplearning\\\\practice'"
      ]
     },
     "execution_count": 1,
     "metadata": {},
     "output_type": "execute_result"
    }
   ],
   "source": [
    "pwd"
   ]
  },
  {
   "cell_type": "code",
   "execution_count": 5,
   "metadata": {},
   "outputs": [
    {
     "name": "stdout",
     "output_type": "stream",
     "text": [
      " C 드라이브의 볼륨: Windows-SSD\n",
      " 볼륨 일련 번호: 5CAF-2C76\n",
      "\n",
      " c:\\edu\\03_AI\\deeplearning 디렉터리\n",
      "\n",
      "2021-02-09  오후 03:32    <DIR>          .\n",
      "2021-02-09  오후 03:32    <DIR>          ..\n",
      "2021-02-09  오전 10:27    <DIR>          .idea\n",
      "2021-02-09  오후 03:32    <DIR>          .ipynb_checkpoints\n",
      "2021-02-09  오전 10:27    <DIR>          colab\n",
      "2021-02-09  오전 10:27    <DIR>          dataset\n",
      "2021-02-09  오후 03:31    <DIR>          deeplearning_class\n",
      "2021-02-09  오후 03:33    <DIR>          practice\n",
      "2021-02-09  오후 03:31    <DIR>          run_project\n",
      "               0개 파일                   0 바이트\n",
      "               9개 디렉터리  368,095,535,104 바이트 남음\n"
     ]
    }
   ],
   "source": [
    "ls .."
   ]
  },
  {
   "cell_type": "markdown",
   "metadata": {},
   "source": [
    "# 데이터 불러오기"
   ]
  },
  {
   "cell_type": "code",
   "execution_count": 10,
   "metadata": {},
   "outputs": [],
   "source": [
    "import pandas as pd\n",
    "\n",
    "df = pd.read_csv('../dataset/housing.csv', delim_whitespace=True, header=None)"
   ]
  },
  {
   "cell_type": "code",
   "execution_count": 12,
   "metadata": {},
   "outputs": [
    {
     "data": {
      "text/html": [
       "<div>\n",
       "<style scoped>\n",
       "    .dataframe tbody tr th:only-of-type {\n",
       "        vertical-align: middle;\n",
       "    }\n",
       "\n",
       "    .dataframe tbody tr th {\n",
       "        vertical-align: top;\n",
       "    }\n",
       "\n",
       "    .dataframe thead th {\n",
       "        text-align: right;\n",
       "    }\n",
       "</style>\n",
       "<table border=\"1\" class=\"dataframe\">\n",
       "  <thead>\n",
       "    <tr style=\"text-align: right;\">\n",
       "      <th></th>\n",
       "      <th>0</th>\n",
       "      <th>1</th>\n",
       "      <th>2</th>\n",
       "      <th>3</th>\n",
       "      <th>4</th>\n",
       "      <th>5</th>\n",
       "      <th>6</th>\n",
       "      <th>7</th>\n",
       "      <th>8</th>\n",
       "      <th>9</th>\n",
       "      <th>10</th>\n",
       "      <th>11</th>\n",
       "      <th>12</th>\n",
       "      <th>13</th>\n",
       "    </tr>\n",
       "  </thead>\n",
       "  <tbody>\n",
       "    <tr>\n",
       "      <th>0</th>\n",
       "      <td>0.00632</td>\n",
       "      <td>18.0</td>\n",
       "      <td>2.31</td>\n",
       "      <td>0</td>\n",
       "      <td>0.538</td>\n",
       "      <td>6.575</td>\n",
       "      <td>65.2</td>\n",
       "      <td>4.0900</td>\n",
       "      <td>1</td>\n",
       "      <td>296.0</td>\n",
       "      <td>15.3</td>\n",
       "      <td>396.90</td>\n",
       "      <td>4.98</td>\n",
       "      <td>24.0</td>\n",
       "    </tr>\n",
       "    <tr>\n",
       "      <th>1</th>\n",
       "      <td>0.02731</td>\n",
       "      <td>0.0</td>\n",
       "      <td>7.07</td>\n",
       "      <td>0</td>\n",
       "      <td>0.469</td>\n",
       "      <td>6.421</td>\n",
       "      <td>78.9</td>\n",
       "      <td>4.9671</td>\n",
       "      <td>2</td>\n",
       "      <td>242.0</td>\n",
       "      <td>17.8</td>\n",
       "      <td>396.90</td>\n",
       "      <td>9.14</td>\n",
       "      <td>21.6</td>\n",
       "    </tr>\n",
       "    <tr>\n",
       "      <th>2</th>\n",
       "      <td>0.02729</td>\n",
       "      <td>0.0</td>\n",
       "      <td>7.07</td>\n",
       "      <td>0</td>\n",
       "      <td>0.469</td>\n",
       "      <td>7.185</td>\n",
       "      <td>61.1</td>\n",
       "      <td>4.9671</td>\n",
       "      <td>2</td>\n",
       "      <td>242.0</td>\n",
       "      <td>17.8</td>\n",
       "      <td>392.83</td>\n",
       "      <td>4.03</td>\n",
       "      <td>34.7</td>\n",
       "    </tr>\n",
       "    <tr>\n",
       "      <th>3</th>\n",
       "      <td>0.03237</td>\n",
       "      <td>0.0</td>\n",
       "      <td>2.18</td>\n",
       "      <td>0</td>\n",
       "      <td>0.458</td>\n",
       "      <td>6.998</td>\n",
       "      <td>45.8</td>\n",
       "      <td>6.0622</td>\n",
       "      <td>3</td>\n",
       "      <td>222.0</td>\n",
       "      <td>18.7</td>\n",
       "      <td>394.63</td>\n",
       "      <td>2.94</td>\n",
       "      <td>33.4</td>\n",
       "    </tr>\n",
       "    <tr>\n",
       "      <th>4</th>\n",
       "      <td>0.06905</td>\n",
       "      <td>0.0</td>\n",
       "      <td>2.18</td>\n",
       "      <td>0</td>\n",
       "      <td>0.458</td>\n",
       "      <td>7.147</td>\n",
       "      <td>54.2</td>\n",
       "      <td>6.0622</td>\n",
       "      <td>3</td>\n",
       "      <td>222.0</td>\n",
       "      <td>18.7</td>\n",
       "      <td>396.90</td>\n",
       "      <td>5.33</td>\n",
       "      <td>36.2</td>\n",
       "    </tr>\n",
       "  </tbody>\n",
       "</table>\n",
       "</div>"
      ],
      "text/plain": [
       "        0     1     2   3      4      5     6       7   8      9     10  \\\n",
       "0  0.00632  18.0  2.31   0  0.538  6.575  65.2  4.0900   1  296.0  15.3   \n",
       "1  0.02731   0.0  7.07   0  0.469  6.421  78.9  4.9671   2  242.0  17.8   \n",
       "2  0.02729   0.0  7.07   0  0.469  7.185  61.1  4.9671   2  242.0  17.8   \n",
       "3  0.03237   0.0  2.18   0  0.458  6.998  45.8  6.0622   3  222.0  18.7   \n",
       "4  0.06905   0.0  2.18   0  0.458  7.147  54.2  6.0622   3  222.0  18.7   \n",
       "\n",
       "       11    12    13  \n",
       "0  396.90  4.98  24.0  \n",
       "1  396.90  9.14  21.6  \n",
       "2  392.83  4.03  34.7  \n",
       "3  394.63  2.94  33.4  \n",
       "4  396.90  5.33  36.2  "
      ]
     },
     "execution_count": 12,
     "metadata": {},
     "output_type": "execute_result"
    }
   ],
   "source": [
    "df.head()"
   ]
  },
  {
   "cell_type": "code",
   "execution_count": 13,
   "metadata": {},
   "outputs": [
    {
     "name": "stdout",
     "output_type": "stream",
     "text": [
      "<class 'pandas.core.frame.DataFrame'>\n",
      "RangeIndex: 506 entries, 0 to 505\n",
      "Data columns (total 14 columns):\n",
      " #   Column  Non-Null Count  Dtype  \n",
      "---  ------  --------------  -----  \n",
      " 0   0       506 non-null    float64\n",
      " 1   1       506 non-null    float64\n",
      " 2   2       506 non-null    float64\n",
      " 3   3       506 non-null    int64  \n",
      " 4   4       506 non-null    float64\n",
      " 5   5       506 non-null    float64\n",
      " 6   6       506 non-null    float64\n",
      " 7   7       506 non-null    float64\n",
      " 8   8       506 non-null    int64  \n",
      " 9   9       506 non-null    float64\n",
      " 10  10      506 non-null    float64\n",
      " 11  11      506 non-null    float64\n",
      " 12  12      506 non-null    float64\n",
      " 13  13      506 non-null    float64\n",
      "dtypes: float64(12), int64(2)\n",
      "memory usage: 55.5 KB\n"
     ]
    }
   ],
   "source": [
    "df.info()"
   ]
  },
  {
   "cell_type": "markdown",
   "metadata": {},
   "source": [
    "# 기본 설정"
   ]
  },
  {
   "cell_type": "code",
   "execution_count": 16,
   "metadata": {},
   "outputs": [],
   "source": [
    "from tensorflow.keras.models import Sequential\n",
    "from tensorflow.keras.layers import Dense\n",
    "from sklearn.model_selection import train_test_split\n",
    "import numpy as np\n",
    "import pandas as pd\n",
    "import tensorflow as tf\n",
    "\n",
    "# seed값 설정\n",
    "seed = 0\n",
    "np.random.seed(seed)\n",
    "tf.random.set_seed(seed)"
   ]
  },
  {
   "cell_type": "markdown",
   "metadata": {},
   "source": [
    "# 표준화"
   ]
  },
  {
   "cell_type": "code",
   "execution_count": 219,
   "metadata": {},
   "outputs": [],
   "source": [
    "from sklearn.preprocessing import StandardScaler\n",
    "\n",
    "dataset = df.values\n",
    "\n",
    "scaler = StandardScaler()\n",
    "scaler.fit(dataset)\n",
    "scaled1 = scaler.transform(dataset)"
   ]
  },
  {
   "cell_type": "markdown",
   "metadata": {},
   "source": [
    "# 정규화"
   ]
  },
  {
   "cell_type": "code",
   "execution_count": 218,
   "metadata": {},
   "outputs": [],
   "source": [
    "from sklearn.preprocessing import MinMaxScaler\n",
    "\n",
    "dataset = df.values\n",
    "\n",
    "scaler = MinMaxScaler()\n",
    "scaler.fit(dataset)\n",
    "scaled2 = scaler.transform(dataset)"
   ]
  },
  {
   "cell_type": "code",
   "execution_count": null,
   "metadata": {},
   "outputs": [],
   "source": []
  },
  {
   "cell_type": "markdown",
   "metadata": {},
   "source": [
    "# 데이터 분할"
   ]
  },
  {
   "cell_type": "code",
   "execution_count": 252,
   "metadata": {},
   "outputs": [],
   "source": [
    "# 원본 데이터\n",
    "dataset = df.values\n",
    "X = dataset[:, :-1]\n",
    "Y = dataset[:, -1]"
   ]
  },
  {
   "cell_type": "markdown",
   "metadata": {},
   "source": [
    "# 표준화 데이터"
   ]
  },
  {
   "cell_type": "code",
   "execution_count": 234,
   "metadata": {},
   "outputs": [],
   "source": [
    "X = scaled1[:, :-1]\n",
    "Y = scaled1[:, -1]"
   ]
  },
  {
   "cell_type": "markdown",
   "metadata": {},
   "source": [
    "# 정규화 데이터"
   ]
  },
  {
   "cell_type": "code",
   "execution_count": 240,
   "metadata": {},
   "outputs": [],
   "source": [
    "X = scaled2[:, :-1]\n",
    "Y = scaled2[:, -1]"
   ]
  },
  {
   "cell_type": "markdown",
   "metadata": {},
   "source": [
    "# 데이터 확인"
   ]
  },
  {
   "cell_type": "code",
   "execution_count": 253,
   "metadata": {},
   "outputs": [
    {
     "name": "stdout",
     "output_type": "stream",
     "text": [
      "(506, 14)\n",
      "(506, 13)\n",
      "(506,)\n"
     ]
    }
   ],
   "source": [
    "print(dataset.shape)\n",
    "print(X.shape)\n",
    "print(Y.shape)"
   ]
  },
  {
   "cell_type": "code",
   "execution_count": 254,
   "metadata": {},
   "outputs": [],
   "source": [
    "X_train, X_test, Y_train, Y_test = train_test_split(X, Y, test_size = 0.3, random_state=seed)"
   ]
  },
  {
   "cell_type": "code",
   "execution_count": 255,
   "metadata": {},
   "outputs": [
    {
     "name": "stdout",
     "output_type": "stream",
     "text": [
      "354\n",
      "152\n",
      "354\n",
      "152\n",
      "0.6996047430830039\n"
     ]
    }
   ],
   "source": [
    "print(len(X_train))\n",
    "print(len(X_test))\n",
    "print(len(Y_train))\n",
    "print(len(Y_test))\n",
    "print(len(X_train)/(len(X_train)+len(X_test)))  # 비율"
   ]
  },
  {
   "cell_type": "markdown",
   "metadata": {},
   "source": [
    "# early stopping"
   ]
  },
  {
   "cell_type": "code",
   "execution_count": 212,
   "metadata": {},
   "outputs": [],
   "source": [
    "from tensorflow.keras.callbacks import EarlyStopping\n",
    "\n",
    "early_stopping_call_back = EarlyStopping(monitor='val_loss', patience=5)"
   ]
  },
  {
   "cell_type": "markdown",
   "metadata": {},
   "source": [
    "# 모델링"
   ]
  },
  {
   "cell_type": "code",
   "execution_count": 256,
   "metadata": {},
   "outputs": [],
   "source": [
    "model = Sequential()\n",
    "model.add(Dense(30, input_dim = 13, activation = 'relu'))\n",
    "model.add(Dense(6, activation = 'relu'))\n",
    "model.add(Dense(1))\n",
    "model.compile(loss = 'mean_squared_error', optimizer = 'adam', metrics=['acc']) "
   ]
  },
  {
   "cell_type": "code",
   "execution_count": 238,
   "metadata": {},
   "outputs": [],
   "source": [
    "model1 = Sequential()\n",
    "model1.add(Dense(30, input_dim = 13, activation = 'relu'))\n",
    "model1.add(Dense(6, activation = 'relu'))\n",
    "model1.add(Dense(1))\n",
    "model1.compile(loss = 'mean_squared_error', optimizer = 'adam', metrics=['acc']) "
   ]
  },
  {
   "cell_type": "code",
   "execution_count": 244,
   "metadata": {},
   "outputs": [],
   "source": [
    "model2 = Sequential()\n",
    "model2.add(Dense(30, input_dim = 13, activation = 'relu'))\n",
    "model2.add(Dense(6, activation = 'relu'))\n",
    "model2.add(Dense(1))\n",
    "model2.compile(loss = 'mean_squared_error', optimizer = 'adam', metrics=['acc']) "
   ]
  },
  {
   "cell_type": "markdown",
   "metadata": {},
   "source": [
    "# 모델 학습"
   ]
  },
  {
   "cell_type": "code",
   "execution_count": 257,
   "metadata": {
    "scrolled": true
   },
   "outputs": [
    {
     "name": "stdout",
     "output_type": "stream",
     "text": [
      "Epoch 1/100\n",
      "29/29 [==============================] - 1s 5ms/step - loss: 3831.2063 - acc: 0.0000e+00 - val_loss: 233.1760 - val_acc: 0.0000e+00\n",
      "Epoch 2/100\n",
      "29/29 [==============================] - 0s 2ms/step - loss: 229.1543 - acc: 0.0000e+00 - val_loss: 110.8401 - val_acc: 0.0000e+00\n",
      "Epoch 3/100\n",
      "29/29 [==============================] - 0s 2ms/step - loss: 96.1813 - acc: 0.0000e+00 - val_loss: 79.9852 - val_acc: 0.0000e+00\n",
      "Epoch 4/100\n",
      "29/29 [==============================] - 0s 2ms/step - loss: 68.9549 - acc: 0.0000e+00 - val_loss: 73.7165 - val_acc: 0.0000e+00\n",
      "Epoch 5/100\n",
      "29/29 [==============================] - 0s 2ms/step - loss: 61.0265 - acc: 0.0000e+00 - val_loss: 68.9566 - val_acc: 0.0000e+00\n",
      "Epoch 6/100\n",
      "29/29 [==============================] - 0s 2ms/step - loss: 61.8508 - acc: 0.0000e+00 - val_loss: 66.5032 - val_acc: 0.0000e+00\n",
      "Epoch 7/100\n",
      "29/29 [==============================] - 0s 2ms/step - loss: 51.6615 - acc: 0.0000e+00 - val_loss: 68.3906 - val_acc: 0.0000e+00\n",
      "Epoch 8/100\n",
      "29/29 [==============================] - 0s 2ms/step - loss: 70.1510 - acc: 0.0000e+00 - val_loss: 61.6102 - val_acc: 0.0000e+00\n",
      "Epoch 9/100\n",
      "29/29 [==============================] - 0s 2ms/step - loss: 68.5079 - acc: 0.0000e+00 - val_loss: 60.0636 - val_acc: 0.0000e+00\n",
      "Epoch 10/100\n",
      "29/29 [==============================] - 0s 2ms/step - loss: 42.3341 - acc: 0.0000e+00 - val_loss: 62.0386 - val_acc: 0.0000e+00\n",
      "Epoch 11/100\n",
      "29/29 [==============================] - 0s 2ms/step - loss: 61.4969 - acc: 0.0000e+00 - val_loss: 56.3061 - val_acc: 0.0000e+00\n",
      "Epoch 12/100\n",
      "29/29 [==============================] - 0s 2ms/step - loss: 57.4098 - acc: 0.0000e+00 - val_loss: 56.3530 - val_acc: 0.0000e+00\n",
      "Epoch 13/100\n",
      "29/29 [==============================] - 0s 2ms/step - loss: 52.8517 - acc: 0.0000e+00 - val_loss: 55.7213 - val_acc: 0.0000e+00\n",
      "Epoch 14/100\n",
      "29/29 [==============================] - 0s 2ms/step - loss: 45.6444 - acc: 0.0000e+00 - val_loss: 52.9742 - val_acc: 0.0000e+00\n",
      "Epoch 15/100\n",
      "29/29 [==============================] - 0s 2ms/step - loss: 48.2228 - acc: 0.0000e+00 - val_loss: 53.4688 - val_acc: 0.0000e+00\n",
      "Epoch 16/100\n",
      "29/29 [==============================] - 0s 2ms/step - loss: 66.4927 - acc: 0.0000e+00 - val_loss: 54.1538 - val_acc: 0.0000e+00\n",
      "Epoch 17/100\n",
      "29/29 [==============================] - 0s 2ms/step - loss: 54.1853 - acc: 0.0000e+00 - val_loss: 50.0970 - val_acc: 0.0000e+00\n",
      "Epoch 18/100\n",
      "29/29 [==============================] - 0s 2ms/step - loss: 44.2272 - acc: 0.0000e+00 - val_loss: 52.2351 - val_acc: 0.0000e+00\n",
      "Epoch 19/100\n",
      "29/29 [==============================] - 0s 2ms/step - loss: 52.7156 - acc: 0.0000e+00 - val_loss: 48.7710 - val_acc: 0.0000e+00\n",
      "Epoch 20/100\n",
      "29/29 [==============================] - 0s 2ms/step - loss: 55.1743 - acc: 0.0000e+00 - val_loss: 50.4739 - val_acc: 0.0000e+00\n",
      "Epoch 21/100\n",
      "29/29 [==============================] - 0s 2ms/step - loss: 47.3374 - acc: 0.0000e+00 - val_loss: 49.6894 - val_acc: 0.0000e+00\n",
      "Epoch 22/100\n",
      "29/29 [==============================] - 0s 2ms/step - loss: 50.5372 - acc: 0.0000e+00 - val_loss: 49.1978 - val_acc: 0.0000e+00\n",
      "Epoch 23/100\n",
      "29/29 [==============================] - 0s 2ms/step - loss: 43.6104 - acc: 0.0000e+00 - val_loss: 48.6791 - val_acc: 0.0000e+00\n",
      "Epoch 24/100\n",
      "29/29 [==============================] - 0s 2ms/step - loss: 42.6268 - acc: 0.0000e+00 - val_loss: 48.0851 - val_acc: 0.0000e+00\n",
      "Epoch 25/100\n",
      "29/29 [==============================] - 0s 2ms/step - loss: 51.5082 - acc: 0.0000e+00 - val_loss: 49.1850 - val_acc: 0.0000e+00\n",
      "Epoch 26/100\n",
      "29/29 [==============================] - 0s 2ms/step - loss: 41.4446 - acc: 0.0000e+00 - val_loss: 46.0905 - val_acc: 0.0000e+00\n",
      "Epoch 27/100\n",
      "29/29 [==============================] - 0s 2ms/step - loss: 41.8145 - acc: 0.0000e+00 - val_loss: 47.6939 - val_acc: 0.0000e+00\n",
      "Epoch 28/100\n",
      "29/29 [==============================] - 0s 2ms/step - loss: 33.8397 - acc: 0.0000e+00 - val_loss: 49.7765 - val_acc: 0.0000e+00\n",
      "Epoch 29/100\n",
      "29/29 [==============================] - 0s 2ms/step - loss: 38.0688 - acc: 0.0000e+00 - val_loss: 46.4854 - val_acc: 0.0000e+00\n",
      "Epoch 30/100\n",
      "29/29 [==============================] - 0s 2ms/step - loss: 37.9063 - acc: 0.0000e+00 - val_loss: 45.3807 - val_acc: 0.0000e+00\n",
      "Epoch 31/100\n",
      "29/29 [==============================] - 0s 2ms/step - loss: 49.0162 - acc: 0.0000e+00 - val_loss: 45.4733 - val_acc: 0.0000e+00\n",
      "Epoch 32/100\n",
      "29/29 [==============================] - 0s 2ms/step - loss: 38.0897 - acc: 0.0000e+00 - val_loss: 45.6704 - val_acc: 0.0000e+00\n",
      "Epoch 33/100\n",
      "29/29 [==============================] - 0s 2ms/step - loss: 38.4677 - acc: 0.0000e+00 - val_loss: 46.8019 - val_acc: 0.0000e+00\n",
      "Epoch 34/100\n",
      "29/29 [==============================] - 0s 2ms/step - loss: 40.8983 - acc: 0.0000e+00 - val_loss: 44.6850 - val_acc: 0.0000e+00\n",
      "Epoch 35/100\n",
      "29/29 [==============================] - 0s 2ms/step - loss: 40.1164 - acc: 0.0000e+00 - val_loss: 44.5025 - val_acc: 0.0000e+00\n",
      "Epoch 36/100\n",
      "29/29 [==============================] - 0s 2ms/step - loss: 49.1234 - acc: 0.0000e+00 - val_loss: 44.2115 - val_acc: 0.0000e+00\n",
      "Epoch 37/100\n",
      "29/29 [==============================] - 0s 2ms/step - loss: 39.7102 - acc: 0.0000e+00 - val_loss: 45.0632 - val_acc: 0.0000e+00\n",
      "Epoch 38/100\n",
      "29/29 [==============================] - 0s 2ms/step - loss: 39.3516 - acc: 0.0000e+00 - val_loss: 41.6219 - val_acc: 0.0000e+00\n",
      "Epoch 39/100\n",
      "29/29 [==============================] - 0s 2ms/step - loss: 36.3421 - acc: 0.0000e+00 - val_loss: 47.2254 - val_acc: 0.0000e+00\n",
      "Epoch 40/100\n",
      "29/29 [==============================] - 0s 2ms/step - loss: 36.5642 - acc: 0.0000e+00 - val_loss: 43.5412 - val_acc: 0.0000e+00\n",
      "Epoch 41/100\n",
      "29/29 [==============================] - 0s 2ms/step - loss: 48.2345 - acc: 0.0000e+00 - val_loss: 45.0516 - val_acc: 0.0000e+00\n",
      "Epoch 42/100\n",
      "29/29 [==============================] - 0s 2ms/step - loss: 33.4007 - acc: 0.0000e+00 - val_loss: 42.6615 - val_acc: 0.0000e+00\n",
      "Epoch 43/100\n",
      "29/29 [==============================] - 0s 2ms/step - loss: 36.3699 - acc: 0.0000e+00 - val_loss: 46.4740 - val_acc: 0.0000e+00\n",
      "Epoch 44/100\n",
      "29/29 [==============================] - 0s 2ms/step - loss: 43.4403 - acc: 0.0000e+00 - val_loss: 42.8268 - val_acc: 0.0000e+00\n",
      "Epoch 45/100\n",
      "29/29 [==============================] - 0s 2ms/step - loss: 32.8141 - acc: 0.0000e+00 - val_loss: 41.2224 - val_acc: 0.0000e+00\n",
      "Epoch 46/100\n",
      "29/29 [==============================] - 0s 2ms/step - loss: 39.7177 - acc: 0.0000e+00 - val_loss: 47.5697 - val_acc: 0.0000e+00\n",
      "Epoch 47/100\n",
      "29/29 [==============================] - 0s 2ms/step - loss: 35.8725 - acc: 0.0000e+00 - val_loss: 51.6524 - val_acc: 0.0000e+00\n",
      "Epoch 48/100\n",
      "29/29 [==============================] - 0s 2ms/step - loss: 33.8773 - acc: 0.0000e+00 - val_loss: 42.2628 - val_acc: 0.0000e+00\n",
      "Epoch 49/100\n",
      "29/29 [==============================] - 0s 2ms/step - loss: 35.6502 - acc: 0.0000e+00 - val_loss: 44.8348 - val_acc: 0.0000e+00\n",
      "Epoch 50/100\n",
      "29/29 [==============================] - 0s 2ms/step - loss: 31.8515 - acc: 0.0000e+00 - val_loss: 45.1253 - val_acc: 0.0000e+00\n",
      "Epoch 51/100\n",
      "29/29 [==============================] - 0s 2ms/step - loss: 29.1138 - acc: 0.0000e+00 - val_loss: 42.0464 - val_acc: 0.0000e+00\n",
      "Epoch 52/100\n",
      "29/29 [==============================] - 0s 2ms/step - loss: 35.8247 - acc: 0.0000e+00 - val_loss: 40.8333 - val_acc: 0.0000e+00\n",
      "Epoch 53/100\n",
      "29/29 [==============================] - 0s 2ms/step - loss: 31.2191 - acc: 0.0000e+00 - val_loss: 41.8191 - val_acc: 0.0000e+00\n",
      "Epoch 54/100\n",
      "29/29 [==============================] - 0s 2ms/step - loss: 34.0546 - acc: 0.0000e+00 - val_loss: 43.5311 - val_acc: 0.0000e+00\n",
      "Epoch 55/100\n",
      "29/29 [==============================] - 0s 2ms/step - loss: 27.5776 - acc: 0.0000e+00 - val_loss: 39.8105 - val_acc: 0.0000e+00\n",
      "Epoch 56/100\n",
      "29/29 [==============================] - 0s 2ms/step - loss: 33.9863 - acc: 0.0000e+00 - val_loss: 37.9684 - val_acc: 0.0000e+00\n",
      "Epoch 57/100\n",
      "29/29 [==============================] - 0s 2ms/step - loss: 34.4394 - acc: 0.0000e+00 - val_loss: 39.5506 - val_acc: 0.0000e+00\n",
      "Epoch 58/100\n",
      "29/29 [==============================] - 0s 2ms/step - loss: 32.7602 - acc: 0.0000e+00 - val_loss: 39.6441 - val_acc: 0.0000e+00\n"
     ]
    },
    {
     "name": "stdout",
     "output_type": "stream",
     "text": [
      "Epoch 59/100\n",
      "29/29 [==============================] - 0s 2ms/step - loss: 37.1833 - acc: 0.0000e+00 - val_loss: 41.1583 - val_acc: 0.0000e+00\n",
      "Epoch 60/100\n",
      "29/29 [==============================] - 0s 2ms/step - loss: 43.7017 - acc: 0.0000e+00 - val_loss: 40.6997 - val_acc: 0.0000e+00\n",
      "Epoch 61/100\n",
      "29/29 [==============================] - 0s 2ms/step - loss: 39.1736 - acc: 0.0000e+00 - val_loss: 38.9570 - val_acc: 0.0000e+00\n",
      "Epoch 62/100\n",
      "29/29 [==============================] - 0s 2ms/step - loss: 35.5015 - acc: 0.0000e+00 - val_loss: 40.2293 - val_acc: 0.0000e+00\n",
      "Epoch 63/100\n",
      "29/29 [==============================] - 0s 2ms/step - loss: 31.9091 - acc: 0.0000e+00 - val_loss: 39.3823 - val_acc: 0.0000e+00\n",
      "Epoch 64/100\n",
      "29/29 [==============================] - 0s 2ms/step - loss: 34.9185 - acc: 0.0000e+00 - val_loss: 44.2427 - val_acc: 0.0000e+00\n",
      "Epoch 65/100\n",
      "29/29 [==============================] - 0s 2ms/step - loss: 32.3301 - acc: 0.0000e+00 - val_loss: 37.2796 - val_acc: 0.0000e+00\n",
      "Epoch 66/100\n",
      "29/29 [==============================] - 0s 2ms/step - loss: 25.2737 - acc: 0.0000e+00 - val_loss: 37.5969 - val_acc: 0.0000e+00\n",
      "Epoch 67/100\n",
      "29/29 [==============================] - 0s 2ms/step - loss: 34.3563 - acc: 0.0000e+00 - val_loss: 38.6943 - val_acc: 0.0000e+00\n",
      "Epoch 68/100\n",
      "29/29 [==============================] - 0s 2ms/step - loss: 30.1042 - acc: 0.0000e+00 - val_loss: 36.7825 - val_acc: 0.0000e+00\n",
      "Epoch 69/100\n",
      "29/29 [==============================] - 0s 2ms/step - loss: 26.7739 - acc: 0.0000e+00 - val_loss: 47.2567 - val_acc: 0.0000e+00\n",
      "Epoch 70/100\n",
      "29/29 [==============================] - 0s 2ms/step - loss: 40.5752 - acc: 0.0000e+00 - val_loss: 41.2614 - val_acc: 0.0000e+00\n",
      "Epoch 71/100\n",
      "29/29 [==============================] - 0s 2ms/step - loss: 31.4720 - acc: 0.0000e+00 - val_loss: 37.7610 - val_acc: 0.0000e+00\n",
      "Epoch 72/100\n",
      "29/29 [==============================] - 0s 2ms/step - loss: 33.9076 - acc: 0.0000e+00 - val_loss: 37.6417 - val_acc: 0.0000e+00\n",
      "Epoch 73/100\n",
      "29/29 [==============================] - 0s 2ms/step - loss: 26.9910 - acc: 0.0000e+00 - val_loss: 40.2564 - val_acc: 0.0000e+00\n",
      "Epoch 74/100\n",
      "29/29 [==============================] - 0s 2ms/step - loss: 39.4339 - acc: 0.0000e+00 - val_loss: 39.5945 - val_acc: 0.0000e+00\n",
      "Epoch 75/100\n",
      "29/29 [==============================] - 0s 2ms/step - loss: 30.9940 - acc: 0.0000e+00 - val_loss: 37.4637 - val_acc: 0.0000e+00\n",
      "Epoch 76/100\n",
      "29/29 [==============================] - 0s 2ms/step - loss: 23.5442 - acc: 0.0000e+00 - val_loss: 43.0970 - val_acc: 0.0000e+00\n",
      "Epoch 77/100\n",
      "29/29 [==============================] - 0s 2ms/step - loss: 29.9028 - acc: 0.0000e+00 - val_loss: 37.2670 - val_acc: 0.0000e+00\n",
      "Epoch 78/100\n",
      "29/29 [==============================] - 0s 2ms/step - loss: 29.2730 - acc: 0.0000e+00 - val_loss: 35.7051 - val_acc: 0.0000e+00\n",
      "Epoch 79/100\n",
      "29/29 [==============================] - 0s 2ms/step - loss: 39.7764 - acc: 0.0000e+00 - val_loss: 39.5643 - val_acc: 0.0000e+00\n",
      "Epoch 80/100\n",
      "29/29 [==============================] - 0s 2ms/step - loss: 28.2105 - acc: 0.0000e+00 - val_loss: 37.3515 - val_acc: 0.0000e+00\n",
      "Epoch 81/100\n",
      "29/29 [==============================] - 0s 2ms/step - loss: 32.9113 - acc: 0.0000e+00 - val_loss: 36.8794 - val_acc: 0.0000e+00\n",
      "Epoch 82/100\n",
      "29/29 [==============================] - 0s 2ms/step - loss: 28.8735 - acc: 0.0000e+00 - val_loss: 35.9157 - val_acc: 0.0000e+00\n",
      "Epoch 83/100\n",
      "29/29 [==============================] - 0s 2ms/step - loss: 30.5081 - acc: 0.0000e+00 - val_loss: 36.6983 - val_acc: 0.0000e+00\n",
      "Epoch 84/100\n",
      "29/29 [==============================] - 0s 2ms/step - loss: 21.7779 - acc: 0.0000e+00 - val_loss: 33.9685 - val_acc: 0.0000e+00\n",
      "Epoch 85/100\n",
      "29/29 [==============================] - 0s 2ms/step - loss: 22.2589 - acc: 0.0000e+00 - val_loss: 36.7113 - val_acc: 0.0000e+00\n",
      "Epoch 86/100\n",
      "29/29 [==============================] - 0s 2ms/step - loss: 25.0046 - acc: 0.0000e+00 - val_loss: 35.1549 - val_acc: 0.0000e+00\n",
      "Epoch 87/100\n",
      "29/29 [==============================] - 0s 2ms/step - loss: 30.5621 - acc: 0.0000e+00 - val_loss: 36.1168 - val_acc: 0.0000e+00\n",
      "Epoch 88/100\n",
      "29/29 [==============================] - 0s 2ms/step - loss: 30.5615 - acc: 0.0000e+00 - val_loss: 34.6081 - val_acc: 0.0000e+00\n",
      "Epoch 89/100\n",
      "29/29 [==============================] - 0s 2ms/step - loss: 23.8292 - acc: 0.0000e+00 - val_loss: 35.3847 - val_acc: 0.0000e+00\n",
      "Epoch 90/100\n",
      "29/29 [==============================] - 0s 2ms/step - loss: 25.7679 - acc: 0.0000e+00 - val_loss: 39.4385 - val_acc: 0.0000e+00\n",
      "Epoch 91/100\n",
      "29/29 [==============================] - 0s 2ms/step - loss: 35.0632 - acc: 0.0000e+00 - val_loss: 32.8879 - val_acc: 0.0000e+00\n",
      "Epoch 92/100\n",
      "29/29 [==============================] - 0s 2ms/step - loss: 23.6358 - acc: 0.0000e+00 - val_loss: 34.4977 - val_acc: 0.0000e+00\n",
      "Epoch 93/100\n",
      "29/29 [==============================] - 0s 2ms/step - loss: 30.8970 - acc: 0.0000e+00 - val_loss: 33.1537 - val_acc: 0.0000e+00\n",
      "Epoch 94/100\n",
      "29/29 [==============================] - 0s 2ms/step - loss: 30.4776 - acc: 0.0000e+00 - val_loss: 34.8732 - val_acc: 0.0000e+00\n",
      "Epoch 95/100\n",
      "29/29 [==============================] - 0s 2ms/step - loss: 34.9630 - acc: 0.0000e+00 - val_loss: 36.8459 - val_acc: 0.0000e+00\n",
      "Epoch 96/100\n",
      "29/29 [==============================] - 0s 2ms/step - loss: 25.4003 - acc: 0.0000e+00 - val_loss: 32.5998 - val_acc: 0.0000e+00\n",
      "Epoch 97/100\n",
      "29/29 [==============================] - 0s 2ms/step - loss: 24.3158 - acc: 0.0000e+00 - val_loss: 32.4093 - val_acc: 0.0000e+00\n",
      "Epoch 98/100\n",
      "29/29 [==============================] - 0s 2ms/step - loss: 23.6284 - acc: 0.0000e+00 - val_loss: 34.9011 - val_acc: 0.0000e+00\n",
      "Epoch 99/100\n",
      "29/29 [==============================] - 0s 2ms/step - loss: 24.0541 - acc: 0.0000e+00 - val_loss: 32.8999 - val_acc: 0.0000e+00\n",
      "Epoch 100/100\n",
      "29/29 [==============================] - 0s 2ms/step - loss: 27.1605 - acc: 0.0000e+00 - val_loss: 39.3780 - val_acc: 0.0000e+00\n"
     ]
    }
   ],
   "source": [
    "# verbose=0 학습 진행 경과 출력하지 않음\n",
    "history = model.fit(X_train, Y_train, validation_split = 0.2, epochs = 100, batch_size = 10) # callbacks=[early_stopping_call_back]"
   ]
  },
  {
   "cell_type": "code",
   "execution_count": 239,
   "metadata": {
    "scrolled": true
   },
   "outputs": [
    {
     "name": "stdout",
     "output_type": "stream",
     "text": [
      "Epoch 1/100\n",
      "29/29 [==============================] - 0s 5ms/step - loss: 1.0028 - acc: 0.0000e+00 - val_loss: 0.8191 - val_acc: 0.0000e+00\n",
      "Epoch 2/100\n",
      "29/29 [==============================] - 0s 2ms/step - loss: 0.9007 - acc: 0.0000e+00 - val_loss: 0.6996 - val_acc: 0.0000e+00\n",
      "Epoch 3/100\n",
      "29/29 [==============================] - 0s 2ms/step - loss: 0.7753 - acc: 0.0000e+00 - val_loss: 0.5895 - val_acc: 0.0000e+00\n",
      "Epoch 4/100\n",
      "29/29 [==============================] - 0s 2ms/step - loss: 0.5805 - acc: 0.0000e+00 - val_loss: 0.4987 - val_acc: 0.0000e+00\n",
      "Epoch 5/100\n",
      "29/29 [==============================] - 0s 2ms/step - loss: 0.5249 - acc: 0.0000e+00 - val_loss: 0.4240 - val_acc: 0.0000e+00\n",
      "Epoch 6/100\n",
      "29/29 [==============================] - 0s 2ms/step - loss: 0.4828 - acc: 0.0000e+00 - val_loss: 0.3621 - val_acc: 0.0000e+00\n",
      "Epoch 7/100\n",
      "29/29 [==============================] - 0s 2ms/step - loss: 0.2415 - acc: 0.0000e+00 - val_loss: 0.3278 - val_acc: 0.0000e+00\n",
      "Epoch 8/100\n",
      "29/29 [==============================] - 0s 2ms/step - loss: 0.3871 - acc: 0.0000e+00 - val_loss: 0.2850 - val_acc: 0.0000e+00\n",
      "Epoch 9/100\n",
      "29/29 [==============================] - 0s 2ms/step - loss: 0.3357 - acc: 0.0000e+00 - val_loss: 0.2625 - val_acc: 0.0000e+00\n",
      "Epoch 10/100\n",
      "29/29 [==============================] - 0s 2ms/step - loss: 0.1714 - acc: 0.0000e+00 - val_loss: 0.2449 - val_acc: 0.0000e+00\n",
      "Epoch 11/100\n",
      "29/29 [==============================] - 0s 2ms/step - loss: 0.2591 - acc: 0.0000e+00 - val_loss: 0.2158 - val_acc: 0.0000e+00\n",
      "Epoch 12/100\n",
      "29/29 [==============================] - 0s 2ms/step - loss: 0.2204 - acc: 0.0000e+00 - val_loss: 0.2093 - val_acc: 0.0000e+00\n",
      "Epoch 13/100\n",
      "29/29 [==============================] - 0s 2ms/step - loss: 0.1489 - acc: 0.0000e+00 - val_loss: 0.1949 - val_acc: 0.0000e+00\n",
      "Epoch 14/100\n",
      "29/29 [==============================] - 0s 2ms/step - loss: 0.1762 - acc: 0.0000e+00 - val_loss: 0.1976 - val_acc: 0.0000e+00\n",
      "Epoch 15/100\n",
      "29/29 [==============================] - ETA: 0s - loss: 0.0947 - acc: 0.0000e+0 - 0s 2ms/step - loss: 0.1300 - acc: 0.0000e+00 - val_loss: 0.1851 - val_acc: 0.0000e+00\n",
      "Epoch 16/100\n",
      "29/29 [==============================] - 0s 2ms/step - loss: 0.2381 - acc: 0.0000e+00 - val_loss: 0.1760 - val_acc: 0.0000e+00\n",
      "Epoch 17/100\n",
      "29/29 [==============================] - 0s 2ms/step - loss: 0.1812 - acc: 0.0000e+00 - val_loss: 0.1659 - val_acc: 0.0000e+00\n",
      "Epoch 18/100\n",
      "29/29 [==============================] - 0s 2ms/step - loss: 0.1430 - acc: 0.0000e+00 - val_loss: 0.1654 - val_acc: 0.0000e+00\n",
      "Epoch 19/100\n",
      "29/29 [==============================] - 0s 2ms/step - loss: 0.1775 - acc: 0.0000e+00 - val_loss: 0.1595 - val_acc: 0.0000e+00\n",
      "Epoch 20/100\n",
      "29/29 [==============================] - 0s 2ms/step - loss: 0.1909 - acc: 0.0000e+00 - val_loss: 0.1535 - val_acc: 0.0000e+00\n",
      "Epoch 21/100\n",
      "29/29 [==============================] - 0s 2ms/step - loss: 0.1658 - acc: 0.0000e+00 - val_loss: 0.1554 - val_acc: 0.0000e+00\n",
      "Epoch 22/100\n",
      "29/29 [==============================] - 0s 2ms/step - loss: 0.1287 - acc: 0.0000e+00 - val_loss: 0.1552 - val_acc: 0.0000e+00\n",
      "Epoch 23/100\n",
      "29/29 [==============================] - 0s 2ms/step - loss: 0.1651 - acc: 0.0000e+00 - val_loss: 0.1487 - val_acc: 0.0000e+00\n",
      "Epoch 24/100\n",
      "29/29 [==============================] - 0s 2ms/step - loss: 0.1540 - acc: 0.0000e+00 - val_loss: 0.1515 - val_acc: 0.0000e+00\n",
      "Epoch 25/100\n",
      "29/29 [==============================] - 0s 2ms/step - loss: 0.1645 - acc: 0.0000e+00 - val_loss: 0.1445 - val_acc: 0.0000e+00\n",
      "Epoch 26/100\n",
      "29/29 [==============================] - 0s 2ms/step - loss: 0.1069 - acc: 0.0000e+00 - val_loss: 0.1473 - val_acc: 0.0000e+00\n",
      "Epoch 27/100\n",
      "29/29 [==============================] - 0s 2ms/step - loss: 0.1249 - acc: 0.0000e+00 - val_loss: 0.1463 - val_acc: 0.0000e+00\n",
      "Epoch 28/100\n",
      "29/29 [==============================] - 0s 2ms/step - loss: 0.0972 - acc: 0.0000e+00 - val_loss: 0.1442 - val_acc: 0.0000e+00\n",
      "Epoch 29/100\n",
      "29/29 [==============================] - 0s 2ms/step - loss: 0.1062 - acc: 0.0000e+00 - val_loss: 0.1377 - val_acc: 0.0000e+00\n",
      "Epoch 30/100\n",
      "29/29 [==============================] - 0s 2ms/step - loss: 0.1407 - acc: 0.0000e+00 - val_loss: 0.1408 - val_acc: 0.0000e+00\n",
      "Epoch 31/100\n",
      "29/29 [==============================] - 0s 2ms/step - loss: 0.1379 - acc: 0.0000e+00 - val_loss: 0.1369 - val_acc: 0.0000e+00\n",
      "Epoch 32/100\n",
      "29/29 [==============================] - 0s 2ms/step - loss: 0.1214 - acc: 0.0000e+00 - val_loss: 0.1397 - val_acc: 0.0000e+00\n",
      "Epoch 33/100\n",
      "29/29 [==============================] - 0s 2ms/step - loss: 0.1266 - acc: 0.0000e+00 - val_loss: 0.1345 - val_acc: 0.0000e+00\n",
      "Epoch 34/100\n",
      "29/29 [==============================] - 0s 2ms/step - loss: 0.1111 - acc: 0.0000e+00 - val_loss: 0.1347 - val_acc: 0.0000e+00\n",
      "Epoch 35/100\n",
      "29/29 [==============================] - 0s 2ms/step - loss: 0.1552 - acc: 0.0000e+00 - val_loss: 0.1289 - val_acc: 0.0000e+00\n",
      "Epoch 36/100\n",
      "29/29 [==============================] - 0s 2ms/step - loss: 0.1548 - acc: 0.0000e+00 - val_loss: 0.1323 - val_acc: 0.0000e+00\n",
      "Epoch 37/100\n",
      "29/29 [==============================] - 0s 2ms/step - loss: 0.1461 - acc: 0.0000e+00 - val_loss: 0.1312 - val_acc: 0.0000e+00\n",
      "Epoch 38/100\n",
      "29/29 [==============================] - 0s 2ms/step - loss: 0.0828 - acc: 0.0000e+00 - val_loss: 0.1293 - val_acc: 0.0000e+00\n",
      "Epoch 39/100\n",
      "29/29 [==============================] - 0s 2ms/step - loss: 0.1212 - acc: 0.0000e+00 - val_loss: 0.1277 - val_acc: 0.0000e+00\n",
      "Epoch 40/100\n",
      "29/29 [==============================] - 0s 2ms/step - loss: 0.0975 - acc: 0.0000e+00 - val_loss: 0.1213 - val_acc: 0.0000e+00\n",
      "Epoch 41/100\n",
      "29/29 [==============================] - 0s 2ms/step - loss: 0.2028 - acc: 0.0000e+00 - val_loss: 0.1215 - val_acc: 0.0000e+00\n",
      "Epoch 42/100\n",
      "29/29 [==============================] - 0s 2ms/step - loss: 0.0868 - acc: 0.0000e+00 - val_loss: 0.1232 - val_acc: 0.0000e+00\n",
      "Epoch 43/100\n",
      "29/29 [==============================] - 0s 2ms/step - loss: 0.0706 - acc: 0.0000e+00 - val_loss: 0.1256 - val_acc: 0.0000e+00\n",
      "Epoch 44/100\n",
      "29/29 [==============================] - 0s 2ms/step - loss: 0.1407 - acc: 0.0000e+00 - val_loss: 0.1181 - val_acc: 0.0000e+00\n",
      "Epoch 45/100\n",
      "29/29 [==============================] - 0s 2ms/step - loss: 0.0954 - acc: 0.0000e+00 - val_loss: 0.1221 - val_acc: 0.0000e+00\n",
      "Epoch 46/100\n",
      "29/29 [==============================] - 0s 2ms/step - loss: 0.1105 - acc: 0.0000e+00 - val_loss: 0.1169 - val_acc: 0.0000e+00\n",
      "Epoch 47/100\n",
      "29/29 [==============================] - 0s 2ms/step - loss: 0.0754 - acc: 0.0000e+00 - val_loss: 0.1206 - val_acc: 0.0000e+00\n",
      "Epoch 48/100\n",
      "29/29 [==============================] - 0s 2ms/step - loss: 0.0998 - acc: 0.0000e+00 - val_loss: 0.1153 - val_acc: 0.0000e+00\n",
      "Epoch 49/100\n",
      "29/29 [==============================] - 0s 2ms/step - loss: 0.1034 - acc: 0.0000e+00 - val_loss: 0.1132 - val_acc: 0.0000e+00\n",
      "Epoch 50/100\n",
      "29/29 [==============================] - 0s 2ms/step - loss: 0.1090 - acc: 0.0000e+00 - val_loss: 0.1163 - val_acc: 0.0000e+00\n",
      "Epoch 51/100\n",
      "29/29 [==============================] - 0s 2ms/step - loss: 0.0708 - acc: 0.0000e+00 - val_loss: 0.1176 - val_acc: 0.0000e+00\n",
      "Epoch 52/100\n",
      "29/29 [==============================] - 0s 2ms/step - loss: 0.0862 - acc: 0.0000e+00 - val_loss: 0.1121 - val_acc: 0.0000e+00\n",
      "Epoch 53/100\n",
      "29/29 [==============================] - 0s 2ms/step - loss: 0.1061 - acc: 0.0000e+00 - val_loss: 0.1113 - val_acc: 0.0000e+00\n",
      "Epoch 54/100\n",
      "29/29 [==============================] - 0s 2ms/step - loss: 0.1021 - acc: 0.0000e+00 - val_loss: 0.1093 - val_acc: 0.0000e+00\n",
      "Epoch 55/100\n",
      "29/29 [==============================] - 0s 2ms/step - loss: 0.0741 - acc: 0.0000e+00 - val_loss: 0.1147 - val_acc: 0.0000e+00\n",
      "Epoch 56/100\n",
      "29/29 [==============================] - 0s 2ms/step - loss: 0.0819 - acc: 0.0000e+00 - val_loss: 0.1051 - val_acc: 0.0000e+00\n",
      "Epoch 57/100\n",
      "29/29 [==============================] - 0s 2ms/step - loss: 0.0833 - acc: 0.0000e+00 - val_loss: 0.1064 - val_acc: 0.0000e+00\n",
      "Epoch 58/100\n",
      "29/29 [==============================] - 0s 2ms/step - loss: 0.0671 - acc: 0.0000e+00 - val_loss: 0.1088 - val_acc: 0.0000e+00\n",
      "Epoch 59/100\n"
     ]
    },
    {
     "name": "stdout",
     "output_type": "stream",
     "text": [
      "29/29 [==============================] - 0s 2ms/step - loss: 0.0913 - acc: 0.0000e+00 - val_loss: 0.1044 - val_acc: 0.0000e+00\n",
      "Epoch 60/100\n",
      "29/29 [==============================] - 0s 2ms/step - loss: 0.1829 - acc: 0.0000e+00 - val_loss: 0.1153 - val_acc: 0.0000e+00\n",
      "Epoch 61/100\n",
      "29/29 [==============================] - 0s 2ms/step - loss: 0.1161 - acc: 0.0000e+00 - val_loss: 0.1140 - val_acc: 0.0000e+00\n",
      "Epoch 62/100\n",
      "29/29 [==============================] - 0s 2ms/step - loss: 0.1128 - acc: 0.0000e+00 - val_loss: 0.1089 - val_acc: 0.0000e+00\n",
      "Epoch 63/100\n",
      "29/29 [==============================] - 0s 2ms/step - loss: 0.1329 - acc: 0.0000e+00 - val_loss: 0.1046 - val_acc: 0.0000e+00\n",
      "Epoch 64/100\n",
      "29/29 [==============================] - 0s 2ms/step - loss: 0.0757 - acc: 0.0000e+00 - val_loss: 0.1056 - val_acc: 0.0000e+00\n",
      "Epoch 65/100\n",
      "29/29 [==============================] - 0s 2ms/step - loss: 0.1119 - acc: 0.0000e+00 - val_loss: 0.1032 - val_acc: 0.0000e+00\n",
      "Epoch 66/100\n",
      "29/29 [==============================] - 0s 2ms/step - loss: 0.0817 - acc: 0.0000e+00 - val_loss: 0.1034 - val_acc: 0.0000e+00\n",
      "Epoch 67/100\n",
      "29/29 [==============================] - 0s 2ms/step - loss: 0.1061 - acc: 0.0000e+00 - val_loss: 0.1021 - val_acc: 0.0000e+00\n",
      "Epoch 68/100\n",
      "29/29 [==============================] - 0s 2ms/step - loss: 0.1060 - acc: 0.0000e+00 - val_loss: 0.0994 - val_acc: 0.0000e+00\n",
      "Epoch 69/100\n",
      "29/29 [==============================] - 0s 2ms/step - loss: 0.0800 - acc: 0.0000e+00 - val_loss: 0.1042 - val_acc: 0.0000e+00\n",
      "Epoch 70/100\n",
      "29/29 [==============================] - 0s 2ms/step - loss: 0.1032 - acc: 0.0000e+00 - val_loss: 0.1030 - val_acc: 0.0000e+00\n",
      "Epoch 71/100\n",
      "29/29 [==============================] - 0s 2ms/step - loss: 0.0805 - acc: 0.0000e+00 - val_loss: 0.0979 - val_acc: 0.0000e+00\n",
      "Epoch 72/100\n",
      "29/29 [==============================] - 0s 2ms/step - loss: 0.0509 - acc: 0.0000e+00 - val_loss: 0.0959 - val_acc: 0.0000e+00\n",
      "Epoch 73/100\n",
      "29/29 [==============================] - 0s 2ms/step - loss: 0.0793 - acc: 0.0000e+00 - val_loss: 0.0958 - val_acc: 0.0000e+00\n",
      "Epoch 74/100\n",
      "29/29 [==============================] - 0s 2ms/step - loss: 0.1762 - acc: 0.0000e+00 - val_loss: 0.0983 - val_acc: 0.0000e+00\n",
      "Epoch 75/100\n",
      "29/29 [==============================] - 0s 2ms/step - loss: 0.0897 - acc: 0.0000e+00 - val_loss: 0.0998 - val_acc: 0.0000e+00\n",
      "Epoch 76/100\n",
      "29/29 [==============================] - 0s 2ms/step - loss: 0.0702 - acc: 0.0000e+00 - val_loss: 0.0974 - val_acc: 0.0000e+00\n",
      "Epoch 77/100\n",
      "29/29 [==============================] - 0s 2ms/step - loss: 0.0579 - acc: 0.0000e+00 - val_loss: 0.0938 - val_acc: 0.0000e+00\n",
      "Epoch 78/100\n",
      "29/29 [==============================] - 0s 2ms/step - loss: 0.0525 - acc: 0.0000e+00 - val_loss: 0.0975 - val_acc: 0.0000e+00\n",
      "Epoch 79/100\n",
      "29/29 [==============================] - 0s 2ms/step - loss: 0.1639 - acc: 0.0000e+00 - val_loss: 0.0916 - val_acc: 0.0000e+00\n",
      "Epoch 80/100\n",
      "29/29 [==============================] - 0s 2ms/step - loss: 0.0653 - acc: 0.0000e+00 - val_loss: 0.0922 - val_acc: 0.0000e+00\n",
      "Epoch 81/100\n",
      "29/29 [==============================] - 0s 2ms/step - loss: 0.0905 - acc: 0.0000e+00 - val_loss: 0.0949 - val_acc: 0.0000e+00\n",
      "Epoch 82/100\n",
      "29/29 [==============================] - 0s 2ms/step - loss: 0.0872 - acc: 0.0000e+00 - val_loss: 0.0975 - val_acc: 0.0000e+00\n",
      "Epoch 83/100\n",
      "29/29 [==============================] - 0s 2ms/step - loss: 0.0589 - acc: 0.0000e+00 - val_loss: 0.0946 - val_acc: 0.0000e+00\n",
      "Epoch 84/100\n",
      "29/29 [==============================] - 0s 2ms/step - loss: 0.0518 - acc: 0.0000e+00 - val_loss: 0.0955 - val_acc: 0.0000e+00\n",
      "Epoch 85/100\n",
      "29/29 [==============================] - 0s 2ms/step - loss: 0.0510 - acc: 0.0000e+00 - val_loss: 0.0931 - val_acc: 0.0000e+00\n",
      "Epoch 86/100\n",
      "29/29 [==============================] - 0s 2ms/step - loss: 0.0554 - acc: 0.0000e+00 - val_loss: 0.0925 - val_acc: 0.0000e+00\n",
      "Epoch 87/100\n",
      "29/29 [==============================] - 0s 2ms/step - loss: 0.0894 - acc: 0.0000e+00 - val_loss: 0.0961 - val_acc: 0.0000e+00\n",
      "Epoch 88/100\n",
      "29/29 [==============================] - 0s 2ms/step - loss: 0.0892 - acc: 0.0000e+00 - val_loss: 0.0888 - val_acc: 0.0000e+00\n",
      "Epoch 89/100\n",
      "29/29 [==============================] - 0s 2ms/step - loss: 0.0990 - acc: 0.0000e+00 - val_loss: 0.0972 - val_acc: 0.0000e+00\n",
      "Epoch 90/100\n",
      "29/29 [==============================] - 0s 2ms/step - loss: 0.0702 - acc: 0.0000e+00 - val_loss: 0.0875 - val_acc: 0.0000e+00\n",
      "Epoch 91/100\n",
      "29/29 [==============================] - 0s 2ms/step - loss: 0.0733 - acc: 0.0000e+00 - val_loss: 0.0869 - val_acc: 0.0000e+00\n",
      "Epoch 92/100\n",
      "29/29 [==============================] - 0s 2ms/step - loss: 0.0525 - acc: 0.0000e+00 - val_loss: 0.0903 - val_acc: 0.0000e+00\n",
      "Epoch 93/100\n",
      "29/29 [==============================] - 0s 2ms/step - loss: 0.0786 - acc: 0.0000e+00 - val_loss: 0.0918 - val_acc: 0.0000e+00\n",
      "Epoch 94/100\n",
      "29/29 [==============================] - 0s 2ms/step - loss: 0.0822 - acc: 0.0000e+00 - val_loss: 0.0941 - val_acc: 0.0000e+00\n",
      "Epoch 95/100\n",
      "29/29 [==============================] - 0s 2ms/step - loss: 0.0625 - acc: 0.0000e+00 - val_loss: 0.0878 - val_acc: 0.0000e+00\n",
      "Epoch 96/100\n",
      "29/29 [==============================] - 0s 2ms/step - loss: 0.1047 - acc: 0.0000e+00 - val_loss: 0.0939 - val_acc: 0.0000e+00\n",
      "Epoch 97/100\n",
      "29/29 [==============================] - 0s 2ms/step - loss: 0.1129 - acc: 0.0000e+00 - val_loss: 0.0848 - val_acc: 0.0000e+00\n",
      "Epoch 98/100\n",
      "29/29 [==============================] - 0s 2ms/step - loss: 0.0463 - acc: 0.0000e+00 - val_loss: 0.0841 - val_acc: 0.0000e+00\n",
      "Epoch 99/100\n",
      "29/29 [==============================] - 0s 2ms/step - loss: 0.0672 - acc: 0.0000e+00 - val_loss: 0.0898 - val_acc: 0.0000e+00\n",
      "Epoch 100/100\n",
      "29/29 [==============================] - 0s 2ms/step - loss: 0.0617 - acc: 0.0000e+00 - val_loss: 0.0849 - val_acc: 0.0000e+00\n"
     ]
    }
   ],
   "source": [
    "# verbose=0 학습 진행 경과 출력하지 않음\n",
    "history1 = model1.fit(X_train, Y_train, validation_split = 0.2, epochs = 100, batch_size = 10) # callbacks=[early_stopping_call_back]"
   ]
  },
  {
   "cell_type": "code",
   "execution_count": 245,
   "metadata": {},
   "outputs": [
    {
     "name": "stdout",
     "output_type": "stream",
     "text": [
      "Epoch 1/100\n",
      "29/29 [==============================] - 0s 5ms/step - loss: 0.0983 - acc: 0.0275 - val_loss: 0.0712 - val_acc: 0.0141\n",
      "Epoch 2/100\n",
      "29/29 [==============================] - 0s 2ms/step - loss: 0.0525 - acc: 0.0282 - val_loss: 0.0510 - val_acc: 0.0141\n",
      "Epoch 3/100\n",
      "29/29 [==============================] - 0s 2ms/step - loss: 0.0360 - acc: 0.0133 - val_loss: 0.0387 - val_acc: 0.0141\n",
      "Epoch 4/100\n",
      "29/29 [==============================] - 0s 2ms/step - loss: 0.0272 - acc: 0.0215 - val_loss: 0.0314 - val_acc: 0.0282\n",
      "Epoch 5/100\n",
      "29/29 [==============================] - 0s 2ms/step - loss: 0.0225 - acc: 0.0317 - val_loss: 0.0255 - val_acc: 0.0282\n",
      "Epoch 6/100\n",
      "29/29 [==============================] - 0s 2ms/step - loss: 0.0215 - acc: 0.0245 - val_loss: 0.0219 - val_acc: 0.0423\n",
      "Epoch 7/100\n",
      "29/29 [==============================] - 0s 2ms/step - loss: 0.0156 - acc: 0.0145 - val_loss: 0.0203 - val_acc: 0.0423\n",
      "Epoch 8/100\n",
      "29/29 [==============================] - 0s 2ms/step - loss: 0.0182 - acc: 0.0298 - val_loss: 0.0175 - val_acc: 0.0423\n",
      "Epoch 9/100\n",
      "29/29 [==============================] - 0s 2ms/step - loss: 0.0186 - acc: 0.0292 - val_loss: 0.0162 - val_acc: 0.0423\n",
      "Epoch 10/100\n",
      "29/29 [==============================] - 0s 2ms/step - loss: 0.0100 - acc: 0.0217 - val_loss: 0.0167 - val_acc: 0.0563\n",
      "Epoch 11/100\n",
      "29/29 [==============================] - 0s 2ms/step - loss: 0.0154 - acc: 0.0344 - val_loss: 0.0125 - val_acc: 0.0563\n",
      "Epoch 12/100\n",
      "29/29 [==============================] - 0s 2ms/step - loss: 0.0130 - acc: 0.0231 - val_loss: 0.0124 - val_acc: 0.0563\n",
      "Epoch 13/100\n",
      "29/29 [==============================] - 0s 2ms/step - loss: 0.0096 - acc: 0.0206 - val_loss: 0.0125 - val_acc: 0.0563\n",
      "Epoch 14/100\n",
      "29/29 [==============================] - 0s 2ms/step - loss: 0.0115 - acc: 0.0142 - val_loss: 0.0113 - val_acc: 0.0423\n",
      "Epoch 15/100\n",
      "29/29 [==============================] - 0s 2ms/step - loss: 0.0086 - acc: 0.0162 - val_loss: 0.0110 - val_acc: 0.0563\n",
      "Epoch 16/100\n",
      "29/29 [==============================] - 0s 2ms/step - loss: 0.0141 - acc: 0.0308 - val_loss: 0.0104 - val_acc: 0.0563\n",
      "Epoch 17/100\n",
      "29/29 [==============================] - 0s 2ms/step - loss: 0.0126 - acc: 0.0371 - val_loss: 0.0096 - val_acc: 0.0563\n",
      "Epoch 18/100\n",
      "29/29 [==============================] - 0s 2ms/step - loss: 0.0085 - acc: 0.0212 - val_loss: 0.0105 - val_acc: 0.0563\n",
      "Epoch 19/100\n",
      "29/29 [==============================] - 0s 2ms/step - loss: 0.0109 - acc: 0.0210 - val_loss: 0.0094 - val_acc: 0.0563\n",
      "Epoch 20/100\n",
      "29/29 [==============================] - 0s 2ms/step - loss: 0.0125 - acc: 0.0155 - val_loss: 0.0091 - val_acc: 0.0563\n",
      "Epoch 21/100\n",
      "29/29 [==============================] - 0s 2ms/step - loss: 0.0109 - acc: 0.0192 - val_loss: 0.0090 - val_acc: 0.0563\n",
      "Epoch 22/100\n",
      "29/29 [==============================] - 0s 2ms/step - loss: 0.0109 - acc: 0.0185 - val_loss: 0.0090 - val_acc: 0.0563\n",
      "Epoch 23/100\n",
      "29/29 [==============================] - 0s 2ms/step - loss: 0.0098 - acc: 0.0217 - val_loss: 0.0093 - val_acc: 0.0563\n",
      "Epoch 24/100\n",
      "29/29 [==============================] - 0s 2ms/step - loss: 0.0090 - acc: 0.0195 - val_loss: 0.0086 - val_acc: 0.0563\n",
      "Epoch 25/100\n",
      "29/29 [==============================] - 0s 2ms/step - loss: 0.0105 - acc: 0.0268 - val_loss: 0.0090 - val_acc: 0.0563\n",
      "Epoch 26/100\n",
      "29/29 [==============================] - 0s 2ms/step - loss: 0.0078 - acc: 0.0256 - val_loss: 0.0088 - val_acc: 0.0563\n",
      "Epoch 27/100\n",
      "29/29 [==============================] - 0s 2ms/step - loss: 0.0089 - acc: 0.0217 - val_loss: 0.0086 - val_acc: 0.0563\n",
      "Epoch 28/100\n",
      "29/29 [==============================] - 0s 2ms/step - loss: 0.0065 - acc: 0.0283 - val_loss: 0.0083 - val_acc: 0.0563\n",
      "Epoch 29/100\n",
      "29/29 [==============================] - 0s 2ms/step - loss: 0.0073 - acc: 0.0281 - val_loss: 0.0080 - val_acc: 0.0563\n",
      "Epoch 30/100\n",
      "29/29 [==============================] - 0s 2ms/step - loss: 0.0089 - acc: 0.0215 - val_loss: 0.0078 - val_acc: 0.0563\n",
      "Epoch 31/100\n",
      "29/29 [==============================] - 0s 2ms/step - loss: 0.0092 - acc: 0.0314 - val_loss: 0.0079 - val_acc: 0.0563\n",
      "Epoch 32/100\n",
      "29/29 [==============================] - 0s 2ms/step - loss: 0.0075 - acc: 0.0183 - val_loss: 0.0080 - val_acc: 0.0563\n",
      "Epoch 33/100\n",
      "29/29 [==============================] - 0s 2ms/step - loss: 0.0080 - acc: 0.0150 - val_loss: 0.0085 - val_acc: 0.0563\n",
      "Epoch 34/100\n",
      "29/29 [==============================] - 0s 2ms/step - loss: 0.0086 - acc: 0.0255 - val_loss: 0.0086 - val_acc: 0.0563\n",
      "Epoch 35/100\n",
      "29/29 [==============================] - 0s 2ms/step - loss: 0.0105 - acc: 0.0288 - val_loss: 0.0080 - val_acc: 0.0563\n",
      "Epoch 36/100\n",
      "29/29 [==============================] - 0s 2ms/step - loss: 0.0097 - acc: 0.0313 - val_loss: 0.0076 - val_acc: 0.0563\n",
      "Epoch 37/100\n",
      "29/29 [==============================] - 0s 2ms/step - loss: 0.0086 - acc: 0.0248 - val_loss: 0.0078 - val_acc: 0.0563\n",
      "Epoch 38/100\n",
      "29/29 [==============================] - 0s 2ms/step - loss: 0.0064 - acc: 0.0380 - val_loss: 0.0072 - val_acc: 0.0563\n",
      "Epoch 39/100\n",
      "29/29 [==============================] - 0s 2ms/step - loss: 0.0075 - acc: 0.0205 - val_loss: 0.0076 - val_acc: 0.0563\n",
      "Epoch 40/100\n",
      "29/29 [==============================] - 0s 2ms/step - loss: 0.0066 - acc: 0.0379 - val_loss: 0.0066 - val_acc: 0.0563\n",
      "Epoch 41/100\n",
      "29/29 [==============================] - 0s 2ms/step - loss: 0.0108 - acc: 0.0312 - val_loss: 0.0070 - val_acc: 0.0563\n",
      "Epoch 42/100\n",
      "29/29 [==============================] - 0s 2ms/step - loss: 0.0060 - acc: 0.0220 - val_loss: 0.0074 - val_acc: 0.0563\n",
      "Epoch 43/100\n",
      "29/29 [==============================] - 0s 2ms/step - loss: 0.0054 - acc: 0.0261 - val_loss: 0.0072 - val_acc: 0.0563\n",
      "Epoch 44/100\n",
      "29/29 [==============================] - 0s 2ms/step - loss: 0.0079 - acc: 0.0312 - val_loss: 0.0065 - val_acc: 0.0563\n",
      "Epoch 45/100\n",
      "29/29 [==============================] - 0s 2ms/step - loss: 0.0058 - acc: 0.0199 - val_loss: 0.0071 - val_acc: 0.0563\n",
      "Epoch 46/100\n",
      "29/29 [==============================] - 0s 2ms/step - loss: 0.0070 - acc: 0.0235 - val_loss: 0.0065 - val_acc: 0.0563\n",
      "Epoch 47/100\n",
      "29/29 [==============================] - 0s 2ms/step - loss: 0.0052 - acc: 0.0280 - val_loss: 0.0067 - val_acc: 0.0563\n",
      "Epoch 48/100\n",
      "29/29 [==============================] - 0s 2ms/step - loss: 0.0061 - acc: 0.0223 - val_loss: 0.0066 - val_acc: 0.0563\n",
      "Epoch 49/100\n",
      "29/29 [==============================] - 0s 2ms/step - loss: 0.0062 - acc: 0.0235 - val_loss: 0.0058 - val_acc: 0.0563\n",
      "Epoch 50/100\n",
      "29/29 [==============================] - 0s 2ms/step - loss: 0.0058 - acc: 0.0172 - val_loss: 0.0071 - val_acc: 0.0563\n",
      "Epoch 51/100\n",
      "29/29 [==============================] - 0s 2ms/step - loss: 0.0055 - acc: 0.0163 - val_loss: 0.0057 - val_acc: 0.0563\n",
      "Epoch 52/100\n",
      "29/29 [==============================] - 0s 2ms/step - loss: 0.0062 - acc: 0.0358 - val_loss: 0.0059 - val_acc: 0.0563\n",
      "Epoch 53/100\n",
      "29/29 [==============================] - 0s 2ms/step - loss: 0.0059 - acc: 0.0327 - val_loss: 0.0055 - val_acc: 0.0563\n",
      "Epoch 54/100\n",
      "29/29 [==============================] - 0s 2ms/step - loss: 0.0063 - acc: 0.0275 - val_loss: 0.0062 - val_acc: 0.0563\n",
      "Epoch 55/100\n",
      "29/29 [==============================] - 0s 2ms/step - loss: 0.0048 - acc: 0.0255 - val_loss: 0.0052 - val_acc: 0.0563\n",
      "Epoch 56/100\n",
      "29/29 [==============================] - 0s 2ms/step - loss: 0.0058 - acc: 0.0281 - val_loss: 0.0052 - val_acc: 0.0563\n",
      "Epoch 57/100\n",
      "29/29 [==============================] - 0s 2ms/step - loss: 0.0059 - acc: 0.0322 - val_loss: 0.0060 - val_acc: 0.0563\n",
      "Epoch 58/100\n",
      "29/29 [==============================] - 0s 2ms/step - loss: 0.0050 - acc: 0.0339 - val_loss: 0.0052 - val_acc: 0.0563\n",
      "Epoch 59/100\n",
      "29/29 [==============================] - 0s 2ms/step - loss: 0.0059 - acc: 0.0344 - val_loss: 0.0051 - val_acc: 0.0563\n",
      "Epoch 60/100\n",
      "29/29 [==============================] - 0s 2ms/step - loss: 0.0082 - acc: 0.0495 - val_loss: 0.0056 - val_acc: 0.0563\n",
      "Epoch 61/100\n",
      "29/29 [==============================] - 0s 2ms/step - loss: 0.0069 - acc: 0.0435 - val_loss: 0.0052 - val_acc: 0.0563\n",
      "Epoch 62/100\n",
      "29/29 [==============================] - 0s 2ms/step - loss: 0.0062 - acc: 0.0311 - val_loss: 0.0055 - val_acc: 0.0563\n",
      "Epoch 63/100\n"
     ]
    },
    {
     "name": "stdout",
     "output_type": "stream",
     "text": [
      "29/29 [==============================] - 0s 2ms/step - loss: 0.0066 - acc: 0.0365 - val_loss: 0.0050 - val_acc: 0.0563\n",
      "Epoch 64/100\n",
      "29/29 [==============================] - 0s 2ms/step - loss: 0.0051 - acc: 0.0340 - val_loss: 0.0051 - val_acc: 0.0563\n",
      "Epoch 65/100\n",
      "29/29 [==============================] - 0s 2ms/step - loss: 0.0060 - acc: 0.0309 - val_loss: 0.0050 - val_acc: 0.0563\n",
      "Epoch 66/100\n",
      "29/29 [==============================] - 0s 2ms/step - loss: 0.0047 - acc: 0.0334 - val_loss: 0.0048 - val_acc: 0.0563\n",
      "Epoch 67/100\n",
      "29/29 [==============================] - 0s 2ms/step - loss: 0.0056 - acc: 0.0289 - val_loss: 0.0056 - val_acc: 0.0563\n",
      "Epoch 68/100\n",
      "29/29 [==============================] - 0s 2ms/step - loss: 0.0055 - acc: 0.0312 - val_loss: 0.0045 - val_acc: 0.0563\n",
      "Epoch 69/100\n",
      "29/29 [==============================] - 0s 2ms/step - loss: 0.0045 - acc: 0.0302 - val_loss: 0.0048 - val_acc: 0.0563\n",
      "Epoch 70/100\n",
      "29/29 [==============================] - 0s 2ms/step - loss: 0.0054 - acc: 0.0373 - val_loss: 0.0050 - val_acc: 0.0563\n",
      "Epoch 71/100\n",
      "29/29 [==============================] - 0s 2ms/step - loss: 0.0050 - acc: 0.0280 - val_loss: 0.0045 - val_acc: 0.0563\n",
      "Epoch 72/100\n",
      "29/29 [==============================] - 0s 2ms/step - loss: 0.0040 - acc: 0.0328 - val_loss: 0.0052 - val_acc: 0.0563\n",
      "Epoch 73/100\n",
      "29/29 [==============================] - 0s 2ms/step - loss: 0.0043 - acc: 0.0252 - val_loss: 0.0045 - val_acc: 0.0563\n",
      "Epoch 74/100\n",
      "29/29 [==============================] - 0s 2ms/step - loss: 0.0083 - acc: 0.0387 - val_loss: 0.0050 - val_acc: 0.0563\n",
      "Epoch 75/100\n",
      "29/29 [==============================] - 0s 2ms/step - loss: 0.0050 - acc: 0.0380 - val_loss: 0.0042 - val_acc: 0.0563\n",
      "Epoch 76/100\n",
      "29/29 [==============================] - 0s 2ms/step - loss: 0.0040 - acc: 0.0222 - val_loss: 0.0054 - val_acc: 0.0563\n",
      "Epoch 77/100\n",
      "29/29 [==============================] - 0s 2ms/step - loss: 0.0044 - acc: 0.0285 - val_loss: 0.0046 - val_acc: 0.0563\n",
      "Epoch 78/100\n",
      "29/29 [==============================] - 0s 2ms/step - loss: 0.0036 - acc: 0.0274 - val_loss: 0.0043 - val_acc: 0.0563\n",
      "Epoch 79/100\n",
      "29/29 [==============================] - 0s 2ms/step - loss: 0.0064 - acc: 0.0518 - val_loss: 0.0049 - val_acc: 0.0563\n",
      "Epoch 80/100\n",
      "29/29 [==============================] - 0s 2ms/step - loss: 0.0039 - acc: 0.0321 - val_loss: 0.0044 - val_acc: 0.0563\n",
      "Epoch 81/100\n",
      "29/29 [==============================] - 0s 2ms/step - loss: 0.0057 - acc: 0.0424 - val_loss: 0.0044 - val_acc: 0.0563\n",
      "Epoch 82/100\n",
      "29/29 [==============================] - 0s 2ms/step - loss: 0.0051 - acc: 0.0353 - val_loss: 0.0042 - val_acc: 0.0563\n",
      "Epoch 83/100\n",
      "29/29 [==============================] - 0s 2ms/step - loss: 0.0045 - acc: 0.0402 - val_loss: 0.0042 - val_acc: 0.0563\n",
      "Epoch 84/100\n",
      "29/29 [==============================] - 0s 2ms/step - loss: 0.0032 - acc: 0.0268 - val_loss: 0.0040 - val_acc: 0.0563\n",
      "Epoch 85/100\n",
      "29/29 [==============================] - 0s 2ms/step - loss: 0.0037 - acc: 0.0199 - val_loss: 0.0048 - val_acc: 0.0563\n",
      "Epoch 86/100\n",
      "29/29 [==============================] - 0s 2ms/step - loss: 0.0037 - acc: 0.0255 - val_loss: 0.0053 - val_acc: 0.0563\n",
      "Epoch 87/100\n",
      "29/29 [==============================] - 0s 2ms/step - loss: 0.0047 - acc: 0.0311 - val_loss: 0.0043 - val_acc: 0.0563\n",
      "Epoch 88/100\n",
      "29/29 [==============================] - 0s 2ms/step - loss: 0.0047 - acc: 0.0413 - val_loss: 0.0048 - val_acc: 0.0563\n",
      "Epoch 89/100\n",
      "29/29 [==============================] - 0s 2ms/step - loss: 0.0048 - acc: 0.0229 - val_loss: 0.0050 - val_acc: 0.0563\n",
      "Epoch 90/100\n",
      "29/29 [==============================] - 0s 2ms/step - loss: 0.0045 - acc: 0.0299 - val_loss: 0.0047 - val_acc: 0.0563\n",
      "Epoch 91/100\n",
      "29/29 [==============================] - 0s 2ms/step - loss: 0.0045 - acc: 0.0281 - val_loss: 0.0038 - val_acc: 0.0563\n",
      "Epoch 92/100\n",
      "29/29 [==============================] - 0s 2ms/step - loss: 0.0045 - acc: 0.0135 - val_loss: 0.0048 - val_acc: 0.0563\n",
      "Epoch 93/100\n",
      "29/29 [==============================] - 0s 2ms/step - loss: 0.0046 - acc: 0.0335 - val_loss: 0.0043 - val_acc: 0.0563\n",
      "Epoch 94/100\n",
      "29/29 [==============================] - 0s 2ms/step - loss: 0.0049 - acc: 0.0354 - val_loss: 0.0041 - val_acc: 0.0563\n",
      "Epoch 95/100\n",
      "29/29 [==============================] - 0s 2ms/step - loss: 0.0042 - acc: 0.0491 - val_loss: 0.0042 - val_acc: 0.0563\n",
      "Epoch 96/100\n",
      "29/29 [==============================] - 0s 2ms/step - loss: 0.0042 - acc: 0.0330 - val_loss: 0.0041 - val_acc: 0.0563\n",
      "Epoch 97/100\n",
      "29/29 [==============================] - 0s 2ms/step - loss: 0.0042 - acc: 0.0321 - val_loss: 0.0038 - val_acc: 0.0563\n",
      "Epoch 98/100\n",
      "29/29 [==============================] - 0s 2ms/step - loss: 0.0033 - acc: 0.0309 - val_loss: 0.0045 - val_acc: 0.0563\n",
      "Epoch 99/100\n",
      "29/29 [==============================] - 0s 2ms/step - loss: 0.0042 - acc: 0.0386 - val_loss: 0.0036 - val_acc: 0.0563\n",
      "Epoch 100/100\n",
      "29/29 [==============================] - 0s 2ms/step - loss: 0.0036 - acc: 0.0282 - val_loss: 0.0041 - val_acc: 0.0563\n"
     ]
    }
   ],
   "source": [
    "# verbose=0 학습 진행 경과 출력하지 않음\n",
    "history2 = model2.fit(X_train, Y_train, validation_split = 0.2, epochs = 100, batch_size = 10) # callbacks=[early_stopping_call_back]"
   ]
  },
  {
   "cell_type": "code",
   "execution_count": 247,
   "metadata": {},
   "outputs": [
    {
     "name": "stdout",
     "output_type": "stream",
     "text": [
      "<class 'tensorflow.python.keras.callbacks.History'>\n",
      "<class 'tensorflow.python.keras.callbacks.History'>\n",
      "<class 'tensorflow.python.keras.callbacks.History'>\n"
     ]
    }
   ],
   "source": [
    "print(type(history))\n",
    "print(type(history1))\n",
    "print(type(history2))"
   ]
  },
  {
   "cell_type": "code",
   "execution_count": 258,
   "metadata": {},
   "outputs": [],
   "source": [
    "vloss = history.history['val_loss']\n",
    "loss = history.history['loss']\n",
    "vacc = history.history['val_acc']\n",
    "acc = history.history['acc']"
   ]
  },
  {
   "cell_type": "code",
   "execution_count": 248,
   "metadata": {},
   "outputs": [],
   "source": [
    "std_vloss = history1.history['val_loss']\n",
    "std_loss = history1.history['loss']\n",
    "std_vacc = history1.history['val_acc']\n",
    "std_acc = history1.history['acc']"
   ]
  },
  {
   "cell_type": "code",
   "execution_count": 249,
   "metadata": {},
   "outputs": [],
   "source": [
    "norm_vloss = history2.history['val_loss']\n",
    "norm_loss = history2.history['loss']\n",
    "norm_vacc = history2.history['val_acc']\n",
    "norm_acc = history2.history['acc']"
   ]
  },
  {
   "cell_type": "code",
   "execution_count": 259,
   "metadata": {},
   "outputs": [
    {
     "name": "stdout",
     "output_type": "stream",
     "text": [
      "100\n",
      "100\n",
      "100\n",
      "100\n"
     ]
    }
   ],
   "source": [
    "print(len(vloss))\n",
    "print(len(loss))\n",
    "print(len(acc))\n",
    "print(len(vacc))"
   ]
  },
  {
   "cell_type": "code",
   "execution_count": 152,
   "metadata": {},
   "outputs": [],
   "source": [
    "%matplotlib qt"
   ]
  },
  {
   "cell_type": "code",
   "execution_count": 153,
   "metadata": {},
   "outputs": [],
   "source": [
    "%matplotlib inline"
   ]
  },
  {
   "cell_type": "code",
   "execution_count": 156,
   "metadata": {},
   "outputs": [
    {
     "data": {
      "image/png": "[encoded data removed]",
      "text/plain": [
       "<Figure size 720x360 with 1 Axes>"
      ]
     },
     "metadata": {
      "needs_background": "light"
     },
     "output_type": "display_data"
    }
   ],
   "source": [
    "import matplotlib.pyplot as plt\n",
    "\n",
    "plt.figure(figsize=(10, 5))\n",
    "plt.ylim(0, 100)\n",
    "plt.plot(range(len(loss)), loss, label='loss')\n",
    "plt.plot(range(len(loss)), vloss, label='val_loss')\n",
    "plt.legend()\n",
    "plt.show()"
   ]
  },
  {
   "cell_type": "code",
   "execution_count": 157,
   "metadata": {},
   "outputs": [
    {
     "data": {
      "image/png": "[encoded data removed]",
      "text/plain": [
       "<Figure size 720x360 with 1 Axes>"
      ]
     },
     "metadata": {
      "needs_background": "light"
     },
     "output_type": "display_data"
    }
   ],
   "source": [
    "plt.figure(figsize=(10, 5))\n",
    "plt.ylim(0, 1)\n",
    "plt.plot(range(len(loss)), acc, label='acc')\n",
    "plt.plot(range(len(loss)), vacc, label='val_acc')\n",
    "plt.legend()\n",
    "plt.show()"
   ]
  },
  {
   "cell_type": "markdown",
   "metadata": {},
   "source": [
    "# 일반, 표준화, 정규화 loss 그래프"
   ]
  },
  {
   "cell_type": "code",
   "execution_count": 260,
   "metadata": {},
   "outputs": [
    {
     "name": "stdout",
     "output_type": "stream",
     "text": [
      "100\n",
      "100\n",
      "100\n"
     ]
    }
   ],
   "source": [
    "print(len(loss))\n",
    "print(len(std_loss))\n",
    "print(len(norm_loss))"
   ]
  },
  {
   "cell_type": "code",
   "execution_count": 263,
   "metadata": {},
   "outputs": [
    {
     "data": {
      "image/png": "[encoded data removed]",
      "text/plain": [
       "<Figure size 720x360 with 1 Axes>"
      ]
     },
     "metadata": {
      "needs_background": "light"
     },
     "output_type": "display_data"
    }
   ],
   "source": [
    "import matplotlib.pyplot as plt\n",
    "\n",
    "plt.figure(figsize=(10, 5))\n",
    "plt.ylim(0, 50)\n",
    "plt.plot(range(len(loss)), loss, label='loss')\n",
    "plt.plot(range(len(loss)), std_loss, label='std_loss')\n",
    "plt.plot(range(len(loss)), norm_loss, label='norm_loss')\n",
    "plt.legend()\n",
    "\n",
    "plt.savefig('c:/edu/py_data/loss_graph.jpg')\n",
    "plt.show()"
   ]
  },
  {
   "cell_type": "code",
   "execution_count": null,
   "metadata": {},
   "outputs": [],
   "source": []
  },
  {
   "cell_type": "markdown",
   "metadata": {},
   "source": [
    "# 테스트"
   ]
  },
  {
   "cell_type": "code",
   "execution_count": 41,
   "metadata": {},
   "outputs": [],
   "source": [
    "Y_prediction = model.predict(X_test).flatten()"
   ]
  },
  {
   "cell_type": "code",
   "execution_count": 70,
   "metadata": {},
   "outputs": [
    {
     "name": "stdout",
     "output_type": "stream",
     "text": [
      "5/5 [==============================] - 0s 750us/step - loss: 32.0852 - acc: 0.0000e+00\n"
     ]
    },
    {
     "data": {
      "text/plain": [
       "[32.0852165222168, 0.0]"
      ]
     },
     "execution_count": 70,
     "metadata": {},
     "output_type": "execute_result"
    }
   ],
   "source": [
    "model.evaluate(X_test, Y_test)"
   ]
  },
  {
   "cell_type": "code",
   "execution_count": 69,
   "metadata": {},
   "outputs": [
    {
     "name": "stdout",
     "output_type": "stream",
     "text": [
      "5/5 [==============================] - 0s 749us/step - loss: 32.0852 - acc: 0.0000e+00\n"
     ]
    },
    {
     "data": {
      "text/plain": [
       "0.0"
      ]
     },
     "execution_count": 69,
     "metadata": {},
     "output_type": "execute_result"
    }
   ],
   "source": [
    "model.evaluate(X_test, Y_test)[1]"
   ]
  },
  {
   "cell_type": "code",
   "execution_count": 58,
   "metadata": {},
   "outputs": [
    {
     "name": "stdout",
     "output_type": "stream",
     "text": [
      "  1번째 데이터 >>> 실제가격: 22.60, 예상가격: 21.08, 오차:  1.52\n",
      "  2번째 데이터 >>> 실제가격: 50.00, 예상가격: 23.43, 오차: 26.57\n",
      "  3번째 데이터 >>> 실제가격: 23.00, 예상가격: 23.70, 오차: -0.70\n",
      "  4번째 데이터 >>> 실제가격:  8.30, 예상가격:  5.55, 오차:  2.75\n",
      "  5번째 데이터 >>> 실제가격: 21.20, 예상가격: 19.13, 오차:  2.07\n",
      "  6번째 데이터 >>> 실제가격: 19.90, 예상가격: 20.22, 오차: -0.32\n",
      "  7번째 데이터 >>> 실제가격: 20.60, 예상가격: 15.66, 오차:  4.94\n",
      "  8번째 데이터 >>> 실제가격: 18.70, 예상가격: 21.85, 오차: -3.15\n",
      "  9번째 데이터 >>> 실제가격: 16.10, 예상가격: 16.38, 오차: -0.28\n",
      " 10번째 데이터 >>> 실제가격: 18.60, 예상가격: 14.45, 오차:  4.15\n",
      " 11번째 데이터 >>> 실제가격:  8.80, 예상가격: 11.01, 오차: -2.21\n",
      " 12번째 데이터 >>> 실제가격: 17.20, 예상가격: 10.63, 오차:  6.57\n",
      " 13번째 데이터 >>> 실제가격: 14.90, 예상가격: 11.62, 오차:  3.28\n",
      " 14번째 데이터 >>> 실제가격: 10.50, 예상가격:  2.96, 오차:  7.54\n",
      " 15번째 데이터 >>> 실제가격: 50.00, 예상가격: 44.58, 오차:  5.42\n",
      " 16번째 데이터 >>> 실제가격: 29.00, 예상가격: 27.42, 오차:  1.58\n",
      " 17번째 데이터 >>> 실제가격: 23.00, 예상가격: 16.58, 오차:  6.42\n",
      " 18번째 데이터 >>> 실제가격: 33.30, 예상가격: 29.41, 오차:  3.89\n",
      " 19번째 데이터 >>> 실제가격: 29.40, 예상가격: 27.73, 오차:  1.67\n",
      " 20번째 데이터 >>> 실제가격: 21.00, 예상가격: 22.39, 오차: -1.39\n",
      " 21번째 데이터 >>> 실제가격: 23.80, 예상가격: 23.01, 오차:  0.79\n",
      " 22번째 데이터 >>> 실제가격: 19.10, 예상가격: 19.22, 오차: -0.12\n",
      " 23번째 데이터 >>> 실제가격: 20.40, 예상가격: 18.25, 오차:  2.15\n",
      " 24번째 데이터 >>> 실제가격: 29.10, 예상가격: 25.46, 오차:  3.64\n",
      " 25번째 데이터 >>> 실제가격: 19.30, 예상가격: 20.12, 오차: -0.82\n",
      " 26번째 데이터 >>> 실제가격: 23.10, 예상가격: 15.12, 오차:  7.98\n",
      " 27번째 데이터 >>> 실제가격: 19.60, 예상가격: 16.47, 오차:  3.13\n",
      " 28번째 데이터 >>> 실제가격: 19.40, 예상가격: 14.63, 오차:  4.77\n",
      " 29번째 데이터 >>> 실제가격: 38.70, 예상가격: 30.85, 오차:  7.85\n",
      " 30번째 데이터 >>> 실제가격: 18.70, 예상가격: 15.14, 오차:  3.56\n",
      " 31번째 데이터 >>> 실제가격: 14.60, 예상가격: 11.68, 오차:  2.92\n",
      " 32번째 데이터 >>> 실제가격: 20.00, 예상가격: 14.80, 오차:  5.20\n",
      " 33번째 데이터 >>> 실제가격: 20.50, 예상가격: 16.93, 오차:  3.57\n",
      " 34번째 데이터 >>> 실제가격: 20.10, 예상가격: 19.48, 오차:  0.62\n",
      " 35번째 데이터 >>> 실제가격: 23.60, 예상가격: 23.56, 오차:  0.04\n",
      " 36번째 데이터 >>> 실제가격: 16.80, 예상가격: 17.72, 오차: -0.92\n",
      " 37번째 데이터 >>> 실제가격:  5.60, 예상가격:  4.35, 오차:  1.25\n",
      " 38번째 데이터 >>> 실제가격: 50.00, 예상가격: 24.95, 오차: 25.05\n",
      " 39번째 데이터 >>> 실제가격: 14.50, 예상가격:  9.84, 오차:  4.66\n",
      " 40번째 데이터 >>> 실제가격: 13.30, 예상가격:  7.08, 오차:  6.22\n",
      " 41번째 데이터 >>> 실제가격: 23.90, 예상가격: 23.18, 오차:  0.72\n",
      " 42번째 데이터 >>> 실제가격: 20.00, 예상가격: 19.22, 오차:  0.78\n",
      " 43번째 데이터 >>> 실제가격: 19.80, 예상가격: 17.56, 오차:  2.24\n",
      " 44번째 데이터 >>> 실제가격: 13.80, 예상가격: 10.04, 오차:  3.76\n",
      " 45번째 데이터 >>> 실제가격: 16.50, 예상가격: 20.80, 오차: -4.30\n",
      " 46번째 데이터 >>> 실제가격: 21.60, 예상가격: 21.50, 오차:  0.10\n",
      " 47번째 데이터 >>> 실제가격: 20.30, 예상가격: 16.88, 오차:  3.42\n",
      " 48번째 데이터 >>> 실제가격: 17.00, 예상가격: 18.95, 오차: -1.95\n",
      " 49번째 데이터 >>> 실제가격: 11.80, 예상가격: 11.26, 오차:  0.54\n",
      " 50번째 데이터 >>> 실제가격: 27.50, 예상가격: 22.31, 오차:  5.19\n",
      " 51번째 데이터 >>> 실제가격: 15.60, 예상가격: 16.42, 오차: -0.82\n",
      " 52번째 데이터 >>> 실제가격: 23.10, 예상가격: 18.58, 오차:  4.52\n",
      " 53번째 데이터 >>> 실제가격: 24.30, 예상가격: 20.29, 오차:  4.01\n",
      " 54번째 데이터 >>> 실제가격: 42.80, 예상가격: 28.22, 오차: 14.58\n",
      " 55번째 데이터 >>> 실제가격: 15.60, 예상가격: 12.19, 오차:  3.41\n",
      " 56번째 데이터 >>> 실제가격: 21.70, 예상가격: 18.59, 오차:  3.11\n",
      " 57번째 데이터 >>> 실제가격: 17.10, 예상가격: 18.73, 오차: -1.63\n",
      " 58번째 데이터 >>> 실제가격: 17.20, 예상가격: 14.26, 오차:  2.94\n",
      " 59번째 데이터 >>> 실제가격: 15.00, 예상가격: 16.82, 오차: -1.82\n",
      " 60번째 데이터 >>> 실제가격: 21.70, 예상가격: 18.62, 오차:  3.08\n",
      " 61번째 데이터 >>> 실제가격: 18.60, 예상가격: 20.96, 오차: -2.36\n",
      " 62번째 데이터 >>> 실제가격: 21.00, 예상가격: 19.29, 오차:  1.71\n",
      " 63번째 데이터 >>> 실제가격: 33.10, 예상가격: 28.91, 오차:  4.19\n",
      " 64번째 데이터 >>> 실제가격: 31.50, 예상가격: 28.69, 오차:  2.81\n",
      " 65번째 데이터 >>> 실제가격: 20.10, 예상가격: 11.43, 오차:  8.67\n",
      " 66번째 데이터 >>> 실제가격: 29.80, 예상가격: 29.04, 오차:  0.76\n",
      " 67번째 데이터 >>> 실제가격: 15.20, 예상가격: 12.92, 오차:  2.28\n",
      " 68번째 데이터 >>> 실제가격: 15.00, 예상가격: 14.95, 오차:  0.05\n",
      " 69번째 데이터 >>> 실제가격: 27.50, 예상가격: 11.36, 오차: 16.14\n",
      " 70번째 데이터 >>> 실제가격: 22.60, 예상가격: 21.53, 오차:  1.07\n",
      " 71번째 데이터 >>> 실제가격: 20.00, 예상가격: 17.27, 오차:  2.73\n",
      " 72번째 데이터 >>> 실제가격: 21.40, 예상가격: 21.92, 오차: -0.52\n",
      " 73번째 데이터 >>> 실제가격: 23.50, 예상가격: 27.78, 오차: -4.28\n",
      " 74번째 데이터 >>> 실제가격: 31.20, 예상가격: 27.18, 오차:  4.02\n",
      " 75번째 데이터 >>> 실제가격: 23.70, 예상가격: 20.37, 오차:  3.33\n",
      " 76번째 데이터 >>> 실제가격:  7.40, 예상가격:  2.64, 오차:  4.76\n",
      " 77번째 데이터 >>> 실제가격: 48.30, 예상가격: 28.56, 오차: 19.74\n",
      " 78번째 데이터 >>> 실제가격: 24.40, 예상가격: 20.24, 오차:  4.16\n",
      " 79번째 데이터 >>> 실제가격: 22.60, 예상가격: 22.36, 오차:  0.24\n",
      " 80번째 데이터 >>> 실제가격: 18.30, 예상가격: 19.42, 오차: -1.12\n",
      " 81번째 데이터 >>> 실제가격: 23.30, 예상가격: 23.84, 오차: -0.54\n",
      " 82번째 데이터 >>> 실제가격: 17.10, 예상가격: 16.02, 오차:  1.08\n",
      " 83번째 데이터 >>> 실제가격: 27.90, 예상가격: 18.17, 오차:  9.73\n",
      " 84번째 데이터 >>> 실제가격: 44.80, 예상가격: 29.17, 오차: 15.63\n",
      " 85번째 데이터 >>> 실제가격: 50.00, 예상가격: 29.50, 오차: 20.50\n",
      " 86번째 데이터 >>> 실제가격: 23.00, 예상가격: 23.84, 오차: -0.84\n",
      " 87번째 데이터 >>> 실제가격: 21.40, 예상가격: 19.86, 오차:  1.54\n",
      " 88번째 데이터 >>> 실제가격: 10.20, 예상가격:  4.92, 오차:  5.28\n",
      " 89번째 데이터 >>> 실제가격: 23.30, 예상가격: 28.98, 오차: -5.68\n",
      " 90번째 데이터 >>> 실제가격: 23.20, 예상가격: 12.62, 오차: 10.58\n",
      " 91번째 데이터 >>> 실제가격: 18.90, 예상가격: 23.54, 오차: -4.64\n",
      " 92번째 데이터 >>> 실제가격: 13.40, 예상가격:  7.43, 오차:  5.97\n",
      " 93번째 데이터 >>> 실제가격: 21.90, 예상가격: 21.99, 오차: -0.09\n",
      " 94번째 데이터 >>> 실제가격: 24.80, 예상가격: 25.96, 오차: -1.16\n",
      " 95번째 데이터 >>> 실제가격: 11.90, 예상가격: 20.05, 오차: -8.15\n",
      " 96번째 데이터 >>> 실제가격: 24.30, 예상가격: 20.41, 오차:  3.89\n",
      " 97번째 데이터 >>> 실제가격: 13.80, 예상가격:  2.07, 오차: 11.73\n",
      " 98번째 데이터 >>> 실제가격: 24.70, 예상가격: 23.28, 오차:  1.42\n",
      " 99번째 데이터 >>> 실제가격: 14.10, 예상가격: 10.05, 오차:  4.05\n",
      "100번째 데이터 >>> 실제가격: 18.70, 예상가격: 16.95, 오차:  1.75\n",
      "101번째 데이터 >>> 실제가격: 28.10, 예상가격: 21.96, 오차:  6.14\n",
      "102번째 데이터 >>> 실제가격: 19.80, 예상가격: 19.65, 오차:  0.15\n",
      "103번째 데이터 >>> 실제가격: 26.70, 예상가격: 26.27, 오차:  0.43\n",
      "104번째 데이터 >>> 실제가격: 21.70, 예상가격: 19.92, 오차:  1.78\n",
      "105번째 데이터 >>> 실제가격: 22.00, 예상가격: 21.60, 오차:  0.40\n",
      "106번째 데이터 >>> 실제가격: 22.90, 예상가격: 19.84, 오차:  3.06\n",
      "107번째 데이터 >>> 실제가격: 10.40, 예상가격:  4.19, 오차:  6.21\n",
      "108번째 데이터 >>> 실제가격: 21.90, 예상가격: 15.01, 오차:  6.89\n",
      "109번째 데이터 >>> 실제가격: 20.60, 예상가격: 19.80, 오차:  0.80\n",
      "110번째 데이터 >>> 실제가격: 26.40, 예상가격: 25.25, 오차:  1.15\n",
      "111번째 데이터 >>> 실제가격: 41.30, 예상가격: 33.46, 오차:  7.84\n",
      "112번째 데이터 >>> 실제가격: 17.20, 예상가격:  5.69, 오차: 11.51\n",
      "113번째 데이터 >>> 실제가격: 27.10, 예상가격: 15.64, 오차: 11.46\n",
      "114번째 데이터 >>> 실제가격: 20.40, 예상가격: 12.77, 오차:  7.63\n",
      "115번째 데이터 >>> 실제가격: 16.50, 예상가격: 10.21, 오차:  6.29\n",
      "116번째 데이터 >>> 실제가격: 24.40, 예상가격: 19.82, 오차:  4.58\n",
      "117번째 데이터 >>> 실제가격:  8.40, 예상가격:  1.81, 오차:  6.59\n",
      "118번째 데이터 >>> 실제가격: 23.00, 예상가격: 20.33, 오차:  2.67\n",
      "119번째 데이터 >>> 실제가격:  9.70, 예상가격:  7.27, 오차:  2.43\n",
      "120번째 데이터 >>> 실제가격: 50.00, 예상가격: 45.73, 오차:  4.27\n",
      "121번째 데이터 >>> 실제가격: 30.50, 예상가격: 28.07, 오차:  2.43\n",
      "122번째 데이터 >>> 실제가격: 12.30, 예상가격:  9.66, 오차:  2.64\n",
      "123번째 데이터 >>> 실제가격: 19.40, 예상가격: 16.61, 오차:  2.79\n",
      "124번째 데이터 >>> 실제가격: 21.20, 예상가격: 21.15, 오차:  0.05\n",
      "125번째 데이터 >>> 실제가격: 20.30, 예상가격: 20.74, 오차: -0.44\n",
      "126번째 데이터 >>> 실제가격: 18.80, 예상가격: 19.34, 오차: -0.54\n",
      "127번째 데이터 >>> 실제가격: 33.40, 예상가격: 38.36, 오차: -4.96\n",
      "128번째 데이터 >>> 실제가격: 18.50, 예상가격: 13.50, 오차:  5.00\n",
      "129번째 데이터 >>> 실제가격: 19.60, 예상가격: 20.68, 오차: -1.08\n",
      "130번째 데이터 >>> 실제가격: 33.20, 예상가격: 30.10, 오차:  3.10\n",
      "131번째 데이터 >>> 실제가격: 13.10, 예상가격: 13.87, 오차: -0.77\n",
      "132번째 데이터 >>> 실제가격:  7.50, 예상가격:  5.74, 오차:  1.76\n",
      "133번째 데이터 >>> 실제가격: 13.60, 예상가격: 14.95, 오차: -1.35\n",
      "134번째 데이터 >>> 실제가격: 17.40, 예상가격: 15.55, 오차:  1.85\n",
      "135번째 데이터 >>> 실제가격:  8.40, 예상가격:  3.77, 오차:  4.63\n",
      "136번째 데이터 >>> 실제가격: 35.40, 예상가격: 34.30, 오차:  1.10\n",
      "137번째 데이터 >>> 실제가격: 24.00, 예상가격: 21.16, 오차:  2.84\n",
      "138번째 데이터 >>> 실제가격: 13.40, 예상가격: 15.46, 오차: -2.06\n",
      "139번째 데이터 >>> 실제가격: 26.20, 예상가격: 24.24, 오차:  1.96\n",
      "140번째 데이터 >>> 실제가격:  7.20, 예상가격:  5.79, 오차:  1.41\n",
      "141번째 데이터 >>> 실제가격: 13.10, 예상가격:  5.72, 오차:  7.38\n",
      "142번째 데이터 >>> 실제가격: 24.50, 예상가격: 21.66, 오차:  2.84\n",
      "143번째 데이터 >>> 실제가격: 37.20, 예상가격: 38.03, 오차: -0.83\n",
      "144번째 데이터 >>> 실제가격: 25.00, 예상가격: 25.00, 오차:  0.00\n",
      "145번째 데이터 >>> 실제가격: 24.10, 예상가격: 26.14, 오차: -2.04\n",
      "146번째 데이터 >>> 실제가격: 16.60, 예상가격: 14.41, 오차:  2.19\n",
      "147번째 데이터 >>> 실제가격: 32.90, 예상가격: 27.98, 오차:  4.92\n",
      "148번째 데이터 >>> 실제가격: 36.20, 예상가격: 29.41, 오차:  6.79\n",
      "149번째 데이터 >>> 실제가격: 11.00, 예상가격:  4.93, 오차:  6.07\n",
      "150번째 데이터 >>> 실제가격:  7.20, 예상가격:  5.05, 오차:  2.15\n",
      "151번째 데이터 >>> 실제가격: 22.80, 예상가격: 25.87, 오차: -3.07\n",
      "152번째 데이터 >>> 실제가격: 28.70, 예상가격: 28.12, 오차:  0.58\n"
     ]
    }
   ],
   "source": [
    "for i in range(len(Y_test)):\n",
    "    label = Y_test[i]\n",
    "    prediction = Y_prediction[i]\n",
    "    print(f'{i+1:3d}번째 데이터 >>> 실제가격: {label:5.2f}, 예상가격: {prediction:5.2f}, 오차: {label-prediction:5.2f}')"
   ]
  },
  {
   "cell_type": "code",
   "execution_count": null,
   "metadata": {},
   "outputs": [],
   "source": []
  },
  {
   "cell_type": "code",
   "execution_count": null,
   "metadata": {},
   "outputs": [],
   "source": []
  },
  {
   "cell_type": "code",
   "execution_count": null,
   "metadata": {},
   "outputs": [],
   "source": []
  },
  {
   "cell_type": "code",
   "execution_count": null,
   "metadata": {},
   "outputs": [],
   "source": []
  },
  {
   "cell_type": "code",
   "execution_count": null,
   "metadata": {},
   "outputs": [],
   "source": []
  },
  {
   "cell_type": "code",
   "execution_count": null,
   "metadata": {},
   "outputs": [],
   "source": []
  },
  {
   "cell_type": "code",
   "execution_count": null,
   "metadata": {},
   "outputs": [],
   "source": []
  }
 ],
 "metadata": {
  "kernelspec": {
   "display_name": "Python 3",
   "language": "python",
   "name": "python3"
  },
  "language_info": {
   "codemirror_mode": {
    "name": "ipython",
    "version": 3
   },
   "file_extension": ".py",
   "mimetype": "text/x-python",
   "name": "python",
   "nbconvert_exporter": "python",
   "pygments_lexer": "ipython3",
   "version": "3.8.5"
  }
 },
 "nbformat": 4,
 "nbformat_minor": 4
}
