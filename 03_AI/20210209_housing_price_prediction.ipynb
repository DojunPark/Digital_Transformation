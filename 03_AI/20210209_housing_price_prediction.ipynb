{
 "cells": [
  {
   "cell_type": "code",
   "execution_count": 1,
   "metadata": {},
   "outputs": [
    {
     "data": {
      "text/plain": [
       "'c:\\\\edu\\\\03_AI\\\\deeplearning\\\\practice'"
      ]
     },
     "execution_count": 1,
     "metadata": {},
     "output_type": "execute_result"
    }
   ],
   "source": [
    "pwd"
   ]
  },
  {
   "cell_type": "code",
   "execution_count": 5,
   "metadata": {},
   "outputs": [
    {
     "name": "stdout",
     "output_type": "stream",
     "text": [
      " C 드라이브의 볼륨: Windows-SSD\n",
      " 볼륨 일련 번호: 5CAF-2C76\n",
      "\n",
      " c:\\edu\\03_AI\\deeplearning 디렉터리\n",
      "\n",
      "2021-02-09  오후 03:32    <DIR>          .\n",
      "2021-02-09  오후 03:32    <DIR>          ..\n",
      "2021-02-09  오전 10:27    <DIR>          .idea\n",
      "2021-02-09  오후 03:32    <DIR>          .ipynb_checkpoints\n",
      "2021-02-09  오전 10:27    <DIR>          colab\n",
      "2021-02-09  오전 10:27    <DIR>          dataset\n",
      "2021-02-09  오후 03:31    <DIR>          deeplearning_class\n",
      "2021-02-09  오후 03:33    <DIR>          practice\n",
      "2021-02-09  오후 03:31    <DIR>          run_project\n",
      "               0개 파일                   0 바이트\n",
      "               9개 디렉터리  368,095,535,104 바이트 남음\n"
     ]
    }
   ],
   "source": [
    "ls .."
   ]
  },
  {
   "cell_type": "markdown",
   "metadata": {},
   "source": [
    "# 데이터 불러오기"
   ]
  },
  {
   "cell_type": "code",
   "execution_count": 3,
   "metadata": {},
   "outputs": [],
   "source": [
    "import pandas as pd\n",
    "\n",
    "df = pd.read_csv('./deeplearning/dataset/housing.csv', delim_whitespace=True, header=None)"
   ]
  },
  {
   "cell_type": "code",
   "execution_count": 4,
   "metadata": {},
   "outputs": [
    {
     "data": {
      "text/html": [
       "<div>\n",
       "<style scoped>\n",
       "    .dataframe tbody tr th:only-of-type {\n",
       "        vertical-align: middle;\n",
       "    }\n",
       "\n",
       "    .dataframe tbody tr th {\n",
       "        vertical-align: top;\n",
       "    }\n",
       "\n",
       "    .dataframe thead th {\n",
       "        text-align: right;\n",
       "    }\n",
       "</style>\n",
       "<table border=\"1\" class=\"dataframe\">\n",
       "  <thead>\n",
       "    <tr style=\"text-align: right;\">\n",
       "      <th></th>\n",
       "      <th>0</th>\n",
       "      <th>1</th>\n",
       "      <th>2</th>\n",
       "      <th>3</th>\n",
       "      <th>4</th>\n",
       "      <th>5</th>\n",
       "      <th>6</th>\n",
       "      <th>7</th>\n",
       "      <th>8</th>\n",
       "      <th>9</th>\n",
       "      <th>10</th>\n",
       "      <th>11</th>\n",
       "      <th>12</th>\n",
       "      <th>13</th>\n",
       "    </tr>\n",
       "  </thead>\n",
       "  <tbody>\n",
       "    <tr>\n",
       "      <th>0</th>\n",
       "      <td>0.00632</td>\n",
       "      <td>18.0</td>\n",
       "      <td>2.31</td>\n",
       "      <td>0</td>\n",
       "      <td>0.538</td>\n",
       "      <td>6.575</td>\n",
       "      <td>65.2</td>\n",
       "      <td>4.0900</td>\n",
       "      <td>1</td>\n",
       "      <td>296.0</td>\n",
       "      <td>15.3</td>\n",
       "      <td>396.90</td>\n",
       "      <td>4.98</td>\n",
       "      <td>24.0</td>\n",
       "    </tr>\n",
       "    <tr>\n",
       "      <th>1</th>\n",
       "      <td>0.02731</td>\n",
       "      <td>0.0</td>\n",
       "      <td>7.07</td>\n",
       "      <td>0</td>\n",
       "      <td>0.469</td>\n",
       "      <td>6.421</td>\n",
       "      <td>78.9</td>\n",
       "      <td>4.9671</td>\n",
       "      <td>2</td>\n",
       "      <td>242.0</td>\n",
       "      <td>17.8</td>\n",
       "      <td>396.90</td>\n",
       "      <td>9.14</td>\n",
       "      <td>21.6</td>\n",
       "    </tr>\n",
       "    <tr>\n",
       "      <th>2</th>\n",
       "      <td>0.02729</td>\n",
       "      <td>0.0</td>\n",
       "      <td>7.07</td>\n",
       "      <td>0</td>\n",
       "      <td>0.469</td>\n",
       "      <td>7.185</td>\n",
       "      <td>61.1</td>\n",
       "      <td>4.9671</td>\n",
       "      <td>2</td>\n",
       "      <td>242.0</td>\n",
       "      <td>17.8</td>\n",
       "      <td>392.83</td>\n",
       "      <td>4.03</td>\n",
       "      <td>34.7</td>\n",
       "    </tr>\n",
       "    <tr>\n",
       "      <th>3</th>\n",
       "      <td>0.03237</td>\n",
       "      <td>0.0</td>\n",
       "      <td>2.18</td>\n",
       "      <td>0</td>\n",
       "      <td>0.458</td>\n",
       "      <td>6.998</td>\n",
       "      <td>45.8</td>\n",
       "      <td>6.0622</td>\n",
       "      <td>3</td>\n",
       "      <td>222.0</td>\n",
       "      <td>18.7</td>\n",
       "      <td>394.63</td>\n",
       "      <td>2.94</td>\n",
       "      <td>33.4</td>\n",
       "    </tr>\n",
       "    <tr>\n",
       "      <th>4</th>\n",
       "      <td>0.06905</td>\n",
       "      <td>0.0</td>\n",
       "      <td>2.18</td>\n",
       "      <td>0</td>\n",
       "      <td>0.458</td>\n",
       "      <td>7.147</td>\n",
       "      <td>54.2</td>\n",
       "      <td>6.0622</td>\n",
       "      <td>3</td>\n",
       "      <td>222.0</td>\n",
       "      <td>18.7</td>\n",
       "      <td>396.90</td>\n",
       "      <td>5.33</td>\n",
       "      <td>36.2</td>\n",
       "    </tr>\n",
       "  </tbody>\n",
       "</table>\n",
       "</div>"
      ],
      "text/plain": [
       "        0     1     2   3      4      5     6       7   8      9     10  \\\n",
       "0  0.00632  18.0  2.31   0  0.538  6.575  65.2  4.0900   1  296.0  15.3   \n",
       "1  0.02731   0.0  7.07   0  0.469  6.421  78.9  4.9671   2  242.0  17.8   \n",
       "2  0.02729   0.0  7.07   0  0.469  7.185  61.1  4.9671   2  242.0  17.8   \n",
       "3  0.03237   0.0  2.18   0  0.458  6.998  45.8  6.0622   3  222.0  18.7   \n",
       "4  0.06905   0.0  2.18   0  0.458  7.147  54.2  6.0622   3  222.0  18.7   \n",
       "\n",
       "       11    12    13  \n",
       "0  396.90  4.98  24.0  \n",
       "1  396.90  9.14  21.6  \n",
       "2  392.83  4.03  34.7  \n",
       "3  394.63  2.94  33.4  \n",
       "4  396.90  5.33  36.2  "
      ]
     },
     "execution_count": 4,
     "metadata": {},
     "output_type": "execute_result"
    }
   ],
   "source": [
    "df.head()"
   ]
  },
  {
   "cell_type": "code",
   "execution_count": 5,
   "metadata": {},
   "outputs": [
    {
     "name": "stdout",
     "output_type": "stream",
     "text": [
      "<class 'pandas.core.frame.DataFrame'>\n",
      "RangeIndex: 506 entries, 0 to 505\n",
      "Data columns (total 14 columns):\n",
      " #   Column  Non-Null Count  Dtype  \n",
      "---  ------  --------------  -----  \n",
      " 0   0       506 non-null    float64\n",
      " 1   1       506 non-null    float64\n",
      " 2   2       506 non-null    float64\n",
      " 3   3       506 non-null    int64  \n",
      " 4   4       506 non-null    float64\n",
      " 5   5       506 non-null    float64\n",
      " 6   6       506 non-null    float64\n",
      " 7   7       506 non-null    float64\n",
      " 8   8       506 non-null    int64  \n",
      " 9   9       506 non-null    float64\n",
      " 10  10      506 non-null    float64\n",
      " 11  11      506 non-null    float64\n",
      " 12  12      506 non-null    float64\n",
      " 13  13      506 non-null    float64\n",
      "dtypes: float64(12), int64(2)\n",
      "memory usage: 55.5 KB\n"
     ]
    }
   ],
   "source": [
    "df.info()"
   ]
  },
  {
   "cell_type": "markdown",
   "metadata": {},
   "source": [
    "# 기본 설정"
   ]
  },
  {
   "cell_type": "code",
   "execution_count": 6,
   "metadata": {},
   "outputs": [],
   "source": [
    "from tensorflow.keras.models import Sequential\n",
    "from tensorflow.keras.layers import Dense\n",
    "from sklearn.model_selection import train_test_split\n",
    "import numpy as np\n",
    "import pandas as pd\n",
    "import tensorflow as tf\n",
    "\n",
    "# seed값 설정\n",
    "seed = 0\n",
    "np.random.seed(seed)\n",
    "tf.random.set_seed(seed)"
   ]
  },
  {
   "cell_type": "markdown",
   "metadata": {},
   "source": [
    "# 데이터 분할"
   ]
  },
  {
   "cell_type": "code",
   "execution_count": 8,
   "metadata": {},
   "outputs": [],
   "source": [
    "# 원본 데이터\n",
    "dataset = df.values\n",
    "X = dataset[:, :-1]\n",
    "Y = dataset[:, -1]"
   ]
  },
  {
   "cell_type": "markdown",
   "metadata": {},
   "source": [
    "# 표준화"
   ]
  },
  {
   "cell_type": "code",
   "execution_count": 11,
   "metadata": {},
   "outputs": [],
   "source": [
    "from sklearn.preprocessing import StandardScaler\n",
    "\n",
    "dataset = df.values\n",
    "tmp = dataset[:, :-1]\n",
    "\n",
    "\n",
    "scaler = StandardScaler()\n",
    "scaler.fit(tmp)\n",
    "scaled1 = scaler.transform(tmp)"
   ]
  },
  {
   "cell_type": "code",
   "execution_count": 12,
   "metadata": {},
   "outputs": [],
   "source": [
    "X = scaled1\n",
    "Y = dataset[:, -1]"
   ]
  },
  {
   "cell_type": "markdown",
   "metadata": {},
   "source": [
    "# 정규화"
   ]
  },
  {
   "cell_type": "code",
   "execution_count": 17,
   "metadata": {},
   "outputs": [],
   "source": [
    "from sklearn.preprocessing import MinMaxScaler\n",
    "\n",
    "dataset = df.values\n",
    "tmp = dataset[:, :-1]\n",
    "\n",
    "scaler = MinMaxScaler()\n",
    "scaler.fit(tmp)\n",
    "scaled2 = scaler.transform(tmp)"
   ]
  },
  {
   "cell_type": "code",
   "execution_count": 18,
   "metadata": {},
   "outputs": [],
   "source": [
    "X = scaled2\n",
    "Y = dataset[:, -1]"
   ]
  },
  {
   "cell_type": "markdown",
   "metadata": {},
   "source": [
    "# 데이터 확인"
   ]
  },
  {
   "cell_type": "code",
   "execution_count": 19,
   "metadata": {},
   "outputs": [
    {
     "name": "stdout",
     "output_type": "stream",
     "text": [
      "(506, 14)\n",
      "(506, 13)\n",
      "(506,)\n"
     ]
    }
   ],
   "source": [
    "print(dataset.shape)\n",
    "print(X.shape)\n",
    "print(Y.shape)"
   ]
  },
  {
   "cell_type": "code",
   "execution_count": 20,
   "metadata": {},
   "outputs": [],
   "source": [
    "X_train, X_test, Y_train, Y_test = train_test_split(X, Y, test_size = 0.3, random_state=seed)"
   ]
  },
  {
   "cell_type": "code",
   "execution_count": 21,
   "metadata": {},
   "outputs": [
    {
     "name": "stdout",
     "output_type": "stream",
     "text": [
      "354\n",
      "152\n",
      "354\n",
      "152\n",
      "0.6996047430830039\n"
     ]
    }
   ],
   "source": [
    "print(len(X_train))\n",
    "print(len(X_test))\n",
    "print(len(Y_train))\n",
    "print(len(Y_test))\n",
    "print(len(X_train)/(len(X_train)+len(X_test)))  # 비율"
   ]
  },
  {
   "cell_type": "markdown",
   "metadata": {},
   "source": [
    "# early stopping"
   ]
  },
  {
   "cell_type": "code",
   "execution_count": 212,
   "metadata": {},
   "outputs": [],
   "source": [
    "from tensorflow.keras.callbacks import EarlyStopping\n",
    "\n",
    "early_stopping_call_back = EarlyStopping(monitor='val_loss', patience=5)"
   ]
  },
  {
   "cell_type": "markdown",
   "metadata": {},
   "source": [
    "# 모델링"
   ]
  },
  {
   "cell_type": "code",
   "execution_count": 9,
   "metadata": {},
   "outputs": [],
   "source": [
    "model = Sequential()\n",
    "model.add(Dense(30, input_dim = 13, activation = 'relu'))\n",
    "model.add(Dense(6, activation = 'relu'))\n",
    "model.add(Dense(1))\n",
    "model.compile(loss = 'mean_squared_error', optimizer = 'adam', metrics=['acc']) "
   ]
  },
  {
   "cell_type": "code",
   "execution_count": 16,
   "metadata": {},
   "outputs": [],
   "source": [
    "model1 = Sequential()\n",
    "model1.add(Dense(30, input_dim = 13, activation = 'relu'))\n",
    "model1.add(Dense(6, activation = 'relu'))\n",
    "model1.add(Dense(1))\n",
    "model1.compile(loss = 'mean_squared_error', optimizer = 'adam', metrics=['acc']) "
   ]
  },
  {
   "cell_type": "code",
   "execution_count": 22,
   "metadata": {},
   "outputs": [],
   "source": [
    "model2 = Sequential()\n",
    "model2.add(Dense(30, input_dim = 13, activation = 'relu'))\n",
    "model2.add(Dense(6, activation = 'relu'))\n",
    "model2.add(Dense(1))\n",
    "model2.compile(loss = 'mean_squared_error', optimizer = 'adam', metrics=['acc']) "
   ]
  },
  {
   "cell_type": "markdown",
   "metadata": {},
   "source": [
    "# 모델 학습"
   ]
  },
  {
   "cell_type": "code",
   "execution_count": 23,
   "metadata": {
    "scrolled": true
   },
   "outputs": [
    {
     "name": "stdout",
     "output_type": "stream",
     "text": [
      "Epoch 1/100\n",
      "29/29 [==============================] - 1s 21ms/step - loss: 634.5494 - acc: 0.0000e+00 - val_loss: 566.0595 - val_acc: 0.0000e+00\n",
      "Epoch 2/100\n",
      "29/29 [==============================] - 0s 2ms/step - loss: 602.1244 - acc: 0.0000e+00 - val_loss: 546.3507 - val_acc: 0.0000e+00\n",
      "Epoch 3/100\n",
      "29/29 [==============================] - 0s 2ms/step - loss: 586.5552 - acc: 0.0000e+00 - val_loss: 519.5414 - val_acc: 0.0000e+00\n",
      "Epoch 4/100\n",
      "29/29 [==============================] - 0s 2ms/step - loss: 531.4351 - acc: 0.0000e+00 - val_loss: 480.2762 - val_acc: 0.0000e+00\n",
      "Epoch 5/100\n",
      "29/29 [==============================] - 0s 2ms/step - loss: 491.8930 - acc: 0.0000e+00 - val_loss: 426.0000 - val_acc: 0.0000e+00\n",
      "Epoch 6/100\n",
      "29/29 [==============================] - 0s 2ms/step - loss: 427.7913 - acc: 0.0000e+00 - val_loss: 358.8429 - val_acc: 0.0000e+00\n",
      "Epoch 7/100\n",
      "29/29 [==============================] - 0s 2ms/step - loss: 324.7463 - acc: 0.0000e+00 - val_loss: 284.9374 - val_acc: 0.0000e+00\n",
      "Epoch 8/100\n",
      "29/29 [==============================] - 0s 2ms/step - loss: 304.9247 - acc: 0.0000e+00 - val_loss: 214.1427 - val_acc: 0.0000e+00\n",
      "Epoch 9/100\n",
      "29/29 [==============================] - 0s 2ms/step - loss: 245.4796 - acc: 0.0000e+00 - val_loss: 162.9971 - val_acc: 0.0000e+00\n",
      "Epoch 10/100\n",
      "29/29 [==============================] - 0s 2ms/step - loss: 144.2739 - acc: 0.0000e+00 - val_loss: 135.7171 - val_acc: 0.0000e+00\n",
      "Epoch 11/100\n",
      "29/29 [==============================] - 0s 2ms/step - loss: 164.6410 - acc: 0.0000e+00 - val_loss: 122.2855 - val_acc: 0.0000e+00\n",
      "Epoch 12/100\n",
      "29/29 [==============================] - 0s 2ms/step - loss: 127.0943 - acc: 0.0000e+00 - val_loss: 115.4152 - val_acc: 0.0000e+00\n",
      "Epoch 13/100\n",
      "29/29 [==============================] - 0s 2ms/step - loss: 120.1775 - acc: 0.0000e+00 - val_loss: 109.1091 - val_acc: 0.0000e+00\n",
      "Epoch 14/100\n",
      "29/29 [==============================] - 0s 2ms/step - loss: 114.6307 - acc: 0.0000e+00 - val_loss: 102.3992 - val_acc: 0.0000e+00\n",
      "Epoch 15/100\n",
      "29/29 [==============================] - 0s 2ms/step - loss: 110.1205 - acc: 0.0000e+00 - val_loss: 95.9848 - val_acc: 0.0000e+00\n",
      "Epoch 16/100\n",
      "29/29 [==============================] - 0s 2ms/step - loss: 119.9183 - acc: 0.0000e+00 - val_loss: 90.0736 - val_acc: 0.0000e+00\n",
      "Epoch 17/100\n",
      "29/29 [==============================] - 0s 2ms/step - loss: 103.7652 - acc: 0.0000e+00 - val_loss: 83.8548 - val_acc: 0.0000e+00\n",
      "Epoch 18/100\n",
      "29/29 [==============================] - 0s 2ms/step - loss: 86.4728 - acc: 0.0000e+00 - val_loss: 78.2027 - val_acc: 0.0000e+00\n",
      "Epoch 19/100\n",
      "29/29 [==============================] - 0s 2ms/step - loss: 90.7611 - acc: 0.0000e+00 - val_loss: 73.0729 - val_acc: 0.0000e+00\n",
      "Epoch 20/100\n",
      "29/29 [==============================] - 0s 2ms/step - loss: 80.7112 - acc: 0.0000e+00 - val_loss: 68.1612 - val_acc: 0.0000e+00\n",
      "Epoch 21/100\n",
      "29/29 [==============================] - 0s 2ms/step - loss: 74.0870 - acc: 0.0000e+00 - val_loss: 63.3704 - val_acc: 0.0000e+00\n",
      "Epoch 22/100\n",
      "29/29 [==============================] - 0s 2ms/step - loss: 69.0014 - acc: 0.0000e+00 - val_loss: 59.5336 - val_acc: 0.0000e+00\n",
      "Epoch 23/100\n",
      "29/29 [==============================] - 0s 2ms/step - loss: 62.4171 - acc: 0.0000e+00 - val_loss: 55.6838 - val_acc: 0.0000e+00\n",
      "Epoch 24/100\n",
      "29/29 [==============================] - 0s 2ms/step - loss: 63.2665 - acc: 0.0000e+00 - val_loss: 51.8913 - val_acc: 0.0000e+00\n",
      "Epoch 25/100\n",
      "29/29 [==============================] - 0s 2ms/step - loss: 70.6833 - acc: 0.0000e+00 - val_loss: 48.7843 - val_acc: 0.0000e+00\n",
      "Epoch 26/100\n",
      "29/29 [==============================] - 0s 2ms/step - loss: 56.3334 - acc: 0.0000e+00 - val_loss: 46.0156 - val_acc: 0.0000e+00\n",
      "Epoch 27/100\n",
      "29/29 [==============================] - 0s 2ms/step - loss: 54.5549 - acc: 0.0000e+00 - val_loss: 44.2448 - val_acc: 0.0000e+00\n",
      "Epoch 28/100\n",
      "29/29 [==============================] - 0s 2ms/step - loss: 42.8673 - acc: 0.0000e+00 - val_loss: 42.1073 - val_acc: 0.0000e+00\n",
      "Epoch 29/100\n",
      "29/29 [==============================] - 0s 2ms/step - loss: 49.0502 - acc: 0.0000e+00 - val_loss: 40.4612 - val_acc: 0.0000e+00\n",
      "Epoch 30/100\n",
      "29/29 [==============================] - 0s 2ms/step - loss: 44.1115 - acc: 0.0000e+00 - val_loss: 39.3252 - val_acc: 0.0000e+00\n",
      "Epoch 31/100\n",
      "29/29 [==============================] - 0s 2ms/step - loss: 55.3734 - acc: 0.0000e+00 - val_loss: 37.7696 - val_acc: 0.0000e+00\n",
      "Epoch 32/100\n",
      "29/29 [==============================] - 0s 2ms/step - loss: 40.6601 - acc: 0.0000e+00 - val_loss: 36.8033 - val_acc: 0.0000e+00\n",
      "Epoch 33/100\n",
      "29/29 [==============================] - 0s 2ms/step - loss: 42.6394 - acc: 0.0000e+00 - val_loss: 36.1826 - val_acc: 0.0000e+00\n",
      "Epoch 34/100\n",
      "29/29 [==============================] - 0s 2ms/step - loss: 43.2197 - acc: 0.0000e+00 - val_loss: 34.7049 - val_acc: 0.0000e+00\n",
      "Epoch 35/100\n",
      "29/29 [==============================] - 0s 2ms/step - loss: 45.7669 - acc: 0.0000e+00 - val_loss: 34.2530 - val_acc: 0.0000e+00\n",
      "Epoch 36/100\n",
      "29/29 [==============================] - 0s 2ms/step - loss: 54.3326 - acc: 0.0000e+00 - val_loss: 33.0083 - val_acc: 0.0000e+00\n",
      "Epoch 37/100\n",
      "29/29 [==============================] - 0s 2ms/step - loss: 46.9265 - acc: 0.0000e+00 - val_loss: 32.1882 - val_acc: 0.0000e+00\n",
      "Epoch 38/100\n",
      "29/29 [==============================] - 0s 2ms/step - loss: 41.6604 - acc: 0.0000e+00 - val_loss: 31.4381 - val_acc: 0.0000e+00\n",
      "Epoch 39/100\n",
      "29/29 [==============================] - 0s 2ms/step - loss: 39.2595 - acc: 0.0000e+00 - val_loss: 30.9511 - val_acc: 0.0000e+00\n",
      "Epoch 40/100\n",
      "29/29 [==============================] - 0s 2ms/step - loss: 39.5299 - acc: 0.0000e+00 - val_loss: 29.7959 - val_acc: 0.0000e+00\n",
      "Epoch 41/100\n",
      "29/29 [==============================] - 0s 2ms/step - loss: 50.2519 - acc: 0.0000e+00 - val_loss: 28.8898 - val_acc: 0.0000e+00\n",
      "Epoch 42/100\n",
      "29/29 [==============================] - 0s 2ms/step - loss: 33.9439 - acc: 0.0000e+00 - val_loss: 28.2437 - val_acc: 0.0000e+00\n",
      "Epoch 43/100\n",
      "29/29 [==============================] - 0s 2ms/step - loss: 31.8555 - acc: 0.0000e+00 - val_loss: 27.7928 - val_acc: 0.0000e+00\n",
      "Epoch 44/100\n",
      "29/29 [==============================] - 0s 2ms/step - loss: 43.9312 - acc: 0.0000e+00 - val_loss: 26.9013 - val_acc: 0.0000e+00\n",
      "Epoch 45/100\n",
      "29/29 [==============================] - 0s 2ms/step - loss: 30.8887 - acc: 0.0000e+00 - val_loss: 26.4191 - val_acc: 0.0000e+00\n",
      "Epoch 46/100\n",
      "29/29 [==============================] - 0s 2ms/step - loss: 34.5748 - acc: 0.0000e+00 - val_loss: 25.4797 - val_acc: 0.0000e+00\n",
      "Epoch 47/100\n",
      "29/29 [==============================] - 0s 2ms/step - loss: 30.2399 - acc: 0.0000e+00 - val_loss: 25.1086 - val_acc: 0.0000e+00\n",
      "Epoch 48/100\n",
      "29/29 [==============================] - 0s 2ms/step - loss: 29.5248 - acc: 0.0000e+00 - val_loss: 24.3490 - val_acc: 0.0000e+00\n",
      "Epoch 49/100\n",
      "29/29 [==============================] - 0s 2ms/step - loss: 30.0783 - acc: 0.0000e+00 - val_loss: 23.7216 - val_acc: 0.0000e+00\n",
      "Epoch 50/100\n",
      "29/29 [==============================] - 0s 2ms/step - loss: 30.7775 - acc: 0.0000e+00 - val_loss: 23.2776 - val_acc: 0.0000e+00\n",
      "Epoch 51/100\n",
      "29/29 [==============================] - 0s 2ms/step - loss: 22.6194 - acc: 0.0000e+00 - val_loss: 22.9168 - val_acc: 0.0000e+00\n",
      "Epoch 52/100\n",
      "29/29 [==============================] - 0s 2ms/step - loss: 29.8693 - acc: 0.0000e+00 - val_loss: 22.0792 - val_acc: 0.0000e+00\n",
      "Epoch 53/100\n",
      "29/29 [==============================] - 0s 2ms/step - loss: 27.5643 - acc: 0.0000e+00 - val_loss: 21.7429 - val_acc: 0.0000e+00\n",
      "Epoch 54/100\n",
      "29/29 [==============================] - 0s 2ms/step - loss: 29.2304 - acc: 0.0000e+00 - val_loss: 21.1392 - val_acc: 0.0000e+00\n",
      "Epoch 55/100\n",
      "29/29 [==============================] - 0s 2ms/step - loss: 20.8457 - acc: 0.0000e+00 - val_loss: 21.1963 - val_acc: 0.0000e+00\n",
      "Epoch 56/100\n",
      "29/29 [==============================] - 0s 2ms/step - loss: 24.5533 - acc: 0.0000e+00 - val_loss: 20.3511 - val_acc: 0.0000e+00\n",
      "Epoch 57/100\n",
      "29/29 [==============================] - 0s 2ms/step - loss: 28.6516 - acc: 0.0000e+00 - val_loss: 20.1595 - val_acc: 0.0000e+00\n",
      "Epoch 58/100\n"
     ]
    },
    {
     "name": "stdout",
     "output_type": "stream",
     "text": [
      "29/29 [==============================] - 0s 2ms/step - loss: 22.5895 - acc: 0.0000e+00 - val_loss: 19.7446 - val_acc: 0.0000e+00\n",
      "Epoch 59/100\n",
      "29/29 [==============================] - 0s 2ms/step - loss: 24.9146 - acc: 0.0000e+00 - val_loss: 19.3381 - val_acc: 0.0000e+00\n",
      "Epoch 60/100\n",
      "29/29 [==============================] - 0s 2ms/step - loss: 39.8673 - acc: 0.0000e+00 - val_loss: 19.1878 - val_acc: 0.0000e+00\n",
      "Epoch 61/100\n",
      "29/29 [==============================] - 0s 2ms/step - loss: 30.9200 - acc: 0.0000e+00 - val_loss: 19.1179 - val_acc: 0.0000e+00\n",
      "Epoch 62/100\n",
      "29/29 [==============================] - 0s 2ms/step - loss: 28.9796 - acc: 0.0000e+00 - val_loss: 18.7361 - val_acc: 0.0000e+00\n",
      "Epoch 63/100\n",
      "29/29 [==============================] - 0s 2ms/step - loss: 29.1977 - acc: 0.0000e+00 - val_loss: 18.7644 - val_acc: 0.0000e+00\n",
      "Epoch 64/100\n",
      "29/29 [==============================] - 0s 2ms/step - loss: 26.1939 - acc: 0.0000e+00 - val_loss: 18.2934 - val_acc: 0.0000e+00\n",
      "Epoch 65/100\n",
      "29/29 [==============================] - 0s 2ms/step - loss: 28.1287 - acc: 0.0000e+00 - val_loss: 18.0729 - val_acc: 0.0000e+00\n",
      "Epoch 66/100\n",
      "29/29 [==============================] - 0s 2ms/step - loss: 22.9146 - acc: 0.0000e+00 - val_loss: 18.3657 - val_acc: 0.0000e+00\n",
      "Epoch 67/100\n",
      "29/29 [==============================] - 0s 2ms/step - loss: 27.1245 - acc: 0.0000e+00 - val_loss: 17.7227 - val_acc: 0.0000e+00\n",
      "Epoch 68/100\n",
      "29/29 [==============================] - 0s 2ms/step - loss: 23.1161 - acc: 0.0000e+00 - val_loss: 17.5189 - val_acc: 0.0000e+00\n",
      "Epoch 69/100\n",
      "29/29 [==============================] - 0s 2ms/step - loss: 23.4164 - acc: 0.0000e+00 - val_loss: 17.6886 - val_acc: 0.0000e+00\n",
      "Epoch 70/100\n",
      "29/29 [==============================] - 0s 2ms/step - loss: 26.5026 - acc: 0.0000e+00 - val_loss: 17.2744 - val_acc: 0.0000e+00\n",
      "Epoch 71/100\n",
      "29/29 [==============================] - 0s 2ms/step - loss: 24.4431 - acc: 0.0000e+00 - val_loss: 17.3765 - val_acc: 0.0000e+00\n",
      "Epoch 72/100\n",
      "29/29 [==============================] - 0s 2ms/step - loss: 19.5639 - acc: 0.0000e+00 - val_loss: 16.9785 - val_acc: 0.0000e+00\n",
      "Epoch 73/100\n",
      "29/29 [==============================] - 0s 2ms/step - loss: 22.8764 - acc: 0.0000e+00 - val_loss: 16.7191 - val_acc: 0.0000e+00\n",
      "Epoch 74/100\n",
      "29/29 [==============================] - 0s 2ms/step - loss: 34.1623 - acc: 0.0000e+00 - val_loss: 16.6527 - val_acc: 0.0000e+00\n",
      "Epoch 75/100\n",
      "29/29 [==============================] - 0s 2ms/step - loss: 25.2307 - acc: 0.0000e+00 - val_loss: 16.5626 - val_acc: 0.0000e+00\n",
      "Epoch 76/100\n",
      "29/29 [==============================] - 0s 2ms/step - loss: 17.3147 - acc: 0.0000e+00 - val_loss: 16.6373 - val_acc: 0.0000e+00\n",
      "Epoch 77/100\n",
      "29/29 [==============================] - 0s 2ms/step - loss: 19.3226 - acc: 0.0000e+00 - val_loss: 16.3892 - val_acc: 0.0000e+00\n",
      "Epoch 78/100\n",
      "29/29 [==============================] - 0s 2ms/step - loss: 18.9549 - acc: 0.0000e+00 - val_loss: 16.2204 - val_acc: 0.0000e+00\n",
      "Epoch 79/100\n",
      "29/29 [==============================] - 0s 2ms/step - loss: 33.5350 - acc: 0.0000e+00 - val_loss: 16.0319 - val_acc: 0.0000e+00\n",
      "Epoch 80/100\n",
      "29/29 [==============================] - 0s 2ms/step - loss: 18.1560 - acc: 0.0000e+00 - val_loss: 16.0614 - val_acc: 0.0000e+00\n",
      "Epoch 81/100\n",
      "29/29 [==============================] - 0s 2ms/step - loss: 25.7347 - acc: 0.0000e+00 - val_loss: 15.8730 - val_acc: 0.0000e+00\n",
      "Epoch 82/100\n",
      "29/29 [==============================] - 0s 2ms/step - loss: 26.1846 - acc: 0.0000e+00 - val_loss: 15.8247 - val_acc: 0.0000e+00\n",
      "Epoch 83/100\n",
      "29/29 [==============================] - 0s 2ms/step - loss: 21.0090 - acc: 0.0000e+00 - val_loss: 15.8056 - val_acc: 0.0000e+00\n",
      "Epoch 84/100\n",
      "29/29 [==============================] - 0s 2ms/step - loss: 15.8628 - acc: 0.0000e+00 - val_loss: 16.1424 - val_acc: 0.0000e+00\n",
      "Epoch 85/100\n",
      "29/29 [==============================] - 0s 2ms/step - loss: 18.1542 - acc: 0.0000e+00 - val_loss: 15.6521 - val_acc: 0.0000e+00\n",
      "Epoch 86/100\n",
      "29/29 [==============================] - 0s 2ms/step - loss: 17.7052 - acc: 0.0000e+00 - val_loss: 15.5357 - val_acc: 0.0000e+00\n",
      "Epoch 87/100\n",
      "29/29 [==============================] - 0s 2ms/step - loss: 24.1990 - acc: 0.0000e+00 - val_loss: 15.3026 - val_acc: 0.0000e+00\n",
      "Epoch 88/100\n",
      "29/29 [==============================] - 0s 2ms/step - loss: 24.3540 - acc: 0.0000e+00 - val_loss: 15.2570 - val_acc: 0.0000e+00\n",
      "Epoch 89/100\n",
      "29/29 [==============================] - 0s 2ms/step - loss: 21.7211 - acc: 0.0000e+00 - val_loss: 15.4401 - val_acc: 0.0000e+00\n",
      "Epoch 90/100\n",
      "29/29 [==============================] - 0s 2ms/step - loss: 18.0980 - acc: 0.0000e+00 - val_loss: 15.2909 - val_acc: 0.0000e+00\n",
      "Epoch 91/100\n",
      "29/29 [==============================] - 0s 2ms/step - loss: 20.7733 - acc: 0.0000e+00 - val_loss: 14.9962 - val_acc: 0.0000e+00\n",
      "Epoch 92/100\n",
      "29/29 [==============================] - 0s 2ms/step - loss: 18.9314 - acc: 0.0000e+00 - val_loss: 15.2474 - val_acc: 0.0000e+00\n",
      "Epoch 93/100\n",
      "29/29 [==============================] - 0s 2ms/step - loss: 23.0258 - acc: 0.0000e+00 - val_loss: 14.9773 - val_acc: 0.0000e+00\n",
      "Epoch 94/100\n",
      "29/29 [==============================] - 0s 2ms/step - loss: 22.6510 - acc: 0.0000e+00 - val_loss: 14.9857 - val_acc: 0.0000e+00\n",
      "Epoch 95/100\n",
      "29/29 [==============================] - 0s 2ms/step - loss: 24.2418 - acc: 0.0000e+00 - val_loss: 14.8223 - val_acc: 0.0000e+00\n",
      "Epoch 96/100\n",
      "29/29 [==============================] - 0s 2ms/step - loss: 21.2416 - acc: 0.0000e+00 - val_loss: 14.8801 - val_acc: 0.0000e+00\n",
      "Epoch 97/100\n",
      "29/29 [==============================] - 0s 2ms/step - loss: 23.1370 - acc: 0.0000e+00 - val_loss: 14.6911 - val_acc: 0.0000e+00\n",
      "Epoch 98/100\n",
      "29/29 [==============================] - 0s 2ms/step - loss: 18.5260 - acc: 0.0000e+00 - val_loss: 14.7061 - val_acc: 0.0000e+00\n",
      "Epoch 99/100\n",
      "29/29 [==============================] - 0s 2ms/step - loss: 19.8723 - acc: 0.0000e+00 - val_loss: 15.0458 - val_acc: 0.0000e+00\n",
      "Epoch 100/100\n",
      "29/29 [==============================] - 0s 2ms/step - loss: 19.4996 - acc: 0.0000e+00 - val_loss: 14.5217 - val_acc: 0.0000e+00\n"
     ]
    }
   ],
   "source": [
    "# verbose=0 학습 진행 경과 출력하지 않음\n",
    "history = model.fit(X_train, Y_train, validation_split = 0.2, epochs = 100, batch_size = 10) # callbacks=[early_stopping_call_back]"
   ]
  },
  {
   "cell_type": "code",
   "execution_count": 24,
   "metadata": {
    "scrolled": true
   },
   "outputs": [
    {
     "name": "stdout",
     "output_type": "stream",
     "text": [
      "Epoch 1/100\n",
      "29/29 [==============================] - 0s 6ms/step - loss: 605.2456 - acc: 0.0000e+00 - val_loss: 523.6251 - val_acc: 0.0000e+00\n",
      "Epoch 2/100\n",
      "29/29 [==============================] - 0s 2ms/step - loss: 550.7290 - acc: 0.0000e+00 - val_loss: 473.3992 - val_acc: 0.0000e+00\n",
      "Epoch 3/100\n",
      "29/29 [==============================] - 0s 2ms/step - loss: 499.0830 - acc: 0.0000e+00 - val_loss: 397.1936 - val_acc: 0.0000e+00\n",
      "Epoch 4/100\n",
      "29/29 [==============================] - 0s 3ms/step - loss: 391.3107 - acc: 0.0000e+00 - val_loss: 303.2412 - val_acc: 0.0000e+00\n",
      "Epoch 5/100\n",
      "29/29 [==============================] - 0s 2ms/step - loss: 294.3282 - acc: 0.0000e+00 - val_loss: 206.5853 - val_acc: 0.0000e+00\n",
      "Epoch 6/100\n",
      "29/29 [==============================] - 0s 2ms/step - loss: 199.5625 - acc: 0.0000e+00 - val_loss: 144.3274 - val_acc: 0.0000e+00\n",
      "Epoch 7/100\n",
      "29/29 [==============================] - 0s 2ms/step - loss: 116.8538 - acc: 0.0000e+00 - val_loss: 119.0973 - val_acc: 0.0000e+00\n",
      "Epoch 8/100\n",
      "29/29 [==============================] - 0s 2ms/step - loss: 130.8961 - acc: 0.0000e+00 - val_loss: 109.6749 - val_acc: 0.0000e+00\n",
      "Epoch 9/100\n",
      "29/29 [==============================] - 0s 2ms/step - loss: 135.3640 - acc: 0.0000e+00 - val_loss: 101.9762 - val_acc: 0.0000e+00\n",
      "Epoch 10/100\n",
      "29/29 [==============================] - 0s 2ms/step - loss: 97.4664 - acc: 0.0000e+00 - val_loss: 94.8290 - val_acc: 0.0000e+00\n",
      "Epoch 11/100\n",
      "29/29 [==============================] - 0s 2ms/step - loss: 113.9534 - acc: 0.0000e+00 - val_loss: 87.0665 - val_acc: 0.0000e+00\n",
      "Epoch 12/100\n",
      "29/29 [==============================] - 0s 2ms/step - loss: 93.9490 - acc: 0.0000e+00 - val_loss: 80.4123 - val_acc: 0.0000e+00\n",
      "Epoch 13/100\n",
      "29/29 [==============================] - 0s 2ms/step - loss: 83.7392 - acc: 0.0000e+00 - val_loss: 74.3270 - val_acc: 0.0000e+00\n",
      "Epoch 14/100\n",
      "29/29 [==============================] - 0s 2ms/step - loss: 78.6800 - acc: 0.0000e+00 - val_loss: 67.9781 - val_acc: 0.0000e+00\n",
      "Epoch 15/100\n",
      "29/29 [==============================] - 0s 2ms/step - loss: 76.1622 - acc: 0.0000e+00 - val_loss: 62.4377 - val_acc: 0.0000e+00\n",
      "Epoch 16/100\n",
      "29/29 [==============================] - 0s 2ms/step - loss: 87.3731 - acc: 0.0000e+00 - val_loss: 57.7618 - val_acc: 0.0000e+00\n",
      "Epoch 17/100\n",
      "29/29 [==============================] - 0s 2ms/step - loss: 70.8858 - acc: 0.0000e+00 - val_loss: 53.1374 - val_acc: 0.0000e+00\n",
      "Epoch 18/100\n",
      "29/29 [==============================] - 0s 2ms/step - loss: 59.1406 - acc: 0.0000e+00 - val_loss: 49.6341 - val_acc: 0.0000e+00\n",
      "Epoch 19/100\n",
      "29/29 [==============================] - 0s 2ms/step - loss: 61.5267 - acc: 0.0000e+00 - val_loss: 46.4894 - val_acc: 0.0000e+00\n",
      "Epoch 20/100\n",
      "29/29 [==============================] - 0s 2ms/step - loss: 58.4791 - acc: 0.0000e+00 - val_loss: 43.9230 - val_acc: 0.0000e+00\n",
      "Epoch 21/100\n",
      "29/29 [==============================] - 0s 2ms/step - loss: 53.1441 - acc: 0.0000e+00 - val_loss: 41.4443 - val_acc: 0.0000e+00\n",
      "Epoch 22/100\n",
      "29/29 [==============================] - 0s 2ms/step - loss: 49.2667 - acc: 0.0000e+00 - val_loss: 39.9866 - val_acc: 0.0000e+00\n",
      "Epoch 23/100\n",
      "29/29 [==============================] - 0s 2ms/step - loss: 46.6008 - acc: 0.0000e+00 - val_loss: 38.3159 - val_acc: 0.0000e+00\n",
      "Epoch 24/100\n",
      "29/29 [==============================] - 0s 2ms/step - loss: 47.2718 - acc: 0.0000e+00 - val_loss: 36.9882 - val_acc: 0.0000e+00\n",
      "Epoch 25/100\n",
      "29/29 [==============================] - 0s 2ms/step - loss: 54.6107 - acc: 0.0000e+00 - val_loss: 34.9580 - val_acc: 0.0000e+00\n",
      "Epoch 26/100\n",
      "29/29 [==============================] - 0s 2ms/step - loss: 41.5299 - acc: 0.0000e+00 - val_loss: 33.8675 - val_acc: 0.0000e+00\n",
      "Epoch 27/100\n",
      "29/29 [==============================] - 0s 2ms/step - loss: 41.3795 - acc: 0.0000e+00 - val_loss: 32.5328 - val_acc: 0.0000e+00\n",
      "Epoch 28/100\n",
      "29/29 [==============================] - 0s 2ms/step - loss: 32.0655 - acc: 0.0000e+00 - val_loss: 31.4676 - val_acc: 0.0000e+00\n",
      "Epoch 29/100\n",
      "29/29 [==============================] - 0s 2ms/step - loss: 35.8442 - acc: 0.0000e+00 - val_loss: 29.8349 - val_acc: 0.0000e+00\n",
      "Epoch 30/100\n",
      "29/29 [==============================] - 0s 2ms/step - loss: 34.6342 - acc: 0.0000e+00 - val_loss: 29.0353 - val_acc: 0.0000e+00\n",
      "Epoch 31/100\n",
      "29/29 [==============================] - 0s 2ms/step - loss: 41.9416 - acc: 0.0000e+00 - val_loss: 27.4256 - val_acc: 0.0000e+00\n",
      "Epoch 32/100\n",
      "29/29 [==============================] - 0s 2ms/step - loss: 30.3361 - acc: 0.0000e+00 - val_loss: 26.6802 - val_acc: 0.0000e+00\n",
      "Epoch 33/100\n",
      "29/29 [==============================] - 0s 2ms/step - loss: 32.5394 - acc: 0.0000e+00 - val_loss: 26.1899 - val_acc: 0.0000e+00\n",
      "Epoch 34/100\n",
      "29/29 [==============================] - 0s 2ms/step - loss: 31.1213 - acc: 0.0000e+00 - val_loss: 24.4623 - val_acc: 0.0000e+00\n",
      "Epoch 35/100\n",
      "29/29 [==============================] - 0s 2ms/step - loss: 33.2332 - acc: 0.0000e+00 - val_loss: 24.1362 - val_acc: 0.0000e+00\n",
      "Epoch 36/100\n",
      "29/29 [==============================] - 0s 2ms/step - loss: 38.8984 - acc: 0.0000e+00 - val_loss: 22.7997 - val_acc: 0.0000e+00\n",
      "Epoch 37/100\n",
      "29/29 [==============================] - 0s 2ms/step - loss: 33.5767 - acc: 0.0000e+00 - val_loss: 22.1984 - val_acc: 0.0000e+00\n",
      "Epoch 38/100\n",
      "29/29 [==============================] - 0s 2ms/step - loss: 27.4824 - acc: 0.0000e+00 - val_loss: 21.6671 - val_acc: 0.0000e+00\n",
      "Epoch 39/100\n",
      "29/29 [==============================] - 0s 2ms/step - loss: 28.3726 - acc: 0.0000e+00 - val_loss: 20.8385 - val_acc: 0.0000e+00\n",
      "Epoch 40/100\n",
      "29/29 [==============================] - 0s 2ms/step - loss: 27.7985 - acc: 0.0000e+00 - val_loss: 20.0937 - val_acc: 0.0000e+00\n",
      "Epoch 41/100\n",
      "29/29 [==============================] - 0s 2ms/step - loss: 35.4162 - acc: 0.0000e+00 - val_loss: 19.3518 - val_acc: 0.0000e+00\n",
      "Epoch 42/100\n",
      "29/29 [==============================] - 0s 2ms/step - loss: 22.5279 - acc: 0.0000e+00 - val_loss: 18.9975 - val_acc: 0.0000e+00\n",
      "Epoch 43/100\n",
      "29/29 [==============================] - 0s 2ms/step - loss: 20.7596 - acc: 0.0000e+00 - val_loss: 18.4935 - val_acc: 0.0000e+00\n",
      "Epoch 44/100\n",
      "29/29 [==============================] - 0s 2ms/step - loss: 31.3282 - acc: 0.0000e+00 - val_loss: 17.8629 - val_acc: 0.0000e+00\n",
      "Epoch 45/100\n",
      "29/29 [==============================] - 0s 2ms/step - loss: 21.1993 - acc: 0.0000e+00 - val_loss: 17.8666 - val_acc: 0.0000e+00\n",
      "Epoch 46/100\n",
      "29/29 [==============================] - 0s 2ms/step - loss: 23.9423 - acc: 0.0000e+00 - val_loss: 17.2723 - val_acc: 0.0000e+00\n",
      "Epoch 47/100\n",
      "29/29 [==============================] - 0s 2ms/step - loss: 20.1846 - acc: 0.0000e+00 - val_loss: 17.4253 - val_acc: 0.0000e+00\n",
      "Epoch 48/100\n",
      "29/29 [==============================] - 0s 2ms/step - loss: 21.1440 - acc: 0.0000e+00 - val_loss: 16.7605 - val_acc: 0.0000e+00\n",
      "Epoch 49/100\n",
      "29/29 [==============================] - 0s 2ms/step - loss: 21.5015 - acc: 0.0000e+00 - val_loss: 16.4152 - val_acc: 0.0000e+00\n",
      "Epoch 50/100\n",
      "29/29 [==============================] - 0s 2ms/step - loss: 21.5055 - acc: 0.0000e+00 - val_loss: 16.2091 - val_acc: 0.0000e+00\n",
      "Epoch 51/100\n",
      "29/29 [==============================] - 0s 2ms/step - loss: 16.5425 - acc: 0.0000e+00 - val_loss: 16.5571 - val_acc: 0.0000e+00\n",
      "Epoch 52/100\n",
      "29/29 [==============================] - 0s 2ms/step - loss: 21.7355 - acc: 0.0000e+00 - val_loss: 15.8053 - val_acc: 0.0000e+00\n",
      "Epoch 53/100\n",
      "29/29 [==============================] - 0s 2ms/step - loss: 19.7585 - acc: 0.0000e+00 - val_loss: 15.8833 - val_acc: 0.0000e+00\n",
      "Epoch 54/100\n",
      "29/29 [==============================] - 0s 2ms/step - loss: 21.4953 - acc: 0.0000e+00 - val_loss: 15.3986 - val_acc: 0.0000e+00\n",
      "Epoch 55/100\n",
      "29/29 [==============================] - 0s 2ms/step - loss: 15.3548 - acc: 0.0000e+00 - val_loss: 15.7332 - val_acc: 0.0000e+00\n",
      "Epoch 56/100\n",
      "29/29 [==============================] - 0s 2ms/step - loss: 17.4927 - acc: 0.0000e+00 - val_loss: 14.9212 - val_acc: 0.0000e+00\n",
      "Epoch 57/100\n",
      "29/29 [==============================] - 0s 2ms/step - loss: 21.5513 - acc: 0.0000e+00 - val_loss: 14.9848 - val_acc: 0.0000e+00\n",
      "Epoch 58/100\n"
     ]
    },
    {
     "name": "stdout",
     "output_type": "stream",
     "text": [
      "29/29 [==============================] - 0s 2ms/step - loss: 15.8666 - acc: 0.0000e+00 - val_loss: 14.6600 - val_acc: 0.0000e+00\n",
      "Epoch 59/100\n",
      "29/29 [==============================] - 0s 2ms/step - loss: 18.4241 - acc: 0.0000e+00 - val_loss: 14.4821 - val_acc: 0.0000e+00\n",
      "Epoch 60/100\n",
      "29/29 [==============================] - 0s 2ms/step - loss: 30.1460 - acc: 0.0000e+00 - val_loss: 14.7335 - val_acc: 0.0000e+00\n",
      "Epoch 61/100\n",
      "29/29 [==============================] - 0s 2ms/step - loss: 24.0064 - acc: 0.0000e+00 - val_loss: 14.8159 - val_acc: 0.0000e+00\n",
      "Epoch 62/100\n",
      "29/29 [==============================] - 0s 2ms/step - loss: 22.6527 - acc: 0.0000e+00 - val_loss: 14.3868 - val_acc: 0.0000e+00\n",
      "Epoch 63/100\n",
      "29/29 [==============================] - 0s 2ms/step - loss: 23.8164 - acc: 0.0000e+00 - val_loss: 14.2660 - val_acc: 0.0000e+00\n",
      "Epoch 64/100\n",
      "29/29 [==============================] - 0s 2ms/step - loss: 20.0580 - acc: 0.0000e+00 - val_loss: 14.1368 - val_acc: 0.0000e+00\n",
      "Epoch 65/100\n",
      "29/29 [==============================] - 0s 2ms/step - loss: 22.4883 - acc: 0.0000e+00 - val_loss: 14.1190 - val_acc: 0.0000e+00\n",
      "Epoch 66/100\n",
      "29/29 [==============================] - 0s 2ms/step - loss: 18.1538 - acc: 0.0000e+00 - val_loss: 14.8586 - val_acc: 0.0000e+00\n",
      "Epoch 67/100\n",
      "29/29 [==============================] - 0s 2ms/step - loss: 20.5926 - acc: 0.0000e+00 - val_loss: 13.8023 - val_acc: 0.0000e+00\n",
      "Epoch 68/100\n",
      "29/29 [==============================] - 0s 2ms/step - loss: 18.7941 - acc: 0.0000e+00 - val_loss: 13.6649 - val_acc: 0.0000e+00\n",
      "Epoch 69/100\n",
      "29/29 [==============================] - 0s 2ms/step - loss: 18.6625 - acc: 0.0000e+00 - val_loss: 13.7848 - val_acc: 0.0000e+00\n",
      "Epoch 70/100\n",
      "29/29 [==============================] - 0s 2ms/step - loss: 20.4483 - acc: 0.0000e+00 - val_loss: 13.5243 - val_acc: 0.0000e+00\n",
      "Epoch 71/100\n",
      "29/29 [==============================] - 0s 2ms/step - loss: 19.0208 - acc: 0.0000e+00 - val_loss: 13.7684 - val_acc: 0.0000e+00\n",
      "Epoch 72/100\n",
      "29/29 [==============================] - 0s 2ms/step - loss: 14.8242 - acc: 0.0000e+00 - val_loss: 13.1819 - val_acc: 0.0000e+00\n",
      "Epoch 73/100\n",
      "29/29 [==============================] - 0s 2ms/step - loss: 18.6569 - acc: 0.0000e+00 - val_loss: 13.0763 - val_acc: 0.0000e+00\n",
      "Epoch 74/100\n",
      "29/29 [==============================] - 0s 2ms/step - loss: 27.4370 - acc: 0.0000e+00 - val_loss: 13.0536 - val_acc: 0.0000e+00\n",
      "Epoch 75/100\n",
      "29/29 [==============================] - 0s 2ms/step - loss: 20.4332 - acc: 0.0000e+00 - val_loss: 12.9917 - val_acc: 0.0000e+00\n",
      "Epoch 76/100\n",
      "29/29 [==============================] - 0s 2ms/step - loss: 14.0607 - acc: 0.0000e+00 - val_loss: 13.1484 - val_acc: 0.0000e+00\n",
      "Epoch 77/100\n",
      "29/29 [==============================] - 0s 2ms/step - loss: 15.2956 - acc: 0.0000e+00 - val_loss: 12.8390 - val_acc: 0.0000e+00\n",
      "Epoch 78/100\n",
      "29/29 [==============================] - 0s 2ms/step - loss: 14.2123 - acc: 0.0000e+00 - val_loss: 12.7775 - val_acc: 0.0000e+00\n",
      "Epoch 79/100\n",
      "29/29 [==============================] - 0s 2ms/step - loss: 26.8133 - acc: 0.0000e+00 - val_loss: 12.5402 - val_acc: 0.0000e+00\n",
      "Epoch 80/100\n",
      "29/29 [==============================] - 0s 2ms/step - loss: 14.2654 - acc: 0.0000e+00 - val_loss: 12.4708 - val_acc: 0.0000e+00\n",
      "Epoch 81/100\n",
      "29/29 [==============================] - 0s 2ms/step - loss: 20.0093 - acc: 0.0000e+00 - val_loss: 12.6073 - val_acc: 0.0000e+00\n",
      "Epoch 82/100\n",
      "29/29 [==============================] - 0s 2ms/step - loss: 20.0261 - acc: 0.0000e+00 - val_loss: 12.5453 - val_acc: 0.0000e+00\n",
      "Epoch 83/100\n",
      "29/29 [==============================] - 0s 2ms/step - loss: 16.4723 - acc: 0.0000e+00 - val_loss: 12.5578 - val_acc: 0.0000e+00\n",
      "Epoch 84/100\n",
      "29/29 [==============================] - 0s 2ms/step - loss: 12.6108 - acc: 0.0000e+00 - val_loss: 12.9792 - val_acc: 0.0000e+00\n",
      "Epoch 85/100\n",
      "29/29 [==============================] - 0s 2ms/step - loss: 14.8620 - acc: 0.0000e+00 - val_loss: 12.4083 - val_acc: 0.0000e+00\n",
      "Epoch 86/100\n",
      "29/29 [==============================] - 0s 2ms/step - loss: 13.5780 - acc: 0.0000e+00 - val_loss: 12.2302 - val_acc: 0.0000e+00\n",
      "Epoch 87/100\n",
      "29/29 [==============================] - 0s 2ms/step - loss: 18.6982 - acc: 0.0000e+00 - val_loss: 11.9322 - val_acc: 0.0000e+00\n",
      "Epoch 88/100\n",
      "29/29 [==============================] - 0s 2ms/step - loss: 18.2732 - acc: 0.0000e+00 - val_loss: 12.0691 - val_acc: 0.0000e+00\n",
      "Epoch 89/100\n",
      "29/29 [==============================] - 0s 2ms/step - loss: 18.3064 - acc: 0.0000e+00 - val_loss: 12.2171 - val_acc: 0.0000e+00\n",
      "Epoch 90/100\n",
      "29/29 [==============================] - 0s 2ms/step - loss: 13.9534 - acc: 0.0000e+00 - val_loss: 12.0798 - val_acc: 0.0000e+00\n",
      "Epoch 91/100\n",
      "29/29 [==============================] - 0s 2ms/step - loss: 17.0284 - acc: 0.0000e+00 - val_loss: 11.9547 - val_acc: 0.0000e+00\n",
      "Epoch 92/100\n",
      "29/29 [==============================] - 0s 2ms/step - loss: 16.0871 - acc: 0.0000e+00 - val_loss: 12.5688 - val_acc: 0.0000e+00\n",
      "Epoch 93/100\n",
      "29/29 [==============================] - 0s 2ms/step - loss: 17.7301 - acc: 0.0000e+00 - val_loss: 11.9452 - val_acc: 0.0000e+00\n",
      "Epoch 94/100\n",
      "29/29 [==============================] - 0s 2ms/step - loss: 17.4196 - acc: 0.0000e+00 - val_loss: 11.9254 - val_acc: 0.0000e+00\n",
      "Epoch 95/100\n",
      "29/29 [==============================] - 0s 2ms/step - loss: 18.6203 - acc: 0.0000e+00 - val_loss: 11.9347 - val_acc: 0.0000e+00\n",
      "Epoch 96/100\n",
      "29/29 [==============================] - 0s 2ms/step - loss: 17.0396 - acc: 0.0000e+00 - val_loss: 12.0249 - val_acc: 0.0000e+00\n",
      "Epoch 97/100\n",
      "29/29 [==============================] - 0s 2ms/step - loss: 18.1024 - acc: 0.0000e+00 - val_loss: 11.9123 - val_acc: 0.0000e+00\n",
      "Epoch 98/100\n",
      "29/29 [==============================] - 0s 2ms/step - loss: 14.1807 - acc: 0.0000e+00 - val_loss: 11.7646 - val_acc: 0.0000e+00\n",
      "Epoch 99/100\n",
      "29/29 [==============================] - 0s 2ms/step - loss: 16.6029 - acc: 0.0000e+00 - val_loss: 12.1384 - val_acc: 0.0000e+00\n",
      "Epoch 100/100\n",
      "29/29 [==============================] - 0s 2ms/step - loss: 15.0913 - acc: 0.0000e+00 - val_loss: 11.6177 - val_acc: 0.0000e+00\n"
     ]
    }
   ],
   "source": [
    "# verbose=0 학습 진행 경과 출력하지 않음\n",
    "history1 = model1.fit(X_train, Y_train, validation_split = 0.2, epochs = 100, batch_size = 10) # callbacks=[early_stopping_call_back]"
   ]
  },
  {
   "cell_type": "code",
   "execution_count": 25,
   "metadata": {},
   "outputs": [
    {
     "name": "stdout",
     "output_type": "stream",
     "text": [
      "Epoch 1/100\n",
      "29/29 [==============================] - 0s 5ms/step - loss: 630.0630 - acc: 0.0000e+00 - val_loss: 564.1333 - val_acc: 0.0000e+00\n",
      "Epoch 2/100\n",
      "29/29 [==============================] - 0s 2ms/step - loss: 599.6893 - acc: 0.0000e+00 - val_loss: 542.1491 - val_acc: 0.0000e+00\n",
      "Epoch 3/100\n",
      "29/29 [==============================] - 0s 2ms/step - loss: 579.4567 - acc: 0.0000e+00 - val_loss: 497.7208 - val_acc: 0.0000e+00\n",
      "Epoch 4/100\n",
      "29/29 [==============================] - 0s 2ms/step - loss: 499.3227 - acc: 0.0000e+00 - val_loss: 415.9024 - val_acc: 0.0000e+00\n",
      "Epoch 5/100\n",
      "29/29 [==============================] - 0s 2ms/step - loss: 410.7075 - acc: 0.0000e+00 - val_loss: 304.2513 - val_acc: 0.0000e+00\n",
      "Epoch 6/100\n",
      "29/29 [==============================] - 0s 2ms/step - loss: 288.5968 - acc: 0.0000e+00 - val_loss: 199.6969 - val_acc: 0.0000e+00\n",
      "Epoch 7/100\n",
      "29/29 [==============================] - 0s 2ms/step - loss: 160.2984 - acc: 0.0000e+00 - val_loss: 142.3822 - val_acc: 0.0000e+00\n",
      "Epoch 8/100\n",
      "29/29 [==============================] - 0s 2ms/step - loss: 153.1217 - acc: 0.0000e+00 - val_loss: 125.0455 - val_acc: 0.0000e+00\n",
      "Epoch 9/100\n",
      "29/29 [==============================] - 0s 2ms/step - loss: 151.0036 - acc: 0.0000e+00 - val_loss: 115.7097 - val_acc: 0.0000e+00\n",
      "Epoch 10/100\n",
      "29/29 [==============================] - 0s 2ms/step - loss: 108.8251 - acc: 0.0000e+00 - val_loss: 107.1906 - val_acc: 0.0000e+00\n",
      "Epoch 11/100\n",
      "29/29 [==============================] - 0s 2ms/step - loss: 127.1948 - acc: 0.0000e+00 - val_loss: 98.3485 - val_acc: 0.0000e+00\n",
      "Epoch 12/100\n",
      "29/29 [==============================] - 0s 2ms/step - loss: 103.2847 - acc: 0.0000e+00 - val_loss: 90.8819 - val_acc: 0.0000e+00\n",
      "Epoch 13/100\n",
      "29/29 [==============================] - 0s 2ms/step - loss: 94.5366 - acc: 0.0000e+00 - val_loss: 83.6319 - val_acc: 0.0000e+00\n",
      "Epoch 14/100\n",
      "29/29 [==============================] - 0s 2ms/step - loss: 87.9099 - acc: 0.0000e+00 - val_loss: 76.2943 - val_acc: 0.0000e+00\n",
      "Epoch 15/100\n",
      "29/29 [==============================] - 0s 2ms/step - loss: 83.9232 - acc: 0.0000e+00 - val_loss: 69.9709 - val_acc: 0.0000e+00\n",
      "Epoch 16/100\n",
      "29/29 [==============================] - 0s 2ms/step - loss: 94.5693 - acc: 0.0000e+00 - val_loss: 64.5835 - val_acc: 0.0000e+00\n",
      "Epoch 17/100\n",
      "29/29 [==============================] - 0s 2ms/step - loss: 77.8461 - acc: 0.0000e+00 - val_loss: 59.6547 - val_acc: 0.0000e+00\n",
      "Epoch 18/100\n",
      "29/29 [==============================] - 0s 2ms/step - loss: 64.6693 - acc: 0.0000e+00 - val_loss: 55.3620 - val_acc: 0.0000e+00\n",
      "Epoch 19/100\n",
      "29/29 [==============================] - 0s 2ms/step - loss: 66.5261 - acc: 0.0000e+00 - val_loss: 51.6433 - val_acc: 0.0000e+00\n",
      "Epoch 20/100\n",
      "29/29 [==============================] - 0s 2ms/step - loss: 63.2561 - acc: 0.0000e+00 - val_loss: 48.6107 - val_acc: 0.0000e+00\n",
      "Epoch 21/100\n",
      "29/29 [==============================] - 0s 2ms/step - loss: 57.4020 - acc: 0.0000e+00 - val_loss: 45.9283 - val_acc: 0.0000e+00\n",
      "Epoch 22/100\n",
      "29/29 [==============================] - 0s 2ms/step - loss: 52.7643 - acc: 0.0000e+00 - val_loss: 44.3030 - val_acc: 0.0000e+00\n",
      "Epoch 23/100\n",
      "29/29 [==============================] - 0s 2ms/step - loss: 50.7364 - acc: 0.0000e+00 - val_loss: 42.6446 - val_acc: 0.0000e+00\n",
      "Epoch 24/100\n",
      "29/29 [==============================] - 0s 2ms/step - loss: 51.8587 - acc: 0.0000e+00 - val_loss: 41.1787 - val_acc: 0.0000e+00\n",
      "Epoch 25/100\n",
      "29/29 [==============================] - 0s 2ms/step - loss: 59.7368 - acc: 0.0000e+00 - val_loss: 39.3858 - val_acc: 0.0000e+00\n",
      "Epoch 26/100\n",
      "29/29 [==============================] - 0s 2ms/step - loss: 46.8048 - acc: 0.0000e+00 - val_loss: 38.3622 - val_acc: 0.0000e+00\n",
      "Epoch 27/100\n",
      "29/29 [==============================] - 0s 2ms/step - loss: 46.7602 - acc: 0.0000e+00 - val_loss: 37.2655 - val_acc: 0.0000e+00\n",
      "Epoch 28/100\n",
      "29/29 [==============================] - 0s 2ms/step - loss: 37.0045 - acc: 0.0000e+00 - val_loss: 36.0259 - val_acc: 0.0000e+00\n",
      "Epoch 29/100\n",
      "29/29 [==============================] - 0s 2ms/step - loss: 42.0537 - acc: 0.0000e+00 - val_loss: 34.8377 - val_acc: 0.0000e+00\n",
      "Epoch 30/100\n",
      "29/29 [==============================] - 0s 2ms/step - loss: 39.8773 - acc: 0.0000e+00 - val_loss: 33.8960 - val_acc: 0.0000e+00\n",
      "Epoch 31/100\n",
      "29/29 [==============================] - 0s 2ms/step - loss: 49.0751 - acc: 0.0000e+00 - val_loss: 32.5897 - val_acc: 0.0000e+00\n",
      "Epoch 32/100\n",
      "29/29 [==============================] - 0s 2ms/step - loss: 35.4209 - acc: 0.0000e+00 - val_loss: 31.7208 - val_acc: 0.0000e+00\n",
      "Epoch 33/100\n",
      "29/29 [==============================] - 0s 2ms/step - loss: 38.0224 - acc: 0.0000e+00 - val_loss: 31.3708 - val_acc: 0.0000e+00\n",
      "Epoch 34/100\n",
      "29/29 [==============================] - 0s 2ms/step - loss: 37.8003 - acc: 0.0000e+00 - val_loss: 29.6170 - val_acc: 0.0000e+00\n",
      "Epoch 35/100\n",
      "29/29 [==============================] - 0s 2ms/step - loss: 39.7832 - acc: 0.0000e+00 - val_loss: 29.2956 - val_acc: 0.0000e+00\n",
      "Epoch 36/100\n",
      "29/29 [==============================] - 0s 2ms/step - loss: 47.1508 - acc: 0.0000e+00 - val_loss: 27.9664 - val_acc: 0.0000e+00\n",
      "Epoch 37/100\n",
      "29/29 [==============================] - 0s 2ms/step - loss: 40.4784 - acc: 0.0000e+00 - val_loss: 27.2245 - val_acc: 0.0000e+00\n",
      "Epoch 38/100\n",
      "29/29 [==============================] - 0s 2ms/step - loss: 35.5571 - acc: 0.0000e+00 - val_loss: 26.5909 - val_acc: 0.0000e+00\n",
      "Epoch 39/100\n",
      "29/29 [==============================] - 0s 2ms/step - loss: 34.4328 - acc: 0.0000e+00 - val_loss: 25.9173 - val_acc: 0.0000e+00\n",
      "Epoch 40/100\n",
      "29/29 [==============================] - 0s 2ms/step - loss: 34.3969 - acc: 0.0000e+00 - val_loss: 24.9050 - val_acc: 0.0000e+00\n",
      "Epoch 41/100\n",
      "29/29 [==============================] - 0s 2ms/step - loss: 42.8958 - acc: 0.0000e+00 - val_loss: 24.0646 - val_acc: 0.0000e+00\n",
      "Epoch 42/100\n",
      "29/29 [==============================] - 0s 2ms/step - loss: 29.3070 - acc: 0.0000e+00 - val_loss: 23.6157 - val_acc: 0.0000e+00\n",
      "Epoch 43/100\n",
      "29/29 [==============================] - 0s 2ms/step - loss: 27.0822 - acc: 0.0000e+00 - val_loss: 23.2261 - val_acc: 0.0000e+00\n",
      "Epoch 44/100\n",
      "29/29 [==============================] - 0s 2ms/step - loss: 38.2415 - acc: 0.0000e+00 - val_loss: 22.4307 - val_acc: 0.0000e+00\n",
      "Epoch 45/100\n",
      "29/29 [==============================] - 0s 2ms/step - loss: 26.6825 - acc: 0.0000e+00 - val_loss: 22.1894 - val_acc: 0.0000e+00\n",
      "Epoch 46/100\n",
      "29/29 [==============================] - 0s 2ms/step - loss: 30.1622 - acc: 0.0000e+00 - val_loss: 21.3598 - val_acc: 0.0000e+00\n",
      "Epoch 47/100\n",
      "29/29 [==============================] - 0s 2ms/step - loss: 26.2679 - acc: 0.0000e+00 - val_loss: 21.2420 - val_acc: 0.0000e+00\n",
      "Epoch 48/100\n",
      "29/29 [==============================] - 0s 2ms/step - loss: 26.3473 - acc: 0.0000e+00 - val_loss: 20.5937 - val_acc: 0.0000e+00\n",
      "Epoch 49/100\n",
      "29/29 [==============================] - 0s 2ms/step - loss: 26.4335 - acc: 0.0000e+00 - val_loss: 20.2400 - val_acc: 0.0000e+00\n",
      "Epoch 50/100\n",
      "29/29 [==============================] - 0s 2ms/step - loss: 27.1364 - acc: 0.0000e+00 - val_loss: 19.9889 - val_acc: 0.0000e+00\n",
      "Epoch 51/100\n",
      "29/29 [==============================] - 0s 2ms/step - loss: 20.5565 - acc: 0.0000e+00 - val_loss: 19.8888 - val_acc: 0.0000e+00\n",
      "Epoch 52/100\n",
      "29/29 [==============================] - 0s 2ms/step - loss: 27.0940 - acc: 0.0000e+00 - val_loss: 19.1896 - val_acc: 0.0000e+00\n",
      "Epoch 53/100\n",
      "29/29 [==============================] - 0s 2ms/step - loss: 24.1688 - acc: 0.0000e+00 - val_loss: 19.0794 - val_acc: 0.0000e+00\n",
      "Epoch 54/100\n",
      "29/29 [==============================] - 0s 2ms/step - loss: 26.6634 - acc: 0.0000e+00 - val_loss: 18.6381 - val_acc: 0.0000e+00\n",
      "Epoch 55/100\n",
      "29/29 [==============================] - 0s 2ms/step - loss: 19.2176 - acc: 0.0000e+00 - val_loss: 18.8845 - val_acc: 0.0000e+00\n",
      "Epoch 56/100\n",
      "29/29 [==============================] - 0s 2ms/step - loss: 22.3577 - acc: 0.0000e+00 - val_loss: 18.2015 - val_acc: 0.0000e+00\n",
      "Epoch 57/100\n",
      "29/29 [==============================] - 0s 2ms/step - loss: 27.2334 - acc: 0.0000e+00 - val_loss: 18.1793 - val_acc: 0.0000e+00\n",
      "Epoch 58/100\n"
     ]
    },
    {
     "name": "stdout",
     "output_type": "stream",
     "text": [
      "29/29 [==============================] - 0s 2ms/step - loss: 20.6994 - acc: 0.0000e+00 - val_loss: 17.8793 - val_acc: 0.0000e+00\n",
      "Epoch 59/100\n",
      "29/29 [==============================] - 0s 2ms/step - loss: 22.8665 - acc: 0.0000e+00 - val_loss: 17.6431 - val_acc: 0.0000e+00\n",
      "Epoch 60/100\n",
      "29/29 [==============================] - 0s 2ms/step - loss: 36.1472 - acc: 0.0000e+00 - val_loss: 17.6982 - val_acc: 0.0000e+00\n",
      "Epoch 61/100\n",
      "29/29 [==============================] - 0s 2ms/step - loss: 29.0393 - acc: 0.0000e+00 - val_loss: 17.7046 - val_acc: 0.0000e+00\n",
      "Epoch 62/100\n",
      "29/29 [==============================] - 0s 2ms/step - loss: 27.5019 - acc: 0.0000e+00 - val_loss: 17.4685 - val_acc: 0.0000e+00\n",
      "Epoch 63/100\n",
      "29/29 [==============================] - 0s 2ms/step - loss: 27.5138 - acc: 0.0000e+00 - val_loss: 17.5333 - val_acc: 0.0000e+00\n",
      "Epoch 64/100\n",
      "29/29 [==============================] - 0s 2ms/step - loss: 25.0210 - acc: 0.0000e+00 - val_loss: 17.2240 - val_acc: 0.0000e+00\n",
      "Epoch 65/100\n",
      "29/29 [==============================] - 0s 2ms/step - loss: 26.9978 - acc: 0.0000e+00 - val_loss: 17.1009 - val_acc: 0.0000e+00\n",
      "Epoch 66/100\n",
      "29/29 [==============================] - 0s 2ms/step - loss: 21.5100 - acc: 0.0000e+00 - val_loss: 17.4962 - val_acc: 0.0000e+00\n",
      "Epoch 67/100\n",
      "29/29 [==============================] - 0s 2ms/step - loss: 25.2748 - acc: 0.0000e+00 - val_loss: 16.8542 - val_acc: 0.0000e+00\n",
      "Epoch 68/100\n",
      "29/29 [==============================] - 0s 2ms/step - loss: 21.5802 - acc: 0.0000e+00 - val_loss: 16.7007 - val_acc: 0.0000e+00\n",
      "Epoch 69/100\n",
      "29/29 [==============================] - 0s 2ms/step - loss: 22.4406 - acc: 0.0000e+00 - val_loss: 16.8278 - val_acc: 0.0000e+00\n",
      "Epoch 70/100\n",
      "29/29 [==============================] - 0s 2ms/step - loss: 24.8503 - acc: 0.0000e+00 - val_loss: 16.5014 - val_acc: 0.0000e+00\n",
      "Epoch 71/100\n",
      "29/29 [==============================] - 0s 2ms/step - loss: 23.1030 - acc: 0.0000e+00 - val_loss: 16.6937 - val_acc: 0.0000e+00\n",
      "Epoch 72/100\n",
      "29/29 [==============================] - 0s 2ms/step - loss: 18.6167 - acc: 0.0000e+00 - val_loss: 16.3235 - val_acc: 0.0000e+00\n",
      "Epoch 73/100\n",
      "29/29 [==============================] - 0s 2ms/step - loss: 21.8301 - acc: 0.0000e+00 - val_loss: 16.1423 - val_acc: 0.0000e+00\n",
      "Epoch 74/100\n",
      "29/29 [==============================] - 0s 2ms/step - loss: 32.0130 - acc: 0.0000e+00 - val_loss: 16.1492 - val_acc: 0.0000e+00\n",
      "Epoch 75/100\n",
      "29/29 [==============================] - 0s 2ms/step - loss: 23.8215 - acc: 0.0000e+00 - val_loss: 16.0895 - val_acc: 0.0000e+00\n",
      "Epoch 76/100\n",
      "29/29 [==============================] - 0s 2ms/step - loss: 16.3501 - acc: 0.0000e+00 - val_loss: 16.2170 - val_acc: 0.0000e+00\n",
      "Epoch 77/100\n",
      "29/29 [==============================] - 0s 2ms/step - loss: 18.1404 - acc: 0.0000e+00 - val_loss: 15.9529 - val_acc: 0.0000e+00\n",
      "Epoch 78/100\n",
      "29/29 [==============================] - 0s 2ms/step - loss: 18.0301 - acc: 0.0000e+00 - val_loss: 15.8350 - val_acc: 0.0000e+00\n",
      "Epoch 79/100\n",
      "29/29 [==============================] - 0s 2ms/step - loss: 32.0336 - acc: 0.0000e+00 - val_loss: 15.6939 - val_acc: 0.0000e+00\n",
      "Epoch 80/100\n",
      "29/29 [==============================] - 0s 2ms/step - loss: 17.1582 - acc: 0.0000e+00 - val_loss: 15.7497 - val_acc: 0.0000e+00\n",
      "Epoch 81/100\n",
      "29/29 [==============================] - 0s 2ms/step - loss: 25.1027 - acc: 0.0000e+00 - val_loss: 15.7161 - val_acc: 0.0000e+00\n",
      "Epoch 82/100\n",
      "29/29 [==============================] - 0s 2ms/step - loss: 24.5667 - acc: 0.0000e+00 - val_loss: 15.6257 - val_acc: 0.0000e+00\n",
      "Epoch 83/100\n",
      "29/29 [==============================] - 0s 2ms/step - loss: 20.1040 - acc: 0.0000e+00 - val_loss: 15.6338 - val_acc: 0.0000e+00\n",
      "Epoch 84/100\n",
      "29/29 [==============================] - 0s 2ms/step - loss: 14.7346 - acc: 0.0000e+00 - val_loss: 16.1051 - val_acc: 0.0000e+00\n",
      "Epoch 85/100\n",
      "29/29 [==============================] - 0s 2ms/step - loss: 17.3533 - acc: 0.0000e+00 - val_loss: 15.5411 - val_acc: 0.0000e+00\n",
      "Epoch 86/100\n",
      "29/29 [==============================] - 0s 2ms/step - loss: 17.1099 - acc: 0.0000e+00 - val_loss: 15.3941 - val_acc: 0.0000e+00\n",
      "Epoch 87/100\n",
      "29/29 [==============================] - 0s 2ms/step - loss: 23.4806 - acc: 0.0000e+00 - val_loss: 15.3066 - val_acc: 0.0000e+00\n",
      "Epoch 88/100\n",
      "29/29 [==============================] - 0s 2ms/step - loss: 23.0869 - acc: 0.0000e+00 - val_loss: 15.2016 - val_acc: 0.0000e+00\n",
      "Epoch 89/100\n",
      "29/29 [==============================] - 0s 2ms/step - loss: 20.9461 - acc: 0.0000e+00 - val_loss: 15.4736 - val_acc: 0.0000e+00\n",
      "Epoch 90/100\n",
      "29/29 [==============================] - 0s 2ms/step - loss: 17.6822 - acc: 0.0000e+00 - val_loss: 15.2988 - val_acc: 0.0000e+00\n",
      "Epoch 91/100\n",
      "29/29 [==============================] - 0s 2ms/step - loss: 20.0203 - acc: 0.0000e+00 - val_loss: 15.0759 - val_acc: 0.0000e+00\n",
      "Epoch 92/100\n",
      "29/29 [==============================] - 0s 2ms/step - loss: 18.3213 - acc: 0.0000e+00 - val_loss: 15.4293 - val_acc: 0.0000e+00\n",
      "Epoch 93/100\n",
      "29/29 [==============================] - 0s 2ms/step - loss: 22.3644 - acc: 0.0000e+00 - val_loss: 15.0827 - val_acc: 0.0000e+00\n",
      "Epoch 94/100\n",
      "29/29 [==============================] - 0s 2ms/step - loss: 21.4830 - acc: 0.0000e+00 - val_loss: 15.1007 - val_acc: 0.0000e+00\n",
      "Epoch 95/100\n",
      "29/29 [==============================] - 0s 2ms/step - loss: 24.2306 - acc: 0.0000e+00 - val_loss: 15.0131 - val_acc: 0.0000e+00\n",
      "Epoch 96/100\n",
      "29/29 [==============================] - 0s 2ms/step - loss: 20.5609 - acc: 0.0000e+00 - val_loss: 15.0434 - val_acc: 0.0000e+00\n",
      "Epoch 97/100\n",
      "29/29 [==============================] - 0s 2ms/step - loss: 22.1653 - acc: 0.0000e+00 - val_loss: 14.8895 - val_acc: 0.0000e+00\n",
      "Epoch 98/100\n",
      "29/29 [==============================] - 0s 2ms/step - loss: 18.0605 - acc: 0.0000e+00 - val_loss: 14.8583 - val_acc: 0.0000e+00\n",
      "Epoch 99/100\n",
      "29/29 [==============================] - 0s 2ms/step - loss: 19.1638 - acc: 0.0000e+00 - val_loss: 15.2826 - val_acc: 0.0000e+00\n",
      "Epoch 100/100\n",
      "29/29 [==============================] - 0s 2ms/step - loss: 19.1116 - acc: 0.0000e+00 - val_loss: 14.6260 - val_acc: 0.0000e+00\n"
     ]
    }
   ],
   "source": [
    "# verbose=0 학습 진행 경과 출력하지 않음\n",
    "history2 = model2.fit(X_train, Y_train, validation_split = 0.2, epochs = 100, batch_size = 10) # callbacks=[early_stopping_call_back]"
   ]
  },
  {
   "cell_type": "code",
   "execution_count": 26,
   "metadata": {},
   "outputs": [
    {
     "name": "stdout",
     "output_type": "stream",
     "text": [
      "<class 'tensorflow.python.keras.callbacks.History'>\n",
      "<class 'tensorflow.python.keras.callbacks.History'>\n",
      "<class 'tensorflow.python.keras.callbacks.History'>\n"
     ]
    }
   ],
   "source": [
    "print(type(history))\n",
    "print(type(history1))\n",
    "print(type(history2))"
   ]
  },
  {
   "cell_type": "code",
   "execution_count": 27,
   "metadata": {},
   "outputs": [],
   "source": [
    "vloss = history.history['val_loss']\n",
    "loss = history.history['loss']\n",
    "vacc = history.history['val_acc']\n",
    "acc = history.history['acc']"
   ]
  },
  {
   "cell_type": "code",
   "execution_count": 28,
   "metadata": {},
   "outputs": [],
   "source": [
    "std_vloss = history1.history['val_loss']\n",
    "std_loss = history1.history['loss']\n",
    "std_vacc = history1.history['val_acc']\n",
    "std_acc = history1.history['acc']"
   ]
  },
  {
   "cell_type": "code",
   "execution_count": 29,
   "metadata": {},
   "outputs": [],
   "source": [
    "norm_vloss = history2.history['val_loss']\n",
    "norm_loss = history2.history['loss']\n",
    "norm_vacc = history2.history['val_acc']\n",
    "norm_acc = history2.history['acc']"
   ]
  },
  {
   "cell_type": "code",
   "execution_count": 30,
   "metadata": {},
   "outputs": [
    {
     "name": "stdout",
     "output_type": "stream",
     "text": [
      "100\n",
      "100\n",
      "100\n",
      "100\n"
     ]
    }
   ],
   "source": [
    "print(len(vloss))\n",
    "print(len(loss))\n",
    "print(len(acc))\n",
    "print(len(vacc))"
   ]
  },
  {
   "cell_type": "code",
   "execution_count": 152,
   "metadata": {},
   "outputs": [],
   "source": [
    "%matplotlib qt"
   ]
  },
  {
   "cell_type": "code",
   "execution_count": 31,
   "metadata": {},
   "outputs": [],
   "source": [
    "%matplotlib inline"
   ]
  },
  {
   "cell_type": "code",
   "execution_count": 32,
   "metadata": {},
   "outputs": [
    {
     "data": {
      "image/png": "[encoded data removed]",
      "text/plain": [
       "<Figure size 720x360 with 1 Axes>"
      ]
     },
     "metadata": {
      "needs_background": "light"
     },
     "output_type": "display_data"
    }
   ],
   "source": [
    "import matplotlib.pyplot as plt\n",
    "\n",
    "plt.figure(figsize=(10, 5))\n",
    "plt.ylim(0, 100)\n",
    "plt.plot(range(len(loss)), loss, label='loss')\n",
    "plt.plot(range(len(loss)), vloss, label='val_loss')\n",
    "plt.legend()\n",
    "plt.show()"
   ]
  },
  {
   "cell_type": "code",
   "execution_count": 33,
   "metadata": {},
   "outputs": [
    {
     "data": {
      "image/png": "[encoded data removed]",
      "text/plain": [
       "<Figure size 720x360 with 1 Axes>"
      ]
     },
     "metadata": {
      "needs_background": "light"
     },
     "output_type": "display_data"
    }
   ],
   "source": [
    "plt.figure(figsize=(10, 5))\n",
    "plt.ylim(0, 1)\n",
    "plt.plot(range(len(loss)), acc, label='acc')\n",
    "plt.plot(range(len(loss)), vacc, label='val_acc')\n",
    "plt.legend()\n",
    "plt.show()"
   ]
  },
  {
   "cell_type": "markdown",
   "metadata": {},
   "source": [
    "# 일반, 표준화, 정규화 loss 그래프"
   ]
  },
  {
   "cell_type": "code",
   "execution_count": 34,
   "metadata": {},
   "outputs": [
    {
     "name": "stdout",
     "output_type": "stream",
     "text": [
      "100\n",
      "100\n",
      "100\n"
     ]
    }
   ],
   "source": [
    "print(len(loss))\n",
    "print(len(std_loss))\n",
    "print(len(norm_loss))"
   ]
  },
  {
   "cell_type": "code",
   "execution_count": 35,
   "metadata": {},
   "outputs": [
    {
     "data": {
      "image/png": "[encoded data removed]",
      "text/plain": [
       "<Figure size 720x360 with 1 Axes>"
      ]
     },
     "metadata": {
      "needs_background": "light"
     },
     "output_type": "display_data"
    }
   ],
   "source": [
    "import matplotlib.pyplot as plt\n",
    "\n",
    "plt.figure(figsize=(10, 5))\n",
    "plt.ylim(0, 50)\n",
    "plt.plot(range(len(loss)), loss, label='loss')\n",
    "plt.plot(range(len(loss)), std_loss, label='std_loss')\n",
    "plt.plot(range(len(loss)), norm_loss, label='norm_loss')\n",
    "plt.legend()\n",
    "\n",
    "plt.savefig('c:/edu/py_data/loss_graph.jpg')\n",
    "plt.show()"
   ]
  },
  {
   "cell_type": "markdown",
   "metadata": {},
   "source": [
    "# 테스트"
   ]
  },
  {
   "cell_type": "code",
   "execution_count": 36,
   "metadata": {},
   "outputs": [],
   "source": [
    "Y_prediction = model1.predict(X_test).flatten()"
   ]
  },
  {
   "cell_type": "code",
   "execution_count": 37,
   "metadata": {},
   "outputs": [
    {
     "name": "stdout",
     "output_type": "stream",
     "text": [
      "5/5 [==============================] - 0s 737us/step - loss: 24.9418 - acc: 0.0000e+00\n"
     ]
    },
    {
     "data": {
      "text/plain": [
       "[24.941781997680664, 0.0]"
      ]
     },
     "execution_count": 37,
     "metadata": {},
     "output_type": "execute_result"
    }
   ],
   "source": [
    "model1.evaluate(X_test, Y_test)"
   ]
  },
  {
   "cell_type": "code",
   "execution_count": 38,
   "metadata": {},
   "outputs": [
    {
     "name": "stdout",
     "output_type": "stream",
     "text": [
      "5/5 [==============================] - 0s 753us/step - loss: 24.9418 - acc: 0.0000e+00\n"
     ]
    },
    {
     "data": {
      "text/plain": [
       "0.0"
      ]
     },
     "execution_count": 38,
     "metadata": {},
     "output_type": "execute_result"
    }
   ],
   "source": [
    "model1.evaluate(X_test, Y_test)[1]"
   ]
  },
  {
   "cell_type": "code",
   "execution_count": 39,
   "metadata": {},
   "outputs": [
    {
     "name": "stdout",
     "output_type": "stream",
     "text": [
      "  1번째 데이터 >>> 실제가격: 22.60, 예상가격: 23.59, 오차: -0.99\n",
      "  2번째 데이터 >>> 실제가격: 50.00, 예상가격: 22.55, 오차: 27.45\n",
      "  3번째 데이터 >>> 실제가격: 23.00, 예상가격: 26.60, 오차: -3.60\n",
      "  4번째 데이터 >>> 실제가격:  8.30, 예상가격: 12.75, 오차: -4.45\n",
      "  5번째 데이터 >>> 실제가격: 21.20, 예상가격: 19.57, 오차:  1.63\n",
      "  6번째 데이터 >>> 실제가격: 19.90, 예상가격: 19.64, 오차:  0.26\n",
      "  7번째 데이터 >>> 실제가격: 20.60, 예상가격: 20.05, 오차:  0.55\n",
      "  8번째 데이터 >>> 실제가격: 18.70, 예상가격: 20.88, 오차: -2.18\n",
      "  9번째 데이터 >>> 실제가격: 16.10, 예상가격: 15.44, 오차:  0.66\n",
      " 10번째 데이터 >>> 실제가격: 18.60, 예상가격: 15.06, 오차:  3.54\n",
      " 11번째 데이터 >>> 실제가격:  8.80, 예상가격:  5.17, 오차:  3.63\n",
      " 12번째 데이터 >>> 실제가격: 17.20, 예상가격: 12.67, 오차:  4.53\n",
      " 13번째 데이터 >>> 실제가격: 14.90, 예상가격: 16.34, 오차: -1.44\n",
      " 14번째 데이터 >>> 실제가격: 10.50, 예상가격:  9.45, 오차:  1.05\n",
      " 15번째 데이터 >>> 실제가격: 50.00, 예상가격: 42.73, 오차:  7.27\n",
      " 16번째 데이터 >>> 실제가격: 29.00, 예상가격: 31.82, 오차: -2.82\n",
      " 17번째 데이터 >>> 실제가격: 23.00, 예상가격: 21.63, 오차:  1.37\n",
      " 18번째 데이터 >>> 실제가격: 33.30, 예상가격: 37.43, 오차: -4.13\n",
      " 19번째 데이터 >>> 실제가격: 29.40, 예상가격: 31.26, 오차: -1.86\n",
      " 20번째 데이터 >>> 실제가격: 21.00, 예상가격: 21.22, 오차: -0.22\n",
      " 21번째 데이터 >>> 실제가격: 23.80, 예상가격: 24.30, 오차: -0.50\n",
      " 22번째 데이터 >>> 실제가격: 19.10, 예상가격: 21.25, 오차: -2.15\n",
      " 23번째 데이터 >>> 실제가격: 20.40, 예상가격: 18.75, 오차:  1.65\n",
      " 24번째 데이터 >>> 실제가격: 29.10, 예상가격: 27.97, 오차:  1.13\n",
      " 25번째 데이터 >>> 실제가격: 19.30, 예상가격: 20.03, 오차: -0.73\n",
      " 26번째 데이터 >>> 실제가격: 23.10, 예상가격:  9.02, 오차: 14.08\n",
      " 27번째 데이터 >>> 실제가격: 19.60, 예상가격: 18.19, 오차:  1.41\n",
      " 28번째 데이터 >>> 실제가격: 19.40, 예상가격: 16.39, 오차:  3.01\n",
      " 29번째 데이터 >>> 실제가격: 38.70, 예상가격: 38.08, 오차:  0.62\n",
      " 30번째 데이터 >>> 실제가격: 18.70, 예상가격: 18.12, 오차:  0.58\n",
      " 31번째 데이터 >>> 실제가격: 14.60, 예상가격: 16.41, 오차: -1.81\n",
      " 32번째 데이터 >>> 실제가격: 20.00, 예상가격: 18.01, 오차:  1.99\n",
      " 33번째 데이터 >>> 실제가격: 20.50, 예상가격: 20.82, 오차: -0.32\n",
      " 34번째 데이터 >>> 실제가격: 20.10, 예상가격: 21.43, 오차: -1.33\n",
      " 35번째 데이터 >>> 실제가격: 23.60, 예상가격: 27.84, 오차: -4.24\n",
      " 36번째 데이터 >>> 실제가격: 16.80, 예상가격: 18.30, 오차: -1.50\n",
      " 37번째 데이터 >>> 실제가격:  5.60, 예상가격: 12.74, 오차: -7.14\n",
      " 38번째 데이터 >>> 실제가격: 50.00, 예상가격: 21.52, 오차: 28.48\n",
      " 39번째 데이터 >>> 실제가격: 14.50, 예상가격: 13.69, 오차:  0.81\n",
      " 40번째 데이터 >>> 실제가격: 13.30, 예상가격: 14.51, 오차: -1.21\n",
      " 41번째 데이터 >>> 실제가격: 23.90, 예상가격: 24.60, 오차: -0.70\n",
      " 42번째 데이터 >>> 실제가격: 20.00, 예상가격: 18.24, 오차:  1.76\n",
      " 43번째 데이터 >>> 실제가격: 19.80, 예상가격: 20.53, 오차: -0.73\n",
      " 44번째 데이터 >>> 실제가격: 13.80, 예상가격: 14.41, 오차: -0.61\n",
      " 45번째 데이터 >>> 실제가격: 16.50, 예상가격: 23.15, 오차: -6.65\n",
      " 46번째 데이터 >>> 실제가격: 21.60, 예상가격: 23.86, 오차: -2.26\n",
      " 47번째 데이터 >>> 실제가격: 20.30, 예상가격: 18.41, 오차:  1.89\n",
      " 48번째 데이터 >>> 실제가격: 17.00, 예상가격: 21.00, 오차: -4.00\n",
      " 49번째 데이터 >>> 실제가격: 11.80, 예상가격: 11.83, 오차: -0.03\n",
      " 50번째 데이터 >>> 실제가격: 27.50, 예상가격: 22.64, 오차:  4.86\n",
      " 51번째 데이터 >>> 실제가격: 15.60, 예상가격: 16.00, 오차: -0.40\n",
      " 52번째 데이터 >>> 실제가격: 23.10, 예상가격: 16.11, 오차:  6.99\n",
      " 53번째 데이터 >>> 실제가격: 24.30, 예상가격: 21.31, 오차:  2.99\n",
      " 54번째 데이터 >>> 실제가격: 42.80, 예상가격: 33.79, 오차:  9.01\n",
      " 55번째 데이터 >>> 실제가격: 15.60, 예상가격: 14.36, 오차:  1.24\n",
      " 56번째 데이터 >>> 실제가격: 21.70, 예상가격: 18.80, 오차:  2.90\n",
      " 57번째 데이터 >>> 실제가격: 17.10, 예상가격: 18.96, 오차: -1.86\n",
      " 58번째 데이터 >>> 실제가격: 17.20, 예상가격: 16.99, 오차:  0.21\n",
      " 59번째 데이터 >>> 실제가격: 15.00, 예상가격:  8.80, 오차:  6.20\n",
      " 60번째 데이터 >>> 실제가격: 21.70, 예상가격: 20.19, 오차:  1.51\n",
      " 61번째 데이터 >>> 실제가격: 18.60, 예상가격: 20.22, 오차: -1.62\n",
      " 62번째 데이터 >>> 실제가격: 21.00, 예상가격: 19.92, 오차:  1.08\n",
      " 63번째 데이터 >>> 실제가격: 33.10, 예상가격: 33.19, 오차: -0.09\n",
      " 64번째 데이터 >>> 실제가격: 31.50, 예상가격: 32.31, 오차: -0.81\n",
      " 65번째 데이터 >>> 실제가격: 20.10, 예상가격: 16.55, 오차:  3.55\n",
      " 66번째 데이터 >>> 실제가격: 29.80, 예상가격: 31.89, 오차: -2.09\n",
      " 67번째 데이터 >>> 실제가격: 15.20, 예상가격: 17.78, 오차: -2.58\n",
      " 68번째 데이터 >>> 실제가격: 15.00, 예상가격: 18.70, 오차: -3.70\n",
      " 69번째 데이터 >>> 실제가격: 27.50, 예상가격: 14.98, 오차: 12.52\n",
      " 70번째 데이터 >>> 실제가격: 22.60, 예상가격: 19.95, 오차:  2.65\n",
      " 71번째 데이터 >>> 실제가격: 20.00, 예상가격: 20.21, 오차: -0.21\n",
      " 72번째 데이터 >>> 실제가격: 21.40, 예상가격: 21.77, 오차: -0.37\n",
      " 73번째 데이터 >>> 실제가격: 23.50, 예상가격: 28.95, 오차: -5.45\n",
      " 74번째 데이터 >>> 실제가격: 31.20, 예상가격: 29.23, 오차:  1.97\n",
      " 75번째 데이터 >>> 실제가격: 23.70, 예상가격: 26.80, 오차: -3.10\n",
      " 76번째 데이터 >>> 실제가격:  7.40, 예상가격:  9.63, 오차: -2.23\n",
      " 77번째 데이터 >>> 실제가격: 48.30, 예상가격: 40.71, 오차:  7.59\n",
      " 78번째 데이터 >>> 실제가격: 24.40, 예상가격: 21.66, 오차:  2.74\n",
      " 79번째 데이터 >>> 실제가격: 22.60, 예상가격: 25.14, 오차: -2.54\n",
      " 80번째 데이터 >>> 실제가격: 18.30, 예상가격: 18.04, 오차:  0.26\n",
      " 81번째 데이터 >>> 실제가격: 23.30, 예상가격: 27.39, 오차: -4.09\n",
      " 82번째 데이터 >>> 실제가격: 17.10, 예상가격: 19.79, 오차: -2.69\n",
      " 83번째 데이터 >>> 실제가격: 27.90, 예상가격: 16.60, 오차: 11.30\n",
      " 84번째 데이터 >>> 실제가격: 44.80, 예상가격: 41.65, 오차:  3.15\n",
      " 85번째 데이터 >>> 실제가격: 50.00, 예상가격: 43.22, 오차:  6.78\n",
      " 86번째 데이터 >>> 실제가격: 23.00, 예상가격: 23.89, 오차: -0.89\n",
      " 87번째 데이터 >>> 실제가격: 21.40, 예상가격: 21.17, 오차:  0.23\n",
      " 88번째 데이터 >>> 실제가격: 10.20, 예상가격: 11.89, 오차: -1.69\n",
      " 89번째 데이터 >>> 실제가격: 23.30, 예상가격: 28.99, 오차: -5.69\n",
      " 90번째 데이터 >>> 실제가격: 23.20, 예상가격: 16.33, 오차:  6.87\n",
      " 91번째 데이터 >>> 실제가격: 18.90, 예상가격: 18.32, 오차:  0.58\n",
      " 92번째 데이터 >>> 실제가격: 13.40, 예상가격: 13.05, 오차:  0.35\n",
      " 93번째 데이터 >>> 실제가격: 21.90, 예상가격: 23.97, 오차: -2.07\n",
      " 94번째 데이터 >>> 실제가격: 24.80, 예상가격: 30.72, 오차: -5.92\n",
      " 95번째 데이터 >>> 실제가격: 11.90, 예상가격: 21.63, 오차: -9.73\n",
      " 96번째 데이터 >>> 실제가격: 24.30, 예상가격: 20.75, 오차:  3.55\n",
      " 97번째 데이터 >>> 실제가격: 13.80, 예상가격:  7.18, 오차:  6.62\n",
      " 98번째 데이터 >>> 실제가격: 24.70, 예상가격: 25.11, 오차: -0.41\n",
      " 99번째 데이터 >>> 실제가격: 14.10, 예상가격: 13.84, 오차:  0.26\n",
      "100번째 데이터 >>> 실제가격: 18.70, 예상가격: 18.42, 오차:  0.28\n",
      "101번째 데이터 >>> 실제가격: 28.10, 예상가격: 22.85, 오차:  5.25\n",
      "102번째 데이터 >>> 실제가격: 19.80, 예상가격: 20.58, 오차: -0.78\n",
      "103번째 데이터 >>> 실제가격: 26.70, 예상가격: 29.80, 오차: -3.10\n",
      "104번째 데이터 >>> 실제가격: 21.70, 예상가격: 19.49, 오차:  2.21\n",
      "105번째 데이터 >>> 실제가격: 22.00, 예상가격: 24.79, 오차: -2.79\n",
      "106번째 데이터 >>> 실제가격: 22.90, 예상가격: 21.52, 오차:  1.38\n",
      "107번째 데이터 >>> 실제가격: 10.40, 예상가격:  8.13, 오차:  2.27\n",
      "108번째 데이터 >>> 실제가격: 21.90, 예상가격: 14.63, 오차:  7.27\n",
      "109번째 데이터 >>> 실제가격: 20.60, 예상가격: 21.33, 오차: -0.73\n",
      "110번째 데이터 >>> 실제가격: 26.40, 예상가격: 26.48, 오차: -0.08\n",
      "111번째 데이터 >>> 실제가격: 41.30, 예상가격: 35.29, 오차:  6.01\n",
      "112번째 데이터 >>> 실제가격: 17.20, 예상가격: 12.96, 오차:  4.24\n",
      "113번째 데이터 >>> 실제가격: 27.10, 예상가격: 18.86, 오차:  8.24\n",
      "114번째 데이터 >>> 실제가격: 20.40, 예상가격: 16.98, 오차:  3.42\n",
      "115번째 데이터 >>> 실제가격: 16.50, 예상가격: 13.06, 오차:  3.44\n",
      "116번째 데이터 >>> 실제가격: 24.40, 예상가격: 20.75, 오차:  3.65\n",
      "117번째 데이터 >>> 실제가격:  8.40, 예상가격:  8.54, 오차: -0.14\n",
      "118번째 데이터 >>> 실제가격: 23.00, 예상가격: 20.56, 오차:  2.44\n",
      "119번째 데이터 >>> 실제가격:  9.70, 예상가격: 12.11, 오차: -2.41\n",
      "120번째 데이터 >>> 실제가격: 50.00, 예상가격: 43.34, 오차:  6.66\n",
      "121번째 데이터 >>> 실제가격: 30.50, 예상가격: 31.04, 오차: -0.54\n",
      "122번째 데이터 >>> 실제가격: 12.30, 예상가격: 13.88, 오차: -1.58\n",
      "123번째 데이터 >>> 실제가격: 19.40, 예상가격: 16.72, 오차:  2.68\n",
      "124번째 데이터 >>> 실제가격: 21.20, 예상가격: 19.22, 오차:  1.98\n",
      "125번째 데이터 >>> 실제가격: 20.30, 예상가격: 21.63, 오차: -1.33\n",
      "126번째 데이터 >>> 실제가격: 18.80, 예상가격: 18.87, 오차: -0.07\n",
      "127번째 데이터 >>> 실제가격: 33.40, 예상가격: 35.41, 오차: -2.01\n",
      "128번째 데이터 >>> 실제가격: 18.50, 예상가격: 15.55, 오차:  2.95\n",
      "129번째 데이터 >>> 실제가격: 19.60, 예상가격: 20.96, 오차: -1.36\n",
      "130번째 데이터 >>> 실제가격: 33.20, 예상가격: 32.98, 오차:  0.22\n",
      "131번째 데이터 >>> 실제가격: 13.10, 예상가격: 17.87, 오차: -4.77\n",
      "132번째 데이터 >>> 실제가격:  7.50, 예상가격: 12.04, 오차: -4.54\n",
      "133번째 데이터 >>> 실제가격: 13.60, 예상가격: 16.23, 오차: -2.63\n",
      "134번째 데이터 >>> 실제가격: 17.40, 예상가격: 18.48, 오차: -1.08\n",
      "135번째 데이터 >>> 실제가격:  8.40, 예상가격: 12.94, 오차: -4.54\n",
      "136번째 데이터 >>> 실제가격: 35.40, 예상가격: 31.34, 오차:  4.06\n",
      "137번째 데이터 >>> 실제가격: 24.00, 예상가격: 22.32, 오차:  1.68\n",
      "138번째 데이터 >>> 실제가격: 13.40, 예상가격: 15.37, 오차: -1.97\n",
      "139번째 데이터 >>> 실제가격: 26.20, 예상가격: 24.86, 오차:  1.34\n",
      "140번째 데이터 >>> 실제가격:  7.20, 예상가격:  9.88, 오차: -2.68\n",
      "141번째 데이터 >>> 실제가격: 13.10, 예상가격: 14.49, 오차: -1.39\n",
      "142번째 데이터 >>> 실제가격: 24.50, 예상가격: 18.58, 오차:  5.92\n",
      "143번째 데이터 >>> 실제가격: 37.20, 예상가격: 33.83, 오차:  3.37\n",
      "144번째 데이터 >>> 실제가격: 25.00, 예상가격: 28.32, 오차: -3.32\n",
      "145번째 데이터 >>> 실제가격: 24.10, 예상가격: 24.09, 오차:  0.01\n",
      "146번째 데이터 >>> 실제가격: 16.60, 예상가격: 16.97, 오차: -0.37\n",
      "147번째 데이터 >>> 실제가격: 32.90, 예상가격: 29.76, 오차:  3.14\n",
      "148번째 데이터 >>> 실제가격: 36.20, 예상가격: 29.81, 오차:  6.39\n",
      "149번째 데이터 >>> 실제가격: 11.00, 예상가격: 12.73, 오차: -1.73\n",
      "150번째 데이터 >>> 실제가격:  7.20, 예상가격: 11.13, 오차: -3.93\n",
      "151번째 데이터 >>> 실제가격: 22.80, 예상가격: 30.45, 오차: -7.65\n",
      "152번째 데이터 >>> 실제가격: 28.70, 예상가격: 26.49, 오차:  2.21\n"
     ]
    }
   ],
   "source": [
    "for i in range(len(Y_test)):\n",
    "    label = Y_test[i]\n",
    "    prediction = Y_prediction[i]\n",
    "    print(f'{i+1:3d}번째 데이터 >>> 실제가격: {label:5.2f}, 예상가격: {prediction:5.2f}, 오차: {label-prediction:5.2f}')"
   ]
  },
  {
   "cell_type": "code",
   "execution_count": null,
   "metadata": {},
   "outputs": [],
   "source": []
  },
  {
   "cell_type": "code",
   "execution_count": null,
   "metadata": {},
   "outputs": [],
   "source": []
  },
  {
   "cell_type": "code",
   "execution_count": null,
   "metadata": {},
   "outputs": [],
   "source": []
  },
  {
   "cell_type": "code",
   "execution_count": null,
   "metadata": {},
   "outputs": [],
   "source": []
  }
 ],
 "metadata": {
  "kernelspec": {
   "display_name": "Python 3",
   "language": "python",
   "name": "python3"
  },
  "language_info": {
   "codemirror_mode": {
    "name": "ipython",
    "version": 3
   },
   "file_extension": ".py",
   "mimetype": "text/x-python",
   "name": "python",
   "nbconvert_exporter": "python",
   "pygments_lexer": "ipython3",
   "version": "3.8.5"
  }
 },
 "nbformat": 4,
 "nbformat_minor": 4
}
