{
 "cells": [
  {
   "cell_type": "markdown",
   "metadata": {},
   "source": [
    "## ▶회귀분석(LinearRegression)\n",
    "- https://mindscale.kr/course/basic-stat-python/9\n",
    "\n",
    "- 회귀분석(regression)은 가장 넓은 의미로는 독립변수(x)로 종속변수(y)를 예측하는 것을 의미한다.\n",
    "\n",
    "### [독립변수와 종속변수]\n",
    "\n",
    "- 체중과 식사량의 관계에 대한 모형을 만든다고 해보자. 이 모형에서 체중이 식사량에 따라 달라진다고 가정하면, 식사량이 많아지면 체중도 증가하고, 식사량이 감소하면 체중도 감소할 것이다. 그러면 체중은 식사량에 종속되었다고 할 수 있다. 그래서 체중은 종속변수가 된다.\n",
    "\n",
    "- 그런데 이 모형은 체중이 식사량이 왜 변하는지는 말하고 있지 않다. 식사량은 모형에 독립적으로 변하므로, 독립변수가 된다.\n",
    "\n",
    "- 정리하자면:\n",
    "\n",
    "    - 독립변수: 변수의 변화 원인이 모형 밖에 있는 변수, 특징(feature), x값이라 부름\n",
    "    - 종속변수: 변수의 변화 원인이 모형 안에 있을 변수, 라벨(label), y값이라 부름\n",
    "    \n",
    "### [선형회귀분석]\n",
    "- 회귀분석을 좀 더 좁은 의미로 말할 때는 종속변수가 연속인 경우를 말한다. 종속변수가 범주형인 경우에는 '분류'라고 한다.\n",
    "\n",
    "- 더 좁은 의미로는 선형 회귀 분석을 의미한다. 선형 회귀 분석은 독립변수와 종속변수 사이에 직선적인 형태의 관계가 있다고 가정을 한다.\n",
    "\n",
    "- 직선적인 형태란 독립변수가 일정하게 증가하면, 종속변수도 그에 비례해서 증가하거나 또는 감소하는 형태를 말한다.\n",
    "\n",
    "- 예를 들어 밥을 한 그릇 더 먹으면 체중이 정확히 100g 증가한다면 직선적인 형태라고 할 수 있다. 밥을 한 그릇, 두 그릇, 세 그릇, .. 먹으면 체중이 100g, 200g, 300g으로 증가하기 때문에 이것을 그림으로 그려보면 직선이 그려진다.\n",
    "\n",
    "### [단순회귀분석과 다중회귀분석]\n",
    "- 결과가 어떤값(숫자)일까? 를 예측하는 방법론 결과가 1개임\n",
    "- 이러한 분석을 회귀분석이라합니다.\n",
    "- 이때 x값이 1개이면 단순회귀분석 x값이 2개이상이면 다중회귀분석(다변량분석) 이라함.\n",
    "\n",
    "\n",
    "▶결과가 어떤분류에 해당할까를 분류예측하는 방법론은\n",
    "  -  결과가 둘중한개에 속하거나. (이항분류)\n",
    "  - 예) y값이  생존1, 사망0  이거나\n",
    "  -   심장병걸림1, 심장병아님0 이거나\n",
    " - 이러한 분석을 로지스틱회귀라 함(로짓분석)\n",
    " -  y값은 0~1사이에만 존재하게 계산됨 (로그분석)\n",
    "  단 로지스틱회귀분석시 결과출력하는 값의 유형을\n",
    "  사용자가 정할수 있음.\n",
    "   예) 출력은 한개로   0.5초과 1로 인정, 0.5이하 0\n",
    "        출력을 두개로 [여기는0값,여기는1값임]\n",
    "               ==> 출력값이 [0.73,0.37] 이자료는 결과가 0임\n",
    "  - 또는 여러개중 한개에 속함 (다중분류)\n",
    "    예) 꽃의색상이 노랑,파랑,검정인지를 분류하세요\n",
    "      출력값이 셋중한개에 특화됨\n",
    "      -> 그러한 예로 원핫인코딩 0은 [1,0,0]  1은[0,1,0]   2는 [0,0,1]\n"
   ]
  },
  {
   "cell_type": "code",
   "execution_count": 5,
   "metadata": {},
   "outputs": [],
   "source": [
    "import seaborn as sns\n",
    "import pandas as pd\n",
    "import matplotlib.pyplot as plt"
   ]
  },
  {
   "cell_type": "code",
   "execution_count": 6,
   "metadata": {},
   "outputs": [
    {
     "name": "stdout",
     "output_type": "stream",
     "text": [
      "   speed  dist\n",
      "0      4     2\n",
      "1      4    10\n",
      "2      7     4\n",
      "3      7    22\n",
      "4      8    16\n",
      "<class 'pandas.core.frame.DataFrame'>\n",
      "RangeIndex: 50 entries, 0 to 49\n",
      "Data columns (total 2 columns):\n",
      " #   Column  Non-Null Count  Dtype\n",
      "---  ------  --------------  -----\n",
      " 0   speed   50 non-null     int64\n",
      " 1   dist    50 non-null     int64\n",
      "dtypes: int64(2)\n",
      "memory usage: 928.0 bytes\n",
      "None\n"
     ]
    }
   ],
   "source": [
    "df=pd.DataFrame({'speed':[4,4,7,7,8,9,10,10,10,11,11,12,12,12,12,13,13,13,13,14,14,14,14,15,15,15,16,16,17,17,17,18,1,18,18,19,19,19,20,20,20,20,20,22,23,24,24,24,24,25],\n",
    "                 'dist':[2,10,4,22,16,10,18,26,34,17,28,14,20,24,28,26,34,34,46,26,36,60,80,20,26,54,32,40,32,40,50,42,56,76,84,36,46,68,32,48,52,56,64,66,54,70,92,93,120,85]})\n",
    "print(df.head())\n",
    "print(df.info())"
   ]
  },
  {
   "cell_type": "code",
   "execution_count": 7,
   "metadata": {},
   "outputs": [
    {
     "name": "stderr",
     "output_type": "stream",
     "text": [
      "C:\\Users\\dojun\\anaconda3\\envs\\python38\\lib\\site-packages\\seaborn\\_decorators.py:36: FutureWarning: Pass the following variables as keyword args: x, y. From version 0.12, the only valid positional argument will be `data`, and passing other arguments without an explicit keyword will result in an error or misinterpretation.\n",
      "  warnings.warn(\n"
     ]
    },
    {
     "data": {
      "text/plain": [
       "<AxesSubplot:xlabel='speed', ylabel='dist'>"
      ]
     },
     "execution_count": 7,
     "metadata": {},
     "output_type": "execute_result"
    },
    {
     "data": {
      "image/png": "[encoded data removed]",
      "text/plain": [
       "<Figure size 432x288 with 1 Axes>"
      ]
     },
     "metadata": {
      "needs_background": "light"
     },
     "output_type": "display_data"
    }
   ],
   "source": [
    "#!pip install statsmodels\n",
    "import statsmodels\n",
    "sns.regplot('speed', 'dist', lowess=True, data = df)"
   ]
  },
  {
   "cell_type": "code",
   "execution_count": 8,
   "metadata": {},
   "outputs": [
    {
     "name": "stderr",
     "output_type": "stream",
     "text": [
      "C:\\Users\\dojun\\anaconda3\\envs\\python38\\lib\\site-packages\\seaborn\\_decorators.py:36: FutureWarning: Pass the following variable as a keyword arg: x. From version 0.12, the only valid positional argument will be `data`, and passing other arguments without an explicit keyword will result in an error or misinterpretation.\n",
      "  warnings.warn(\n",
      "C:\\Users\\dojun\\anaconda3\\envs\\python38\\lib\\site-packages\\seaborn\\_core.py:1319: UserWarning: Vertical orientation ignored with only `x` specified.\n",
      "  warnings.warn(single_var_warning.format(\"Vertical\", \"x\"))\n",
      "C:\\Users\\dojun\\anaconda3\\envs\\python38\\lib\\site-packages\\seaborn\\_decorators.py:36: FutureWarning: Pass the following variable as a keyword arg: x. From version 0.12, the only valid positional argument will be `data`, and passing other arguments without an explicit keyword will result in an error or misinterpretation.\n",
      "  warnings.warn(\n",
      "C:\\Users\\dojun\\anaconda3\\envs\\python38\\lib\\site-packages\\seaborn\\_core.py:1319: UserWarning: Vertical orientation ignored with only `x` specified.\n",
      "  warnings.warn(single_var_warning.format(\"Vertical\", \"x\"))\n"
     ]
    },
    {
     "data": {
      "text/plain": [
       "Text(0.5, 1.0, 'Distance')"
      ]
     },
     "execution_count": 8,
     "metadata": {},
     "output_type": "execute_result"
    },
    {
     "data": {
      "image/png": "[encoded data removed]",
      "text/plain": [
       "<Figure size 432x288 with 2 Axes>"
      ]
     },
     "metadata": {
      "needs_background": "light"
     },
     "output_type": "display_data"
    }
   ],
   "source": [
    "fig, (ax1, ax2) = plt.subplots(1, 2)  \n",
    "\n",
    "# speed의 상자 그림을 첫번째(ax1)로 그린다. 방향은 수직(orient='v')\n",
    "sns.boxplot('speed', data=df, ax=ax1, orient='v')\n",
    "ax1.set_title('Speed')\n",
    "\n",
    "# dist의 상자 그림을 두번째(ax2)로 그린다.\n",
    "sns.boxplot('dist', data=df, ax=ax2, orient='v')\n",
    "ax2.set_title('Distance')"
   ]
  },
  {
   "cell_type": "code",
   "execution_count": 200,
   "metadata": {},
   "outputs": [
    {
     "data": {
      "text/plain": [
       "Text(0.5, 1.0, 'Distance')"
      ]
     },
     "execution_count": 200,
     "metadata": {},
     "output_type": "execute_result"
    },
    {
     "data": {
      "image/png": "[encoded data removed]",
      "text/plain": [
       "<Figure size 432x288 with 2 Axes>"
      ]
     },
     "metadata": {
      "needs_background": "light"
     },
     "output_type": "display_data"
    }
   ],
   "source": [
    "# 1행 2열 형태로 2개의 그래프를 그린다\n",
    "fig, (ax1, ax2) = plt.subplots(1, 2)  \n",
    "\n",
    "# speed의 밀도 플롯\n",
    "sns.kdeplot(df['speed'], ax=ax1)\n",
    "ax1.set_title('Speed')\n",
    "\n",
    "# dist의 밀도 플롯\n",
    "sns.kdeplot(df['dist'], ax=ax2)\n",
    "ax2.set_title('Distance')"
   ]
  },
  {
   "cell_type": "markdown",
   "metadata": {},
   "source": [
    "# 왜도와 첨도\n",
    "- https://m.blog.naver.com/PostView.nhn?blogId=s2ak74&logNo=220616766539&proxyReferer=https%3A%2F%2Fwww.google.com%2F\n",
    "    "
   ]
  },
  {
   "cell_type": "code",
   "execution_count": 201,
   "metadata": {},
   "outputs": [
    {
     "data": {
      "text/html": [
       "<table class=\"simpletable\">\n",
       "<caption>OLS Regression Results</caption>\n",
       "<tr>\n",
       "  <th>Dep. Variable:</th>          <td>dist</td>       <th>  R-squared:         </th> <td>   0.524</td>\n",
       "</tr>\n",
       "<tr>\n",
       "  <th>Model:</th>                   <td>OLS</td>       <th>  Adj. R-squared:    </th> <td>   0.514</td>\n",
       "</tr>\n",
       "<tr>\n",
       "  <th>Method:</th>             <td>Least Squares</td>  <th>  F-statistic:       </th> <td>   52.87</td>\n",
       "</tr>\n",
       "<tr>\n",
       "  <th>Date:</th>             <td>Fri, 22 Jan 2021</td> <th>  Prob (F-statistic):</th> <td>2.83e-09</td>\n",
       "</tr>\n",
       "<tr>\n",
       "  <th>Time:</th>                 <td>03:15:17</td>     <th>  Log-Likelihood:    </th> <td> -214.34</td>\n",
       "</tr>\n",
       "<tr>\n",
       "  <th>No. Observations:</th>      <td>    50</td>      <th>  AIC:               </th> <td>   432.7</td>\n",
       "</tr>\n",
       "<tr>\n",
       "  <th>Df Residuals:</th>          <td>    48</td>      <th>  BIC:               </th> <td>   436.5</td>\n",
       "</tr>\n",
       "<tr>\n",
       "  <th>Df Model:</th>              <td>     1</td>      <th>                     </th>     <td> </td>   \n",
       "</tr>\n",
       "<tr>\n",
       "  <th>Covariance Type:</th>      <td>nonrobust</td>    <th>                     </th>     <td> </td>   \n",
       "</tr>\n",
       "</table>\n",
       "<table class=\"simpletable\">\n",
       "<tr>\n",
       "      <td></td>         <th>coef</th>     <th>std err</th>      <th>t</th>      <th>P>|t|</th>  <th>[0.025</th>    <th>0.975]</th>  \n",
       "</tr>\n",
       "<tr>\n",
       "  <th>Intercept</th> <td>   -6.7387</td> <td>    7.294</td> <td>   -0.924</td> <td> 0.360</td> <td>  -21.405</td> <td>    7.927</td>\n",
       "</tr>\n",
       "<tr>\n",
       "  <th>speed</th>     <td>    3.3014</td> <td>    0.454</td> <td>    7.271</td> <td> 0.000</td> <td>    2.388</td> <td>    4.214</td>\n",
       "</tr>\n",
       "</table>\n",
       "<table class=\"simpletable\">\n",
       "<tr>\n",
       "  <th>Omnibus:</th>       <td>18.681</td> <th>  Durbin-Watson:     </th> <td>   1.561</td>\n",
       "</tr>\n",
       "<tr>\n",
       "  <th>Prob(Omnibus):</th> <td> 0.000</td> <th>  Jarque-Bera (JB):  </th> <td>  23.666</td>\n",
       "</tr>\n",
       "<tr>\n",
       "  <th>Skew:</th>          <td> 1.379</td> <th>  Prob(JB):          </th> <td>7.26e-06</td>\n",
       "</tr>\n",
       "<tr>\n",
       "  <th>Kurtosis:</th>      <td> 4.936</td> <th>  Cond. No.          </th> <td>    46.3</td>\n",
       "</tr>\n",
       "</table><br/><br/>Notes:<br/>[1] Standard Errors assume that the covariance matrix of the errors is correctly specified."
      ],
      "text/plain": [
       "<class 'statsmodels.iolib.summary.Summary'>\n",
       "\"\"\"\n",
       "                            OLS Regression Results                            \n",
       "==============================================================================\n",
       "Dep. Variable:                   dist   R-squared:                       0.524\n",
       "Model:                            OLS   Adj. R-squared:                  0.514\n",
       "Method:                 Least Squares   F-statistic:                     52.87\n",
       "Date:                Fri, 22 Jan 2021   Prob (F-statistic):           2.83e-09\n",
       "Time:                        03:15:17   Log-Likelihood:                -214.34\n",
       "No. Observations:                  50   AIC:                             432.7\n",
       "Df Residuals:                      48   BIC:                             436.5\n",
       "Df Model:                           1                                         \n",
       "Covariance Type:            nonrobust                                         \n",
       "==============================================================================\n",
       "                 coef    std err          t      P>|t|      [0.025      0.975]\n",
       "------------------------------------------------------------------------------\n",
       "Intercept     -6.7387      7.294     -0.924      0.360     -21.405       7.927\n",
       "speed          3.3014      0.454      7.271      0.000       2.388       4.214\n",
       "==============================================================================\n",
       "Omnibus:                       18.681   Durbin-Watson:                   1.561\n",
       "Prob(Omnibus):                  0.000   Jarque-Bera (JB):               23.666\n",
       "Skew:                           1.379   Prob(JB):                     7.26e-06\n",
       "Kurtosis:                       4.936   Cond. No.                         46.3\n",
       "==============================================================================\n",
       "\n",
       "Notes:\n",
       "[1] Standard Errors assume that the covariance matrix of the errors is correctly specified.\n",
       "\"\"\""
      ]
     },
     "execution_count": 201,
     "metadata": {},
     "output_type": "execute_result"
    }
   ],
   "source": [
    "from statsmodels.formula.api import ols\n",
    "res = ols('dist ~ speed', data=df).fit()\n",
    "res.summary()"
   ]
  },
  {
   "cell_type": "markdown",
   "metadata": {},
   "source": [
    "## 실습\n",
    "- https://wikidocs.net/50031"
   ]
  },
  {
   "cell_type": "code",
   "execution_count": 9,
   "metadata": {},
   "outputs": [
    {
     "name": "stdout",
     "output_type": "stream",
     "text": [
      "             datetime  season  holiday  workingday  weather  temp   atemp  \\\n",
      "0 2011-01-01 00:00:00       1        0           0        1  9.84  14.395   \n",
      "1 2011-01-01 01:00:00       1        0           0        1  9.02  13.635   \n",
      "2 2011-01-01 02:00:00       1        0           0        1  9.02  13.635   \n",
      "3 2011-01-01 03:00:00       1        0           0        1  9.84  14.395   \n",
      "4 2011-01-01 04:00:00       1        0           0        1  9.84  14.395   \n",
      "\n",
      "   humidity  windspeed  casual  registered  count  \n",
      "0        81        0.0       3          13     16  \n",
      "1        80        0.0       8          32     40  \n",
      "2        80        0.0       5          27     32  \n",
      "3        75        0.0       3          10     13  \n",
      "4        75        0.0       0           1      1  \n"
     ]
    }
   ],
   "source": [
    "import pandas as pd\n",
    "from pandas import DataFrame\n",
    "import numpy as np\n",
    "import matplotlib.pyplot as plt\n",
    "\n",
    "train_df = pd.read_csv(\"https://raw.githubusercontent.com/TeamLab/machine_learning_from_scratch_with_python/master/code/ch8/data/train.csv\", parse_dates=[\"datetime\"])\n",
    "test_df = pd.read_csv(\"https://raw.githubusercontent.com/TeamLab/machine_learning_from_scratch_with_python/master/code/ch8/data/test.csv\", parse_dates=[\"datetime\"])\n",
    "print(train_df.head())"
   ]
  },
  {
   "cell_type": "markdown",
   "metadata": {},
   "source": [
    "### 쉬운 통계: 읽어보기\n",
    "http://blog.naver.com/PostView.nhn?blogId=istech7&logNo=50152984368&parentCategoryNo=&categoryNo=22&viewDate=&isShowPopularPosts=true&from=search"
   ]
  },
  {
   "cell_type": "code",
   "execution_count": null,
   "metadata": {},
   "outputs": [],
   "source": []
  }
 ],
 "metadata": {
  "kernelspec": {
   "display_name": "Python 3",
   "language": "python",
   "name": "python3"
  },
  "language_info": {
   "codemirror_mode": {
    "name": "ipython",
    "version": 3
   },
   "file_extension": ".py",
   "mimetype": "text/x-python",
   "name": "python",
   "nbconvert_exporter": "python",
   "pygments_lexer": "ipython3",
   "version": "3.8.5"
  }
 },
 "nbformat": 4,
 "nbformat_minor": 4
}
