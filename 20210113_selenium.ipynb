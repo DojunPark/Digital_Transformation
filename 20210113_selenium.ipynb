{
 "cells": [
  {
   "cell_type": "markdown",
   "metadata": {},
   "source": [
    "# Bugs 음악 차트 크롤링"
   ]
  },
  {
   "cell_type": "code",
   "execution_count": 49,
   "metadata": {
    "scrolled": false
   },
   "outputs": [],
   "source": [
    "# display max rows option (default = 60)\n",
    "pd.options.display.max_rows = 60"
   ]
  },
  {
   "cell_type": "code",
   "execution_count": 46,
   "metadata": {},
   "outputs": [],
   "source": [
    "import requests\n",
    "from bs4 import BeautifulSoup as bs\n",
    "import pandas as pd\n",
    "\n",
    "url = 'https://music.bugs.co.kr/chart'\n",
    "html = requests.get(url)\n",
    "soup = bs(html.content, 'html')\n",
    "div = soup.find_all('tr', {'rowtype':'track'})\n",
    "\n",
    "ls_info = []\n",
    "for d in div:\n",
    "    ranking = d.find('strong').text\n",
    "    title = d.find('p', class_='title').find('a').text\n",
    "    artist = d.find('p', class_='artist').find('a').text\n",
    "    album = d.find('a', class_='album').text\n",
    "    ls_info.append([ranking, title, artist, album])\n",
    "    \n",
    "df = pd.DataFrame(ls_info, columns=['순위', '제목', '아티스트', '앨범'])"
   ]
  },
  {
   "cell_type": "code",
   "execution_count": 61,
   "metadata": {
    "scrolled": false
   },
   "outputs": [
    {
     "data": {
      "text/html": [
       "<div>\n",
       "<style scoped>\n",
       "    .dataframe tbody tr th:only-of-type {\n",
       "        vertical-align: middle;\n",
       "    }\n",
       "\n",
       "    .dataframe tbody tr th {\n",
       "        vertical-align: top;\n",
       "    }\n",
       "\n",
       "    .dataframe thead th {\n",
       "        text-align: right;\n",
       "    }\n",
       "</style>\n",
       "<table border=\"1\" class=\"dataframe\">\n",
       "  <thead>\n",
       "    <tr style=\"text-align: right;\">\n",
       "      <th></th>\n",
       "      <th>순위</th>\n",
       "      <th>제목</th>\n",
       "      <th>아티스트</th>\n",
       "      <th>앨범</th>\n",
       "    </tr>\n",
       "  </thead>\n",
       "  <tbody>\n",
       "    <tr>\n",
       "      <th>0</th>\n",
       "      <td>1</td>\n",
       "      <td>화(火花)</td>\n",
       "      <td>(여자)아이들</td>\n",
       "      <td>I burn</td>\n",
       "    </tr>\n",
       "    <tr>\n",
       "      <th>1</th>\n",
       "      <td>2</td>\n",
       "      <td>옜다 (Take It) (Prod. GroovyRoom)</td>\n",
       "      <td>머쉬베놈(MUSHVENOM)</td>\n",
       "      <td>굴젓 (G+Jus)</td>\n",
       "    </tr>\n",
       "    <tr>\n",
       "      <th>2</th>\n",
       "      <td>3</td>\n",
       "      <td>MOON</td>\n",
       "      <td>(여자)아이들</td>\n",
       "      <td>I burn</td>\n",
       "    </tr>\n",
       "    <tr>\n",
       "      <th>3</th>\n",
       "      <td>4</td>\n",
       "      <td>Your Lights</td>\n",
       "      <td>이수 (엠씨더맥스)</td>\n",
       "      <td>Your Lights (바이크 원정대 OST Part.1)</td>\n",
       "    </tr>\n",
       "    <tr>\n",
       "      <th>4</th>\n",
       "      <td>5</td>\n",
       "      <td>우린 어쩌다 헤어진 걸까</td>\n",
       "      <td>허각</td>\n",
       "      <td>Hello</td>\n",
       "    </tr>\n",
       "  </tbody>\n",
       "</table>\n",
       "</div>"
      ],
      "text/plain": [
       "  순위                               제목             아티스트  \\\n",
       "0  1                            화(火花)          (여자)아이들   \n",
       "1  2  옜다 (Take It) (Prod. GroovyRoom)  머쉬베놈(MUSHVENOM)   \n",
       "2  3                             MOON          (여자)아이들   \n",
       "3  4                      Your Lights       이수 (엠씨더맥스)   \n",
       "4  5                    우린 어쩌다 헤어진 걸까               허각   \n",
       "\n",
       "                                 앨범  \n",
       "0                            I burn  \n",
       "1                        굴젓 (G+Jus)  \n",
       "2                            I burn  \n",
       "3  Your Lights (바이크 원정대 OST Part.1)  \n",
       "4                             Hello  "
      ]
     },
     "metadata": {},
     "output_type": "display_data"
    },
    {
     "data": {
      "text/html": [
       "<div>\n",
       "<style scoped>\n",
       "    .dataframe tbody tr th:only-of-type {\n",
       "        vertical-align: middle;\n",
       "    }\n",
       "\n",
       "    .dataframe tbody tr th {\n",
       "        vertical-align: top;\n",
       "    }\n",
       "\n",
       "    .dataframe thead th {\n",
       "        text-align: right;\n",
       "    }\n",
       "</style>\n",
       "<table border=\"1\" class=\"dataframe\">\n",
       "  <thead>\n",
       "    <tr style=\"text-align: right;\">\n",
       "      <th></th>\n",
       "      <th>순위</th>\n",
       "      <th>제목</th>\n",
       "      <th>아티스트</th>\n",
       "      <th>앨범</th>\n",
       "    </tr>\n",
       "  </thead>\n",
       "  <tbody>\n",
       "    <tr>\n",
       "      <th>95</th>\n",
       "      <td>96</td>\n",
       "      <td>요즘</td>\n",
       "      <td>양다일</td>\n",
       "      <td>요즘</td>\n",
       "    </tr>\n",
       "    <tr>\n",
       "      <th>96</th>\n",
       "      <td>97</td>\n",
       "      <td>Love poem</td>\n",
       "      <td>아이유(IU)</td>\n",
       "      <td>Love poem</td>\n",
       "    </tr>\n",
       "    <tr>\n",
       "      <th>97</th>\n",
       "      <td>98</td>\n",
       "      <td>어김없이 이 거리에</td>\n",
       "      <td>정승환</td>\n",
       "      <td>어김없이 이 거리에</td>\n",
       "    </tr>\n",
       "    <tr>\n",
       "      <th>98</th>\n",
       "      <td>99</td>\n",
       "      <td>광화문에서 (At Gwanghwamun)</td>\n",
       "      <td>규현 (KYUHYUN)</td>\n",
       "      <td>The 1st Mini Album '광화문에서 (At Gwanghwamun)'</td>\n",
       "    </tr>\n",
       "    <tr>\n",
       "      <th>99</th>\n",
       "      <td>100</td>\n",
       "      <td>서울 가 살자</td>\n",
       "      <td>전유진</td>\n",
       "      <td>내일은 미스트롯2 예선전 베스트 PART2</td>\n",
       "    </tr>\n",
       "  </tbody>\n",
       "</table>\n",
       "</div>"
      ],
      "text/plain": [
       "     순위                      제목          아티스트  \\\n",
       "95   96                      요즘           양다일   \n",
       "96   97               Love poem       아이유(IU)   \n",
       "97   98              어김없이 이 거리에           정승환   \n",
       "98   99  광화문에서 (At Gwanghwamun)  규현 (KYUHYUN)   \n",
       "99  100                 서울 가 살자           전유진   \n",
       "\n",
       "                                             앨범  \n",
       "95                                           요즘  \n",
       "96                                    Love poem  \n",
       "97                                   어김없이 이 거리에  \n",
       "98  The 1st Mini Album '광화문에서 (At Gwanghwamun)'  \n",
       "99                      내일은 미스트롯2 예선전 베스트 PART2  "
      ]
     },
     "metadata": {},
     "output_type": "display_data"
    }
   ],
   "source": [
    "display(df.head())\n",
    "display(df.tail())"
   ]
  },
  {
   "cell_type": "code",
   "execution_count": 59,
   "metadata": {},
   "outputs": [
    {
     "name": "stdout",
     "output_type": "stream",
     "text": [
      "\u001b[0m\u001b[01;32mbug_top100.csv\u001b[0m*\r\n"
     ]
    }
   ],
   "source": [
    "ls ./py_data/crawling"
   ]
  },
  {
   "cell_type": "code",
   "execution_count": 58,
   "metadata": {},
   "outputs": [],
   "source": [
    "df.to_csv('./py_data/crawling/bug_top100.csv', index=False, encoding='utf-8')"
   ]
  },
  {
   "cell_type": "markdown",
   "metadata": {},
   "source": [
    "# 멜론 차트 크롤링\n",
    "- bs4 라이브러리로는 가져올 수 없음"
   ]
  },
  {
   "cell_type": "code",
   "execution_count": 64,
   "metadata": {},
   "outputs": [
    {
     "name": "stdout",
     "output_type": "stream",
     "text": [
      "0\n",
      "<Response [406]>\n"
     ]
    }
   ],
   "source": [
    "import requests\n",
    "from bs4 import BeautifulSoup as bs\n",
    "import pandas as pd\n",
    "\n",
    "url = 'https://www.melon.com/chart/index.htm'\n",
    "html = requests.get(url)\n",
    "soup = bs(html.content, 'html.parser')\n",
    "\n",
    "div = soup.find_all('tr')\n",
    "\n",
    "print(len(div))\n",
    "print(html)"
   ]
  },
  {
   "cell_type": "markdown",
   "metadata": {},
   "source": [
    "# 네이버 vibe"
   ]
  },
  {
   "cell_type": "code",
   "execution_count": 67,
   "metadata": {},
   "outputs": [
    {
     "data": {
      "text/plain": [
       "<!DOCTYPE html>\n",
       "<html lang=\"ko\"><head><meta charset=\"utf-8\"/><meta content=\"IE=edge\" http-equiv=\"X-UA-Compatible\"/><meta content=\"width=device-width,initial-scale=1,user-scalable=no\" name=\"viewport\"/><meta content=\"telephone=no\" name=\"format-detection\"/><meta content=\"좋아하는 음악은 물론, 좋아할 음악까지 들려주는 취향 저격 뮤직 서비스\" name=\"description\"/><meta content=\"app-id=1338631589\" name=\"apple-itunes-app\"/><meta content=\"website\" property=\"og:type\"/><meta content=\"https://music-phinf.pstatic.net/20201019_118/16031004163365Jexk_JPEG/about.jpg\" property=\"og:image\"/><meta content=\"NAVER VIBE(바이브)\" property=\"og:title\"/><meta content=\"#나만을 위한 음악이 듣고 싶을 땐 #내돈내듣 VIBE.\" property=\"og:description\"/><meta content=\"https://vibe.naver.com\" property=\"og:url\"/><meta content=\"summary_large_image\" name=\"twitter:card\"/><meta content=\"https://music-phinf.pstatic.net/20201019_118/16031004163365Jexk_JPEG/about.jpg\" name=\"twitter:image\"/><meta content=\"NAVER VIBE(바이브)\" name=\"twitter:title\"/><meta content=\"NAVER VIBE(바이브)\" name=\"twitter:site\"/><meta content=\"VIBE\" name=\"twitter:creator\"/><meta content=\"#나만을 위한 음악이 듣고 싶을 땐 #내돈내듣 VIBE.\" name=\"twitter:description\"/><link href=\"/favicon.ico\" rel=\"shortcut icon\" type=\"image/x-icon\"/><link href=\"/favicon.ico\" rel=\"icon\" type=\"image/x-icon\"/><link href=\"/images/icon/icon_120x120.png\" rel=\"apple-touch-icon\"/><link href=\"/images/icon/icon_120x120.png\" rel=\"apple-touch-icon\" sizes=\"120x120\"/><link href=\"/images/icon/icon_152x152.png\" rel=\"apple-touch-icon\" sizes=\"152x152\"/><link href=\"/images/icon/icon_167x167.png\" rel=\"apple-touch-icon\" sizes=\"167x167\"/><link href=\"/images/icon/icon_180x180.png\" rel=\"apple-touch-icon\" sizes=\"180x180\"/><title>VIBE (바이브)</title><link href=\"/css/common.5db74099.css\" rel=\"prefetch\"/><link href=\"/js/common.0324a9b6.js\" rel=\"prefetch\"/><link as=\"style\" href=\"/css/app.2558c80e.css\" rel=\"preload\"/><link as=\"style\" href=\"/css/chunk-vendors.a25739cf.css\" rel=\"preload\"/><link as=\"script\" href=\"/js/app.b74e01bc.js\" rel=\"preload\"/><link as=\"script\" href=\"/js/chunk-vendors.4d47b924.js\" rel=\"preload\"/><link href=\"/css/chunk-vendors.a25739cf.css\" rel=\"stylesheet\"/><link href=\"/css/app.2558c80e.css\" rel=\"stylesheet\"/></head><body><noscript><strong>자바스크립트가 비활성화 되어있어 화면을 표시할 수 없습니다. 브라우저 설정에서 자바스크립트를 활성화 후 다시 시도해 주세요.</strong></noscript><div class=\"app\" id=\"app\"></div><script src=\"/js/chunk-vendors.4d47b924.js\"></script><script src=\"/js/app.b74e01bc.js\"></script></body></html>"
      ]
     },
     "execution_count": 67,
     "metadata": {},
     "output_type": "execute_result"
    }
   ],
   "source": [
    "import requests\n",
    "from bs4 import BeautifulSoup as bs\n",
    "import pandas as pd\n",
    "\n",
    "url = 'https://vibe.naver.com/chart/total'\n",
    "html = requests.get(url)\n",
    "soup = bs(html.content, 'html.parser')\n",
    "\n",
    "soup"
   ]
  },
  {
   "cell_type": "markdown",
   "metadata": {},
   "source": [
    "# Selenium\n",
    "- webdriver라는 API를 통해 운영체제에 설치된 브라우저를 제어함\n",
    "\n",
    "### 준비 단계\n",
    "1. `pip install selenium`\n",
    "2. 본인이 사용하고 있는 크롬 브라우저 버전(`chrome://version`) 확인 후 `ChromeWebDriver.exe` 다운로드"
   ]
  },
  {
   "cell_type": "code",
   "execution_count": 13,
   "metadata": {},
   "outputs": [],
   "source": [
    "from selenium import webdriver\n",
    "\n",
    "driver = webdriver.Chrome('./py_data/crawling/chromedriver.exe')\n",
    "driver.get('https://www.google.co.kr/')\n",
    "\n",
    "elem = driver.find_element_by_name(\"q\")"
   ]
  },
  {
   "cell_type": "code",
   "execution_count": 9,
   "metadata": {},
   "outputs": [],
   "source": [
    "elem.send_keys('저녁 메뉴 추천')"
   ]
  },
  {
   "cell_type": "code",
   "execution_count": 10,
   "metadata": {},
   "outputs": [],
   "source": [
    "elem.clear()"
   ]
  },
  {
   "cell_type": "code",
   "execution_count": 14,
   "metadata": {},
   "outputs": [],
   "source": [
    "driver.close()"
   ]
  },
  {
   "cell_type": "markdown",
   "metadata": {},
   "source": [
    "# Selenium 메소드\n",
    "### URL 접근\n",
    "- `driver.get(url)`\n",
    "\n",
    "### 단일 element 접근\n",
    "- `driver.find_element_by_name()`\n",
    "- `driver.find_element_by_id()`\n",
    "- `driver.find_element_by_xpath()`\n",
    "- `driver.find_element_by_css_selector()`\n",
    "- `driver.find_element_by_class_name()`\n",
    "- `driver.find_element_by_tag_name()`\n",
    "\n",
    "### 여러 element 접근\n",
    "- `driver.find_elements_by_name()`\n",
    "- `driver.find_elements_by_id()`\n",
    "- `driver.find_elements_by_xpath()`\n",
    "- `driver.find_elements_by_css_selector()`\n",
    "- `driver.find_elements_by_class_name()`\n",
    "- `driver.find_elements_by_tag_name()`"
   ]
  },
  {
   "cell_type": "markdown",
   "metadata": {},
   "source": [
    "# 로그인\n",
    "- 로그인의 경우 자동 입력 방지로 인해 직접 입력해주어야 하기도 함\n",
    "- `driver.implicitly_wait(5)`이나 `time.sleep(5)`을 이용하여 딜레이를 줌"
   ]
  },
  {
   "cell_type": "code",
   "execution_count": 39,
   "metadata": {},
   "outputs": [],
   "source": [
    "with open('C:\\\\Users\\\\dojun\\\\Documents\\\\api_keys\\\\naver_login.txt') as f:\n",
    "    log_id = f.readline()\n",
    "    log_pw = f.readline()"
   ]
  },
  {
   "cell_type": "code",
   "execution_count": 49,
   "metadata": {},
   "outputs": [],
   "source": [
    "import time\n",
    "from selenium import webdriver\n",
    "from selenium.webdriver.common.keys import Keys\n",
    "import pyperclip\n",
    "\n",
    "driver = webdriver.Chrome('./py_data/crawling/chromedriver.exe')\n",
    "driver.get('https://nid.naver.com/nidlogin.login')\n",
    "\n",
    "naver_id = driver.find_element_by_name('id')\n",
    "naver_pw = driver.find_element_by_name('pw')\n",
    "\n",
    "naver_id.click()\n",
    "pyperclip.copy(log_id)\n",
    "naver_id.send_keys(Keys.CONTROL, 'v')\n",
    "time.sleep(1)\n",
    "\n",
    "naver_pw.click()\n",
    "pyperclip.copy(log_pw)\n",
    "naver_pw.send_keys(Keys.CONTROL, 'v')\n",
    "time.sleep(1)\n",
    "\n",
    "driver.find_element_by_xpath('//*[@id=\"log.login\"]').click()\n",
    "driver.implicitly_wait(5)\n",
    "\n",
    "driver.find_element_by_xpath('//*[@id=\"NM_FAVORITE\"]/div[1]/ul[2]/li[2]/a').click()\n",
    "driver.implicitly_wait(5)"
   ]
  },
  {
   "cell_type": "code",
   "execution_count": 51,
   "metadata": {},
   "outputs": [],
   "source": [
    "driver.close()"
   ]
  },
  {
   "cell_type": "markdown",
   "metadata": {},
   "source": [
    "# 셀레니움으로 네이버 차트 가져오기"
   ]
  },
  {
   "cell_type": "code",
   "execution_count": 102,
   "metadata": {},
   "outputs": [
    {
     "name": "stdout",
     "output_type": "stream",
     "text": [
      "100\n"
     ]
    },
    {
     "data": {
      "text/html": [
       "<div>\n",
       "<style scoped>\n",
       "    .dataframe tbody tr th:only-of-type {\n",
       "        vertical-align: middle;\n",
       "    }\n",
       "\n",
       "    .dataframe tbody tr th {\n",
       "        vertical-align: top;\n",
       "    }\n",
       "\n",
       "    .dataframe thead th {\n",
       "        text-align: right;\n",
       "    }\n",
       "</style>\n",
       "<table border=\"1\" class=\"dataframe\">\n",
       "  <thead>\n",
       "    <tr style=\"text-align: right;\">\n",
       "      <th></th>\n",
       "      <th>순위</th>\n",
       "      <th>노래</th>\n",
       "      <th>가수</th>\n",
       "      <th>앨범</th>\n",
       "    </tr>\n",
       "  </thead>\n",
       "  <tbody>\n",
       "    <tr>\n",
       "      <th>0</th>\n",
       "      <td>1</td>\n",
       "      <td>Dynamite</td>\n",
       "      <td>방탄소년단</td>\n",
       "      <td>Dynamite (DayTime Version)</td>\n",
       "    </tr>\n",
       "    <tr>\n",
       "      <th>1</th>\n",
       "      <td>2</td>\n",
       "      <td>밤하늘의 별을 (2020)</td>\n",
       "      <td>경서</td>\n",
       "      <td>밤하늘의 별을 (2020)</td>\n",
       "    </tr>\n",
       "    <tr>\n",
       "      <th>2</th>\n",
       "      <td>3</td>\n",
       "      <td>VVS (Feat. JUSTHIS) (Prod. GroovyRoom)</td>\n",
       "      <td>미란이(Mirani)</td>\n",
       "      <td>쇼미더머니 9 Episode 1</td>\n",
       "    </tr>\n",
       "    <tr>\n",
       "      <th>3</th>\n",
       "      <td>4</td>\n",
       "      <td>잠이 오질 않네요</td>\n",
       "      <td>장범준</td>\n",
       "      <td>잠이 오질 않네요</td>\n",
       "    </tr>\n",
       "    <tr>\n",
       "      <th>4</th>\n",
       "      <td>5</td>\n",
       "      <td>Lovesick Girls</td>\n",
       "      <td>BLACKPINK</td>\n",
       "      <td>THE ALBUM</td>\n",
       "    </tr>\n",
       "    <tr>\n",
       "      <th>...</th>\n",
       "      <td>...</td>\n",
       "      <td>...</td>\n",
       "      <td>...</td>\n",
       "      <td>...</td>\n",
       "    </tr>\n",
       "    <tr>\n",
       "      <th>95</th>\n",
       "      <td>96</td>\n",
       "      <td>눈 (Feat. 이문세)</td>\n",
       "      <td>Zion.T</td>\n",
       "      <td>눈</td>\n",
       "    </tr>\n",
       "    <tr>\n",
       "      <th>96</th>\n",
       "      <td>97</td>\n",
       "      <td>내 방을 여행하는 법</td>\n",
       "      <td>방탄소년단</td>\n",
       "      <td>BE</td>\n",
       "    </tr>\n",
       "    <tr>\n",
       "      <th>97</th>\n",
       "      <td>98</td>\n",
       "      <td>positions</td>\n",
       "      <td>Ariana Grande</td>\n",
       "      <td>positions</td>\n",
       "    </tr>\n",
       "    <tr>\n",
       "      <th>98</th>\n",
       "      <td>99</td>\n",
       "      <td>밝게 빛나는 별이 되어 비춰줄게</td>\n",
       "      <td>송이한</td>\n",
       "      <td>밝게 빛나는 별이 되어 비춰줄게</td>\n",
       "    </tr>\n",
       "    <tr>\n",
       "      <th>99</th>\n",
       "      <td>100</td>\n",
       "      <td>Psycho</td>\n",
       "      <td>Red Velvet (레드벨벳)</td>\n",
       "      <td>‘The ReVe Festival' Finale</td>\n",
       "    </tr>\n",
       "  </tbody>\n",
       "</table>\n",
       "<p>100 rows × 4 columns</p>\n",
       "</div>"
      ],
      "text/plain": [
       "     순위                                      노래                 가수  \\\n",
       "0     1                                Dynamite              방탄소년단   \n",
       "1     2                          밤하늘의 별을 (2020)                 경서   \n",
       "2     3  VVS (Feat. JUSTHIS) (Prod. GroovyRoom)        미란이(Mirani)   \n",
       "3     4                               잠이 오질 않네요                장범준   \n",
       "4     5                          Lovesick Girls          BLACKPINK   \n",
       "..  ...                                     ...                ...   \n",
       "95   96                           눈 (Feat. 이문세)             Zion.T   \n",
       "96   97                             내 방을 여행하는 법              방탄소년단   \n",
       "97   98                               positions      Ariana Grande   \n",
       "98   99                       밝게 빛나는 별이 되어 비춰줄게                송이한   \n",
       "99  100                                  Psycho  Red Velvet (레드벨벳)   \n",
       "\n",
       "                            앨범  \n",
       "0   Dynamite (DayTime Version)  \n",
       "1               밤하늘의 별을 (2020)  \n",
       "2            쇼미더머니 9 Episode 1  \n",
       "3                    잠이 오질 않네요  \n",
       "4                    THE ALBUM  \n",
       "..                         ...  \n",
       "95                           눈  \n",
       "96                          BE  \n",
       "97                   positions  \n",
       "98           밝게 빛나는 별이 되어 비춰줄게  \n",
       "99  ‘The ReVe Festival' Finale  \n",
       "\n",
       "[100 rows x 4 columns]"
      ]
     },
     "execution_count": 102,
     "metadata": {},
     "output_type": "execute_result"
    }
   ],
   "source": [
    "import time\n",
    "from selenium import webdriver\n",
    "from bs4 import BeautifulSoup as bs\n",
    "\n",
    "url = 'https://vibe.naver.com/chart/total'\n",
    "driver = webdriver.Chrome('./py_data/crawling/chromedriver.exe')\n",
    "driver.get(url)\n",
    "driver.implicitly_wait(5)\n",
    "\n",
    "driver.find_element_by_xpath('//*[@id=\"app\"]/div[2]/div/div/a[2]').click()\n",
    "html = driver.page_source\n",
    "soup = bs(html, 'html.parser')\n",
    "\n",
    "driver.close()\n",
    "\n",
    "import pandas as pd\n",
    "\n",
    "div = soup.find('tbody')\n",
    "div = div.find_all('tr')\n",
    "print(len(div))\n",
    "\n",
    "ls_info = []\n",
    "for d in div:\n",
    "    rank = d.find('td', class_='rank').find('span').text\n",
    "    song = d.find('span', class_='inner_cell').text\n",
    "    artist = d.find('a', class_='link_artist').text\n",
    "    album = d.find('td', class_='album').text\n",
    "    ls_info.append([rank, song, artist, album])\n",
    "    \n",
    "df = pd.DataFrame(ls_info, columns=['순위', '노래', '가수', '앨범'])\n",
    "df"
   ]
  },
  {
   "cell_type": "markdown",
   "metadata": {},
   "source": [
    "# 셀레니움으로 멜론 차트 가져오기"
   ]
  },
  {
   "cell_type": "code",
   "execution_count": null,
   "metadata": {},
   "outputs": [],
   "source": [
    "import time\n",
    "from selenium import webdriver\n",
    "from bs4 import BeautifulSoup as bs\n",
    "import pandas as pd\n",
    "\n",
    "url = 'https://www.melon.com/chart/index.htm'\n",
    "driver = webdriver.Chrome('./py_data/crawling/chromedriver.exe')\n",
    "driver.get(url)\n",
    "driver.implicitly_wait(5)\n",
    "\n",
    "html = driver.page_source\n",
    "soup = bs(html, 'html.parser')\n",
    "\n",
    "driver.close()"
   ]
  },
  {
   "cell_type": "code",
   "execution_count": 119,
   "metadata": {},
   "outputs": [
    {
     "name": "stdout",
     "output_type": "stream",
     "text": [
      "100\n"
     ]
    },
    {
     "data": {
      "text/html": [
       "<div>\n",
       "<style scoped>\n",
       "    .dataframe tbody tr th:only-of-type {\n",
       "        vertical-align: middle;\n",
       "    }\n",
       "\n",
       "    .dataframe tbody tr th {\n",
       "        vertical-align: top;\n",
       "    }\n",
       "\n",
       "    .dataframe thead th {\n",
       "        text-align: right;\n",
       "    }\n",
       "</style>\n",
       "<table border=\"1\" class=\"dataframe\">\n",
       "  <thead>\n",
       "    <tr style=\"text-align: right;\">\n",
       "      <th></th>\n",
       "      <th>노래</th>\n",
       "      <th>가수</th>\n",
       "      <th>앨범</th>\n",
       "    </tr>\n",
       "  </thead>\n",
       "  <tbody>\n",
       "    <tr>\n",
       "      <th>0</th>\n",
       "      <td>VVS (Feat. JUSTHIS) (Prod. GroovyRoom)</td>\n",
       "      <td>미란이 (Mirani), 먼치맨, Khundi Panda, 머쉬베놈 (MUSHVENOM)</td>\n",
       "      <td>쇼미더머니 9 Episode 1</td>\n",
       "    </tr>\n",
       "    <tr>\n",
       "      <th>1</th>\n",
       "      <td>밤하늘의 별을(2020)</td>\n",
       "      <td>경서</td>\n",
       "      <td>밤하늘의 별을(2020)</td>\n",
       "    </tr>\n",
       "    <tr>\n",
       "      <th>2</th>\n",
       "      <td>Dynamite</td>\n",
       "      <td>방탄소년단</td>\n",
       "      <td>Dynamite (DayTime Version)</td>\n",
       "    </tr>\n",
       "    <tr>\n",
       "      <th>3</th>\n",
       "      <td>잠이 오질 않네요</td>\n",
       "      <td>장범준</td>\n",
       "      <td>잠이 오질 않네요</td>\n",
       "    </tr>\n",
       "    <tr>\n",
       "      <th>4</th>\n",
       "      <td>Lovesick Girls</td>\n",
       "      <td>BLACKPINK</td>\n",
       "      <td>THE ALBUM</td>\n",
       "    </tr>\n",
       "    <tr>\n",
       "      <th>...</th>\n",
       "      <td>...</td>\n",
       "      <td>...</td>\n",
       "      <td>...</td>\n",
       "    </tr>\n",
       "    <tr>\n",
       "      <th>95</th>\n",
       "      <td>적외선 카메라</td>\n",
       "      <td>원슈타인</td>\n",
       "      <td>쇼미더머니 9 Episode 3</td>\n",
       "    </tr>\n",
       "    <tr>\n",
       "      <th>96</th>\n",
       "      <td>For You (Feat. Crush)</td>\n",
       "      <td>이하이</td>\n",
       "      <td>For You</td>\n",
       "    </tr>\n",
       "    <tr>\n",
       "      <th>97</th>\n",
       "      <td>원해 (Feat. 팔로알토) (Prod. 코드 쿤스트)</td>\n",
       "      <td>스윙스, 맥대디 (Mckdaddy), Khakii (카키), 래원 (Layone)</td>\n",
       "      <td>쇼미더머니 9 Episode 1</td>\n",
       "    </tr>\n",
       "    <tr>\n",
       "      <th>98</th>\n",
       "      <td>가다 (Feat. 사이먼 도미닉, The Quiett) (Prod. SLO)</td>\n",
       "      <td>머쉬베놈 (MUSHVENOM)</td>\n",
       "      <td>쇼미더머니 9 Final</td>\n",
       "    </tr>\n",
       "    <tr>\n",
       "      <th>99</th>\n",
       "      <td>Blue &amp; Grey</td>\n",
       "      <td>방탄소년단</td>\n",
       "      <td>BE</td>\n",
       "    </tr>\n",
       "  </tbody>\n",
       "</table>\n",
       "<p>100 rows × 3 columns</p>\n",
       "</div>"
      ],
      "text/plain": [
       "                                            노래  \\\n",
       "0       VVS (Feat. JUSTHIS) (Prod. GroovyRoom)   \n",
       "1                                밤하늘의 별을(2020)   \n",
       "2                                     Dynamite   \n",
       "3                                    잠이 오질 않네요   \n",
       "4                               Lovesick Girls   \n",
       "..                                         ...   \n",
       "95                                     적외선 카메라   \n",
       "96                       For You (Feat. Crush)   \n",
       "97              원해 (Feat. 팔로알토) (Prod. 코드 쿤스트)   \n",
       "98  가다 (Feat. 사이먼 도미닉, The Quiett) (Prod. SLO)   \n",
       "99                                 Blue & Grey   \n",
       "\n",
       "                                                   가수  \\\n",
       "0   미란이 (Mirani), 먼치맨, Khundi Panda, 머쉬베놈 (MUSHVENOM)   \n",
       "1                                                  경서   \n",
       "2                                               방탄소년단   \n",
       "3                                                 장범준   \n",
       "4                                           BLACKPINK   \n",
       "..                                                ...   \n",
       "95                                               원슈타인   \n",
       "96                                                이하이   \n",
       "97      스윙스, 맥대디 (Mckdaddy), Khakii (카키), 래원 (Layone)   \n",
       "98                                   머쉬베놈 (MUSHVENOM)   \n",
       "99                                              방탄소년단   \n",
       "\n",
       "                            앨범  \n",
       "0            쇼미더머니 9 Episode 1  \n",
       "1                밤하늘의 별을(2020)  \n",
       "2   Dynamite (DayTime Version)  \n",
       "3                    잠이 오질 않네요  \n",
       "4                    THE ALBUM  \n",
       "..                         ...  \n",
       "95           쇼미더머니 9 Episode 3  \n",
       "96                     For You  \n",
       "97           쇼미더머니 9 Episode 1  \n",
       "98               쇼미더머니 9 Final  \n",
       "99                          BE  \n",
       "\n",
       "[100 rows x 3 columns]"
      ]
     },
     "execution_count": 119,
     "metadata": {},
     "output_type": "execute_result"
    }
   ],
   "source": [
    "div = soup.find('tbody')\n",
    "div = div.find_all('tr')\n",
    "print(len(div))\n",
    "\n",
    "ls_info = []\n",
    "for d in div:\n",
    "    song = d.find('div', class_='ellipsis rank01').text.replace('\\n', '')\n",
    "    artist = d.find('span', class_='checkEllipsis').text\n",
    "    album = d.find('div', class_='ellipsis rank03').text.replace('\\n', '')\n",
    "    ls_info.append([song, artist, album])\n",
    "    \n",
    "df = pd.DataFrame(ls_info, columns=['노래', '가수', '앨범'])\n",
    "df"
   ]
  },
  {
   "cell_type": "markdown",
   "metadata": {},
   "source": [
    "# 멜론, 네이버, 벅스 차트 가져오는 함수"
   ]
  },
  {
   "cell_type": "code",
   "execution_count": 134,
   "metadata": {},
   "outputs": [],
   "source": [
    "def get_top100(site):\n",
    "    import time\n",
    "    import requests\n",
    "    from selenium import webdriver\n",
    "    from bs4 import BeautifulSoup as bs\n",
    "    import pandas as pd\n",
    "    from datetime import datetime\n",
    "\n",
    "    today = datetime.today()\n",
    "    today = today.strftime('%Y%m%d')\n",
    "    \n",
    "    if site == '멜론':\n",
    "        url = 'https://www.melon.com/chart/index.htm'\n",
    "        driver = webdriver.Chrome('./py_data/crawling/chromedriver.exe')\n",
    "        driver.get(url)\n",
    "        driver.implicitly_wait(5)\n",
    "\n",
    "        html = driver.page_source\n",
    "        soup = bs(html, 'html.parser')\n",
    "\n",
    "        driver.close()\n",
    "\n",
    "        div = soup.find('tbody')\n",
    "        div = div.find_all('tr')\n",
    "\n",
    "        ls_info = []\n",
    "        for i, d in enumerate(div):\n",
    "            song = d.find('div', class_='ellipsis rank01').text.replace('\\n', '')\n",
    "            artist = d.find('span', class_='checkEllipsis').text\n",
    "            album = d.find('div', class_='ellipsis rank03').text.replace('\\n', '')\n",
    "            ls_info.append([i+1, song, artist, album])\n",
    "\n",
    "        df = pd.DataFrame(ls_info, columns=['순위', '노래', '가수', '앨범'])\n",
    "        df.to_csv('./py_data/crawling/'+str(today)+'_'+site+'_top100.csv', index = False, encoding = 'utf-8')\n",
    "    \n",
    "    elif site == '네이버':\n",
    "        url = 'https://vibe.naver.com/chart/total'\n",
    "        driver = webdriver.Chrome('./py_data/crawling/chromedriver.exe')\n",
    "        driver.get(url)\n",
    "        driver.implicitly_wait(5)\n",
    "        \n",
    "        driver.find_element_by_xpath('//*[@id=\"app\"]/div[2]/div/div/a[2]').click()\n",
    "        html = driver.page_source\n",
    "        soup = bs(html, 'html.parser')\n",
    "\n",
    "        driver.close()\n",
    "\n",
    "        import pandas as pd\n",
    "\n",
    "        div = soup.find('tbody')\n",
    "        div = div.find_all('tr')\n",
    "\n",
    "        ls_info = []\n",
    "        for d in div:\n",
    "            rank = d.find('td', class_='rank').find('span').text\n",
    "            song = d.find('span', class_='inner_cell').text\n",
    "            artist = d.find('a', class_='link_artist').text\n",
    "            album = d.find('td', class_='album').text\n",
    "            ls_info.append([rank, song, artist, album])\n",
    "\n",
    "        df = pd.DataFrame(ls_info, columns=['순위', '노래', '가수', '앨범'])\n",
    "        df.to_csv('./py_data/crawling/'+str(today)+'_'+site+'_top100.csv', index = False, encoding = 'utf-8')\n",
    "        \n",
    "    elif site == '벅스':\n",
    "        url = 'https://music.bugs.co.kr/chart'\n",
    "        html = requests.get(url)\n",
    "        soup = bs(html.content, 'html')\n",
    "        div = soup.find_all('tr', {'rowtype':'track'})\n",
    "\n",
    "        ls_info = []\n",
    "        for d in div:\n",
    "            ranking = d.find('strong').text\n",
    "            title = d.find('p', class_='title').find('a').text\n",
    "            artist = d.find('p', class_='artist').find('a').text\n",
    "            album = d.find('a', class_='album').text\n",
    "            ls_info.append([ranking, title, artist, album])\n",
    "\n",
    "        df = pd.DataFrame(ls_info, columns=['순위', '노래', '가수', '앨범'])\n",
    "        df.to_csv('./py_data/crawling/'+str(today)+'_'+site+'_top100.csv', index = False, encoding = 'utf-8')\n",
    "        "
   ]
  },
  {
   "cell_type": "code",
   "execution_count": 135,
   "metadata": {},
   "outputs": [],
   "source": [
    "get_top100('멜론')"
   ]
  },
  {
   "cell_type": "code",
   "execution_count": 132,
   "metadata": {},
   "outputs": [],
   "source": [
    "get_top100('네이버')"
   ]
  },
  {
   "cell_type": "code",
   "execution_count": 136,
   "metadata": {},
   "outputs": [],
   "source": [
    "get_top100('벅스')"
   ]
  },
  {
   "cell_type": "markdown",
   "metadata": {},
   "source": [
    "# 날짜 생성 및 변환"
   ]
  },
  {
   "cell_type": "code",
   "execution_count": 123,
   "metadata": {},
   "outputs": [
    {
     "data": {
      "text/plain": [
       "'20210113'"
      ]
     },
     "execution_count": 123,
     "metadata": {},
     "output_type": "execute_result"
    }
   ],
   "source": [
    "from datetime import datetime\n",
    "\n",
    "today = datetime.today()\n",
    "today = today.strftime('%Y%m%d')\n",
    "today"
   ]
  },
  {
   "cell_type": "code",
   "execution_count": 138,
   "metadata": {},
   "outputs": [
    {
     "data": {
      "text/plain": [
       "'20210113'"
      ]
     },
     "execution_count": 138,
     "metadata": {},
     "output_type": "execute_result"
    }
   ],
   "source": [
    "import datetime\n",
    "\n",
    "today = datetime.datetime.today()\n",
    "today = today.strftime('%Y%m%d')\n",
    "today"
   ]
  }
 ],
 "metadata": {
  "kernelspec": {
   "display_name": "Python 3",
   "language": "python",
   "name": "python3"
  },
  "language_info": {
   "codemirror_mode": {
    "name": "ipython",
    "version": 3
   },
   "file_extension": ".py",
   "mimetype": "text/x-python",
   "name": "python",
   "nbconvert_exporter": "python",
   "pygments_lexer": "ipython3",
   "version": "3.8.5"
  }
 },
 "nbformat": 4,
 "nbformat_minor": 4
}
