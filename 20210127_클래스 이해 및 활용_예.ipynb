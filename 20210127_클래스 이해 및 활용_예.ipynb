{
 "cells": [
  {
   "cell_type": "code",
   "execution_count": 26,
   "metadata": {},
   "outputs": [
    {
     "name": "stdout",
     "output_type": "stream",
     "text": [
      "<class '__main__.Cake'>\n",
      "<class '__main__.choCake'>\n"
     ]
    }
   ],
   "source": [
    "class Cake:\n",
    "    '''케익을 의미하는 클래스'''\n",
    "    coat='생크림'\n",
    "    \n",
    "print(Cake)"
   ]
  },
  {
   "cell_type": "code",
   "execution_count": 12,
   "metadata": {},
   "outputs": [
    {
     "data": {
      "text/plain": [
       "__main__.Cake"
      ]
     },
     "execution_count": 12,
     "metadata": {},
     "output_type": "execute_result"
    }
   ],
   "source": [
    "cake_1=Cake()\n",
    "cake_2=Cake()\n",
    "\n",
    "type(cake_1)"
   ]
  },
  {
   "cell_type": "code",
   "execution_count": 13,
   "metadata": {},
   "outputs": [
    {
     "data": {
      "text/plain": [
       "True"
      ]
     },
     "execution_count": 13,
     "metadata": {},
     "output_type": "execute_result"
    }
   ],
   "source": [
    "isinstance(cake_2, Cake)"
   ]
  },
  {
   "cell_type": "code",
   "execution_count": 14,
   "metadata": {},
   "outputs": [
    {
     "name": "stdout",
     "output_type": "stream",
     "text": [
      "초콜릿\n",
      "초콜릿\n",
      "초콜릿\n"
     ]
    }
   ],
   "source": [
    "print(Cake.coat)\n",
    "print(cake_1.coat)\n",
    "print(cake_2.coat)"
   ]
  },
  {
   "cell_type": "code",
   "execution_count": 16,
   "metadata": {},
   "outputs": [
    {
     "name": "stdout",
     "output_type": "stream",
     "text": [
      "초콜릿\n"
     ]
    }
   ],
   "source": [
    "Cake.coat='초콜릿'\n",
    "print(cake_2.coat)"
   ]
  },
  {
   "cell_type": "code",
   "execution_count": 17,
   "metadata": {},
   "outputs": [
    {
     "name": "stdout",
     "output_type": "stream",
     "text": [
      "4000\n"
     ]
    }
   ],
   "source": [
    "Cake.price=4000\n",
    "print(Cake.price)"
   ]
  },
  {
   "cell_type": "code",
   "execution_count": 18,
   "metadata": {},
   "outputs": [
    {
     "name": "stdout",
     "output_type": "stream",
     "text": [
      "초콜릿\n",
      "4000\n"
     ]
    }
   ],
   "source": [
    "cake_3=Cake()\n",
    "print(cake_3.coat)\n",
    "print(cake_3.price)"
   ]
  },
  {
   "cell_type": "code",
   "execution_count": 21,
   "metadata": {},
   "outputs": [
    {
     "name": "stdout",
     "output_type": "stream",
     "text": [
      "치즈\n",
      "아이스크림\n"
     ]
    }
   ],
   "source": [
    "cake_1.topping='치즈'\n",
    "cake_1.coat='아이스크림'\n",
    "print(cake_1.topping)\n",
    "print(cake_1.coat)"
   ]
  },
  {
   "cell_type": "code",
   "execution_count": 22,
   "metadata": {},
   "outputs": [
    {
     "data": {
      "text/plain": [
       "'초콜릿'"
      ]
     },
     "execution_count": 22,
     "metadata": {},
     "output_type": "execute_result"
    }
   ],
   "source": [
    "cake_2.coat"
   ]
  },
  {
   "cell_type": "code",
   "execution_count": 24,
   "metadata": {},
   "outputs": [
    {
     "ename": "AttributeError",
     "evalue": "type object 'Cake' has no attribute 'topping'",
     "output_type": "error",
     "traceback": [
      "\u001b[1;31m---------------------------------------------------------------------------\u001b[0m",
      "\u001b[1;31mAttributeError\u001b[0m                            Traceback (most recent call last)",
      "\u001b[1;32m<ipython-input-24-a1440617253c>\u001b[0m in \u001b[0;36m<module>\u001b[1;34m\u001b[0m\n\u001b[1;32m----> 1\u001b[1;33m \u001b[0mCake\u001b[0m\u001b[1;33m.\u001b[0m\u001b[0mtopping\u001b[0m\u001b[1;33m\u001b[0m\u001b[1;33m\u001b[0m\u001b[0m\n\u001b[0m",
      "\u001b[1;31mAttributeError\u001b[0m: type object 'Cake' has no attribute 'topping'"
     ]
    }
   ],
   "source": [
    "Cake.topping"
   ]
  },
  {
   "cell_type": "code",
   "execution_count": 35,
   "metadata": {},
   "outputs": [
    {
     "name": "stdout",
     "output_type": "stream",
     "text": [
      "<class '__main__.Cake'>\n",
      "<class '__main__.choCake'>\n"
     ]
    }
   ],
   "source": [
    "class Cake:\n",
    "    '''케익을 의미하는 클래스'''\n",
    "    coat='생크림'\n",
    "    \n",
    "class choCake(Cake):\n",
    "    pou='초코'\n",
    "    \n",
    "class topping(choCake):\n",
    "    topp1='딸기'\n",
    "    topp2='바나나'\n",
    "    topp3='초콜릿'\n",
    "    \n",
    "print(Cake)\n",
    "print(choCake)"
   ]
  },
  {
   "cell_type": "code",
   "execution_count": 28,
   "metadata": {},
   "outputs": [],
   "source": [
    "cake_1=Cake()\n",
    "cake_2=choCake()"
   ]
  },
  {
   "cell_type": "code",
   "execution_count": 32,
   "metadata": {},
   "outputs": [
    {
     "name": "stdout",
     "output_type": "stream",
     "text": [
      "생크림\n",
      "초코\n"
     ]
    }
   ],
   "source": [
    "print(cake_2.coat)\n",
    "print(cake_2.pou)"
   ]
  },
  {
   "cell_type": "code",
   "execution_count": 33,
   "metadata": {},
   "outputs": [],
   "source": [
    "Cake.coat='아이스크림'"
   ]
  },
  {
   "cell_type": "code",
   "execution_count": 34,
   "metadata": {},
   "outputs": [
    {
     "name": "stdout",
     "output_type": "stream",
     "text": [
      "아이스크림\n",
      "아이스크림\n"
     ]
    }
   ],
   "source": [
    "print(cake_1.coat)\n",
    "print(cake_2.coat)"
   ]
  },
  {
   "cell_type": "code",
   "execution_count": 38,
   "metadata": {},
   "outputs": [
    {
     "name": "stdout",
     "output_type": "stream",
     "text": [
      "생크림\n",
      "초코\n",
      "딸기\n"
     ]
    }
   ],
   "source": [
    "cake_3=topping()\n",
    "print(cake_3.coat)\n",
    "print(cake_3.pou)\n",
    "print(cake_3.topp1)"
   ]
  },
  {
   "cell_type": "code",
   "execution_count": 41,
   "metadata": {},
   "outputs": [],
   "source": [
    "class Cake:\n",
    "    '''케익을 의미하는 클래스'''\n",
    "    coat='생크림'\n",
    "    \n",
    "    def descr():\n",
    "        '''정보를 화면에 출력'''\n",
    "        print('이 케익은',Cake.coat,'으로 덮여있습니다.')"
   ]
  },
  {
   "cell_type": "code",
   "execution_count": 42,
   "metadata": {},
   "outputs": [
    {
     "name": "stdout",
     "output_type": "stream",
     "text": [
      "이 케익은 생크림 으로 덮여있습니다.\n"
     ]
    }
   ],
   "source": [
    "Cake.descr()"
   ]
  },
  {
   "cell_type": "code",
   "execution_count": 43,
   "metadata": {},
   "outputs": [
    {
     "ename": "TypeError",
     "evalue": "descr() takes 0 positional arguments but 1 was given",
     "output_type": "error",
     "traceback": [
      "\u001b[1;31m---------------------------------------------------------------------------\u001b[0m",
      "\u001b[1;31mTypeError\u001b[0m                                 Traceback (most recent call last)",
      "\u001b[1;32m<ipython-input-43-948d904fc481>\u001b[0m in \u001b[0;36m<module>\u001b[1;34m\u001b[0m\n\u001b[0;32m      1\u001b[0m \u001b[0mcake_1\u001b[0m\u001b[1;33m=\u001b[0m\u001b[0mCake\u001b[0m\u001b[1;33m(\u001b[0m\u001b[1;33m)\u001b[0m\u001b[1;33m\u001b[0m\u001b[1;33m\u001b[0m\u001b[0m\n\u001b[0;32m      2\u001b[0m \u001b[0mcake_1\u001b[0m\u001b[1;33m.\u001b[0m\u001b[0mcoat\u001b[0m\u001b[1;33m=\u001b[0m\u001b[1;34m'초콜릿'\u001b[0m\u001b[1;33m\u001b[0m\u001b[1;33m\u001b[0m\u001b[0m\n\u001b[1;32m----> 3\u001b[1;33m \u001b[0mcake_1\u001b[0m\u001b[1;33m.\u001b[0m\u001b[0mdescr\u001b[0m\u001b[1;33m(\u001b[0m\u001b[1;33m)\u001b[0m\u001b[1;33m\u001b[0m\u001b[1;33m\u001b[0m\u001b[0m\n\u001b[0m",
      "\u001b[1;31mTypeError\u001b[0m: descr() takes 0 positional arguments but 1 was given"
     ]
    }
   ],
   "source": [
    "cake_1=Cake()\n",
    "cake_1.coat='초콜릿'\n",
    "cake_1.descr()"
   ]
  },
  {
   "cell_type": "code",
   "execution_count": 46,
   "metadata": {},
   "outputs": [],
   "source": [
    "class Cake:\n",
    "    '''케익을 의미하는 클래스'''\n",
    "    coat='생크림'\n",
    "    \n",
    "    def descr(self):\n",
    "        '''정보를 화면에 출력'''\n",
    "        print('이 케익은', self.coat,'으로 덮여있습니다.')"
   ]
  },
  {
   "cell_type": "code",
   "execution_count": 47,
   "metadata": {},
   "outputs": [
    {
     "ename": "TypeError",
     "evalue": "descr() missing 1 required positional argument: 'self'",
     "output_type": "error",
     "traceback": [
      "\u001b[1;31m---------------------------------------------------------------------------\u001b[0m",
      "\u001b[1;31mTypeError\u001b[0m                                 Traceback (most recent call last)",
      "\u001b[1;32m<ipython-input-47-a3bcdce1dfb2>\u001b[0m in \u001b[0;36m<module>\u001b[1;34m\u001b[0m\n\u001b[1;32m----> 1\u001b[1;33m \u001b[0mCake\u001b[0m\u001b[1;33m.\u001b[0m\u001b[0mdescr\u001b[0m\u001b[1;33m(\u001b[0m\u001b[1;33m)\u001b[0m\u001b[1;33m\u001b[0m\u001b[1;33m\u001b[0m\u001b[0m\n\u001b[0m",
      "\u001b[1;31mTypeError\u001b[0m: descr() missing 1 required positional argument: 'self'"
     ]
    }
   ],
   "source": [
    "Cake.descr()"
   ]
  },
  {
   "cell_type": "code",
   "execution_count": 50,
   "metadata": {},
   "outputs": [
    {
     "name": "stdout",
     "output_type": "stream",
     "text": [
      "이 케익은 초콜릿 으로 덮여있습니다.\n"
     ]
    }
   ],
   "source": [
    "cake_1=Cake()\n",
    "cake_1.coat='초콜릿'\n",
    "cake_1.descr()"
   ]
  },
  {
   "cell_type": "code",
   "execution_count": 51,
   "metadata": {},
   "outputs": [
    {
     "name": "stdout",
     "output_type": "stream",
     "text": [
      "이 케익은 생크림과 생과일 으로 덮여있습니다.\n"
     ]
    }
   ],
   "source": [
    "cake_2=Cake()\n",
    "cake_2.coat='생크림과 생과일'\n",
    "cake_2.descr()"
   ]
  },
  {
   "cell_type": "markdown",
   "metadata": {},
   "source": [
    "### 클래스 사용 예\n",
    "- 클래스 변수(소속)\n",
    "- 메서드 생성"
   ]
  },
  {
   "cell_type": "code",
   "execution_count": 87,
   "metadata": {},
   "outputs": [],
   "source": [
    "class Main:\n",
    "    \n",
    "    class Member:\n",
    "        name=''\n",
    "\n",
    "        def __init__(self, str1, str2):\n",
    "            self.name=str1\n",
    "            self.gender=str2\n",
    "\n",
    "        def showMsg(self):\n",
    "            print('안녕하세요. '+ self.name + '님 반갑습니다.')\n",
    "\n",
    "    class sebu_Info(Member):\n",
    "        mail=''\n",
    "        tel=''\n",
    "\n",
    "        def __init__(self, name, tel, mail):\n",
    "            self.name=name\n",
    "            self.tel=tel\n",
    "            self.mail=\n",
    "\n",
    "        def showMsg_prn(self):\n",
    "            print('귀하의 전화번호:'+self.tel)\n",
    "            print('귀하의 메일주소:'+self.mail)        "
   ]
  },
  {
   "cell_type": "code",
   "execution_count": 88,
   "metadata": {},
   "outputs": [],
   "source": [
    "member_1=Member('kim', '남')\n",
    "sebu_1=sebu_Info('kim', '010-123-1452', 'aaa@naver.com')"
   ]
  },
  {
   "cell_type": "code",
   "execution_count": 89,
   "metadata": {},
   "outputs": [
    {
     "name": "stdout",
     "output_type": "stream",
     "text": [
      "안녕하세요. kim님 반갑습니다.\n"
     ]
    }
   ],
   "source": [
    "member_1.showMsg()"
   ]
  },
  {
   "cell_type": "code",
   "execution_count": 90,
   "metadata": {},
   "outputs": [
    {
     "name": "stdout",
     "output_type": "stream",
     "text": [
      "안녕하세요. kim님 반갑습니다.\n"
     ]
    }
   ],
   "source": [
    "sebu_1.showMsg()"
   ]
  },
  {
   "cell_type": "code",
   "execution_count": 91,
   "metadata": {},
   "outputs": [
    {
     "name": "stdout",
     "output_type": "stream",
     "text": [
      "귀하의 전화번호:010-123-1452\n",
      "귀하의 메일주소:aaa@naver.com\n"
     ]
    }
   ],
   "source": [
    "sebu_1.showMsg_prn()"
   ]
  },
  {
   "cell_type": "code",
   "execution_count": 92,
   "metadata": {},
   "outputs": [
    {
     "name": "stdout",
     "output_type": "stream",
     "text": [
      "<class '__main__.sebu_Info'>\n"
     ]
    }
   ],
   "source": [
    "print(type(sebu_1))"
   ]
  },
  {
   "cell_type": "code",
   "execution_count": 93,
   "metadata": {},
   "outputs": [],
   "source": [
    "from konlpy.tag import Okt"
   ]
  },
  {
   "cell_type": "code",
   "execution_count": 94,
   "metadata": {},
   "outputs": [],
   "source": [
    "okt = Okt()"
   ]
  },
  {
   "cell_type": "code",
   "execution_count": 95,
   "metadata": {},
   "outputs": [
    {
     "name": "stdout",
     "output_type": "stream",
     "text": [
      "<class 'konlpy.tag._okt.Okt'>\n"
     ]
    }
   ],
   "source": [
    "print(type(okt))"
   ]
  },
  {
   "cell_type": "code",
   "execution_count": 96,
   "metadata": {},
   "outputs": [
    {
     "name": "stdout",
     "output_type": "stream",
     "text": [
      "['__add__', '__class__', '__contains__', '__delattr__', '__delitem__', '__dir__', '__doc__', '__eq__', '__format__', '__ge__', '__getattribute__', '__getitem__', '__gt__', '__hash__', '__iadd__', '__imul__', '__init__', '__init_subclass__', '__iter__', '__le__', '__len__', '__lt__', '__mul__', '__ne__', '__new__', '__reduce__', '__reduce_ex__', '__repr__', '__reversed__', '__rmul__', '__setattr__', '__setitem__', '__sizeof__', '__str__', '__subclasshook__', 'append', 'clear', 'copy', 'count', 'extend', 'index', 'insert', 'pop', 'remove', 'reverse', 'sort']\n"
     ]
    }
   ],
   "source": [
    "print(dir([]))"
   ]
  },
  {
   "cell_type": "code",
   "execution_count": 97,
   "metadata": {},
   "outputs": [
    {
     "data": {
      "text/plain": [
       "True"
      ]
     },
     "execution_count": 97,
     "metadata": {},
     "output_type": "execute_result"
    }
   ],
   "source": [
    "__name__=='__main__'"
   ]
  },
  {
   "cell_type": "code",
   "execution_count": 98,
   "metadata": {},
   "outputs": [
    {
     "data": {
      "text/plain": [
       "'__main__'"
      ]
     },
     "execution_count": 98,
     "metadata": {},
     "output_type": "execute_result"
    }
   ],
   "source": [
    "__name__  # 파이썬에서 내부적으로 사용되는 변수"
   ]
  },
  {
   "cell_type": "code",
   "execution_count": null,
   "metadata": {},
   "outputs": [],
   "source": []
  }
 ],
 "metadata": {
  "kernelspec": {
   "display_name": "Python 3",
   "language": "python",
   "name": "python3"
  },
  "language_info": {
   "codemirror_mode": {
    "name": "ipython",
    "version": 3
   },
   "file_extension": ".py",
   "mimetype": "text/x-python",
   "name": "python",
   "nbconvert_exporter": "python",
   "pygments_lexer": "ipython3",
   "version": "3.8.5"
  }
 },
 "nbformat": 4,
 "nbformat_minor": 4
}
