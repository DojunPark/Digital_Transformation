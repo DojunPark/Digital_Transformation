{
 "cells": [
  {
   "cell_type": "markdown",
   "metadata": {},
   "source": [
    "# Word2Vec"
   ]
  },
  {
   "cell_type": "code",
   "execution_count": 2,
   "metadata": {},
   "outputs": [],
   "source": [
    "from gensim.models import Word2Vec\n",
    "import matplotlib.pyplot as plt"
   ]
  },
  {
   "cell_type": "code",
   "execution_count": 3,
   "metadata": {},
   "outputs": [],
   "source": [
    "# 단어와 2차원 X축의 값, Y축의 값을 입력받아 2차원 그래프를 그린다\n",
    "\n",
    "def plot_2d_graph(vocabs, xs, ys):\n",
    "    plt.figure(figsize=(8 ,6))\n",
    "    plt.scatter(xs, ys, marker = 'o')\n",
    "    for i, v in enumerate(vocabs):\n",
    "        plt.annotate(v, xy=(xs[i], ys[i]))"
   ]
  },
  {
   "cell_type": "code",
   "execution_count": 5,
   "metadata": {},
   "outputs": [],
   "source": [
    "sentences = [['this', 'is', 'a',   'good',      'product'],\n",
    "             ['it',   'is', 'a',   'excellent', 'product'],\n",
    "             ['it',   'is', 'a',   'bad',       'product'],\n",
    "             ['that', 'is', 'the', 'worst',     'product']]"
   ]
  },
  {
   "cell_type": "code",
   "execution_count": 6,
   "metadata": {},
   "outputs": [],
   "source": [
    "# 문장을 이용하여 단어와 벡터를 생성한다.\n",
    "\n",
    "model = Word2Vec(sentences, size=300, window=3, min_count=1, workers=1)  # size: 벡터 차원, workers: 스레드 사용 갯수"
   ]
  },
  {
   "cell_type": "code",
   "execution_count": 10,
   "metadata": {},
   "outputs": [],
   "source": [
    "# 단어벡터를 구한다.\n",
    "word_vectors = model.wv\n",
    "\n",
    "vocabs = word_vectors.vocab.keys()\n",
    "word_vectors_list = [word_vectors[v] for v in vocabs]"
   ]
  },
  {
   "cell_type": "code",
   "execution_count": 11,
   "metadata": {},
   "outputs": [
    {
     "data": {
      "text/plain": [
       "<gensim.models.keyedvectors.Word2VecKeyedVectors at 0x20a4e99e8b0>"
      ]
     },
     "execution_count": 11,
     "metadata": {},
     "output_type": "execute_result"
    }
   ],
   "source": [
    "word_vectors"
   ]
  },
  {
   "cell_type": "code",
   "execution_count": 15,
   "metadata": {},
   "outputs": [
    {
     "name": "stdout",
     "output_type": "stream",
     "text": [
      "11\n"
     ]
    },
    {
     "data": {
      "text/plain": [
       "dict_keys(['this', 'is', 'a', 'good', 'product', 'it', 'excellent', 'bad', 'that', 'the', 'worst'])"
      ]
     },
     "execution_count": 15,
     "metadata": {},
     "output_type": "execute_result"
    }
   ],
   "source": [
    "print(len(vocabs))\n",
    "vocabs"
   ]
  },
  {
   "cell_type": "code",
   "execution_count": 25,
   "metadata": {},
   "outputs": [
    {
     "name": "stdout",
     "output_type": "stream",
     "text": [
      "0.04944589\n"
     ]
    }
   ],
   "source": [
    "# 단어간 유사도를 확인하다\n",
    "print(word_vectors.similarity(w1='it', w2='this'))"
   ]
  },
  {
   "cell_type": "markdown",
   "metadata": {},
   "source": [
    "Word2Vec 학습 과정: `[11 x 11]` * `[11 x 300]` = `[11 x 300]`"
   ]
  },
  {
   "cell_type": "code",
   "execution_count": 24,
   "metadata": {},
   "outputs": [
    {
     "data": {
      "text/plain": [
       "array([-2.3844337e-05, -1.1002600e-04, -1.4196278e-04, -1.2327170e-04,\n",
       "       -1.1826132e-03,  1.5756433e-03, -2.9253011e-04, -1.1153468e-03,\n",
       "       -6.0882396e-04,  1.6719145e-04,  1.7041787e-04,  1.2738994e-04,\n",
       "       -1.6384781e-03,  1.1088734e-03,  1.4123109e-03, -1.5510403e-03,\n",
       "        8.2619494e-04, -3.8016407e-04,  1.3823019e-03, -1.3022999e-03,\n",
       "       -1.9689984e-04, -1.0615091e-03, -3.3724593e-04,  6.5851712e-04,\n",
       "       -1.2534240e-03,  2.9895609e-04,  2.0344269e-04, -1.4100481e-03,\n",
       "        1.1818539e-04, -9.2716992e-04,  1.3287263e-03, -1.6272431e-03,\n",
       "        4.0924159e-04, -4.3598565e-04,  1.2797764e-05,  1.2843951e-04,\n",
       "       -1.3656925e-03,  1.6657972e-03,  3.8351413e-04, -1.3073557e-03,\n",
       "       -1.1283627e-03,  7.3907350e-04, -1.5147161e-03,  6.5140636e-04,\n",
       "       -5.3917605e-04, -1.3933972e-03,  1.2316967e-03, -1.3620100e-03,\n",
       "       -1.3524164e-03, -5.3737254e-04], dtype=float32)"
      ]
     },
     "execution_count": 24,
     "metadata": {},
     "output_type": "execute_result"
    }
   ],
   "source": [
    "word_vectors_list[0][:50]"
   ]
  },
  {
   "cell_type": "code",
   "execution_count": 21,
   "metadata": {},
   "outputs": [
    {
     "name": "stdout",
     "output_type": "stream",
     "text": [
      "11\n",
      "300\n"
     ]
    },
    {
     "data": {
      "text/plain": [
       "(300,)"
      ]
     },
     "execution_count": 21,
     "metadata": {},
     "output_type": "execute_result"
    }
   ],
   "source": [
    "print(len(word_vectors_list))\n",
    "print(len(word_vectors_list[0]))\n",
    "word_vectors_list[0].shape"
   ]
  },
  {
   "cell_type": "code",
   "execution_count": 26,
   "metadata": {},
   "outputs": [],
   "source": [
    "from sklearn.decomposition import PCA\n",
    "pca = PCA(n_components=2)\n",
    "xys = pca.fit_transform(word_vectors_list)\n",
    "xs = xys[:,0]\n",
    "ys = xys[:,1]"
   ]
  },
  {
   "cell_type": "code",
   "execution_count": 27,
   "metadata": {},
   "outputs": [
    {
     "data": {
      "image/png": "[encoded data removed]",
      "text/plain": [
       "<Figure size 576x432 with 1 Axes>"
      ]
     },
     "metadata": {
      "needs_background": "light"
     },
     "output_type": "display_data"
    }
   ],
   "source": [
    "plot_2d_graph(vocabs, xs, ys)"
   ]
  },
  {
   "cell_type": "markdown",
   "metadata": {},
   "source": [
    "# 미리 학습된 모델과 병합"
   ]
  },
  {
   "cell_type": "code",
   "execution_count": null,
   "metadata": {},
   "outputs": [],
   "source": [
    "# https://github.com/mmihaltz/word2vec-GoogleNews-vectors\n",
    "# URL에서 미리 학습된 모델을 다운로드 받는다.\n",
    "file_name = 'GoogleNews-vectors-negative300.bin'\n",
    "model.intersect_word2vec_format(fname=file_name, binary=True)"
   ]
  },
  {
   "cell_type": "code",
   "execution_count": null,
   "metadata": {},
   "outputs": [],
   "source": [
    "# 단어벡터를 구한다.\n",
    "word_vectors = model.wv\n",
    "\n",
    "vocabs            = word_vectors.vocab.keys()\n",
    "word_vectors_list = [word_vectors[v] for v in vocabs]"
   ]
  },
  {
   "cell_type": "code",
   "execution_count": null,
   "metadata": {},
   "outputs": [],
   "source": [
    "# 단어간 유사도를 확인하다\n",
    "print(word_vectors.similarity(w1='it', w2='this'))"
   ]
  },
  {
   "cell_type": "code",
   "execution_count": null,
   "metadata": {},
   "outputs": [],
   "source": [
    "if np.issubdtype(vec.dtype, np.int):\n",
    "from sklearn.decomposition import PCA\n",
    "pca = PCA(n_components=2)\n",
    "xys = pca.fit_transform(word_vectors_list)\n",
    "xs = xys[:,0]\n",
    "ys = xys[:,1]"
   ]
  },
  {
   "cell_type": "code",
   "execution_count": null,
   "metadata": {},
   "outputs": [],
   "source": [
    "plot_2d_graph(vocabs, xs, ys)"
   ]
  },
  {
   "cell_type": "code",
   "execution_count": null,
   "metadata": {},
   "outputs": [],
   "source": [
    "model.save('word2vec.model') # 모델 저장"
   ]
  },
  {
   "cell_type": "code",
   "execution_count": null,
   "metadata": {},
   "outputs": [],
   "source": [
    "model = Word2Vec.load('word2vec.model')  # 모델 읽어오기"
   ]
  },
  {
   "cell_type": "code",
   "execution_count": null,
   "metadata": {},
   "outputs": [],
   "source": []
  },
  {
   "cell_type": "code",
   "execution_count": null,
   "metadata": {},
   "outputs": [],
   "source": []
  },
  {
   "cell_type": "code",
   "execution_count": null,
   "metadata": {},
   "outputs": [],
   "source": []
  },
  {
   "cell_type": "code",
   "execution_count": null,
   "metadata": {},
   "outputs": [],
   "source": []
  },
  {
   "cell_type": "code",
   "execution_count": null,
   "metadata": {},
   "outputs": [],
   "source": []
  },
  {
   "cell_type": "code",
   "execution_count": null,
   "metadata": {},
   "outputs": [],
   "source": []
  },
  {
   "cell_type": "code",
   "execution_count": null,
   "metadata": {},
   "outputs": [],
   "source": []
  },
  {
   "cell_type": "code",
   "execution_count": null,
   "metadata": {},
   "outputs": [],
   "source": []
  },
  {
   "cell_type": "code",
   "execution_count": null,
   "metadata": {},
   "outputs": [],
   "source": []
  },
  {
   "cell_type": "code",
   "execution_count": null,
   "metadata": {},
   "outputs": [],
   "source": []
  },
  {
   "cell_type": "code",
   "execution_count": null,
   "metadata": {},
   "outputs": [],
   "source": []
  },
  {
   "cell_type": "code",
   "execution_count": null,
   "metadata": {},
   "outputs": [],
   "source": []
  },
  {
   "cell_type": "code",
   "execution_count": null,
   "metadata": {},
   "outputs": [],
   "source": []
  },
  {
   "cell_type": "code",
   "execution_count": null,
   "metadata": {},
   "outputs": [],
   "source": []
  },
  {
   "cell_type": "code",
   "execution_count": null,
   "metadata": {},
   "outputs": [],
   "source": []
  },
  {
   "cell_type": "code",
   "execution_count": null,
   "metadata": {},
   "outputs": [],
   "source": []
  }
 ],
 "metadata": {
  "kernelspec": {
   "display_name": "Python 3",
   "language": "python",
   "name": "python3"
  },
  "language_info": {
   "codemirror_mode": {
    "name": "ipython",
    "version": 3
   },
   "file_extension": ".py",
   "mimetype": "text/x-python",
   "name": "python",
   "nbconvert_exporter": "python",
   "pygments_lexer": "ipython3",
   "version": "3.8.5"
  }
 },
 "nbformat": 4,
 "nbformat_minor": 4
}
