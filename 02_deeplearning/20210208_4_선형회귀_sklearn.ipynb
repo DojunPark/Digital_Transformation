{
 "cells": [
  {
   "cell_type": "markdown",
   "metadata": {},
   "source": [
    "# 머신러닝 기초: 선형회귀분석\n",
    "### 예측분석 (단순, 다중 선형회귀있음)\n",
    "### 파이썬에서는 사이킷런 패키지를 이용하여 작업가능함\n",
    "- https://cyan91.tistory.com/39"
   ]
  },
  {
   "cell_type": "code",
   "execution_count": 1,
   "metadata": {},
   "outputs": [],
   "source": [
    "%matplotlib inline\n",
    "import matplotlib.pyplot as plt"
   ]
  },
  {
   "cell_type": "code",
   "execution_count": 14,
   "metadata": {},
   "outputs": [],
   "source": [
    "heights = [1.6, 1.65, 1.7, 1.73, 1.8] \n",
    "weights = [60, 65, 72.3, 75, 80] "
   ]
  },
  {
   "cell_type": "code",
   "execution_count": 20,
   "metadata": {},
   "outputs": [],
   "source": [
    "heights = [[1.6], [1.65], [1.7], [1.73], [1.8]]   # 학습 데이터는 2차원 구조로 만들어야 함\n",
    "weights = [[60], [65], [72.3], [75], [80]] "
   ]
  },
  {
   "cell_type": "code",
   "execution_count": 21,
   "metadata": {},
   "outputs": [
    {
     "data": {
      "image/png": "[encoded data removed]",
      "text/plain": [
       "<Figure size 432x288 with 1 Axes>"
      ]
     },
     "metadata": {
      "needs_background": "light"
     },
     "output_type": "display_data"
    }
   ],
   "source": [
    "plt.title('heights vs weights')\n",
    "plt.xlabel('he(m)')\n",
    "plt.ylabel('weogjts(kg)')\n",
    "plt.plot(heights, weights, 'k.')\n",
    "plt.axis([1.5, 1.85, 50, 90])\n",
    "plt.grid(True)"
   ]
  },
  {
   "cell_type": "code",
   "execution_count": 22,
   "metadata": {},
   "outputs": [],
   "source": [
    "from sklearn.linear_model import LinearRegression"
   ]
  },
  {
   "cell_type": "code",
   "execution_count": 23,
   "metadata": {},
   "outputs": [
    {
     "data": {
      "text/plain": [
       "LinearRegression()"
      ]
     },
     "execution_count": 23,
     "metadata": {},
     "output_type": "execute_result"
    }
   ],
   "source": [
    "model = LinearRegression() \n",
    "model.fit(X=heights, y=weights) "
   ]
  },
  {
   "cell_type": "code",
   "execution_count": 24,
   "metadata": {},
   "outputs": [
    {
     "data": {
      "text/plain": [
       "76.04"
      ]
     },
     "execution_count": 24,
     "metadata": {},
     "output_type": "execute_result"
    }
   ],
   "source": [
    "weight = model.predict([[1.75]])[0][0]\n",
    "round(weight, 2)"
   ]
  },
  {
   "cell_type": "code",
   "execution_count": 25,
   "metadata": {},
   "outputs": [
    {
     "data": {
      "text/plain": [
       "array([[76.03876501]])"
      ]
     },
     "execution_count": 25,
     "metadata": {},
     "output_type": "execute_result"
    }
   ],
   "source": [
    "model.predict([[1.75]])"
   ]
  },
  {
   "cell_type": "code",
   "execution_count": 36,
   "metadata": {},
   "outputs": [
    {
     "name": "stdout",
     "output_type": "stream",
     "text": [
      "['__abstractmethods__', '__class__', '__delattr__', '__dict__', '__dir__', '__doc__', '__eq__', '__format__', '__ge__', '__getattribute__', '__getstate__', '__gt__', '__hash__', '__init__', '__init_subclass__', '__le__', '__lt__', '__module__', '__ne__', '__new__', '__reduce__', '__reduce_ex__', '__repr__', '__setattr__', '__setstate__', '__sizeof__', '__str__', '__subclasshook__', '__weakref__', '_abc_impl', '_check_n_features', '_decision_function', '_estimator_type', '_get_param_names', '_get_tags', '_more_tags', '_preprocess_data', '_repr_html_', '_repr_html_inner', '_repr_mimebundle_', '_residues', '_set_intercept', '_validate_data', 'coef_', 'copy_X', 'fit', 'fit_intercept', 'get_params', 'intercept_', 'n_features_in_', 'n_jobs', 'normalize', 'positive', 'predict', 'rank_', 'score', 'set_params', 'singular_']\n"
     ]
    }
   ],
   "source": [
    "print(dir(model))"
   ]
  },
  {
   "cell_type": "markdown",
   "metadata": {},
   "source": [
    "## 테스트\n",
    "- 아래의 x값을 이용하여서 Y값을 예측하세요."
   ]
  },
  {
   "cell_type": "code",
   "execution_count": 35,
   "metadata": {},
   "outputs": [
    {
     "name": "stdout",
     "output_type": "stream",
     "text": [
      "height: 1.24 >>> weight: 23.35\n",
      "height: 1.7 >>> weight: 70.87\n",
      "height: 2.3 >>> weight: 132.86\n",
      "height: 1.2 >>> weight: 19.22\n",
      "height: 1.3 >>> weight: 29.55\n"
     ]
    }
   ],
   "source": [
    "X=[1.24, 1.7, 2.3, 1.2, 1.3]\n",
    "\n",
    "for x in X:\n",
    "    prediction = model.predict([[x]])\n",
    "    print(f'height: {x} >>> weight: {prediction[0][0]:.2f}')"
   ]
  },
  {
   "cell_type": "code",
   "execution_count": 56,
   "metadata": {},
   "outputs": [],
   "source": [
    "import numpy as np"
   ]
  },
  {
   "cell_type": "code",
   "execution_count": 109,
   "metadata": {},
   "outputs": [
    {
     "name": "stdout",
     "output_type": "stream",
     "text": [
      "[60.54219554030874, 65.70771869639793, 70.87324185248713, 73.97255574614064, 81.20428816466551]\n",
      "[0.29397600393068596, 0.5008657532311895, 2.035638811494359, 1.055641694788612, 1.4503099835534303]\n"
     ]
    },
    {
     "data": {
      "text/plain": [
       "1.0672864493996554"
      ]
     },
     "execution_count": 109,
     "metadata": {},
     "output_type": "execute_result"
    }
   ],
   "source": [
    "# X=[1.24, 1.7, 2.3, 1.2, 1.3]\n",
    "X = [1.6, 1.65, 1.7, 1.73, 1.8] \n",
    "weights = [60, 65, 72.3, 75, 80] \n",
    "\n",
    "predicts = []\n",
    "for x in X:\n",
    "    p = model.predict([[x]])\n",
    "    predicts.append(p[0][0])\n",
    "print(predicts)\n",
    "    \n",
    "errors = []\n",
    "for w, p in zip(weights, predicts):\n",
    "    errors.append((w - p)**2)\n",
    "print(errors)\n",
    "    \n",
    "loss = sum(errors)/len(errors)\n",
    "loss"
   ]
  },
  {
   "cell_type": "code",
   "execution_count": 116,
   "metadata": {},
   "outputs": [
    {
     "data": {
      "image/png": "[encoded data removed]",
      "text/plain": [
       "<Figure size 432x288 with 1 Axes>"
      ]
     },
     "metadata": {
      "needs_background": "light"
     },
     "output_type": "display_data"
    }
   ],
   "source": [
    "plt.plot(X, weights)\n",
    "plt.plot(X, predicts)\n",
    "# plt.legend('정답', '예측값')?\n",
    "plt.show()"
   ]
  }
 ],
 "metadata": {
  "kernelspec": {
   "display_name": "Python 3",
   "language": "python",
   "name": "python3"
  },
  "language_info": {
   "codemirror_mode": {
    "name": "ipython",
    "version": 3
   },
   "file_extension": ".py",
   "mimetype": "text/x-python",
   "name": "python",
   "nbconvert_exporter": "python",
   "pygments_lexer": "ipython3",
   "version": "3.8.5"
  }
 },
 "nbformat": 4,
 "nbformat_minor": 4
}
