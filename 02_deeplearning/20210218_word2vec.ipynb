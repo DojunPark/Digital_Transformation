{
 "cells": [
  {
   "cell_type": "markdown",
   "metadata": {},
   "source": [
    "# Word2Vec\n",
    "> pip install gensim"
   ]
  },
  {
   "cell_type": "code",
   "execution_count": 1,
   "metadata": {},
   "outputs": [
    {
     "name": "stdout",
     "output_type": "stream",
     "text": [
      "Name: gensim\n",
      "Version: 3.8.3\n",
      "Summary: Python framework for fast Vector Space Modelling\n",
      "Home-page: http://radimrehurek.com/gensim\n",
      "Author: Radim Rehurek\n",
      "Author-email: me@radimrehurek.com\n",
      "License: LGPLv2.1\n",
      "Location: c:\\users\\dojun\\anaconda3\\envs\\python38\\lib\\site-packages\n",
      "Requires: scipy, smart-open, numpy, six, Cython\n",
      "Required-by: \n"
     ]
    }
   ],
   "source": [
    "!pip show gensim"
   ]
  },
  {
   "cell_type": "code",
   "execution_count": 2,
   "metadata": {},
   "outputs": [],
   "source": [
    "from gensim.models.word2vec import Word2Vec"
   ]
  },
  {
   "cell_type": "code",
   "execution_count": 5,
   "metadata": {},
   "outputs": [
    {
     "data": {
      "text/plain": [
       "[['i', 'love', 'python', 'and', 'dog'],\n",
       " ['i', 'love', 'R', 'you'],\n",
       " ['you', 'love', 'dog', 'and']]"
      ]
     },
     "execution_count": 5,
     "metadata": {},
     "output_type": "execute_result"
    }
   ],
   "source": [
    "test='''i love python and dog. i love R you. you love dog and '''\n",
    "\n",
    "sentences = test.split('. ')  # .을 기준으로 자름\n",
    "data = [s.split() for s in sentences]\n",
    "data"
   ]
  },
  {
   "cell_type": "code",
   "execution_count": 11,
   "metadata": {},
   "outputs": [
    {
     "data": {
      "text/plain": [
       "8"
      ]
     },
     "execution_count": 11,
     "metadata": {},
     "output_type": "execute_result"
    }
   ],
   "source": [
    "len(set(test.replace('.','').split(' ')))  # 전체 vocab 갯수"
   ]
  },
  {
   "cell_type": "code",
   "execution_count": 16,
   "metadata": {},
   "outputs": [],
   "source": [
    "model = Word2Vec(data,         # 리스트 형태의 데이터\n",
    "                 sg=1,         # 0: CBOW, 1: Skip-gram\n",
    "                 size=5,       # 벡터 크기, 이 값에 따라 아래의 .mv에 표시되는 숫자갯수가 결정됨\n",
    "                 window=1,     # 고려할 앞뒤 폭(앞뒤 1단어) \n",
    "                 min_count=2,  # 사용할 단어의 최소 빈도(2회 이하 단어 무시)\n",
    "                 workers=1)    #  동시에 처리할 작업 수(코어 수와 비슷하게 설정), 자신의 컴퓨터에 따라서, 병렬처리가능할때만 숫자높임"
   ]
  },
  {
   "cell_type": "code",
   "execution_count": 17,
   "metadata": {},
   "outputs": [
    {
     "name": "stdout",
     "output_type": "stream",
     "text": [
      "Word2Vec(vocab=5, size=5, alpha=0.025)\n"
     ]
    }
   ],
   "source": [
    "print(model)"
   ]
  },
  {
   "cell_type": "code",
   "execution_count": 18,
   "metadata": {},
   "outputs": [
    {
     "data": {
      "text/plain": [
       "{'i': <gensim.models.keyedvectors.Vocab at 0x25e4df184c0>,\n",
       " 'love': <gensim.models.keyedvectors.Vocab at 0x25e4df185b0>,\n",
       " 'and': <gensim.models.keyedvectors.Vocab at 0x25e4df18280>,\n",
       " 'dog': <gensim.models.keyedvectors.Vocab at 0x25e4df182e0>,\n",
       " 'you': <gensim.models.keyedvectors.Vocab at 0x25e4df18a00>}"
      ]
     },
     "execution_count": 18,
     "metadata": {},
     "output_type": "execute_result"
    }
   ],
   "source": [
    "model.wv.vocab"
   ]
  },
  {
   "cell_type": "code",
   "execution_count": 19,
   "metadata": {},
   "outputs": [
    {
     "name": "stdout",
     "output_type": "stream",
     "text": [
      "['i', 'love', 'and', 'dog', 'you']\n",
      "[[ 0.02558318 -0.03024592  0.08704678  0.08831441 -0.01369626]\n",
      " [ 0.03044671 -0.09306611 -0.08398461 -0.03688921 -0.04937231]\n",
      " [-0.06175141 -0.09689398  0.00459361 -0.02312799  0.08447398]\n",
      " [ 0.02923893 -0.09413538 -0.07565939 -0.09754533  0.01044584]\n",
      " [-0.04887146 -0.03654332  0.00874839 -0.05651527  0.08060285]]\n"
     ]
    }
   ],
   "source": [
    "vocab = list(model.wv.vocab)\n",
    "print(vocab)\n",
    "\n",
    "x = model.wv[vocab]\n",
    "print(x)"
   ]
  },
  {
   "cell_type": "code",
   "execution_count": 20,
   "metadata": {},
   "outputs": [
    {
     "data": {
      "text/plain": [
       "0.8433014"
      ]
     },
     "execution_count": 20,
     "metadata": {},
     "output_type": "execute_result"
    }
   ],
   "source": [
    "model.wv.similarity('dog', 'love')"
   ]
  },
  {
   "cell_type": "code",
   "execution_count": 21,
   "metadata": {},
   "outputs": [
    {
     "data": {
      "text/plain": [
       "0.8433014"
      ]
     },
     "execution_count": 21,
     "metadata": {},
     "output_type": "execute_result"
    }
   ],
   "source": [
    "# 코사인 유사도 직접 계산\n",
    "\n",
    "from numpy import dot\n",
    "from numpy.linalg import norm\n",
    "import numpy as np\n",
    "\n",
    "def cos_sim(A, B):\n",
    "       return dot(A, B)/(norm(A)*norm(B))\n",
    "    \n",
    "cos_sim(x[3], x[1])"
   ]
  },
  {
   "cell_type": "markdown",
   "metadata": {},
   "source": [
    "# 파이토치로 word2vec 구현하기"
   ]
  },
  {
   "cell_type": "code",
   "execution_count": 23,
   "metadata": {},
   "outputs": [
    {
     "name": "stdout",
     "output_type": "stream",
     "text": [
      "Name: torch\n",
      "Version: 1.7.1\n",
      "Summary: Tensors and Dynamic neural networks in Python with strong GPU acceleration\n",
      "Home-page: https://pytorch.org/\n",
      "Author: PyTorch Team\n",
      "Author-email: packages@pytorch.org\n",
      "License: BSD-3\n",
      "Location: c:\\users\\dojun\\anaconda3\\envs\\python38\\lib\\site-packages\n",
      "Requires: typing-extensions, numpy\n",
      "Required-by: torchtext, OpenNMT-py\n"
     ]
    }
   ],
   "source": [
    "!pip show torch"
   ]
  },
  {
   "cell_type": "code",
   "execution_count": 4,
   "metadata": {},
   "outputs": [],
   "source": [
    "import numpy as np\n",
    "import torch\n",
    "import torch.nn as nn\n",
    "import torch.optim as optim\n",
    "from torch.autograd import Variable\n",
    "import matplotlib.pyplot as plt"
   ]
  },
  {
   "cell_type": "markdown",
   "metadata": {},
   "source": [
    "- 데이터셋 준비"
   ]
  },
  {
   "cell_type": "code",
   "execution_count": 5,
   "metadata": {},
   "outputs": [
    {
     "name": "stdout",
     "output_type": "stream",
     "text": [
      "{'animal': 0, 'apple': 1, 'book': 2, 'cat': 3, 'dog': 4, 'eyes': 5, 'fich': 6, 'hate': 7, 'i': 8, 'like': 9, 'lilke': 10, 'milk': 11, 'movie': 12, 'music': 13}\n"
     ]
    }
   ],
   "source": [
    "sentences = ['i like dog', 'i like cat', 'i like animal',\n",
    "            'dog cat animal', 'apple cat dog like', 'dog fich milk lilke',\n",
    "            'dog cat eyes like', 'i like apple', 'apple i hate',\n",
    "            'apple i movie book music like', 'cat dog hate', 'cat dog like']\n",
    "\n",
    "word_sequence = ' '.join(sentences).split()\n",
    "word_list = list(set(word_sequence))\n",
    "word_list.sort()\n",
    "word_dict = {w: i for i, w in enumerate(word_list)}  # key: 단어, value: 인덱스\n",
    "\n",
    "print(word_dict)"
   ]
  },
  {
   "cell_type": "markdown",
   "metadata": {},
   "source": [
    "- 하이퍼파라미터 설정"
   ]
  },
  {
   "cell_type": "code",
   "execution_count": 6,
   "metadata": {},
   "outputs": [
    {
     "data": {
      "text/plain": [
       "14"
      ]
     },
     "execution_count": 6,
     "metadata": {},
     "output_type": "execute_result"
    }
   ],
   "source": [
    "dtype = torch.FloatTensor\n",
    "batch_size = 20      \n",
    "embedding_size = 2   # to show 2 dim embedding graph\n",
    "voc_size = len(word_list)\n",
    "\n",
    "voc_size"
   ]
  },
  {
   "cell_type": "markdown",
   "metadata": {},
   "source": [
    "- 함수 생성"
   ]
  },
  {
   "cell_type": "code",
   "execution_count": 9,
   "metadata": {},
   "outputs": [],
   "source": [
    "def random_batch(data, size):\n",
    "    random_inputs = []\n",
    "    random_labels = []\n",
    "    random_index = np.random.choice(range(len(data)), size, replace=False)\n",
    "    \n",
    "    for i in random_index:\n",
    "        random_inputs.append(np.eye(voc_size)[data[i][0]])  # target\n",
    "        random_labels.append(data[i][1])  # context word\n",
    "        \n",
    "    return random_inputs, random_labels"
   ]
  },
  {
   "cell_type": "markdown",
   "metadata": {},
   "source": [
    "- 스킵 그램"
   ]
  },
  {
   "cell_type": "code",
   "execution_count": 10,
   "metadata": {},
   "outputs": [],
   "source": [
    "skip_grams = []\n",
    "for i in range(1, len(word_sequence)-1):\n",
    "    target = word_dict[word_sequence[i]]\n",
    "    context = [word_dict[word_sequence[i-1]], word_dict[word_sequence[i+1]]]\n",
    "    \n",
    "    for w in context:\n",
    "        skip_grams.append([target, w])"
   ]
  },
  {
   "cell_type": "markdown",
   "metadata": {},
   "source": [
    "- 모델 클래스 생성"
   ]
  },
  {
   "cell_type": "code",
   "execution_count": 16,
   "metadata": {},
   "outputs": [],
   "source": [
    "class Word2Vec(nn.Module):\n",
    "    def __init__(self):\n",
    "        super(Word2Vec, self).__init__()\n",
    "        \n",
    "        # W and WT are not Transpose relationship?\n",
    "        self.W = nn.Parameter(-2 * torch.rand(voc_size, embedding_size) + 1).type(dtype)  # voc_size > embedding_size Weight\n",
    "        self.WT = nn.Parameter(-2 * torch.rand(embedding_size, voc_size) + 1).type(dtype) # embedding_size > voc_size weight\n",
    "        \n",
    "    def forward(self, X):\n",
    "        # X: [batch_size, voc_size]\n",
    "        hidden_layer = torch.matmul(X, self.W)\n",
    "        output_layer = torch.matmul(hidden_layer, self.WT)\n",
    "        return output_layer"
   ]
  },
  {
   "cell_type": "code",
   "execution_count": 52,
   "metadata": {},
   "outputs": [],
   "source": [
    "model = Word2Vec()\n",
    "criterion = nn.CrossEntropyLoss()\n",
    "optimizer = optim.Adam(model.parameters(), lr=1e-3)"
   ]
  },
  {
   "cell_type": "markdown",
   "metadata": {},
   "source": [
    "- 모델 트레이닝"
   ]
  },
  {
   "cell_type": "code",
   "execution_count": 53,
   "metadata": {},
   "outputs": [
    {
     "name": "stdout",
     "output_type": "stream",
     "text": [
      "Epoch: 0001 cost = 2.869294\n",
      "Epoch: 0002 cost = 2.771325\n",
      "Epoch: 0003 cost = 2.813146\n",
      "Epoch: 0004 cost = 2.716756\n",
      "Epoch: 0005 cost = 2.821321\n"
     ]
    }
   ],
   "source": [
    "weights = []\n",
    "for epoch in range(1, 5+1):\n",
    "    \n",
    "    input_batch, target_batch = random_batch(skip_grams, batch_size)\n",
    "    \n",
    "    input_batch = Variable(torch.Tensor(input_batch))\n",
    "    target_batch = Variable(torch.LongTensor(target_batch))\n",
    "    \n",
    "    optimizer.zero_grad()\n",
    "    output = model(input_batch)\n",
    "    \n",
    "    loss = criterion(output, target_batch)\n",
    "    \n",
    "    # 가중치 저장\n",
    "    W, WT = model.parameters()\n",
    "    weights.append(W)\n",
    "\n",
    "    print('Epoch:', '%04d' % (epoch), 'cost =', '{:.6f}'.format(loss))\n",
    "        \n",
    "    loss.backward()\n",
    "    optimizer.step()"
   ]
  },
  {
   "cell_type": "markdown",
   "metadata": {},
   "source": [
    "- 그래프 출력"
   ]
  },
  {
   "cell_type": "code",
   "execution_count": 39,
   "metadata": {},
   "outputs": [
    {
     "name": "stdout",
     "output_type": "stream",
     "text": [
      "5\n"
     ]
    },
    {
     "data": {
      "text/plain": [
       "Parameter containing:\n",
       "tensor([[-0.6328,  0.0591],\n",
       "        [-0.0259,  0.3684],\n",
       "        [ 0.3692,  0.6471],\n",
       "        [ 0.5916,  0.4447],\n",
       "        [ 0.6493,  0.4705],\n",
       "        [ 0.7657, -0.0744],\n",
       "        [-0.1173, -0.8156],\n",
       "        [ 0.3490, -0.1985],\n",
       "        [-0.2792, -0.0379],\n",
       "        [-0.9371, -0.7405],\n",
       "        [-0.2058, -0.0043],\n",
       "        [-0.7806, -0.5344],\n",
       "        [ 0.8863,  0.6182],\n",
       "        [-0.9116,  0.9216]], requires_grad=True)"
      ]
     },
     "execution_count": 39,
     "metadata": {},
     "output_type": "execute_result"
    }
   ],
   "source": [
    "print(len(weights))\n",
    "weights[0]"
   ]
  },
  {
   "cell_type": "code",
   "execution_count": 67,
   "metadata": {},
   "outputs": [
    {
     "data": {
      "image/png": "[encoded data removed]",
      "text/plain": [
       "<Figure size 720x504 with 1 Axes>"
      ]
     },
     "metadata": {
      "needs_background": "light"
     },
     "output_type": "display_data"
    }
   ],
   "source": [
    "num = 4\n",
    "W = weights[num]\n",
    "plt.figure(figsize=(10, 7))\n",
    "\n",
    "for i, label in enumerate(word_list):\n",
    "    x, y = float(W[i][0]), float(W[i][1])\n",
    "    \n",
    "    plt.scatter(x, y)\n",
    "    plt.annotate(label, xy=(x, y), xytext=(5, 2), textcoords='offset points', ha='right', va='bottom')\n",
    "    \n",
    "plt.savefig('./deeplearning/word2vec/epoch'+str(num)+'.png')\n",
    "plt.show()"
   ]
  },
  {
   "cell_type": "code",
   "execution_count": null,
   "metadata": {},
   "outputs": [],
   "source": []
  },
  {
   "cell_type": "code",
   "execution_count": null,
   "metadata": {},
   "outputs": [],
   "source": []
  }
 ],
 "metadata": {
  "kernelspec": {
   "display_name": "Python 3",
   "language": "python",
   "name": "python3"
  },
  "language_info": {
   "codemirror_mode": {
    "name": "ipython",
    "version": 3
   },
   "file_extension": ".py",
   "mimetype": "text/x-python",
   "name": "python",
   "nbconvert_exporter": "python",
   "pygments_lexer": "ipython3",
   "version": "3.8.5"
  }
 },
 "nbformat": 4,
 "nbformat_minor": 4
}
