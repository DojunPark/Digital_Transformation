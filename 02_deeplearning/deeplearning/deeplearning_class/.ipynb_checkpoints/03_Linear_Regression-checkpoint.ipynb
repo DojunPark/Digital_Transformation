{
 "cells": [
  {
   "cell_type": "code",
   "execution_count": 1,
   "metadata": {},
   "outputs": [
    {
     "data": {
      "image/png": "[encoded data removed]",
      "text/plain": [
       "<Figure size 576x360 with 1 Axes>"
      ]
     },
     "metadata": {
      "needs_background": "light"
     },
     "output_type": "display_data"
    }
   ],
   "source": [
    "import numpy as np\n",
    "import pandas as pd\n",
    "import matplotlib.pyplot as plt\n",
    "\n",
    "#공부시간 X와 성적 Y의 리스트를 만듭니다.\n",
    "data = [[2, 81], [4, 93], [6, 91], [8, 97]]\n",
    "x = [i[0] for i in data]\n",
    "y = [i[1] for i in data]\n",
    "\n",
    "#그래프로 나타내 봅니다.\n",
    "plt.figure(figsize=(8,5))\n",
    "plt.scatter(x, y)\n",
    "plt.show()"
   ]
  },
  {
   "cell_type": "code",
   "execution_count": 13,
   "metadata": {},
   "outputs": [
    {
     "name": "stdout",
     "output_type": "stream",
     "text": [
      "epoch=0, 기울기=2.7840, 절편=0.5430\n",
      "epoch=100, 기울기=13.9141, 절편=9.6920\n",
      "epoch=200, 기울기=12.8370, 절편=16.1199\n",
      "epoch=300, 기울기=11.8597, 절편=21.9516\n",
      "epoch=400, 기울기=10.9731, 절편=27.2425\n",
      "epoch=500, 기울기=10.1687, 절편=32.0427\n",
      "epoch=600, 기울기=9.4390, 절편=36.3977\n",
      "epoch=700, 기울기=8.7769, 절편=40.3488\n",
      "epoch=800, 기울기=8.1762, 절편=43.9335\n",
      "epoch=900, 기울기=7.6312, 절편=47.1857\n",
      "epoch=1000, 기울기=7.1368, 절편=50.1362\n",
      "epoch=1100, 기울기=6.6882, 절편=52.8132\n",
      "epoch=1200, 기울기=6.2812, 절편=55.2418\n",
      "epoch=1300, 기울기=5.9120, 절편=57.4453\n",
      "epoch=1400, 기울기=5.5770, 절편=59.4443\n",
      "epoch=1500, 기울기=5.2731, 절편=61.2580\n",
      "epoch=1600, 기울기=4.9973, 절편=62.9035\n",
      "epoch=1700, 기울기=4.7472, 절편=64.3963\n",
      "epoch=1800, 기울기=4.5202, 절편=65.7507\n",
      "epoch=1900, 기울기=4.3143, 절편=66.9795\n",
      "epoch=2000, 기울기=4.1275, 절편=68.0943\n"
     ]
    }
   ],
   "source": [
    "#리스트로 되어 있는 x와 y값을 넘파이 배열로 바꾸어 줍니다.(인덱스를 주어 하나씩 불러와 계산이 가능해 지도록 하기 위함입니다.)\n",
    "x_data = np.array(x)\n",
    "y_data = np.array(y)\n",
    "\n",
    "# 기울기 a와 절편 b의 값을 초기화 합니다.\n",
    "a = 0\n",
    "b = 0\n",
    "\n",
    "#학습률을 정합니다.\n",
    "lr = 0.003 \n",
    "\n",
    "#몇 번 반복될지를 설정합니다.\n",
    "epochs = 2001 \n",
    "errors = []\n",
    "diff_a = []\n",
    "diff_b = []\n",
    "#경사 하강법을 시작합니다.\n",
    "for i in range(epochs): # epoch 수 만큼 반복\n",
    "    y_hat = a * x_data + b  #y를 구하는 식을 세웁니다\n",
    "    error = y_data - y_hat  #오차를 구하는 식입니다.\n",
    "    \n",
    "    a_diff = -(2/len(x_data)) * sum(x_data * (error)) # 오차함수를 a로 미분한 값입니다. \n",
    "    b_diff = -(2/len(x_data)) * sum(error)  # 오차함수를 b로 미분한 값입니다. \n",
    "    \n",
    "    errors.append(sum(error))\n",
    "    diff_a.append(a_diff)\n",
    "    diff_b.append(b_diff)\n",
    "    \n",
    "    a = a - lr * a_diff  # 학습률을 곱해 기존의 a값을 업데이트합니다.\n",
    "    b = b - lr * b_diff  # 학습률을 곱해 기존의 b값을 업데이트합니다.\n",
    "    if i % 100 == 0:    # 100번 반복될 때마다 현재의 a값, b값을 출력합니다.\n",
    "        print(\"epoch=%.f, 기울기=%.04f, 절편=%.04f\" % (i, a, b))"
   ]
  },
  {
   "cell_type": "code",
   "execution_count": 24,
   "metadata": {},
   "outputs": [
    {
     "data": {
      "text/plain": [
       "[362,\n",
       " 304.14799999999997,\n",
       " 256.991312,\n",
       " 218.551021328,\n",
       " 187.214366284832,\n",
       " 161.66698989585421,\n",
       " 140.83772692929503,\n",
       " 123.8536068163346,\n",
       " 110.00318225353755,\n",
       " 98.7066430101938]"
      ]
     },
     "execution_count": 24,
     "metadata": {},
     "output_type": "execute_result"
    }
   ],
   "source": [
    "errors[:10]"
   ]
  },
  {
   "cell_type": "code",
   "execution_count": 25,
   "metadata": {},
   "outputs": [
    {
     "data": {
      "text/plain": [
       "[-928.0,\n",
       " -755.53,\n",
       " -614.9723799999999,\n",
       " -500.42248192000005,\n",
       " -407.06816985448,\n",
       " -330.9876837864012,\n",
       " -268.9848958564112,\n",
       " -218.45504869831774,\n",
       " -177.27533583037558,\n",
       " -143.71572764710498]"
      ]
     },
     "execution_count": 25,
     "metadata": {},
     "output_type": "execute_result"
    }
   ],
   "source": [
    "diff_a[:10]"
   ]
  },
  {
   "cell_type": "code",
   "execution_count": 26,
   "metadata": {},
   "outputs": [
    {
     "data": {
      "text/plain": [
       "[-181.0,\n",
       " -152.07399999999998,\n",
       " -128.495656,\n",
       " -109.275510664,\n",
       " -93.607183142416,\n",
       " -80.83349494792711,\n",
       " -70.41886346464752,\n",
       " -61.9268034081673,\n",
       " -55.00159112676877,\n",
       " -49.3533215050969]"
      ]
     },
     "execution_count": 26,
     "metadata": {},
     "output_type": "execute_result"
    }
   ],
   "source": [
    "diff_b[:10]"
   ]
  },
  {
   "cell_type": "code",
   "execution_count": 23,
   "metadata": {},
   "outputs": [
    {
     "data": {
      "image/png": "[encoded data removed]",
      "text/plain": [
       "<Figure size 720x360 with 1 Axes>"
      ]
     },
     "metadata": {
      "needs_background": "light"
     },
     "output_type": "display_data"
    }
   ],
   "source": [
    "plt.figure(figsize=(10, 5))\n",
    "plt.plot(range(epochs), errors)  # 오차값\n",
    "plt.plot(range(epochs), diff_a)  # w 기울기\n",
    "plt.plot(range(epochs), diff_b)  # b 기울기\n",
    "\n",
    "plt.show()"
   ]
  },
  {
   "cell_type": "code",
   "execution_count": 12,
   "metadata": {},
   "outputs": [
    {
     "data": {
      "image/png": "[encoded data removed]",
      "text/plain": [
       "<Figure size 432x288 with 1 Axes>"
      ]
     },
     "metadata": {
      "needs_background": "light"
     },
     "output_type": "display_data"
    }
   ],
   "source": [
    "# 앞서 구한 기울기와 절편을 이용해 그래프를 그려 봅니다.\n",
    "y_pred = a * x_data + b\n",
    "plt.scatter(x, y)\n",
    "plt.plot([min(x_data), max(x_data)], [min(y_pred), max(y_pred)])\n",
    "plt.show()"
   ]
  },
  {
   "cell_type": "code",
   "execution_count": null,
   "metadata": {},
   "outputs": [],
   "source": []
  }
 ],
 "metadata": {
  "kernelspec": {
   "display_name": "Python 3",
   "language": "python",
   "name": "python3"
  },
  "language_info": {
   "codemirror_mode": {
    "name": "ipython",
    "version": 3
   },
   "file_extension": ".py",
   "mimetype": "text/x-python",
   "name": "python",
   "nbconvert_exporter": "python",
   "pygments_lexer": "ipython3",
   "version": "3.8.5"
  }
 },
 "nbformat": 4,
 "nbformat_minor": 2
}
