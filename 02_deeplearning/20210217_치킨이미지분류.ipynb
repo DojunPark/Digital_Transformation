{
 "cells": [
  {
   "cell_type": "markdown",
   "metadata": {},
   "source": [
    "# 이미지 크롤링\n",
    "- 치킨, 피자, 족발"
   ]
  },
  {
   "cell_type": "code",
   "execution_count": 7,
   "metadata": {},
   "outputs": [
    {
     "name": "stdout",
     "output_type": "stream",
     "text": [
      "검색어를 입력하세요: 피자 사진\n",
      "더보기 클릭 횟수를 입력하세요(최대 8): 5\n"
     ]
    },
    {
     "name": "stderr",
     "output_type": "stream",
     "text": [
      "images saving...: 100%|██████████████████████████████████████████████████████████████| 396/396 [01:32<00:00,  4.47it/s]\n"
     ]
    },
    {
     "name": "stdout",
     "output_type": "stream",
     "text": [
      "-------- 파일 저장 완료 ---------\n"
     ]
    }
   ],
   "source": [
    "from tqdm import tqdm\n",
    "import requests\n",
    "from bs4 import BeautifulSoup as bs\n",
    "from selenium import webdriver\n",
    "from selenium.webdriver.common.keys import Keys\n",
    "import urllib\n",
    "import time\n",
    "import shutil\n",
    "import os\n",
    "\n",
    "# 검색어 입력\n",
    "keyword = input('검색어를 입력하세요: ')\n",
    "page = int(input('더보기 클릭 횟수를 입력하세요(최대 8): '))\n",
    "\n",
    "# 브라우저 열기\n",
    "url = 'https://www.google.com/search?q='+keyword+'&sxsrf=ALeKk02Lu3eOXbbUqUlS_jilJg5hZvbZUQ:1610612649568&source=lnms&tbm=isch&sa=X&ved=2ahUKEwj6ieTW_5ruAhUQZt4KHQtFBAQQ_AUoAXoECBMQAw&biw=1536&bih=754'\n",
    "\n",
    "driver = webdriver.Chrome('c:\\edu\\py_data\\crawling\\chromedriver.exe')\n",
    "driver.get(url)\n",
    "driver.implicitly_wait(3)\n",
    "\n",
    "# 이미지 링크 추출\n",
    "for _ in range(page):\n",
    "    driver.execute_script(\"window.scrollTo(0, document.body.scrollHeight);\")\n",
    "    driver.implicitly_wait(3)\n",
    "    time.sleep(1)\n",
    "\n",
    "html = driver.page_source\n",
    "soup = bs(html, 'html.parser')\n",
    "\n",
    "div = soup.find_all('div', class_='bRMDJf islir')\n",
    "\n",
    "ls_img = []\n",
    "for d in div:\n",
    "    img = d.find('img', class_='rg_i Q4LuWd')\n",
    "    try:\n",
    "        img_url = img['src']\n",
    "    except KeyError:\n",
    "        img_url = img['data-src']\n",
    "    ls_img.append(img_url)\n",
    "    \n",
    "# 중복 이미지 제거\n",
    "ls_img = set(ls_img)\n",
    "    \n",
    "# 폴더 생성\n",
    "path = 'c:/edu/py_data/crawling/img/'\n",
    "dir_name = keyword\n",
    "\n",
    "while True:\n",
    "    ls_dir = os.listdir(path)\n",
    "    if dir_name in ls_dir:\n",
    "        answer = input(\"동일한 이름의 폴더가 존재합니다, 삭제하시겠습니까? [y/n]: \" )\n",
    "        if answer == 'y':\n",
    "            shutil.rmtree(path+dir_name)\n",
    "        elif answer == 'n':\n",
    "            dir_name = input(\"새로운 폴더명을 입력하세요: \")\n",
    "        else:\n",
    "            continue\n",
    "    if dir_name not in ls_dir:\n",
    "        break\n",
    "        \n",
    "os.makedirs(path + dir_name)\n",
    "\n",
    "# 이미지 저장\n",
    "cnt = 0\n",
    "for url in tqdm(ls_img, desc='images saving...'):\n",
    "    cnt += 1\n",
    "    sfdir = path + dir_name + '/' + keyword.split()[0] + str(cnt) +'.jpg'\n",
    "    urllib.request.urlretrieve(url, sfdir)\n",
    "    \n",
    "driver.close()\n",
    "print('-------- 파일 저장 완료 ---------')"
   ]
  },
  {
   "cell_type": "markdown",
   "metadata": {},
   "source": [
    "# 이미지 변환"
   ]
  },
  {
   "cell_type": "code",
   "execution_count": 5,
   "metadata": {},
   "outputs": [
    {
     "name": "stdout",
     "output_type": "stream",
     "text": [
      "------ done -------\n"
     ]
    }
   ],
   "source": [
    "import os\n",
    "import matplotlib.pyplot as plt\n",
    "import numpy as np\n",
    "from PIL import Image\n",
    "\n",
    "keyword = '피자'\n",
    "dir = 'c:/edu/py_data/crawling/img/' + keyword + '/'\n",
    "dir_save = 'c:/edu/py_data/crawling/img/' + keyword + '1/'\n",
    "\n",
    "ls_file = os.listdir(dir)\n",
    "\n",
    "cnt = 1\n",
    "for file in ls_file:\n",
    "    img = Image.open(dir + file)\n",
    "    img_resize = img.resize((100, 100))\n",
    "    img_resize.save(dir_save + keyword + str(cnt) + '.jpg')\n",
    "    \n",
    "    cnt += 1\n",
    "\n",
    "print('------ done -------')"
   ]
  },
  {
   "cell_type": "markdown",
   "metadata": {},
   "source": [
    "# 변경 이미지를 npy로 저장"
   ]
  },
  {
   "cell_type": "code",
   "execution_count": 34,
   "metadata": {},
   "outputs": [],
   "source": [
    "del result"
   ]
  },
  {
   "cell_type": "code",
   "execution_count": 12,
   "metadata": {},
   "outputs": [
    {
     "name": "stdout",
     "output_type": "stream",
     "text": [
      "(540, 100, 100, 3)\n"
     ]
    }
   ],
   "source": [
    "from PIL import Image\n",
    "import numpy as np\n",
    "\n",
    "cnt = 0\n",
    "\n",
    "keyword = '피자'\n",
    "dir = 'c:/edu/py_data/crawling/img/' + keyword + '1/'\n",
    "\n",
    "ls_file = os.listdir(dir)\n",
    "\n",
    "for file in ls_file:\n",
    "    img = Image.open(dir + file)\n",
    "    arr_img = np.array(img)\n",
    "    tmp = arr_img.reshape(1, 100, 100, 3)\n",
    "    \n",
    "    try:\n",
    "        result = np.concatenate((result, tmp))\n",
    "    except:\n",
    "        result = tmp\n",
    "        cnt += 1\n",
    "    \n",
    "print(result.shape)"
   ]
  },
  {
   "cell_type": "code",
   "execution_count": 13,
   "metadata": {},
   "outputs": [],
   "source": [
    "ls_label = []\n",
    "for i in range(3):\n",
    "    for j in range(180):\n",
    "        ls_label.append(i)"
   ]
  },
  {
   "cell_type": "code",
   "execution_count": 14,
   "metadata": {},
   "outputs": [],
   "source": [
    "arr_label = np.array(ls_label)"
   ]
  },
  {
   "cell_type": "code",
   "execution_count": 15,
   "metadata": {},
   "outputs": [],
   "source": [
    "from sklearn.model_selection import train_test_split\n",
    "\n",
    "x_train, x_test, y_train, y_test = train_test_split(result, arr_label, random_state=42)"
   ]
  },
  {
   "cell_type": "code",
   "execution_count": 16,
   "metadata": {},
   "outputs": [
    {
     "name": "stdout",
     "output_type": "stream",
     "text": [
      "405\n",
      "135\n",
      "405\n",
      "135\n"
     ]
    }
   ],
   "source": [
    "print(len(x_train))\n",
    "print(len(x_test))\n",
    "print(len(y_train))\n",
    "print(len(y_test))"
   ]
  },
  {
   "cell_type": "code",
   "execution_count": 51,
   "metadata": {},
   "outputs": [],
   "source": [
    "np.save('c:/edu/py_data/crawling/img/x_train', x_train)\n",
    "np.save('c:/edu/py_data/crawling/img/y_train', y_train)\n",
    "np.save('c:/edu/py_data/crawling/img/x_test', x_test)\n",
    "np.save('c:/edu/py_data/crawling/img/y_test', y_test)"
   ]
  },
  {
   "cell_type": "code",
   "execution_count": 17,
   "metadata": {},
   "outputs": [],
   "source": [
    "np.savez('c:/edu/py_data/crawling/img/img_dataset', x_train=x_train, x_test=x_test, y_train=y_train, y_test=y_test)"
   ]
  },
  {
   "cell_type": "code",
   "execution_count": 25,
   "metadata": {},
   "outputs": [],
   "source": [
    "dataset = np.load('c:/edu/py_data/crawling/img/img_dataset.npz')"
   ]
  },
  {
   "cell_type": "code",
   "execution_count": 27,
   "metadata": {},
   "outputs": [
    {
     "data": {
      "text/plain": [
       "(405, 100, 100, 3)"
      ]
     },
     "execution_count": 27,
     "metadata": {},
     "output_type": "execute_result"
    }
   ],
   "source": [
    "dataset['x_train'].shape"
   ]
  },
  {
   "cell_type": "code",
   "execution_count": null,
   "metadata": {},
   "outputs": [],
   "source": []
  }
 ],
 "metadata": {
  "kernelspec": {
   "display_name": "Python 3",
   "language": "python",
   "name": "python3"
  },
  "language_info": {
   "codemirror_mode": {
    "name": "ipython",
    "version": 3
   },
   "file_extension": ".py",
   "mimetype": "text/x-python",
   "name": "python",
   "nbconvert_exporter": "python",
   "pygments_lexer": "ipython3",
   "version": "3.8.5"
  }
 },
 "nbformat": 4,
 "nbformat_minor": 4
}
