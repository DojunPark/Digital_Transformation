{
 "cells": [
  {
   "cell_type": "markdown",
   "metadata": {},
   "source": [
    "## ▶파이썬 통계기초\n",
    "\n"
   ]
  },
  {
   "cell_type": "markdown",
   "metadata": {},
   "source": [
    "부성순 강사님\n",
    "- bakpak@empas.com"
   ]
  },
  {
   "cell_type": "markdown",
   "metadata": {},
   "source": [
    "## ▶변수와 척도\n",
    "- https://mindscale.kr/course/basic-stat-python/1\n",
    "- 연속변수/범주변수(이산변수)\n",
    "- 척도(scale): 측정된 변수의 값을 표현하는 수준(levels of measurement)을 의미\n",
    "-등간척도(interval scale): 측정값들 사이에 순서가 있고 간격이 일정함\n",
    "- 척도에 따라 적용가능한 통계 분석방법이 다름\n",
    " - 숫자로 표현된 경우라 하더라도 무조건 사칙연산이 가능하지는 않음. 그 숫자의 의미(=척도)를 이해해야\n",
    "   - 예) 남자 = 1, 여자 = 2로 표현하는 경우수로 표현되었지만 1+1=2 와 같이 계산하면 남자 2명이 여자 1명과 같다는 이상한 해석이 됨\n",
    "- 가능하면 비율척도나 등간척도의 형태로 자료 수집을 하는 것이 분석에 용이\n",
    "  - 예) 연령을 조사하는 경우\n",
    "    - 서열척도로 조사: \"어린이, 청장년, 노인\"와 같이 나누어 조사\n",
    "    - 비율척도로 조사: 만 나이로 조사\n",
    "    - 비율척도는 다양한 계산과 분석이 가능하지만 서열척도는 어린이 몇 명, 노인 몇 명 등의 분석만 가능"
   ]
  },
  {
   "cell_type": "markdown",
   "metadata": {},
   "source": [
    "## ▶도수분포표와 히스토그램\n",
    "- https://mindscale.kr/course/basic-stat-python/2\n",
    "- 도수분포표(frequency table): 데이터를 구간으로 나누어, 각 구간의 빈도를 나타낸 표\n",
    "- 히스토그램(histogram): 도수분포표를 그래프로 그린 것"
   ]
  },
  {
   "cell_type": "markdown",
   "metadata": {},
   "source": [
    "###  [1] 범주변수"
   ]
  },
  {
   "cell_type": "code",
   "execution_count": 1,
   "metadata": {},
   "outputs": [
    {
     "data": {
      "text/plain": [
       "(array(['A', 'AB', 'B', 'O'], dtype='<U2'), array([3, 1, 2, 1], dtype=int64))"
      ]
     },
     "execution_count": 1,
     "metadata": {},
     "output_type": "execute_result"
    }
   ],
   "source": [
    "blood = ['A', 'A', 'A', 'B', 'B', 'AB', 'O']\n",
    "\n",
    "# 넘파이와 판다스를 이용한 집계는 제공하는 사이트를 보고 작업해봅니다.\n",
    "import numpy as np\n",
    "np.unique(blood, return_counts=True)"
   ]
  },
  {
   "cell_type": "code",
   "execution_count": 3,
   "metadata": {},
   "outputs": [
    {
     "name": "stdout",
     "output_type": "stream",
     "text": [
      "['A', 'B', 'AB', 'O']\n"
     ]
    },
    {
     "data": {
      "text/plain": [
       "[3, 2, 1, 1]"
      ]
     },
     "execution_count": 3,
     "metadata": {},
     "output_type": "execute_result"
    }
   ],
   "source": [
    "\n",
    "##############\n",
    "# 참고:for로 unique값을 만들어서 갯수를 count해봅니다.\n",
    "uniqueValue=[]\n",
    "\n",
    "for i in blood:\n",
    "    if i not in uniqueValue:\n",
    "        uniqueValue.append(i)\n",
    "\n",
    "print(uniqueValue)\n",
    "\n",
    "\n",
    "cnt=0\n",
    "uniqueCount=[]\n",
    "for i in uniqueValue:\n",
    "    for j in blood:\n",
    "        if i==j:\n",
    "            cnt+=1\n",
    "    uniqueCount.append(cnt)\n",
    "    cnt=0\n",
    "uniqueCount"
   ]
  },
  {
   "cell_type": "markdown",
   "metadata": {},
   "source": [
    "### [2] 연속변수\n",
    "-- 사이트의 내용을 반드시 이해합니다."
   ]
  },
  {
   "cell_type": "code",
   "execution_count": 6,
   "metadata": {},
   "outputs": [
    {
     "name": "stdout",
     "output_type": "stream",
     "text": [
      "[1. 3. 5. 7. 9.]\n",
      "[ 4 12  7  3]\n"
     ]
    }
   ],
   "source": [
    "import numpy as np\n",
    "x = [1, 1, 1, 2, 3, 5, 5, 7, 8, 9]\n",
    "x = [1, 2, 2,2,3,3,3,3,3,3,4,4,4,4,4,4,5,5,5,5,5,6,6,7, 8, 9]\n",
    "\n",
    "hist, edges = np.histogram(x, 4)\n",
    "\n",
    "print(edges)\n",
    "print(hist)"
   ]
  },
  {
   "cell_type": "code",
   "execution_count": 7,
   "metadata": {},
   "outputs": [
    {
     "name": "stderr",
     "output_type": "stream",
     "text": [
      "C:\\Users\\dojun\\anaconda3\\envs\\python38\\lib\\site-packages\\seaborn\\distributions.py:2557: FutureWarning: `distplot` is a deprecated function and will be removed in a future version. Please adapt your code to use either `displot` (a figure-level function with similar flexibility) or `histplot` (an axes-level function for histograms).\n",
      "  warnings.warn(msg, FutureWarning)\n"
     ]
    },
    {
     "data": {
      "text/plain": [
       "<AxesSubplot:>"
      ]
     },
     "execution_count": 7,
     "metadata": {},
     "output_type": "execute_result"
    },
    {
     "data": {
      "image/png": "[encoded data removed]",
      "text/plain": [
       "<Figure size 432x288 with 1 Axes>"
      ]
     },
     "metadata": {
      "needs_background": "light"
     },
     "output_type": "display_data"
    }
   ],
   "source": [
    "import seaborn as sns\n",
    "sns.distplot(x, bins=4, kde=False)"
   ]
  },
  {
   "cell_type": "code",
   "execution_count": 11,
   "metadata": {},
   "outputs": [
    {
     "data": {
      "text/plain": [
       "(array([ 4., 12.,  7.,  3.]),\n",
       " array([1., 3., 5., 7., 9.]),\n",
       " <BarContainer object of 4 artists>)"
      ]
     },
     "execution_count": 11,
     "metadata": {},
     "output_type": "execute_result"
    },
    {
     "data": {
      "image/png": "[encoded data removed]",
      "text/plain": [
       "<Figure size 432x288 with 1 Axes>"
      ]
     },
     "metadata": {
      "needs_background": "light"
     },
     "output_type": "display_data"
    }
   ],
   "source": [
    "import matplotlib.pyplot as plt\n",
    "plt.hist(x, bins=4)"
   ]
  },
  {
   "cell_type": "markdown",
   "metadata": {},
   "source": [
    "###  [3] 중심경향치(평균, 최빈값, 중앙값)\n",
    "- 중심경향치(central tendency measures)란?\n",
    "- 자료의 중심을 나타내는 숫자\n",
    "- 자료 전체를 대표\n",
    "- 평균, 중간값, 최빈값 등이 있다"
   ]
  },
  {
   "cell_type": "markdown",
   "metadata": {},
   "source": [
    "####    [3-1] 평균\n",
    "- 평균은 극단적인 값(outliers)의 영향을 잘 받는다. \n",
    "- 위의 x에서 500 하나를 1700으로 바꾸었을 뿐이지만 전체 평균은 크게 변한다.\n",
    "- 소득처럼 분포가 비대칭적인 경우에도 평균이 자료를 잘 대표하기 어렵다.\n",
    "- 사칙연산 중 덧셈이 가능해야 하므로, 등간척도/비율척도에서 쓸 수 있다. \n",
    "- 서열척도와 명목척도에서는 쓸 수 없다."
   ]
  },
  {
   "cell_type": "code",
   "execution_count": 4,
   "metadata": {},
   "outputs": [
    {
     "data": {
      "text/plain": [
       "4.2"
      ]
     },
     "execution_count": 4,
     "metadata": {},
     "output_type": "execute_result"
    }
   ],
   "source": [
    "##  산술평균\n",
    "x = [100, 100, 200, 400, 500]\n",
    "x = [1, 1, 1, 2, 3, 5, 5, 7, 8, 9]\n",
    "###############\n",
    "# for를 이용하여 작업도 가능함.\n",
    "hap=0; cnt=0\n",
    "for i in x:\n",
    "    hap=hap+i\n",
    "    cnt+=1\n",
    "hap/cnt"
   ]
  },
  {
   "cell_type": "markdown",
   "metadata": {},
   "source": [
    "#### [3-2] 중앙값\n",
    "- 중간값(median): 자료를 크기 순으로 정렬했을 때 정 가운데에 있는 값\n",
    "- 자료의 상위 50%와 하위 50%를 가르는 지점\n",
    "- '중앙값' 또는 '중위수'라고도 한다.\n",
    "- 자료를 크기 순으로 정렬할 수만 있으면 되므로 서열척도/등간척도/비율척도에서 쓸 수 있다. 명명척도에서는 쓸 수 없다."
   ]
  },
  {
   "cell_type": "code",
   "execution_count": 17,
   "metadata": {},
   "outputs": [
    {
     "data": {
      "text/plain": [
       "4.0"
      ]
     },
     "execution_count": 17,
     "metadata": {},
     "output_type": "execute_result"
    }
   ],
   "source": [
    "## 중앙값을 구하기 위해 먼저 정렬해야함.\n",
    "## 정렬은 자료구조론중 sort알고리즘이며 다양한 알고리즘이 있으며\n",
    "# 시간과 계산 복잡도가 서로 다름\n",
    "# https://getchan.github.io/algorithm/python_algo_9/\n",
    "\n",
    "# 중앙값은 홀수개 데이터는 전체데이터/2  번째 위치값\n",
    "# 중앙값은 짝수데이터는 전체데이터/2 번째와 그 다음번째값을 더하고 /2함\n",
    "\n",
    "def bubble_sort(seq):\n",
    "    length = len(seq)-1\n",
    "    for num in range(length, 0, -1):\n",
    "        for i in range(num):\n",
    "            if seq[i] > seq[i+1]:\n",
    "                seq[i], seq[i+1] = seq[i+1], seq[i]\n",
    "    return seq\n",
    "\n",
    "\n",
    "x = [100, 100, 200, 400, 500]\n",
    "x = [1, 1, 2, 1, 3, 5, 5, 7, 8, 9]\n",
    "\n",
    "bubble_sort(x)\n",
    "\n",
    "cnt=0\n",
    "for i in x:\n",
    "    cnt+=1\n",
    "\n",
    "if cnt%2!=0:   #2로나눈 나머지값이 0이 아니라면 , 즉 홀수라면\n",
    "    중앙값=x[int(cnt/2+0.5)-1]\n",
    "else:\n",
    "    중앙값=(x[int(cnt/2+0.5)-1]+x[int(cnt/2+0.5)])/2\n",
    "중앙값"
   ]
  },
  {
   "cell_type": "markdown",
   "metadata": {},
   "source": [
    "#### [3-3] 최빈값\n",
    "- 최빈값(mode): 가장 빈번하게 관찰/측정되는 값\n",
    "- 모든 척도에 가능하나 주로 범주변수(명명척도, 서열척도)에 사용"
   ]
  },
  {
   "cell_type": "code",
   "execution_count": 6,
   "metadata": {},
   "outputs": [
    {
     "name": "stdout",
     "output_type": "stream",
     "text": [
      "[1, 2, 3, 5, 7, 8, 9]\n",
      "1\n"
     ]
    }
   ],
   "source": [
    "x = [1,2,3,2,2,2,2,2,2,1,1,1,1,1]\n",
    "x = [1, 1, 1, 2, 3, 5, 5, 7, 8, 9]\n",
    "\n",
    "## uniqueValue=[]\n",
    "uniqueValue=[]\n",
    "for i in x:\n",
    "    if i not in uniqueValue:\n",
    "        uniqueValue.append(i)\n",
    "\n",
    "print(uniqueValue)\n",
    "cnt=0\n",
    "max=0\n",
    "for i in uniqueValue:\n",
    "    for j in x:\n",
    "        if i==j:\n",
    "            cnt+=1\n",
    "    if cnt>max:\n",
    "        max=cnt\n",
    "        최빈값=i\n",
    "    cnt=0\n",
    "print(최빈값)    "
   ]
  },
  {
   "cell_type": "markdown",
   "metadata": {},
   "source": [
    "###  [4] 변산성 측정치 (분산, 표준편차, 범위, 사분위간 범위)\n",
    "- 변산성(variability): 자료가 흩어져 있는 정도, 혹은 개체에 따라 변할 수 있는 정도\n",
    "- 중심경향치가 자료가 무엇을 중심으로 모여있는가(혹은 흩어져 있는가)를 나타내는 것이라면,\n",
    "- 변산성 측정치는, 그 모여있는 정도(혹은 흩어져 있는 정도)를 의미함"
   ]
  },
  {
   "cell_type": "markdown",
   "metadata": {},
   "source": [
    "####    [3-1] 범위(Range)\n",
    "- 자료가 갖는 최대값과 최소값 사이의 거리, 즉 자료가 얼마나 퍼져있는가를 나타냄\n",
    "- 범위 = 최댓값 - 최솟값"
   ]
  },
  {
   "cell_type": "code",
   "execution_count": 122,
   "metadata": {},
   "outputs": [
    {
     "name": "stdout",
     "output_type": "stream",
     "text": [
      "min: 1      / max: 7\n",
      "range: 6\n"
     ]
    }
   ],
   "source": [
    "x = [1, 1, 2, 3, 3, 3, 4, 5, 5, 7]\n",
    "\n",
    "\n",
    "\n",
    "##############\n",
    "### for로 작업해보았습니다.\n",
    "\n",
    "min=x[0]\n",
    "for i in x:\n",
    "    if i<min:\n",
    "        min=i\n",
    "\n",
    "        \n",
    "max=x[0]\n",
    "for i in x:\n",
    "    if i>max:\n",
    "        max=i\n",
    "        \n",
    "print('min: %d      / max: %d' %(min,max)) \n",
    "print('range: %d'%(max-min))\n"
   ]
  },
  {
   "cell_type": "markdown",
   "metadata": {},
   "source": [
    "####    [3-2] 분산\n",
    "- 평균에서 데이터가 벗어난 정도를 수치화한 값\n",
    "- 각각의 데이터에서 평균값을 빼고, 그것을 제곱하여 평균을 구함\n",
    "- 분산이 크면 : 데이터가 평균에서 많이 벗어나 있다\n",
    "- 분산이 작으면 : 데이터가 평균 주변에 모여 있다\n",
    "- https://math100.tistory.com/9\n"
   ]
  },
  {
   "attachments": {
    "image-4.png": {
     "image/png": "[encoded data removed]"
    },
    "image-5.png": {
     "image/png": "[encoded data removed]"
    }
   },
   "cell_type": "markdown",
   "metadata": {},
   "source": [
    "![image-4.png](attachment:image-4.png)\n",
    "![image-5.png](attachment:image-5.png)"
   ]
  },
  {
   "cell_type": "code",
   "execution_count": 14,
   "metadata": {},
   "outputs": [
    {
     "name": "stdout",
     "output_type": "stream",
     "text": [
      "3.2399999999999998\n",
      "8.36\n"
     ]
    }
   ],
   "source": [
    "x1 = [1, 1, 2, 3, 3, 3, 4, 5, 5, 7]\n",
    "x2 = [1, 1, 1, 2, 3, 5, 5, 7, 8, 9]\n",
    "\n",
    "##############\n",
    "### for로 작업해보았습니다.\n",
    "\n",
    "###############\n",
    "# for를 이용하여 작업도 가능함.\n",
    "\n",
    "def myAvg(x):\n",
    "    hap=0; cnt=0\n",
    "    for i in x:\n",
    "        hap=hap+i\n",
    "        cnt+=1\n",
    "    ave=hap/cnt\n",
    "    return ave,cnt\n",
    "\n",
    "\n",
    "def myVar(x):\n",
    "    hap=0\n",
    "    tmp=myAvg(x)\n",
    "    for i in x:\n",
    "        #print(i)\n",
    "        #print(tmp)\n",
    "        val=(i-tmp[0])**2\n",
    "        hap+=val\n",
    "    result=hap/tmp[1]\n",
    "    return result\n",
    "        \n",
    "\n",
    "print(myVar(x1))\n",
    "print(myVar(x2))"
   ]
  },
  {
   "cell_type": "markdown",
   "metadata": {},
   "source": [
    "####    [3-3] 표준편차\n",
    "- 평균에서 데이터가 벗어난 정도를 수치화한 값\n",
    "- 제곱근 구하기\n",
    "- https://suhak.tistory.com/228"
   ]
  },
  {
   "cell_type": "code",
   "execution_count": 172,
   "metadata": {},
   "outputs": [
    {
     "data": {
      "text/plain": [
       "1.7999999999999998"
      ]
     },
     "execution_count": 172,
     "metadata": {},
     "output_type": "execute_result"
    }
   ],
   "source": [
    "x = [1, 1, 2, 3, 3, 3, 4, 5, 5, 7]\n",
    "var=5\n",
    "\n",
    "for i in range(10):\n",
    "    tmp=(1/2)*(var+myVar(x)/var)     \n",
    "    if var!=tmp:\n",
    "        var=tmp\n",
    "    \n",
    "var        \n",
    "    "
   ]
  },
  {
   "cell_type": "code",
   "execution_count": 23,
   "metadata": {},
   "outputs": [
    {
     "name": "stdout",
     "output_type": "stream",
     "text": [
      "5\n",
      "5.5\n",
      "5.477272727272727\n",
      "5.4772255752546215\n",
      "5.477225575051661\n",
      "5.477225575051661\n",
      "5.477225575051661\n",
      "5.477225575051661\n",
      "5.477225575051661\n",
      "5.477225575051661\n"
     ]
    }
   ],
   "source": [
    "x=30\n",
    "t=5\n",
    "\n",
    "for i in range(10):\n",
    "    var=1/2*(t+x/t)\n",
    "    print(t)\n",
    "    t=var"
   ]
  },
  {
   "cell_type": "markdown",
   "metadata": {},
   "source": [
    "####    [3-4] 사분위간 범위\n",
    "- 사분위간 범위(IQR, InterQuartile Range)는 제3사분위수에서 제1사분위수 간의 범위\n",
    "- 사분위수란 전체 데이터를 작은 값부터 큰 값까지 순서대로 나열한 후 4등분 하였을 때, 각 지점에 해당하는 값\n",
    "\n",
    "    - 제1사분위수(Q1): 25% 지점\n",
    "    - 제2사분위수(Q2): 50% 지점 = 중간값\n",
    "    - 제3사분위수(Q3): 75%\n",
    "    - 제1사분위수와 제3사분위수 사이의 구간에는 항상 전체 데이터의 50%가 포함 됨\n",
    "\n",
    "    - 사분위는 임의로 정하는 기준이므로 필요에 따라 십분위 등으로 변경가능"
   ]
  },
  {
   "cell_type": "markdown",
   "metadata": {},
   "source": [
    "####    [3-5] 변산성 측정치를 이용한 이상점 진단\n",
    "- 대부분의 자료는 중심경향치 주변에 몰려있음\n",
    "- 변산성 측정치를 기준으로 벗어난 정도를 파악할 수 있음\n",
    "- 평균에서 벗어난 정도를 판단할 때는 표준편차를 사용\n",
    "- 평균에서 표준편차의 n배 떨어져 있으면 \"n 표준편차\"와 같이 표현\n",
    "- 중간값에서 벗어난 정도를 판단할 때는 IQR을 사용\n",
    "- 중심경향치에서 크게 벗어났다면 이상점으로 의심할 수 있음"
   ]
  }
 ],
 "metadata": {
  "kernelspec": {
   "display_name": "Python 3",
   "language": "python",
   "name": "python3"
  },
  "language_info": {
   "codemirror_mode": {
    "name": "ipython",
    "version": 3
   },
   "file_extension": ".py",
   "mimetype": "text/x-python",
   "name": "python",
   "nbconvert_exporter": "python",
   "pygments_lexer": "ipython3",
   "version": "3.8.5"
  }
 },
 "nbformat": 4,
 "nbformat_minor": 4
}
