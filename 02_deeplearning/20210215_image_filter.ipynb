{
 "cells": [
  {
   "cell_type": "markdown",
   "metadata": {
    "id": "9EtFnei3kelX"
   },
   "source": [
    "### 컨볼루션(신경망) 이해를 돕기 위한 필터값을 적용한 예\n",
    "### 물체의 가장자리를 찾을수 있는 필터임."
   ]
  },
  {
   "cell_type": "code",
   "execution_count": null,
   "metadata": {
    "colab": {
     "base_uri": "https://localhost:8080/",
     "height": 427
    },
    "id": "ylRTvnpfkelX",
    "outputId": "798c7221-377b-4a7b-8dc5-1035654295c3"
   },
   "outputs": [],
   "source": [
    "from tensorflow.keras.datasets import fashion_mnist\n",
    "\n",
    "# 데이터를 다운받습니다.\n",
    "(x_train, y_train), (x_test, y_test) = fashion_mnist.load_data()"
   ]
  },
  {
   "cell_type": "code",
   "execution_count": 3,
   "metadata": {
    "colab": {
     "base_uri": "https://localhost:8080/",
     "height": 427
    },
    "id": "ylRTvnpfkelX",
    "outputId": "798c7221-377b-4a7b-8dc5-1035654295c3"
   },
   "outputs": [
    {
     "data": {
      "image/png": "[encoded data removed]",
      "text/plain": [
       "<Figure size 432x288 with 1 Axes>"
      ]
     },
     "metadata": {
      "needs_background": "light"
     },
     "output_type": "display_data"
    }
   ],
   "source": [
    "import matplotlib.pyplot as plt\n",
    "plt.imshow(x_train[0], cmap='Greys') # 첫 번째 데이터를 그려봅니다.\n",
    "plt.axis('off')\n",
    "plt.show()"
   ]
  },
  {
   "cell_type": "code",
   "execution_count": 4,
   "metadata": {
    "colab": {
     "base_uri": "https://localhost:8080/"
    },
    "id": "nOOR_LxwkelY",
    "outputId": "d2775552-c4d3-4b0d-bb80-83c3f3b5a0df"
   },
   "outputs": [
    {
     "name": "stdout",
     "output_type": "stream",
     "text": [
      "output의 크기 : 25\n"
     ]
    }
   ],
   "source": [
    "## 이미지 필터 정의하기\n",
    "## 가로선과 세로선을 추출하기 위한 필터를 만들고자 함\n",
    "\n",
    "import numpy as np\n",
    "import cv2\n",
    "\n",
    "# 가로선을 추출하기 위한 필터\n",
    "horizontal_filter = np.array([[1., 2., 1.], \n",
    "                             [0., 0., 0.], \n",
    "                             [-1., -2., -1.]])\n",
    "\n",
    "# 세로선을 추출하기 위한 필터\n",
    "vertical_filter = np.array([[1., 0., -1.],\n",
    "                           [2., 0., -2.],\n",
    "                           [1., 0., -1.]])\n",
    "\n",
    "# 계산의 편의를 위해 이미지의 크기를 (27, 27)로 줄입니다.\n",
    "test_image = cv2.resize(x_train[0], (27, 27))\n",
    "image_size = test_image.shape[0]\n",
    "output_size = int((image_size - 3)/1 + 1)\n",
    "print('output의 크기 : %d' % output_size)"
   ]
  },
  {
   "cell_type": "code",
   "execution_count": 8,
   "metadata": {
    "colab": {
     "base_uri": "https://localhost:8080/",
     "height": 216
    },
    "id": "NzmAlEJXkelY",
    "outputId": "e0bf732c-1464-4822-9757-cbf46a4db707"
   },
   "outputs": [
    {
     "data": {
      "image/png": "[encoded data removed]",
      "text/plain": [
       "<Figure size 432x288 with 2 Axes>"
      ]
     },
     "metadata": {
      "needs_background": "light"
     },
     "output_type": "display_data"
    }
   ],
   "source": [
    "# 이미지 필터 적용하기\n",
    "\n",
    "filter_size = 3\n",
    "\n",
    "def get_filtered_image(filter):\n",
    "    filtered_image = np.zeros((output_size, output_size))\n",
    "    for i in range(output_size):\n",
    "        for j in range(output_size):\n",
    "            # 합성곱 연산\n",
    "            indice_image = test_image[i:(i + filter_size), j:(j + filter_size)] * filter\n",
    "            indice_sum = np.sum(indice_image)\n",
    "\n",
    "            if(indice_sum > 255):\n",
    "                indice_sum = 255\n",
    "            filtered_image[i, j] = indice_sum\n",
    "      \n",
    "    return filtered_image\n",
    "\n",
    "vertical_filtered_image = get_filtered_image(vertical_filter)\n",
    "horizontal_filtered_image = get_filtered_image(horizontal_filter)\n",
    "\n",
    "plt.subplot(1, 2, 1)\n",
    "plt.title('vertical')\n",
    "plt.imshow(vertical_filtered_image, cmap='Greys')\n",
    "plt.axis('off')\n",
    "\n",
    "plt.subplot(1, 2, 2)\n",
    "plt.title('horizontal')\n",
    "plt.imshow(horizontal_filtered_image, cmap='Greys')\n",
    "plt.axis('off')\n",
    "plt.show()\n"
   ]
  },
  {
   "cell_type": "code",
   "execution_count": 9,
   "metadata": {
    "colab": {
     "base_uri": "https://localhost:8080/",
     "height": 283
    },
    "id": "OwWuRWi1kelY",
    "outputId": "7b2ed29f-a7e1-4b7c-df8e-65cee21a12c2"
   },
   "outputs": [
    {
     "data": {
      "image/png": "[encoded data removed]",
      "text/plain": [
       "<Figure size 432x288 with 1 Axes>"
      ]
     },
     "metadata": {
      "needs_background": "light"
     },
     "output_type": "display_data"
    }
   ],
   "source": [
    "# 이미지 필터를 적용한 최종결과\n",
    "# 신발의 가장자리가 검출됨\n",
    "\n",
    "sobel_image = np.sqrt(np.square(horizontal_filtered_image) + np.square(vertical_filtered_image))\n",
    "\n",
    "plt.imshow(sobel_image, cmap='Greys')\n",
    "plt.axis('off')\n",
    "plt.show()\n",
    "#print(f'original image shape: ({x_train}, {y_train})')"
   ]
  },
  {
   "cell_type": "code",
   "execution_count": 10,
   "metadata": {
    "colab": {
     "base_uri": "https://localhost:8080/",
     "height": 319
    },
    "id": "kFyHJfEmkelY",
    "outputId": "95354f48-bac4-4601-bee0-48320522ad9c"
   },
   "outputs": [
    {
     "name": "stdout",
     "output_type": "stream",
     "text": [
      "original image shape: (28, 28)\n",
      "pooled image shape: (14, 14)\n"
     ]
    },
    {
     "data": {
      "image/png": "[encoded data removed]",
      "text/plain": [
       "<Figure size 432x288 with 1 Axes>"
      ]
     },
     "metadata": {
      "needs_background": "light"
     },
     "output_type": "display_data"
    }
   ],
   "source": [
    "# for-loop를 사용하여 풀링 연산 구현하기\n",
    "import numpy as np\n",
    "\n",
    "image = x_train[0]\n",
    "image_x = image.shape[0]\n",
    "image_y = image.shape[1]\n",
    "new_image_x = int(image_x / 2)\n",
    "new_image_y = int(image_y / 2)\n",
    "\n",
    "pooled_image = np.zeros((new_image_x, new_image_y))\n",
    "\n",
    "print(f'original image shape: ({image_x}, {image_y})')\n",
    "print(f'pooled image shape: ({new_image_x}, {new_image_y})')\n",
    "\n",
    "for x in range(0, image_x, 2):\n",
    "    for y in range(0, image_y, 2):\n",
    "        pooled_image[int(x/2), int(y/2)] = np.max(image[x:x + 2, y:y + 2])\n",
    "        \n",
    "plt.axis('off')\n",
    "plt.imshow(pooled_image, cmap='Greys')\n",
    "plt.show()"
   ]
  },
  {
   "cell_type": "code",
   "execution_count": null,
   "metadata": {},
   "outputs": [],
   "source": []
  }
 ],
 "metadata": {
  "colab": {
   "name": "3.image_filter.ipynb",
   "provenance": []
  },
  "kernelspec": {
   "display_name": "Python 3",
   "language": "python",
   "name": "python3"
  },
  "language_info": {
   "codemirror_mode": {
    "name": "ipython",
    "version": 3
   },
   "file_extension": ".py",
   "mimetype": "text/x-python",
   "name": "python",
   "nbconvert_exporter": "python",
   "pygments_lexer": "ipython3",
   "version": "3.8.5"
  }
 },
 "nbformat": 4,
 "nbformat_minor": 1
}
