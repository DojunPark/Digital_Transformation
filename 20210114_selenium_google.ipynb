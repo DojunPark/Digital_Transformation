{
 "cells": [
  {
   "cell_type": "markdown",
   "metadata": {},
   "source": [
    "# reviews"
   ]
  },
  {
   "cell_type": "code",
   "execution_count": 1,
   "metadata": {},
   "outputs": [
    {
     "data": {
      "text/plain": [
       "12"
      ]
     },
     "execution_count": 1,
     "metadata": {},
     "output_type": "execute_result"
    }
   ],
   "source": [
    "ls_info = ['박도준', 31, '남', '서울', '이도윤', 29, '남', '수원', '배수지', 32, '여', '서울']\n",
    "len(ls_info)"
   ]
  },
  {
   "cell_type": "code",
   "execution_count": 3,
   "metadata": {},
   "outputs": [
    {
     "data": {
      "text/plain": [
       "array([['박도준', '31', '남', '서울'],\n",
       "       ['이도윤', '29', '남', '수원'],\n",
       "       ['배수지', '32', '여', '서울']], dtype='<U3')"
      ]
     },
     "execution_count": 3,
     "metadata": {},
     "output_type": "execute_result"
    }
   ],
   "source": [
    "import numpy as np\n",
    "\n",
    "arr_info = np.array(ls_info).reshape(3, 4)\n",
    "arr_info"
   ]
  },
  {
   "cell_type": "code",
   "execution_count": 4,
   "metadata": {},
   "outputs": [
    {
     "data": {
      "text/html": [
       "<div>\n",
       "<style scoped>\n",
       "    .dataframe tbody tr th:only-of-type {\n",
       "        vertical-align: middle;\n",
       "    }\n",
       "\n",
       "    .dataframe tbody tr th {\n",
       "        vertical-align: top;\n",
       "    }\n",
       "\n",
       "    .dataframe thead th {\n",
       "        text-align: right;\n",
       "    }\n",
       "</style>\n",
       "<table border=\"1\" class=\"dataframe\">\n",
       "  <thead>\n",
       "    <tr style=\"text-align: right;\">\n",
       "      <th></th>\n",
       "      <th>이름</th>\n",
       "      <th>나이</th>\n",
       "      <th>성별</th>\n",
       "      <th>지역</th>\n",
       "    </tr>\n",
       "  </thead>\n",
       "  <tbody>\n",
       "    <tr>\n",
       "      <th>0</th>\n",
       "      <td>박도준</td>\n",
       "      <td>31</td>\n",
       "      <td>남</td>\n",
       "      <td>서울</td>\n",
       "    </tr>\n",
       "    <tr>\n",
       "      <th>1</th>\n",
       "      <td>이도윤</td>\n",
       "      <td>29</td>\n",
       "      <td>남</td>\n",
       "      <td>수원</td>\n",
       "    </tr>\n",
       "    <tr>\n",
       "      <th>2</th>\n",
       "      <td>배수지</td>\n",
       "      <td>32</td>\n",
       "      <td>여</td>\n",
       "      <td>서울</td>\n",
       "    </tr>\n",
       "  </tbody>\n",
       "</table>\n",
       "</div>"
      ],
      "text/plain": [
       "    이름  나이 성별  지역\n",
       "0  박도준  31  남  서울\n",
       "1  이도윤  29  남  수원\n",
       "2  배수지  32  여  서울"
      ]
     },
     "execution_count": 4,
     "metadata": {},
     "output_type": "execute_result"
    }
   ],
   "source": [
    "import pandas as pd\n",
    "\n",
    "df_info = pd.DataFrame(arr_info, columns=['이름', '나이', '성별', '지역'])\n",
    "df_info"
   ]
  },
  {
   "cell_type": "markdown",
   "metadata": {},
   "source": [
    "# 네이버 블로그 크롤링\n",
    "- beautiful soup로는 가져올 수 없음\n",
    "- selenium을 사용해야함"
   ]
  },
  {
   "cell_type": "code",
   "execution_count": 46,
   "metadata": {},
   "outputs": [],
   "source": [
    "import requests\n",
    "from bs4 import BeautifulSoup as bs\n",
    "import pandas as pd\n",
    "\n",
    "url = 'https://section.blog.naver.com/Search/Post.nhn?pageNo=1&rangeType=ALL&orderBy=sim&keyword=%EA%B5%AD%EB%82%B4%EC%97%AC%ED%96%89'\n",
    "html = requests.get(url)\n",
    "soup = bs(html.content, 'html.parser')"
   ]
  },
  {
   "cell_type": "code",
   "execution_count": 47,
   "metadata": {},
   "outputs": [],
   "source": [
    "import requests\n",
    "from selenium import webdriver\n",
    "from selenium.webdriver.common.keys import Keys\n",
    "from bs4 import BeautifulSoup as bs\n",
    "import pandas as pd\n",
    "\n",
    "url = 'https://section.blog.naver.com/Search/Post.nhn?pageNo=1&rangeType=ALL&orderBy=sim&keyword=%EA%B5%AD%EB%82%B4%EC%97%AC%ED%96%89'\n",
    "driver = webdriver.Chrome('c:\\edu\\py_data\\crawling\\chromedriver.exe')\n",
    "\n",
    "driver.get(url)\n",
    "driver.implicitly_wait(5)\n",
    "html = driver.page_source\n",
    "soup = bs(html, 'html.parser')\n",
    "\n",
    "driver.close()"
   ]
  },
  {
   "cell_type": "code",
   "execution_count": 48,
   "metadata": {},
   "outputs": [
    {
     "data": {
      "text/plain": [
       "['우리나라가볼만한곳',\n",
       " '소래포구',\n",
       " '경주당일치기',\n",
       " '청도별빛축제',\n",
       " '선유도먹거리',\n",
       " '만원의행복여행',\n",
       " '국내겨울가족여행지추천',\n",
       " '휴가비지원',\n",
       " '강원도강릉가볼만한곳',\n",
       " '바다추천',\n",
       " '주말아이들과가볼만한곳',\n",
       " '9월편의점행사',\n",
       " '군산추천',\n",
       " '군산비응항',\n",
       " '여자혼자당일치기',\n",
       " '이집트낙타사망',\n",
       " '설연휴제주도',\n",
       " '10월국내여행',\n",
       " '선유도공원',\n",
       " '장자도']"
      ]
     },
     "execution_count": 48,
     "metadata": {},
     "output_type": "execute_result"
    }
   ],
   "source": [
    "# 연관 검색어 출력\n",
    "\n",
    "div = soup.find('div', class_='area_keyword')\n",
    "items = div.find_all('a', class_='item')\n",
    "\n",
    "ls_info = []\n",
    "for item in items:\n",
    "    text = item.text\n",
    "    ls_info.append(text)\n",
    "    \n",
    "ls_info"
   ]
  },
  {
   "cell_type": "code",
   "execution_count": 33,
   "metadata": {},
   "outputs": [
    {
     "data": {
      "text/html": [
       "<div>\n",
       "<style scoped>\n",
       "    .dataframe tbody tr th:only-of-type {\n",
       "        vertical-align: middle;\n",
       "    }\n",
       "\n",
       "    .dataframe tbody tr th {\n",
       "        vertical-align: top;\n",
       "    }\n",
       "\n",
       "    .dataframe thead th {\n",
       "        text-align: right;\n",
       "    }\n",
       "</style>\n",
       "<table border=\"1\" class=\"dataframe\">\n",
       "  <thead>\n",
       "    <tr style=\"text-align: right;\">\n",
       "      <th></th>\n",
       "      <th>제목</th>\n",
       "      <th>날짜</th>\n",
       "      <th>텍스트</th>\n",
       "    </tr>\n",
       "  </thead>\n",
       "  <tbody>\n",
       "    <tr>\n",
       "      <th>0</th>\n",
       "      <td>2020년 베스트 국내 여행지</td>\n",
       "      <td>2020. 12. 30.</td>\n",
       "      <td>2020년 국내 여행 결산 ▲ 롯데 리조트 속초 &amp; 청초수 물회 5월에 생일을 맞이...</td>\n",
       "    </tr>\n",
       "    <tr>\n",
       "      <th>1</th>\n",
       "      <td>기사포함렌트카 타고 국내여행 서울근교 드라이브</td>\n",
       "      <td>2020. 12. 21.</td>\n",
       "      <td>기사포함렌트카 타고 국내여행 뚜벅이도 가능했던 서울근교 드라이브 글 사진 영상 : ...</td>\n",
       "    </tr>\n",
       "    <tr>\n",
       "      <th>2</th>\n",
       "      <td>국내 여행 갈만한곳 거제도 매미성, 거제 바람의 언덕 포함</td>\n",
       "      <td>2020. 12. 27.</td>\n",
       "      <td>지난달 국내 여행으로 1박 2일 동안 경상남도 거제에 다녀왔습니다. 첫날은 맛집과 ...</td>\n",
       "    </tr>\n",
       "    <tr>\n",
       "      <th>3</th>\n",
       "      <td>국내여행추천 제천 청풍호반케이블카(모노레일 동계휴장)</td>\n",
       "      <td>2020. 12. 30.</td>\n",
       "      <td>국내여행추천 제천 청풍호반케이블카/레이크스카이웨이 타고 물태리역에서 비봉산역으로.....</td>\n",
       "    </tr>\n",
       "    <tr>\n",
       "      <th>4</th>\n",
       "      <td>12월 국내여행 올망졸망 동그란 눈이 매력적인</td>\n",
       "      <td>2020. 11. 16.</td>\n",
       "      <td>자연이 멋진 강원도 홍천에서 귀여운 알파카들과 12월 국내여행 해볼까요? 12월 알...</td>\n",
       "    </tr>\n",
       "    <tr>\n",
       "      <th>5</th>\n",
       "      <td>국내여행 수원가볼만한곳 (북문 행궁동 화성행궁 수원천)</td>\n",
       "      <td>2021. 1. 11.</td>\n",
       "      <td>국내여행지 추천 &lt;수원 가볼만한 곳&gt; 북문, 행궁동-행리단길, 화성행궁, 수원천, ...</td>\n",
       "    </tr>\n",
       "    <tr>\n",
       "      <th>6</th>\n",
       "      <td>국내여행지 추천 강원도 평창 여행 관광택시로 슝~</td>\n",
       "      <td>2020. 12. 27.</td>\n",
       "      <td>겨울에 찾기 좋은 국내여행지 추천 장소 평창을 다녀왔답니다. 이날도 택시투어를 했는...</td>\n",
       "    </tr>\n",
       "  </tbody>\n",
       "</table>\n",
       "</div>"
      ],
      "text/plain": [
       "                                 제목             날짜  \\\n",
       "0                  2020년 베스트 국내 여행지  2020. 12. 30.   \n",
       "1         기사포함렌트카 타고 국내여행 서울근교 드라이브  2020. 12. 21.   \n",
       "2  국내 여행 갈만한곳 거제도 매미성, 거제 바람의 언덕 포함  2020. 12. 27.   \n",
       "3     국내여행추천 제천 청풍호반케이블카(모노레일 동계휴장)  2020. 12. 30.   \n",
       "4         12월 국내여행 올망졸망 동그란 눈이 매력적인  2020. 11. 16.   \n",
       "5    국내여행 수원가볼만한곳 (북문 행궁동 화성행궁 수원천)   2021. 1. 11.   \n",
       "6       국내여행지 추천 강원도 평창 여행 관광택시로 슝~  2020. 12. 27.   \n",
       "\n",
       "                                                 텍스트  \n",
       "0  2020년 국내 여행 결산 ▲ 롯데 리조트 속초 & 청초수 물회 5월에 생일을 맞이...  \n",
       "1  기사포함렌트카 타고 국내여행 뚜벅이도 가능했던 서울근교 드라이브 글 사진 영상 : ...  \n",
       "2  지난달 국내 여행으로 1박 2일 동안 경상남도 거제에 다녀왔습니다. 첫날은 맛집과 ...  \n",
       "3  국내여행추천 제천 청풍호반케이블카/레이크스카이웨이 타고 물태리역에서 비봉산역으로.....  \n",
       "4  자연이 멋진 강원도 홍천에서 귀여운 알파카들과 12월 국내여행 해볼까요? 12월 알...  \n",
       "5  국내여행지 추천 <수원 가볼만한 곳> 북문, 행궁동-행리단길, 화성행궁, 수원천, ...  \n",
       "6  겨울에 찾기 좋은 국내여행지 추천 장소 평창을 다녀왔답니다. 이날도 택시투어를 했는...  "
      ]
     },
     "execution_count": 33,
     "metadata": {},
     "output_type": "execute_result"
    }
   ],
   "source": [
    "# 검색 포스트 출력\n",
    "div = soup.find_all('div', class_='desc')\n",
    "\n",
    "ls_info = []\n",
    "for d in div:\n",
    "    title = d.find('span', class_='title').text\n",
    "    date = d.find('span', class_='date').text\n",
    "    text = d.find('a', class_='text').text\n",
    "    ls_info.append([title, date, text])\n",
    "\n",
    "df = pd.DataFrame(ls_info, columns=['제목', '날짜', '텍스트'])\n",
    "df"
   ]
  },
  {
   "cell_type": "markdown",
   "metadata": {},
   "source": [
    "# 블로그에서 원하는 정보 검색 후 크롤링\n"
   ]
  },
  {
   "cell_type": "code",
   "execution_count": 1,
   "metadata": {},
   "outputs": [
    {
     "name": "stdout",
     "output_type": "stream",
     "text": [
      "21\n",
      "['https://blog.naver.com/fanclub200/222190322475', 'https://charla1005.blog.me/222181183211', 'https://blog.naver.com/eumjeongoh/222187070792', 'https://blog.naver.com/anndam/222189850694', 'https://blog.naver.com/nalinblue/222145774503', 'https://blog.naver.com/sh910213/222204197602', 'https://blog.naver.com/ultrabat/222186194930', 'https://blog.naver.com/dusdus91/222160889477', 'https://blog.naver.com/happy-luna/222167435708', 'https://kcti0.blog.me/222182626528', 'https://blog.naver.com/108trouble/222180129478', 'https://blog.naver.com/ginalover/222165140359', 'https://blog.naver.com/keemyeizee/222204379425', 'https://blog.naver.com/prkac/222190077351', 'https://blog.naver.com/zhee1014/222172957024', 'https://blog.naver.com/punky85/222185882084', 'https://blog.naver.com/sanaella/222152879390', 'https://ebsstory.blog.me/222124165045', 'https://blog.naver.com/esilvia/222053860219', 'https://blog.naver.com/powerofguy2/222196404825', 'https://blog.naver.com/hp0210/222060918138']\n"
     ]
    }
   ],
   "source": [
    "import requests\n",
    "from selenium import webdriver\n",
    "from selenium.webdriver.common.keys import Keys\n",
    "from bs4 import BeautifulSoup as bs\n",
    "import time\n",
    "\n",
    "keyword = '국내여행'\n",
    "page = 3\n",
    "driver = webdriver.Chrome('c:\\edu\\py_data\\crawling\\chromedriver.exe')\n",
    "\n",
    "ls_url = []\n",
    "for p in range(1, page+1):\n",
    "    url = 'https://section.blog.naver.com/Search/Post.nhn?pageNo='+str(p)+'&rangeType=ALL&orderBy=sim&keyword='+keyword\n",
    "    driver.get(url)\n",
    "    time.sleep(1)\n",
    "\n",
    "    html = driver.page_source\n",
    "    soup = bs(html, 'html.parser')\n",
    "    div = soup.find_all('div', class_='desc')\n",
    "    \n",
    "    for d in div:\n",
    "        href = d.find('a')['href']\n",
    "        ls_url.append(href)\n",
    "        \n",
    "driver.close()\n",
    "\n",
    "print(len(ls_url))\n",
    "print(ls_url)"
   ]
  },
  {
   "cell_type": "markdown",
   "metadata": {},
   "source": [
    "# driver.switch_to.frame 이용하기"
   ]
  },
  {
   "cell_type": "code",
   "execution_count": 22,
   "metadata": {},
   "outputs": [],
   "source": [
    "driver = webdriver.Chrome('c:\\edu\\py_data\\crawling\\chromedriver.exe')\n",
    "\n",
    "ls_info = []\n",
    "for url in ls_url:\n",
    "    driver.get(url)\n",
    "    driver.switch_to.frame('mainFrame')\n",
    "    html = driver.page_source\n",
    "    soup = bs(html, 'html.parser')\n",
    "    \n",
    "    title = soup.find('div', class_='se-module se-module-text se-title-text').text.replace('\\n', '').strip()\n",
    "    ls_info.append(title)\n",
    "    \n",
    "driver.close()"
   ]
  },
  {
   "cell_type": "code",
   "execution_count": 23,
   "metadata": {
    "scrolled": true
   },
   "outputs": [
    {
     "data": {
      "text/plain": [
       "['2020년 베스트 국내 여행지',\n",
       " '기사포함렌트카 타고 국내여행 서울근교 드라이브',\n",
       " '국내 여행 갈만한곳 거제도 매미성, 거제 바람의 언덕 포함',\n",
       " '국내여행추천 제천 청풍호반케이블카(모노레일 동계휴장)',\n",
       " '12월 국내여행 올망졸망 동그란 눈이 매력적인',\n",
       " '국내여행 수원가볼만한곳 (북문 행궁동 화성행궁 수원천)',\n",
       " '국내여행지 추천 강원도 평창 여행 관광택시로 슝~',\n",
       " '12월 국내여행 서해 3대 노을 명소 아일랜드 리솜',\n",
       " '아이와함께 국내여행 마지막날 U 분천 동해 산타열차 강릉 밤바다',\n",
       " '비행기 이용객 수로 알아본 2020년의 국내여행',\n",
       " '공주 공산성 겨울 국내여행',\n",
       " '아이와 국내여행 우도 가볼만한 곳',\n",
       " '핵심정보만 쏙쏙 든 나우맵 국내여행지도',\n",
       " '비행기 이용객 수로 알아본 2020년의 국내여행',\n",
       " '[국내여행_영월여행]가마솥밥 만들기! & 바베큐 먹자먹자',\n",
       " '국내여행:: 보보경심려 촬영지, 수원 효원공원 월화원♥',\n",
       " '국내여행 추천 만들고 체험하는 투어',\n",
       " '[국내 여행] 나의 퀘렌시아를 소개합니다',\n",
       " '국내여행지 홍천 갈만한곳',\n",
       " '국내선 기내 반입 금지 품목, 액체 보조배터리 등 & 국내여행 준비물',\n",
       " '다채로웠던 국내여행지 가을 여행도 부탁해']"
      ]
     },
     "execution_count": 23,
     "metadata": {},
     "output_type": "execute_result"
    }
   ],
   "source": [
    "ls_info"
   ]
  },
  {
   "cell_type": "markdown",
   "metadata": {},
   "source": [
    "# "
   ]
  },
  {
   "cell_type": "code",
   "execution_count": 21,
   "metadata": {},
   "outputs": [
    {
     "data": {
      "text/plain": [
       "21"
      ]
     },
     "execution_count": 21,
     "metadata": {},
     "output_type": "execute_result"
    }
   ],
   "source": [
    "len(ls_url)"
   ]
  },
  {
   "cell_type": "code",
   "execution_count": 24,
   "metadata": {},
   "outputs": [
    {
     "data": {
      "text/plain": [
       "21"
      ]
     },
     "execution_count": 24,
     "metadata": {},
     "output_type": "execute_result"
    }
   ],
   "source": [
    "len(ls_info)"
   ]
  },
  {
   "cell_type": "markdown",
   "metadata": {},
   "source": [
    "# 네이버 블로그 크롤링2\n",
    "- `driver.page_source`: 현재 페이지의 html을 반환\n",
    "- `driver.current_url`: 현재 페이지의 url을 반환\n",
    "- `driver.switch_to.frame`: iframe을 html로 변환"
   ]
  },
  {
   "cell_type": "code",
   "execution_count": 100,
   "metadata": {},
   "outputs": [],
   "source": [
    "from selenium import webdriver\n",
    "from bs4 import BeautifulSoup as bs\n",
    "import pandas as pd\n",
    "import time\n",
    "import sys\n",
    "\n",
    "query = ''\n",
    "page = ''\n",
    "url = 'https://section.blog.naver.com/BlogHome.nhn?directoryNo=0&currentPage=1&groupId=0'\n",
    "driver = webdriver.Chrome('./py_data/crawling/chromedriver.exe')\n",
    "\n",
    "driver.get(url)\n",
    "search = driver.find_element_by_xpath('//*[@id=\"header\"]/div[1]/div/div[2]/form/fieldset/div/input')\n",
    "search.click()\n",
    "search.send_keys('국내여행')\n",
    "search.send_keys(Keys.ENTER)\n",
    "driver.implicitly_wait(5)\n",
    "time.sleep(5)\n",
    "\n",
    "html = driver.page_source\n",
    "soup = bs(html, 'html.parser')\n",
    "div = soup.find_all('div', class_='desc')\n",
    "\n",
    "links = []\n",
    "for d in div:\n",
    "    href = d.find('a', class_='desc_inner')['href']\n",
    "    links.append(href)\n",
    "\n",
    "contents = []\n",
    "for link in links:\n",
    "    driver.get(link)\n",
    "    driver.implicitly_wait(5)\n",
    "    driver.switch_to.frame('mainFrame')\n",
    "    \n",
    "    html = driver.page_source\n",
    "    soup = bs(html, 'html.parser')\n",
    "    \n",
    "    title = soup.find('div', class_='pcol1').text.replace('\\n', '')\n",
    "    texts = soup.find_all('div', class_='se-module se-module-text')\n",
    "    \n",
    "    text_fin = ''\n",
    "    for t in texts:\n",
    "        txt = t.text\n",
    "        text_fin += txt\n",
    "    text_fin = text_fin.replace('\\u200b', '').replace('\\n', '')\n",
    "    contents.append([title, text_fin])\n",
    "    \n",
    "driver.close()"
   ]
  },
  {
   "cell_type": "code",
   "execution_count": 110,
   "metadata": {},
   "outputs": [
    {
     "data": {
      "text/html": [
       "<div>\n",
       "<style scoped>\n",
       "    .dataframe tbody tr th:only-of-type {\n",
       "        vertical-align: middle;\n",
       "    }\n",
       "\n",
       "    .dataframe tbody tr th {\n",
       "        vertical-align: top;\n",
       "    }\n",
       "\n",
       "    .dataframe thead th {\n",
       "        text-align: right;\n",
       "    }\n",
       "</style>\n",
       "<table border=\"1\" class=\"dataframe\">\n",
       "  <thead>\n",
       "    <tr style=\"text-align: right;\">\n",
       "      <th></th>\n",
       "      <th>제목</th>\n",
       "      <th>내용</th>\n",
       "    </tr>\n",
       "  </thead>\n",
       "  <tbody>\n",
       "    <tr>\n",
       "      <th>0</th>\n",
       "      <td>2020년 베스트 국내 여행지</td>\n",
       "      <td>5월에 생일을 맞이하여 놀러 간 속초...롯데 리조트 속초에서 숙박했고청초수 물회에...</td>\n",
       "    </tr>\n",
       "    <tr>\n",
       "      <th>1</th>\n",
       "      <td>기사포함렌트카 타고 국내여행 서울근교 드라이브</td>\n",
       "      <td>기사포함렌트카타고 국내여행뚜벅이도 가능했던서울근교 드라이브글 사진 영상 : 샬라얼마...</td>\n",
       "    </tr>\n",
       "    <tr>\n",
       "      <th>2</th>\n",
       "      <td>국내 여행 갈만한곳 거제도 매미성, 거제 바람의 언덕 포함</td>\n",
       "      <td>지난달 국내 여행으로 1박 2일 동안 경상남도 거제에 다녀왔습니다. 첫날은 맛집과 ...</td>\n",
       "    </tr>\n",
       "    <tr>\n",
       "      <th>3</th>\n",
       "      <td>국내여행추천 제천 청풍호반케이블카(모노레일 동계휴장)</td>\n",
       "      <td>국내여행추천 제천 청풍호반케이블카/레이크스카이웨이 타고 물태리역에서 비봉산역으로.....</td>\n",
       "    </tr>\n",
       "    <tr>\n",
       "      <th>4</th>\n",
       "      <td>12월 국내여행 올망졸망 동그란 눈이 매력적인</td>\n",
       "      <td>가끔은 느린 여행을...자연이 멋진 강원도 홍천에서 귀여운알파카들과 12월 국내여행...</td>\n",
       "    </tr>\n",
       "    <tr>\n",
       "      <th>5</th>\n",
       "      <td>국내여행 수원가볼만한곳 (북문 행궁동 화성행궁 수원천)</td>\n",
       "      <td>지난번 포스팅에 이어 이 글 또한 국내여행을 권장하는 글이 아님을 알려 드립니다. ...</td>\n",
       "    </tr>\n",
       "    <tr>\n",
       "      <th>6</th>\n",
       "      <td>국내여행지 추천 강원도 평창 여행 관광택시로 슝~</td>\n",
       "      <td>겨울에 찾기 좋은 국내여행지 추천 장소평창을 다녀왔답니다.이날도 택시투어를 했는데 ...</td>\n",
       "    </tr>\n",
       "  </tbody>\n",
       "</table>\n",
       "</div>"
      ],
      "text/plain": [
       "                                  제목  \\\n",
       "0                  2020년 베스트 국내 여행지    \n",
       "1         기사포함렌트카 타고 국내여행 서울근교 드라이브    \n",
       "2  국내 여행 갈만한곳 거제도 매미성, 거제 바람의 언덕 포함    \n",
       "3     국내여행추천 제천 청풍호반케이블카(모노레일 동계휴장)    \n",
       "4         12월 국내여행 올망졸망 동그란 눈이 매력적인    \n",
       "5    국내여행 수원가볼만한곳 (북문 행궁동 화성행궁 수원천)    \n",
       "6       국내여행지 추천 강원도 평창 여행 관광택시로 슝~    \n",
       "\n",
       "                                                  내용  \n",
       "0  5월에 생일을 맞이하여 놀러 간 속초...롯데 리조트 속초에서 숙박했고청초수 물회에...  \n",
       "1  기사포함렌트카타고 국내여행뚜벅이도 가능했던서울근교 드라이브글 사진 영상 : 샬라얼마...  \n",
       "2  지난달 국내 여행으로 1박 2일 동안 경상남도 거제에 다녀왔습니다. 첫날은 맛집과 ...  \n",
       "3  국내여행추천 제천 청풍호반케이블카/레이크스카이웨이 타고 물태리역에서 비봉산역으로.....  \n",
       "4  가끔은 느린 여행을...자연이 멋진 강원도 홍천에서 귀여운알파카들과 12월 국내여행...  \n",
       "5  지난번 포스팅에 이어 이 글 또한 국내여행을 권장하는 글이 아님을 알려 드립니다. ...  \n",
       "6  겨울에 찾기 좋은 국내여행지 추천 장소평창을 다녀왔답니다.이날도 택시투어를 했는데 ...  "
      ]
     },
     "execution_count": 110,
     "metadata": {},
     "output_type": "execute_result"
    }
   ],
   "source": [
    "df = pd.DataFrame(contents, columns=['제목', '내용'])\n",
    "df.to_csv('./py_data/crawling/blog_crawling.csv', encoding='euc-kr')\n",
    "df"
   ]
  },
  {
   "cell_type": "code",
   "execution_count": null,
   "metadata": {},
   "outputs": [],
   "source": [
    "df.to_excel('./py_data/crawling/blog_crawling.xlsx', encoding='euc-kr')"
   ]
  },
  {
   "cell_type": "markdown",
   "metadata": {},
   "source": [
    "# 페이지 반복하여 파일 저장하기"
   ]
  },
  {
   "cell_type": "code",
   "execution_count": 136,
   "metadata": {},
   "outputs": [
    {
     "data": {
      "text/html": [
       "<div>\n",
       "<style scoped>\n",
       "    .dataframe tbody tr th:only-of-type {\n",
       "        vertical-align: middle;\n",
       "    }\n",
       "\n",
       "    .dataframe tbody tr th {\n",
       "        vertical-align: top;\n",
       "    }\n",
       "\n",
       "    .dataframe thead th {\n",
       "        text-align: right;\n",
       "    }\n",
       "</style>\n",
       "<table border=\"1\" class=\"dataframe\">\n",
       "  <thead>\n",
       "    <tr style=\"text-align: right;\">\n",
       "      <th></th>\n",
       "      <th>제목</th>\n",
       "      <th>내용</th>\n",
       "    </tr>\n",
       "  </thead>\n",
       "  <tbody>\n",
       "    <tr>\n",
       "      <th>0</th>\n",
       "      <td>해외여행 가능국가 궁금해서 알아봤어요</td>\n",
       "      <td>안뇽하세여. 한살 더 먹은 도란도란 입니다연말과 연시가 이렇게 물 흐르듯 의미없이 ...</td>\n",
       "    </tr>\n",
       "    <tr>\n",
       "      <th>1</th>\n",
       "      <td>2020년 처음이자 마지막 해외여행의 추억, 대마도</td>\n",
       "      <td>코로나가 유행하기 전,2020년의 새해가 시작된 지 얼마 되지 않았던 2020년 1...</td>\n",
       "    </tr>\n",
       "    <tr>\n",
       "      <th>2</th>\n",
       "      <td>[방구석 해외여행] 홍콩&amp;마카오 1탄, 페리타고 마카오! 야경 즐기기</td>\n",
       "      <td>안녕하세요. 워니입니다. 제가 새로운 카테고리를 가지고 왔어요. 바로바로 방구석 해...</td>\n",
       "    </tr>\n",
       "    <tr>\n",
       "      <th>3</th>\n",
       "      <td>스페인 여행 4탄) 노플랜 해외여행 좋아하는 편(feat. 세비야 마지막 밤)</td>\n",
       "      <td>이 날은 아침에 뭘 먹지 고민하며 거리를 거닐다가 들어간 맥도날드 첫날에 갔던 곳과...</td>\n",
       "    </tr>\n",
       "    <tr>\n",
       "      <th>4</th>\n",
       "      <td>해외여행 시기 언제쯤 일까?</td>\n",
       "      <td>굶어 죽느냐 마느냐 하는 싯점에해외여행 언제쯤 갈수 있을까? 하는 생각을 하는것이 ...</td>\n",
       "    </tr>\n",
       "    <tr>\n",
       "      <th>5</th>\n",
       "      <td>해외여행 방구석 랜선여행 러시아 블라디보스톡 1탄</td>\n",
       "      <td>어제 2020년 첫눈을 보았어요~!그리고 어제자로 코로나1000명 돌파..ㅠㅠ3단계...</td>\n",
       "    </tr>\n",
       "    <tr>\n",
       "      <th>6</th>\n",
       "      <td>남해 독일마을 다시 가도 국내에서 해외여행 느낌으로</td>\n",
       "      <td>가볼만한곳이 많은 남해지만 어쩐지 남해하면 독일마을부터 떠오르는 것은 공주아빠만의 ...</td>\n",
       "    </tr>\n",
       "    <tr>\n",
       "      <th>7</th>\n",
       "      <td>백신 여권 있어야 앞으로 해외여행 가능해질 전망</td>\n",
       "      <td>백신 여권 있어야 앞으로 해외여행 가능해질 전망EU도 그렇고 유럽과 전세계 몇몇 국...</td>\n",
       "    </tr>\n",
       "    <tr>\n",
       "      <th>8</th>\n",
       "      <td>야나두 여행영어 _해외여행 꼭 필요한 표현(feat. 괌 휴양지, 쇼핑)</td>\n",
       "      <td>안녕하세요!야나두 블로그 지기입니다J지나갈 듯 지나가지 않던 일주일이벌써 지나가고 ...</td>\n",
       "    </tr>\n",
       "    <tr>\n",
       "      <th>9</th>\n",
       "      <td>해외여행기록:)</td>\n",
       "      <td>18살, 첫 해외여행(홈스테이 2주) ✈️1. 후쿠오카- 자매결연 맺은 일본 학교에...</td>\n",
       "    </tr>\n",
       "    <tr>\n",
       "      <th>10</th>\n",
       "      <td>해외여행 하기 좋은 계절</td>\n",
       "      <td>벌써 한해의 마지막 달!!어떻게 숨만 죽이다 한해가다 지나가 버린것같아 많이 우울하...</td>\n",
       "    </tr>\n",
       "    <tr>\n",
       "      <th>11</th>\n",
       "      <td>미리 예상해보는 포스트 코로나 해외여행 트렌드 알아보기!</td>\n",
       "      <td>최근 코로나 관련 뉴스를 보게 되면  코로나19 백신이 개발되고 보급이 된다고 하더...</td>\n",
       "    </tr>\n",
       "    <tr>\n",
       "      <th>12</th>\n",
       "      <td>2020년 처음이자 마지막 해외 여행지, 러시아 블라디보스토크</td>\n",
       "      <td>1월 17일부터 19일까지 2박 3일 동안상하이 여행 멤버들과 다녀온 나의 2020...</td>\n",
       "    </tr>\n",
       "    <tr>\n",
       "      <th>13</th>\n",
       "      <td>인천에서 즐기는 랜선 해외여행_1탄</td>\n",
       "      <td>코로나 확산에 따른 집합금지명령으로 인해안전하게 랜선구경하세요.✋!! 잠깐 !!✋가...</td>\n",
       "    </tr>\n",
       "    <tr>\n",
       "      <th>14</th>\n",
       "      <td>[의대 교수의 정년후 일상] (9) 내 맘대로 해외여행 &lt;1&gt; 아시아나 승급여행</td>\n",
       "      <td>서울대학교 교수는 해외학회나 사적 외국여행을 나갈 수 있는 일수가 정해져 있다. 공...</td>\n",
       "    </tr>\n",
       "    <tr>\n",
       "      <th>15</th>\n",
       "      <td>해외여행 추억소환 파리 디즈니랜드 미친 일루미네이션 with 핑크모녀</td>\n",
       "      <td>해외여행 고파요 여러분...매일매일 고파요.....그래서 오늘도 추억을 더듬으며프랑...</td>\n",
       "    </tr>\n",
       "    <tr>\n",
       "      <th>16</th>\n",
       "      <td>내년에는 해외여행이 가능할까? 트래블버블(Travel Bubble)</td>\n",
       "      <td>안녕하세요!고잉입니다~:)어느덧 10월의 마지막 밤이 지나고, 11월이 다가왔네요!...</td>\n",
       "    </tr>\n",
       "    <tr>\n",
       "      <th>17</th>\n",
       "      <td>[공지] 2022년 해외여행 가능 방법 (feat. 코로나19)</td>\n",
       "      <td>2020년 코로나19로 인해 해외여행은 완전히 눈을 감췄습니다. 물론 여러 이유로 ...</td>\n",
       "    </tr>\n",
       "    <tr>\n",
       "      <th>18</th>\n",
       "      <td>다시 가고 싶은 해외여행지 베트남 다낭, 방구석 여행하기</td>\n",
       "      <td>안녕하세요! 오랜만에 해외여행지 소개 글을 가져왔어요. 제가 원래는 해외여행 블로거...</td>\n",
       "    </tr>\n",
       "    <tr>\n",
       "      <th>19</th>\n",
       "      <td>타카오1972 대만훠궈 해외여행 언제쯤</td>\n",
       "      <td>여행 가고 싶다.해외여행 언제쯤 다시 갈 수 있을 까...못가니까 더 가고 싶나보다...</td>\n",
       "    </tr>\n",
       "    <tr>\n",
       "      <th>20</th>\n",
       "      <td>해외여행 추천 동남아 여행 끄라비 코로나 를 피해서 추억팔이 ♥</td>\n",
       "      <td>해외여행 추천 동남아 여행 끄라비코로나 를 피해서 추억팔이 ♥안녕하세요일산미용실 브...</td>\n",
       "    </tr>\n",
       "  </tbody>\n",
       "</table>\n",
       "</div>"
      ],
      "text/plain": [
       "                                               제목  \\\n",
       "0                           해외여행 가능국가 궁금해서 알아봤어요    \n",
       "1                   2020년 처음이자 마지막 해외여행의 추억, 대마도    \n",
       "2         [방구석 해외여행] 홍콩&마카오 1탄, 페리타고 마카오! 야경 즐기기    \n",
       "3    스페인 여행 4탄) 노플랜 해외여행 좋아하는 편(feat. 세비야 마지막 밤)    \n",
       "4                                해외여행 시기 언제쯤 일까?    \n",
       "5                    해외여행 방구석 랜선여행 러시아 블라디보스톡 1탄    \n",
       "6                   남해 독일마을 다시 가도 국내에서 해외여행 느낌으로    \n",
       "7                     백신 여권 있어야 앞으로 해외여행 가능해질 전망    \n",
       "8       야나두 여행영어 _해외여행 꼭 필요한 표현(feat. 괌 휴양지, 쇼핑)    \n",
       "9                                       해외여행기록:)    \n",
       "10                                 해외여행 하기 좋은 계절    \n",
       "11               미리 예상해보는 포스트 코로나 해외여행 트렌드 알아보기!    \n",
       "12            2020년 처음이자 마지막 해외 여행지, 러시아 블라디보스토크    \n",
       "13                           인천에서 즐기는 랜선 해외여행_1탄    \n",
       "14  [의대 교수의 정년후 일상] (9) 내 맘대로 해외여행 <1> 아시아나 승급여행    \n",
       "15         해외여행 추억소환 파리 디즈니랜드 미친 일루미네이션 with 핑크모녀   \n",
       "16         내년에는 해외여행이 가능할까? 트래블버블(Travel Bubble)    \n",
       "17           [공지] 2022년 해외여행 가능 방법 (feat. 코로나19)    \n",
       "18               다시 가고 싶은 해외여행지 베트남 다낭, 방구석 여행하기    \n",
       "19                         타카오1972 대만훠궈 해외여행 언제쯤    \n",
       "20            해외여행 추천 동남아 여행 끄라비 코로나 를 피해서 추억팔이 ♥   \n",
       "\n",
       "                                                   내용  \n",
       "0   안뇽하세여. 한살 더 먹은 도란도란 입니다연말과 연시가 이렇게 물 흐르듯 의미없이 ...  \n",
       "1   코로나가 유행하기 전,2020년의 새해가 시작된 지 얼마 되지 않았던 2020년 1...  \n",
       "2   안녕하세요. 워니입니다. 제가 새로운 카테고리를 가지고 왔어요. 바로바로 방구석 해...  \n",
       "3   이 날은 아침에 뭘 먹지 고민하며 거리를 거닐다가 들어간 맥도날드 첫날에 갔던 곳과...  \n",
       "4   굶어 죽느냐 마느냐 하는 싯점에해외여행 언제쯤 갈수 있을까? 하는 생각을 하는것이 ...  \n",
       "5   어제 2020년 첫눈을 보았어요~!그리고 어제자로 코로나1000명 돌파..ㅠㅠ3단계...  \n",
       "6   가볼만한곳이 많은 남해지만 어쩐지 남해하면 독일마을부터 떠오르는 것은 공주아빠만의 ...  \n",
       "7   백신 여권 있어야 앞으로 해외여행 가능해질 전망EU도 그렇고 유럽과 전세계 몇몇 국...  \n",
       "8   안녕하세요!야나두 블로그 지기입니다J지나갈 듯 지나가지 않던 일주일이벌써 지나가고 ...  \n",
       "9   18살, 첫 해외여행(홈스테이 2주) ✈️1. 후쿠오카- 자매결연 맺은 일본 학교에...  \n",
       "10  벌써 한해의 마지막 달!!어떻게 숨만 죽이다 한해가다 지나가 버린것같아 많이 우울하...  \n",
       "11  최근 코로나 관련 뉴스를 보게 되면  코로나19 백신이 개발되고 보급이 된다고 하더...  \n",
       "12  1월 17일부터 19일까지 2박 3일 동안상하이 여행 멤버들과 다녀온 나의 2020...  \n",
       "13  코로나 확산에 따른 집합금지명령으로 인해안전하게 랜선구경하세요.✋!! 잠깐 !!✋가...  \n",
       "14  서울대학교 교수는 해외학회나 사적 외국여행을 나갈 수 있는 일수가 정해져 있다. 공...  \n",
       "15  해외여행 고파요 여러분...매일매일 고파요.....그래서 오늘도 추억을 더듬으며프랑...  \n",
       "16  안녕하세요!고잉입니다~:)어느덧 10월의 마지막 밤이 지나고, 11월이 다가왔네요!...  \n",
       "17  2020년 코로나19로 인해 해외여행은 완전히 눈을 감췄습니다. 물론 여러 이유로 ...  \n",
       "18  안녕하세요! 오랜만에 해외여행지 소개 글을 가져왔어요. 제가 원래는 해외여행 블로거...  \n",
       "19  여행 가고 싶다.해외여행 언제쯤 다시 갈 수 있을 까...못가니까 더 가고 싶나보다...  \n",
       "20  해외여행 추천 동남아 여행 끄라비코로나 를 피해서 추억팔이 ♥안녕하세요일산미용실 브...  "
      ]
     },
     "execution_count": 136,
     "metadata": {},
     "output_type": "execute_result"
    }
   ],
   "source": [
    "from selenium import webdriver\n",
    "from bs4 import BeautifulSoup as bs\n",
    "import pandas as pd\n",
    "import time\n",
    "import sys\n",
    "\n",
    "query = '해외여행'\n",
    "page = 3\n",
    "driver = webdriver.Chrome('./py_data/crawling/chromedriver.exe')\n",
    "\n",
    "links = []\n",
    "for p in range(1, page+1):\n",
    "    url = 'https://section.blog.naver.com/Search/Post.nhn?pageNo='+str(p)+'&rangeType=ALL&orderBy=sim&keyword='+query\n",
    "    driver.get(url)\n",
    "    driver.implicitly_wait(5)\n",
    "    time.sleep(1)\n",
    "\n",
    "    html = driver.page_source\n",
    "    soup = bs(html, 'html.parser')\n",
    "    div = soup.find_all('div', class_='desc')\n",
    "\n",
    "    for d in div:\n",
    "        href = d.find('a', class_='desc_inner')['href']\n",
    "        links.append(href)\n",
    "\n",
    "contents = []\n",
    "for link in links:\n",
    "    driver.get(link)\n",
    "    driver.switch_to.frame('mainFrame')\n",
    "    html = driver.page_source\n",
    "    soup = bs(html, 'html.parser')\n",
    "    \n",
    "    try:\n",
    "        title = soup.find('div', class_='pcol1').text.replace('\\n', '')\n",
    "    except:\n",
    "        title = soup.find('span', class_='pcol1 itemSubjectBoldfont').text.replace('\\n', '')\n",
    "        \n",
    "    texts = soup.find_all('div', class_='se-module se-module-text')\n",
    "    \n",
    "    if len(texts) != 0:\n",
    "        text_fin = ''\n",
    "        for t in texts:\n",
    "            txt = t.text.strip()\n",
    "            text_fin += txt\n",
    "        text_fin = text_fin.replace('\\u200b', '').replace('\\n', '')\n",
    "    else:\n",
    "        texts = soup.find_all('div', {'align':'left'})\n",
    "        if len(texts) != 0:\n",
    "            text_fin = ''\n",
    "            for t in texts:\n",
    "                txt = t.text.strip()\n",
    "                text_fin += txt\n",
    "            text_fin = text_fin.replace('\\u200b', '').replace('\\n', '')\n",
    "        else:\n",
    "            texts = soup.find_all('p', {'align':'center'})\n",
    "            text_fin = ''\n",
    "            for t in texts:\n",
    "                txt = t.text.strip()\n",
    "                text_fin += txt\n",
    "            text_fin = text_fin.replace('\\u200b', '').replace('\\n', '')\n",
    "    \n",
    "    contents.append([title, text_fin])\n",
    "    \n",
    "driver.close()\n",
    "\n",
    "df = pd.DataFrame(contents, columns=['제목', '내용'])\n",
    "df.to_excel('./py_data/crawling/blog_'+query+'.xlsx', encoding='euc-kr')\n",
    "df"
   ]
  },
  {
   "cell_type": "markdown",
   "metadata": {},
   "source": [
    "# 실습\n",
    "- `pip install tqdm`"
   ]
  },
  {
   "cell_type": "code",
   "execution_count": 190,
   "metadata": {},
   "outputs": [],
   "source": [
    "from tqdm import tqdm\n",
    "from bs4 import BeautifulSoup as bs\n",
    "from selenium import webdriver\n",
    "from selenium.webdriver.common.keys import Keys\n",
    "import urllib\n",
    "import time\n",
    "import shutil\n",
    "import os"
   ]
  },
  {
   "cell_type": "code",
   "execution_count": 194,
   "metadata": {},
   "outputs": [
    {
     "name": "stdout",
     "output_type": "stream",
     "text": [
      "검색어를 입력하세요: 강아지\n",
      "더보기 클릭 횟수를 입력하세요(최대 8): 5\n"
     ]
    }
   ],
   "source": [
    "keyword = input('검색어를 입력하세요: ')\n",
    "page = int(input('더보기 클릭 횟수를 입력하세요(최대 8): '))"
   ]
  },
  {
   "cell_type": "code",
   "execution_count": 198,
   "metadata": {},
   "outputs": [
    {
     "name": "stdout",
     "output_type": "stream",
     "text": [
      "동일한 이름의 폴더가 존재합니다, 삭제하시겠습니까? [y/n]: y\n"
     ]
    },
    {
     "name": "stderr",
     "output_type": "stream",
     "text": [
      "images saving...: 100%|██████████████████████████████████████████████████████████████| 400/400 [01:22<00:00,  4.84it/s]\n"
     ]
    }
   ],
   "source": [
    "# 브라우저 열기\n",
    "url = 'https://www.google.com/search?q='+keyword+'&sxsrf=ALeKk02Lu3eOXbbUqUlS_jilJg5hZvbZUQ:1610612649568&source=lnms&tbm=isch&sa=X&ved=2ahUKEwj6ieTW_5ruAhUQZt4KHQtFBAQQ_AUoAXoECBMQAw&biw=1536&bih=754'\n",
    "\n",
    "driver = webdriver.Chrome('c:\\edu\\py_data\\crawling\\chromedriver.exe')\n",
    "driver.get(url)\n",
    "driver.implicitly_wait(3)\n",
    "\n",
    "# 이미지 링크 추출\n",
    "for _ in range(page):\n",
    "    driver.execute_script(\"window.scrollTo(0, document.body.scrollHeight);\")\n",
    "    driver.implicitly_wait(3)\n",
    "    time.sleep(1)\n",
    "\n",
    "html = driver.page_source\n",
    "soup = bs(html, 'html.parser')\n",
    "\n",
    "div = soup.find_all('div', class_='bRMDJf islir')\n",
    "\n",
    "ls_img = []\n",
    "for d in div:\n",
    "    img = d.find('img', class_='rg_i Q4LuWd')\n",
    "    try:\n",
    "        img_url = img['src']\n",
    "    except KeyError:\n",
    "        img_url = img['data-src']\n",
    "    ls_img.append(img_url)\n",
    "    \n",
    "\n",
    "# 폴더 생성\n",
    "path = './py_data/crawling/image/'\n",
    "dir_name = keyword\n",
    "\n",
    "while True:\n",
    "    ls_dir = os.listdir(path)\n",
    "    if dir_name in ls_dir:\n",
    "        answer = input(\"동일한 이름의 폴더가 존재합니다, 삭제하시겠습니까? [y/n]: \" )\n",
    "        if answer == 'y':\n",
    "            shutil.rmtree(fdir+dir_name)\n",
    "        elif answer == 'n':\n",
    "            dir_name = input(\"새로운 폴더명을 입력하세요: \")\n",
    "        else:\n",
    "            continue\n",
    "    if dir_name not in ls_dir:\n",
    "        break\n",
    "        \n",
    "os.makedirs(path + dir_name)\n",
    "\n",
    "# 이미지 저장\n",
    "cnt = 0\n",
    "for url in tqdm(ls_img, desc='images saving...'):\n",
    "    cnt += 1\n",
    "    sfdir = path + dir_name + '/' + keyword + str(cnt) +'.jpg'\n",
    "    urllib.request.urlretrieve(url, sfdir)\n",
    "    \n",
    "driver.close()"
   ]
  }
 ],
 "metadata": {
  "kernelspec": {
   "display_name": "Python 3",
   "language": "python",
   "name": "python3"
  },
  "language_info": {
   "codemirror_mode": {
    "name": "ipython",
    "version": 3
   },
   "file_extension": ".py",
   "mimetype": "text/x-python",
   "name": "python",
   "nbconvert_exporter": "python",
   "pygments_lexer": "ipython3",
   "version": "3.8.5"
  }
 },
 "nbformat": 4,
 "nbformat_minor": 4
}
