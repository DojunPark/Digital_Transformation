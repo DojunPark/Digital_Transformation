{
 "cells": [
  {
   "cell_type": "code",
   "execution_count": 2,
   "metadata": {},
   "outputs": [],
   "source": [
    "class Member:\n",
    "    name=''\n",
    "    \n",
    "    def __init__(self, str1, str2):\n",
    "        self.name=str1\n",
    "        self.gender=str2\n",
    "        \n",
    "    def showMsg(self):\n",
    "        print('안녕하세요. '+ self.name + '님 반갑습니다.')\n",
    "        \n",
    "class sebu_Info(Member):\n",
    "    mail=''\n",
    "    tel=''\n",
    "    \n",
    "    def __init__(self, str1, str2, str3):\n",
    "        self.name=str1\n",
    "        self.tel=str2\n",
    "        self.mail=str3\n",
    "        \n",
    "    def showMsg_prn(self):\n",
    "        print('귀하의 전화번호:'+self.tel)\n",
    "        print('귀하의 메일주소:'+self.mail)    \n",
    "        \n",
    "class Prn:\n",
    "\n",
    "    def func():\n",
    "        print('func 함수를 출력합니다.')"
   ]
  },
  {
   "cell_type": "code",
   "execution_count": null,
   "metadata": {},
   "outputs": [],
   "source": []
  }
 ],
 "metadata": {
  "kernelspec": {
   "display_name": "Python 3",
   "language": "python",
   "name": "python3"
  },
  "language_info": {
   "codemirror_mode": {
    "name": "ipython",
    "version": 3
   },
   "file_extension": ".py",
   "mimetype": "text/x-python",
   "name": "python",
   "nbconvert_exporter": "python",
   "pygments_lexer": "ipython3",
   "version": "3.8.5"
  }
 },
 "nbformat": 4,
 "nbformat_minor": 4
}
