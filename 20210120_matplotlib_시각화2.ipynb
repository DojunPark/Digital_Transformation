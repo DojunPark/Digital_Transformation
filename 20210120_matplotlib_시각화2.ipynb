{
  "nbformat": 4,
  "nbformat_minor": 0,
  "metadata": {
    "colab": {
      "name": "Matplotlib_시각화2.ipynb",
      "private_outputs": true,
      "provenance": []
    },
    "kernelspec": {
      "name": "python3",
      "display_name": "Python 3"
    }
  },
  "cells": [
    {
      "cell_type": "code",
      "metadata": {
        "id": "YhEP-3Tf-GoJ"
      },
      "source": [
        "from google.colab import drive\r\n",
        "drive.mount('/content/drive')"
      ],
      "execution_count": null,
      "outputs": []
    },
    {
      "cell_type": "code",
      "metadata": {
        "id": "zAQQx-nL-V22"
      },
      "source": [
        "cd /content/drive/MyDrive/hk_edu"
      ],
      "execution_count": null,
      "outputs": []
    },
    {
      "cell_type": "code",
      "metadata": {
        "id": "cJV-8Fd6-g0c"
      },
      "source": [
        "!ls"
      ],
      "execution_count": null,
      "outputs": []
    },
    {
      "cell_type": "code",
      "metadata": {
        "id": "Ny94dMHi-iLL"
      },
      "source": [
        "# matplotlib 색상 종류\r\n",
        "# 라이브러리 불러오기\r\n",
        "import matplotlib\r\n",
        "\r\n",
        "# 컬러 정보를 담을 빈 딕셔너리 생성\r\n",
        "colors={}\r\n",
        "\r\n",
        "# 컬러 이름과 헥사코드 확인하여 딕셔서리에 입력\r\n",
        "for name, hex in matplotlib.colors.cnames.items():\r\n",
        "    colors[name] = hex\r\n",
        "\r\n",
        "# 딕셔너리 출력    \r\n",
        "print(colors)"
      ],
      "execution_count": null,
      "outputs": []
    },
    {
      "cell_type": "code",
      "metadata": {
        "id": "YtnWvALX_Axb"
      },
      "source": [
        "# 라이브러리 불러오기\r\n",
        "import pandas as pd\r\n",
        "\r\n",
        "# matplotlib 한글 폰트 오류 문제 해결\r\n",
        "from matplotlib import rc\r\n",
        "rc('font', family='NanumBarunGothic')\r\n"
      ],
      "execution_count": null,
      "outputs": []
    },
    {
      "cell_type": "code",
      "metadata": {
        "id": "5ikpEPzr_gzT"
      },
      "source": [
        "df = pd.read_excel('./data/시도별 전출입 인구수.xls')\r\n",
        "\r\n",
        "# 전출지별에서 누락값(NaN)을 앞 데이터로 채움 (엑셀 양식 병합 부분)\r\n",
        "df = df.fillna(method='ffill')"
      ],
      "execution_count": null,
      "outputs": []
    },
    {
      "cell_type": "code",
      "metadata": {
        "id": "uOV3wG3A_5-7"
      },
      "source": [
        "df.columns"
      ],
      "execution_count": null,
      "outputs": []
    },
    {
      "cell_type": "code",
      "metadata": {
        "id": "L20_uqef_8W7"
      },
      "source": [
        "df.info()"
      ],
      "execution_count": null,
      "outputs": []
    },
    {
      "cell_type": "code",
      "metadata": {
        "id": "QQHjOVJ1AAek"
      },
      "source": [
        "df_seoul = df[(df['전출지별'] == '서울특별시') & (df['전입지별'] != '서울특별시')]\r\n",
        "df_seoul.head()"
      ],
      "execution_count": null,
      "outputs": []
    },
    {
      "cell_type": "code",
      "metadata": {
        "id": "dZ8omgOuASmy"
      },
      "source": [
        "# axis=1일 경우 열 삭제, axis=0일 경우 행 삭제 (0은 기본값)\r\n",
        "df_seoul = df_seoul.drop(['전출지별'], axis=1)\r\n",
        "df_seoul.head()"
      ],
      "execution_count": null,
      "outputs": []
    },
    {
      "cell_type": "code",
      "metadata": {
        "id": "v6lGwH3EAeFq"
      },
      "source": [
        "df_seoul.rename(columns= {df_seoul.columns[0]:'전입지'}, inplace=True)\r\n",
        "df_seoul.columns"
      ],
      "execution_count": null,
      "outputs": []
    },
    {
      "cell_type": "code",
      "metadata": {
        "id": "ER2isc-9AqBq"
      },
      "source": [
        "col_years_lst = list(range(1970, 2018))\r\n",
        "col_years=[]\r\n",
        "for i in col_years_lst:\r\n",
        "    col_years.append(str(i))\r\n",
        "col_years[:10]  "
      ],
      "execution_count": null,
      "outputs": []
    },
    {
      "cell_type": "code",
      "metadata": {
        "id": "Jo0I2OWGBYvP"
      },
      "source": [
        "df_seoul.set_index('전입지', inplace=True)\r\n",
        "df_seoul.head()"
      ],
      "execution_count": null,
      "outputs": []
    },
    {
      "cell_type": "code",
      "metadata": {
        "id": "H6x7gKp0A3tJ"
      },
      "source": [
        "df_4 = df_seoul.loc[['충청남도', '경상북도', '강원도', '전라남도'], col_years]\r\n",
        "df_4"
      ],
      "execution_count": null,
      "outputs": []
    },
    {
      "cell_type": "code",
      "metadata": {
        "id": "I77OQ_XfA_hC"
      },
      "source": [
        "df_4 = df_4.T\r\n",
        "df_4"
      ],
      "execution_count": null,
      "outputs": []
    },
    {
      "cell_type": "code",
      "metadata": {
        "id": "4ej-mRFOCIaa"
      },
      "source": [
        "# 데이터프레임의 인덱스를 정수형으로 변경 (x축 눈금 라벨 표시)\r\n",
        "df_4.index = df_4.index.astype(int)\r\n",
        "df_4.index"
      ],
      "execution_count": null,
      "outputs": []
    },
    {
      "cell_type": "code",
      "metadata": {
        "id": "fRoMDq8lEbuE"
      },
      "source": [
        "# 글꼴 설치\r\n",
        "#!sudo apt-get install -y fonts-nanum\r\n",
        "#!sudo fc-cache -fv\r\n",
        "#!rm ~/.cache/matplotlib -rf"
      ],
      "execution_count": null,
      "outputs": []
    },
    {
      "cell_type": "code",
      "metadata": {
        "id": "OZ1tL2pUCdkZ"
      },
      "source": [
        "import matplotlib.pyplot as plt\r\n",
        "import matplotlib.font_manager as fm\r\n",
        "fontpath = '/usr/share/fonts/truetype/nanum/NanumBarunGothic.ttf'\r\n",
        "font = fm.FontProperties(fname=fontpath, size=9).get_name()\r\n",
        "plt.rc('font', family=font) \r\n",
        "\r\n",
        "# 면적 그래프 그리기\r\n",
        "df_4.plot(kind='area', stacked=False, alpha=0.2, figsize=(20, 10)) \r\n",
        "# stacked : 하나의 index에 대한 각 플롯들(열들)의 성분 비율 확인\r\n",
        "# alpha: 투명도\r\n",
        "\r\n",
        "plt.title('서울 -> 타시도 인구 이동', size=30)\r\n",
        "plt.ylabel('이동 인구 수', size=20)\r\n",
        "plt.xlabel('기간', size=20)\r\n",
        "plt.legend(loc='best', fontsize=15)\r\n",
        "\r\n",
        "plt.show()"
      ],
      "execution_count": null,
      "outputs": []
    },
    {
      "cell_type": "code",
      "metadata": {
        "id": "PMB6BLVlCxGx"
      },
      "source": [
        "import matplotlib.pyplot as plt\r\n",
        "# 면적 그래프 그리기\r\n",
        "df_4.plot(kind='area', stacked=False, alpha=0.5, figsize=(20, 10))\r\n",
        "\r\n",
        "plt.title('서울 -> 타시도 인구 이동', size=30)\r\n",
        "plt.ylabel('이동 인구 수', size=20)\r\n",
        "plt.xlabel('기간', size=20)\r\n",
        "plt.legend(loc='best', fontsize=15)\r\n",
        "\r\n",
        "plt.show()"
      ],
      "execution_count": null,
      "outputs": []
    },
    {
      "cell_type": "code",
      "metadata": {
        "id": "gl86j-iuF7YU"
      },
      "source": [
        "# 면적 그래프 그리기\r\n",
        "df_4.plot(kind='area', stacked=True, alpha=0.2, figsize=(20, 10))\r\n",
        "\r\n",
        "plt.title('서울 -> 타시도 인구 이동', size=30)\r\n",
        "plt.ylabel('이동 인구 수', size=20)\r\n",
        "plt.xlabel('기간', size=20)\r\n",
        "plt.legend(loc='best', fontsize=15)\r\n",
        "\r\n",
        "plt.show()"
      ],
      "execution_count": null,
      "outputs": []
    },
    {
      "cell_type": "code",
      "metadata": {
        "id": "m2MN8q1jGEbQ"
      },
      "source": [
        "# 면적 그래프 axe 객체 생성\r\n",
        "ax = df_4.plot(kind='area', stacked=True, alpha=0.2, figsize=(20, 10))\r\n",
        "print(type(ax))\r\n",
        "\r\n",
        "# axe 객체 설정 변경\r\n",
        "ax.set_title('서울 -> 타시도 인구 이동', size=30, color='brown', weight='bold')\r\n",
        "ax.set_ylabel('이동 인구 수', size=20, color='blue')\r\n",
        "ax.set_xlabel('기간', size=20, color='skyblue')\r\n",
        "ax.legend(loc='best', fontsize=15)\r\n",
        "\r\n",
        "plt.show()"
      ],
      "execution_count": null,
      "outputs": []
    },
    {
      "cell_type": "code",
      "metadata": {
        "id": "sIiXbbKlGYjY"
      },
      "source": [
        "# 스타일 서식 지정\r\n",
        "plt.style.use('ggplot') \r\n",
        "\r\n",
        "# 막대 그래프 그리기\r\n",
        "df_4.plot(kind='bar', figsize=(20, 10), width=0.7, color=['orange', 'green', 'skyblue', 'blue'])\r\n",
        "\r\n",
        "plt.title('서울 -> 타시도 인구 이동', size=30)\r\n",
        "plt.ylabel('이동 인구 수', size=20)\r\n",
        "plt.xlabel('기간', size=20)\r\n",
        "plt.ylim(5000, 60000)\r\n",
        "plt.legend(loc='best', fontsize=15)\r\n",
        "\r\n",
        "plt.show()"
      ],
      "execution_count": null,
      "outputs": []
    },
    {
      "cell_type": "code",
      "metadata": {
        "id": "DWCIFxODGzkK"
      },
      "source": [
        "df_5 = df_seoul.loc[['충청남도','경상북도', '강원도', '전라남도'], col_years[-8:]]\r\n",
        "df_5 = df_5.T\r\n",
        "df_5"
      ],
      "execution_count": null,
      "outputs": []
    },
    {
      "cell_type": "code",
      "metadata": {
        "id": "08vdZ50XHDPa"
      },
      "source": [
        "# 스타일 서식 지정\r\n",
        "plt.style.use('ggplot') \r\n",
        "\r\n",
        "# 막대 그래프 그리기\r\n",
        "df_5.plot(kind='bar', figsize=(20, 10), width=0.7, color=['#ddb6f2', 'green', 'skyblue', '#abf28a'])\r\n",
        "\r\n",
        "plt.title('서울 -> 타시도 인구 이동', size=30)\r\n",
        "plt.ylabel('이동 인구 수', size=20)\r\n",
        "plt.xlabel('기간', size=20)\r\n",
        "plt.ylim(5000, 65000)\r\n",
        "plt.legend(loc='best', fontsize=15)\r\n",
        "\r\n",
        "plt.show()"
      ],
      "execution_count": null,
      "outputs": []
    },
    {
      "cell_type": "code",
      "metadata": {
        "id": "N7tbqgMOHe2X"
      },
      "source": [
        "# 2010-2017년 이동 인구 수를 합계하여 새로운 열로 추가\r\n",
        "df_5['합계'] = df_5.sum(axis=1)\r\n",
        "df_5"
      ],
      "execution_count": null,
      "outputs": []
    },
    {
      "cell_type": "code",
      "metadata": {
        "id": "gDTta57_I9L4"
      },
      "source": [
        "# 가장 큰 값부터 정렬\r\n",
        "df_total = df_5[['합계']].sort_values(by='합계', ascending=True)\r\n",
        "\r\n",
        "# 스타일 서식 지정\r\n",
        "plt.style.use('ggplot') \r\n",
        "\r\n",
        "# 수평 막대 그래프 그리기\r\n",
        "df_total.plot(kind='barh', color='#00ff1e', width=0.5, figsize=(10, 5))\r\n",
        "\r\n",
        "plt.title('서울 -> 타시도 인구 이동')\r\n",
        "plt.ylabel('전입지')\r\n",
        "plt.xlabel('이동 인구 수')\r\n",
        "\r\n",
        "plt.show()"
      ],
      "execution_count": null,
      "outputs": []
    },
    {
      "cell_type": "code",
      "metadata": {
        "id": "P-753WNWJCJm"
      },
      "source": [
        "# 보조축 2개 그래프\r\n",
        "# Excel 데이터를 데이터프레임 변환 \r\n",
        "# conver_float 옵션 값을 True로 하면, \r\n",
        "# 엑셀에 있는 숫자 데이터를 실수형(float)으로 변환\r\n",
        "df = pd.read_excel('./data/남북한발전전력량.xls', convert_float=True)\r\n",
        "df = df.loc[5:9]\r\n",
        "df.head()"
      ],
      "execution_count": null,
      "outputs": []
    },
    {
      "cell_type": "code",
      "metadata": {
        "id": "mLAGM0XhMXjV"
      },
      "source": [
        "del df['전력량 (억㎾h)']"
      ],
      "execution_count": null,
      "outputs": []
    },
    {
      "cell_type": "code",
      "metadata": {
        "id": "XCAyWoBcNM70"
      },
      "source": [
        "df.set_index('발전 전력별', inplace=True)\r\n",
        "df = df.T\r\n",
        "df.head()"
      ],
      "execution_count": null,
      "outputs": []
    },
    {
      "cell_type": "code",
      "metadata": {
        "id": "uuOaRJF4NUj0"
      },
      "source": [
        "# 증감율(변동률) 계산\r\n",
        "df.rename(columns={'합계':'총발전량'},inplace=True)\r\n",
        "df.head()"
      ],
      "execution_count": null,
      "outputs": []
    },
    {
      "cell_type": "code",
      "metadata": {
        "id": "WLpg0rhkN_IY"
      },
      "source": [
        "df['전년도총발전량'] = df['총발전량'].shift(1)  # 1전체 데이터가 1행 이동\r\n",
        "df.head()"
      ],
      "execution_count": null,
      "outputs": []
    },
    {
      "cell_type": "code",
      "metadata": {
        "id": "8cj0wAE5N8u_"
      },
      "source": [
        "df['증감율'] = ((df['총발전량'] / df['전년도총발전량'])-1) * 100 \r\n",
        "df.head()"
      ],
      "execution_count": null,
      "outputs": []
    },
    {
      "cell_type": "code",
      "metadata": {
        "id": "0w2u7YFcN8yG"
      },
      "source": [
        "ax1 = df[['수력','화력']].plot(kind='bar', figsize=(20, 10), width=0.7, stacked=True)  \r\n",
        "ax2 = ax1.twinx()  # 2중축 홉합형, x축은 공통, y축은 서로 다른 2중 차트\r\n",
        "ax2.plot(df.index, df['증감율'], ls='--', marker='o', markersize=10, color='#00ff1e', label='전년대비 증감율(%)')  \r\n",
        "\r\n",
        "ax1.set_ylim(0, 500)\r\n",
        "ax2.set_ylim(-50, 50)\r\n",
        "\r\n",
        "ax1.set_xlabel('연도', size=20)\r\n",
        "ax1.set_ylabel('발전량(억 KWh)')\r\n",
        "ax2.set_ylabel('전년 대비 증감율(%)')\r\n",
        "\r\n",
        "plt.title('북한 전력 발전량 (1990 ~ 2016)', size=30)\r\n",
        "ax1.legend(loc='upper left')\r\n",
        "\r\n",
        "plt.show()"
      ],
      "execution_count": null,
      "outputs": []
    },
    {
      "cell_type": "code",
      "metadata": {
        "id": "9mBA2ZF2N82h"
      },
      "source": [
        "import pandas as pd\r\n",
        "# 히스토그램\r\n",
        "# read_csv() 함수로 df 생성\r\n",
        "df_auto = pd.read_csv('./data/auto-mpg.csv',header=None)\r\n",
        "# 열 이름을 지정\r\n",
        "df_auto.columns=['연비','실린더 수','배기량','출력','차중', '가속능력','출시년도','제조국','모델명']\r\n",
        "df_auto.head()"
      ],
      "execution_count": null,
      "outputs": []
    },
    {
      "cell_type": "code",
      "metadata": {
        "id": "stRDXfFTQ9jM"
      },
      "source": [
        "import matplotlib.pyplot as plt\r\n",
        "import matplotlib.font_manager as fm\r\n",
        "fontpath = '/usr/share/fonts/truetype/nanum/NanumBarunGothic.ttf'\r\n",
        "font = fm.FontProperties(fname=fontpath, size=9).get_name()\r\n",
        "plt.rc('font', family=font) \r\n",
        "\r\n",
        "plt.style.use('classic')\r\n",
        "\r\n",
        "# 연비 열에 대한 히스토그램 그리기\r\n",
        "df_auto['연비'].plot(kind='hist', bins=10, color='coral', figsize=(10, 5))\r\n",
        "#  bins : 구간을 몆개로 나눌것인가 결정\r\n",
        "\r\n",
        "# 그래프 꾸미기\r\n",
        "plt.title('Histogram')\r\n",
        "plt.xlabel('연비')\r\n",
        "plt.show()"
      ],
      "execution_count": null,
      "outputs": []
    },
    {
      "cell_type": "code",
      "metadata": {
        "id": "Rw0rTDpaRi_K"
      },
      "source": [
        "# 산점도\r\n",
        "# 연비(mpg)와 차중(weight) 열에 대한 산점도 그리기\r\n",
        "plt.style.use('default')\r\n",
        "df_auto.plot(kind='scatter', x='차중', y='연비',  c='coral', s=10, figsize=(10, 5))\r\n",
        "plt.title('Scatter Plot - mpg vs. weight')\r\n",
        "plt.show()"
      ],
      "execution_count": null,
      "outputs": []
    },
    {
      "cell_type": "code",
      "metadata": {
        "id": "FNjBch-_SQhB"
      },
      "source": [
        "cylinders_size = df_auto['실린더 수'] / df_auto['실린더 수'].max() * 300\r\n",
        "cylinders_size"
      ],
      "execution_count": null,
      "outputs": []
    },
    {
      "cell_type": "code",
      "metadata": {
        "id": "_tnjBjn3UeLJ"
      },
      "source": [
        "df_auto['실린더 수'].max()"
      ],
      "execution_count": null,
      "outputs": []
    },
    {
      "cell_type": "code",
      "metadata": {
        "id": "i1zLnSq2Ui8g"
      },
      "source": [
        "# 버블차트\r\n",
        "# cylinders 개수의 상대적 비율을 계산하여 시리즈 생성\r\n",
        "cylinders_size = df_auto['실린더 수'] / df_auto['실린더 수'].max() * 300\r\n",
        "\r\n",
        "plt.style.use('default')\r\n",
        "\r\n",
        "# 3개의 변수로 산점도 그리기 \r\n",
        "df_auto.plot(kind='scatter', x='차중', y='연비', c='coral', figsize=(10, 5), s=cylinders_size, alpha=0.3)\r\n",
        "plt.title('Scatter Plot: mpg-weight-cylinders')\r\n",
        "plt.show()"
      ],
      "execution_count": null,
      "outputs": []
    },
    {
      "cell_type": "code",
      "metadata": {
        "id": "RcT_g3DmUp84"
      },
      "source": [
        "cylinders_size = df_auto['실린더 수'] / df_auto['실린더 수'].max() * 300\r\n",
        "\r\n",
        "# 3개의 변수로 산점도 그리기 \r\n",
        "df_auto.plot(kind='scatter', x='차중', y='연비', marker='o', figsize=(10, 5), cmap='viridis', c=cylinders_size, s=50, alpha=0.3)\r\n",
        "plt.title('Scatter Plot: mpg-weight-cylinders')\r\n",
        "\r\n",
        "plt.savefig(\"./data/scatter.png\")   \r\n",
        "plt.savefig(\"./data/scatter_transparent.png\", transparent=True)   \r\n",
        "\r\n",
        "plt.show()"
      ],
      "execution_count": null,
      "outputs": []
    },
    {
      "cell_type": "code",
      "metadata": {
        "id": "Wn5rssI2Vfar"
      },
      "source": [
        "df_auto.head()"
      ],
      "execution_count": null,
      "outputs": []
    },
    {
      "cell_type": "code",
      "metadata": {
        "id": "ECgcsPwJZDWf"
      },
      "source": [
        "df_auto['count'] = 1\r\n",
        "df_auto.tail()"
      ],
      "execution_count": null,
      "outputs": []
    },
    {
      "cell_type": "code",
      "metadata": {
        "id": "IjJjhcyHZGxt"
      },
      "source": [
        "df_origin = df_auto.groupby('제조국').sum()   # origin 열을 기준으로 그룹화, 합계 연산\r\n",
        "df_origin.head()"
      ],
      "execution_count": null,
      "outputs": []
    },
    {
      "cell_type": "code",
      "metadata": {
        "id": "n-DQOVayaGni"
      },
      "source": [
        "# 제조국가(origin) 값을 실제 지역명으로 변경\r\n",
        "df_origin.index = ['USA', 'EU', 'JAPAN']\r\n",
        "df_origin"
      ],
      "execution_count": null,
      "outputs": []
    },
    {
      "cell_type": "code",
      "metadata": {
        "id": "6dgxm413ZePu"
      },
      "source": [
        "# 파이 그래프\r\n",
        "# 데이터 개수 카운트를 위해 값 1을 가진 열을 추가\r\n",
        "df_auto['count'] = 1\r\n",
        "df_origin = df_auto.groupby('제조국').sum()   # origin 열을 기준으로 그룹화, 합계 연산\r\n",
        "print(df_origin.head())                  # 그룹 연산 결과 출력\r\n",
        "\r\n",
        "# 제조국가(origin) 값을 실제 지역명으로 변경\r\n",
        "df_origin.index = ['USA', 'EU', 'JAPAN']\r\n",
        "\r\n",
        "# 제조국가(origin) 열에 대한 파이 차트 그리기 – count 열 데이터 사용\r\n",
        "df_origin['count'].plot(kind='pie', figsize=(7, 5),\r\n",
        "                     autopct='%.1f%%',   # 퍼센트 % 표시\r\n",
        "                     explode=(0,0.2,0),\r\n",
        "                     startangle=90,       # 파이 조각을 나누는 시작점(각도 표시)\r\n",
        "                     colors=['chocolate', 'bisque', 'cadetblue'],   # 색상 리스트\r\n",
        "                     shadow=True\r\n",
        "                     )\r\n",
        "\r\n",
        "plt.title('Model Origin', size=20)\r\n",
        "plt.axis('equal')    # 파이 차트의 비율을 같게 (원에 가깝게) 조정\r\n",
        "plt.legend(labels=df_origin.index, loc='upper right')   # 범례 표시\r\n",
        "plt.show()"
      ],
      "execution_count": null,
      "outputs": []
    },
    {
      "cell_type": "code",
      "metadata": {
        "id": "zZfKrGnYa5kQ"
      },
      "source": [
        "# 박스그래프\r\n",
        "# 그래프 객체 생성 (figure에 2개의 서브 플롯을 생성)\r\n",
        "fig = plt.figure(figsize=(15, 5))   \r\n",
        "ax1 = fig.add_subplot(1, 2, 1)\r\n",
        "ax2 = fig.add_subplot(1, 2, 2)\r\n",
        "\r\n",
        "# axe 객체에 boxplot 메서드로 그래프 출력\r\n",
        "ax1.boxplot(x=[df_auto[df_auto['제조국']==1]['연비'],\r\n",
        "               df_auto[df_auto['제조국']==2]['연비'],\r\n",
        "               df_auto[df_auto['제조국']==3]['연비']], \r\n",
        "         labels=['USA', 'EU', 'JAPAN'],\r\n",
        "         vert=True)\r\n",
        "\r\n",
        "ax2.boxplot(x=[df_auto[df_auto['제조국']==1]['연비'],\r\n",
        "               df_auto[df_auto['제조국']==2]['연비'],\r\n",
        "               df_auto[df_auto['제조국']==3]['연비']], \r\n",
        "         labels=['USA', 'EU', 'JAPAN'],\r\n",
        "         vert=False)\r\n",
        "\r\n",
        "ax1.set_title('제조국가별 연비 분포(수직 박스 플롯)')\r\n",
        "ax2.set_title('제조국가별 연비 분포(수평 박스 플롯)')\r\n",
        "\r\n",
        "plt.show()"
      ],
      "execution_count": null,
      "outputs": []
    },
    {
      "cell_type": "code",
      "metadata": {
        "id": "FPFZALVhdJG0"
      },
      "source": [
        ""
      ],
      "execution_count": null,
      "outputs": []
    }
  ]
}